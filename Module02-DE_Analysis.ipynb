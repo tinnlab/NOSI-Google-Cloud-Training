{
 "cells": [
  {
   "cell_type": "markdown",
   "id": "f380fb8f-dc93-414c-b815-6ace422d7f90",
   "metadata": {
    "tags": []
   },
   "source": [
    "#   Differential gene expression analysis\n",
    "\n",
    "![](./images/Module2/DE_pipeline.jpg)\n",
    "\n",
    "The next step in the pathway analysis workflow is differential expression (DE)  analysis. The goal of DE testing is to determine which genes are expressed at different levels between two or more biological conditions. These genes can offer biological insight into the processes affected by the condition(s) of interest. DE analysis means taking the normalized read count data and performing statistical analysis to discover quantitative changes in expression levels between experimental groups. For example, we use statistical testing to decide whether, for a given gene, an observed difference in read counts is significant: that is, whether it is greater than what would be expected just due to natural random variation. This learning submodule demonstrates a computational workflow for the detection of DE genes from RNA-Seq data.\n",
    "\n",
    "## Learning Objectives:\n",
    "1. Assign samples into groups and set up design matrix.\n",
    "2. Perform differential expression (DE) analysis using `limma`, `t-test`, `edgeR` and `DEseq` R packages.\n",
    "3. Filter and export the results table.\n",
    "4. Further visualization"
   ]
  },
  {
   "cell_type": "markdown",
   "id": "71672fd7",
   "metadata": {},
   "source": [
    "## Loading the dataset.\n",
    "In this section we will perform differential expression (DE) analysis to analyze the `GSE48350` dataset that we have used in the previous submodule.\n",
    "Recall from the [**GEO Data processing** ](./Module01-GEO_Data_Processing.ipynb) section, `GSE48350` contains\n",
    "sequenced data of Human Alzheimer's Disease using microarray sequencing technology collected from 4 brain regions.\n",
    "We have already created two groups: *disease* and *control* from the Entorhinal Cortex region. First, we need to load the data that has been saved from submodule 1."
   ]
  },
  {
   "cell_type": "code",
   "execution_count": 1,
   "id": "d029ce5f",
   "metadata": {
    "pycharm": {
     "is_executing": true
    }
   },
   "outputs": [],
   "source": [
    "# Loading data from the rds file\n",
    "data <- readRDS(\"./data/GSE48350.rds\")\n",
    "expression_data <- data$expression_data\n",
    "norm_expression_data <- data$norm_expression_data\n",
    "groups <- data$groups"
   ]
  },
  {
   "cell_type": "markdown",
   "id": "7a338420",
   "metadata": {},
   "source": [
    "Now we have all the data needed to perform DE analysis. We will be using 4 different methods to test differential expression: `limma`, t-tests, `edgeR`, and `DESeq2`."
   ]
  },
  {
   "cell_type": "markdown",
   "id": "98a0bc3a",
   "metadata": {},
   "source": [
    "## DE analysis and visualization using limma.\n",
    "By far, the most-popular package for performing differential expression is `limma`. This packages uses gene-wise linear models and empirical Bayesian statistical methods to calculate differential expression. First we need to install and load the `limma` R package from Bioconductor using\n",
    "the following command."
   ]
  },
  {
   "cell_type": "code",
   "execution_count": 2,
   "id": "fe4e6c03",
   "metadata": {},
   "outputs": [],
   "source": [
    "suppressMessages({if (!require(\"BiocManager\", quietly = TRUE))\n",
    "    suppressWarnings(install.packages(\"BiocManager\"))\n",
    "  suppressWarnings(BiocManager::install(\"limma\", update = T))\n",
    "})"
   ]
  },
  {
   "cell_type": "code",
   "execution_count": 3,
   "id": "2802d811",
   "metadata": {},
   "outputs": [],
   "source": [
    "suppressPackageStartupMessages({\n",
    "  library(\"limma\")\n",
    "})"
   ]
  },
  {
   "cell_type": "markdown",
   "id": "524bc78f",
   "metadata": {},
   "source": [
    "The first step of DE analysis using `limma` is to separate the samples in our dataset to the sample groups of interest. A useful function is `model.matrix`, which will create a design matrix of *0* and *1s*; one row for each sample and one column for each sample group. A *1* in a particular row and column indicates that a given sample (the row) belongs to a given group (column)."
   ]
  },
  {
   "cell_type": "code",
   "execution_count": 4,
   "id": "e9175e41",
   "metadata": {},
   "outputs": [
    {
     "ename": "ERROR",
     "evalue": "Error in `contrasts<-`(`*tmp*`, value = contr.funs[1 + isOF[nn]]): contrasts can be applied only to factors with 2 or more levels\n",
     "output_type": "error",
     "traceback": [
      "Error in `contrasts<-`(`*tmp*`, value = contr.funs[1 + isOF[nn]]): contrasts can be applied only to factors with 2 or more levels\nTraceback:\n",
      "1. model.matrix(~0 + groups)",
      "2. model.matrix.default(~0 + groups)",
      "3. `contrasts<-`(`*tmp*`, value = contr.funs[1 + isOF[nn]])",
      "4. stop(\"contrasts can be applied only to factors with 2 or more levels\")"
     ]
    }
   ],
   "source": [
    "groups <- factor(groups$groups)\n",
    "# Create design matrix with no intercept\n",
    "design <- model.matrix(~0 + groups)\n",
    "colnames(design) <- levels(groups)\n",
    "head(design)"
   ]
  },
  {
   "cell_type": "markdown",
   "id": "c9674190",
   "metadata": {},
   "source": [
    "The `lmFit` function is used to fit the model to the data. The result of which is to estimate the expression level in each of the groups that we specified."
   ]
  },
  {
   "cell_type": "code",
   "execution_count": 5,
   "id": "ea94fd18",
   "metadata": {},
   "outputs": [
    {
     "ename": "ERROR",
     "evalue": "Error: data object is NULL\n",
     "output_type": "error",
     "traceback": [
      "Error: data object is NULL\nTraceback:\n",
      "1. lmFit(norm_expression_data, design)",
      "2. getEAWP(object)",
      "3. stop(\"data object is NULL\", call. = FALSE)"
     ]
    }
   ],
   "source": [
    "fit <- lmFit(norm_expression_data, design)  # fit linear model"
   ]
  },
  {
   "cell_type": "markdown",
   "id": "81e29320",
   "metadata": {},
   "source": [
    "In order to perform the *differential analysis*, we have to define the contrast that we are interested in. In our case we only have two groups and one contrast of interest. Multiple contrasts can be defined in the `makeContrasts` function."
   ]
  },
  {
   "cell_type": "code",
   "execution_count": 6,
   "id": "843409fb",
   "metadata": {},
   "outputs": [
    {
     "ename": "ERROR",
     "evalue": "Error in is.factor(levels): object 'design' not found\n",
     "output_type": "error",
     "traceback": [
      "Error in is.factor(levels): object 'design' not found\nTraceback:\n",
      "1. makeContrasts(contrasts = cts, levels = design)",
      "2. is.factor(levels)"
     ]
    }
   ],
   "source": [
    "# set up contrasts of interest and recalculate model coefficients\n",
    "cts <- paste(\"c\", \"d\", sep=\"-\")\n",
    "cont.matrix <- makeContrasts(contrasts=cts, levels=design)\n",
    "cont.matrix"
   ]
  },
  {
   "cell_type": "markdown",
   "id": "8b75f12b",
   "metadata": {},
   "source": [
    "Fit the contrast matrix:"
   ]
  },
  {
   "cell_type": "code",
   "execution_count": null,
   "id": "4465088b",
   "metadata": {},
   "outputs": [],
   "source": [
    "fit2 <- contrasts.fit(fit, cont.matrix)"
   ]
  },
  {
   "cell_type": "markdown",
   "id": "a3b00e33",
   "metadata": {},
   "source": [
    "Finally, apply the *empirical Bayes’* step to get our differential expression statistics and p-values:"
   ]
  },
  {
   "cell_type": "code",
   "execution_count": null,
   "id": "4b0ed961",
   "metadata": {},
   "outputs": [],
   "source": [
    "# compute statistics and table of top significant genes\n",
    "fit2 <- eBayes(fit2, 0.01)"
   ]
  },
  {
   "cell_type": "markdown",
   "id": "dafe866a",
   "metadata": {},
   "source": [
    "To see the number of significantly up- and down-regulated genes, we can use the code below to generate the summary table."
   ]
  },
  {
   "cell_type": "code",
   "execution_count": null,
   "id": "b8b3df76",
   "metadata": {},
   "outputs": [],
   "source": [
    "dt <- decideTests(fit2,p.value=0.05)\n",
    "summary(dt)"
   ]
  },
  {
   "cell_type": "markdown",
   "id": "6f11300d",
   "metadata": {},
   "source": [
    "Here, significance is defined using an adjusted p-value cutoff that is set at 5% by default. For the comparison between expression levels in *“disease”* (d) and *“control”* (c), 293 genes are found to be down-regulated and 489 genes are up-regulated. We also can extract a table of the top-ranked genes from a linear model fit using `topTable` function. By default, `topTable` arranges genes from smallest to largest adjusted p-value with associated gene information, log-FC, average log-CPM, moderated t-statistic, raw and adjusted p-value for each gene. The number of top genes displayed can be specified, where `number=Inf` includes all genes."
   ]
  },
  {
   "cell_type": "code",
   "execution_count": null,
   "id": "17fa5204",
   "metadata": {},
   "outputs": [],
   "source": [
    "top_genes <- topTable(fit2, adjust=\"fdr\", sort.by=\"B\", number=Inf)"
   ]
  },
  {
   "cell_type": "code",
   "execution_count": null,
   "id": "a25af71f",
   "metadata": {},
   "outputs": [],
   "source": [
    "head(top_genes)"
   ]
  },
  {
   "cell_type": "markdown",
   "id": "61e4229b",
   "metadata": {},
   "source": [
    "In order to perform pathway and enrichment analyses, we only focus on the genes that are statistically significant and the probe IDs that have gene symbols. We can select those genes using the following command:"
   ]
  },
  {
   "cell_type": "code",
   "execution_count": null,
   "id": "8cb7805e",
   "metadata": {},
   "outputs": [],
   "source": [
    "DE_Gene <- top_genes[which(top_genes$adj.P.Val<0.05),]\n",
    "head(DE_Gene)"
   ]
  },
  {
   "cell_type": "markdown",
   "id": "d92ff94a",
   "metadata": {},
   "source": [
    "Now, we can use the following script to save the DE analysis result to use in the later submodules.\n"
   ]
  },
  {
   "cell_type": "code",
   "execution_count": 15,
   "id": "a36d3aac",
   "metadata": {},
   "outputs": [],
   "source": [
    "# Add one column to store the probe IDs\n",
    "top_genes <- tibble::rownames_to_column(top_genes,\"PROBEID\")\n",
    "saveRDS(top_genes, file=\"./data/DE_genes.rds\")"
   ]
  },
  {
   "cell_type": "markdown",
   "id": "92eb0dd6",
   "metadata": {},
   "source": [
    "```{admonition} Saving data to the Google Cloud Bucket\n",
    "gsutil cp ./data/DE_genes.rds gs://cpa-output\n",
    "```"
   ]
  },
  {
   "cell_type": "markdown",
   "id": "198055d2",
   "metadata": {},
   "source": [
    "## DE analysis using t-test\n",
    "A t-test is a simple way to perform DE analysis. This method aims at comparing the means of expression values of two groups for each gene. It is often used in hypothesis testing to determine whether two groups (control versus disease) are different from one another. We can use `row_t_equalvar` available in the `matrixTests` package to perform t-test between the two groups for each gene. Below is the code to install the necessary packages:"
   ]
  },
  {
   "cell_type": "code",
   "execution_count": 21,
   "id": "7eaa2d7c",
   "metadata": {},
   "outputs": [],
   "source": [
    "suppressMessages({\n",
    "  suppressWarnings(install.packages(\"matrixTests\",quiet= T))\n",
    "})\n",
    "# Load matrixTests package\n",
    "suppressPackageStartupMessages({library(\"matrixTests\")})"
   ]
  },
  {
   "cell_type": "markdown",
   "id": "67dd7f16",
   "metadata": {},
   "source": [
    "First we need to create two different expression matrices belong to two groups."
   ]
  },
  {
   "cell_type": "code",
   "execution_count": 22,
   "id": "31cb6cce",
   "metadata": {},
   "outputs": [],
   "source": [
    "# Assign expression matrix to the count\n",
    "count <- expression_data\n",
    "# Divide the count matrix into two separate matrices X and Y. X is control group and Y is the disease group\n",
    "X <- count[,groups==\"c\"]\n",
    "Y <- count[,groups==\"d\"]"
   ]
  },
  {
   "cell_type": "code",
   "execution_count": 23,
   "id": "84f0805b",
   "metadata": {},
   "outputs": [],
   "source": [
    "# Perform t-test\n",
    "res <- row_t_equalvar(X,Y,alternative = \"two.sided\", mu = 0, conf.level = 0.95)"
   ]
  },
  {
   "cell_type": "markdown",
   "id": "58b8a484",
   "metadata": {},
   "source": [
    "The output is a table where rows are genes and columns are statistical information of the test. In DE analysis, we only care for the genes that are significantly different. Therefore, we will rank the genes based on *p-value* and remove insignificant genes."
   ]
  },
  {
   "cell_type": "code",
   "execution_count": 24,
   "id": "d453b2b8",
   "metadata": {},
   "outputs": [
    {
     "data": {
      "text/html": [
       "<table class=\"dataframe\">\n",
       "<caption>A data.frame: 6 × 18</caption>\n",
       "<thead>\n",
       "\t<tr><th></th><th scope=col>obs.x</th><th scope=col>obs.y</th><th scope=col>obs.tot</th><th scope=col>mean.x</th><th scope=col>mean.y</th><th scope=col>mean.diff</th><th scope=col>var.x</th><th scope=col>var.y</th><th scope=col>var.pooled</th><th scope=col>stderr</th><th scope=col>df</th><th scope=col>statistic</th><th scope=col>pvalue</th><th scope=col>conf.low</th><th scope=col>conf.high</th><th scope=col>alternative</th><th scope=col>mean.null</th><th scope=col>conf.level</th></tr>\n",
       "\t<tr><th></th><th scope=col>&lt;int&gt;</th><th scope=col>&lt;int&gt;</th><th scope=col>&lt;int&gt;</th><th scope=col>&lt;dbl&gt;</th><th scope=col>&lt;dbl&gt;</th><th scope=col>&lt;dbl&gt;</th><th scope=col>&lt;dbl&gt;</th><th scope=col>&lt;dbl&gt;</th><th scope=col>&lt;dbl&gt;</th><th scope=col>&lt;dbl&gt;</th><th scope=col>&lt;dbl&gt;</th><th scope=col>&lt;dbl&gt;</th><th scope=col>&lt;dbl&gt;</th><th scope=col>&lt;dbl&gt;</th><th scope=col>&lt;dbl&gt;</th><th scope=col>&lt;chr&gt;</th><th scope=col>&lt;dbl&gt;</th><th scope=col>&lt;dbl&gt;</th></tr>\n",
       "</thead>\n",
       "<tbody>\n",
       "\t<tr><th scope=row>222178_s_at</th><td>39</td><td>15</td><td>54</td><td>0.1819268</td><td>0.6117714</td><td>-0.4298446</td><td>9.737616e-05</td><td>0.0006820712</td><td>0.0002547941</td><td>0.004849686</td><td>52</td><td>-88.63350</td><td>2.040469e-58</td><td>-0.4395762</td><td>-0.4201130</td><td>two.sided</td><td>0</td><td>0.95</td></tr>\n",
       "\t<tr><th scope=row>207488_at</th><td>39</td><td>15</td><td>54</td><td>0.4270298</td><td>0.8854517</td><td>-0.4584219</td><td>9.008167e-04</td><td>0.0023830695</td><td>0.0012998848</td><td>0.010953966</td><td>52</td><td>-41.84985</td><td>1.012965e-41</td><td>-0.4804026</td><td>-0.4364411</td><td>two.sided</td><td>0</td><td>0.95</td></tr>\n",
       "\t<tr><th scope=row>234109_x_at</th><td>39</td><td>15</td><td>54</td><td>0.6103878</td><td>0.8874354</td><td>-0.2770476</td><td>6.857523e-04</td><td>0.0012171635</td><td>0.0008288245</td><td>0.008746821</td><td>52</td><td>-31.67409</td><td>1.151538e-35</td><td>-0.2945994</td><td>-0.2594958</td><td>two.sided</td><td>0</td><td>0.95</td></tr>\n",
       "\t<tr><th scope=row>239226_at</th><td>39</td><td>15</td><td>54</td><td>1.7324948</td><td>1.0013784</td><td> 0.7311164</td><td>1.243088e-02</td><td>0.0014187732</td><td>0.0094660800</td><td>0.029559973</td><td>52</td><td> 24.73332</td><td>2.009417e-30</td><td> 0.6718000</td><td> 0.7904328</td><td>two.sided</td><td>0</td><td>0.95</td></tr>\n",
       "\t<tr><th scope=row>216530_at</th><td>39</td><td>15</td><td>54</td><td>0.8361470</td><td>0.5620650</td><td> 0.2740821</td><td>1.299243e-03</td><td>0.0021199336</td><td>0.0015201978</td><td>0.011845926</td><td>52</td><td> 23.13724</td><td>4.856399e-29</td><td> 0.2503115</td><td> 0.2978526</td><td>two.sided</td><td>0</td><td>0.95</td></tr>\n",
       "\t<tr><th scope=row>216490_x_at</th><td>39</td><td>15</td><td>54</td><td>1.0243812</td><td>0.4847202</td><td> 0.5396610</td><td>8.683469e-03</td><td>0.0025726176</td><td>0.0070382400</td><td>0.025488894</td><td>52</td><td> 21.17240</td><td>3.173331e-27</td><td> 0.4885138</td><td> 0.5908082</td><td>two.sided</td><td>0</td><td>0.95</td></tr>\n",
       "</tbody>\n",
       "</table>\n"
      ],
      "text/latex": [
       "A data.frame: 6 × 18\n",
       "\\begin{tabular}{r|llllllllllllllllll}\n",
       "  & obs.x & obs.y & obs.tot & mean.x & mean.y & mean.diff & var.x & var.y & var.pooled & stderr & df & statistic & pvalue & conf.low & conf.high & alternative & mean.null & conf.level\\\\\n",
       "  & <int> & <int> & <int> & <dbl> & <dbl> & <dbl> & <dbl> & <dbl> & <dbl> & <dbl> & <dbl> & <dbl> & <dbl> & <dbl> & <dbl> & <chr> & <dbl> & <dbl>\\\\\n",
       "\\hline\n",
       "\t222178\\_s\\_at & 39 & 15 & 54 & 0.1819268 & 0.6117714 & -0.4298446 & 9.737616e-05 & 0.0006820712 & 0.0002547941 & 0.004849686 & 52 & -88.63350 & 2.040469e-58 & -0.4395762 & -0.4201130 & two.sided & 0 & 0.95\\\\\n",
       "\t207488\\_at & 39 & 15 & 54 & 0.4270298 & 0.8854517 & -0.4584219 & 9.008167e-04 & 0.0023830695 & 0.0012998848 & 0.010953966 & 52 & -41.84985 & 1.012965e-41 & -0.4804026 & -0.4364411 & two.sided & 0 & 0.95\\\\\n",
       "\t234109\\_x\\_at & 39 & 15 & 54 & 0.6103878 & 0.8874354 & -0.2770476 & 6.857523e-04 & 0.0012171635 & 0.0008288245 & 0.008746821 & 52 & -31.67409 & 1.151538e-35 & -0.2945994 & -0.2594958 & two.sided & 0 & 0.95\\\\\n",
       "\t239226\\_at & 39 & 15 & 54 & 1.7324948 & 1.0013784 &  0.7311164 & 1.243088e-02 & 0.0014187732 & 0.0094660800 & 0.029559973 & 52 &  24.73332 & 2.009417e-30 &  0.6718000 &  0.7904328 & two.sided & 0 & 0.95\\\\\n",
       "\t216530\\_at & 39 & 15 & 54 & 0.8361470 & 0.5620650 &  0.2740821 & 1.299243e-03 & 0.0021199336 & 0.0015201978 & 0.011845926 & 52 &  23.13724 & 4.856399e-29 &  0.2503115 &  0.2978526 & two.sided & 0 & 0.95\\\\\n",
       "\t216490\\_x\\_at & 39 & 15 & 54 & 1.0243812 & 0.4847202 &  0.5396610 & 8.683469e-03 & 0.0025726176 & 0.0070382400 & 0.025488894 & 52 &  21.17240 & 3.173331e-27 &  0.4885138 &  0.5908082 & two.sided & 0 & 0.95\\\\\n",
       "\\end{tabular}\n"
      ],
      "text/markdown": [
       "\n",
       "A data.frame: 6 × 18\n",
       "\n",
       "| <!--/--> | obs.x &lt;int&gt; | obs.y &lt;int&gt; | obs.tot &lt;int&gt; | mean.x &lt;dbl&gt; | mean.y &lt;dbl&gt; | mean.diff &lt;dbl&gt; | var.x &lt;dbl&gt; | var.y &lt;dbl&gt; | var.pooled &lt;dbl&gt; | stderr &lt;dbl&gt; | df &lt;dbl&gt; | statistic &lt;dbl&gt; | pvalue &lt;dbl&gt; | conf.low &lt;dbl&gt; | conf.high &lt;dbl&gt; | alternative &lt;chr&gt; | mean.null &lt;dbl&gt; | conf.level &lt;dbl&gt; |\n",
       "|---|---|---|---|---|---|---|---|---|---|---|---|---|---|---|---|---|---|---|\n",
       "| 222178_s_at | 39 | 15 | 54 | 0.1819268 | 0.6117714 | -0.4298446 | 9.737616e-05 | 0.0006820712 | 0.0002547941 | 0.004849686 | 52 | -88.63350 | 2.040469e-58 | -0.4395762 | -0.4201130 | two.sided | 0 | 0.95 |\n",
       "| 207488_at | 39 | 15 | 54 | 0.4270298 | 0.8854517 | -0.4584219 | 9.008167e-04 | 0.0023830695 | 0.0012998848 | 0.010953966 | 52 | -41.84985 | 1.012965e-41 | -0.4804026 | -0.4364411 | two.sided | 0 | 0.95 |\n",
       "| 234109_x_at | 39 | 15 | 54 | 0.6103878 | 0.8874354 | -0.2770476 | 6.857523e-04 | 0.0012171635 | 0.0008288245 | 0.008746821 | 52 | -31.67409 | 1.151538e-35 | -0.2945994 | -0.2594958 | two.sided | 0 | 0.95 |\n",
       "| 239226_at | 39 | 15 | 54 | 1.7324948 | 1.0013784 |  0.7311164 | 1.243088e-02 | 0.0014187732 | 0.0094660800 | 0.029559973 | 52 |  24.73332 | 2.009417e-30 |  0.6718000 |  0.7904328 | two.sided | 0 | 0.95 |\n",
       "| 216530_at | 39 | 15 | 54 | 0.8361470 | 0.5620650 |  0.2740821 | 1.299243e-03 | 0.0021199336 | 0.0015201978 | 0.011845926 | 52 |  23.13724 | 4.856399e-29 |  0.2503115 |  0.2978526 | two.sided | 0 | 0.95 |\n",
       "| 216490_x_at | 39 | 15 | 54 | 1.0243812 | 0.4847202 |  0.5396610 | 8.683469e-03 | 0.0025726176 | 0.0070382400 | 0.025488894 | 52 |  21.17240 | 3.173331e-27 |  0.4885138 |  0.5908082 | two.sided | 0 | 0.95 |\n",
       "\n"
      ],
      "text/plain": [
       "            obs.x obs.y obs.tot mean.x    mean.y    mean.diff  var.x       \n",
       "222178_s_at 39    15    54      0.1819268 0.6117714 -0.4298446 9.737616e-05\n",
       "207488_at   39    15    54      0.4270298 0.8854517 -0.4584219 9.008167e-04\n",
       "234109_x_at 39    15    54      0.6103878 0.8874354 -0.2770476 6.857523e-04\n",
       "239226_at   39    15    54      1.7324948 1.0013784  0.7311164 1.243088e-02\n",
       "216530_at   39    15    54      0.8361470 0.5620650  0.2740821 1.299243e-03\n",
       "216490_x_at 39    15    54      1.0243812 0.4847202  0.5396610 8.683469e-03\n",
       "            var.y        var.pooled   stderr      df statistic pvalue      \n",
       "222178_s_at 0.0006820712 0.0002547941 0.004849686 52 -88.63350 2.040469e-58\n",
       "207488_at   0.0023830695 0.0012998848 0.010953966 52 -41.84985 1.012965e-41\n",
       "234109_x_at 0.0012171635 0.0008288245 0.008746821 52 -31.67409 1.151538e-35\n",
       "239226_at   0.0014187732 0.0094660800 0.029559973 52  24.73332 2.009417e-30\n",
       "216530_at   0.0021199336 0.0015201978 0.011845926 52  23.13724 4.856399e-29\n",
       "216490_x_at 0.0025726176 0.0070382400 0.025488894 52  21.17240 3.173331e-27\n",
       "            conf.low   conf.high  alternative mean.null conf.level\n",
       "222178_s_at -0.4395762 -0.4201130 two.sided   0         0.95      \n",
       "207488_at   -0.4804026 -0.4364411 two.sided   0         0.95      \n",
       "234109_x_at -0.2945994 -0.2594958 two.sided   0         0.95      \n",
       "239226_at    0.6718000  0.7904328 two.sided   0         0.95      \n",
       "216530_at    0.2503115  0.2978526 two.sided   0         0.95      \n",
       "216490_x_at  0.4885138  0.5908082 two.sided   0         0.95      "
      ]
     },
     "metadata": {},
     "output_type": "display_data"
    }
   ],
   "source": [
    "# Order the results based on the p-value\n",
    "res <- res[order(res$pvalue),]\n",
    "# Remove insignificant genes\n",
    "res <- res[res$pvalue<0.05,]\n",
    "# Show the result of top genes\n",
    "head(res)"
   ]
  },
  {
   "cell_type": "markdown",
   "id": "14109c8b",
   "metadata": {},
   "source": [
    "To see how many genes left, we can use the following command"
   ]
  },
  {
   "cell_type": "code",
   "execution_count": 18,
   "id": "431c9568",
   "metadata": {},
   "outputs": [
    {
     "data": {
      "text/html": [
       "<style>\n",
       ".list-inline {list-style: none; margin:0; padding: 0}\n",
       ".list-inline>li {display: inline-block}\n",
       ".list-inline>li:not(:last-child)::after {content: \"\\00b7\"; padding: 0 .5ex}\n",
       "</style>\n",
       "<ol class=list-inline><li>9286</li><li>18</li></ol>\n"
      ],
      "text/latex": [
       "\\begin{enumerate*}\n",
       "\\item 9286\n",
       "\\item 18\n",
       "\\end{enumerate*}\n"
      ],
      "text/markdown": [
       "1. 9286\n",
       "2. 18\n",
       "\n",
       "\n"
      ],
      "text/plain": [
       "[1] 9286   18"
      ]
     },
     "metadata": {},
     "output_type": "display_data"
    }
   ],
   "source": [
    "dim(res)"
   ]
  },
  {
   "cell_type": "code",
   "execution_count": 25,
   "id": "c1be0aeb",
   "metadata": {},
   "outputs": [],
   "source": [
    "# Saving the result to local folder\n",
    "write.csv(res, file=\"./data/t-Test_Results.csv\")\n",
    "saveRDS(res, file=\"./data/t-Test_Results.rds\")"
   ]
  },
  {
   "cell_type": "markdown",
   "id": "008552cc",
   "metadata": {},
   "source": [
    "```{admonition} Saving data to the Google Cloud Bucket\n",
    "gsutil cp ./data/t-Test_Results.csv gs://cpa-output\n",
    "\n",
    "\n",
    "gsutil cp ./data/t-Test_Results.rds gs://cpa-output\n",
    "```"
   ]
  },
  {
   "cell_type": "markdown",
   "id": "b9ee0bdb",
   "metadata": {},
   "source": [
    "## DE analysis using edgeR\n",
    "\n",
    "`edgeR` also uses an empirical Bayes model similar to `limma`. However, instead of using gene-wise linear models, `edgeR` uses an overdispersed Poisson model before implementing the Bayes model to calculate significant differential expression. Many `edgeR` functions are similar to `limma`. "
   ]
  },
  {
   "cell_type": "code",
   "execution_count": 26,
   "id": "f4322d97",
   "metadata": {},
   "outputs": [
    {
     "name": "stdout",
     "output_type": "stream",
     "text": [
      "\n",
      "The downloaded binary packages are in\n",
      "\t/var/folders/xf/v88ngt8s37b5qqxtsz3hwyhm0000gn/T//Rtmp4FdRNF/downloaded_packages\n"
     ]
    }
   ],
   "source": [
    "# Install edgeR package from Bioconductor\n",
    "suppressMessages({ if (!require(\"BiocManager\", quietly = TRUE))\n",
    "  install.packages(\"BiocManager\")\n",
    "  suppressWarnings(BiocManager::install(\"edgeR\", update = F))\n",
    "})"
   ]
  },
  {
   "cell_type": "code",
   "execution_count": 27,
   "id": "5de8b6a9",
   "metadata": {},
   "outputs": [],
   "source": [
    "# Load edgeR package\n",
    "suppressPackageStartupMessages({library(\"edgeR\")})"
   ]
  },
  {
   "cell_type": "code",
   "execution_count": 28,
   "id": "7d70782a",
   "metadata": {},
   "outputs": [],
   "source": [
    "# Assigning expression matrix to count\n",
    "count <- expression_data"
   ]
  },
  {
   "cell_type": "code",
   "execution_count": 29,
   "id": "0073fef1",
   "metadata": {},
   "outputs": [
    {
     "name": "stderr",
     "output_type": "stream",
     "text": [
      "Using classic mode.\n",
      "\n"
     ]
    }
   ],
   "source": [
    "# Perform DE analysis using DGEList function\n",
    "dge <- DGEList(counts = count, group = factor(groups))\n",
    "# Calculating the normalize factor\n",
    "dge <- calcNormFactors(object = dge)\n",
    "dge <- estimateDisp(y = dge)\n",
    "# Perform Fisher-exact test\n",
    "et <- exactTest(object = dge)\n",
    "# Getting top DE genes\n",
    "top_degs = topTags(object = et, n = \"Inf\")"
   ]
  },
  {
   "cell_type": "code",
   "execution_count": 30,
   "id": "f1d513dd",
   "metadata": {},
   "outputs": [
    {
     "data": {
      "text/html": [
       "<table class=\"dataframe\">\n",
       "<caption>A data.frame: 6 × 4</caption>\n",
       "<thead>\n",
       "\t<tr><th></th><th scope=col>logFC</th><th scope=col>logCPM</th><th scope=col>PValue</th><th scope=col>FDR</th></tr>\n",
       "\t<tr><th></th><th scope=col>&lt;dbl&gt;</th><th scope=col>&lt;dbl&gt;</th><th scope=col>&lt;dbl&gt;</th><th scope=col>&lt;dbl&gt;</th></tr>\n",
       "</thead>\n",
       "<tbody>\n",
       "\t<tr><th scope=row>224687_at</th><td> 4.904976</td><td>8.019088</td><td>4.463490e-158</td><td>2.440413e-153</td></tr>\n",
       "\t<tr><th scope=row>212833_at</th><td> 3.363579</td><td>6.860991</td><td> 1.652705e-51</td><td> 4.518082e-47</td></tr>\n",
       "\t<tr><th scope=row>1558620_at</th><td> 2.841310</td><td>6.619830</td><td> 2.269510e-37</td><td> 4.136182e-33</td></tr>\n",
       "\t<tr><th scope=row>211318_s_at</th><td>-2.788104</td><td>7.033454</td><td> 6.724743e-22</td><td> 9.191883e-18</td></tr>\n",
       "\t<tr><th scope=row>206552_s_at</th><td> 3.236385</td><td>7.042412</td><td> 1.493408e-15</td><td> 1.633042e-11</td></tr>\n",
       "\t<tr><th scope=row>1553191_at</th><td> 1.158600</td><td>6.798425</td><td> 1.489697e-06</td><td> 1.357487e-02</td></tr>\n",
       "</tbody>\n",
       "</table>\n"
      ],
      "text/latex": [
       "A data.frame: 6 × 4\n",
       "\\begin{tabular}{r|llll}\n",
       "  & logFC & logCPM & PValue & FDR\\\\\n",
       "  & <dbl> & <dbl> & <dbl> & <dbl>\\\\\n",
       "\\hline\n",
       "\t224687\\_at &  4.904976 & 8.019088 & 4.463490e-158 & 2.440413e-153\\\\\n",
       "\t212833\\_at &  3.363579 & 6.860991 &  1.652705e-51 &  4.518082e-47\\\\\n",
       "\t1558620\\_at &  2.841310 & 6.619830 &  2.269510e-37 &  4.136182e-33\\\\\n",
       "\t211318\\_s\\_at & -2.788104 & 7.033454 &  6.724743e-22 &  9.191883e-18\\\\\n",
       "\t206552\\_s\\_at &  3.236385 & 7.042412 &  1.493408e-15 &  1.633042e-11\\\\\n",
       "\t1553191\\_at &  1.158600 & 6.798425 &  1.489697e-06 &  1.357487e-02\\\\\n",
       "\\end{tabular}\n"
      ],
      "text/markdown": [
       "\n",
       "A data.frame: 6 × 4\n",
       "\n",
       "| <!--/--> | logFC &lt;dbl&gt; | logCPM &lt;dbl&gt; | PValue &lt;dbl&gt; | FDR &lt;dbl&gt; |\n",
       "|---|---|---|---|---|\n",
       "| 224687_at |  4.904976 | 8.019088 | 4.463490e-158 | 2.440413e-153 |\n",
       "| 212833_at |  3.363579 | 6.860991 |  1.652705e-51 |  4.518082e-47 |\n",
       "| 1558620_at |  2.841310 | 6.619830 |  2.269510e-37 |  4.136182e-33 |\n",
       "| 211318_s_at | -2.788104 | 7.033454 |  6.724743e-22 |  9.191883e-18 |\n",
       "| 206552_s_at |  3.236385 | 7.042412 |  1.493408e-15 |  1.633042e-11 |\n",
       "| 1553191_at |  1.158600 | 6.798425 |  1.489697e-06 |  1.357487e-02 |\n",
       "\n"
      ],
      "text/plain": [
       "            logFC     logCPM   PValue        FDR          \n",
       "224687_at    4.904976 8.019088 4.463490e-158 2.440413e-153\n",
       "212833_at    3.363579 6.860991  1.652705e-51  4.518082e-47\n",
       "1558620_at   2.841310 6.619830  2.269510e-37  4.136182e-33\n",
       "211318_s_at -2.788104 7.033454  6.724743e-22  9.191883e-18\n",
       "206552_s_at  3.236385 7.042412  1.493408e-15  1.633042e-11\n",
       "1553191_at   1.158600 6.798425  1.489697e-06  1.357487e-02"
      ]
     },
     "metadata": {},
     "output_type": "display_data"
    }
   ],
   "source": [
    "head(top_degs$table)"
   ]
  },
  {
   "cell_type": "code",
   "execution_count": 31,
   "id": "381d4b3b",
   "metadata": {},
   "outputs": [],
   "source": [
    "# Saving the result to local folder\n",
    "write.csv(et$table, file=\"./data/edgeR_Results.csv\")\n",
    "saveRDS(et$table, file=\"./data/edgeR_Results.rds\")"
   ]
  },
  {
   "cell_type": "markdown",
   "id": "ad0df164",
   "metadata": {},
   "source": [
    "Terminal Command to save to Google Cloud Bucket\n",
    "\n",
    "```{admonition} Saving data to the Google Cloud Bucket\n",
    "gsutil cp ./data/edgeR_Results.csv gs://cpa-output\n",
    "\n",
    "\n",
    "gsutil cp ./data/edgeR_Results.rds gs://cpa-output\n",
    "```"
   ]
  },
  {
   "cell_type": "markdown",
   "id": "0bf63b53",
   "metadata": {},
   "source": [
    "## DE analysis using DESeq2\n",
    "`DeSeq2` uses negative binomial generalized linear models for each gene and a geometric mean strategy to normalize the data. `DESeq2` is similar to `edgeR` as it also assumes that no genes are differentially expressed."
   ]
  },
  {
   "cell_type": "code",
   "execution_count": 32,
   "id": "062fae15",
   "metadata": {},
   "outputs": [
    {
     "name": "stdout",
     "output_type": "stream",
     "text": [
      "\n",
      "The downloaded binary packages are in\n",
      "\t/var/folders/xf/v88ngt8s37b5qqxtsz3hwyhm0000gn/T//Rtmp4FdRNF/downloaded_packages\n"
     ]
    }
   ],
   "source": [
    "# Installing and loading the library\n",
    "suppressMessages({ if (!require(\"BiocManager\", quietly = TRUE))\n",
    "  install.packages(\"BiocManager\")\n",
    "  suppressWarnings(BiocManager::install(\"DESeq2\", update = F))\n",
    "})\n",
    "suppressPackageStartupMessages({library(\"DESeq2\")})"
   ]
  },
  {
   "cell_type": "code",
   "execution_count": 33,
   "id": "f7adaeec",
   "metadata": {},
   "outputs": [],
   "source": [
    "# Contructing a group table that has information of group members for all patients.\n",
    "coldata <- data.frame(\n",
    "  sample = colnames(expression_data),\n",
    "  condition = as.factor(groups),\n",
    "  row.names = \"sample\" )"
   ]
  },
  {
   "cell_type": "code",
   "execution_count": 34,
   "id": "79942f0a",
   "metadata": {},
   "outputs": [
    {
     "data": {
      "text/html": [
       "<table class=\"dataframe\">\n",
       "<caption>A data.frame: 6 × 1</caption>\n",
       "<thead>\n",
       "\t<tr><th></th><th scope=col>condition</th></tr>\n",
       "\t<tr><th></th><th scope=col>&lt;fct&gt;</th></tr>\n",
       "</thead>\n",
       "<tbody>\n",
       "\t<tr><th scope=row>GSM300173</th><td>c</td></tr>\n",
       "\t<tr><th scope=row>GSM300177</th><td>c</td></tr>\n",
       "\t<tr><th scope=row>GSM300181</th><td>c</td></tr>\n",
       "\t<tr><th scope=row>GSM300186</th><td>c</td></tr>\n",
       "\t<tr><th scope=row>GSM300189</th><td>c</td></tr>\n",
       "\t<tr><th scope=row>GSM300192</th><td>c</td></tr>\n",
       "</tbody>\n",
       "</table>\n"
      ],
      "text/latex": [
       "A data.frame: 6 × 1\n",
       "\\begin{tabular}{r|l}\n",
       "  & condition\\\\\n",
       "  & <fct>\\\\\n",
       "\\hline\n",
       "\tGSM300173 & c\\\\\n",
       "\tGSM300177 & c\\\\\n",
       "\tGSM300181 & c\\\\\n",
       "\tGSM300186 & c\\\\\n",
       "\tGSM300189 & c\\\\\n",
       "\tGSM300192 & c\\\\\n",
       "\\end{tabular}\n"
      ],
      "text/markdown": [
       "\n",
       "A data.frame: 6 × 1\n",
       "\n",
       "| <!--/--> | condition &lt;fct&gt; |\n",
       "|---|---|\n",
       "| GSM300173 | c |\n",
       "| GSM300177 | c |\n",
       "| GSM300181 | c |\n",
       "| GSM300186 | c |\n",
       "| GSM300189 | c |\n",
       "| GSM300192 | c |\n",
       "\n"
      ],
      "text/plain": [
       "          condition\n",
       "GSM300173 c        \n",
       "GSM300177 c        \n",
       "GSM300181 c        \n",
       "GSM300186 c        \n",
       "GSM300189 c        \n",
       "GSM300192 c        "
      ]
     },
     "metadata": {},
     "output_type": "display_data"
    }
   ],
   "source": [
    "# Checking the group information of few first patients\n",
    "head(coldata)"
   ]
  },
  {
   "cell_type": "code",
   "execution_count": 35,
   "id": "97faa3f0",
   "metadata": {},
   "outputs": [],
   "source": [
    "# Perform DE analysis using DESeqDataSetFromMatrix function\n",
    "suppressMessages({\n",
    "  dds <- DESeqDataSetFromMatrix(countData = round(count), colData = coldata,\n",
    "                              design = ~ condition)\n",
    "  dds <- dds[rowSums(counts(dds)) >= 10,]\n",
    "  dds$condition <- relevel(dds$condition, ref = \"c\")\n",
    "  dds <- DESeq(dds)\n",
    "  resultsNames(dds)\n",
    "  res <- results(dds)\n",
    "  res <- as.data.frame(res[order(res$padj),])\n",
    "})"
   ]
  },
  {
   "cell_type": "code",
   "execution_count": 36,
   "id": "d2704259",
   "metadata": {},
   "outputs": [
    {
     "data": {
      "text/html": [
       "<table class=\"dataframe\">\n",
       "<caption>A data.frame: 6 × 6</caption>\n",
       "<thead>\n",
       "\t<tr><th></th><th scope=col>baseMean</th><th scope=col>log2FoldChange</th><th scope=col>lfcSE</th><th scope=col>stat</th><th scope=col>pvalue</th><th scope=col>padj</th></tr>\n",
       "\t<tr><th></th><th scope=col>&lt;dbl&gt;</th><th scope=col>&lt;dbl&gt;</th><th scope=col>&lt;dbl&gt;</th><th scope=col>&lt;dbl&gt;</th><th scope=col>&lt;dbl&gt;</th><th scope=col>&lt;dbl&gt;</th></tr>\n",
       "</thead>\n",
       "<tbody>\n",
       "\t<tr><th scope=row>224687_at</th><td>11.590865</td><td> 5.089289</td><td>0.2647166</td><td>19.225425</td><td>2.267719e-82</td><td>1.154087e-77</td></tr>\n",
       "\t<tr><th scope=row>212833_at</th><td> 4.138384</td><td> 3.430013</td><td>0.2842036</td><td>12.068861</td><td>1.542553e-33</td><td>3.925180e-29</td></tr>\n",
       "\t<tr><th scope=row>1558620_at</th><td> 3.162742</td><td> 2.979229</td><td>0.2892637</td><td>10.299352</td><td>7.093774e-25</td><td>1.203388e-20</td></tr>\n",
       "\t<tr><th scope=row>206552_s_at</th><td> 4.890227</td><td> 3.353613</td><td>0.4815026</td><td> 6.964891</td><td>3.286586e-12</td><td>4.181523e-08</td></tr>\n",
       "\t<tr><th scope=row>211318_s_at</th><td> 4.936976</td><td>-2.681179</td><td>0.3982190</td><td>-6.732928</td><td>1.662829e-11</td><td>1.692494e-07</td></tr>\n",
       "\t<tr><th scope=row>1553191_at</th><td> 3.876015</td><td> 1.176570</td><td>0.2596787</td><td> 4.530866</td><td>5.874235e-06</td><td>4.982526e-02</td></tr>\n",
       "</tbody>\n",
       "</table>\n"
      ],
      "text/latex": [
       "A data.frame: 6 × 6\n",
       "\\begin{tabular}{r|llllll}\n",
       "  & baseMean & log2FoldChange & lfcSE & stat & pvalue & padj\\\\\n",
       "  & <dbl> & <dbl> & <dbl> & <dbl> & <dbl> & <dbl>\\\\\n",
       "\\hline\n",
       "\t224687\\_at & 11.590865 &  5.089289 & 0.2647166 & 19.225425 & 2.267719e-82 & 1.154087e-77\\\\\n",
       "\t212833\\_at &  4.138384 &  3.430013 & 0.2842036 & 12.068861 & 1.542553e-33 & 3.925180e-29\\\\\n",
       "\t1558620\\_at &  3.162742 &  2.979229 & 0.2892637 & 10.299352 & 7.093774e-25 & 1.203388e-20\\\\\n",
       "\t206552\\_s\\_at &  4.890227 &  3.353613 & 0.4815026 &  6.964891 & 3.286586e-12 & 4.181523e-08\\\\\n",
       "\t211318\\_s\\_at &  4.936976 & -2.681179 & 0.3982190 & -6.732928 & 1.662829e-11 & 1.692494e-07\\\\\n",
       "\t1553191\\_at &  3.876015 &  1.176570 & 0.2596787 &  4.530866 & 5.874235e-06 & 4.982526e-02\\\\\n",
       "\\end{tabular}\n"
      ],
      "text/markdown": [
       "\n",
       "A data.frame: 6 × 6\n",
       "\n",
       "| <!--/--> | baseMean &lt;dbl&gt; | log2FoldChange &lt;dbl&gt; | lfcSE &lt;dbl&gt; | stat &lt;dbl&gt; | pvalue &lt;dbl&gt; | padj &lt;dbl&gt; |\n",
       "|---|---|---|---|---|---|---|\n",
       "| 224687_at | 11.590865 |  5.089289 | 0.2647166 | 19.225425 | 2.267719e-82 | 1.154087e-77 |\n",
       "| 212833_at |  4.138384 |  3.430013 | 0.2842036 | 12.068861 | 1.542553e-33 | 3.925180e-29 |\n",
       "| 1558620_at |  3.162742 |  2.979229 | 0.2892637 | 10.299352 | 7.093774e-25 | 1.203388e-20 |\n",
       "| 206552_s_at |  4.890227 |  3.353613 | 0.4815026 |  6.964891 | 3.286586e-12 | 4.181523e-08 |\n",
       "| 211318_s_at |  4.936976 | -2.681179 | 0.3982190 | -6.732928 | 1.662829e-11 | 1.692494e-07 |\n",
       "| 1553191_at |  3.876015 |  1.176570 | 0.2596787 |  4.530866 | 5.874235e-06 | 4.982526e-02 |\n",
       "\n"
      ],
      "text/plain": [
       "            baseMean  log2FoldChange lfcSE     stat      pvalue      \n",
       "224687_at   11.590865  5.089289      0.2647166 19.225425 2.267719e-82\n",
       "212833_at    4.138384  3.430013      0.2842036 12.068861 1.542553e-33\n",
       "1558620_at   3.162742  2.979229      0.2892637 10.299352 7.093774e-25\n",
       "206552_s_at  4.890227  3.353613      0.4815026  6.964891 3.286586e-12\n",
       "211318_s_at  4.936976 -2.681179      0.3982190 -6.732928 1.662829e-11\n",
       "1553191_at   3.876015  1.176570      0.2596787  4.530866 5.874235e-06\n",
       "            padj        \n",
       "224687_at   1.154087e-77\n",
       "212833_at   3.925180e-29\n",
       "1558620_at  1.203388e-20\n",
       "206552_s_at 4.181523e-08\n",
       "211318_s_at 1.692494e-07\n",
       "1553191_at  4.982526e-02"
      ]
     },
     "metadata": {},
     "output_type": "display_data"
    }
   ],
   "source": [
    "head(res)"
   ]
  },
  {
   "cell_type": "code",
   "execution_count": 37,
   "id": "2f4055b1",
   "metadata": {},
   "outputs": [],
   "source": [
    "# Saving the result to local storage\n",
    "write.csv(res, file=\"./data/DESeq2_Results.csv\")\n",
    "saveRDS(res, file=\"./data/DESeq2_Results.rds\")"
   ]
  },
  {
   "cell_type": "markdown",
   "id": "c51cda43",
   "metadata": {},
   "source": [
    "```{admonition} Saving data to the Google Cloud Bucket\n",
    "gsutil cp ./data/DESeq2_Results.csv gs://cpa-output\n",
    "\n",
    "gsutil cp ./data/DESeq2_Results.rds gs://cpa-output\n",
    "```"
   ]
  },
  {
   "cell_type": "markdown",
   "id": "d2788e7d",
   "metadata": {},
   "source": [
    "## Visualization of of differential expression results.\n",
    "To visually summarize results for all genes, mean-difference plots, which display log-fold changes from the linear model fit against the average log-CPM values can be generated using the `plotMD` function in `limma` package, with the differentially expressed genes highlighted. The function `plotMD` uses `fit2` object generated from DE analysis using `limma` in the above section."
   ]
  },
  {
   "cell_type": "code",
   "execution_count": 3,
   "id": "e185c295",
   "metadata": {},
   "outputs": [
    {
     "ename": "ERROR",
     "evalue": "Error in plotMD(fit2, column = 1, status = dt[, 1], main = colnames(fit2)[1], : could not find function \"plotMD\"\n",
     "output_type": "error",
     "traceback": [
      "Error in plotMD(fit2, column = 1, status = dt[, 1], main = colnames(fit2)[1], : could not find function \"plotMD\"\nTraceback:\n"
     ]
    }
   ],
   "source": [
    "plotMD(fit2, column=1, status=dt[,1], main=colnames(fit2)[1],\n",
    "       xlim=c(-8,13),pch=20, cex=1)\n",
    "abline(h=0)"
   ]
  },
  {
   "cell_type": "markdown",
   "id": "f63dfe8e",
   "metadata": {},
   "source": [
    "Another way to visualize the number of regulated and unregulated genes is to use Venn diagram. The command to generate the diagram is presented below"
   ]
  },
  {
   "cell_type": "code",
   "execution_count": 7,
   "id": "2b5b2b32",
   "metadata": {},
   "outputs": [
    {
     "ename": "ERROR",
     "evalue": "Error in decideTests(fit2, adjust.method = \"fdr\", p.value = 0.05): object 'fit2' not found\n",
     "output_type": "error",
     "traceback": [
      "Error in decideTests(fit2, adjust.method = \"fdr\", p.value = 0.05): object 'fit2' not found\nTraceback:\n",
      "1. decideTests(fit2, adjust.method = \"fdr\", p.value = 0.05)"
     ]
    }
   ],
   "source": [
    "# summarize test results as \"up\", \"down\" or \"not expressed\"\n",
    "dT <- decideTests(fit2, adjust.method=\"fdr\", p.value=0.05)\n",
    "# Venn diagram of results\n",
    "vennDiagram(dT, circle.col=palette())"
   ]
  },
  {
   "cell_type": "markdown",
   "id": "4b65ac5e",
   "metadata": {},
   "source": [
    "We can visualize the adjusted p-value distribution for all gene using a histogram plot:"
   ]
  },
  {
   "cell_type": "code",
   "execution_count": 42,
   "id": "bc2f35c7-0a9e-4d5b-9901-d42dd52b3f5c",
   "metadata": {},
   "outputs": [
    {
     "data": {
      "image/png": "[encoded data removed]",
      "text/plain": [
       "Plot with title “P-adj value distribution”"
      ]
     },
     "metadata": {
      "image/png": {
       "height": 420,
       "width": 420
      }
     },
     "output_type": "display_data"
    }
   ],
   "source": [
    "# Visualize and quality control test results.\n",
    "# Build histogram of P-values for all genes. Normal test\n",
    "# assumption is that most genes are not differentially expressed.\n",
    "tT2 <- topTable(fit2, adjust=\"fdr\", sort.by=\"B\", number=Inf)\n",
    "hist(tT2$adj.P.Val, col = \"grey\", border = \"white\", xlab = \"P-adj\",\n",
    "     ylab = \"Number of genes\", main = \"P-adj value distribution\")"
   ]
  },
  {
   "cell_type": "code",
   "execution_count": 43,
   "id": "329e6ca9-f0ca-4ed1-b585-639717e19202",
   "metadata": {},
   "outputs": [
    {
     "data": {
      "image/png": "[encoded data removed]",
      "text/plain": [
       "Plot with title “Moderated t statistic”"
      ]
     },
     "metadata": {
      "image/png": {
       "height": 420,
       "width": 420
      }
     },
     "output_type": "display_data"
    }
   ],
   "source": [
    "# create Q-Q plot for t-statistic\n",
    "t.good <- which(!is.na(fit2$F)) # filter out bad probes\n",
    "qqt(fit2$t[t.good], fit2$df.total[t.good], main=\"Moderated t statistic\")"
   ]
  },
  {
   "cell_type": "markdown",
   "id": "d005a183",
   "metadata": {},
   "source": [
    "The *Volcano Plot* function is a common way of visualising the results of a DE analysis. The *x* axis shows the *log-fold* change and the *y* axis is some measure of statistical significance, which in this case is the log-odds, or “B” statistic. A characteristic “volcano” shape should be seen."
   ]
  },
  {
   "cell_type": "code",
   "execution_count": 44,
   "id": "a92ff556-1e27-455d-83f0-755bc70e08d2",
   "metadata": {},
   "outputs": [
    {
     "data": {
      "text/html": [
       "'c-d'"
      ],
      "text/latex": [
       "'c-d'"
      ],
      "text/markdown": [
       "'c-d'"
      ],
      "text/plain": [
       "[1] \"c-d\""
      ]
     },
     "metadata": {},
     "output_type": "display_data"
    },
    {
     "data": {
      "image/png": "[encoded data removed]",
      "text/plain": [
       "Plot with title “c-d”"
      ]
     },
     "metadata": {
      "image/png": {
       "height": 420,
       "width": 420
      }
     },
     "output_type": "display_data"
    }
   ],
   "source": [
    "# volcano plot (log P-value vs log fold change)\n",
    "colnames(fit2) # list contrast names\n",
    "ct <- 1        # choose contrast of interest\n",
    "volcanoplot(fit2, coef=ct, main=colnames(fit2)[ct], pch=20,\n",
    "            highlight=length(which(dT[,ct]!=0)), names=rep('+', nrow(fit2)))\n"
   ]
  },
  {
   "cell_type": "code",
   "execution_count": 1,
   "id": "490d7abc",
   "metadata": {},
   "outputs": [
    {
     "data": {
      "text/html": [
       "<iframe src=\"Quizzes/Quiz_Submodule2.html\" width=100% height=450></iframe>"
      ]
     },
     "metadata": {},
     "output_type": "display_data"
    }
   ],
   "source": [
    "IRdisplay::display_html('<iframe src=\"Quizzes/Quiz_Submodule2.html\" width=100% height=450></iframe>')"
   ]
  },
  {
   "cell_type": "markdown",
   "id": "9abadd81",
   "metadata": {},
   "source": [
    "The next submodule will show how to identify the pathways that these genes are involved in. "
   ]
  }
 ],
 "metadata": {
  "environment": {
   "kernel": "ir",
   "name": "r-cpu.4-1.m93",
   "type": "gcloud",
   "uri": "gcr.io/deeplearning-platform-release/r-cpu.4-1:m93"
  },
  "kernelspec": {
   "display_name": "R",
   "language": "R",
   "name": "ir"
  },
  "language_info": {
   "codemirror_mode": "r",
   "file_extension": ".r",
   "mimetype": "text/x-r-source",
   "name": "R",
   "pygments_lexer": "r",
   "version": "4.2.2"
  },
  "toc-showcode": true
 },
 "nbformat": 4,
 "nbformat_minor": 5
}
