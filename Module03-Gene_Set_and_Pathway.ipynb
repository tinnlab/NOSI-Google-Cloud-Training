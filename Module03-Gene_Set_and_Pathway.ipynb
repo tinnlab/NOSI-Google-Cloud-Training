{
 "cells": [
  {
   "cell_type": "markdown",
   "id": "f380fb8f-dc93-414c-b815-6ace422d7f90",
   "metadata": {
    "tags": []
   },
   "source": [
    "# Gene set and pathway\n",
    "\n",
    "![](./images/Module3/Workflow3.jpg)\n",
    "\n",
    "Differential expression (DE) analysis typically yields a list of genes or proteins that require further interpretation.\n",
    "Our intention is to use such lists to gain novel insights about genes and proteins that may have roles in a given\n",
    "phenomenon, phenotype or disease progression. However, in many cases, gene lists generated from DE analysis are\n",
    "difficult to interpret due to their large size and lack of useful annotations. Hence, pathway analysis (also known\n",
    "as gene set analysis or over-representation analysis), aims to reduce the complexity of interpreting gene lists\n",
    "via mapping the listed genes to known (i.e. annotated) biological pathways, processes and functions.\n",
    "This learning module introduces common curated biological databases including Gene Ontology (GO),\n",
    "Kyoto Encyclopedia of Genes and Genomes (KEGG).\n",
    "\n",
    "## Learning Objectives:\n",
    "1. Introduction to Ontology and Gene Ontology.\n",
    "2. Introduction to KEGG Pathway Database.\n",
    "3. Downloading terms, pathway gene set from GO and KEGG.\n",
    "4. Saving results to GMT file format."
   ]
  },
  {
   "cell_type": "markdown",
   "id": "1859736a",
   "metadata": {},
   "source": [
    "## Ontology and Gene Ontology\n",
    "### Overview\n",
    "In this section we will learn about the concept of gene ontology in Bioinformatics. Ontology is a specification\n",
    "of a conceptualization which is a set of concepts within a domain, defined by a shared vocabulary to\n",
    "denote the types and properties of the concepts as well as the relationships between the concepts.\n",
    "Ontology plays an important role in the field of bioinformatics. Ontology enable communicate unambiguously e.g.,\n",
    "to understand across different groups’ annotations of various genomes. Also, it allows the knowledge to be represented\n",
    "in a computable and structured to perform automated analyses by computer programs.\n",
    "\n",
    "The Gene Ontology (GO) defines a structured, common, controlled vocabulary to describe attributes of genes and gene products\n",
    "across organisms. Collaboration is key to build a consensus vocabulary. But the term gene ontology, or GO, is commonly used\n",
    "to refer to both, which is sometimes a source of potential confusion. In order to avoid this, here we will use the term “GO”\n",
    "to describe the set of terms and their hierarchical structure and “GO annotations” to describe the set of associations between\n",
    "genes and GO terms. The GO is divided into three categories to describe the genes and gene products from three different\n",
    "angles: Molecular Function, Biological Process, and Cellular Component.\n",
    "\n",
    "The structure of GO can be described in terms of into directed acyclic graphs (DAGs), where each GO term is a node,\n",
    "and the relationships between the terms are edges between the nodes. GO is loosely hierarchical, with ‘child’ terms\n",
    "being more specialized than their ‘parent’ terms, but unlike a strict hierarchy, a term may have more than one parent\n",
    "term (note that the parent/child model does not hold true for all types of relations). The structure of the controlled\n",
    "vocabularies are intended to reflect true, biological relationships. In contrast to strict hierarchies, DAGS allow\n",
    "multiple relationships between a more granular (child) term and a more general parent term. The relationship between\n",
    "terms affects how queries are made. For example,a query for all genes with binding activity would include transcription\n",
    "factors as well as genes with other types of binding activity (such as protein binding, ligand binding). The illustration\n",
    "of category and structure of GO is shown in the figure below:\n",
    "\n",
    "![](./images/Module3/GO_Structure.jpg)\n",
    "*(Source: https://www.ebi.ac.uk/, http://geneontology.org/)*\n",
    "\n",
    "### Gene ontology relationship\n",
    "In DAGs graph, *terms* are represented as *nodes* and *relations* (also known as *object properties*) between the *terms*\n",
    "are *edges*. There are commonly used relationships in GO such as *is a* (is a *subtype of*), *part of, has part, regulates,\n",
    "negatively regulates and positively regulates*. All terms (except from the root terms representing each aspect) have an\n",
    "is a sub-class relationship to another terms.\n",
    "\n",
    "Examples:"
   ]
  },
  {
   "cell_type": "markdown",
   "source": [
    "```{admonition} *is a* relation\n",
    "**GO:1904659:glucose transport** *is* a **GO:0015749:monosaccharide transport**.\n",
    "\n",
    "The *is a* relation forms the basic structure of GO. If we say A *is a* B, we mean that node A is a subtype of node B\n",
    "\n",
    "```"
   ],
   "metadata": {
    "collapsed": false
   }
  },
  {
   "cell_type": "markdown",
   "source": [
    "```{admonition} *is part of* relation\n",
    "**GO:0031966:mitochondrial membrane** *is part of* **GO:0005740:mitochondrial envelope**\n",
    "\n",
    "The *part of* relation is used to represent part-whole relationships. A *part of* relation would only be added between\n",
    "A and B if B is **necessarily** *part of* A: wherever B exists, it is as *part of* A, and the presence of the B implies\n",
    "the presence of A. However, given the occurrence of A, we cannot say for certain that B exists.\n",
    "```"
   ],
   "metadata": {
    "collapsed": false
   }
  },
  {
   "cell_type": "markdown",
   "source": [
    "```{admonition} *regulates* relation\n",
    "**GO:0098689:latency-replication decision** *regulates* **GO:0019046:release from viral latency**\n",
    "\n",
    "A relation that describes case in which one process directly affects the manifestation of another process or quality,\n",
    "i.e. the former *regulates* the latter.\n",
    "```"
   ],
   "metadata": {
    "collapsed": false
   }
  },
  {
   "cell_type": "markdown",
   "source": [
    "A more specific case with more nodes and edges can be seen at the figure below:\n",
    "<br>\n",
    "![](./images/Module3/GO_Relation.jpg)\n",
    "*(Source: https://advaitabio.com/)* <br>\n",
    "For more technical information about relations and their properties used in GO and other ontologies see the\n",
    "<a href=\"https://obofoundry.org/ontology/ro.html\">OBO Relations Ontology (RO)</a>\n"
   ],
   "metadata": {
    "collapsed": false
   }
  },
  {
   "cell_type": "markdown",
   "id": "c0d70e92",
   "metadata": {},
   "source": [
    "### GO storage file formats\n",
    "GO terms are updated monthly in the following formats:\n",
    "* OBO 1.4 files are human-readable (in addition to machine-readable) and can be opened in any text editor.\n",
    "* OWL files can be read by <a href=\"https://protege.stanford.edu/\">Protégé</a> text editor.\n",
    "\n",
    " In this learning module, we will only use \".OBO\" to obtain GO terms.The OBO file format is for representing ontologies and controlled vocabularies. The format itself attempts to achieve the following goals:\n",
    " * Human readability\n",
    " * Ease of parsing\n",
    " * Extensibility\n",
    " * Minimal redundancy\n",
    "\n",
    "The file structure can is shown in the following figure.\n",
    "\n",
    "\n",
    "![](./images/Module3/OBO_Format.jpg)\n",
    "\n",
    "The OBO file has a header which is an unlabeled section at the beginning of the document. The header ends when the first term is encountered. Next, term is represented in labeled section with the tag *[Term]*. Under each term, we can find other information such as term ID, official name, category (namcespace), term definition, synonym and relation to other GO term.\n",
    "\n",
    "At this step, we still don't know what genes are related to which GO terms. In order to retrieve custom sets of gene ontology annotations for any list of genes from organisms, NCBI has published a Gene2GO database that obtain GO terms and the entrez gene ids related to those go terms. The database can be retrieve from <a href=\"https://ftp.ncbi.nih.gov/gene/DATA/gene2go.gz\">here</a> text editor. The Gene2GO database can be viewed using text editor, the file structure is presented in the figure below:\n",
    "\n",
    "![](./images/Module3/Gene2GO.jpg)\n",
    "\n",
    "The OBO and Gene2GO databases will be used in combination to obtain GO term and related genes for enrichment analysis."
   ]
  },
  {
   "cell_type": "markdown",
   "source": [
    "### Retrieving GO terms from DE gene list\n",
    "This section focuses on downloading related GO terms based on the DE genelist obtained from the DE analysis in the previous section.\n",
    "Here, we will use `toGO` and `hgu133plus2.db` R packages to obtain GO terms. The `topGO` package has built-in functions that use Gene2GO databases to retrieve GO terms from the gene ID give by DE analysis. Since the dataset we used in the Module 02 was generated for human, we will use `hgu133plus2.db` database to map probeID to gene symbols.\n",
    "The installation process of two package can be done by the script below:"
   ],
   "metadata": {
    "collapsed": false
   }
  },
  {
   "cell_type": "code",
   "execution_count": 1,
   "outputs": [],
   "source": [
    "# Installation of topGO and hgu133plus2.db package\n",
    "suppressMessages({if (!require(\"BiocManager\", quietly = TRUE))\n",
    "    install.packages(\"BiocManager\")\n",
    "  suppressWarnings(BiocManager::install(\"topGO\", update = F))\n",
    "  suppressWarnings(BiocManager::install(\"hgu133plus2.db\", update = F))\n",
    "  suppressWarnings(BiocManager::install(\"AnnotationDbi\", update = F))\n",
    "})"
   ],
   "metadata": {
    "collapsed": false
   }
  },
  {
   "cell_type": "code",
   "execution_count": 2,
   "outputs": [
    {
     "name": "stderr",
     "output_type": "stream",
     "text": [
      "\n",
      "groupGOTerms: \tGOBPTerm, GOMFTerm, GOCCTerm environments built.\n",
      "\n"
     ]
    }
   ],
   "source": [
    "# Loading the library\n",
    "suppressPackageStartupMessages({\n",
    "  suppressWarnings(library(\"topGO\"))\n",
    "  suppressWarnings(library(\"hgu133plus2.db\"))\n",
    "  suppressWarnings(library(\"AnnotationDbi\"))\n",
    "})"
   ],
   "metadata": {
    "collapsed": false
   }
  },
  {
   "cell_type": "markdown",
   "source": [
    "Load the DE genelist generated from the DE analysis using `limma`."
   ],
   "metadata": {
    "collapsed": false
   }
  },
  {
   "cell_type": "code",
   "execution_count": 3,
   "outputs": [],
   "source": [
    "# Loading the DE result\n",
    "data = readRDS(\"./data/DE_genes.rds\")"
   ],
   "metadata": {
    "collapsed": false
   }
  },
  {
   "cell_type": "markdown",
   "source": [
    "By default, the DE analysis performed by `limma` contains multiple features. However, adjusted *p-value* and gene ID are the most important features for enrichment analysis. We can use the following code to list of gene IDs and their *p-value*."
   ],
   "metadata": {
    "collapsed": false
   }
  },
  {
   "cell_type": "code",
   "execution_count": 4,
   "outputs": [],
   "source": [
    "# Get p-value from DE results\n",
    "genelist <- data$adj.P.Val\n",
    "# Assgin gene IDs to associated p-values\n",
    "names(genelist) <- data$PROBEID"
   ],
   "metadata": {
    "collapsed": false
   }
  },
  {
   "cell_type": "markdown",
   "source": [
    "After successfully obtaining the genelist, we need to map the gene IDs to the gene symbols using `hgu133plus2.db`."
   ],
   "metadata": {
    "collapsed": false
   }
  },
  {
   "cell_type": "code",
   "execution_count": 5,
   "outputs": [],
   "source": [
    "# Map gene IDs to gene symbols\n",
    "gene <- suppressMessages(AnnotationDbi::select(hgu133plus2.db, names(genelist), \"SYMBOL\"))"
   ],
   "metadata": {
    "collapsed": false
   }
  },
  {
   "cell_type": "code",
   "execution_count": 6,
   "outputs": [],
   "source": [
    "# Remove duplicated gene IDs\n",
    "gene <- gene[!duplicated(gene[,1]),]\n",
    "\n",
    "# Assign result to a new genlist with gene symbols\n",
    "geneList2 <- genelist\n",
    "names(geneList2) <- gene[,2]"
   ],
   "metadata": {
    "collapsed": false
   }
  },
  {
   "cell_type": "markdown",
   "source": [
    "Now, we can search for related GO terms based on the new gene list using `topGO` package. First, we need to create a `topGOdata`\n",
    "object."
   ],
   "metadata": {
    "collapsed": false
   }
  },
  {
   "cell_type": "code",
   "execution_count": 7,
   "outputs": [
    {
     "name": "stderr",
     "output_type": "stream",
     "text": [
      "\n",
      "Building most specific GOs .....\n",
      "\n",
      "\t( 12301 GO terms found. )\n",
      "\n",
      "\n",
      "Build GO DAG topology ..........\n",
      "\n",
      "\t( 15901 GO terms and 36216 relations. )\n",
      "\n",
      "\n",
      "Annotating nodes ...............\n",
      "\n",
      "\t( 16201 genes annotated to the GO terms. )\n",
      "\n"
     ]
    }
   ],
   "source": [
    "# Retrieve all the GO terms related to the genelist obtained from the expression matrix\n",
    "GOdata <- new(\"topGOdata\", description = \"\",ontology = \"BP\",\n",
    "                    allGenes = geneList2, geneSel = function(x)x, nodeSize = 10,\n",
    "                    annot = annFUN.org, ID = \"alias\", mapping = \"org.Hs.eg\")"
   ],
   "metadata": {
    "collapsed": false
   }
  },
  {
   "cell_type": "markdown",
   "source": [
    "We can search for related GO terms using `geneInTerm` function and view the term with associated genes."
   ],
   "metadata": {
    "collapsed": false
   }
  },
  {
   "cell_type": "code",
   "execution_count": 8,
   "outputs": [
    {
     "data": {
      "text/html": "<dl>\n\t<dt>$`GO:0000002`</dt>\n\t\t<dd><style>\n.list-inline {list-style: none; margin:0; padding: 0}\n.list-inline>li {display: inline-block}\n.list-inline>li:not(:last-child)::after {content: \"\\00b7\"; padding: 0 .5ex}\n</style>\n<ol class=list-inline><li>'AKT3'</li><li>'DNA2'</li><li>'LIG3'</li><li>'LONP1'</li><li>'MEF2A'</li><li>'MGME1'</li><li>'MPV17'</li><li>'OPA1'</li><li>'PARP1'</li><li>'PIF1'</li><li>'PIM1'</li><li>'POLB'</li><li>'POLG2'</li><li>'PPARGC1A'</li><li>'PRIMPOL'</li><li>'SESN2'</li><li>'SLC25A33'</li><li>'SLC25A36'</li><li>'SLC25A4'</li><li>'STOX1'</li><li>'TOP3A'</li><li>'TP53'</li><li>'TYMP'</li></ol>\n</dd>\n\t<dt>$`GO:0000003`</dt>\n\t\t<dd><style>\n.list-inline {list-style: none; margin:0; padding: 0}\n.list-inline>li {display: inline-block}\n.list-inline>li:not(:last-child)::after {content: \"\\00b7\"; padding: 0 .5ex}\n</style>\n<ol class=list-inline><li>'A1CF'</li><li>'AAAS'</li><li>'ABAT'</li><li>'ABCC2'</li><li>'ABCC8'</li><li>'ABHD2'</li><li>'ACE'</li><li>'ACOD1'</li><li>'ACOX1'</li><li>'ACR'</li><li>'ACRBP'</li><li>'ACSBG2'</li><li>'ACSL4'</li><li>'ACTR1A'</li><li>'ACTR2'</li><li>'ACTR3'</li><li>'ACVR1'</li><li>'ACVR1B'</li><li>'ACVR1C'</li><li>'ACVR2A'</li><li>'ADA'</li><li>'ADAD1'</li><li>'ADAM10'</li><li>'ADAM15'</li><li>'ADAM18'</li><li>'ADAM19'</li><li>'ADAM2'</li><li>'ADAM20'</li><li>'ADAM21'</li><li>'ADAM28'</li><li>'ADAM29'</li><li>'ADAM32'</li><li>'ADAM5'</li><li>'ADAMTS1'</li><li>'ADAMTS16'</li><li>'ADAMTS2'</li><li>'ADCY10'</li><li>'ADCY3'</li><li>'ADCY7'</li><li>'ADCYAP1'</li><li>'ADCYAP1R1'</li><li>'ADGRG1'</li><li>'ADGRG2'</li><li>'ADIPOR2'</li><li>'ADM'</li><li>'ADNP'</li><li>'ADRA2B'</li><li>'ADRA2C'</li><li>'AFF4'</li><li>'AFP'</li><li>'AGFG1'</li><li>'AGO2'</li><li>'AGO4'</li><li>'AGRP'</li><li>'AGT'</li><li>'AKAP3'</li><li>'AKAP4'</li><li>'AKR1B1'</li><li>'AKR1C3'</li><li>'AKT1'</li><li>'ALDOA'</li><li>'ALKBH1'</li><li>'ALKBH5'</li><li>'ALOX15B'</li><li>'ALPL'</li><li>'AMBP'</li><li>'AMH'</li><li>'AMHR2'</li><li>'ANG'</li><li>'ANGPT2'</li><li>'ANKRD31'</li><li>'ANKRD49'</li><li>'ANTXR1'</li><li>'ANXA1'</li><li>'AP3B1'</li><li>'APELA'</li><li>'APOB'</li><li>'APOL2'</li><li>'APOL3'</li><li>'APP'</li><li>'AR'</li><li>'AREG'</li><li>'ARG1'</li><li>'ARHGDIB'</li><li>'ARID4A'</li><li>'ARID5B'</li><li>'ARMC2'</li><li>'ARNT'</li><li>'ARNTL'</li><li>'ARRB1'</li><li>'ARRB2'</li><li>'ASB1'</li><li>'ASCL2'</li><li>'ASF1B'</li><li>'ASH1L'</li><li>'ASPM'</li><li>'ASZ1'</li><li>'ATAT1'</li><li>'ATM'</li><li>'ATP1A1'</li><li>'ATP1A4'</li><li>'ATP2B2'</li><li>'ATP2B4'</li><li>'ATP7A'</li><li>'ATP8B3'</li><li>'ATR'</li><li>'ATRX'</li><li>'AURKA'</li><li>'AURKC'</li><li>'AVP'</li><li>'AVPR1A'</li><li>'AXL'</li><li>'AZI2'</li><li>'AZIN2'</li><li>'B4GALNT1'</li><li>'B4GALT1'</li><li>'BACH1'</li><li>'BAD'</li><li>'BAG6'</li><li>'BAK1'</li><li>'BAP1'</li><li>'BASP1'</li><li>'BAX'</li><li>'BBS2'</li><li>'BBS4'</li><li>'BCAP31'</li><li>'BCKDK'</li><li>'BCL2'</li><li>'BCL2L1'</li><li>'BCL2L10'</li><li>'BCL2L11'</li><li>'BCL2L2'</li><li>'BCL6'</li><li>'BIK'</li><li>'BIRC2'</li><li>'BIRC3'</li><li>'BIRC6'</li><li>'BMP15'</li><li>'BMP4'</li><li>'BMP5'</li><li>'BMP6'</li><li>'BMP7'</li><li>'BMPR1A'</li><li>'BMPR1B'</li><li>'BMPR2'</li><li>'BNC1'</li><li>'BOK'</li><li>'BOLL'</li><li>'BPTF'</li><li>'BPY2'</li><li>'BRCA2'</li><li>'BRD2'</li><li>'BRDT'</li><li>'BRF1'</li><li>'BRINP1'</li><li>'BRIP1'</li><li>'BRME1'</li><li>'BSG'</li><li>'BTBD18'</li><li>'BTG1'</li><li>'BUB1'</li><li>'BUB1B'</li><li>'BUB3'</li><li>'C11orf80'</li><li>'C14orf39'</li><li>'C16orf92'</li><li>'C1QBP'</li><li>'C3'</li><li>'C9orf24'</li><li>'CABS1'</li><li>'CABYR'</li><li>'CACNA1H'</li><li>'CACNA1I'</li><li>'CAD'</li><li>'CADM1'</li><li>'CALCA'</li><li>'CALR'</li><li>'CALR3'</li><li>'CAPN2'</li><li>'CASP2'</li><li>'CASP3'</li><li>'CASP8'</li><li>'CATSPER1'</li><li>'CATSPER2'</li><li>'CATSPER3'</li><li>'CATSPERB'</li><li>'CATSPERD'</li><li>'CATSPERG'</li><li>'CBL'</li><li>'CBX2'</li><li>'CCDC134'</li><li>'CCDC136'</li><li>'CCDC182'</li><li>'CCDC39'</li><li>'CCDC40'</li><li>'CCDC42'</li><li>'CCDC63'</li><li>'CCDC87'</li><li>'CCIN'</li><li>'CCN1'</li><li>⋯</li><li>'TBP'</li><li>'TBPL1'</li><li>'TBX3'</li><li>'TCF21'</li><li>'TCFL5'</li><li>'TCP1'</li><li>'TCP11'</li><li>'TCTE1'</li><li>'TDRD1'</li><li>'TDRD12'</li><li>'TDRD5'</li><li>'TDRD6'</li><li>'TDRD7'</li><li>'TDRD9'</li><li>'TDRKH'</li><li>'TDRP'</li><li>'TEAD3'</li><li>'TEKT2'</li><li>'TEKT3'</li><li>'TEP1'</li><li>'TERB1'</li><li>'TERB2'</li><li>'TERF1'</li><li>'TESC'</li><li>'TESK1'</li><li>'TESK2'</li><li>'TESMIN'</li><li>'TEX101'</li><li>'TEX11'</li><li>'TEX12'</li><li>'TEX14'</li><li>'TEX15'</li><li>'TEX19'</li><li>'TFAP2C'</li><li>'TFEB'</li><li>'TGFB2'</li><li>'TGFB3'</li><li>'TGFBR1'</li><li>'TGFBR2'</li><li>'TGS1'</li><li>'TH'</li><li>'THBD'</li><li>'THEG'</li><li>'THRA'</li><li>'THRB'</li><li>'TIAL1'</li><li>'TIFAB'</li><li>'TIMP1'</li><li>'TIMP4'</li><li>'TIPARP'</li><li>'TLE6'</li><li>'TLR3'</li><li>'TMED2'</li><li>'TMEM119'</li><li>'TMEM203'</li><li>'TMEM95'</li><li>'TMF1'</li><li>'TMPRSS12'</li><li>'TNC'</li><li>'TNFAIP6'</li><li>'TNFSF10'</li><li>'TNP1'</li><li>'TNP2'</li><li>'TOB2'</li><li>'TOP2A'</li><li>'TOP2B'</li><li>'TOP3A'</li><li>'TP63'</li><li>'TPGS1'</li><li>'TPPP2'</li><li>'TPPP3'</li><li>'TRAC'</li><li>'TRIM27'</li><li>'TRIM28'</li><li>'TRIM36'</li><li>'TRIP13'</li><li>'TRO'</li><li>'TRPC3'</li><li>'TRPC6'</li><li>'TRPC7'</li><li>'TRPM2'</li><li>'TSGA10'</li><li>'TSNAX'</li><li>'TSNAXIP1'</li><li>'TSPAN8'</li><li>'TSPY1'</li><li>'TSSK1B'</li><li>'TSSK2'</li><li>'TSSK3'</li><li>'TSSK4'</li><li>'TSSK6'</li><li>'TTC12'</li><li>'TTC21A'</li><li>'TTC26'</li><li>'TTF1'</li><li>'TTK'</li><li>'TTLL1'</li><li>'TTLL3'</li><li>'TTLL9'</li><li>'TUBG1'</li><li>'TUBG2'</li><li>'TUBGCP2'</li><li>'TUBGCP3'</li><li>'TUBGCP4'</li><li>'TUBGCP5'</li><li>'TUBGCP6'</li><li>'TUT4'</li><li>'TUT7'</li><li>'TXNDC2'</li><li>'TXNDC8'</li><li>'TXNRD3'</li><li>'TYRO3'</li><li>'UBAP2L'</li><li>'UBB'</li><li>'UBE2A'</li><li>'UBE2B'</li><li>'UBE2J1'</li><li>'UBE2Q1'</li><li>'UBE3A'</li><li>'UBR2'</li><li>'UBXN8'</li><li>'UCN'</li><li>'UCP2'</li><li>'UMODL1'</li><li>'UMPS'</li><li>'UNC13B'</li><li>'UPRT'</li><li>'USP42'</li><li>'USP9X'</li><li>'USP9Y'</li><li>'UTF1'</li><li>'UTP14C'</li><li>'VASH1'</li><li>'VASH2'</li><li>'VDAC2'</li><li>'VDR'</li><li>'VEGFA'</li><li>'VGF'</li><li>'VIP'</li><li>'VIPAS39'</li><li>'VMP1'</li><li>'VPS13A'</li><li>'WASHC5'</li><li>'WBP2NL'</li><li>'WDR19'</li><li>'WDR33'</li><li>'WDR48'</li><li>'WDR77'</li><li>'WFDC2'</li><li>'WIPF3'</li><li>'WNT2'</li><li>'WNT2B'</li><li>'WNT3'</li><li>'WNT4'</li><li>'WNT5A'</li><li>'WNT7A'</li><li>'WNT7B'</li><li>'WNT9B'</li><li>'WT1'</li><li>'XDH'</li><li>'XKRY'</li><li>'XRCC2'</li><li>'XRN2'</li><li>'YBX2'</li><li>'YBX3'</li><li>'YIF1B'</li><li>'YTHDC1'</li><li>'YTHDC2'</li><li>'YTHDF2'</li><li>'YTHDF3'</li><li>'YY1'</li><li>'ZAN'</li><li>'ZBTB16'</li><li>'ZCWPW1'</li><li>'ZFP36L1'</li><li>'ZFP41'</li><li>'ZFP42'</li><li>'ZFPM2'</li><li>'ZFX'</li><li>'ZGLP1'</li><li>'ZMIZ1'</li><li>'ZMYND15'</li><li>'ZNF148'</li><li>'ZNF225'</li><li>'ZNF296'</li><li>'ZNF318'</li><li>'ZNF35'</li><li>'ZNF449'</li><li>'ZNF541'</li><li>'ZNF568'</li><li>'ZNF628'</li><li>'ZNF830'</li><li>'ZP1'</li><li>'ZP2'</li><li>'ZP4'</li><li>'ZPBP'</li><li>'ZPBP2'</li><li>'ZSCAN2'</li><li>'ZSCAN21'</li><li>'ZW10'</li></ol>\n</dd>\n\t<dt>$`GO:0000012`</dt>\n\t\t<dd><style>\n.list-inline {list-style: none; margin:0; padding: 0}\n.list-inline>li {display: inline-block}\n.list-inline>li:not(:last-child)::after {content: \"\\00b7\"; padding: 0 .5ex}\n</style>\n<ol class=list-inline><li>'APLF'</li><li>'APTX'</li><li>'ERCC6'</li><li>'ERCC8'</li><li>'LIG4'</li><li>'PARP1'</li><li>'SIRT1'</li><li>'TDP1'</li><li>'TERF2'</li><li>'TNP1'</li><li>'XNDC1N'</li><li>'XRCC1'</li></ol>\n</dd>\n\t<dt>$`GO:0000018`</dt>\n\t\t<dd><style>\n.list-inline {list-style: none; margin:0; padding: 0}\n.list-inline>li {display: inline-block}\n.list-inline>li:not(:last-child)::after {content: \"\\00b7\"; padding: 0 .5ex}\n</style>\n<ol class=list-inline><li>'ACTR2'</li><li>'ALYREF'</li><li>'ANKLE1'</li><li>'ARID2'</li><li>'BCL6'</li><li>'BLM'</li><li>'CD28'</li><li>'CD40'</li><li>'CGAS'</li><li>'CHEK1'</li><li>'CLC'</li><li>'CLCF1'</li><li>'ERCC2'</li><li>'ERCC6'</li><li>'EXOSC3'</li><li>'EXOSC6'</li><li>'FANCB'</li><li>'FBH1'</li><li>'FIGNL1'</li><li>'FOXP3'</li><li>'FUS'</li><li>'H1-0'</li><li>'H1-1'</li><li>'H1-10'</li><li>'H1-2'</li><li>'H1-3'</li><li>'H1-4'</li><li>'H1-5'</li><li>'H1-6'</li><li>'H1-8'</li><li>'H1-9P'</li><li>'HELB'</li><li>'HMCES'</li><li>'IL10'</li><li>'IL2'</li><li>'IL27RA'</li><li>'IL4'</li><li>'IL7R'</li><li>'KDM1A'</li><li>'KHDC3L'</li><li>'KLHL15'</li><li>'KMT5B'</li><li>'KMT5C'</li><li>'KPNA1'</li><li>'KPNA2'</li><li>'MAD2L2'</li><li>'MAGEF1'</li><li>'MLH1'</li><li>'MMS19'</li><li>'MRE11'</li><li>'MRNIP'</li><li>'MSH2'</li><li>'MSH3'</li><li>'MSH6'</li><li>'NDFIP1'</li><li>'NSD2'</li><li>'OOEP'</li><li>'PARP1'</li><li>'PARP3'</li><li>'PARPBP'</li><li>'PAXIP1'</li><li>'POLQ'</li><li>'PPP4C'</li><li>'PPP4R2'</li><li>'PRDM7'</li><li>'PRDM9'</li><li>'PTPRC'</li><li>'RAD50'</li><li>'RAD51'</li><li>'RAD51AP1'</li><li>'RADX'</li><li>'RECQL5'</li><li>'RIF1'</li><li>'RMI2'</li><li>'RPA2'</li><li>'RTEL1'</li><li>'SETD2'</li><li>'SHLD1'</li><li>'SHLD2'</li><li>'SIRT6'</li><li>'SLC15A4'</li><li>'SMARCAD1'</li><li>'SMCHD1'</li><li>'SPIDR'</li><li>'STAT6'</li><li>'SUPT6H'</li><li>'TBX21'</li><li>'TERF2'</li><li>'TERF2IP'</li><li>'TEX15'</li><li>'TFRC'</li><li>'TGFB1'</li><li>'THOC1'</li><li>'TIMELESS'</li><li>'TNFSF13'</li><li>'TNFSF4'</li><li>'TP53BP1'</li><li>'UBE2B'</li><li>'UBQLN4'</li><li>'USP51'</li><li>'WAS'</li><li>'WDR48'</li><li>'WRAP53'</li><li>'ZCWPW1'</li><li>'ZNF365'</li><li>'ZRANB3'</li><li>'ZSCAN4'</li></ol>\n</dd>\n\t<dt>$`GO:0000027`</dt>\n\t\t<dd><style>\n.list-inline {list-style: none; margin:0; padding: 0}\n.list-inline>li {display: inline-block}\n.list-inline>li:not(:last-child)::after {content: \"\\00b7\"; padding: 0 .5ex}\n</style>\n<ol class=list-inline><li>'BOP1'</li><li>'BRIX1'</li><li>'DDX28'</li><li>'DHX30'</li><li>'FASTKD2'</li><li>'MDN1'</li><li>'MRPL20'</li><li>'MRTO4'</li><li>'NLE1'</li><li>'NOP2'</li><li>'NOP53'</li><li>'PPAN'</li><li>'RPF2'</li><li>'RPL10'</li><li>'RPL10L'</li><li>'RPL11'</li><li>'RPL23A'</li><li>'RPL24'</li><li>'RPL3'</li><li>'RPL38'</li><li>'RPL3L'</li><li>'RPL5'</li><li>'RPL6'</li><li>'RPLP0'</li><li>'RRS1'</li><li>'TRAF7'</li></ol>\n</dd>\n</dl>\n",
      "text/markdown": "$`GO:0000002`\n:   1. 'AKT3'\n2. 'DNA2'\n3. 'LIG3'\n4. 'LONP1'\n5. 'MEF2A'\n6. 'MGME1'\n7. 'MPV17'\n8. 'OPA1'\n9. 'PARP1'\n10. 'PIF1'\n11. 'PIM1'\n12. 'POLB'\n13. 'POLG2'\n14. 'PPARGC1A'\n15. 'PRIMPOL'\n16. 'SESN2'\n17. 'SLC25A33'\n18. 'SLC25A36'\n19. 'SLC25A4'\n20. 'STOX1'\n21. 'TOP3A'\n22. 'TP53'\n23. 'TYMP'\n\n\n\n$`GO:0000003`\n:   1. 'A1CF'\n2. 'AAAS'\n3. 'ABAT'\n4. 'ABCC2'\n5. 'ABCC8'\n6. 'ABHD2'\n7. 'ACE'\n8. 'ACOD1'\n9. 'ACOX1'\n10. 'ACR'\n11. 'ACRBP'\n12. 'ACSBG2'\n13. 'ACSL4'\n14. 'ACTR1A'\n15. 'ACTR2'\n16. 'ACTR3'\n17. 'ACVR1'\n18. 'ACVR1B'\n19. 'ACVR1C'\n20. 'ACVR2A'\n21. 'ADA'\n22. 'ADAD1'\n23. 'ADAM10'\n24. 'ADAM15'\n25. 'ADAM18'\n26. 'ADAM19'\n27. 'ADAM2'\n28. 'ADAM20'\n29. 'ADAM21'\n30. 'ADAM28'\n31. 'ADAM29'\n32. 'ADAM32'\n33. 'ADAM5'\n34. 'ADAMTS1'\n35. 'ADAMTS16'\n36. 'ADAMTS2'\n37. 'ADCY10'\n38. 'ADCY3'\n39. 'ADCY7'\n40. 'ADCYAP1'\n41. 'ADCYAP1R1'\n42. 'ADGRG1'\n43. 'ADGRG2'\n44. 'ADIPOR2'\n45. 'ADM'\n46. 'ADNP'\n47. 'ADRA2B'\n48. 'ADRA2C'\n49. 'AFF4'\n50. 'AFP'\n51. 'AGFG1'\n52. 'AGO2'\n53. 'AGO4'\n54. 'AGRP'\n55. 'AGT'\n56. 'AKAP3'\n57. 'AKAP4'\n58. 'AKR1B1'\n59. 'AKR1C3'\n60. 'AKT1'\n61. 'ALDOA'\n62. 'ALKBH1'\n63. 'ALKBH5'\n64. 'ALOX15B'\n65. 'ALPL'\n66. 'AMBP'\n67. 'AMH'\n68. 'AMHR2'\n69. 'ANG'\n70. 'ANGPT2'\n71. 'ANKRD31'\n72. 'ANKRD49'\n73. 'ANTXR1'\n74. 'ANXA1'\n75. 'AP3B1'\n76. 'APELA'\n77. 'APOB'\n78. 'APOL2'\n79. 'APOL3'\n80. 'APP'\n81. 'AR'\n82. 'AREG'\n83. 'ARG1'\n84. 'ARHGDIB'\n85. 'ARID4A'\n86. 'ARID5B'\n87. 'ARMC2'\n88. 'ARNT'\n89. 'ARNTL'\n90. 'ARRB1'\n91. 'ARRB2'\n92. 'ASB1'\n93. 'ASCL2'\n94. 'ASF1B'\n95. 'ASH1L'\n96. 'ASPM'\n97. 'ASZ1'\n98. 'ATAT1'\n99. 'ATM'\n100. 'ATP1A1'\n101. 'ATP1A4'\n102. 'ATP2B2'\n103. 'ATP2B4'\n104. 'ATP7A'\n105. 'ATP8B3'\n106. 'ATR'\n107. 'ATRX'\n108. 'AURKA'\n109. 'AURKC'\n110. 'AVP'\n111. 'AVPR1A'\n112. 'AXL'\n113. 'AZI2'\n114. 'AZIN2'\n115. 'B4GALNT1'\n116. 'B4GALT1'\n117. 'BACH1'\n118. 'BAD'\n119. 'BAG6'\n120. 'BAK1'\n121. 'BAP1'\n122. 'BASP1'\n123. 'BAX'\n124. 'BBS2'\n125. 'BBS4'\n126. 'BCAP31'\n127. 'BCKDK'\n128. 'BCL2'\n129. 'BCL2L1'\n130. 'BCL2L10'\n131. 'BCL2L11'\n132. 'BCL2L2'\n133. 'BCL6'\n134. 'BIK'\n135. 'BIRC2'\n136. 'BIRC3'\n137. 'BIRC6'\n138. 'BMP15'\n139. 'BMP4'\n140. 'BMP5'\n141. 'BMP6'\n142. 'BMP7'\n143. 'BMPR1A'\n144. 'BMPR1B'\n145. 'BMPR2'\n146. 'BNC1'\n147. 'BOK'\n148. 'BOLL'\n149. 'BPTF'\n150. 'BPY2'\n151. 'BRCA2'\n152. 'BRD2'\n153. 'BRDT'\n154. 'BRF1'\n155. 'BRINP1'\n156. 'BRIP1'\n157. 'BRME1'\n158. 'BSG'\n159. 'BTBD18'\n160. 'BTG1'\n161. 'BUB1'\n162. 'BUB1B'\n163. 'BUB3'\n164. 'C11orf80'\n165. 'C14orf39'\n166. 'C16orf92'\n167. 'C1QBP'\n168. 'C3'\n169. 'C9orf24'\n170. 'CABS1'\n171. 'CABYR'\n172. 'CACNA1H'\n173. 'CACNA1I'\n174. 'CAD'\n175. 'CADM1'\n176. 'CALCA'\n177. 'CALR'\n178. 'CALR3'\n179. 'CAPN2'\n180. 'CASP2'\n181. 'CASP3'\n182. 'CASP8'\n183. 'CATSPER1'\n184. 'CATSPER2'\n185. 'CATSPER3'\n186. 'CATSPERB'\n187. 'CATSPERD'\n188. 'CATSPERG'\n189. 'CBL'\n190. 'CBX2'\n191. 'CCDC134'\n192. 'CCDC136'\n193. 'CCDC182'\n194. 'CCDC39'\n195. 'CCDC40'\n196. 'CCDC42'\n197. 'CCDC63'\n198. 'CCDC87'\n199. 'CCIN'\n200. 'CCN1'\n201. ⋯\n202. 'TBP'\n203. 'TBPL1'\n204. 'TBX3'\n205. 'TCF21'\n206. 'TCFL5'\n207. 'TCP1'\n208. 'TCP11'\n209. 'TCTE1'\n210. 'TDRD1'\n211. 'TDRD12'\n212. 'TDRD5'\n213. 'TDRD6'\n214. 'TDRD7'\n215. 'TDRD9'\n216. 'TDRKH'\n217. 'TDRP'\n218. 'TEAD3'\n219. 'TEKT2'\n220. 'TEKT3'\n221. 'TEP1'\n222. 'TERB1'\n223. 'TERB2'\n224. 'TERF1'\n225. 'TESC'\n226. 'TESK1'\n227. 'TESK2'\n228. 'TESMIN'\n229. 'TEX101'\n230. 'TEX11'\n231. 'TEX12'\n232. 'TEX14'\n233. 'TEX15'\n234. 'TEX19'\n235. 'TFAP2C'\n236. 'TFEB'\n237. 'TGFB2'\n238. 'TGFB3'\n239. 'TGFBR1'\n240. 'TGFBR2'\n241. 'TGS1'\n242. 'TH'\n243. 'THBD'\n244. 'THEG'\n245. 'THRA'\n246. 'THRB'\n247. 'TIAL1'\n248. 'TIFAB'\n249. 'TIMP1'\n250. 'TIMP4'\n251. 'TIPARP'\n252. 'TLE6'\n253. 'TLR3'\n254. 'TMED2'\n255. 'TMEM119'\n256. 'TMEM203'\n257. 'TMEM95'\n258. 'TMF1'\n259. 'TMPRSS12'\n260. 'TNC'\n261. 'TNFAIP6'\n262. 'TNFSF10'\n263. 'TNP1'\n264. 'TNP2'\n265. 'TOB2'\n266. 'TOP2A'\n267. 'TOP2B'\n268. 'TOP3A'\n269. 'TP63'\n270. 'TPGS1'\n271. 'TPPP2'\n272. 'TPPP3'\n273. 'TRAC'\n274. 'TRIM27'\n275. 'TRIM28'\n276. 'TRIM36'\n277. 'TRIP13'\n278. 'TRO'\n279. 'TRPC3'\n280. 'TRPC6'\n281. 'TRPC7'\n282. 'TRPM2'\n283. 'TSGA10'\n284. 'TSNAX'\n285. 'TSNAXIP1'\n286. 'TSPAN8'\n287. 'TSPY1'\n288. 'TSSK1B'\n289. 'TSSK2'\n290. 'TSSK3'\n291. 'TSSK4'\n292. 'TSSK6'\n293. 'TTC12'\n294. 'TTC21A'\n295. 'TTC26'\n296. 'TTF1'\n297. 'TTK'\n298. 'TTLL1'\n299. 'TTLL3'\n300. 'TTLL9'\n301. 'TUBG1'\n302. 'TUBG2'\n303. 'TUBGCP2'\n304. 'TUBGCP3'\n305. 'TUBGCP4'\n306. 'TUBGCP5'\n307. 'TUBGCP6'\n308. 'TUT4'\n309. 'TUT7'\n310. 'TXNDC2'\n311. 'TXNDC8'\n312. 'TXNRD3'\n313. 'TYRO3'\n314. 'UBAP2L'\n315. 'UBB'\n316. 'UBE2A'\n317. 'UBE2B'\n318. 'UBE2J1'\n319. 'UBE2Q1'\n320. 'UBE3A'\n321. 'UBR2'\n322. 'UBXN8'\n323. 'UCN'\n324. 'UCP2'\n325. 'UMODL1'\n326. 'UMPS'\n327. 'UNC13B'\n328. 'UPRT'\n329. 'USP42'\n330. 'USP9X'\n331. 'USP9Y'\n332. 'UTF1'\n333. 'UTP14C'\n334. 'VASH1'\n335. 'VASH2'\n336. 'VDAC2'\n337. 'VDR'\n338. 'VEGFA'\n339. 'VGF'\n340. 'VIP'\n341. 'VIPAS39'\n342. 'VMP1'\n343. 'VPS13A'\n344. 'WASHC5'\n345. 'WBP2NL'\n346. 'WDR19'\n347. 'WDR33'\n348. 'WDR48'\n349. 'WDR77'\n350. 'WFDC2'\n351. 'WIPF3'\n352. 'WNT2'\n353. 'WNT2B'\n354. 'WNT3'\n355. 'WNT4'\n356. 'WNT5A'\n357. 'WNT7A'\n358. 'WNT7B'\n359. 'WNT9B'\n360. 'WT1'\n361. 'XDH'\n362. 'XKRY'\n363. 'XRCC2'\n364. 'XRN2'\n365. 'YBX2'\n366. 'YBX3'\n367. 'YIF1B'\n368. 'YTHDC1'\n369. 'YTHDC2'\n370. 'YTHDF2'\n371. 'YTHDF3'\n372. 'YY1'\n373. 'ZAN'\n374. 'ZBTB16'\n375. 'ZCWPW1'\n376. 'ZFP36L1'\n377. 'ZFP41'\n378. 'ZFP42'\n379. 'ZFPM2'\n380. 'ZFX'\n381. 'ZGLP1'\n382. 'ZMIZ1'\n383. 'ZMYND15'\n384. 'ZNF148'\n385. 'ZNF225'\n386. 'ZNF296'\n387. 'ZNF318'\n388. 'ZNF35'\n389. 'ZNF449'\n390. 'ZNF541'\n391. 'ZNF568'\n392. 'ZNF628'\n393. 'ZNF830'\n394. 'ZP1'\n395. 'ZP2'\n396. 'ZP4'\n397. 'ZPBP'\n398. 'ZPBP2'\n399. 'ZSCAN2'\n400. 'ZSCAN21'\n401. 'ZW10'\n\n\n\n$`GO:0000012`\n:   1. 'APLF'\n2. 'APTX'\n3. 'ERCC6'\n4. 'ERCC8'\n5. 'LIG4'\n6. 'PARP1'\n7. 'SIRT1'\n8. 'TDP1'\n9. 'TERF2'\n10. 'TNP1'\n11. 'XNDC1N'\n12. 'XRCC1'\n\n\n\n$`GO:0000018`\n:   1. 'ACTR2'\n2. 'ALYREF'\n3. 'ANKLE1'\n4. 'ARID2'\n5. 'BCL6'\n6. 'BLM'\n7. 'CD28'\n8. 'CD40'\n9. 'CGAS'\n10. 'CHEK1'\n11. 'CLC'\n12. 'CLCF1'\n13. 'ERCC2'\n14. 'ERCC6'\n15. 'EXOSC3'\n16. 'EXOSC6'\n17. 'FANCB'\n18. 'FBH1'\n19. 'FIGNL1'\n20. 'FOXP3'\n21. 'FUS'\n22. 'H1-0'\n23. 'H1-1'\n24. 'H1-10'\n25. 'H1-2'\n26. 'H1-3'\n27. 'H1-4'\n28. 'H1-5'\n29. 'H1-6'\n30. 'H1-8'\n31. 'H1-9P'\n32. 'HELB'\n33. 'HMCES'\n34. 'IL10'\n35. 'IL2'\n36. 'IL27RA'\n37. 'IL4'\n38. 'IL7R'\n39. 'KDM1A'\n40. 'KHDC3L'\n41. 'KLHL15'\n42. 'KMT5B'\n43. 'KMT5C'\n44. 'KPNA1'\n45. 'KPNA2'\n46. 'MAD2L2'\n47. 'MAGEF1'\n48. 'MLH1'\n49. 'MMS19'\n50. 'MRE11'\n51. 'MRNIP'\n52. 'MSH2'\n53. 'MSH3'\n54. 'MSH6'\n55. 'NDFIP1'\n56. 'NSD2'\n57. 'OOEP'\n58. 'PARP1'\n59. 'PARP3'\n60. 'PARPBP'\n61. 'PAXIP1'\n62. 'POLQ'\n63. 'PPP4C'\n64. 'PPP4R2'\n65. 'PRDM7'\n66. 'PRDM9'\n67. 'PTPRC'\n68. 'RAD50'\n69. 'RAD51'\n70. 'RAD51AP1'\n71. 'RADX'\n72. 'RECQL5'\n73. 'RIF1'\n74. 'RMI2'\n75. 'RPA2'\n76. 'RTEL1'\n77. 'SETD2'\n78. 'SHLD1'\n79. 'SHLD2'\n80. 'SIRT6'\n81. 'SLC15A4'\n82. 'SMARCAD1'\n83. 'SMCHD1'\n84. 'SPIDR'\n85. 'STAT6'\n86. 'SUPT6H'\n87. 'TBX21'\n88. 'TERF2'\n89. 'TERF2IP'\n90. 'TEX15'\n91. 'TFRC'\n92. 'TGFB1'\n93. 'THOC1'\n94. 'TIMELESS'\n95. 'TNFSF13'\n96. 'TNFSF4'\n97. 'TP53BP1'\n98. 'UBE2B'\n99. 'UBQLN4'\n100. 'USP51'\n101. 'WAS'\n102. 'WDR48'\n103. 'WRAP53'\n104. 'ZCWPW1'\n105. 'ZNF365'\n106. 'ZRANB3'\n107. 'ZSCAN4'\n\n\n\n$`GO:0000027`\n:   1. 'BOP1'\n2. 'BRIX1'\n3. 'DDX28'\n4. 'DHX30'\n5. 'FASTKD2'\n6. 'MDN1'\n7. 'MRPL20'\n8. 'MRTO4'\n9. 'NLE1'\n10. 'NOP2'\n11. 'NOP53'\n12. 'PPAN'\n13. 'RPF2'\n14. 'RPL10'\n15. 'RPL10L'\n16. 'RPL11'\n17. 'RPL23A'\n18. 'RPL24'\n19. 'RPL3'\n20. 'RPL38'\n21. 'RPL3L'\n22. 'RPL5'\n23. 'RPL6'\n24. 'RPLP0'\n25. 'RRS1'\n26. 'TRAF7'\n\n\n\n\n\n",
      "text/latex": "\\begin{description}\n\\item[\\$`GO:0000002`] \\begin{enumerate*}\n\\item 'AKT3'\n\\item 'DNA2'\n\\item 'LIG3'\n\\item 'LONP1'\n\\item 'MEF2A'\n\\item 'MGME1'\n\\item 'MPV17'\n\\item 'OPA1'\n\\item 'PARP1'\n\\item 'PIF1'\n\\item 'PIM1'\n\\item 'POLB'\n\\item 'POLG2'\n\\item 'PPARGC1A'\n\\item 'PRIMPOL'\n\\item 'SESN2'\n\\item 'SLC25A33'\n\\item 'SLC25A36'\n\\item 'SLC25A4'\n\\item 'STOX1'\n\\item 'TOP3A'\n\\item 'TP53'\n\\item 'TYMP'\n\\end{enumerate*}\n\n\\item[\\$`GO:0000003`] \\begin{enumerate*}\n\\item 'A1CF'\n\\item 'AAAS'\n\\item 'ABAT'\n\\item 'ABCC2'\n\\item 'ABCC8'\n\\item 'ABHD2'\n\\item 'ACE'\n\\item 'ACOD1'\n\\item 'ACOX1'\n\\item 'ACR'\n\\item 'ACRBP'\n\\item 'ACSBG2'\n\\item 'ACSL4'\n\\item 'ACTR1A'\n\\item 'ACTR2'\n\\item 'ACTR3'\n\\item 'ACVR1'\n\\item 'ACVR1B'\n\\item 'ACVR1C'\n\\item 'ACVR2A'\n\\item 'ADA'\n\\item 'ADAD1'\n\\item 'ADAM10'\n\\item 'ADAM15'\n\\item 'ADAM18'\n\\item 'ADAM19'\n\\item 'ADAM2'\n\\item 'ADAM20'\n\\item 'ADAM21'\n\\item 'ADAM28'\n\\item 'ADAM29'\n\\item 'ADAM32'\n\\item 'ADAM5'\n\\item 'ADAMTS1'\n\\item 'ADAMTS16'\n\\item 'ADAMTS2'\n\\item 'ADCY10'\n\\item 'ADCY3'\n\\item 'ADCY7'\n\\item 'ADCYAP1'\n\\item 'ADCYAP1R1'\n\\item 'ADGRG1'\n\\item 'ADGRG2'\n\\item 'ADIPOR2'\n\\item 'ADM'\n\\item 'ADNP'\n\\item 'ADRA2B'\n\\item 'ADRA2C'\n\\item 'AFF4'\n\\item 'AFP'\n\\item 'AGFG1'\n\\item 'AGO2'\n\\item 'AGO4'\n\\item 'AGRP'\n\\item 'AGT'\n\\item 'AKAP3'\n\\item 'AKAP4'\n\\item 'AKR1B1'\n\\item 'AKR1C3'\n\\item 'AKT1'\n\\item 'ALDOA'\n\\item 'ALKBH1'\n\\item 'ALKBH5'\n\\item 'ALOX15B'\n\\item 'ALPL'\n\\item 'AMBP'\n\\item 'AMH'\n\\item 'AMHR2'\n\\item 'ANG'\n\\item 'ANGPT2'\n\\item 'ANKRD31'\n\\item 'ANKRD49'\n\\item 'ANTXR1'\n\\item 'ANXA1'\n\\item 'AP3B1'\n\\item 'APELA'\n\\item 'APOB'\n\\item 'APOL2'\n\\item 'APOL3'\n\\item 'APP'\n\\item 'AR'\n\\item 'AREG'\n\\item 'ARG1'\n\\item 'ARHGDIB'\n\\item 'ARID4A'\n\\item 'ARID5B'\n\\item 'ARMC2'\n\\item 'ARNT'\n\\item 'ARNTL'\n\\item 'ARRB1'\n\\item 'ARRB2'\n\\item 'ASB1'\n\\item 'ASCL2'\n\\item 'ASF1B'\n\\item 'ASH1L'\n\\item 'ASPM'\n\\item 'ASZ1'\n\\item 'ATAT1'\n\\item 'ATM'\n\\item 'ATP1A1'\n\\item 'ATP1A4'\n\\item 'ATP2B2'\n\\item 'ATP2B4'\n\\item 'ATP7A'\n\\item 'ATP8B3'\n\\item 'ATR'\n\\item 'ATRX'\n\\item 'AURKA'\n\\item 'AURKC'\n\\item 'AVP'\n\\item 'AVPR1A'\n\\item 'AXL'\n\\item 'AZI2'\n\\item 'AZIN2'\n\\item 'B4GALNT1'\n\\item 'B4GALT1'\n\\item 'BACH1'\n\\item 'BAD'\n\\item 'BAG6'\n\\item 'BAK1'\n\\item 'BAP1'\n\\item 'BASP1'\n\\item 'BAX'\n\\item 'BBS2'\n\\item 'BBS4'\n\\item 'BCAP31'\n\\item 'BCKDK'\n\\item 'BCL2'\n\\item 'BCL2L1'\n\\item 'BCL2L10'\n\\item 'BCL2L11'\n\\item 'BCL2L2'\n\\item 'BCL6'\n\\item 'BIK'\n\\item 'BIRC2'\n\\item 'BIRC3'\n\\item 'BIRC6'\n\\item 'BMP15'\n\\item 'BMP4'\n\\item 'BMP5'\n\\item 'BMP6'\n\\item 'BMP7'\n\\item 'BMPR1A'\n\\item 'BMPR1B'\n\\item 'BMPR2'\n\\item 'BNC1'\n\\item 'BOK'\n\\item 'BOLL'\n\\item 'BPTF'\n\\item 'BPY2'\n\\item 'BRCA2'\n\\item 'BRD2'\n\\item 'BRDT'\n\\item 'BRF1'\n\\item 'BRINP1'\n\\item 'BRIP1'\n\\item 'BRME1'\n\\item 'BSG'\n\\item 'BTBD18'\n\\item 'BTG1'\n\\item 'BUB1'\n\\item 'BUB1B'\n\\item 'BUB3'\n\\item 'C11orf80'\n\\item 'C14orf39'\n\\item 'C16orf92'\n\\item 'C1QBP'\n\\item 'C3'\n\\item 'C9orf24'\n\\item 'CABS1'\n\\item 'CABYR'\n\\item 'CACNA1H'\n\\item 'CACNA1I'\n\\item 'CAD'\n\\item 'CADM1'\n\\item 'CALCA'\n\\item 'CALR'\n\\item 'CALR3'\n\\item 'CAPN2'\n\\item 'CASP2'\n\\item 'CASP3'\n\\item 'CASP8'\n\\item 'CATSPER1'\n\\item 'CATSPER2'\n\\item 'CATSPER3'\n\\item 'CATSPERB'\n\\item 'CATSPERD'\n\\item 'CATSPERG'\n\\item 'CBL'\n\\item 'CBX2'\n\\item 'CCDC134'\n\\item 'CCDC136'\n\\item 'CCDC182'\n\\item 'CCDC39'\n\\item 'CCDC40'\n\\item 'CCDC42'\n\\item 'CCDC63'\n\\item 'CCDC87'\n\\item 'CCIN'\n\\item 'CCN1'\n\\item ⋯\n\\item 'TBP'\n\\item 'TBPL1'\n\\item 'TBX3'\n\\item 'TCF21'\n\\item 'TCFL5'\n\\item 'TCP1'\n\\item 'TCP11'\n\\item 'TCTE1'\n\\item 'TDRD1'\n\\item 'TDRD12'\n\\item 'TDRD5'\n\\item 'TDRD6'\n\\item 'TDRD7'\n\\item 'TDRD9'\n\\item 'TDRKH'\n\\item 'TDRP'\n\\item 'TEAD3'\n\\item 'TEKT2'\n\\item 'TEKT3'\n\\item 'TEP1'\n\\item 'TERB1'\n\\item 'TERB2'\n\\item 'TERF1'\n\\item 'TESC'\n\\item 'TESK1'\n\\item 'TESK2'\n\\item 'TESMIN'\n\\item 'TEX101'\n\\item 'TEX11'\n\\item 'TEX12'\n\\item 'TEX14'\n\\item 'TEX15'\n\\item 'TEX19'\n\\item 'TFAP2C'\n\\item 'TFEB'\n\\item 'TGFB2'\n\\item 'TGFB3'\n\\item 'TGFBR1'\n\\item 'TGFBR2'\n\\item 'TGS1'\n\\item 'TH'\n\\item 'THBD'\n\\item 'THEG'\n\\item 'THRA'\n\\item 'THRB'\n\\item 'TIAL1'\n\\item 'TIFAB'\n\\item 'TIMP1'\n\\item 'TIMP4'\n\\item 'TIPARP'\n\\item 'TLE6'\n\\item 'TLR3'\n\\item 'TMED2'\n\\item 'TMEM119'\n\\item 'TMEM203'\n\\item 'TMEM95'\n\\item 'TMF1'\n\\item 'TMPRSS12'\n\\item 'TNC'\n\\item 'TNFAIP6'\n\\item 'TNFSF10'\n\\item 'TNP1'\n\\item 'TNP2'\n\\item 'TOB2'\n\\item 'TOP2A'\n\\item 'TOP2B'\n\\item 'TOP3A'\n\\item 'TP63'\n\\item 'TPGS1'\n\\item 'TPPP2'\n\\item 'TPPP3'\n\\item 'TRAC'\n\\item 'TRIM27'\n\\item 'TRIM28'\n\\item 'TRIM36'\n\\item 'TRIP13'\n\\item 'TRO'\n\\item 'TRPC3'\n\\item 'TRPC6'\n\\item 'TRPC7'\n\\item 'TRPM2'\n\\item 'TSGA10'\n\\item 'TSNAX'\n\\item 'TSNAXIP1'\n\\item 'TSPAN8'\n\\item 'TSPY1'\n\\item 'TSSK1B'\n\\item 'TSSK2'\n\\item 'TSSK3'\n\\item 'TSSK4'\n\\item 'TSSK6'\n\\item 'TTC12'\n\\item 'TTC21A'\n\\item 'TTC26'\n\\item 'TTF1'\n\\item 'TTK'\n\\item 'TTLL1'\n\\item 'TTLL3'\n\\item 'TTLL9'\n\\item 'TUBG1'\n\\item 'TUBG2'\n\\item 'TUBGCP2'\n\\item 'TUBGCP3'\n\\item 'TUBGCP4'\n\\item 'TUBGCP5'\n\\item 'TUBGCP6'\n\\item 'TUT4'\n\\item 'TUT7'\n\\item 'TXNDC2'\n\\item 'TXNDC8'\n\\item 'TXNRD3'\n\\item 'TYRO3'\n\\item 'UBAP2L'\n\\item 'UBB'\n\\item 'UBE2A'\n\\item 'UBE2B'\n\\item 'UBE2J1'\n\\item 'UBE2Q1'\n\\item 'UBE3A'\n\\item 'UBR2'\n\\item 'UBXN8'\n\\item 'UCN'\n\\item 'UCP2'\n\\item 'UMODL1'\n\\item 'UMPS'\n\\item 'UNC13B'\n\\item 'UPRT'\n\\item 'USP42'\n\\item 'USP9X'\n\\item 'USP9Y'\n\\item 'UTF1'\n\\item 'UTP14C'\n\\item 'VASH1'\n\\item 'VASH2'\n\\item 'VDAC2'\n\\item 'VDR'\n\\item 'VEGFA'\n\\item 'VGF'\n\\item 'VIP'\n\\item 'VIPAS39'\n\\item 'VMP1'\n\\item 'VPS13A'\n\\item 'WASHC5'\n\\item 'WBP2NL'\n\\item 'WDR19'\n\\item 'WDR33'\n\\item 'WDR48'\n\\item 'WDR77'\n\\item 'WFDC2'\n\\item 'WIPF3'\n\\item 'WNT2'\n\\item 'WNT2B'\n\\item 'WNT3'\n\\item 'WNT4'\n\\item 'WNT5A'\n\\item 'WNT7A'\n\\item 'WNT7B'\n\\item 'WNT9B'\n\\item 'WT1'\n\\item 'XDH'\n\\item 'XKRY'\n\\item 'XRCC2'\n\\item 'XRN2'\n\\item 'YBX2'\n\\item 'YBX3'\n\\item 'YIF1B'\n\\item 'YTHDC1'\n\\item 'YTHDC2'\n\\item 'YTHDF2'\n\\item 'YTHDF3'\n\\item 'YY1'\n\\item 'ZAN'\n\\item 'ZBTB16'\n\\item 'ZCWPW1'\n\\item 'ZFP36L1'\n\\item 'ZFP41'\n\\item 'ZFP42'\n\\item 'ZFPM2'\n\\item 'ZFX'\n\\item 'ZGLP1'\n\\item 'ZMIZ1'\n\\item 'ZMYND15'\n\\item 'ZNF148'\n\\item 'ZNF225'\n\\item 'ZNF296'\n\\item 'ZNF318'\n\\item 'ZNF35'\n\\item 'ZNF449'\n\\item 'ZNF541'\n\\item 'ZNF568'\n\\item 'ZNF628'\n\\item 'ZNF830'\n\\item 'ZP1'\n\\item 'ZP2'\n\\item 'ZP4'\n\\item 'ZPBP'\n\\item 'ZPBP2'\n\\item 'ZSCAN2'\n\\item 'ZSCAN21'\n\\item 'ZW10'\n\\end{enumerate*}\n\n\\item[\\$`GO:0000012`] \\begin{enumerate*}\n\\item 'APLF'\n\\item 'APTX'\n\\item 'ERCC6'\n\\item 'ERCC8'\n\\item 'LIG4'\n\\item 'PARP1'\n\\item 'SIRT1'\n\\item 'TDP1'\n\\item 'TERF2'\n\\item 'TNP1'\n\\item 'XNDC1N'\n\\item 'XRCC1'\n\\end{enumerate*}\n\n\\item[\\$`GO:0000018`] \\begin{enumerate*}\n\\item 'ACTR2'\n\\item 'ALYREF'\n\\item 'ANKLE1'\n\\item 'ARID2'\n\\item 'BCL6'\n\\item 'BLM'\n\\item 'CD28'\n\\item 'CD40'\n\\item 'CGAS'\n\\item 'CHEK1'\n\\item 'CLC'\n\\item 'CLCF1'\n\\item 'ERCC2'\n\\item 'ERCC6'\n\\item 'EXOSC3'\n\\item 'EXOSC6'\n\\item 'FANCB'\n\\item 'FBH1'\n\\item 'FIGNL1'\n\\item 'FOXP3'\n\\item 'FUS'\n\\item 'H1-0'\n\\item 'H1-1'\n\\item 'H1-10'\n\\item 'H1-2'\n\\item 'H1-3'\n\\item 'H1-4'\n\\item 'H1-5'\n\\item 'H1-6'\n\\item 'H1-8'\n\\item 'H1-9P'\n\\item 'HELB'\n\\item 'HMCES'\n\\item 'IL10'\n\\item 'IL2'\n\\item 'IL27RA'\n\\item 'IL4'\n\\item 'IL7R'\n\\item 'KDM1A'\n\\item 'KHDC3L'\n\\item 'KLHL15'\n\\item 'KMT5B'\n\\item 'KMT5C'\n\\item 'KPNA1'\n\\item 'KPNA2'\n\\item 'MAD2L2'\n\\item 'MAGEF1'\n\\item 'MLH1'\n\\item 'MMS19'\n\\item 'MRE11'\n\\item 'MRNIP'\n\\item 'MSH2'\n\\item 'MSH3'\n\\item 'MSH6'\n\\item 'NDFIP1'\n\\item 'NSD2'\n\\item 'OOEP'\n\\item 'PARP1'\n\\item 'PARP3'\n\\item 'PARPBP'\n\\item 'PAXIP1'\n\\item 'POLQ'\n\\item 'PPP4C'\n\\item 'PPP4R2'\n\\item 'PRDM7'\n\\item 'PRDM9'\n\\item 'PTPRC'\n\\item 'RAD50'\n\\item 'RAD51'\n\\item 'RAD51AP1'\n\\item 'RADX'\n\\item 'RECQL5'\n\\item 'RIF1'\n\\item 'RMI2'\n\\item 'RPA2'\n\\item 'RTEL1'\n\\item 'SETD2'\n\\item 'SHLD1'\n\\item 'SHLD2'\n\\item 'SIRT6'\n\\item 'SLC15A4'\n\\item 'SMARCAD1'\n\\item 'SMCHD1'\n\\item 'SPIDR'\n\\item 'STAT6'\n\\item 'SUPT6H'\n\\item 'TBX21'\n\\item 'TERF2'\n\\item 'TERF2IP'\n\\item 'TEX15'\n\\item 'TFRC'\n\\item 'TGFB1'\n\\item 'THOC1'\n\\item 'TIMELESS'\n\\item 'TNFSF13'\n\\item 'TNFSF4'\n\\item 'TP53BP1'\n\\item 'UBE2B'\n\\item 'UBQLN4'\n\\item 'USP51'\n\\item 'WAS'\n\\item 'WDR48'\n\\item 'WRAP53'\n\\item 'ZCWPW1'\n\\item 'ZNF365'\n\\item 'ZRANB3'\n\\item 'ZSCAN4'\n\\end{enumerate*}\n\n\\item[\\$`GO:0000027`] \\begin{enumerate*}\n\\item 'BOP1'\n\\item 'BRIX1'\n\\item 'DDX28'\n\\item 'DHX30'\n\\item 'FASTKD2'\n\\item 'MDN1'\n\\item 'MRPL20'\n\\item 'MRTO4'\n\\item 'NLE1'\n\\item 'NOP2'\n\\item 'NOP53'\n\\item 'PPAN'\n\\item 'RPF2'\n\\item 'RPL10'\n\\item 'RPL10L'\n\\item 'RPL11'\n\\item 'RPL23A'\n\\item 'RPL24'\n\\item 'RPL3'\n\\item 'RPL38'\n\\item 'RPL3L'\n\\item 'RPL5'\n\\item 'RPL6'\n\\item 'RPLP0'\n\\item 'RRS1'\n\\item 'TRAF7'\n\\end{enumerate*}\n\n\\end{description}\n",
      "text/plain": "$`GO:0000002`\n [1] \"AKT3\"     \"DNA2\"     \"LIG3\"     \"LONP1\"    \"MEF2A\"    \"MGME1\"   \n [7] \"MPV17\"    \"OPA1\"     \"PARP1\"    \"PIF1\"     \"PIM1\"     \"POLB\"    \n[13] \"POLG2\"    \"PPARGC1A\" \"PRIMPOL\"  \"SESN2\"    \"SLC25A33\" \"SLC25A36\"\n[19] \"SLC25A4\"  \"STOX1\"    \"TOP3A\"    \"TP53\"     \"TYMP\"    \n\n$`GO:0000003`\n   [1] \"A1CF\"      \"AAAS\"      \"ABAT\"      \"ABCC2\"     \"ABCC8\"     \"ABHD2\"    \n   [7] \"ACE\"       \"ACOD1\"     \"ACOX1\"     \"ACR\"       \"ACRBP\"     \"ACSBG2\"   \n  [13] \"ACSL4\"     \"ACTR1A\"    \"ACTR2\"     \"ACTR3\"     \"ACVR1\"     \"ACVR1B\"   \n  [19] \"ACVR1C\"    \"ACVR2A\"    \"ADA\"       \"ADAD1\"     \"ADAM10\"    \"ADAM15\"   \n  [25] \"ADAM18\"    \"ADAM19\"    \"ADAM2\"     \"ADAM20\"    \"ADAM21\"    \"ADAM28\"   \n  [31] \"ADAM29\"    \"ADAM32\"    \"ADAM5\"     \"ADAMTS1\"   \"ADAMTS16\"  \"ADAMTS2\"  \n  [37] \"ADCY10\"    \"ADCY3\"     \"ADCY7\"     \"ADCYAP1\"   \"ADCYAP1R1\" \"ADGRG1\"   \n  [43] \"ADGRG2\"    \"ADIPOR2\"   \"ADM\"       \"ADNP\"      \"ADRA2B\"    \"ADRA2C\"   \n  [49] \"AFF4\"      \"AFP\"       \"AGFG1\"     \"AGO2\"      \"AGO4\"      \"AGRP\"     \n  [55] \"AGT\"       \"AKAP3\"     \"AKAP4\"     \"AKR1B1\"    \"AKR1C3\"    \"AKT1\"     \n  [61] \"ALDOA\"     \"ALKBH1\"    \"ALKBH5\"    \"ALOX15B\"   \"ALPL\"      \"AMBP\"     \n  [67] \"AMH\"       \"AMHR2\"     \"ANG\"       \"ANGPT2\"    \"ANKRD31\"   \"ANKRD49\"  \n  [73] \"ANTXR1\"    \"ANXA1\"     \"AP3B1\"     \"APELA\"     \"APOB\"      \"APOL2\"    \n  [79] \"APOL3\"     \"APP\"       \"AR\"        \"AREG\"      \"ARG1\"      \"ARHGDIB\"  \n  [85] \"ARID4A\"    \"ARID5B\"    \"ARMC2\"     \"ARNT\"      \"ARNTL\"     \"ARRB1\"    \n  [91] \"ARRB2\"     \"ASB1\"      \"ASCL2\"     \"ASF1B\"     \"ASH1L\"     \"ASPM\"     \n  [97] \"ASZ1\"      \"ATAT1\"     \"ATM\"       \"ATP1A1\"    \"ATP1A4\"    \"ATP2B2\"   \n [103] \"ATP2B4\"    \"ATP7A\"     \"ATP8B3\"    \"ATR\"       \"ATRX\"      \"AURKA\"    \n [109] \"AURKC\"     \"AVP\"       \"AVPR1A\"    \"AXL\"       \"AZI2\"      \"AZIN2\"    \n [115] \"B4GALNT1\"  \"B4GALT1\"   \"BACH1\"     \"BAD\"       \"BAG6\"      \"BAK1\"     \n [121] \"BAP1\"      \"BASP1\"     \"BAX\"       \"BBS2\"      \"BBS4\"      \"BCAP31\"   \n [127] \"BCKDK\"     \"BCL2\"      \"BCL2L1\"    \"BCL2L10\"   \"BCL2L11\"   \"BCL2L2\"   \n [133] \"BCL6\"      \"BIK\"       \"BIRC2\"     \"BIRC3\"     \"BIRC6\"     \"BMP15\"    \n [139] \"BMP4\"      \"BMP5\"      \"BMP6\"      \"BMP7\"      \"BMPR1A\"    \"BMPR1B\"   \n [145] \"BMPR2\"     \"BNC1\"      \"BOK\"       \"BOLL\"      \"BPTF\"      \"BPY2\"     \n [151] \"BRCA2\"     \"BRD2\"      \"BRDT\"      \"BRF1\"      \"BRINP1\"    \"BRIP1\"    \n [157] \"BRME1\"     \"BSG\"       \"BTBD18\"    \"BTG1\"      \"BUB1\"      \"BUB1B\"    \n [163] \"BUB3\"      \"C11orf80\"  \"C14orf39\"  \"C16orf92\"  \"C1QBP\"     \"C3\"       \n [169] \"C9orf24\"   \"CABS1\"     \"CABYR\"     \"CACNA1H\"   \"CACNA1I\"   \"CAD\"      \n [175] \"CADM1\"     \"CALCA\"     \"CALR\"      \"CALR3\"     \"CAPN2\"     \"CASP2\"    \n [181] \"CASP3\"     \"CASP8\"     \"CATSPER1\"  \"CATSPER2\"  \"CATSPER3\"  \"CATSPERB\" \n [187] \"CATSPERD\"  \"CATSPERG\"  \"CBL\"       \"CBX2\"      \"CCDC134\"   \"CCDC136\"  \n [193] \"CCDC182\"   \"CCDC39\"    \"CCDC40\"    \"CCDC42\"    \"CCDC63\"    \"CCDC87\"   \n [199] \"CCIN\"      \"CCN1\"      \"CCNA1\"     \"CCNB1\"     \"CCNB1IP1\"  \"CCNB2\"    \n [205] \"CCNB3\"     \"CCND1\"     \"CCNE1\"     \"CCNE2\"     \"CCNF\"      \"CCNI\"     \n [211] \"CCR6\"      \"CCT2\"      \"CCT3\"      \"CCT4\"      \"CCT5\"      \"CCT7\"     \n [217] \"CCT8\"      \"CD38\"      \"CD46\"      \"CD9\"       \"CDC20\"     \"CDC25A\"   \n [223] \"CDC25B\"    \"CDC25C\"    \"CDH1\"      \"CDK1\"      \"CDK16\"     \"CDK2\"     \n [229] \"CDKL2\"     \"CDKN1B\"    \"CDX2\"      \"CDX4\"      \"CDY1\"      \"CDYL\"     \n [235] \"CEBPA\"     \"CEBPB\"     \"CECR2\"     \"CELF1\"     \"CELF3\"     \"CELF4\"    \n [241] \"CENPC\"     \"CENPI\"     \"CENPS\"     \"CENPX\"     \"CEP131\"    \"CEP57\"    \n [247] \"CETN2\"     \"CFAP157\"   \"CFAP206\"   \"CFAP251\"   \"CFAP43\"    \"CFAP44\"   \n [253] \"CFAP45\"    \"CFAP52\"    \"CFAP54\"    \"CFAP58\"    \"CFAP65\"    \"CFAP69\"   \n [259] \"CFAP97D1\"  \"CFTR\"      \"CGA\"       \"CGB3\"      \"CHD5\"      \"CHD7\"     \n [265] \"CHFR\"      \"CIB1\"      \"CITED1\"    \"CITED2\"    \"CKS2\"      \"CLDN11\"   \n [271] \"CLDN4\"     \"CLGN\"      \"CLIC4\"     \"CLIC5\"     \"CLOCK\"     \"CNBD2\"    \n [277] \"CNOT9\"     \"CNP\"       \"CNR1\"      \"CNTD1\"     \"CNTFR\"     \"COL16A1\"  \n [283] \"COL9A3\"    \"COMT\"      \"CORIN\"     \"CORT\"      \"COX2\"      \"CREB3\"    \n [289] \"CREB3L4\"   \"CREM\"      \"CRH\"       \"CRHBP\"     \"CRHR1\"     \"CRIP1\"    \n [295] \"CRISP1\"    \"CRKL\"      \"CRTAP\"     \"CSDE1\"     \"CSF1\"      \"CSF2\"     \n [301] \"CSMD1\"     \"CSNK2A1\"   \"CSNK2A2\"   \"CTCFL\"     \"CTDNEP1\"   \"CTNNA1\"   \n [307] \"CTNNB1\"    \"CTSB\"      \"CTSV\"      \"CUL7\"      \"CXADR\"     \"CYC1\"     \n [313] \"CYLC1\"     \"CYLC2\"     \"CYP17A1\"   \"CYP19A1\"   \"CYP1A1\"    \"CYP26B1\"  \n [319] \"CYP27B1\"   \"CYP7B1\"    \"DACH1\"     \"DACH2\"     \"DAZ1\"      \"DAZ2\"     \n [325] \"DAZ3\"      \"DAZ4\"      \"DAZAP1\"    \"DAZL\"      \"DBH\"       \"DBP\"      \n [331] \"DCANP1\"    \"DCN\"       \"DDO\"       \"DDR1\"      \"DDX20\"     \"DDX25\"    \n [337] \"DDX3X\"     \"DDX3Y\"     \"DDX4\"      \"DDX6\"      \"DEAF1\"     \"DEDD\"     \n [343] \"DEFB1\"     \"DEFB118\"   \"DEFB126\"   \"DHCR24\"    \"DHH\"       \"DHODH\"    \n [349] \"DHX36\"     \"DHX37\"     \"DIAPH2\"    \"DKKL1\"     \"DLC1\"      \"DLD\"      \n [355] \"DLEC1\"     \"DLG1\"      \"DLX3\"      \"DMC1\"      \"DMRT1\"     \"DMRT2\"    \n [361] \"DMRT3\"     \"DMRTA1\"    \"DMRTA2\"    \"DMRTB1\"    \"DMRTC2\"    \"DNAAF11\"  \n [367] \"DNAAF6\"    \"DNAH1\"     \"DNAH11\"    \"DNAH5\"     \"DNAI1\"     \"DNAJA1\"   \n [373] \"DNAJB6\"    \"DNAJC19\"   \"DND1\"      \"DNM2\"      \"DNMT3A\"    \"DNMT3L\"   \n [379] \"DPCD\"      \"DPY19L2\"   \"DPY19L2P2\" \"DRC7\"      \"DRD1\"      \"DRD5\"     \n [385] \"DUSP1\"     \"DUSP13\"    \"DYNLL1\"    \"DZIP1\"     \"E2F1\"      \"E2F7\"     \n [391] \"E2F8\"      \"EAF2\"      \"EDDM3A\"    \"EDN1\"      \"EDNRB\"     \"EGFR\"     \n [397] \"EGR1\"      \"EHMT2\"     \"EIF2B2\"    \"EIF2B4\"    \"EIF2B5\"    \"EIF2S2\"   \n [403] \"EIF4H\"     \"EIF5A2\"    \"ELL3\"      \"ELSPBP1\"   \"EME1\"      \"EME2\"     \n [409] \"EMP2\"      \"ENDOU\"     \"ENKUR\"     \"EOMES\"     \"EPAS1\"     \"EPN1\"     \n [415] \"EPO\"       \"EPOR\"      \"EPPIN\"     \"EPYC\"      \"EQTN\"      \"ERCC1\"    \n [421] \"ERCC4\"     \"EREG\"      \"ESPL1\"     \"ESR1\"      \"ETNK2\"     \"ETS1\"     \n [427] \"ETV2\"      \"ETV5\"      \"ETV6\"      \"EXD1\"      \"EXO1\"      \"FAH\"      \n [433] \"FAM170A\"   \"FAM170B\"   \"FAM50A\"    \"FAM9A\"     \"FAM9B\"     \"FAM9C\"    \n [439] \"FANCA\"     \"FANCC\"     \"FANCD2\"    \"FANCG\"     \"FANCL\"     \"FANCM\"    \n [445] \"FBLN1\"     \"FBXO43\"    \"FBXO5\"     \"FBXW11\"    \"FBXW8\"     \"FEM1B\"    \n [451] \"FETUB\"     \"FGF10\"     \"FGF8\"      \"FGF9\"      \"FGFR2\"     \"FIGLA\"    \n [457] \"FIGNL1\"    \"FKBP6\"     \"FLNA\"      \"FMN2\"      \"FNDC3A\"    \"FOLR1\"    \n [463] \"FOLR2\"     \"FOLR3\"     \"FOS\"       \"FOSB\"      \"FOSL1\"     \"FOXA1\"    \n [469] \"FOXA3\"     \"FOXC1\"     \"FOXF2\"     \"FOXJ1\"     \"FOXJ2\"     \"FOXJ3\"    \n [475] \"FOXL2\"     \"FOXO3\"     \"FRS2\"      \"FSCN3\"     \"FSHB\"      \"FSHR\"     \n [481] \"FSIP2\"     \"FST\"       \"FSTL3\"     \"FUT10\"     \"FUT7\"      \"FZD4\"     \n [487] \"FZD5\"      \"FZR1\"      \"GABRB1\"    \"GAL3ST1\"   \"GALNT15\"   \"GALNTL5\"  \n [493] \"GAMT\"      \"GAPDHS\"    \"GAS2\"      \"GAS8\"      \"GATA1\"     \"GATA2\"    \n [499] \"GATA3\"     \"GATA4\"     \"GATA6\"     \"GCM1\"      \"GDF7\"      \"GDF9\"     \n [505] \"GGN\"       \"GGNBP2\"    \"GGT1\"      \"GGT5\"      \"GGT7\"      \"GHRHR\"    \n [511] \"GHRL\"      \"GHSR\"      \"GIP\"       \"GJA1\"      \"GJA10\"     \"GJB1\"     \n [517] \"GJB2\"      \"GJB3\"      \"GJB5\"      \"GLI1\"      \"GLI2\"      \"GLI3\"     \n [523] \"GLIPR1L1\"  \"GLRA1\"     \"GLRB\"      \"GMCL1\"     \"GMCL2\"     \"GNPDA1\"   \n [529] \"GNRH1\"     \"GNRH2\"     \"GOLGA2\"    \"GOLGA3\"    \"GORASP2\"   \"GOT2\"     \n [535] \"GPI\"       \"GPR149\"    \"GPR3\"      \"GPX4\"      \"GRB2\"      \"GREB1L\"   \n [541] \"GRHL2\"     \"GTSF1\"     \"H1-1\"      \"H1-6\"      \"H1-7\"      \"H1-8\"     \n [547] \"H1-9P\"     \"H2AX\"      \"H2BC1\"     \"HAND1\"     \"HAS2\"      \"HAVCR2\"   \n [553] \"HDAC2\"     \"HDAC4\"     \"HECTD1\"    \"HERC4\"     \"HERPUD2\"   \"HES1\"     \n [559] \"HESX1\"     \"HEXB\"      \"HEY1\"      \"HEY2\"      \"HFE\"       \"HFM1\"     \n [565] \"HGF\"       \"HIF1A\"     \"HK1\"       \"HLF\"       \"HMGB2\"     \"HMGCS1\"   \n [571] \"HNF4A\"     \"HOATZ\"     \"HOOK1\"     \"HORMAD1\"   \"HORMAD2\"   \"HOXA10\"   \n [577] \"HOXA11\"    \"HOXA13\"    \"HOXA9\"     \"HOXB13\"    \"HOXD10\"    \"HOXD13\"   \n [583] \"HOXD9\"     \"HPGD\"      \"HROB\"      \"HSD11B2\"   \"HSD17B2\"   \"HSD17B3\"  \n [589] \"HSD17B4\"   \"HSF2\"      \"HSF2BP\"    \"HSP90AB1\"  \"HSPA1L\"    \"HSPA2\"    \n [595] \"HSPA5\"     \"HSPB11\"    \"HTRA1\"     \"HTT\"       \"HUS1\"      \"HUS1B\"    \n [601] \"HYAL1\"     \"HYAL3\"     \"ICAM1\"     \"IDH1\"      \"IDO1\"      \"IFT20\"    \n [607] \"IFT27\"     \"IFT81\"     \"IFTAP\"     \"IGF1\"      \"IGF2\"      \"IGF2R\"    \n [613] \"IGFBP2\"    \"IGFBP5\"    \"IGFBP7\"    \"IGSF8\"     \"IHH\"       \"IHO1\"     \n [619] \"IL10\"      \"IL12B\"     \"IL1A\"      \"IL1B\"      \"IL4R\"      \"IMMP2L\"   \n [625] \"INCENP\"    \"ING2\"      \"INHA\"      \"INHBA\"     \"INHBB\"     \"INPP5B\"   \n [631] \"INSL3\"     \"INSRR\"     \"INTS13\"    \"IQCF1\"     \"IQCG\"      \"IRAG2\"    \n [637] \"IRF2BPL\"   \"IRX5\"      \"ITGA2\"     \"ITGA3\"     \"ITGB1\"     \"ITGB4\"    \n [643] \"ITGB8\"     \"IZUMO1\"    \"JAG2\"      \"JAM2\"      \"JAM3\"      \"JUNB\"     \n [649] \"KASH5\"     \"KATNAL1\"   \"KCNU1\"     \"KDM1B\"     \"KDM2B\"     \"KDM3A\"    \n [655] \"KDM5A\"     \"KDM5B\"     \"KHDRBS1\"   \"KIF18A\"    \"KIFC1\"     \"KISS1\"    \n [661] \"KIT\"       \"KITLG\"     \"KLF1\"      \"KLHDC3\"    \"KLHL10\"    \"KLK14\"    \n [667] \"KMT2D\"     \"KNL1\"      \"KPNA6\"     \"KRAS\"      \"KRT19\"     \"KRT8\"     \n [673] \"KRT9\"      \"LARP7\"     \"LCN6\"      \"LDHC\"      \"LEF1\"      \"LEP\"      \n [679] \"LEPR\"      \"LGALS9\"    \"LGR4\"      \"LGR5\"      \"LHB\"       \"LHCGR\"    \n [685] \"LHFPL2\"    \"LHX1\"      \"LHX3\"      \"LHX4\"      \"LHX8\"      \"LHX9\"     \n [691] \"LIF\"       \"LIMK2\"     \"LIN28A\"    \"LIN9\"      \"LLCFC1\"    \"LNPEP\"    \n [697] \"LRGUK\"     \"LRP2\"      \"LRRC52\"    \"LRRC8A\"    \"LRRK2\"     \"LY6K\"     \n [703] \"LYZL4\"     \"LYZL6\"     \"M1AP\"      \"MAEL\"      \"MAFF\"      \"MAGED2\"   \n [709] \"MAJIN\"     \"MAK\"       \"MAMLD1\"    \"MAP2K1\"    \"MAP2K6\"    \"MAP3K4\"   \n [715] \"MAPK1\"     \"MAPK14\"    \"MAPK15\"    \"MAPK3\"     \"MAPK8IP2\"  \"MARF1\"    \n [721] \"MAS1\"      \"MAST2\"     \"MBD2\"      \"MC2R\"      \"MCM8\"      \"MCM9\"     \n [727] \"MCMDC2\"    \"MDFI\"      \"MDK\"       \"MEA1\"      \"MED1\"      \"MEI1\"     \n [733] \"MEIG1\"     \"MEIKIN\"    \"MEIOB\"     \"MEIOC\"     \"MEN1\"      \"MERTK\"    \n [739] \"METTL14\"   \"METTL3\"    \"MFGE8\"     \"MFSD14A\"   \"MGAT4D\"    \"MGST1\"    \n [745] \"MICAL2\"    \"MIF\"       \"MKKS\"      \"MLH1\"      \"MLH3\"      \"MME\"      \n [751] \"MMP14\"     \"MMP2\"      \"MMP23B\"    \"MMP7\"      \"MMP9\"      \"MND1\"     \n [757] \"MNS1\"      \"MORC1\"     \"MORN2\"     \"MOS\"       \"MOV10L1\"   \"MRE11\"    \n [763] \"MROH2B\"    \"MSH2\"      \"MSH3\"      \"MSH4\"      \"MSH5\"      \"MSH6\"     \n [769] \"MST1\"      \"MST1R\"     \"MSTN\"      \"MSX1\"      \"MTNR1A\"    \"MTOR\"     \n [775] \"MUS81\"     \"MYBL1\"     \"MYCBP\"     \"MYCBPAP\"   \"MYH9\"      \"MYOCD\"    \n [781] \"MYT1\"      \"NAMPT\"     \"NANOS1\"    \"NANOS2\"    \"NANOS3\"    \"NASP\"     \n [787] \"NAT1\"      \"NAT2\"      \"NBN\"       \"NCAPD2\"    \"NCAPD3\"    \"NCAPH2\"   \n [793] \"NCOA1\"     \"NCOA4\"     \"NCOR2\"     \"NDC1\"      \"NDRG3\"     \"NECTIN2\"  \n [799] \"NECTIN3\"   \"NEK2\"      \"NEURL1\"    \"NEUROG1\"   \"NHLH2\"     \"NIPBL\"    \n [805] \"NKAPL\"     \"NKX2-1\"    \"NKX3-1\"    \"NLRP14\"    \"NLRP5\"     \"NME5\"     \n [811] \"NME8\"      \"NOBOX\"     \"NODAL\"     \"NOG\"       \"NOS1\"      \"NOS2\"     \n [817] \"NOS3\"      \"NOTCH1\"    \"NOTCH2\"    \"NOX5\"      \"NPAP1\"     \"NPAS1\"    \n [823] \"NPHP1\"     \"NPHP4\"     \"NPM2\"      \"NPPA\"      \"NPPC\"      \"NPR2\"     \n [829] \"NPY5R\"     \"NR0B1\"     \"NR2C2\"     \"NR2F2\"     \"NR5A1\"     \"NR6A1\"    \n [835] \"NRIP1\"     \"NSDHL\"     \"NSUN2\"     \"NTRK1\"     \"NUDT1\"     \"NUF2\"     \n [841] \"NUMA1\"     \"NUP107\"    \"NUP62\"     \"NUPR1\"     \"OAZ3\"      \"OCA2\"     \n [847] \"ODF1\"      \"ODF2\"      \"ODF3\"      \"ODF4\"      \"OOEP\"      \"OPRK1\"    \n [853] \"OPRL1\"     \"OPRM1\"     \"OR10J1\"    \"OR1D2\"     \"OR2H2\"     \"OR7C1\"    \n [859] \"OSBP2\"     \"OSGIN2\"    \"OSR1\"      \"OVGP1\"     \"OVOL1\"     \"OVOL2\"    \n [865] \"OXT\"       \"OXTR\"      \"P2RX1\"     \"P2RY1\"     \"P3H4\"      \"PACRG\"    \n [871] \"PAEP\"      \"PAFAH1B1\"  \"PAFAH1B2\"  \"PAFAH1B3\"  \"PAIP2\"     \"PAM\"      \n [877] \"PANK2\"     \"PANX1\"     \"PAPPA\"     \"PAQR5\"     \"PAQR7\"     \"PAQR8\"    \n [883] \"PARK7\"     \"PARN\"      \"PARP11\"    \"PATZ1\"     \"PAX5\"      \"PBX1\"     \n [889] \"PCDH12\"    \"PCDHGA4\"   \"PCDHGA9\"   \"PCNA\"      \"PCSK4\"     \"PCSK5\"    \n [895] \"PCYT1B\"    \"PDE3A\"     \"PDGFB\"     \"PDGFRA\"    \"PDGFRB\"    \"PDIK1L\"   \n [901] \"PDILT\"     \"PGAM1\"     \"PGAM2\"     \"PGF\"       \"PGM3\"      \"PGR\"      \n [907] \"PHB2\"      \"PHLDA2\"    \"PI3\"       \"PIAS1\"     \"PICK1\"     \"PIGF\"     \n [913] \"PITHD1\"    \"PIWIL1\"    \"PIWIL2\"    \"PIWIL4\"    \"PKD1\"      \"PKD2\"     \n [919] \"PKDREJ\"    \"PKMYT1\"    \"PLA2G10\"   \"PLA2G3\"    \"PLA2G4C\"   \"PLA2G6\"   \n [925] \"PLAC1\"     \"PLAG1\"     \"PLAT\"      \"PLB1\"      \"PLCB1\"     \"PLCD3\"    \n [931] \"PLCD4\"     \"PLCZ1\"     \"PLD6\"      \"PLEKHA1\"   \"PLK1\"      \"PLK4\"     \n [937] \"PLTP\"      \"PMCH\"      \"PMFBP1\"    \"PNOC\"      \"POLR1B\"    \"POMZP3\"   \n [943] \"POR\"       \"POU4F2\"    \"PPARD\"     \"PPARG\"     \"PPAT\"      \"PPP1R1B\"  \n [949] \"PPP1R9B\"   \"PPP2CA\"    \"PRDM1\"     \"PRDM14\"    \"PRDM7\"     \"PRDM9\"    \n [955] \"PRDX3\"     \"PRDX4\"     \"PRKACA\"    \"PRKACB\"    \"PRKACG\"    \"PRKAG1\"   \n [961] \"PRKAR1A\"   \"PRKDC\"     \"PRL\"       \"PRLHR\"     \"PRLR\"      \"PRM1\"     \n [967] \"PRM2\"      \"PRM3\"      \"PRMT7\"     \"PRND\"      \"PROK2\"     \"PRPS1\"    \n [973] \"PRPS1L1\"   \"PRR3\"      \"PRSS21\"    \"PRSS37\"    \"PRSS55\"    \"PSAP\"     \n [979] \"PSAPL1\"    \"PSG1\"      \"PSG11\"     \"PSG2\"      \"PSG3\"      \"PSG4\"     \n [985] \"PSG5\"      \"PSG6\"      \"PSG7\"      \"PSG9\"      \"PSMA8\"     \"PSMC3IP\"  \n [991] \"PSMD13\"    \"PSME4\"     \"PTAFR\"     \"PTCH1\"     \"PTEN\"      \"PTGDR2\"   \n [997] \"PTGFR\"     \"PTGS2\"     \"PTHLH\"     \"PTK2\"      \"PTK2B\"     \"PTN\"      \n[1003] \"PTPN11\"    \"PTPN6\"     \"PTPRN\"     \"PTTG1\"     \"PTTG2\"     \"PTTG3P\"   \n[1009] \"PTX3\"      \"PUM1\"      \"PYGO1\"     \"PYGO2\"     \"PZP\"       \"QKI\"      \n[1015] \"QRICH2\"    \"RAB13\"     \"RAB3A\"     \"RACGAP1\"   \"RAD1\"      \"RAD21\"    \n[1021] \"RAD21L1\"   \"RAD23B\"    \"RAD50\"     \"RAD51\"     \"RAD51AP1\"  \"RAD51B\"   \n[1027] \"RAD51C\"    \"RAD51D\"    \"RAD54B\"    \"RAD54L\"    \"RAI14\"     \"RAMP2\"    \n[1033] \"RARA\"      \"RARG\"      \"RBBP8\"     \"RBM15\"     \"RBM7\"      \"RBP1\"     \n[1039] \"RBP2\"      \"RBP3\"      \"RBP4\"      \"RBPJ\"      \"RDH10\"     \"REC114\"   \n[1045] \"REC8\"      \"RECK\"      \"REN\"       \"RETN\"      \"RFC1\"      \"RFX2\"     \n[1051] \"RGN\"       \"RGS2\"      \"RHBDD1\"    \"RHOBTB3\"   \"RHOXF1\"    \"RIMBP3\"   \n[1057] \"RIMS1\"     \"RLF\"       \"RLN1\"      \"RLN2\"      \"RMI1\"      \"RNASE4\"   \n[1063] \"RNF114\"    \"RNF151\"    \"RNF17\"     \"RNF2\"      \"RNF212\"    \"RNF212B\"  \n[1069] \"RNF38\"     \"RNF8\"      \"ROBO2\"     \"ROPN1\"     \"ROPN1L\"    \"ROR2\"     \n[1075] \"ROS1\"      \"RPA1\"      \"RPA2\"      \"RPL10L\"    \"RPL29\"     \"RPL39L\"   \n[1081] \"RPS6\"      \"RPS6KA2\"   \"RRM1\"      \"RSPH1\"     \"RSPH6A\"    \"RSPO3\"    \n[1087] \"RUVBL1\"    \"RXFP1\"     \"RXFP2\"     \"SAFB2\"     \"SALL1\"     \"SAT1\"     \n[1093] \"SAT2\"      \"SBF1\"      \"SCG2\"      \"SCGB1A1\"   \"SCMH1\"     \"SCP2\"     \n[1099] \"SDC1\"      \"SEBOX\"     \"SELENOP\"   \"SELP\"      \"SEMA3A\"    \"SEMG1\"    \n[1105] \"SEMG2\"     \"SEPTIN1\"   \"SEPTIN12\"  \"SEPTIN2\"   \"SEPTIN4\"   \"SEPTIN6\"  \n[1111] \"SEPTIN7\"   \"SERPINA5\"  \"SERPINB5\"  \"SERPINE2\"  \"SERPINF1\"  \"SETD2\"    \n[1117] \"SETX\"      \"SF1\"       \"SFMBT1\"    \"SFRP1\"     \"SFRP2\"     \"SGO1\"     \n[1123] \"SGO2\"      \"SGPL1\"     \"SHCBP1L\"   \"SHH\"       \"SHISA6\"    \"SHOC1\"    \n[1129] \"SIAH1\"     \"SIRT1\"     \"SIRT2\"     \"SIRT7\"     \"SIX4\"      \"SIX5\"     \n[1135] \"SKIL\"      \"SLC19A1\"   \"SLC22A14\"  \"SLC22A16\"  \"SLC25A31\"  \"SLC26A3\"  \n[1141] \"SLC26A6\"   \"SLC26A8\"   \"SLC2A1\"    \"SLC2A14\"   \"SLC2A8\"    \"SLC38A1\"  \n[1147] \"SLC38A2\"   \"SLC38A3\"   \"SLC4A2\"    \"SLC6A4\"    \"SLC7A11\"   \"SLC9B1\"   \n[1153] \"SLC9B2\"    \"SLCO4C1\"   \"SLIRP\"     \"SLIT1\"     \"SLIT2\"     \"SLIT3\"    \n[1159] \"SLX4\"      \"SMAD1\"     \"SMAD4\"     \"SMAD5\"     \"SMARCA2\"   \"SMARCC1\"  \n[1165] \"SMC1A\"     \"SMC1B\"     \"SMC2\"      \"SMC3\"      \"SMC4\"      \"SMCP\"     \n[1171] \"SMURF2\"    \"SNAI1\"     \"SNRPA1\"    \"SNU13\"     \"SOCS3\"     \"SOD1\"     \n[1177] \"SOHLH1\"    \"SOHLH2\"    \"SORD\"      \"SOS1\"      \"SOX15\"     \"SOX17\"    \n[1183] \"SOX3\"      \"SOX30\"     \"SOX8\"      \"SOX9\"      \"SP1\"       \"SP3\"      \n[1189] \"SPA17\"     \"SPACA1\"    \"SPACA3\"    \"SPACA6\"    \"SPACA7\"    \"SPAG1\"    \n[1195] \"SPAG11A\"   \"SPAG11B\"   \"SPAG16\"    \"SPAG4\"     \"SPAG8\"     \"SPAM1\"    \n[1201] \"SPANXA1\"   \"SPANXC\"    \"SPATA16\"   \"SPATA19\"   \"SPATA2\"    \"SPATA20\"  \n[1207] \"SPATA22\"   \"SPATA24\"   \"SPATA25\"   \"SPATA31A3\" \"SPATA31C2\" \"SPATA31D3\"\n[1213] \"SPATA31E1\" \"SPATA32\"   \"SPATA46\"   \"SPATA5\"    \"SPATA6\"    \"SPATA6L\"  \n[1219] \"SPATA9\"    \"SPATC1L\"   \"SPDYA\"     \"SPEF2\"     \"SPEM1\"     \"SPEN\"     \n[1225] \"SPESP1\"    \"SPHK2\"     \"SPIN1\"     \"SPIN2A\"    \"SPIN2B\"    \"SPIN3\"    \n[1231] \"SPIN4\"     \"SPINK1\"    \"SPINK13\"   \"SPINK2\"    \"SPINT1\"    \"SPINT2\"   \n[1237] \"SPIRE1\"    \"SPIRE2\"    \"SPN\"       \"SPO11\"     \"SPOCD1\"    \"SPP1\"     \n[1243] \"SPR\"       \"SPTBN4\"    \"SRA1\"      \"SRC\"       \"SRD5A1\"    \"SRD5A2\"   \n[1249] \"SRPK1\"     \"SRY\"       \"SSTR1\"     \"SSTR2\"     \"SSTR3\"     \"ST14\"     \n[1255] \"STAG2\"     \"STAG3\"     \"STAR\"      \"STAT3\"     \"STAT5B\"    \"STC1\"     \n[1261] \"STC2\"      \"STK11\"     \"STK3\"      \"STK35\"     \"STK4\"      \"STOX2\"    \n[1267] \"STRA6\"     \"STRBP\"     \"STS\"       \"STX2\"      \"STXBP1\"    \"SULF1\"    \n[1273] \"SUN1\"      \"SUN2\"      \"SUN5\"      \"SYCE1\"     \"SYCE1L\"    \"SYCE2\"    \n[1279] \"SYCE3\"     \"SYCP1\"     \"SYCP2\"     \"SYCP2L\"    \"SYCP3\"     \"SYDE1\"    \n[1285] \"SYNE1\"     \"SYT6\"      \"TAC1\"      \"TAC3\"      \"TAC4\"      \"TACR1\"    \n[1291] \"TACR2\"     \"TACR3\"     \"TAF1L\"     \"TAF4\"      \"TAF4B\"     \"TAF7L\"    \n[1297] \"TAFAZZIN\"  \"TAT\"       \"TBATA\"     \"TBC1D20\"   \"TBC1D21\"   \"TBP\"      \n[1303] \"TBPL1\"     \"TBX3\"      \"TCF21\"     \"TCFL5\"     \"TCP1\"      \"TCP11\"    \n[1309] \"TCTE1\"     \"TDRD1\"     \"TDRD12\"    \"TDRD5\"     \"TDRD6\"     \"TDRD7\"    \n[1315] \"TDRD9\"     \"TDRKH\"     \"TDRP\"      \"TEAD3\"     \"TEKT2\"     \"TEKT3\"    \n[1321] \"TEP1\"      \"TERB1\"     \"TERB2\"     \"TERF1\"     \"TESC\"      \"TESK1\"    \n[1327] \"TESK2\"     \"TESMIN\"    \"TEX101\"    \"TEX11\"     \"TEX12\"     \"TEX14\"    \n[1333] \"TEX15\"     \"TEX19\"     \"TFAP2C\"    \"TFEB\"      \"TGFB2\"     \"TGFB3\"    \n[1339] \"TGFBR1\"    \"TGFBR2\"    \"TGS1\"      \"TH\"        \"THBD\"      \"THEG\"     \n[1345] \"THRA\"      \"THRB\"      \"TIAL1\"     \"TIFAB\"     \"TIMP1\"     \"TIMP4\"    \n[1351] \"TIPARP\"    \"TLE6\"      \"TLR3\"      \"TMED2\"     \"TMEM119\"   \"TMEM203\"  \n[1357] \"TMEM95\"    \"TMF1\"      \"TMPRSS12\"  \"TNC\"       \"TNFAIP6\"   \"TNFSF10\"  \n[1363] \"TNP1\"      \"TNP2\"      \"TOB2\"      \"TOP2A\"     \"TOP2B\"     \"TOP3A\"    \n[1369] \"TP63\"      \"TPGS1\"     \"TPPP2\"     \"TPPP3\"     \"TRAC\"      \"TRIM27\"   \n[1375] \"TRIM28\"    \"TRIM36\"    \"TRIP13\"    \"TRO\"       \"TRPC3\"     \"TRPC6\"    \n[1381] \"TRPC7\"     \"TRPM2\"     \"TSGA10\"    \"TSNAX\"     \"TSNAXIP1\"  \"TSPAN8\"   \n[1387] \"TSPY1\"     \"TSSK1B\"    \"TSSK2\"     \"TSSK3\"     \"TSSK4\"     \"TSSK6\"    \n[1393] \"TTC12\"     \"TTC21A\"    \"TTC26\"     \"TTF1\"      \"TTK\"       \"TTLL1\"    \n[1399] \"TTLL3\"     \"TTLL9\"     \"TUBG1\"     \"TUBG2\"     \"TUBGCP2\"   \"TUBGCP3\"  \n[1405] \"TUBGCP4\"   \"TUBGCP5\"   \"TUBGCP6\"   \"TUT4\"      \"TUT7\"      \"TXNDC2\"   \n[1411] \"TXNDC8\"    \"TXNRD3\"    \"TYRO3\"     \"UBAP2L\"    \"UBB\"       \"UBE2A\"    \n[1417] \"UBE2B\"     \"UBE2J1\"    \"UBE2Q1\"    \"UBE3A\"     \"UBR2\"      \"UBXN8\"    \n[1423] \"UCN\"       \"UCP2\"      \"UMODL1\"    \"UMPS\"      \"UNC13B\"    \"UPRT\"     \n[1429] \"USP42\"     \"USP9X\"     \"USP9Y\"     \"UTF1\"      \"UTP14C\"    \"VASH1\"    \n[1435] \"VASH2\"     \"VDAC2\"     \"VDR\"       \"VEGFA\"     \"VGF\"       \"VIP\"      \n[1441] \"VIPAS39\"   \"VMP1\"      \"VPS13A\"    \"WASHC5\"    \"WBP2NL\"    \"WDR19\"    \n[1447] \"WDR33\"     \"WDR48\"     \"WDR77\"     \"WFDC2\"     \"WIPF3\"     \"WNT2\"     \n[1453] \"WNT2B\"     \"WNT3\"      \"WNT4\"      \"WNT5A\"     \"WNT7A\"     \"WNT7B\"    \n[1459] \"WNT9B\"     \"WT1\"       \"XDH\"       \"XKRY\"      \"XRCC2\"     \"XRN2\"     \n[1465] \"YBX2\"      \"YBX3\"      \"YIF1B\"     \"YTHDC1\"    \"YTHDC2\"    \"YTHDF2\"   \n[1471] \"YTHDF3\"    \"YY1\"       \"ZAN\"       \"ZBTB16\"    \"ZCWPW1\"    \"ZFP36L1\"  \n[1477] \"ZFP41\"     \"ZFP42\"     \"ZFPM2\"     \"ZFX\"       \"ZGLP1\"     \"ZMIZ1\"    \n[1483] \"ZMYND15\"   \"ZNF148\"    \"ZNF225\"    \"ZNF296\"    \"ZNF318\"    \"ZNF35\"    \n[1489] \"ZNF449\"    \"ZNF541\"    \"ZNF568\"    \"ZNF628\"    \"ZNF830\"    \"ZP1\"      \n[1495] \"ZP2\"       \"ZP4\"       \"ZPBP\"      \"ZPBP2\"     \"ZSCAN2\"    \"ZSCAN21\"  \n[1501] \"ZW10\"     \n\n$`GO:0000012`\n [1] \"APLF\"   \"APTX\"   \"ERCC6\"  \"ERCC8\"  \"LIG4\"   \"PARP1\"  \"SIRT1\"  \"TDP1\"  \n [9] \"TERF2\"  \"TNP1\"   \"XNDC1N\" \"XRCC1\" \n\n$`GO:0000018`\n  [1] \"ACTR2\"    \"ALYREF\"   \"ANKLE1\"   \"ARID2\"    \"BCL6\"     \"BLM\"     \n  [7] \"CD28\"     \"CD40\"     \"CGAS\"     \"CHEK1\"    \"CLC\"      \"CLCF1\"   \n [13] \"ERCC2\"    \"ERCC6\"    \"EXOSC3\"   \"EXOSC6\"   \"FANCB\"    \"FBH1\"    \n [19] \"FIGNL1\"   \"FOXP3\"    \"FUS\"      \"H1-0\"     \"H1-1\"     \"H1-10\"   \n [25] \"H1-2\"     \"H1-3\"     \"H1-4\"     \"H1-5\"     \"H1-6\"     \"H1-8\"    \n [31] \"H1-9P\"    \"HELB\"     \"HMCES\"    \"IL10\"     \"IL2\"      \"IL27RA\"  \n [37] \"IL4\"      \"IL7R\"     \"KDM1A\"    \"KHDC3L\"   \"KLHL15\"   \"KMT5B\"   \n [43] \"KMT5C\"    \"KPNA1\"    \"KPNA2\"    \"MAD2L2\"   \"MAGEF1\"   \"MLH1\"    \n [49] \"MMS19\"    \"MRE11\"    \"MRNIP\"    \"MSH2\"     \"MSH3\"     \"MSH6\"    \n [55] \"NDFIP1\"   \"NSD2\"     \"OOEP\"     \"PARP1\"    \"PARP3\"    \"PARPBP\"  \n [61] \"PAXIP1\"   \"POLQ\"     \"PPP4C\"    \"PPP4R2\"   \"PRDM7\"    \"PRDM9\"   \n [67] \"PTPRC\"    \"RAD50\"    \"RAD51\"    \"RAD51AP1\" \"RADX\"     \"RECQL5\"  \n [73] \"RIF1\"     \"RMI2\"     \"RPA2\"     \"RTEL1\"    \"SETD2\"    \"SHLD1\"   \n [79] \"SHLD2\"    \"SIRT6\"    \"SLC15A4\"  \"SMARCAD1\" \"SMCHD1\"   \"SPIDR\"   \n [85] \"STAT6\"    \"SUPT6H\"   \"TBX21\"    \"TERF2\"    \"TERF2IP\"  \"TEX15\"   \n [91] \"TFRC\"     \"TGFB1\"    \"THOC1\"    \"TIMELESS\" \"TNFSF13\"  \"TNFSF4\"  \n [97] \"TP53BP1\"  \"UBE2B\"    \"UBQLN4\"   \"USP51\"    \"WAS\"      \"WDR48\"   \n[103] \"WRAP53\"   \"ZCWPW1\"   \"ZNF365\"   \"ZRANB3\"   \"ZSCAN4\"  \n\n$`GO:0000027`\n [1] \"BOP1\"    \"BRIX1\"   \"DDX28\"   \"DHX30\"   \"FASTKD2\" \"MDN1\"    \"MRPL20\" \n [8] \"MRTO4\"   \"NLE1\"    \"NOP2\"    \"NOP53\"   \"PPAN\"    \"RPF2\"    \"RPL10\"  \n[15] \"RPL10L\"  \"RPL11\"   \"RPL23A\"  \"RPL24\"   \"RPL3\"    \"RPL38\"   \"RPL3L\"  \n[22] \"RPL5\"    \"RPL6\"    \"RPLP0\"   \"RRS1\"    \"TRAF7\"  \n"
     },
     "metadata": {},
     "output_type": "display_data"
    }
   ],
   "source": [
    "# Obtain a list of genes for each GO term\n",
    "allGO = genesInTerm(GOdata)\n",
    "allGO[1:5]"
   ],
   "metadata": {
    "collapsed": false
   }
  },
  {
   "cell_type": "markdown",
   "source": [
    "Now, we already had GO terms with genes. However, we still do not know the meaning of GO terms related to biological process. We can use `GO.db` database to get a set of annotation maps describing the entire Gene Ontology assembled using data from GO. We can use the following code to install the `GO.db` R package."
   ],
   "metadata": {
    "collapsed": false
   }
  },
  {
   "cell_type": "code",
   "execution_count": 9,
   "outputs": [],
   "source": [
    "suppressMessages({if (!require(\"BiocManager\", quietly = TRUE))\n",
    "    install.packages(\"BiocManager\")\n",
    "  suppressWarnings(BiocManager::install(\"GO.db\", update = F))\n",
    "})\n",
    "library(GO.db)"
   ],
   "metadata": {
    "collapsed": false
   }
  },
  {
   "cell_type": "markdown",
   "source": [
    "Then, we can use the following command to obtain the GO terms description."
   ],
   "metadata": {
    "collapsed": false
   }
  },
  {
   "cell_type": "code",
   "execution_count": 10,
   "outputs": [],
   "source": [
    "# Getting the name of each GO term\n",
    "terms <- names(allGO)\n",
    "# Getting the description of each GO term\n",
    "descriptions <-lapply(Term(terms), `[[`, 1)"
   ],
   "metadata": {
    "collapsed": false
   }
  },
  {
   "cell_type": "markdown",
   "source": [
    "In order to perform enrichment analysis in later module, we need to save the GO terms and genesets to the standard output. One commonly used format is Gene Matrix Transposed file format *(\\*.gmt)*. The GMT file format is a tab delimited file format that describes gene sets. In the GMT format, each row represents a gene set; in the GMX format, each column represents a gene set. Here, we can save GO terms and genesets to the *\\*.gmt* using the following function:"
   ],
   "metadata": {
    "collapsed": false
   }
  },
  {
   "cell_type": "code",
   "execution_count": 11,
   "outputs": [],
   "source": [
    "# A function to save the GO terms with geneset to the local repository\n",
    "writeGMT <- function(genesets, descriptions, outfile) {\n",
    "\n",
    "  if (file.exists(outfile)) {\n",
    "    file.remove(outfile)\n",
    "  }\n",
    "  for (gs in names(genesets)) {\n",
    "    write(c(gs, gsub(\"\\t\", \" \", descriptions[[gs]]), genesets[[gs]]), file=outfile, sep=\"\\t\", append=TRUE, ncolumns=length(genesets[[gs]]) + 2)\n",
    "  }\n",
    "}\n",
    "outfile <- \"./data/GO_terms.gmt\"\n",
    "writeGMT(allGO, descriptions, outfile)"
   ],
   "metadata": {
    "collapsed": false
   }
  },
  {
   "cell_type": "markdown",
   "source": [
    "Terminal command to save to Google Cloud Bucket\n",
    "```{admonition} Saving to Google Cloud Bucket\n",
    "gsutil cp ./data/GO_terms.gmt gs://cpa-output\n",
    "```"
   ],
   "metadata": {
    "collapsed": false
   }
  },
  {
   "cell_type": "markdown",
   "source": [
    "## Kyoto Encyclopedia of Genes and Genomes (KEGG)\n",
    "### Overview\n",
    "KEGG is a collection of databases dealing with genomes, biological pathways, diseases, drugs, and chemical substances. KEGG is utilized for bioinformatics research and education, including data analysis in genomics, metagenomics, metabolomics and other omics studies, modeling and simulation in systems biology, and translational research in drug development. The KEGG database project was initiated in 1995 by Minoru Kanehisa, professor at the Institute for Chemical Research, Kyoto University, under the then ongoing Japanese Human Genome Program. Foreseeing the need for a computerized resource that can be used for biological interpretation of genome sequence data, he started developing the KEGG PATHWAY database. It is a collection of manually drawn KEGG pathway maps representing experimental knowledge on metabolism and various other functions of the cell and the organism. Each pathway map contains a network of molecular interactions and reactions and is designed to link genes in the genome to gene products (mostly proteins) in the pathway. This has enabled the analysis called KEGG pathway mapping, whereby the gene content in the genome is compared with the KEGG PATHWAY database to examine which pathways and associated functions are likely to be encoded in the genome. KEGG is a \"computer representation\" of the biological system. It integrates building blocks and wiring diagrams of the system—more specifically, genetic building blocks of genes and proteins, chemical building blocks of small molecules and reactions, and wiring diagrams of molecular interaction and reaction networks. The illustrative structure of KEGG is presented as figure below.\n",
    "![](./images/Module3/KEGG.jpg)\n"
   ],
   "metadata": {
    "collapsed": false
   }
  },
  {
   "cell_type": "markdown",
   "source": [
    "### Retrieving pathways from KEGG databases\n",
    "In this section, we will retrieve pathways and related gensets from the KEGG database using R command line. Here we will use `KEGGREST` R package that provides a client interface to the KEGG REST server. `KEGGREST` can be installed from the Bioconductor using following command."
   ],
   "metadata": {
    "collapsed": false
   }
  },
  {
   "cell_type": "code",
   "execution_count": 12,
   "outputs": [],
   "source": [
    "suppressMessages({if (!require(\"BiocManager\", quietly = TRUE))\n",
    "    install.packages(\"BiocManager\")\n",
    "  suppressWarnings(BiocManager::install(\"KEGGREST\", update = F))\n",
    "})\n",
    "suppressPackageStartupMessages({\n",
    "  library(KEGGREST)\n",
    "})"
   ],
   "metadata": {
    "collapsed": false
   }
  },
  {
   "cell_type": "markdown",
   "source": [
    "KEGG exposes a number of databases. To get an idea of what is available, run `listDatabases()`:"
   ],
   "metadata": {
    "collapsed": false
   }
  },
  {
   "cell_type": "code",
   "execution_count": 13,
   "outputs": [
    {
     "data": {
      "text/html": "<style>\n.list-inline {list-style: none; margin:0; padding: 0}\n.list-inline>li {display: inline-block}\n.list-inline>li:not(:last-child)::after {content: \"\\00b7\"; padding: 0 .5ex}\n</style>\n<ol class=list-inline><li>'pathway'</li><li>'brite'</li><li>'module'</li><li>'ko'</li><li>'genome'</li><li>'vg'</li><li>'ag'</li><li>'compound'</li><li>'glycan'</li><li>'reaction'</li><li>'rclass'</li><li>'enzyme'</li><li>'disease'</li><li>'drug'</li><li>'dgroup'</li><li>'environ'</li><li>'genes'</li><li>'ligand'</li><li>'kegg'</li></ol>\n",
      "text/markdown": "1. 'pathway'\n2. 'brite'\n3. 'module'\n4. 'ko'\n5. 'genome'\n6. 'vg'\n7. 'ag'\n8. 'compound'\n9. 'glycan'\n10. 'reaction'\n11. 'rclass'\n12. 'enzyme'\n13. 'disease'\n14. 'drug'\n15. 'dgroup'\n16. 'environ'\n17. 'genes'\n18. 'ligand'\n19. 'kegg'\n\n\n",
      "text/latex": "\\begin{enumerate*}\n\\item 'pathway'\n\\item 'brite'\n\\item 'module'\n\\item 'ko'\n\\item 'genome'\n\\item 'vg'\n\\item 'ag'\n\\item 'compound'\n\\item 'glycan'\n\\item 'reaction'\n\\item 'rclass'\n\\item 'enzyme'\n\\item 'disease'\n\\item 'drug'\n\\item 'dgroup'\n\\item 'environ'\n\\item 'genes'\n\\item 'ligand'\n\\item 'kegg'\n\\end{enumerate*}\n",
      "text/plain": " [1] \"pathway\"  \"brite\"    \"module\"   \"ko\"       \"genome\"   \"vg\"      \n [7] \"ag\"       \"compound\" \"glycan\"   \"reaction\" \"rclass\"   \"enzyme\"  \n[13] \"disease\"  \"drug\"     \"dgroup\"   \"environ\"  \"genes\"    \"ligand\"  \n[19] \"kegg\"    "
     },
     "metadata": {},
     "output_type": "display_data"
    }
   ],
   "source": [
    "KEGGREST::listDatabases()"
   ],
   "metadata": {
    "collapsed": false
   }
  },
  {
   "cell_type": "markdown",
   "source": [
    "We can use these databases in further queries. Note that in many cases you can also use a three-letter KEGG organism code or a “T number” (genome identifier) in the same place you would use one of these database names.\n",
    "\n",
    "We can obtain the list of organisms available in KEGG with the `keggList()` function:"
   ],
   "metadata": {
    "collapsed": false
   }
  },
  {
   "cell_type": "code",
   "execution_count": 14,
   "outputs": [],
   "source": [
    "organism <- keggList(\"organism\")"
   ],
   "metadata": {
    "collapsed": false
   }
  },
  {
   "cell_type": "code",
   "execution_count": 15,
   "outputs": [
    {
     "name": "stdout",
     "output_type": "stream",
     "text": [
      "[1] \"KEGG supports 8524 organisms\"\n"
     ]
    }
   ],
   "source": [
    "print(paste0(\"KEGG supports \",dim(organism)[1],\" organisms\"))"
   ],
   "metadata": {
    "collapsed": false
   }
  },
  {
   "cell_type": "markdown",
   "source": [
    "To view the supported organism we can use the following command:"
   ],
   "metadata": {
    "collapsed": false
   }
  },
  {
   "cell_type": "code",
   "execution_count": 16,
   "outputs": [
    {
     "data": {
      "text/html": "<table class=\"dataframe\">\n<caption>A matrix: 6 × 4 of type chr</caption>\n<thead>\n\t<tr><th scope=col>T.number</th><th scope=col>organism</th><th scope=col>species</th><th scope=col>phylogeny</th></tr>\n</thead>\n<tbody>\n\t<tr><td>T01001</td><td>hsa</td><td>Homo sapiens (human)                               </td><td>Eukaryotes;Animals;Vertebrates;Mammals</td></tr>\n\t<tr><td>T01005</td><td>ptr</td><td>Pan troglodytes (chimpanzee)                       </td><td>Eukaryotes;Animals;Vertebrates;Mammals</td></tr>\n\t<tr><td>T02283</td><td>pps</td><td>Pan paniscus (bonobo)                              </td><td>Eukaryotes;Animals;Vertebrates;Mammals</td></tr>\n\t<tr><td>T02442</td><td>ggo</td><td>Gorilla gorilla gorilla (western lowland gorilla)  </td><td>Eukaryotes;Animals;Vertebrates;Mammals</td></tr>\n\t<tr><td>T01416</td><td>pon</td><td>Pongo abelii (Sumatran orangutan)                  </td><td>Eukaryotes;Animals;Vertebrates;Mammals</td></tr>\n\t<tr><td>T03265</td><td>nle</td><td>Nomascus leucogenys (northern white-cheeked gibbon)</td><td>Eukaryotes;Animals;Vertebrates;Mammals</td></tr>\n</tbody>\n</table>\n",
      "text/markdown": "\nA matrix: 6 × 4 of type chr\n\n| T.number | organism | species | phylogeny |\n|---|---|---|---|\n| T01001 | hsa | Homo sapiens (human)                                | Eukaryotes;Animals;Vertebrates;Mammals |\n| T01005 | ptr | Pan troglodytes (chimpanzee)                        | Eukaryotes;Animals;Vertebrates;Mammals |\n| T02283 | pps | Pan paniscus (bonobo)                               | Eukaryotes;Animals;Vertebrates;Mammals |\n| T02442 | ggo | Gorilla gorilla gorilla (western lowland gorilla)   | Eukaryotes;Animals;Vertebrates;Mammals |\n| T01416 | pon | Pongo abelii (Sumatran orangutan)                   | Eukaryotes;Animals;Vertebrates;Mammals |\n| T03265 | nle | Nomascus leucogenys (northern white-cheeked gibbon) | Eukaryotes;Animals;Vertebrates;Mammals |\n\n",
      "text/latex": "A matrix: 6 × 4 of type chr\n\\begin{tabular}{llll}\n T.number & organism & species & phylogeny\\\\\n\\hline\n\t T01001 & hsa & Homo sapiens (human)                                & Eukaryotes;Animals;Vertebrates;Mammals\\\\\n\t T01005 & ptr & Pan troglodytes (chimpanzee)                        & Eukaryotes;Animals;Vertebrates;Mammals\\\\\n\t T02283 & pps & Pan paniscus (bonobo)                               & Eukaryotes;Animals;Vertebrates;Mammals\\\\\n\t T02442 & ggo & Gorilla gorilla gorilla (western lowland gorilla)   & Eukaryotes;Animals;Vertebrates;Mammals\\\\\n\t T01416 & pon & Pongo abelii (Sumatran orangutan)                   & Eukaryotes;Animals;Vertebrates;Mammals\\\\\n\t T03265 & nle & Nomascus leucogenys (northern white-cheeked gibbon) & Eukaryotes;Animals;Vertebrates;Mammals\\\\\n\\end{tabular}\n",
      "text/plain": "     T.number organism species                                            \n[1,] T01001   hsa      Homo sapiens (human)                               \n[2,] T01005   ptr      Pan troglodytes (chimpanzee)                       \n[3,] T02283   pps      Pan paniscus (bonobo)                              \n[4,] T02442   ggo      Gorilla gorilla gorilla (western lowland gorilla)  \n[5,] T01416   pon      Pongo abelii (Sumatran orangutan)                  \n[6,] T03265   nle      Nomascus leucogenys (northern white-cheeked gibbon)\n     phylogeny                             \n[1,] Eukaryotes;Animals;Vertebrates;Mammals\n[2,] Eukaryotes;Animals;Vertebrates;Mammals\n[3,] Eukaryotes;Animals;Vertebrates;Mammals\n[4,] Eukaryotes;Animals;Vertebrates;Mammals\n[5,] Eukaryotes;Animals;Vertebrates;Mammals\n[6,] Eukaryotes;Animals;Vertebrates;Mammals"
     },
     "metadata": {},
     "output_type": "display_data"
    }
   ],
   "source": [
    "# View several supported organism\n",
    "head(organism)"
   ],
   "metadata": {
    "collapsed": false
   }
  },
  {
   "cell_type": "markdown",
   "source": [
    "In the Module 02, we performed DE analysis on human dataset. Therefore, we need to download pathways for human, the abbreviation of human pathway in KEGG is `hsa` and we can use `keggList` function to get the pathway list."
   ],
   "metadata": {
    "collapsed": false
   }
  },
  {
   "cell_type": "code",
   "execution_count": 17,
   "outputs": [
    {
     "ename": "ERROR",
     "evalue": "Error in curl::curl_fetch_memory(url, handle = handle): Failure when receiving data from the peer\n",
     "output_type": "error",
     "traceback": [
      "Error in curl::curl_fetch_memory(url, handle = handle): Failure when receiving data from the peer\nTraceback:\n",
      "1. keggList(\"pathway\", \"hsa\")",
      "2. .getUrl(url, .listParser, nameColumn = 1, valueColumn = 2)",
      "3. GET(url)",
      "4. request_perform(req, hu$handle$handle)",
      "5. request_fetch(req$output, req$url, handle)",
      "6. request_fetch.write_memory(req$output, req$url, handle)",
      "7. curl::curl_fetch_memory(url, handle = handle)"
     ]
    }
   ],
   "source": [
    "# Obtain the pathways belong to human\n",
    "pathways.list <- keggList(\"pathway\", \"hsa\")"
   ],
   "metadata": {
    "collapsed": false
   }
  },
  {
   "cell_type": "markdown",
   "source": [
    "The pathway list contains pathway description and pathway code in a single line of text. To see the first five pathways, we can use the following command:"
   ],
   "metadata": {
    "collapsed": false
   }
  },
  {
   "cell_type": "code",
   "execution_count": null,
   "outputs": [],
   "source": [
    "# View the first five pathways\n",
    "pathways.list[1:5]"
   ],
   "metadata": {
    "collapsed": false
   }
  },
  {
   "cell_type": "markdown",
   "source": [
    "We can see that, in each line, the text in the quotation mark contain pathway information while the later part cotains pathway code leading by a prefix `path:`. To get  pathway codes from the pathway list, we can use the following command:"
   ],
   "metadata": {
    "collapsed": false
   }
  },
  {
   "cell_type": "code",
   "execution_count": null,
   "outputs": [],
   "source": [
    "# Retrieve all the pathway IDs belong to human\n",
    "pathway.codes <- sub(\"path:\", \"\", names(pathways.list))\n",
    "pathway.codes"
   ],
   "metadata": {
    "collapsed": false
   }
  },
  {
   "cell_type": "markdown",
   "source": [
    "We can use the following command to check how many pathways are available for human"
   ],
   "metadata": {
    "collapsed": false
   }
  },
  {
   "cell_type": "code",
   "execution_count": null,
   "outputs": [],
   "source": [
    "print(paste0(\"Number of available pathways for human are: \", length(pathway.codes)))"
   ],
   "metadata": {
    "collapsed": false
   }
  },
  {
   "cell_type": "markdown",
   "source": [
    "The following code will help to get list of genes and pathway's description for all pathways available in human."
   ],
   "metadata": {
    "collapsed": false
   }
  },
  {
   "cell_type": "code",
   "execution_count": null,
   "outputs": [],
   "source": [
    "# Function to get all the gene names for each pathway\n",
    "genes.by.pathway <- sapply(pathway.codes,\n",
    "                           function(pwid){\n",
    "                             pw <- keggGet(pwid)\n",
    "                             if (is.null(pw[[1]]$GENE)) return(NA)\n",
    "                             pw2 <- pw[[1]]$GENE[c(FALSE,TRUE)]\n",
    "                             pw2 <- unlist(lapply(strsplit(pw2, split = \";\", fixed = T), function(x)x[1]))\n",
    "                             return(pw2)\n",
    "                           }\n",
    ")\n",
    "# Function to get description for each pathway\n",
    "description.by.pathway <- sapply(pathway.codes,\n",
    "                                 function(pwid){\n",
    "                                   pw <- keggGet(pwid)\n",
    "                                   if (is.null(pw[[1]]$NAME)) return(NA)\n",
    "                                   pw2 <- pw[[1]]$NAME\n",
    "                                   return(pw2)\n",
    "                                 }\n",
    ")\n",
    "# Convert the pathway description to a list\n",
    "description.by.pathway <- as.list(description.by.pathway)"
   ],
   "metadata": {
    "collapsed": false
   }
  },
  {
   "cell_type": "markdown",
   "source": [
    "We can view the first five pathways with their genesets using the following command"
   ],
   "metadata": {
    "collapsed": false
   }
  },
  {
   "cell_type": "markdown",
   "source": [
    "Then we can save the output to *\\*.gmt* file using the following commands"
   ],
   "metadata": {
    "collapsed": false
   }
  },
  {
   "cell_type": "code",
   "execution_count": null,
   "outputs": [],
   "source": [
    "# View the first five pathway with the genesets\n",
    "genes.by.pathway[1:5]"
   ],
   "metadata": {
    "collapsed": false
   }
  },
  {
   "cell_type": "markdown",
   "source": [
    "Use the following command to see the description of the first five pathways"
   ],
   "metadata": {
    "collapsed": false
   }
  },
  {
   "cell_type": "code",
   "execution_count": null,
   "outputs": [],
   "source": [
    "# View the description of the first five pathways\n",
    "description.by.pathway[1:5]"
   ],
   "metadata": {
    "collapsed": false
   }
  },
  {
   "cell_type": "code",
   "execution_count": null,
   "outputs": [],
   "source": [
    "# Saving the pathway information to the local repository\n",
    "outfile <- \"./data/KEGG_pathways.gmt\"\n",
    "writeGMT(genes.by.pathway, description.by.pathway, outfile)\n"
   ],
   "metadata": {
    "collapsed": false
   }
  },
  {
   "cell_type": "markdown",
   "source": [
    "Terminal command to save to Google Cloud Bucket\n",
    "```{admonition} Saving to Google Cloud Bucket\n",
    "gsutil cp ./data/KEGG_pathways.gmt gs://cpa-output\n",
    "```"
   ],
   "metadata": {
    "collapsed": false
   }
  }
 ],
 "metadata": {
  "celltoolbar": "Tags",
  "environment": {
   "kernel": "ir",
   "name": "r-cpu.4-1.m93",
   "type": "gcloud",
   "uri": "gcr.io/deeplearning-platform-release/r-cpu.4-1:m93"
  },
  "kernelspec": {
   "display_name": "R",
   "language": "R",
   "name": "ir"
  },
  "language_info": {
   "codemirror_mode": "r",
   "file_extension": ".r",
   "mimetype": "text/x-r-source",
   "name": "R",
   "pygments_lexer": "r",
   "version": "4.1.3"
  },
  "toc-showcode": true,
  "widgets": {
   "application/vnd.jupyter.widget-state+json": {
    "state": {},
    "version_major": 2,
    "version_minor": 0
   }
  }
 },
 "nbformat": 4,
 "nbformat_minor": 5
}
