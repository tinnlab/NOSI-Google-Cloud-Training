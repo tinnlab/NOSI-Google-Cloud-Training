{
 "cells": [
  {
   "cell_type": "markdown",
   "id": "f380fb8f-dc93-414c-b815-6ace422d7f90",
   "metadata": {
    "tags": []
   },
   "source": [
    "# Gene set and pathway\n",
    "\n",
    "![](./images/Module3/Workflow3.jpg)\n",
    "\n",
    "Differential expression (DE) analysis typically yields a list of genes or proteins that require further interpretation.\n",
    "Our intention is to use such lists to gain novel insights about genes and proteins that may have roles in a given\n",
    "phenomenon, phenotype or disease progression. However, in many cases, gene lists generated from DE analysis are\n",
    "difficult to interpret due to their large size and lack of useful annotations. Hence, pathway analysis (also known\n",
    "as gene set analysis or over-representation analysis), aims to reduce the complexity of interpreting gene lists\n",
    "via mapping the listed genes to known (i.e. annotated) biological pathways, processes and functions.\n",
    "This learning module introduces common curated biological databases including Gene Ontology (GO),\n",
    "Kyoto Encyclopedia of Genes and Genomes (KEGG).\n",
    "\n",
    "## Learning Objectives:\n",
    "1. Introduction to Ontology and Gene Ontology.\n",
    "2. Introduction to KEGG Pathway Database.\n",
    "3. Downloading terms, pathway gene set from GO and KEGG.\n",
    "4. Saving results to GMT file format."
   ]
  },
  {
   "cell_type": "markdown",
   "id": "1859736a",
   "metadata": {},
   "source": [
    "## Ontology and Gene Ontology\n",
    "### Overview\n",
    "In this section we will learn about the concept of gene ontology in Bioinformatics. Ontology is a specification\n",
    "of a conceptualization which is a set of concepts within a domain, defined by a shared vocabulary to\n",
    "denote the types and properties of the concepts as well as the relationships between the concepts.\n",
    "Ontology plays an important role in the field of bioinformatics. Ontology enable communicate unambiguously e.g.,\n",
    "to understand across different groups’ annotations of various genomes. Also, it allows the knowledge to be represented\n",
    "in a computable and structured to perform automated analyses by computer programs.\n",
    "\n",
    "The Gene Ontology (GO) defines a structured, common, controlled vocabulary to describe attributes of genes and gene products\n",
    "across organisms. Collaboration is key to build a consensus vocabulary. But the term gene ontology, or GO, is commonly used\n",
    "to refer to both, which is sometimes a source of potential confusion. In order to avoid this, here we will use the term “GO”\n",
    "to describe the set of terms and their hierarchical structure and “GO annotations” to describe the set of associations between\n",
    "genes and GO terms. The GO is divided into three categories to describe the genes and gene products from three different\n",
    "angles: Molecular Function, Biological Process, and Cellular Component.\n",
    "\n",
    "The structure of GO can be described in terms of into directed acyclic graphs (DAGs), where each GO term is a node,\n",
    "and the relationships between the terms are edges between the nodes. GO is loosely hierarchical, with ‘child’ terms\n",
    "being more specialized than their ‘parent’ terms, but unlike a strict hierarchy, a term may have more than one parent\n",
    "term (note that the parent/child model does not hold true for all types of relations). The structure of the controlled\n",
    "vocabularies are intended to reflect true, biological relationships. In contrast to strict hierarchies, DAGS allow\n",
    "multiple relationships between a more granular (child) term and a more general parent term. The relationship between\n",
    "terms affects how queries are made. For example,a query for all genes with binding activity would include transcription\n",
    "factors as well as genes with other types of binding activity (such as protein binding, ligand binding). The illustration\n",
    "of category and structure of GO is shown in the figure below:\n",
    "\n",
    "![](./images/Module3/GO_Structure.jpg)\n",
    "*(Source: https://www.ebi.ac.uk/, http://geneontology.org/)*\n",
    "\n",
    "### Gene ontology relationship\n",
    "In DAGs graph, *terms* are represented as *nodes* and *relations* (also known as *object properties*) between the *terms*\n",
    "are *edges*. There are commonly used relationships in GO such as *is a* (is a *subtype of*), *part of, has part, regulates,\n",
    "negatively regulates and positively regulates*. All terms (except from the root terms representing each aspect) have an\n",
    "is a sub-class relationship to another terms.\n",
    "\n",
    "Examples:"
   ]
  },
  {
   "cell_type": "markdown",
   "source": [
    "```{admonition} *is a* relation\n",
    "**GO:1904659:glucose transport** *is* a **GO:0015749:monosaccharide transport**.\n",
    "\n",
    "The *is a* relation forms the basic structure of GO. If we say A *is a* B, we mean that node A is a subtype of node B\n",
    "\n",
    "```"
   ],
   "metadata": {
    "collapsed": false
   }
  },
  {
   "cell_type": "markdown",
   "source": [
    "```{admonition} *is part of* relation\n",
    "**GO:0031966:mitochondrial membrane** *is part of* **GO:0005740:mitochondrial envelope**\n",
    "\n",
    "The *part of* relation is used to represent part-whole relationships. A *part of* relation would only be added between\n",
    "A and B if B is **necessarily** *part of* A: wherever B exists, it is as *part of* A, and the presence of the B implies\n",
    "the presence of A. However, given the occurrence of A, we cannot say for certain that B exists.\n",
    "```"
   ],
   "metadata": {
    "collapsed": false
   }
  },
  {
   "cell_type": "markdown",
   "source": [
    "```{admonition} *regulates* relation\n",
    "**GO:0098689:latency-replication decision** *regulates* **GO:0019046:release from viral latency**\n",
    "\n",
    "A relation that describes case in which one process directly affects the manifestation of another process or quality,\n",
    "i.e. the former *regulates* the latter.\n",
    "```"
   ],
   "metadata": {
    "collapsed": false
   }
  },
  {
   "cell_type": "markdown",
   "source": [
    "A more specific case with more nodes and edges can be seen at the figure below:\n",
    "<br>\n",
    "![](./images/Module3/GO_Relation.jpg)\n",
    "*(Source: https://advaitabio.com/)* <br>\n",
    "For more technical information about relations and their properties used in GO and other ontologies see the\n",
    "<a href=\"https://obofoundry.org/ontology/ro.html\">OBO Relations Ontology (RO)</a>\n"
   ],
   "metadata": {
    "collapsed": false
   }
  },
  {
   "cell_type": "markdown",
   "id": "c0d70e92",
   "metadata": {},
   "source": [
    "### GO storage file formats\n",
    "GO terms are updated monthly in the following formats:\n",
    "* OBO 1.4 files are human-readable (in addition to machine-readable) and can be opened in any text editor.\n",
    "* OWL files can be read by <a href=\"https://protege.stanford.edu/\">Protégé</a> text editor.\n",
    "\n",
    " In this learning module, we will only use \".OBO\" to obtain GO terms.The OBO file format is for representing ontologies and controlled vocabularies. The format itself attempts to achieve the following goals:\n",
    " * Human readability\n",
    " * Ease of parsing\n",
    " * Extensibility\n",
    " * Minimal redundancy\n",
    "\n",
    "The file structure can is shown in the following figure.\n",
    "\n",
    "\n",
    "![](./images/Module3/OBO_Format.jpg)\n",
    "\n",
    "The OBO file has a header which is an unlabeled section at the beginning of the document. The header ends when the first term is encountered. Next, term is represented in labeled section with the tag *[Term]*. Under each term, we can find other information such as term ID, official name, category (namcespace), term definition, synonym and relation to other GO term.\n",
    "\n",
    "At this step, we still don't know what genes are related to which GO terms. In order to retrieve custom sets of gene ontology annotations for any list of genes from organisms, NCBI has published a Gene2GO database that obtain GO terms and the entrez gene ids related to those go terms. The database can be retrieve from <a href=\"https://ftp.ncbi.nih.gov/gene/DATA/gene2go.gz\">here</a> text editor. The Gene2GO database can be viewed using text editor, the file structure is presented in the figure below:\n",
    "\n",
    "![](./images/Module3/Gene2GO.jpg)\n",
    "\n",
    "The OBO and Gene2GO databases will be used in combination to obtain GO term and related genes for enrichment analysis."
   ]
  },
  {
   "cell_type": "markdown",
   "source": [
    "### Retrieving GO terms from DE gene list\n",
    "This section focuses on downloading related GO terms based on the DE genelist obtained from the DE analysis in the previous section.\n",
    "Here, we will use `toGO` and `hgu133plus2.db` R packages to obtain GO terms. The `topGO` package has built-in functions that use Gene2GO databases to retrieve GO terms from the gene ID give by DE analysis. Since the dataset we used in the Module 02 was generated for human, we will use `hgu133plus2.db` database to map probeID to gene symbols.\n",
    "The installation process of two package can be done by the script below:"
   ],
   "metadata": {
    "collapsed": false
   }
  },
  {
   "cell_type": "code",
   "execution_count": 1,
   "outputs": [],
   "source": [
    "# Installation of topGO and hgu133plus2.db package\n",
    "suppressMessages({if (!require(\"BiocManager\", quietly = TRUE))\n",
    "    install.packages(\"BiocManager\")\n",
    "  suppressWarnings(BiocManager::install(\"topGO\", update = F))\n",
    "  suppressWarnings(BiocManager::install(\"hgu133plus2.db\", update = F))\n",
    "  suppressWarnings(BiocManager::install(\"AnnotationDbi\", update = F))\n",
    "})"
   ],
   "metadata": {
    "collapsed": false
   }
  },
  {
   "cell_type": "code",
   "execution_count": 2,
   "outputs": [
    {
     "name": "stderr",
     "output_type": "stream",
     "text": [
      "\n",
      "groupGOTerms: \tGOBPTerm, GOMFTerm, GOCCTerm environments built.\n",
      "\n"
     ]
    }
   ],
   "source": [
    "# Loading the library\n",
    "suppressPackageStartupMessages({\n",
    "  suppressWarnings(library(\"topGO\"))\n",
    "  suppressWarnings(library(\"hgu133plus2.db\"))\n",
    "  suppressWarnings(library(\"AnnotationDbi\"))\n",
    "})"
   ],
   "metadata": {
    "collapsed": false
   }
  },
  {
   "cell_type": "markdown",
   "source": [
    "Load the DE genelist generated from the DE analysis using `limma`."
   ],
   "metadata": {
    "collapsed": false
   }
  },
  {
   "cell_type": "code",
   "execution_count": 3,
   "outputs": [],
   "source": [
    "# Loading the DE result\n",
    "data = readRDS(\"./data/DE_genes.rds\")"
   ],
   "metadata": {
    "collapsed": false
   }
  },
  {
   "cell_type": "markdown",
   "source": [
    "By default, the DE analysis performed by `limma` contains multiple features. However, adjusted *p-value* and gene ID are the most important features for enrichment analysis. We can use the following code to list of gene IDs and their *p-value*."
   ],
   "metadata": {
    "collapsed": false
   }
  },
  {
   "cell_type": "code",
   "execution_count": 4,
   "outputs": [],
   "source": [
    "# Get p-value from DE results\n",
    "genelist <- data$adj.P.Val\n",
    "# Assgin gene IDs to associated p-values\n",
    "names(genelist) <- data$PROBEID"
   ],
   "metadata": {
    "collapsed": false
   }
  },
  {
   "cell_type": "markdown",
   "source": [
    "After successfully obtaining the genelist, we need to map the gene IDs to the gene symbols using `hgu133plus2.db`."
   ],
   "metadata": {
    "collapsed": false
   }
  },
  {
   "cell_type": "code",
   "execution_count": 5,
   "outputs": [],
   "source": [
    "# Map gene IDs to gene symbols\n",
    "gene <- suppressMessages(AnnotationDbi::select(hgu133plus2.db, names(genelist), \"SYMBOL\"))"
   ],
   "metadata": {
    "collapsed": false
   }
  },
  {
   "cell_type": "code",
   "execution_count": 6,
   "outputs": [],
   "source": [
    "# Remove duplicated gene IDs\n",
    "gene <- gene[!duplicated(gene[,1]),]\n",
    "\n",
    "# Assign result to a new genlist with gene symbols\n",
    "geneList2 <- genelist\n",
    "names(geneList2) <- gene[,2]"
   ],
   "metadata": {
    "collapsed": false
   }
  },
  {
   "cell_type": "markdown",
   "source": [
    "Now, we can search for related GO terms based on the new gene list using `topGO` package. First, we need to create a `topGOdata`\n",
    "object."
   ],
   "metadata": {
    "collapsed": false
   }
  },
  {
   "cell_type": "code",
   "execution_count": 7,
   "outputs": [
    {
     "name": "stderr",
     "output_type": "stream",
     "text": [
      "\n",
      "Building most specific GOs .....\n",
      "\n",
      "\t( 12292 GO terms found. )\n",
      "\n",
      "\n",
      "Build GO DAG topology ..........\n",
      "\n",
      "\t( 15812 GO terms and 36000 relations. )\n",
      "\n",
      "\n",
      "Annotating nodes ...............\n",
      "\n",
      "\t( 16261 genes annotated to the GO terms. )\n",
      "\n"
     ]
    }
   ],
   "source": [
    "# Retrieve all the GO terms related to the genelist obtained from the expression matrix\n",
    "GOdata <- new(\"topGOdata\", description = \"\",ontology = \"BP\",\n",
    "                    allGenes = geneList2, geneSel = function(x)x, nodeSize = 10,\n",
    "                    annot = annFUN.org, ID = \"alias\", mapping = \"org.Hs.eg\")"
   ],
   "metadata": {
    "collapsed": false
   }
  },
  {
   "cell_type": "markdown",
   "source": [
    "We can search for related GO terms using `geneInTerm` function and view the term with associated genes."
   ],
   "metadata": {
    "collapsed": false
   }
  },
  {
   "cell_type": "code",
   "execution_count": 8,
   "outputs": [
    {
     "data": {
      "text/html": "<dl>\n\t<dt>$`GO:0000002`</dt>\n\t\t<dd><style>\n.list-inline {list-style: none; margin:0; padding: 0}\n.list-inline>li {display: inline-block}\n.list-inline>li:not(:last-child)::after {content: \"\\00b7\"; padding: 0 .5ex}\n</style>\n<ol class=list-inline><li>'AKT3'</li><li>'DNA2'</li><li>'DNAJA3'</li><li>'ENDOG'</li><li>'FLCN'</li><li>'LIG3'</li><li>'LONP1'</li><li>'MDP1'</li><li>'MEF2A'</li><li>'METTL4'</li><li>'MGME1'</li><li>'MPV17'</li><li>'OPA1'</li><li>'PARP1'</li><li>'PIF1'</li><li>'PIM1'</li><li>'POLB'</li><li>'POLG'</li><li>'POLG2'</li><li>'PPARGC1A'</li><li>'PRIMPOL'</li><li>'RRM1'</li><li>'RRM2B'</li><li>'SESN2'</li><li>'SLC25A33'</li><li>'SLC25A36'</li><li>'SLC25A4'</li><li>'SSBP1'</li><li>'STOML2'</li><li>'STOX1'</li><li>'TOP3A'</li><li>'TP53'</li><li>'TWNK'</li><li>'TYMP'</li></ol>\n</dd>\n\t<dt>$`GO:0000003`</dt>\n\t\t<dd><style>\n.list-inline {list-style: none; margin:0; padding: 0}\n.list-inline>li {display: inline-block}\n.list-inline>li:not(:last-child)::after {content: \"\\00b7\"; padding: 0 .5ex}\n</style>\n<ol class=list-inline><li>'A1CF'</li><li>'A2M'</li><li>'AAAS'</li><li>'ABAT'</li><li>'ABCC8'</li><li>'ABHD2'</li><li>'ACE'</li><li>'ACE2'</li><li>'ACOD1'</li><li>'ACOX1'</li><li>'ACR'</li><li>'ACRBP'</li><li>'ACSBG1'</li><li>'ACSBG2'</li><li>'ACSL4'</li><li>'ACTL7A'</li><li>'ACTL9'</li><li>'ACTR2'</li><li>'ACTR3'</li><li>'ACVR1'</li><li>'ACVR1B'</li><li>'ACVR1C'</li><li>'ACVR2A'</li><li>'ADA'</li><li>'ADAD1'</li><li>'ADAM15'</li><li>'ADAM18'</li><li>'ADAM19'</li><li>'ADAM2'</li><li>'ADAM20'</li><li>'ADAM21'</li><li>'ADAM28'</li><li>'ADAM29'</li><li>'ADAM32'</li><li>'ADAM5'</li><li>'ADAMTS1'</li><li>'ADAMTS16'</li><li>'ADAMTS2'</li><li>'ADCY10'</li><li>'ADCY3'</li><li>'ADCY7'</li><li>'ADCYAP1'</li><li>'ADCYAP1R1'</li><li>'ADGRG1'</li><li>'ADGRG2'</li><li>'ADIG'</li><li>'ADM'</li><li>'ADNP'</li><li>'ADRA2A'</li><li>'ADRA2B'</li><li>'AFF4'</li><li>'AFP'</li><li>'AGFG1'</li><li>'AGO2'</li><li>'AGO4'</li><li>'AGRP'</li><li>'AGT'</li><li>'AKAP3'</li><li>'AKAP4'</li><li>'AKR1C3'</li><li>'AKT1'</li><li>'ALDOA'</li><li>'ALKBH1'</li><li>'ALKBH5'</li><li>'ALOX15B'</li><li>'ALPL'</li><li>'AMBP'</li><li>'AMD1'</li><li>'AMH'</li><li>'AMHR2'</li><li>'ANG'</li><li>'ANGPT2'</li><li>'ANKRD31'</li><li>'ANKRD49'</li><li>'ANTXR1'</li><li>'ANXA1'</li><li>'AP3B1'</li><li>'APELA'</li><li>'APOB'</li><li>'APOL2'</li><li>'APOL3'</li><li>'APP'</li><li>'AQP4'</li><li>'AR'</li><li>'AREG'</li><li>'ARG1'</li><li>'ARHGDIB'</li><li>'ARID4A'</li><li>'ARID4B'</li><li>'ARID5B'</li><li>'ARMC12'</li><li>'ARMC2'</li><li>'ARNT'</li><li>'ARNTL'</li><li>'ARRB2'</li><li>'ASB1'</li><li>'ASCL2'</li><li>'ASF1B'</li><li>'ASH1L'</li><li>'ASPM'</li><li>'ASZ1'</li><li>'ATAT1'</li><li>'ATM'</li><li>'ATP1A1'</li><li>'ATP1A4'</li><li>'ATP2B2'</li><li>'ATP2B4'</li><li>'ATP7A'</li><li>'ATP8B3'</li><li>'ATR'</li><li>'ATRX'</li><li>'AURKA'</li><li>'AURKC'</li><li>'AVP'</li><li>'AVPR1A'</li><li>'AXL'</li><li>'AZI2'</li><li>'AZIN2'</li><li>'B4GALNT1'</li><li>'B4GALT1'</li><li>'BACH1'</li><li>'BAD'</li><li>'BAG6'</li><li>'BAK1'</li><li>'BAP1'</li><li>'BASP1'</li><li>'BAX'</li><li>'BBS2'</li><li>'BBS4'</li><li>'BCAP31'</li><li>'BCL2'</li><li>'BCL2L1'</li><li>'BCL2L10'</li><li>'BCL2L11'</li><li>'BCL2L2'</li><li>'BCL6'</li><li>'BIK'</li><li>'BIRC2'</li><li>'BIRC3'</li><li>'BIRC6'</li><li>'BMP15'</li><li>'BMP4'</li><li>'BMP5'</li><li>'BMP6'</li><li>'BMP7'</li><li>'BMPR1A'</li><li>'BMPR1B'</li><li>'BMPR2'</li><li>'BNC1'</li><li>'BOK'</li><li>'BOLL'</li><li>'BPTF'</li><li>'BPY2'</li><li>'BRCA2'</li><li>'BRD2'</li><li>'BRDT'</li><li>'BRF1'</li><li>'BRINP1'</li><li>'BRIP1'</li><li>'BRME1'</li><li>'BSG'</li><li>'BTBD18'</li><li>'BTG1'</li><li>'BUB1'</li><li>'BUB1B'</li><li>'BUB3'</li><li>'C11orf80'</li><li>'C14orf39'</li><li>'C16orf92'</li><li>'C1QBP'</li><li>'C3'</li><li>'C3orf62'</li><li>'C9orf24'</li><li>'CABS1'</li><li>'CABYR'</li><li>'CACNA1H'</li><li>'CACNA1I'</li><li>'CAD'</li><li>'CADM1'</li><li>'CALCA'</li><li>'CALR'</li><li>'CALR3'</li><li>'CAPN2'</li><li>'CASP2'</li><li>'CASP3'</li><li>'CASP8'</li><li>'CATSPER1'</li><li>'CATSPER2'</li><li>'CATSPER3'</li><li>'CATSPERB'</li><li>'CATSPERD'</li><li>'CATSPERE'</li><li>'CATSPERG'</li><li>'CBL'</li><li>'CBX2'</li><li>'CBX7'</li><li>'CCDC134'</li><li>'CCDC136'</li><li>'CCDC182'</li><li>'CCDC39'</li><li>⋯</li><li>'TBX3'</li><li>'TCF21'</li><li>'TCFL5'</li><li>'TCP1'</li><li>'TCP11'</li><li>'TCTE1'</li><li>'TDRD1'</li><li>'TDRD10'</li><li>'TDRD12'</li><li>'TDRD5'</li><li>'TDRD6'</li><li>'TDRD7'</li><li>'TDRD9'</li><li>'TDRKH'</li><li>'TDRP'</li><li>'TEAD3'</li><li>'TEAD4'</li><li>'TEKT2'</li><li>'TEKT3'</li><li>'TEP1'</li><li>'TERB1'</li><li>'TERB2'</li><li>'TERF1'</li><li>'TESK1'</li><li>'TESK2'</li><li>'TESMIN'</li><li>'TEX101'</li><li>'TEX11'</li><li>'TEX12'</li><li>'TEX14'</li><li>'TEX15'</li><li>'TEX19'</li><li>'TEX43'</li><li>'TFAP2C'</li><li>'TFEB'</li><li>'TFPT'</li><li>'TGFB2'</li><li>'TGFB3'</li><li>'TGFBR1'</li><li>'TGFBR2'</li><li>'TGS1'</li><li>'TH'</li><li>'THBD'</li><li>'THEG'</li><li>'THRA'</li><li>'THRB'</li><li>'TIAL1'</li><li>'TIFAB'</li><li>'TIMP1'</li><li>'TIMP4'</li><li>'TIPARP'</li><li>'TLE6'</li><li>'TLR3'</li><li>'TMED2'</li><li>'TMEM119'</li><li>'TMEM203'</li><li>'TMEM95'</li><li>'TMF1'</li><li>'TMPRSS12'</li><li>'TNC'</li><li>'TNFAIP6'</li><li>'TNP1'</li><li>'TNP2'</li><li>'TOB2'</li><li>'TOP2A'</li><li>'TOP2B'</li><li>'TOP3A'</li><li>'TP63'</li><li>'TPGS1'</li><li>'TPPP2'</li><li>'TPPP3'</li><li>'TRAC'</li><li>'TRIM27'</li><li>'TRIM28'</li><li>'TRIM36'</li><li>'TRIP13'</li><li>'TRO'</li><li>'TRPC3'</li><li>'TRPC6'</li><li>'TRPC7'</li><li>'TRPM2'</li><li>'TSGA10'</li><li>'TSNAX'</li><li>'TSNAXIP1'</li><li>'TSPAN8'</li><li>'TSPY1'</li><li>'TSSK1B'</li><li>'TSSK2'</li><li>'TSSK3'</li><li>'TSSK4'</li><li>'TSSK6'</li><li>'TTC12'</li><li>'TTC21A'</li><li>'TTC26'</li><li>'TTK'</li><li>'TTLL1'</li><li>'TTLL3'</li><li>'TTLL9'</li><li>'TTPA'</li><li>'TUBG1'</li><li>'TUBG2'</li><li>'TUBGCP2'</li><li>'TUBGCP3'</li><li>'TUBGCP4'</li><li>'TUBGCP5'</li><li>'TUBGCP6'</li><li>'TUT4'</li><li>'TUT7'</li><li>'TXNDC2'</li><li>'TXNDC8'</li><li>'TXNRD3'</li><li>'TYRO3'</li><li>'UBAP2L'</li><li>'UBB'</li><li>'UBE2A'</li><li>'UBE2B'</li><li>'UBE2J1'</li><li>'UBE2Q1'</li><li>'UBE3A'</li><li>'UBR2'</li><li>'UBXN8'</li><li>'UCN'</li><li>'UCP2'</li><li>'UMODL1'</li><li>'UMPS'</li><li>'UNC13B'</li><li>'UPRT'</li><li>'USP42'</li><li>'USP9X'</li><li>'USP9Y'</li><li>'UTF1'</li><li>'UTP14C'</li><li>'VASH1'</li><li>'VASH2'</li><li>'VDAC2'</li><li>'VDR'</li><li>'VEGFA'</li><li>'VGF'</li><li>'VIP'</li><li>'VIPAS39'</li><li>'VMP1'</li><li>'VPS13A'</li><li>'WASHC5'</li><li>'WBP2NL'</li><li>'WDR19'</li><li>'WDR33'</li><li>'WDR48'</li><li>'WDR77'</li><li>'WFDC2'</li><li>'WIPF3'</li><li>'WNT2'</li><li>'WNT2B'</li><li>'WNT3'</li><li>'WNT4'</li><li>'WNT5A'</li><li>'WNT7A'</li><li>'WNT7B'</li><li>'WNT9B'</li><li>'WT1'</li><li>'XDH'</li><li>'XKRY'</li><li>'XRCC2'</li><li>'XRN2'</li><li>'YBX2'</li><li>'YBX3'</li><li>'YTHDC1'</li><li>'YTHDC2'</li><li>'YTHDF2'</li><li>'YTHDF3'</li><li>'YY1'</li><li>'ZAN'</li><li>'ZBTB16'</li><li>'ZCWPW1'</li><li>'ZFP36L1'</li><li>'ZFP41'</li><li>'ZFP42'</li><li>'ZFPM2'</li><li>'ZFY'</li><li>'ZGLP1'</li><li>'ZMIZ1'</li><li>'ZMYND15'</li><li>'ZNF148'</li><li>'ZNF225'</li><li>'ZNF296'</li><li>'ZNF318'</li><li>'ZNF32'</li><li>'ZNF35'</li><li>'ZNF449'</li><li>'ZNF541'</li><li>'ZNF568'</li><li>'ZNF628'</li><li>'ZNF830'</li><li>'ZP1'</li><li>'ZP2'</li><li>'ZP4'</li><li>'ZPBP'</li><li>'ZPBP2'</li><li>'ZSCAN2'</li><li>'ZSCAN21'</li><li>'ZW10'</li></ol>\n</dd>\n\t<dt>$`GO:0000012`</dt>\n\t\t<dd><style>\n.list-inline {list-style: none; margin:0; padding: 0}\n.list-inline>li {display: inline-block}\n.list-inline>li:not(:last-child)::after {content: \"\\00b7\"; padding: 0 .5ex}\n</style>\n<ol class=list-inline><li>'APLF'</li><li>'APTX'</li><li>'ERCC6'</li><li>'ERCC8'</li><li>'LIG4'</li><li>'PARP1'</li><li>'SIRT1'</li><li>'TDP1'</li><li>'TERF2'</li><li>'TNP1'</li><li>'XNDC1N'</li><li>'XRCC1'</li></ol>\n</dd>\n\t<dt>$`GO:0000018`</dt>\n\t\t<dd><style>\n.list-inline {list-style: none; margin:0; padding: 0}\n.list-inline>li {display: inline-block}\n.list-inline>li:not(:last-child)::after {content: \"\\00b7\"; padding: 0 .5ex}\n</style>\n<ol class=list-inline><li>'ACTB'</li><li>'ACTL6A'</li><li>'ACTR2'</li><li>'ALYREF'</li><li>'ANKLE1'</li><li>'APLF'</li><li>'ARID2'</li><li>'ATAD5'</li><li>'BCL6'</li><li>'BLM'</li><li>'BRD8'</li><li>'CD28'</li><li>'CD40'</li><li>'CFL1'</li><li>'CGAS'</li><li>'CHEK1'</li><li>'CLC'</li><li>'CLCF1'</li><li>'DMAP1'</li><li>'EAF2'</li><li>'EP400'</li><li>'EPC1'</li><li>'EPC2'</li><li>'ERCC2'</li><li>'ERCC6'</li><li>'EXOSC3'</li><li>'EXOSC6'</li><li>'FANCB'</li><li>'FBH1'</li><li>'FIGNL1'</li><li>'FOXP3'</li><li>'FUS'</li><li>'H1-0'</li><li>'H1-1'</li><li>'H1-10'</li><li>'H1-2'</li><li>'H1-3'</li><li>'H1-4'</li><li>'H1-5'</li><li>'H1-6'</li><li>'H1-8'</li><li>'H1-9P'</li><li>'HDGFL2'</li><li>'HELB'</li><li>'HMCES'</li><li>'IL10'</li><li>'IL2'</li><li>'IL27RA'</li><li>'IL4'</li><li>'IL7R'</li><li>'ING2'</li><li>'ING3'</li><li>'KAT5'</li><li>'KDM1A'</li><li>'KHDC3L'</li><li>'KLHL15'</li><li>'KMT5B'</li><li>'KMT5C'</li><li>'KPNA1'</li><li>'KPNA2'</li><li>'MAD2L2'</li><li>'MAGEF1'</li><li>'MBTD1'</li><li>'MEAF6'</li><li>'MLH1'</li><li>'MMS19'</li><li>'MORF4L1'</li><li>'MORF4L2'</li><li>'MRE11'</li><li>'MRGBP'</li><li>'MRNIP'</li><li>'MSH2'</li><li>'MSH3'</li><li>'MSH6'</li><li>'NDFIP1'</li><li>'NSD2'</li><li>'OOEP'</li><li>'PARP1'</li><li>'PARP3'</li><li>'PARPBP'</li><li>'PAXIP1'</li><li>'POGZ'</li><li>'POLQ'</li><li>'PPP4C'</li><li>'PPP4R2'</li><li>'PRDM7'</li><li>'PRDM9'</li><li>'PTPRC'</li><li>'RAD50'</li><li>'RAD51'</li><li>'RAD51AP1'</li><li>'RADX'</li><li>'RBBP8'</li><li>'RECQL5'</li><li>'RIF1'</li><li>'RMI2'</li><li>'RPA2'</li><li>'RTEL1'</li><li>'RUVBL1'</li><li>'RUVBL2'</li><li>'SETD2'</li><li>'SHLD1'</li><li>'SHLD2'</li><li>'SIRT6'</li><li>'SLC15A4'</li><li>'SMAP2'</li><li>'SMARCAD1'</li><li>'SMCHD1'</li><li>'SPIDR'</li><li>'STAT6'</li><li>'SUPT6H'</li><li>'TBX21'</li><li>'TERF2'</li><li>'TERF2IP'</li><li>'TEX15'</li><li>'TFRC'</li><li>'TGFB1'</li><li>'THOC1'</li><li>'TIMELESS'</li><li>'TNFSF13'</li><li>'TNFSF4'</li><li>'TP53BP1'</li><li>'TRRAP'</li><li>'UBE2B'</li><li>'UBQLN4'</li><li>'USP51'</li><li>'VPS72'</li><li>'WAS'</li><li>'WDR48'</li><li>'WRAP53'</li><li>'YEATS4'</li><li>'ZCWPW1'</li><li>'ZNF365'</li><li>'ZRANB3'</li><li>'ZSCAN4'</li></ol>\n</dd>\n\t<dt>$`GO:0000027`</dt>\n\t\t<dd><style>\n.list-inline {list-style: none; margin:0; padding: 0}\n.list-inline>li {display: inline-block}\n.list-inline>li:not(:last-child)::after {content: \"\\00b7\"; padding: 0 .5ex}\n</style>\n<ol class=list-inline><li>'BOP1'</li><li>'BRIX1'</li><li>'DDX28'</li><li>'DHX30'</li><li>'FASTKD2'</li><li>'MDN1'</li><li>'MRPL20'</li><li>'MRTO4'</li><li>'NLE1'</li><li>'NOP2'</li><li>'NOP53'</li><li>'PPAN'</li><li>'RPF2'</li><li>'RPL10'</li><li>'RPL10L'</li><li>'RPL11'</li><li>'RPL23A'</li><li>'RPL24'</li><li>'RPL3'</li><li>'RPL38'</li><li>'RPL3L'</li><li>'RPL5'</li><li>'RPL6'</li><li>'RPLP0'</li><li>'RRS1'</li><li>'TRAF7'</li></ol>\n</dd>\n</dl>\n",
      "text/markdown": "$`GO:0000002`\n:   1. 'AKT3'\n2. 'DNA2'\n3. 'DNAJA3'\n4. 'ENDOG'\n5. 'FLCN'\n6. 'LIG3'\n7. 'LONP1'\n8. 'MDP1'\n9. 'MEF2A'\n10. 'METTL4'\n11. 'MGME1'\n12. 'MPV17'\n13. 'OPA1'\n14. 'PARP1'\n15. 'PIF1'\n16. 'PIM1'\n17. 'POLB'\n18. 'POLG'\n19. 'POLG2'\n20. 'PPARGC1A'\n21. 'PRIMPOL'\n22. 'RRM1'\n23. 'RRM2B'\n24. 'SESN2'\n25. 'SLC25A33'\n26. 'SLC25A36'\n27. 'SLC25A4'\n28. 'SSBP1'\n29. 'STOML2'\n30. 'STOX1'\n31. 'TOP3A'\n32. 'TP53'\n33. 'TWNK'\n34. 'TYMP'\n\n\n\n$`GO:0000003`\n:   1. 'A1CF'\n2. 'A2M'\n3. 'AAAS'\n4. 'ABAT'\n5. 'ABCC8'\n6. 'ABHD2'\n7. 'ACE'\n8. 'ACE2'\n9. 'ACOD1'\n10. 'ACOX1'\n11. 'ACR'\n12. 'ACRBP'\n13. 'ACSBG1'\n14. 'ACSBG2'\n15. 'ACSL4'\n16. 'ACTL7A'\n17. 'ACTL9'\n18. 'ACTR2'\n19. 'ACTR3'\n20. 'ACVR1'\n21. 'ACVR1B'\n22. 'ACVR1C'\n23. 'ACVR2A'\n24. 'ADA'\n25. 'ADAD1'\n26. 'ADAM15'\n27. 'ADAM18'\n28. 'ADAM19'\n29. 'ADAM2'\n30. 'ADAM20'\n31. 'ADAM21'\n32. 'ADAM28'\n33. 'ADAM29'\n34. 'ADAM32'\n35. 'ADAM5'\n36. 'ADAMTS1'\n37. 'ADAMTS16'\n38. 'ADAMTS2'\n39. 'ADCY10'\n40. 'ADCY3'\n41. 'ADCY7'\n42. 'ADCYAP1'\n43. 'ADCYAP1R1'\n44. 'ADGRG1'\n45. 'ADGRG2'\n46. 'ADIG'\n47. 'ADM'\n48. 'ADNP'\n49. 'ADRA2A'\n50. 'ADRA2B'\n51. 'AFF4'\n52. 'AFP'\n53. 'AGFG1'\n54. 'AGO2'\n55. 'AGO4'\n56. 'AGRP'\n57. 'AGT'\n58. 'AKAP3'\n59. 'AKAP4'\n60. 'AKR1C3'\n61. 'AKT1'\n62. 'ALDOA'\n63. 'ALKBH1'\n64. 'ALKBH5'\n65. 'ALOX15B'\n66. 'ALPL'\n67. 'AMBP'\n68. 'AMD1'\n69. 'AMH'\n70. 'AMHR2'\n71. 'ANG'\n72. 'ANGPT2'\n73. 'ANKRD31'\n74. 'ANKRD49'\n75. 'ANTXR1'\n76. 'ANXA1'\n77. 'AP3B1'\n78. 'APELA'\n79. 'APOB'\n80. 'APOL2'\n81. 'APOL3'\n82. 'APP'\n83. 'AQP4'\n84. 'AR'\n85. 'AREG'\n86. 'ARG1'\n87. 'ARHGDIB'\n88. 'ARID4A'\n89. 'ARID4B'\n90. 'ARID5B'\n91. 'ARMC12'\n92. 'ARMC2'\n93. 'ARNT'\n94. 'ARNTL'\n95. 'ARRB2'\n96. 'ASB1'\n97. 'ASCL2'\n98. 'ASF1B'\n99. 'ASH1L'\n100. 'ASPM'\n101. 'ASZ1'\n102. 'ATAT1'\n103. 'ATM'\n104. 'ATP1A1'\n105. 'ATP1A4'\n106. 'ATP2B2'\n107. 'ATP2B4'\n108. 'ATP7A'\n109. 'ATP8B3'\n110. 'ATR'\n111. 'ATRX'\n112. 'AURKA'\n113. 'AURKC'\n114. 'AVP'\n115. 'AVPR1A'\n116. 'AXL'\n117. 'AZI2'\n118. 'AZIN2'\n119. 'B4GALNT1'\n120. 'B4GALT1'\n121. 'BACH1'\n122. 'BAD'\n123. 'BAG6'\n124. 'BAK1'\n125. 'BAP1'\n126. 'BASP1'\n127. 'BAX'\n128. 'BBS2'\n129. 'BBS4'\n130. 'BCAP31'\n131. 'BCL2'\n132. 'BCL2L1'\n133. 'BCL2L10'\n134. 'BCL2L11'\n135. 'BCL2L2'\n136. 'BCL6'\n137. 'BIK'\n138. 'BIRC2'\n139. 'BIRC3'\n140. 'BIRC6'\n141. 'BMP15'\n142. 'BMP4'\n143. 'BMP5'\n144. 'BMP6'\n145. 'BMP7'\n146. 'BMPR1A'\n147. 'BMPR1B'\n148. 'BMPR2'\n149. 'BNC1'\n150. 'BOK'\n151. 'BOLL'\n152. 'BPTF'\n153. 'BPY2'\n154. 'BRCA2'\n155. 'BRD2'\n156. 'BRDT'\n157. 'BRF1'\n158. 'BRINP1'\n159. 'BRIP1'\n160. 'BRME1'\n161. 'BSG'\n162. 'BTBD18'\n163. 'BTG1'\n164. 'BUB1'\n165. 'BUB1B'\n166. 'BUB3'\n167. 'C11orf80'\n168. 'C14orf39'\n169. 'C16orf92'\n170. 'C1QBP'\n171. 'C3'\n172. 'C3orf62'\n173. 'C9orf24'\n174. 'CABS1'\n175. 'CABYR'\n176. 'CACNA1H'\n177. 'CACNA1I'\n178. 'CAD'\n179. 'CADM1'\n180. 'CALCA'\n181. 'CALR'\n182. 'CALR3'\n183. 'CAPN2'\n184. 'CASP2'\n185. 'CASP3'\n186. 'CASP8'\n187. 'CATSPER1'\n188. 'CATSPER2'\n189. 'CATSPER3'\n190. 'CATSPERB'\n191. 'CATSPERD'\n192. 'CATSPERE'\n193. 'CATSPERG'\n194. 'CBL'\n195. 'CBX2'\n196. 'CBX7'\n197. 'CCDC134'\n198. 'CCDC136'\n199. 'CCDC182'\n200. 'CCDC39'\n201. ⋯\n202. 'TBX3'\n203. 'TCF21'\n204. 'TCFL5'\n205. 'TCP1'\n206. 'TCP11'\n207. 'TCTE1'\n208. 'TDRD1'\n209. 'TDRD10'\n210. 'TDRD12'\n211. 'TDRD5'\n212. 'TDRD6'\n213. 'TDRD7'\n214. 'TDRD9'\n215. 'TDRKH'\n216. 'TDRP'\n217. 'TEAD3'\n218. 'TEAD4'\n219. 'TEKT2'\n220. 'TEKT3'\n221. 'TEP1'\n222. 'TERB1'\n223. 'TERB2'\n224. 'TERF1'\n225. 'TESK1'\n226. 'TESK2'\n227. 'TESMIN'\n228. 'TEX101'\n229. 'TEX11'\n230. 'TEX12'\n231. 'TEX14'\n232. 'TEX15'\n233. 'TEX19'\n234. 'TEX43'\n235. 'TFAP2C'\n236. 'TFEB'\n237. 'TFPT'\n238. 'TGFB2'\n239. 'TGFB3'\n240. 'TGFBR1'\n241. 'TGFBR2'\n242. 'TGS1'\n243. 'TH'\n244. 'THBD'\n245. 'THEG'\n246. 'THRA'\n247. 'THRB'\n248. 'TIAL1'\n249. 'TIFAB'\n250. 'TIMP1'\n251. 'TIMP4'\n252. 'TIPARP'\n253. 'TLE6'\n254. 'TLR3'\n255. 'TMED2'\n256. 'TMEM119'\n257. 'TMEM203'\n258. 'TMEM95'\n259. 'TMF1'\n260. 'TMPRSS12'\n261. 'TNC'\n262. 'TNFAIP6'\n263. 'TNP1'\n264. 'TNP2'\n265. 'TOB2'\n266. 'TOP2A'\n267. 'TOP2B'\n268. 'TOP3A'\n269. 'TP63'\n270. 'TPGS1'\n271. 'TPPP2'\n272. 'TPPP3'\n273. 'TRAC'\n274. 'TRIM27'\n275. 'TRIM28'\n276. 'TRIM36'\n277. 'TRIP13'\n278. 'TRO'\n279. 'TRPC3'\n280. 'TRPC6'\n281. 'TRPC7'\n282. 'TRPM2'\n283. 'TSGA10'\n284. 'TSNAX'\n285. 'TSNAXIP1'\n286. 'TSPAN8'\n287. 'TSPY1'\n288. 'TSSK1B'\n289. 'TSSK2'\n290. 'TSSK3'\n291. 'TSSK4'\n292. 'TSSK6'\n293. 'TTC12'\n294. 'TTC21A'\n295. 'TTC26'\n296. 'TTK'\n297. 'TTLL1'\n298. 'TTLL3'\n299. 'TTLL9'\n300. 'TTPA'\n301. 'TUBG1'\n302. 'TUBG2'\n303. 'TUBGCP2'\n304. 'TUBGCP3'\n305. 'TUBGCP4'\n306. 'TUBGCP5'\n307. 'TUBGCP6'\n308. 'TUT4'\n309. 'TUT7'\n310. 'TXNDC2'\n311. 'TXNDC8'\n312. 'TXNRD3'\n313. 'TYRO3'\n314. 'UBAP2L'\n315. 'UBB'\n316. 'UBE2A'\n317. 'UBE2B'\n318. 'UBE2J1'\n319. 'UBE2Q1'\n320. 'UBE3A'\n321. 'UBR2'\n322. 'UBXN8'\n323. 'UCN'\n324. 'UCP2'\n325. 'UMODL1'\n326. 'UMPS'\n327. 'UNC13B'\n328. 'UPRT'\n329. 'USP42'\n330. 'USP9X'\n331. 'USP9Y'\n332. 'UTF1'\n333. 'UTP14C'\n334. 'VASH1'\n335. 'VASH2'\n336. 'VDAC2'\n337. 'VDR'\n338. 'VEGFA'\n339. 'VGF'\n340. 'VIP'\n341. 'VIPAS39'\n342. 'VMP1'\n343. 'VPS13A'\n344. 'WASHC5'\n345. 'WBP2NL'\n346. 'WDR19'\n347. 'WDR33'\n348. 'WDR48'\n349. 'WDR77'\n350. 'WFDC2'\n351. 'WIPF3'\n352. 'WNT2'\n353. 'WNT2B'\n354. 'WNT3'\n355. 'WNT4'\n356. 'WNT5A'\n357. 'WNT7A'\n358. 'WNT7B'\n359. 'WNT9B'\n360. 'WT1'\n361. 'XDH'\n362. 'XKRY'\n363. 'XRCC2'\n364. 'XRN2'\n365. 'YBX2'\n366. 'YBX3'\n367. 'YTHDC1'\n368. 'YTHDC2'\n369. 'YTHDF2'\n370. 'YTHDF3'\n371. 'YY1'\n372. 'ZAN'\n373. 'ZBTB16'\n374. 'ZCWPW1'\n375. 'ZFP36L1'\n376. 'ZFP41'\n377. 'ZFP42'\n378. 'ZFPM2'\n379. 'ZFY'\n380. 'ZGLP1'\n381. 'ZMIZ1'\n382. 'ZMYND15'\n383. 'ZNF148'\n384. 'ZNF225'\n385. 'ZNF296'\n386. 'ZNF318'\n387. 'ZNF32'\n388. 'ZNF35'\n389. 'ZNF449'\n390. 'ZNF541'\n391. 'ZNF568'\n392. 'ZNF628'\n393. 'ZNF830'\n394. 'ZP1'\n395. 'ZP2'\n396. 'ZP4'\n397. 'ZPBP'\n398. 'ZPBP2'\n399. 'ZSCAN2'\n400. 'ZSCAN21'\n401. 'ZW10'\n\n\n\n$`GO:0000012`\n:   1. 'APLF'\n2. 'APTX'\n3. 'ERCC6'\n4. 'ERCC8'\n5. 'LIG4'\n6. 'PARP1'\n7. 'SIRT1'\n8. 'TDP1'\n9. 'TERF2'\n10. 'TNP1'\n11. 'XNDC1N'\n12. 'XRCC1'\n\n\n\n$`GO:0000018`\n:   1. 'ACTB'\n2. 'ACTL6A'\n3. 'ACTR2'\n4. 'ALYREF'\n5. 'ANKLE1'\n6. 'APLF'\n7. 'ARID2'\n8. 'ATAD5'\n9. 'BCL6'\n10. 'BLM'\n11. 'BRD8'\n12. 'CD28'\n13. 'CD40'\n14. 'CFL1'\n15. 'CGAS'\n16. 'CHEK1'\n17. 'CLC'\n18. 'CLCF1'\n19. 'DMAP1'\n20. 'EAF2'\n21. 'EP400'\n22. 'EPC1'\n23. 'EPC2'\n24. 'ERCC2'\n25. 'ERCC6'\n26. 'EXOSC3'\n27. 'EXOSC6'\n28. 'FANCB'\n29. 'FBH1'\n30. 'FIGNL1'\n31. 'FOXP3'\n32. 'FUS'\n33. 'H1-0'\n34. 'H1-1'\n35. 'H1-10'\n36. 'H1-2'\n37. 'H1-3'\n38. 'H1-4'\n39. 'H1-5'\n40. 'H1-6'\n41. 'H1-8'\n42. 'H1-9P'\n43. 'HDGFL2'\n44. 'HELB'\n45. 'HMCES'\n46. 'IL10'\n47. 'IL2'\n48. 'IL27RA'\n49. 'IL4'\n50. 'IL7R'\n51. 'ING2'\n52. 'ING3'\n53. 'KAT5'\n54. 'KDM1A'\n55. 'KHDC3L'\n56. 'KLHL15'\n57. 'KMT5B'\n58. 'KMT5C'\n59. 'KPNA1'\n60. 'KPNA2'\n61. 'MAD2L2'\n62. 'MAGEF1'\n63. 'MBTD1'\n64. 'MEAF6'\n65. 'MLH1'\n66. 'MMS19'\n67. 'MORF4L1'\n68. 'MORF4L2'\n69. 'MRE11'\n70. 'MRGBP'\n71. 'MRNIP'\n72. 'MSH2'\n73. 'MSH3'\n74. 'MSH6'\n75. 'NDFIP1'\n76. 'NSD2'\n77. 'OOEP'\n78. 'PARP1'\n79. 'PARP3'\n80. 'PARPBP'\n81. 'PAXIP1'\n82. 'POGZ'\n83. 'POLQ'\n84. 'PPP4C'\n85. 'PPP4R2'\n86. 'PRDM7'\n87. 'PRDM9'\n88. 'PTPRC'\n89. 'RAD50'\n90. 'RAD51'\n91. 'RAD51AP1'\n92. 'RADX'\n93. 'RBBP8'\n94. 'RECQL5'\n95. 'RIF1'\n96. 'RMI2'\n97. 'RPA2'\n98. 'RTEL1'\n99. 'RUVBL1'\n100. 'RUVBL2'\n101. 'SETD2'\n102. 'SHLD1'\n103. 'SHLD2'\n104. 'SIRT6'\n105. 'SLC15A4'\n106. 'SMAP2'\n107. 'SMARCAD1'\n108. 'SMCHD1'\n109. 'SPIDR'\n110. 'STAT6'\n111. 'SUPT6H'\n112. 'TBX21'\n113. 'TERF2'\n114. 'TERF2IP'\n115. 'TEX15'\n116. 'TFRC'\n117. 'TGFB1'\n118. 'THOC1'\n119. 'TIMELESS'\n120. 'TNFSF13'\n121. 'TNFSF4'\n122. 'TP53BP1'\n123. 'TRRAP'\n124. 'UBE2B'\n125. 'UBQLN4'\n126. 'USP51'\n127. 'VPS72'\n128. 'WAS'\n129. 'WDR48'\n130. 'WRAP53'\n131. 'YEATS4'\n132. 'ZCWPW1'\n133. 'ZNF365'\n134. 'ZRANB3'\n135. 'ZSCAN4'\n\n\n\n$`GO:0000027`\n:   1. 'BOP1'\n2. 'BRIX1'\n3. 'DDX28'\n4. 'DHX30'\n5. 'FASTKD2'\n6. 'MDN1'\n7. 'MRPL20'\n8. 'MRTO4'\n9. 'NLE1'\n10. 'NOP2'\n11. 'NOP53'\n12. 'PPAN'\n13. 'RPF2'\n14. 'RPL10'\n15. 'RPL10L'\n16. 'RPL11'\n17. 'RPL23A'\n18. 'RPL24'\n19. 'RPL3'\n20. 'RPL38'\n21. 'RPL3L'\n22. 'RPL5'\n23. 'RPL6'\n24. 'RPLP0'\n25. 'RRS1'\n26. 'TRAF7'\n\n\n\n\n\n",
      "text/latex": "\\begin{description}\n\\item[\\$`GO:0000002`] \\begin{enumerate*}\n\\item 'AKT3'\n\\item 'DNA2'\n\\item 'DNAJA3'\n\\item 'ENDOG'\n\\item 'FLCN'\n\\item 'LIG3'\n\\item 'LONP1'\n\\item 'MDP1'\n\\item 'MEF2A'\n\\item 'METTL4'\n\\item 'MGME1'\n\\item 'MPV17'\n\\item 'OPA1'\n\\item 'PARP1'\n\\item 'PIF1'\n\\item 'PIM1'\n\\item 'POLB'\n\\item 'POLG'\n\\item 'POLG2'\n\\item 'PPARGC1A'\n\\item 'PRIMPOL'\n\\item 'RRM1'\n\\item 'RRM2B'\n\\item 'SESN2'\n\\item 'SLC25A33'\n\\item 'SLC25A36'\n\\item 'SLC25A4'\n\\item 'SSBP1'\n\\item 'STOML2'\n\\item 'STOX1'\n\\item 'TOP3A'\n\\item 'TP53'\n\\item 'TWNK'\n\\item 'TYMP'\n\\end{enumerate*}\n\n\\item[\\$`GO:0000003`] \\begin{enumerate*}\n\\item 'A1CF'\n\\item 'A2M'\n\\item 'AAAS'\n\\item 'ABAT'\n\\item 'ABCC8'\n\\item 'ABHD2'\n\\item 'ACE'\n\\item 'ACE2'\n\\item 'ACOD1'\n\\item 'ACOX1'\n\\item 'ACR'\n\\item 'ACRBP'\n\\item 'ACSBG1'\n\\item 'ACSBG2'\n\\item 'ACSL4'\n\\item 'ACTL7A'\n\\item 'ACTL9'\n\\item 'ACTR2'\n\\item 'ACTR3'\n\\item 'ACVR1'\n\\item 'ACVR1B'\n\\item 'ACVR1C'\n\\item 'ACVR2A'\n\\item 'ADA'\n\\item 'ADAD1'\n\\item 'ADAM15'\n\\item 'ADAM18'\n\\item 'ADAM19'\n\\item 'ADAM2'\n\\item 'ADAM20'\n\\item 'ADAM21'\n\\item 'ADAM28'\n\\item 'ADAM29'\n\\item 'ADAM32'\n\\item 'ADAM5'\n\\item 'ADAMTS1'\n\\item 'ADAMTS16'\n\\item 'ADAMTS2'\n\\item 'ADCY10'\n\\item 'ADCY3'\n\\item 'ADCY7'\n\\item 'ADCYAP1'\n\\item 'ADCYAP1R1'\n\\item 'ADGRG1'\n\\item 'ADGRG2'\n\\item 'ADIG'\n\\item 'ADM'\n\\item 'ADNP'\n\\item 'ADRA2A'\n\\item 'ADRA2B'\n\\item 'AFF4'\n\\item 'AFP'\n\\item 'AGFG1'\n\\item 'AGO2'\n\\item 'AGO4'\n\\item 'AGRP'\n\\item 'AGT'\n\\item 'AKAP3'\n\\item 'AKAP4'\n\\item 'AKR1C3'\n\\item 'AKT1'\n\\item 'ALDOA'\n\\item 'ALKBH1'\n\\item 'ALKBH5'\n\\item 'ALOX15B'\n\\item 'ALPL'\n\\item 'AMBP'\n\\item 'AMD1'\n\\item 'AMH'\n\\item 'AMHR2'\n\\item 'ANG'\n\\item 'ANGPT2'\n\\item 'ANKRD31'\n\\item 'ANKRD49'\n\\item 'ANTXR1'\n\\item 'ANXA1'\n\\item 'AP3B1'\n\\item 'APELA'\n\\item 'APOB'\n\\item 'APOL2'\n\\item 'APOL3'\n\\item 'APP'\n\\item 'AQP4'\n\\item 'AR'\n\\item 'AREG'\n\\item 'ARG1'\n\\item 'ARHGDIB'\n\\item 'ARID4A'\n\\item 'ARID4B'\n\\item 'ARID5B'\n\\item 'ARMC12'\n\\item 'ARMC2'\n\\item 'ARNT'\n\\item 'ARNTL'\n\\item 'ARRB2'\n\\item 'ASB1'\n\\item 'ASCL2'\n\\item 'ASF1B'\n\\item 'ASH1L'\n\\item 'ASPM'\n\\item 'ASZ1'\n\\item 'ATAT1'\n\\item 'ATM'\n\\item 'ATP1A1'\n\\item 'ATP1A4'\n\\item 'ATP2B2'\n\\item 'ATP2B4'\n\\item 'ATP7A'\n\\item 'ATP8B3'\n\\item 'ATR'\n\\item 'ATRX'\n\\item 'AURKA'\n\\item 'AURKC'\n\\item 'AVP'\n\\item 'AVPR1A'\n\\item 'AXL'\n\\item 'AZI2'\n\\item 'AZIN2'\n\\item 'B4GALNT1'\n\\item 'B4GALT1'\n\\item 'BACH1'\n\\item 'BAD'\n\\item 'BAG6'\n\\item 'BAK1'\n\\item 'BAP1'\n\\item 'BASP1'\n\\item 'BAX'\n\\item 'BBS2'\n\\item 'BBS4'\n\\item 'BCAP31'\n\\item 'BCL2'\n\\item 'BCL2L1'\n\\item 'BCL2L10'\n\\item 'BCL2L11'\n\\item 'BCL2L2'\n\\item 'BCL6'\n\\item 'BIK'\n\\item 'BIRC2'\n\\item 'BIRC3'\n\\item 'BIRC6'\n\\item 'BMP15'\n\\item 'BMP4'\n\\item 'BMP5'\n\\item 'BMP6'\n\\item 'BMP7'\n\\item 'BMPR1A'\n\\item 'BMPR1B'\n\\item 'BMPR2'\n\\item 'BNC1'\n\\item 'BOK'\n\\item 'BOLL'\n\\item 'BPTF'\n\\item 'BPY2'\n\\item 'BRCA2'\n\\item 'BRD2'\n\\item 'BRDT'\n\\item 'BRF1'\n\\item 'BRINP1'\n\\item 'BRIP1'\n\\item 'BRME1'\n\\item 'BSG'\n\\item 'BTBD18'\n\\item 'BTG1'\n\\item 'BUB1'\n\\item 'BUB1B'\n\\item 'BUB3'\n\\item 'C11orf80'\n\\item 'C14orf39'\n\\item 'C16orf92'\n\\item 'C1QBP'\n\\item 'C3'\n\\item 'C3orf62'\n\\item 'C9orf24'\n\\item 'CABS1'\n\\item 'CABYR'\n\\item 'CACNA1H'\n\\item 'CACNA1I'\n\\item 'CAD'\n\\item 'CADM1'\n\\item 'CALCA'\n\\item 'CALR'\n\\item 'CALR3'\n\\item 'CAPN2'\n\\item 'CASP2'\n\\item 'CASP3'\n\\item 'CASP8'\n\\item 'CATSPER1'\n\\item 'CATSPER2'\n\\item 'CATSPER3'\n\\item 'CATSPERB'\n\\item 'CATSPERD'\n\\item 'CATSPERE'\n\\item 'CATSPERG'\n\\item 'CBL'\n\\item 'CBX2'\n\\item 'CBX7'\n\\item 'CCDC134'\n\\item 'CCDC136'\n\\item 'CCDC182'\n\\item 'CCDC39'\n\\item ⋯\n\\item 'TBX3'\n\\item 'TCF21'\n\\item 'TCFL5'\n\\item 'TCP1'\n\\item 'TCP11'\n\\item 'TCTE1'\n\\item 'TDRD1'\n\\item 'TDRD10'\n\\item 'TDRD12'\n\\item 'TDRD5'\n\\item 'TDRD6'\n\\item 'TDRD7'\n\\item 'TDRD9'\n\\item 'TDRKH'\n\\item 'TDRP'\n\\item 'TEAD3'\n\\item 'TEAD4'\n\\item 'TEKT2'\n\\item 'TEKT3'\n\\item 'TEP1'\n\\item 'TERB1'\n\\item 'TERB2'\n\\item 'TERF1'\n\\item 'TESK1'\n\\item 'TESK2'\n\\item 'TESMIN'\n\\item 'TEX101'\n\\item 'TEX11'\n\\item 'TEX12'\n\\item 'TEX14'\n\\item 'TEX15'\n\\item 'TEX19'\n\\item 'TEX43'\n\\item 'TFAP2C'\n\\item 'TFEB'\n\\item 'TFPT'\n\\item 'TGFB2'\n\\item 'TGFB3'\n\\item 'TGFBR1'\n\\item 'TGFBR2'\n\\item 'TGS1'\n\\item 'TH'\n\\item 'THBD'\n\\item 'THEG'\n\\item 'THRA'\n\\item 'THRB'\n\\item 'TIAL1'\n\\item 'TIFAB'\n\\item 'TIMP1'\n\\item 'TIMP4'\n\\item 'TIPARP'\n\\item 'TLE6'\n\\item 'TLR3'\n\\item 'TMED2'\n\\item 'TMEM119'\n\\item 'TMEM203'\n\\item 'TMEM95'\n\\item 'TMF1'\n\\item 'TMPRSS12'\n\\item 'TNC'\n\\item 'TNFAIP6'\n\\item 'TNP1'\n\\item 'TNP2'\n\\item 'TOB2'\n\\item 'TOP2A'\n\\item 'TOP2B'\n\\item 'TOP3A'\n\\item 'TP63'\n\\item 'TPGS1'\n\\item 'TPPP2'\n\\item 'TPPP3'\n\\item 'TRAC'\n\\item 'TRIM27'\n\\item 'TRIM28'\n\\item 'TRIM36'\n\\item 'TRIP13'\n\\item 'TRO'\n\\item 'TRPC3'\n\\item 'TRPC6'\n\\item 'TRPC7'\n\\item 'TRPM2'\n\\item 'TSGA10'\n\\item 'TSNAX'\n\\item 'TSNAXIP1'\n\\item 'TSPAN8'\n\\item 'TSPY1'\n\\item 'TSSK1B'\n\\item 'TSSK2'\n\\item 'TSSK3'\n\\item 'TSSK4'\n\\item 'TSSK6'\n\\item 'TTC12'\n\\item 'TTC21A'\n\\item 'TTC26'\n\\item 'TTK'\n\\item 'TTLL1'\n\\item 'TTLL3'\n\\item 'TTLL9'\n\\item 'TTPA'\n\\item 'TUBG1'\n\\item 'TUBG2'\n\\item 'TUBGCP2'\n\\item 'TUBGCP3'\n\\item 'TUBGCP4'\n\\item 'TUBGCP5'\n\\item 'TUBGCP6'\n\\item 'TUT4'\n\\item 'TUT7'\n\\item 'TXNDC2'\n\\item 'TXNDC8'\n\\item 'TXNRD3'\n\\item 'TYRO3'\n\\item 'UBAP2L'\n\\item 'UBB'\n\\item 'UBE2A'\n\\item 'UBE2B'\n\\item 'UBE2J1'\n\\item 'UBE2Q1'\n\\item 'UBE3A'\n\\item 'UBR2'\n\\item 'UBXN8'\n\\item 'UCN'\n\\item 'UCP2'\n\\item 'UMODL1'\n\\item 'UMPS'\n\\item 'UNC13B'\n\\item 'UPRT'\n\\item 'USP42'\n\\item 'USP9X'\n\\item 'USP9Y'\n\\item 'UTF1'\n\\item 'UTP14C'\n\\item 'VASH1'\n\\item 'VASH2'\n\\item 'VDAC2'\n\\item 'VDR'\n\\item 'VEGFA'\n\\item 'VGF'\n\\item 'VIP'\n\\item 'VIPAS39'\n\\item 'VMP1'\n\\item 'VPS13A'\n\\item 'WASHC5'\n\\item 'WBP2NL'\n\\item 'WDR19'\n\\item 'WDR33'\n\\item 'WDR48'\n\\item 'WDR77'\n\\item 'WFDC2'\n\\item 'WIPF3'\n\\item 'WNT2'\n\\item 'WNT2B'\n\\item 'WNT3'\n\\item 'WNT4'\n\\item 'WNT5A'\n\\item 'WNT7A'\n\\item 'WNT7B'\n\\item 'WNT9B'\n\\item 'WT1'\n\\item 'XDH'\n\\item 'XKRY'\n\\item 'XRCC2'\n\\item 'XRN2'\n\\item 'YBX2'\n\\item 'YBX3'\n\\item 'YTHDC1'\n\\item 'YTHDC2'\n\\item 'YTHDF2'\n\\item 'YTHDF3'\n\\item 'YY1'\n\\item 'ZAN'\n\\item 'ZBTB16'\n\\item 'ZCWPW1'\n\\item 'ZFP36L1'\n\\item 'ZFP41'\n\\item 'ZFP42'\n\\item 'ZFPM2'\n\\item 'ZFY'\n\\item 'ZGLP1'\n\\item 'ZMIZ1'\n\\item 'ZMYND15'\n\\item 'ZNF148'\n\\item 'ZNF225'\n\\item 'ZNF296'\n\\item 'ZNF318'\n\\item 'ZNF32'\n\\item 'ZNF35'\n\\item 'ZNF449'\n\\item 'ZNF541'\n\\item 'ZNF568'\n\\item 'ZNF628'\n\\item 'ZNF830'\n\\item 'ZP1'\n\\item 'ZP2'\n\\item 'ZP4'\n\\item 'ZPBP'\n\\item 'ZPBP2'\n\\item 'ZSCAN2'\n\\item 'ZSCAN21'\n\\item 'ZW10'\n\\end{enumerate*}\n\n\\item[\\$`GO:0000012`] \\begin{enumerate*}\n\\item 'APLF'\n\\item 'APTX'\n\\item 'ERCC6'\n\\item 'ERCC8'\n\\item 'LIG4'\n\\item 'PARP1'\n\\item 'SIRT1'\n\\item 'TDP1'\n\\item 'TERF2'\n\\item 'TNP1'\n\\item 'XNDC1N'\n\\item 'XRCC1'\n\\end{enumerate*}\n\n\\item[\\$`GO:0000018`] \\begin{enumerate*}\n\\item 'ACTB'\n\\item 'ACTL6A'\n\\item 'ACTR2'\n\\item 'ALYREF'\n\\item 'ANKLE1'\n\\item 'APLF'\n\\item 'ARID2'\n\\item 'ATAD5'\n\\item 'BCL6'\n\\item 'BLM'\n\\item 'BRD8'\n\\item 'CD28'\n\\item 'CD40'\n\\item 'CFL1'\n\\item 'CGAS'\n\\item 'CHEK1'\n\\item 'CLC'\n\\item 'CLCF1'\n\\item 'DMAP1'\n\\item 'EAF2'\n\\item 'EP400'\n\\item 'EPC1'\n\\item 'EPC2'\n\\item 'ERCC2'\n\\item 'ERCC6'\n\\item 'EXOSC3'\n\\item 'EXOSC6'\n\\item 'FANCB'\n\\item 'FBH1'\n\\item 'FIGNL1'\n\\item 'FOXP3'\n\\item 'FUS'\n\\item 'H1-0'\n\\item 'H1-1'\n\\item 'H1-10'\n\\item 'H1-2'\n\\item 'H1-3'\n\\item 'H1-4'\n\\item 'H1-5'\n\\item 'H1-6'\n\\item 'H1-8'\n\\item 'H1-9P'\n\\item 'HDGFL2'\n\\item 'HELB'\n\\item 'HMCES'\n\\item 'IL10'\n\\item 'IL2'\n\\item 'IL27RA'\n\\item 'IL4'\n\\item 'IL7R'\n\\item 'ING2'\n\\item 'ING3'\n\\item 'KAT5'\n\\item 'KDM1A'\n\\item 'KHDC3L'\n\\item 'KLHL15'\n\\item 'KMT5B'\n\\item 'KMT5C'\n\\item 'KPNA1'\n\\item 'KPNA2'\n\\item 'MAD2L2'\n\\item 'MAGEF1'\n\\item 'MBTD1'\n\\item 'MEAF6'\n\\item 'MLH1'\n\\item 'MMS19'\n\\item 'MORF4L1'\n\\item 'MORF4L2'\n\\item 'MRE11'\n\\item 'MRGBP'\n\\item 'MRNIP'\n\\item 'MSH2'\n\\item 'MSH3'\n\\item 'MSH6'\n\\item 'NDFIP1'\n\\item 'NSD2'\n\\item 'OOEP'\n\\item 'PARP1'\n\\item 'PARP3'\n\\item 'PARPBP'\n\\item 'PAXIP1'\n\\item 'POGZ'\n\\item 'POLQ'\n\\item 'PPP4C'\n\\item 'PPP4R2'\n\\item 'PRDM7'\n\\item 'PRDM9'\n\\item 'PTPRC'\n\\item 'RAD50'\n\\item 'RAD51'\n\\item 'RAD51AP1'\n\\item 'RADX'\n\\item 'RBBP8'\n\\item 'RECQL5'\n\\item 'RIF1'\n\\item 'RMI2'\n\\item 'RPA2'\n\\item 'RTEL1'\n\\item 'RUVBL1'\n\\item 'RUVBL2'\n\\item 'SETD2'\n\\item 'SHLD1'\n\\item 'SHLD2'\n\\item 'SIRT6'\n\\item 'SLC15A4'\n\\item 'SMAP2'\n\\item 'SMARCAD1'\n\\item 'SMCHD1'\n\\item 'SPIDR'\n\\item 'STAT6'\n\\item 'SUPT6H'\n\\item 'TBX21'\n\\item 'TERF2'\n\\item 'TERF2IP'\n\\item 'TEX15'\n\\item 'TFRC'\n\\item 'TGFB1'\n\\item 'THOC1'\n\\item 'TIMELESS'\n\\item 'TNFSF13'\n\\item 'TNFSF4'\n\\item 'TP53BP1'\n\\item 'TRRAP'\n\\item 'UBE2B'\n\\item 'UBQLN4'\n\\item 'USP51'\n\\item 'VPS72'\n\\item 'WAS'\n\\item 'WDR48'\n\\item 'WRAP53'\n\\item 'YEATS4'\n\\item 'ZCWPW1'\n\\item 'ZNF365'\n\\item 'ZRANB3'\n\\item 'ZSCAN4'\n\\end{enumerate*}\n\n\\item[\\$`GO:0000027`] \\begin{enumerate*}\n\\item 'BOP1'\n\\item 'BRIX1'\n\\item 'DDX28'\n\\item 'DHX30'\n\\item 'FASTKD2'\n\\item 'MDN1'\n\\item 'MRPL20'\n\\item 'MRTO4'\n\\item 'NLE1'\n\\item 'NOP2'\n\\item 'NOP53'\n\\item 'PPAN'\n\\item 'RPF2'\n\\item 'RPL10'\n\\item 'RPL10L'\n\\item 'RPL11'\n\\item 'RPL23A'\n\\item 'RPL24'\n\\item 'RPL3'\n\\item 'RPL38'\n\\item 'RPL3L'\n\\item 'RPL5'\n\\item 'RPL6'\n\\item 'RPLP0'\n\\item 'RRS1'\n\\item 'TRAF7'\n\\end{enumerate*}\n\n\\end{description}\n",
      "text/plain": "$`GO:0000002`\n [1] \"AKT3\"     \"DNA2\"     \"DNAJA3\"   \"ENDOG\"    \"FLCN\"     \"LIG3\"    \n [7] \"LONP1\"    \"MDP1\"     \"MEF2A\"    \"METTL4\"   \"MGME1\"    \"MPV17\"   \n[13] \"OPA1\"     \"PARP1\"    \"PIF1\"     \"PIM1\"     \"POLB\"     \"POLG\"    \n[19] \"POLG2\"    \"PPARGC1A\" \"PRIMPOL\"  \"RRM1\"     \"RRM2B\"    \"SESN2\"   \n[25] \"SLC25A33\" \"SLC25A36\" \"SLC25A4\"  \"SSBP1\"    \"STOML2\"   \"STOX1\"   \n[31] \"TOP3A\"    \"TP53\"     \"TWNK\"     \"TYMP\"    \n\n$`GO:0000003`\n   [1] \"A1CF\"      \"A2M\"       \"AAAS\"      \"ABAT\"      \"ABCC8\"     \"ABHD2\"    \n   [7] \"ACE\"       \"ACE2\"      \"ACOD1\"     \"ACOX1\"     \"ACR\"       \"ACRBP\"    \n  [13] \"ACSBG1\"    \"ACSBG2\"    \"ACSL4\"     \"ACTL7A\"    \"ACTL9\"     \"ACTR2\"    \n  [19] \"ACTR3\"     \"ACVR1\"     \"ACVR1B\"    \"ACVR1C\"    \"ACVR2A\"    \"ADA\"      \n  [25] \"ADAD1\"     \"ADAM15\"    \"ADAM18\"    \"ADAM19\"    \"ADAM2\"     \"ADAM20\"   \n  [31] \"ADAM21\"    \"ADAM28\"    \"ADAM29\"    \"ADAM32\"    \"ADAM5\"     \"ADAMTS1\"  \n  [37] \"ADAMTS16\"  \"ADAMTS2\"   \"ADCY10\"    \"ADCY3\"     \"ADCY7\"     \"ADCYAP1\"  \n  [43] \"ADCYAP1R1\" \"ADGRG1\"    \"ADGRG2\"    \"ADIG\"      \"ADM\"       \"ADNP\"     \n  [49] \"ADRA2A\"    \"ADRA2B\"    \"AFF4\"      \"AFP\"       \"AGFG1\"     \"AGO2\"     \n  [55] \"AGO4\"      \"AGRP\"      \"AGT\"       \"AKAP3\"     \"AKAP4\"     \"AKR1C3\"   \n  [61] \"AKT1\"      \"ALDOA\"     \"ALKBH1\"    \"ALKBH5\"    \"ALOX15B\"   \"ALPL\"     \n  [67] \"AMBP\"      \"AMD1\"      \"AMH\"       \"AMHR2\"     \"ANG\"       \"ANGPT2\"   \n  [73] \"ANKRD31\"   \"ANKRD49\"   \"ANTXR1\"    \"ANXA1\"     \"AP3B1\"     \"APELA\"    \n  [79] \"APOB\"      \"APOL2\"     \"APOL3\"     \"APP\"       \"AQP4\"      \"AR\"       \n  [85] \"AREG\"      \"ARG1\"      \"ARHGDIB\"   \"ARID4A\"    \"ARID4B\"    \"ARID5B\"   \n  [91] \"ARMC12\"    \"ARMC2\"     \"ARNT\"      \"ARNTL\"     \"ARRB2\"     \"ASB1\"     \n  [97] \"ASCL2\"     \"ASF1B\"     \"ASH1L\"     \"ASPM\"      \"ASZ1\"      \"ATAT1\"    \n [103] \"ATM\"       \"ATP1A1\"    \"ATP1A4\"    \"ATP2B2\"    \"ATP2B4\"    \"ATP7A\"    \n [109] \"ATP8B3\"    \"ATR\"       \"ATRX\"      \"AURKA\"     \"AURKC\"     \"AVP\"      \n [115] \"AVPR1A\"    \"AXL\"       \"AZI2\"      \"AZIN2\"     \"B4GALNT1\"  \"B4GALT1\"  \n [121] \"BACH1\"     \"BAD\"       \"BAG6\"      \"BAK1\"      \"BAP1\"      \"BASP1\"    \n [127] \"BAX\"       \"BBS2\"      \"BBS4\"      \"BCAP31\"    \"BCL2\"      \"BCL2L1\"   \n [133] \"BCL2L10\"   \"BCL2L11\"   \"BCL2L2\"    \"BCL6\"      \"BIK\"       \"BIRC2\"    \n [139] \"BIRC3\"     \"BIRC6\"     \"BMP15\"     \"BMP4\"      \"BMP5\"      \"BMP6\"     \n [145] \"BMP7\"      \"BMPR1A\"    \"BMPR1B\"    \"BMPR2\"     \"BNC1\"      \"BOK\"      \n [151] \"BOLL\"      \"BPTF\"      \"BPY2\"      \"BRCA2\"     \"BRD2\"      \"BRDT\"     \n [157] \"BRF1\"      \"BRINP1\"    \"BRIP1\"     \"BRME1\"     \"BSG\"       \"BTBD18\"   \n [163] \"BTG1\"      \"BUB1\"      \"BUB1B\"     \"BUB3\"      \"C11orf80\"  \"C14orf39\" \n [169] \"C16orf92\"  \"C1QBP\"     \"C3\"        \"C3orf62\"   \"C9orf24\"   \"CABS1\"    \n [175] \"CABYR\"     \"CACNA1H\"   \"CACNA1I\"   \"CAD\"       \"CADM1\"     \"CALCA\"    \n [181] \"CALR\"      \"CALR3\"     \"CAPN2\"     \"CASP2\"     \"CASP3\"     \"CASP8\"    \n [187] \"CATSPER1\"  \"CATSPER2\"  \"CATSPER3\"  \"CATSPERB\"  \"CATSPERD\"  \"CATSPERE\" \n [193] \"CATSPERG\"  \"CBL\"       \"CBX2\"      \"CBX7\"      \"CCDC134\"   \"CCDC136\"  \n [199] \"CCDC182\"   \"CCDC39\"    \"CCDC40\"    \"CCDC42\"    \"CCDC63\"    \"CCDC87\"   \n [205] \"CCIN\"      \"CCN1\"      \"CCNA1\"     \"CCNB1IP1\"  \"CCNB2\"     \"CCNB3\"    \n [211] \"CCND1\"     \"CCNE1\"     \"CCNE2\"     \"CCNF\"      \"CCNI\"      \"CCNYL1\"   \n [217] \"CCR6\"      \"CCT2\"      \"CCT3\"      \"CCT4\"      \"CCT5\"      \"CCT7\"     \n [223] \"CCT8\"      \"CD38\"      \"CD46\"      \"CD9\"       \"CDC20\"     \"CDC25A\"   \n [229] \"CDC25B\"    \"CDC25C\"    \"CDH1\"      \"CDK1\"      \"CDK16\"     \"CDK2\"     \n [235] \"CDKL2\"     \"CDKN1B\"    \"CDKN1C\"    \"CDX2\"      \"CDX4\"      \"CDY1\"     \n [241] \"CDYL\"      \"CEBPA\"     \"CEBPB\"     \"CECR2\"     \"CELF1\"     \"CELF3\"    \n [247] \"CELF4\"     \"CENPC\"     \"CENPI\"     \"CENPS\"     \"CENPX\"     \"CEP131\"   \n [253] \"CEP57\"     \"CETN2\"     \"CFAP157\"   \"CFAP206\"   \"CFAP251\"   \"CFAP43\"   \n [259] \"CFAP44\"    \"CFAP45\"    \"CFAP47\"    \"CFAP52\"    \"CFAP54\"    \"CFAP58\"   \n [265] \"CFAP65\"    \"CFAP69\"    \"CFAP91\"    \"CFAP97\"    \"CFAP97D1\"  \"CFTR\"     \n [271] \"CGB3\"      \"CHD5\"      \"CHD7\"      \"CHFR\"      \"CIB1\"      \"CITED1\"   \n [277] \"CITED2\"    \"CKS2\"      \"CLDN11\"    \"CLDN4\"     \"CLGN\"      \"CLIC4\"    \n [283] \"CLIC5\"     \"CLOCK\"     \"CLXN\"      \"CNBD2\"     \"CNOT9\"     \"CNP\"      \n [289] \"CNR1\"      \"CNTD1\"     \"CNTFR\"     \"COL16A1\"   \"COL9A3\"    \"CORIN\"    \n [295] \"CORT\"      \"COX2\"      \"CREB3\"     \"CREB3L4\"   \"CREM\"      \"CRH\"      \n [301] \"CRHBP\"     \"CRHR1\"     \"CRIP1\"     \"CRISP1\"    \"CRKL\"      \"CRTAP\"    \n [307] \"CSDE1\"     \"CSF1\"      \"CSF2\"      \"CSMD1\"     \"CSNK2A1\"   \"CSNK2A2\"  \n [313] \"CTCFL\"     \"CTDNEP1\"   \"CTNNA1\"    \"CTNNB1\"    \"CTSB\"      \"CUL7\"     \n [319] \"CXADR\"     \"CYC1\"      \"CYLC1\"     \"CYLC2\"     \"CYP17A1\"   \"CYP19A1\"  \n [325] \"CYP1A1\"    \"CYP1B1\"    \"CYP26B1\"   \"CYP27B1\"   \"CYP7B1\"    \"DACH1\"    \n [331] \"DACH2\"     \"DAZ1\"      \"DAZ2\"      \"DAZ3\"      \"DAZ4\"      \"DAZAP1\"   \n [337] \"DAZL\"      \"DBH\"       \"DBP\"       \"DCANP1\"    \"DDO\"       \"DDR1\"     \n [343] \"DDX20\"     \"DDX25\"     \"DDX3X\"     \"DDX3Y\"     \"DDX4\"      \"DEAF1\"    \n [349] \"DEDD\"      \"DEFB1\"     \"DEFB118\"   \"DEFB126\"   \"DHCR24\"    \"DHH\"      \n [355] \"DHX36\"     \"DHX37\"     \"DIAPH2\"    \"DKKL1\"     \"DLC1\"      \"DLD\"      \n [361] \"DLEC1\"     \"DLG1\"      \"DLX3\"      \"DMC1\"      \"DMRT1\"     \"DMRT2\"    \n [367] \"DMRT3\"     \"DMRTA1\"    \"DMRTA2\"    \"DMRTB1\"    \"DMRTC2\"    \"DNAAF11\"  \n [373] \"DNAAF6\"    \"DNAH1\"     \"DNAH11\"    \"DNAH5\"     \"DNAI1\"     \"DNAJB6\"   \n [379] \"DNAJC19\"   \"DND1\"      \"DNM2\"      \"DNMT3A\"    \"DNMT3L\"    \"DPCD\"     \n [385] \"DPY19L2\"   \"DPY19L2P2\" \"DRC7\"      \"DRD1\"      \"DRD5\"      \"DSG1\"     \n [391] \"DUSP1\"     \"DUSP13\"    \"DZIP1\"     \"E2F1\"      \"E2F7\"      \"E2F8\"     \n [397] \"EAF2\"      \"EDDM3A\"    \"EDN1\"      \"EDNRA\"     \"EDNRB\"     \"EGFR\"     \n [403] \"EGR1\"      \"EHMT2\"     \"EIF2B2\"    \"EIF2B4\"    \"EIF2B5\"    \"EIF2S2\"   \n [409] \"EIF4H\"     \"EIF5A2\"    \"ELL3\"      \"ELSPBP1\"   \"EME1\"      \"EME2\"     \n [415] \"EMP2\"      \"ENDOU\"     \"ENKUR\"     \"ENO2\"      \"EOMES\"     \"EPAS1\"    \n [421] \"EPN1\"      \"EPO\"       \"EPOR\"      \"EPPIN\"     \"EPYC\"      \"EQTN\"     \n [427] \"ERCC1\"     \"ERCC4\"     \"EREG\"      \"ESPL1\"     \"ESR1\"      \"ETNK2\"    \n [433] \"ETV2\"      \"ETV6\"      \"EXD1\"      \"EXO1\"      \"FAH\"       \"FAM170A\"  \n [439] \"FAM170B\"   \"FAM50A\"    \"FAM9A\"     \"FAM9B\"     \"FAM9C\"     \"FANCA\"    \n [445] \"FANCC\"     \"FANCD2\"    \"FANCG\"     \"FANCL\"     \"FANCM\"     \"FBLN1\"    \n [451] \"FBXO43\"    \"FBXO5\"     \"FBXW11\"    \"FBXW8\"     \"FEM1B\"     \"FETUB\"    \n [457] \"FGF10\"     \"FGF8\"      \"FGF9\"      \"FGFR2\"     \"FIGLA\"     \"FIGNL1\"   \n [463] \"FKBP4\"     \"FKBP6\"     \"FMN2\"      \"FNDC3A\"    \"FOLR1\"     \"FOLR2\"    \n [469] \"FOLR3\"     \"FOS\"       \"FOSB\"      \"FOSL1\"     \"FOXA1\"     \"FOXA3\"    \n [475] \"FOXC1\"     \"FOXF2\"     \"FOXJ1\"     \"FOXJ2\"     \"FOXJ3\"     \"FOXL2\"    \n [481] \"FOXO3\"     \"FRS2\"      \"FSCN3\"     \"FSHB\"      \"FSHR\"      \"FSIP2\"    \n [487] \"FST\"       \"FUT10\"     \"FUT7\"      \"FZD4\"      \"FZD5\"      \"FZR1\"     \n [493] \"GABRB1\"    \"GAL3ST1\"   \"GALNT15\"   \"GALNT3\"    \"GALNTL5\"   \"GAMT\"     \n [499] \"GAPDHS\"    \"GAS2\"      \"GAS8\"      \"GATA1\"     \"GATA2\"     \"GATA3\"    \n [505] \"GATA4\"     \"GATA6\"     \"GCM1\"      \"GDF10\"     \"GDF7\"      \"GDF9\"     \n [511] \"GFRA1\"     \"GGN\"       \"GGNBP2\"    \"GGT1\"      \"GHRHR\"     \"GHRL\"     \n [517] \"GHSR\"      \"GIP\"       \"GJA1\"      \"GJA10\"     \"GJB1\"      \"GJB2\"     \n [523] \"GJB3\"      \"GJB5\"      \"GK2\"       \"GLI1\"      \"GLI3\"      \"GLIPR1L1\" \n [529] \"GLRA1\"     \"GLRB\"      \"GMCL1\"     \"GMCL2\"     \"GNPDA1\"    \"GNRH1\"    \n [535] \"GNRH2\"     \"GOLGA2\"    \"GOLGA3\"    \"GORASP2\"   \"GPI\"       \"GPR149\"   \n [541] \"GPR3\"      \"GPX4\"      \"GRB2\"      \"GREB1L\"    \"GRHL2\"     \"GTSF1\"    \n [547] \"H1-1\"      \"H1-6\"      \"H1-7\"      \"H1-8\"      \"H1-9P\"     \"H2AX\"     \n [553] \"H2BC1\"     \"H3-3A\"     \"H3-3B\"     \"HAND1\"     \"HAS2\"      \"HAVCR2\"   \n [559] \"HDAC2\"     \"HECTD1\"    \"HERC2\"     \"HERC4\"     \"HERPUD2\"   \"HES1\"     \n [565] \"HESX1\"     \"HEXB\"      \"HEY1\"      \"HEY2\"      \"HFM1\"      \"HGF\"      \n [571] \"HIF1A\"     \"HK1\"       \"HLF\"       \"HMGB2\"     \"HNF4A\"     \"HOATZ\"    \n [577] \"HOOK1\"     \"HORMAD1\"   \"HORMAD2\"   \"HOXA10\"    \"HOXA11\"    \"HOXA13\"   \n [583] \"HOXB13\"    \"HOXD10\"    \"HOXD13\"    \"HOXD9\"     \"HPGD\"      \"HPGDS\"    \n [589] \"HROB\"      \"HS6ST1\"    \"HSD11B2\"   \"HSD17B2\"   \"HSD17B3\"   \"HSD17B4\"  \n [595] \"HSF2\"      \"HSF2BP\"    \"HSP90AB1\"  \"HSPA1L\"    \"HSPA2\"     \"HSPA5\"    \n [601] \"HSPB11\"    \"HTRA1\"     \"HTT\"       \"HUS1\"      \"HUS1B\"     \"HYAL1\"    \n [607] \"HYAL3\"     \"ID4\"       \"IDH1\"      \"IDO1\"      \"IFT20\"     \"IFT27\"    \n [613] \"IFT81\"     \"IFTAP\"     \"IGF1\"      \"IGF1R\"     \"IGF2\"      \"IGF2R\"    \n [619] \"IGFBP2\"    \"IGFBP5\"    \"IGFBP7\"    \"IGSF8\"     \"IHH\"       \"IHO1\"     \n [625] \"IL10\"      \"IL12B\"     \"IL1A\"      \"IL1B\"      \"IL4R\"      \"IMMP2L\"   \n [631] \"INCENP\"    \"ING2\"      \"INHA\"      \"INHBA\"     \"INHBB\"     \"INPP5B\"   \n [637] \"INSL3\"     \"INSR\"      \"INSRR\"     \"INTS13\"    \"IQCF1\"     \"IQCG\"     \n [643] \"IRAG2\"     \"IRF2BPL\"   \"IRX5\"      \"ITGA2\"     \"ITGA3\"     \"ITGA5\"    \n [649] \"ITGB1\"     \"ITGB4\"     \"ITGB8\"     \"IZUMO1\"    \"JAG2\"      \"JAM2\"     \n [655] \"JAM3\"      \"JUNB\"      \"KASH5\"     \"KATNAL1\"   \"KCNU1\"     \"KDM1B\"    \n [661] \"KDM2B\"     \"KDM3A\"     \"KDM5B\"     \"KDR\"       \"KHDRBS1\"   \"KIF18A\"   \n [667] \"KIF9\"      \"KISS1\"     \"KIT\"       \"KITLG\"     \"KLC2\"      \"KLC3\"     \n [673] \"KLF1\"      \"KLHDC3\"    \"KLHL10\"    \"KLK14\"     \"KMT2D\"     \"KNL1\"     \n [679] \"KPNA6\"     \"KRT19\"     \"KRT9\"      \"LARP7\"     \"LCN6\"      \"LDHC\"     \n [685] \"LDOC1\"     \"LEF1\"      \"LEP\"       \"LEPR\"      \"LFNG\"      \"LGALS9\"   \n [691] \"LGR4\"      \"LGR5\"      \"LHB\"       \"LHCGR\"     \"LHFPL2\"    \"LHX1\"     \n [697] \"LHX3\"      \"LHX4\"      \"LHX8\"      \"LHX9\"      \"LIF\"       \"LIMK2\"    \n [703] \"LIN28A\"    \"LIN9\"      \"LLCFC1\"    \"LNPEP\"     \"LRGUK\"     \"LRP2\"     \n [709] \"LRRC52\"    \"LRRC8A\"    \"LRRK2\"     \"LY6K\"      \"LYZL4\"     \"LYZL6\"    \n [715] \"M1AP\"      \"MAEL\"      \"MAFF\"      \"MAGED2\"    \"MAJIN\"     \"MAK\"      \n [721] \"MAMLD1\"    \"MAP2K1\"    \"MAP2K6\"    \"MAP3K4\"    \"MAPK1\"     \"MAPK14\"   \n [727] \"MAPK15\"    \"MAPK8IP2\"  \"MARF1\"     \"MAS1\"      \"MAST2\"     \"MASTL\"    \n [733] \"MBD2\"      \"MCM8\"      \"MCM9\"      \"MCMDC2\"    \"MDFI\"      \"MDK\"      \n [739] \"MEA1\"      \"MED1\"      \"MEI1\"      \"MEIG1\"     \"MEIKIN\"    \"MEIOB\"    \n [745] \"MEIOC\"     \"MEN1\"      \"MERTK\"     \"METTL14\"   \"METTL3\"    \"MFGE8\"    \n [751] \"MGAT4D\"    \"MIF\"       \"MKKS\"      \"MLH1\"      \"MLH3\"      \"MME\"      \n [757] \"MMP14\"     \"MMP19\"     \"MMP2\"      \"MMP23B\"    \"MMP9\"      \"MND1\"     \n [763] \"MNS1\"      \"MORC1\"     \"MORN2\"     \"MOS\"       \"MOV10L1\"   \"MRE11\"    \n [769] \"MROH2B\"    \"MSH2\"      \"MSH4\"      \"MSH5\"      \"MSH6\"      \"MST1\"     \n [775] \"MST1R\"     \"MSTN\"      \"MSX1\"      \"MSX2\"      \"MTNR1A\"    \"MTOR\"     \n [781] \"MUS81\"     \"MYBL1\"     \"MYC\"       \"MYCBP\"     \"MYCBPAP\"   \"MYH9\"     \n [787] \"MYOCD\"     \"MYT1\"      \"NANOS1\"    \"NANOS2\"    \"NANOS3\"    \"NASP\"     \n [793] \"NAT1\"      \"NAT2\"      \"NBN\"       \"NCAPD2\"    \"NCAPD3\"    \"NCAPH\"    \n [799] \"NCAPH2\"    \"NCOA1\"     \"NCOA4\"     \"NCOR2\"     \"NDC1\"      \"NDC80\"    \n [805] \"NDP\"       \"NDRG3\"     \"NECTIN2\"   \"NECTIN3\"   \"NEK2\"      \"NELL2\"    \n [811] \"NEURL1\"    \"NEUROG1\"   \"NHLH2\"     \"NIPBL\"     \"NKAPL\"     \"NKX3-1\"   \n [817] \"NLRP14\"    \"NLRP5\"     \"NME5\"      \"NME8\"      \"NOBOX\"     \"NODAL\"    \n [823] \"NOG\"       \"NOS1\"      \"NOS2\"      \"NOS3\"      \"NOTCH1\"    \"NOTCH2\"   \n [829] \"NOX5\"      \"NPAP1\"     \"NPAS1\"     \"NPHP1\"     \"NPHP4\"     \"NPM2\"     \n [835] \"NPPA\"      \"NPPC\"      \"NPR2\"      \"NPY5R\"     \"NR0B1\"     \"NR2C2\"    \n [841] \"NR2F2\"     \"NR5A1\"     \"NR6A1\"     \"NRIP1\"     \"NRP2\"      \"NSDHL\"    \n [847] \"NSUN2\"     \"NTRK1\"     \"NUDT1\"     \"NUF2\"      \"NUMA1\"     \"NUP107\"   \n [853] \"NUPR1\"     \"OAZ3\"      \"OCA2\"      \"ODF1\"      \"ODF2\"      \"ODF3\"     \n [859] \"ODF4\"      \"OOEP\"      \"OPRK1\"     \"OPRL1\"     \"OPRM1\"     \"OR10J1\"   \n [865] \"OR1D2\"     \"OR2H2\"     \"OR7C1\"     \"OSBP2\"     \"OSGIN2\"    \"OSR1\"     \n [871] \"OVGP1\"     \"OVOL1\"     \"OVOL2\"     \"OXT\"       \"OXTR\"      \"P2RX1\"    \n [877] \"P2RY1\"     \"P3H4\"      \"PACRG\"     \"PAEP\"      \"PAFAH1B1\"  \"PAFAH1B2\" \n [883] \"PAFAH1B3\"  \"PAIP2\"     \"PAM\"       \"PANK2\"     \"PANX1\"     \"PAPPA\"    \n [889] \"PAQR5\"     \"PAQR7\"     \"PAQR8\"     \"PARK7\"     \"PARN\"      \"PARP11\"   \n [895] \"PATZ1\"     \"PAX5\"      \"PBX1\"      \"PCDH12\"    \"PCNA\"      \"PCSK4\"    \n [901] \"PCSK5\"     \"PCYT1B\"    \"PDE3A\"     \"PDE5A\"     \"PDGFA\"     \"PDGFB\"    \n [907] \"PDGFRA\"    \"PDGFRB\"    \"PDIK1L\"    \"PDILT\"     \"PGAM1\"     \"PGAM2\"    \n [913] \"PGF\"       \"PGK2\"      \"PGM3\"      \"PGR\"       \"PHB2\"      \"PHLDA2\"   \n [919] \"PI3\"       \"PICK1\"     \"PIGF\"      \"PITHD1\"    \"PIWIL1\"    \"PIWIL2\"   \n [925] \"PIWIL4\"    \"PKD1\"      \"PKD2\"      \"PKDREJ\"    \"PKMYT1\"    \"PLA2G10\"  \n [931] \"PLA2G3\"    \"PLA2G4C\"   \"PLA2G6\"    \"PLAC1\"     \"PLAG1\"     \"PLAT\"     \n [937] \"PLB1\"      \"PLCB1\"     \"PLCD3\"     \"PLCD4\"     \"PLCZ1\"     \"PLD6\"     \n [943] \"PLEKHA1\"   \"PLG\"       \"PLK1\"      \"PLK4\"      \"PLTP\"      \"PMCH\"     \n [949] \"PMFBP1\"    \"PNOC\"      \"POLR1B\"    \"POMZP3\"    \"POR\"       \"POU4F2\"   \n [955] \"PPARD\"     \"PPARG\"     \"PPP1R1B\"   \"PPP1R9B\"   \"PPP2CA\"    \"PPP2R1A\"  \n [961] \"PRDM1\"     \"PRDM14\"    \"PRDM7\"     \"PRDM9\"     \"PRDX3\"     \"PRDX4\"    \n [967] \"PRKACA\"    \"PRKACG\"    \"PRKAG1\"    \"PRKDC\"     \"PRL\"       \"PRLHR\"    \n [973] \"PRLR\"      \"PRM1\"      \"PRM2\"      \"PRM3\"      \"PRMT7\"     \"PRND\"     \n [979] \"PROK2\"     \"PRPS1\"     \"PRPS1L1\"   \"PRR3\"      \"PRSS21\"    \"PRSS37\"   \n [985] \"PRSS55\"    \"PSAP\"      \"PSAPL1\"    \"PSG1\"      \"PSG11\"     \"PSG2\"     \n [991] \"PSG3\"      \"PSG4\"      \"PSG5\"      \"PSG6\"      \"PSG7\"      \"PSG9\"     \n [997] \"PSMA8\"     \"PSMC3IP\"   \"PSMD13\"    \"PSME4\"     \"PTAFR\"     \"PTCH1\"    \n[1003] \"PTEN\"      \"PTGDR\"     \"PTGDR2\"    \"PTGFR\"     \"PTGS2\"     \"PTHLH\"    \n[1009] \"PTK2\"      \"PTK2B\"     \"PTN\"       \"PTPN11\"    \"PTPN6\"     \"PTPRN\"    \n[1015] \"PTTG1\"     \"PTTG2\"     \"PTTG3P\"    \"PTX3\"      \"PUM1\"      \"PYGO1\"    \n[1021] \"PYGO2\"     \"PZP\"       \"QKI\"       \"QRICH2\"    \"RAB13\"     \"RAB3A\"    \n[1027] \"RACGAP1\"   \"RAD1\"      \"RAD21\"     \"RAD21L1\"   \"RAD23B\"    \"RAD50\"    \n[1033] \"RAD51\"     \"RAD51AP1\"  \"RAD51B\"    \"RAD51C\"    \"RAD51D\"    \"RAD54B\"   \n[1039] \"RAD54L\"    \"RAI14\"     \"RAN\"       \"RARA\"      \"RARG\"      \"RB1\"      \n[1045] \"RBBP8\"     \"RBM15\"     \"RBM7\"      \"RBP1\"      \"RBP3\"      \"RBP4\"     \n[1051] \"RBPJ\"      \"RDH10\"     \"REC114\"    \"REC8\"      \"RECK\"      \"REN\"      \n[1057] \"RETN\"      \"RFC1\"      \"RFX2\"      \"RGN\"       \"RGS2\"      \"RHBDD1\"   \n[1063] \"RHOBTB3\"   \"RIMBP3\"    \"RIMS1\"     \"RLF\"       \"RLN1\"      \"RLN2\"     \n[1069] \"RMI1\"      \"RNASE4\"    \"RNF114\"    \"RNF151\"    \"RNF17\"     \"RNF2\"     \n[1075] \"RNF212\"    \"RNF212B\"   \"RNF38\"     \"RNF8\"      \"ROBO2\"     \"ROPN1\"    \n[1081] \"ROPN1L\"    \"ROR2\"      \"ROS1\"      \"RPA1\"      \"RPA2\"      \"RPL10L\"   \n[1087] \"RPL29\"     \"RPL39L\"    \"RPS6\"      \"RPS6KA2\"   \"RPS6KB1\"   \"RSPH1\"    \n[1093] \"RSPH6A\"    \"RSPO3\"     \"RTCB\"      \"RUVBL1\"    \"RXFP1\"     \"RXFP2\"    \n[1099] \"SAFB2\"     \"SALL1\"     \"SAT1\"      \"SAT2\"      \"SBF1\"      \"SCG2\"     \n[1105] \"SCGB1A1\"   \"SCMH1\"     \"SCP2\"      \"SDC1\"      \"SEBOX\"     \"SELENOF\"  \n[1111] \"SELENOP\"   \"SELP\"      \"SEMA3A\"    \"SEMG1\"     \"SEMG2\"     \"SENP2\"    \n[1117] \"SEPTIN12\"  \"SEPTIN2\"   \"SEPTIN4\"   \"SEPTIN6\"   \"SEPTIN7\"   \"SERPINA5\" \n[1123] \"SERPINB5\"  \"SERPINE2\"  \"SERPINF1\"  \"SETD2\"     \"SETX\"      \"SF1\"      \n[1129] \"SFMBT1\"    \"SFRP1\"     \"SFRP2\"     \"SGO1\"      \"SGO2\"      \"SGPL1\"    \n[1135] \"SHCBP1L\"   \"SHH\"       \"SHISA6\"    \"SHOC1\"     \"SIAH1\"     \"SIRT1\"    \n[1141] \"SIRT2\"     \"SIRT7\"     \"SIX4\"      \"SIX5\"      \"SKIL\"      \"SLC19A1\"  \n[1147] \"SLC22A14\"  \"SLC22A16\"  \"SLC25A31\"  \"SLC26A3\"   \"SLC26A6\"   \"SLC26A8\"  \n[1153] \"SLC2A1\"    \"SLC2A14\"   \"SLC2A8\"    \"SLC38A1\"   \"SLC38A2\"   \"SLC38A3\"  \n[1159] \"SLC4A2\"    \"SLC6A4\"    \"SLC9B1\"    \"SLC9B2\"    \"SLCO4C1\"   \"SLIRP\"    \n[1165] \"SLIT1\"     \"SLIT2\"     \"SLIT3\"     \"SLX4\"      \"SMAD1\"     \"SMAD4\"    \n[1171] \"SMAD5\"     \"SMARCA2\"   \"SMC1A\"     \"SMC1B\"     \"SMC2\"      \"SMC3\"     \n[1177] \"SMC4\"      \"SMCP\"      \"SMURF2\"    \"SNAI1\"     \"SNRPA1\"    \"SNU13\"    \n[1183] \"SOCS3\"     \"SOD1\"      \"SOHLH1\"    \"SOHLH2\"    \"SORD\"      \"SOS1\"     \n[1189] \"SOX15\"     \"SOX17\"     \"SOX3\"      \"SOX30\"     \"SOX8\"      \"SOX9\"     \n[1195] \"SP1\"       \"SP3\"       \"SPA17\"     \"SPACA1\"    \"SPACA3\"    \"SPACA6\"   \n[1201] \"SPACA7\"    \"SPAG1\"     \"SPAG11A\"   \"SPAG11B\"   \"SPAG16\"    \"SPAG4\"    \n[1207] \"SPAG6\"     \"SPAG8\"     \"SPAM1\"     \"SPANXA1\"   \"SPANXC\"    \"SPATA16\"  \n[1213] \"SPATA19\"   \"SPATA2\"    \"SPATA20\"   \"SPATA22\"   \"SPATA24\"   \"SPATA25\"  \n[1219] \"SPATA31A3\" \"SPATA31C2\" \"SPATA31D3\" \"SPATA31E1\" \"SPATA32\"   \"SPATA46\"  \n[1225] \"SPATA5\"    \"SPATA6\"    \"SPATA6L\"   \"SPATA9\"    \"SPATC1L\"   \"SPDYA\"    \n[1231] \"SPEF2\"     \"SPEM1\"     \"SPEN\"      \"SPESP1\"    \"SPHK2\"     \"SPIN1\"    \n[1237] \"SPIN2A\"    \"SPIN2B\"    \"SPIN3\"     \"SPIN4\"     \"SPINK1\"    \"SPINK13\"  \n[1243] \"SPINK2\"    \"SPINT1\"    \"SPINT2\"    \"SPIRE1\"    \"SPIRE2\"    \"SPN\"      \n[1249] \"SPO11\"     \"SPOCD1\"    \"SPP1\"      \"SPR\"       \"SPTBN4\"    \"SRA1\"     \n[1255] \"SRC\"       \"SRD5A1\"    \"SRD5A2\"    \"SRPK1\"     \"SRY\"       \"SSTR1\"    \n[1261] \"SSTR2\"     \"SSTR3\"     \"ST14\"      \"STAG3\"     \"STAT3\"     \"STAT5B\"   \n[1267] \"STC1\"      \"STC2\"      \"STK11\"     \"STK3\"      \"STK35\"     \"STK4\"     \n[1273] \"STOX2\"     \"STRA6\"     \"STRBP\"     \"STS\"       \"STX2\"      \"STXBP1\"   \n[1279] \"SULF1\"     \"SUN1\"      \"SUN2\"      \"SUN5\"      \"SYCE1\"     \"SYCE1L\"   \n[1285] \"SYCE2\"     \"SYCE3\"     \"SYCP1\"     \"SYCP2\"     \"SYCP2L\"    \"SYCP3\"    \n[1291] \"SYDE1\"     \"SYNE1\"     \"SYT6\"      \"TAC1\"      \"TAC3\"      \"TAC4\"     \n[1297] \"TACR1\"     \"TACR2\"     \"TACR3\"     \"TAF1L\"     \"TAF4\"      \"TAF4B\"    \n[1303] \"TAF7L\"     \"TAFAZZIN\"  \"TARBP2\"    \"TAT\"       \"TBATA\"     \"TBC1D20\"  \n[1309] \"TBC1D21\"   \"TBPL1\"     \"TBX3\"      \"TCF21\"     \"TCFL5\"     \"TCP1\"     \n[1315] \"TCP11\"     \"TCTE1\"     \"TDRD1\"     \"TDRD10\"    \"TDRD12\"    \"TDRD5\"    \n[1321] \"TDRD6\"     \"TDRD7\"     \"TDRD9\"     \"TDRKH\"     \"TDRP\"      \"TEAD3\"    \n[1327] \"TEAD4\"     \"TEKT2\"     \"TEKT3\"     \"TEP1\"      \"TERB1\"     \"TERB2\"    \n[1333] \"TERF1\"     \"TESK1\"     \"TESK2\"     \"TESMIN\"    \"TEX101\"    \"TEX11\"    \n[1339] \"TEX12\"     \"TEX14\"     \"TEX15\"     \"TEX19\"     \"TEX43\"     \"TFAP2C\"   \n[1345] \"TFEB\"      \"TFPT\"      \"TGFB2\"     \"TGFB3\"     \"TGFBR1\"    \"TGFBR2\"   \n[1351] \"TGS1\"      \"TH\"        \"THBD\"      \"THEG\"      \"THRA\"      \"THRB\"     \n[1357] \"TIAL1\"     \"TIFAB\"     \"TIMP1\"     \"TIMP4\"     \"TIPARP\"    \"TLE6\"     \n[1363] \"TLR3\"      \"TMED2\"     \"TMEM119\"   \"TMEM203\"   \"TMEM95\"    \"TMF1\"     \n[1369] \"TMPRSS12\"  \"TNC\"       \"TNFAIP6\"   \"TNP1\"      \"TNP2\"      \"TOB2\"     \n[1375] \"TOP2A\"     \"TOP2B\"     \"TOP3A\"     \"TP63\"      \"TPGS1\"     \"TPPP2\"    \n[1381] \"TPPP3\"     \"TRAC\"      \"TRIM27\"    \"TRIM28\"    \"TRIM36\"    \"TRIP13\"   \n[1387] \"TRO\"       \"TRPC3\"     \"TRPC6\"     \"TRPC7\"     \"TRPM2\"     \"TSGA10\"   \n[1393] \"TSNAX\"     \"TSNAXIP1\"  \"TSPAN8\"    \"TSPY1\"     \"TSSK1B\"    \"TSSK2\"    \n[1399] \"TSSK3\"     \"TSSK4\"     \"TSSK6\"     \"TTC12\"     \"TTC21A\"    \"TTC26\"    \n[1405] \"TTK\"       \"TTLL1\"     \"TTLL3\"     \"TTLL9\"     \"TTPA\"      \"TUBG1\"    \n[1411] \"TUBG2\"     \"TUBGCP2\"   \"TUBGCP3\"   \"TUBGCP4\"   \"TUBGCP5\"   \"TUBGCP6\"  \n[1417] \"TUT4\"      \"TUT7\"      \"TXNDC2\"    \"TXNDC8\"    \"TXNRD3\"    \"TYRO3\"    \n[1423] \"UBAP2L\"    \"UBB\"       \"UBE2A\"     \"UBE2B\"     \"UBE2J1\"    \"UBE2Q1\"   \n[1429] \"UBE3A\"     \"UBR2\"      \"UBXN8\"     \"UCN\"       \"UCP2\"      \"UMODL1\"   \n[1435] \"UMPS\"      \"UNC13B\"    \"UPRT\"      \"USP42\"     \"USP9X\"     \"USP9Y\"    \n[1441] \"UTF1\"      \"UTP14C\"    \"VASH1\"     \"VASH2\"     \"VDAC2\"     \"VDR\"      \n[1447] \"VEGFA\"     \"VGF\"       \"VIP\"       \"VIPAS39\"   \"VMP1\"      \"VPS13A\"   \n[1453] \"WASHC5\"    \"WBP2NL\"    \"WDR19\"     \"WDR33\"     \"WDR48\"     \"WDR77\"    \n[1459] \"WFDC2\"     \"WIPF3\"     \"WNT2\"      \"WNT2B\"     \"WNT3\"      \"WNT4\"     \n[1465] \"WNT5A\"     \"WNT7A\"     \"WNT7B\"     \"WNT9B\"     \"WT1\"       \"XDH\"      \n[1471] \"XKRY\"      \"XRCC2\"     \"XRN2\"      \"YBX2\"      \"YBX3\"      \"YTHDC1\"   \n[1477] \"YTHDC2\"    \"YTHDF2\"    \"YTHDF3\"    \"YY1\"       \"ZAN\"       \"ZBTB16\"   \n[1483] \"ZCWPW1\"    \"ZFP36L1\"   \"ZFP41\"     \"ZFP42\"     \"ZFPM2\"     \"ZFY\"      \n[1489] \"ZGLP1\"     \"ZMIZ1\"     \"ZMYND15\"   \"ZNF148\"    \"ZNF225\"    \"ZNF296\"   \n[1495] \"ZNF318\"    \"ZNF32\"     \"ZNF35\"     \"ZNF449\"    \"ZNF541\"    \"ZNF568\"   \n[1501] \"ZNF628\"    \"ZNF830\"    \"ZP1\"       \"ZP2\"       \"ZP4\"       \"ZPBP\"     \n[1507] \"ZPBP2\"     \"ZSCAN2\"    \"ZSCAN21\"   \"ZW10\"     \n\n$`GO:0000012`\n [1] \"APLF\"   \"APTX\"   \"ERCC6\"  \"ERCC8\"  \"LIG4\"   \"PARP1\"  \"SIRT1\"  \"TDP1\"  \n [9] \"TERF2\"  \"TNP1\"   \"XNDC1N\" \"XRCC1\" \n\n$`GO:0000018`\n  [1] \"ACTB\"     \"ACTL6A\"   \"ACTR2\"    \"ALYREF\"   \"ANKLE1\"   \"APLF\"    \n  [7] \"ARID2\"    \"ATAD5\"    \"BCL6\"     \"BLM\"      \"BRD8\"     \"CD28\"    \n [13] \"CD40\"     \"CFL1\"     \"CGAS\"     \"CHEK1\"    \"CLC\"      \"CLCF1\"   \n [19] \"DMAP1\"    \"EAF2\"     \"EP400\"    \"EPC1\"     \"EPC2\"     \"ERCC2\"   \n [25] \"ERCC6\"    \"EXOSC3\"   \"EXOSC6\"   \"FANCB\"    \"FBH1\"     \"FIGNL1\"  \n [31] \"FOXP3\"    \"FUS\"      \"H1-0\"     \"H1-1\"     \"H1-10\"    \"H1-2\"    \n [37] \"H1-3\"     \"H1-4\"     \"H1-5\"     \"H1-6\"     \"H1-8\"     \"H1-9P\"   \n [43] \"HDGFL2\"   \"HELB\"     \"HMCES\"    \"IL10\"     \"IL2\"      \"IL27RA\"  \n [49] \"IL4\"      \"IL7R\"     \"ING2\"     \"ING3\"     \"KAT5\"     \"KDM1A\"   \n [55] \"KHDC3L\"   \"KLHL15\"   \"KMT5B\"    \"KMT5C\"    \"KPNA1\"    \"KPNA2\"   \n [61] \"MAD2L2\"   \"MAGEF1\"   \"MBTD1\"    \"MEAF6\"    \"MLH1\"     \"MMS19\"   \n [67] \"MORF4L1\"  \"MORF4L2\"  \"MRE11\"    \"MRGBP\"    \"MRNIP\"    \"MSH2\"    \n [73] \"MSH3\"     \"MSH6\"     \"NDFIP1\"   \"NSD2\"     \"OOEP\"     \"PARP1\"   \n [79] \"PARP3\"    \"PARPBP\"   \"PAXIP1\"   \"POGZ\"     \"POLQ\"     \"PPP4C\"   \n [85] \"PPP4R2\"   \"PRDM7\"    \"PRDM9\"    \"PTPRC\"    \"RAD50\"    \"RAD51\"   \n [91] \"RAD51AP1\" \"RADX\"     \"RBBP8\"    \"RECQL5\"   \"RIF1\"     \"RMI2\"    \n [97] \"RPA2\"     \"RTEL1\"    \"RUVBL1\"   \"RUVBL2\"   \"SETD2\"    \"SHLD1\"   \n[103] \"SHLD2\"    \"SIRT6\"    \"SLC15A4\"  \"SMAP2\"    \"SMARCAD1\" \"SMCHD1\"  \n[109] \"SPIDR\"    \"STAT6\"    \"SUPT6H\"   \"TBX21\"    \"TERF2\"    \"TERF2IP\" \n[115] \"TEX15\"    \"TFRC\"     \"TGFB1\"    \"THOC1\"    \"TIMELESS\" \"TNFSF13\" \n[121] \"TNFSF4\"   \"TP53BP1\"  \"TRRAP\"    \"UBE2B\"    \"UBQLN4\"   \"USP51\"   \n[127] \"VPS72\"    \"WAS\"      \"WDR48\"    \"WRAP53\"   \"YEATS4\"   \"ZCWPW1\"  \n[133] \"ZNF365\"   \"ZRANB3\"   \"ZSCAN4\"  \n\n$`GO:0000027`\n [1] \"BOP1\"    \"BRIX1\"   \"DDX28\"   \"DHX30\"   \"FASTKD2\" \"MDN1\"    \"MRPL20\" \n [8] \"MRTO4\"   \"NLE1\"    \"NOP2\"    \"NOP53\"   \"PPAN\"    \"RPF2\"    \"RPL10\"  \n[15] \"RPL10L\"  \"RPL11\"   \"RPL23A\"  \"RPL24\"   \"RPL3\"    \"RPL38\"   \"RPL3L\"  \n[22] \"RPL5\"    \"RPL6\"    \"RPLP0\"   \"RRS1\"    \"TRAF7\"  \n"
     },
     "metadata": {},
     "output_type": "display_data"
    }
   ],
   "source": [
    "# Obtain a list of genes for each GO term\n",
    "allGO = genesInTerm(GOdata)\n",
    "allGO[1:5]"
   ],
   "metadata": {
    "collapsed": false
   }
  },
  {
   "cell_type": "markdown",
   "source": [
    "Now, we already had GO terms with genes. However, we still do not know the meaning of GO terms related to biological process. We can use `GO.db` database to get a set of annotation maps describing the entire Gene Ontology assembled using data from GO. We can use the following code to install the `GO.db` R package."
   ],
   "metadata": {
    "collapsed": false
   }
  },
  {
   "cell_type": "code",
   "execution_count": 9,
   "outputs": [],
   "source": [
    "suppressMessages({if (!require(\"BiocManager\", quietly = TRUE))\n",
    "    install.packages(\"BiocManager\")\n",
    "  suppressWarnings(BiocManager::install(\"GO.db\", update = F))\n",
    "})\n",
    "library(GO.db)"
   ],
   "metadata": {
    "collapsed": false
   }
  },
  {
   "cell_type": "markdown",
   "source": [
    "Then, we can use the following command to obtain the GO terms description."
   ],
   "metadata": {
    "collapsed": false
   }
  },
  {
   "cell_type": "code",
   "execution_count": 10,
   "outputs": [],
   "source": [
    "# Getting the name of each GO term\n",
    "terms <- names(allGO)\n",
    "# Getting the description of each GO term\n",
    "descriptions <-lapply(Term(terms), `[[`, 1)"
   ],
   "metadata": {
    "collapsed": false
   }
  },
  {
   "cell_type": "markdown",
   "source": [
    "In order to perform enrichment analysis in later module, we need to save the GO terms and genesets to the standard output. One commonly used format is Gene Matrix Transposed file format *(\\*.gmt)*. The GMT file format is a tab delimited file format that describes gene sets. In the GMT format, each row represents a gene set; in the GMX format, each column represents a gene set. Here, we can save GO terms and genesets to the *\\*.gmt* using the following function:"
   ],
   "metadata": {
    "collapsed": false
   }
  },
  {
   "cell_type": "code",
   "execution_count": 11,
   "outputs": [],
   "source": [
    "# A function to save the GO terms with geneset to the local repository\n",
    "writeGMT <- function(genesets, descriptions, outfile) {\n",
    "\n",
    "  if (file.exists(outfile)) {\n",
    "    file.remove(outfile)\n",
    "  }\n",
    "  for (gs in names(genesets)) {\n",
    "    write(c(gs, gsub(\"\\t\", \" \", descriptions[[gs]]), genesets[[gs]]), file=outfile, sep=\"\\t\", append=TRUE, ncolumns=length(genesets[[gs]]) + 2)\n",
    "  }\n",
    "}\n",
    "outfile <- \"./data/GO_terms.gmt\"\n",
    "writeGMT(allGO, descriptions, outfile)"
   ],
   "metadata": {
    "collapsed": false
   }
  },
  {
   "cell_type": "markdown",
   "source": [
    "```{admonition} Saving data to the Google Cloud Bucket\n",
    "gsutil cp ./data/GO_terms.gmt gs://cpa-output\n",
    "```"
   ],
   "metadata": {
    "collapsed": false
   }
  },
  {
   "cell_type": "markdown",
   "source": [
    "## Kyoto Encyclopedia of Genes and Genomes (KEGG)\n",
    "### Overview\n",
    "KEGG is a collection of databases dealing with genomes, biological pathways, diseases, drugs, and chemical substances. KEGG is utilized for bioinformatics research and education, including data analysis in genomics, metagenomics, metabolomics and other omics studies, modeling and simulation in systems biology, and translational research in drug development. The KEGG database project was initiated in 1995 by Minoru Kanehisa, professor at the Institute for Chemical Research, Kyoto University, under the then ongoing Japanese Human Genome Program. Foreseeing the need for a computerized resource that can be used for biological interpretation of genome sequence data, he started developing the KEGG PATHWAY database. It is a collection of manually drawn KEGG pathway maps representing experimental knowledge on metabolism and various other functions of the cell and the organism. Each pathway map contains a network of molecular interactions and reactions and is designed to link genes in the genome to gene products (mostly proteins) in the pathway. This has enabled the analysis called KEGG pathway mapping, whereby the gene content in the genome is compared with the KEGG PATHWAY database to examine which pathways and associated functions are likely to be encoded in the genome. KEGG is a \"computer representation\" of the biological system. It integrates building blocks and wiring diagrams of the system—more specifically, genetic building blocks of genes and proteins, chemical building blocks of small molecules and reactions, and wiring diagrams of molecular interaction and reaction networks. The illustrative structure of KEGG is presented as figure below.\n",
    "![](./images/Module3/KEGG.jpg)\n"
   ],
   "metadata": {
    "collapsed": false
   }
  },
  {
   "cell_type": "markdown",
   "source": [
    "### Retrieving pathways from KEGG databases\n",
    "In this section, we will retrieve pathways and related gensets from the KEGG database using R command line. Here we will use `KEGGREST` R package that provides a client interface to the KEGG REST server. `KEGGREST` can be installed from the Bioconductor using following command."
   ],
   "metadata": {
    "collapsed": false
   }
  },
  {
   "cell_type": "code",
   "execution_count": 12,
   "outputs": [],
   "source": [
    "suppressMessages({if (!require(\"BiocManager\", quietly = TRUE))\n",
    "    install.packages(\"BiocManager\")\n",
    "  suppressWarnings(BiocManager::install(\"KEGGREST\", update = F))\n",
    "})\n",
    "suppressPackageStartupMessages({\n",
    "  library(KEGGREST)\n",
    "})"
   ],
   "metadata": {
    "collapsed": false
   }
  },
  {
   "cell_type": "markdown",
   "source": [
    "KEGG exposes a number of databases. To get an idea of what is available, run `listDatabases()`:"
   ],
   "metadata": {
    "collapsed": false
   }
  },
  {
   "cell_type": "code",
   "execution_count": 13,
   "outputs": [
    {
     "data": {
      "text/html": "<style>\n.list-inline {list-style: none; margin:0; padding: 0}\n.list-inline>li {display: inline-block}\n.list-inline>li:not(:last-child)::after {content: \"\\00b7\"; padding: 0 .5ex}\n</style>\n<ol class=list-inline><li>'pathway'</li><li>'brite'</li><li>'module'</li><li>'ko'</li><li>'genome'</li><li>'vg'</li><li>'ag'</li><li>'compound'</li><li>'glycan'</li><li>'reaction'</li><li>'rclass'</li><li>'enzyme'</li><li>'disease'</li><li>'drug'</li><li>'dgroup'</li><li>'environ'</li><li>'genes'</li><li>'ligand'</li><li>'kegg'</li></ol>\n",
      "text/markdown": "1. 'pathway'\n2. 'brite'\n3. 'module'\n4. 'ko'\n5. 'genome'\n6. 'vg'\n7. 'ag'\n8. 'compound'\n9. 'glycan'\n10. 'reaction'\n11. 'rclass'\n12. 'enzyme'\n13. 'disease'\n14. 'drug'\n15. 'dgroup'\n16. 'environ'\n17. 'genes'\n18. 'ligand'\n19. 'kegg'\n\n\n",
      "text/latex": "\\begin{enumerate*}\n\\item 'pathway'\n\\item 'brite'\n\\item 'module'\n\\item 'ko'\n\\item 'genome'\n\\item 'vg'\n\\item 'ag'\n\\item 'compound'\n\\item 'glycan'\n\\item 'reaction'\n\\item 'rclass'\n\\item 'enzyme'\n\\item 'disease'\n\\item 'drug'\n\\item 'dgroup'\n\\item 'environ'\n\\item 'genes'\n\\item 'ligand'\n\\item 'kegg'\n\\end{enumerate*}\n",
      "text/plain": " [1] \"pathway\"  \"brite\"    \"module\"   \"ko\"       \"genome\"   \"vg\"      \n [7] \"ag\"       \"compound\" \"glycan\"   \"reaction\" \"rclass\"   \"enzyme\"  \n[13] \"disease\"  \"drug\"     \"dgroup\"   \"environ\"  \"genes\"    \"ligand\"  \n[19] \"kegg\"    "
     },
     "metadata": {},
     "output_type": "display_data"
    }
   ],
   "source": [
    "KEGGREST::listDatabases()"
   ],
   "metadata": {
    "collapsed": false
   }
  },
  {
   "cell_type": "markdown",
   "source": [
    "We can use these databases in further queries. Note that in many cases you can also use a three-letter KEGG organism code or a “T number” (genome identifier) in the same place you would use one of these database names.\n",
    "\n",
    "We can obtain the list of organisms available in KEGG with the `keggList()` function:"
   ],
   "metadata": {
    "collapsed": false
   }
  },
  {
   "cell_type": "code",
   "execution_count": 14,
   "outputs": [],
   "source": [
    "organism <- keggList(\"organism\")"
   ],
   "metadata": {
    "collapsed": false
   }
  },
  {
   "cell_type": "code",
   "execution_count": 15,
   "outputs": [
    {
     "name": "stdout",
     "output_type": "stream",
     "text": [
      "[1] \"KEGG supports 8539 organisms\"\n"
     ]
    }
   ],
   "source": [
    "print(paste0(\"KEGG supports \",dim(organism)[1],\" organisms\"))"
   ],
   "metadata": {
    "collapsed": false
   }
  },
  {
   "cell_type": "markdown",
   "source": [
    "To view the supported organism we can use the following command:"
   ],
   "metadata": {
    "collapsed": false
   }
  },
  {
   "cell_type": "code",
   "execution_count": 16,
   "outputs": [
    {
     "data": {
      "text/html": "<table class=\"dataframe\">\n<caption>A matrix: 6 × 4 of type chr</caption>\n<thead>\n\t<tr><th scope=col>T.number</th><th scope=col>organism</th><th scope=col>species</th><th scope=col>phylogeny</th></tr>\n</thead>\n<tbody>\n\t<tr><td>T01001</td><td>hsa</td><td>Homo sapiens (human)                               </td><td>Eukaryotes;Animals;Vertebrates;Mammals</td></tr>\n\t<tr><td>T01005</td><td>ptr</td><td>Pan troglodytes (chimpanzee)                       </td><td>Eukaryotes;Animals;Vertebrates;Mammals</td></tr>\n\t<tr><td>T02283</td><td>pps</td><td>Pan paniscus (bonobo)                              </td><td>Eukaryotes;Animals;Vertebrates;Mammals</td></tr>\n\t<tr><td>T02442</td><td>ggo</td><td>Gorilla gorilla gorilla (western lowland gorilla)  </td><td>Eukaryotes;Animals;Vertebrates;Mammals</td></tr>\n\t<tr><td>T01416</td><td>pon</td><td>Pongo abelii (Sumatran orangutan)                  </td><td>Eukaryotes;Animals;Vertebrates;Mammals</td></tr>\n\t<tr><td>T03265</td><td>nle</td><td>Nomascus leucogenys (northern white-cheeked gibbon)</td><td>Eukaryotes;Animals;Vertebrates;Mammals</td></tr>\n</tbody>\n</table>\n",
      "text/markdown": "\nA matrix: 6 × 4 of type chr\n\n| T.number | organism | species | phylogeny |\n|---|---|---|---|\n| T01001 | hsa | Homo sapiens (human)                                | Eukaryotes;Animals;Vertebrates;Mammals |\n| T01005 | ptr | Pan troglodytes (chimpanzee)                        | Eukaryotes;Animals;Vertebrates;Mammals |\n| T02283 | pps | Pan paniscus (bonobo)                               | Eukaryotes;Animals;Vertebrates;Mammals |\n| T02442 | ggo | Gorilla gorilla gorilla (western lowland gorilla)   | Eukaryotes;Animals;Vertebrates;Mammals |\n| T01416 | pon | Pongo abelii (Sumatran orangutan)                   | Eukaryotes;Animals;Vertebrates;Mammals |\n| T03265 | nle | Nomascus leucogenys (northern white-cheeked gibbon) | Eukaryotes;Animals;Vertebrates;Mammals |\n\n",
      "text/latex": "A matrix: 6 × 4 of type chr\n\\begin{tabular}{llll}\n T.number & organism & species & phylogeny\\\\\n\\hline\n\t T01001 & hsa & Homo sapiens (human)                                & Eukaryotes;Animals;Vertebrates;Mammals\\\\\n\t T01005 & ptr & Pan troglodytes (chimpanzee)                        & Eukaryotes;Animals;Vertebrates;Mammals\\\\\n\t T02283 & pps & Pan paniscus (bonobo)                               & Eukaryotes;Animals;Vertebrates;Mammals\\\\\n\t T02442 & ggo & Gorilla gorilla gorilla (western lowland gorilla)   & Eukaryotes;Animals;Vertebrates;Mammals\\\\\n\t T01416 & pon & Pongo abelii (Sumatran orangutan)                   & Eukaryotes;Animals;Vertebrates;Mammals\\\\\n\t T03265 & nle & Nomascus leucogenys (northern white-cheeked gibbon) & Eukaryotes;Animals;Vertebrates;Mammals\\\\\n\\end{tabular}\n",
      "text/plain": "     T.number organism species                                            \n[1,] T01001   hsa      Homo sapiens (human)                               \n[2,] T01005   ptr      Pan troglodytes (chimpanzee)                       \n[3,] T02283   pps      Pan paniscus (bonobo)                              \n[4,] T02442   ggo      Gorilla gorilla gorilla (western lowland gorilla)  \n[5,] T01416   pon      Pongo abelii (Sumatran orangutan)                  \n[6,] T03265   nle      Nomascus leucogenys (northern white-cheeked gibbon)\n     phylogeny                             \n[1,] Eukaryotes;Animals;Vertebrates;Mammals\n[2,] Eukaryotes;Animals;Vertebrates;Mammals\n[3,] Eukaryotes;Animals;Vertebrates;Mammals\n[4,] Eukaryotes;Animals;Vertebrates;Mammals\n[5,] Eukaryotes;Animals;Vertebrates;Mammals\n[6,] Eukaryotes;Animals;Vertebrates;Mammals"
     },
     "metadata": {},
     "output_type": "display_data"
    }
   ],
   "source": [
    "# View several supported organism\n",
    "head(organism)"
   ],
   "metadata": {
    "collapsed": false
   }
  },
  {
   "cell_type": "markdown",
   "source": [
    "In the Module 02, we performed DE analysis on human dataset. Therefore, we need to download pathways for human, the abbreviation of human pathway in KEGG is `hsa` and we can use `keggList` function to get the pathway list."
   ],
   "metadata": {
    "collapsed": false
   }
  },
  {
   "cell_type": "code",
   "execution_count": 17,
   "outputs": [],
   "source": [
    "# Obtain the pathways belong to human\n",
    "pathways.list <- keggList(\"pathway\", \"hsa\")"
   ],
   "metadata": {
    "collapsed": false
   }
  },
  {
   "cell_type": "markdown",
   "source": [
    "The pathway list contains pathway description and pathway code in a single line of text. To see the first five pathways, we can use the following command:"
   ],
   "metadata": {
    "collapsed": false
   }
  },
  {
   "cell_type": "code",
   "execution_count": 18,
   "outputs": [
    {
     "data": {
      "text/html": "<style>\n.dl-inline {width: auto; margin:0; padding: 0}\n.dl-inline>dt, .dl-inline>dd {float: none; width: auto; display: inline-block}\n.dl-inline>dt::after {content: \":\\0020\"; padding-right: .5ex}\n.dl-inline>dt:not(:first-of-type) {padding-left: .5ex}\n</style><dl class=dl-inline><dt>path:hsa00010</dt><dd>'Glycolysis / Gluconeogenesis - Homo sapiens (human)'</dd><dt>path:hsa00020</dt><dd>'Citrate cycle (TCA cycle) - Homo sapiens (human)'</dd><dt>path:hsa00030</dt><dd>'Pentose phosphate pathway - Homo sapiens (human)'</dd><dt>path:hsa00040</dt><dd>'Pentose and glucuronate interconversions - Homo sapiens (human)'</dd><dt>path:hsa00051</dt><dd>'Fructose and mannose metabolism - Homo sapiens (human)'</dd></dl>\n",
      "text/markdown": "path:hsa00010\n:   'Glycolysis / Gluconeogenesis - Homo sapiens (human)'path:hsa00020\n:   'Citrate cycle (TCA cycle) - Homo sapiens (human)'path:hsa00030\n:   'Pentose phosphate pathway - Homo sapiens (human)'path:hsa00040\n:   'Pentose and glucuronate interconversions - Homo sapiens (human)'path:hsa00051\n:   'Fructose and mannose metabolism - Homo sapiens (human)'\n\n",
      "text/latex": "\\begin{description*}\n\\item[path:hsa00010] 'Glycolysis / Gluconeogenesis - Homo sapiens (human)'\n\\item[path:hsa00020] 'Citrate cycle (TCA cycle) - Homo sapiens (human)'\n\\item[path:hsa00030] 'Pentose phosphate pathway - Homo sapiens (human)'\n\\item[path:hsa00040] 'Pentose and glucuronate interconversions - Homo sapiens (human)'\n\\item[path:hsa00051] 'Fructose and mannose metabolism - Homo sapiens (human)'\n\\end{description*}\n",
      "text/plain": "                                                    path:hsa00010 \n            \"Glycolysis / Gluconeogenesis - Homo sapiens (human)\" \n                                                    path:hsa00020 \n               \"Citrate cycle (TCA cycle) - Homo sapiens (human)\" \n                                                    path:hsa00030 \n               \"Pentose phosphate pathway - Homo sapiens (human)\" \n                                                    path:hsa00040 \n\"Pentose and glucuronate interconversions - Homo sapiens (human)\" \n                                                    path:hsa00051 \n         \"Fructose and mannose metabolism - Homo sapiens (human)\" "
     },
     "metadata": {},
     "output_type": "display_data"
    }
   ],
   "source": [
    "# View the first five pathways\n",
    "pathways.list[1:5]"
   ],
   "metadata": {
    "collapsed": false
   }
  },
  {
   "cell_type": "markdown",
   "source": [
    "We can see that, in each line, the text in the quotation mark contain pathway information while the later part cotains pathway code leading by a prefix `path:`. To get  pathway codes from the pathway list, we can use the following command:"
   ],
   "metadata": {
    "collapsed": false
   }
  },
  {
   "cell_type": "code",
   "execution_count": 19,
   "outputs": [
    {
     "data": {
      "text/html": "<style>\n.list-inline {list-style: none; margin:0; padding: 0}\n.list-inline>li {display: inline-block}\n.list-inline>li:not(:last-child)::after {content: \"\\00b7\"; padding: 0 .5ex}\n</style>\n<ol class=list-inline><li>'hsa00010'</li><li>'hsa00020'</li><li>'hsa00030'</li><li>'hsa00040'</li><li>'hsa00051'</li><li>'hsa00052'</li><li>'hsa00053'</li><li>'hsa00061'</li><li>'hsa00062'</li><li>'hsa00071'</li><li>'hsa00100'</li><li>'hsa00120'</li><li>'hsa00130'</li><li>'hsa00140'</li><li>'hsa00190'</li><li>'hsa00220'</li><li>'hsa00230'</li><li>'hsa00232'</li><li>'hsa00240'</li><li>'hsa00250'</li><li>'hsa00260'</li><li>'hsa00270'</li><li>'hsa00280'</li><li>'hsa00290'</li><li>'hsa00310'</li><li>'hsa00330'</li><li>'hsa00340'</li><li>'hsa00350'</li><li>'hsa00360'</li><li>'hsa00380'</li><li>'hsa00400'</li><li>'hsa00410'</li><li>'hsa00430'</li><li>'hsa00440'</li><li>'hsa00450'</li><li>'hsa00470'</li><li>'hsa00480'</li><li>'hsa00500'</li><li>'hsa00510'</li><li>'hsa00511'</li><li>'hsa00512'</li><li>'hsa00513'</li><li>'hsa00514'</li><li>'hsa00515'</li><li>'hsa00520'</li><li>'hsa00524'</li><li>'hsa00531'</li><li>'hsa00532'</li><li>'hsa00533'</li><li>'hsa00534'</li><li>'hsa00561'</li><li>'hsa00562'</li><li>'hsa00563'</li><li>'hsa00564'</li><li>'hsa00565'</li><li>'hsa00590'</li><li>'hsa00591'</li><li>'hsa00592'</li><li>'hsa00600'</li><li>'hsa00601'</li><li>'hsa00603'</li><li>'hsa00604'</li><li>'hsa00620'</li><li>'hsa00630'</li><li>'hsa00640'</li><li>'hsa00650'</li><li>'hsa00670'</li><li>'hsa00730'</li><li>'hsa00740'</li><li>'hsa00750'</li><li>'hsa00760'</li><li>'hsa00770'</li><li>'hsa00780'</li><li>'hsa00785'</li><li>'hsa00790'</li><li>'hsa00830'</li><li>'hsa00860'</li><li>'hsa00900'</li><li>'hsa00910'</li><li>'hsa00920'</li><li>'hsa00970'</li><li>'hsa00980'</li><li>'hsa00982'</li><li>'hsa00983'</li><li>'hsa01040'</li><li>'hsa01100'</li><li>'hsa01200'</li><li>'hsa01210'</li><li>'hsa01212'</li><li>'hsa01230'</li><li>'hsa01232'</li><li>'hsa01240'</li><li>'hsa01250'</li><li>'hsa01521'</li><li>'hsa01522'</li><li>'hsa01523'</li><li>'hsa01524'</li><li>'hsa02010'</li><li>'hsa03008'</li><li>'hsa03010'</li><li>'hsa03013'</li><li>'hsa03015'</li><li>'hsa03018'</li><li>'hsa03020'</li><li>'hsa03022'</li><li>'hsa03030'</li><li>'hsa03040'</li><li>'hsa03050'</li><li>'hsa03060'</li><li>'hsa03250'</li><li>'hsa03260'</li><li>'hsa03264'</li><li>'hsa03265'</li><li>'hsa03266'</li><li>'hsa03267'</li><li>'hsa03320'</li><li>'hsa03410'</li><li>'hsa03420'</li><li>'hsa03430'</li><li>'hsa03440'</li><li>'hsa03450'</li><li>'hsa03460'</li><li>'hsa04010'</li><li>'hsa04012'</li><li>'hsa04014'</li><li>'hsa04015'</li><li>'hsa04020'</li><li>'hsa04022'</li><li>'hsa04024'</li><li>'hsa04060'</li><li>'hsa04061'</li><li>'hsa04062'</li><li>'hsa04064'</li><li>'hsa04066'</li><li>'hsa04068'</li><li>'hsa04070'</li><li>'hsa04071'</li><li>'hsa04072'</li><li>'hsa04080'</li><li>'hsa04110'</li><li>'hsa04114'</li><li>'hsa04115'</li><li>'hsa04120'</li><li>'hsa04122'</li><li>'hsa04130'</li><li>'hsa04136'</li><li>'hsa04137'</li><li>'hsa04140'</li><li>'hsa04141'</li><li>'hsa04142'</li><li>'hsa04144'</li><li>'hsa04145'</li><li>'hsa04146'</li><li>'hsa04150'</li><li>'hsa04151'</li><li>'hsa04152'</li><li>'hsa04210'</li><li>'hsa04211'</li><li>'hsa04213'</li><li>'hsa04215'</li><li>'hsa04216'</li><li>'hsa04217'</li><li>'hsa04218'</li><li>'hsa04260'</li><li>'hsa04261'</li><li>'hsa04270'</li><li>'hsa04310'</li><li>'hsa04330'</li><li>'hsa04340'</li><li>'hsa04350'</li><li>'hsa04360'</li><li>'hsa04370'</li><li>'hsa04371'</li><li>'hsa04380'</li><li>'hsa04390'</li><li>'hsa04392'</li><li>'hsa04510'</li><li>'hsa04512'</li><li>'hsa04514'</li><li>'hsa04520'</li><li>'hsa04530'</li><li>'hsa04540'</li><li>'hsa04550'</li><li>'hsa04610'</li><li>'hsa04611'</li><li>'hsa04612'</li><li>'hsa04613'</li><li>'hsa04614'</li><li>'hsa04620'</li><li>'hsa04621'</li><li>'hsa04622'</li><li>'hsa04623'</li><li>'hsa04625'</li><li>'hsa04630'</li><li>'hsa04640'</li><li>'hsa04650'</li><li>'hsa04657'</li><li>'hsa04658'</li><li>'hsa04659'</li><li>'hsa04660'</li><li>'hsa04662'</li><li>'hsa04664'</li><li>'hsa04666'</li><li>'hsa04668'</li><li>'hsa04670'</li><li>'hsa04672'</li><li>'hsa04710'</li><li>'hsa04713'</li><li>'hsa04714'</li><li>'hsa04720'</li><li>'hsa04721'</li><li>'hsa04722'</li><li>'hsa04723'</li><li>'hsa04724'</li><li>'hsa04725'</li><li>'hsa04726'</li><li>'hsa04727'</li><li>'hsa04728'</li><li>'hsa04730'</li><li>'hsa04740'</li><li>'hsa04742'</li><li>'hsa04744'</li><li>'hsa04750'</li><li>'hsa04810'</li><li>'hsa04910'</li><li>'hsa04911'</li><li>'hsa04912'</li><li>'hsa04913'</li><li>'hsa04914'</li><li>'hsa04915'</li><li>'hsa04916'</li><li>'hsa04917'</li><li>'hsa04918'</li><li>'hsa04919'</li><li>'hsa04920'</li><li>'hsa04921'</li><li>'hsa04922'</li><li>'hsa04923'</li><li>'hsa04924'</li><li>'hsa04925'</li><li>'hsa04926'</li><li>'hsa04927'</li><li>'hsa04928'</li><li>'hsa04929'</li><li>'hsa04930'</li><li>'hsa04931'</li><li>'hsa04932'</li><li>'hsa04933'</li><li>'hsa04934'</li><li>'hsa04935'</li><li>'hsa04936'</li><li>'hsa04940'</li><li>'hsa04950'</li><li>'hsa04960'</li><li>'hsa04961'</li><li>'hsa04962'</li><li>'hsa04964'</li><li>'hsa04966'</li><li>'hsa04970'</li><li>'hsa04971'</li><li>'hsa04972'</li><li>'hsa04973'</li><li>'hsa04974'</li><li>'hsa04975'</li><li>'hsa04976'</li><li>'hsa04977'</li><li>'hsa04978'</li><li>'hsa04979'</li><li>'hsa05010'</li><li>'hsa05012'</li><li>'hsa05014'</li><li>'hsa05016'</li><li>'hsa05017'</li><li>'hsa05020'</li><li>'hsa05022'</li><li>'hsa05030'</li><li>'hsa05031'</li><li>'hsa05032'</li><li>'hsa05033'</li><li>'hsa05034'</li><li>'hsa05100'</li><li>'hsa05110'</li><li>'hsa05120'</li><li>'hsa05130'</li><li>'hsa05131'</li><li>'hsa05132'</li><li>'hsa05133'</li><li>'hsa05134'</li><li>'hsa05135'</li><li>'hsa05140'</li><li>'hsa05142'</li><li>'hsa05143'</li><li>'hsa05144'</li><li>'hsa05145'</li><li>'hsa05146'</li><li>'hsa05150'</li><li>'hsa05152'</li><li>'hsa05160'</li><li>'hsa05161'</li><li>'hsa05162'</li><li>'hsa05163'</li><li>'hsa05164'</li><li>'hsa05165'</li><li>'hsa05166'</li><li>'hsa05167'</li><li>'hsa05168'</li><li>'hsa05169'</li><li>'hsa05170'</li><li>'hsa05171'</li><li>'hsa05200'</li><li>'hsa05202'</li><li>'hsa05203'</li><li>'hsa05204'</li><li>'hsa05205'</li><li>'hsa05206'</li><li>'hsa05207'</li><li>'hsa05208'</li><li>'hsa05210'</li><li>'hsa05211'</li><li>'hsa05212'</li><li>'hsa05213'</li><li>'hsa05214'</li><li>'hsa05215'</li><li>'hsa05216'</li><li>'hsa05217'</li><li>'hsa05218'</li><li>'hsa05219'</li><li>'hsa05220'</li><li>'hsa05221'</li><li>'hsa05222'</li><li>'hsa05223'</li><li>'hsa05224'</li><li>'hsa05225'</li><li>'hsa05226'</li><li>'hsa05230'</li><li>'hsa05231'</li><li>'hsa05235'</li><li>'hsa05310'</li><li>'hsa05320'</li><li>'hsa05321'</li><li>'hsa05322'</li><li>'hsa05323'</li><li>'hsa05330'</li><li>'hsa05332'</li><li>'hsa05340'</li><li>'hsa05410'</li><li>'hsa05412'</li><li>'hsa05414'</li><li>'hsa05415'</li><li>'hsa05416'</li><li>'hsa05417'</li><li>'hsa05418'</li></ol>\n",
      "text/markdown": "1. 'hsa00010'\n2. 'hsa00020'\n3. 'hsa00030'\n4. 'hsa00040'\n5. 'hsa00051'\n6. 'hsa00052'\n7. 'hsa00053'\n8. 'hsa00061'\n9. 'hsa00062'\n10. 'hsa00071'\n11. 'hsa00100'\n12. 'hsa00120'\n13. 'hsa00130'\n14. 'hsa00140'\n15. 'hsa00190'\n16. 'hsa00220'\n17. 'hsa00230'\n18. 'hsa00232'\n19. 'hsa00240'\n20. 'hsa00250'\n21. 'hsa00260'\n22. 'hsa00270'\n23. 'hsa00280'\n24. 'hsa00290'\n25. 'hsa00310'\n26. 'hsa00330'\n27. 'hsa00340'\n28. 'hsa00350'\n29. 'hsa00360'\n30. 'hsa00380'\n31. 'hsa00400'\n32. 'hsa00410'\n33. 'hsa00430'\n34. 'hsa00440'\n35. 'hsa00450'\n36. 'hsa00470'\n37. 'hsa00480'\n38. 'hsa00500'\n39. 'hsa00510'\n40. 'hsa00511'\n41. 'hsa00512'\n42. 'hsa00513'\n43. 'hsa00514'\n44. 'hsa00515'\n45. 'hsa00520'\n46. 'hsa00524'\n47. 'hsa00531'\n48. 'hsa00532'\n49. 'hsa00533'\n50. 'hsa00534'\n51. 'hsa00561'\n52. 'hsa00562'\n53. 'hsa00563'\n54. 'hsa00564'\n55. 'hsa00565'\n56. 'hsa00590'\n57. 'hsa00591'\n58. 'hsa00592'\n59. 'hsa00600'\n60. 'hsa00601'\n61. 'hsa00603'\n62. 'hsa00604'\n63. 'hsa00620'\n64. 'hsa00630'\n65. 'hsa00640'\n66. 'hsa00650'\n67. 'hsa00670'\n68. 'hsa00730'\n69. 'hsa00740'\n70. 'hsa00750'\n71. 'hsa00760'\n72. 'hsa00770'\n73. 'hsa00780'\n74. 'hsa00785'\n75. 'hsa00790'\n76. 'hsa00830'\n77. 'hsa00860'\n78. 'hsa00900'\n79. 'hsa00910'\n80. 'hsa00920'\n81. 'hsa00970'\n82. 'hsa00980'\n83. 'hsa00982'\n84. 'hsa00983'\n85. 'hsa01040'\n86. 'hsa01100'\n87. 'hsa01200'\n88. 'hsa01210'\n89. 'hsa01212'\n90. 'hsa01230'\n91. 'hsa01232'\n92. 'hsa01240'\n93. 'hsa01250'\n94. 'hsa01521'\n95. 'hsa01522'\n96. 'hsa01523'\n97. 'hsa01524'\n98. 'hsa02010'\n99. 'hsa03008'\n100. 'hsa03010'\n101. 'hsa03013'\n102. 'hsa03015'\n103. 'hsa03018'\n104. 'hsa03020'\n105. 'hsa03022'\n106. 'hsa03030'\n107. 'hsa03040'\n108. 'hsa03050'\n109. 'hsa03060'\n110. 'hsa03250'\n111. 'hsa03260'\n112. 'hsa03264'\n113. 'hsa03265'\n114. 'hsa03266'\n115. 'hsa03267'\n116. 'hsa03320'\n117. 'hsa03410'\n118. 'hsa03420'\n119. 'hsa03430'\n120. 'hsa03440'\n121. 'hsa03450'\n122. 'hsa03460'\n123. 'hsa04010'\n124. 'hsa04012'\n125. 'hsa04014'\n126. 'hsa04015'\n127. 'hsa04020'\n128. 'hsa04022'\n129. 'hsa04024'\n130. 'hsa04060'\n131. 'hsa04061'\n132. 'hsa04062'\n133. 'hsa04064'\n134. 'hsa04066'\n135. 'hsa04068'\n136. 'hsa04070'\n137. 'hsa04071'\n138. 'hsa04072'\n139. 'hsa04080'\n140. 'hsa04110'\n141. 'hsa04114'\n142. 'hsa04115'\n143. 'hsa04120'\n144. 'hsa04122'\n145. 'hsa04130'\n146. 'hsa04136'\n147. 'hsa04137'\n148. 'hsa04140'\n149. 'hsa04141'\n150. 'hsa04142'\n151. 'hsa04144'\n152. 'hsa04145'\n153. 'hsa04146'\n154. 'hsa04150'\n155. 'hsa04151'\n156. 'hsa04152'\n157. 'hsa04210'\n158. 'hsa04211'\n159. 'hsa04213'\n160. 'hsa04215'\n161. 'hsa04216'\n162. 'hsa04217'\n163. 'hsa04218'\n164. 'hsa04260'\n165. 'hsa04261'\n166. 'hsa04270'\n167. 'hsa04310'\n168. 'hsa04330'\n169. 'hsa04340'\n170. 'hsa04350'\n171. 'hsa04360'\n172. 'hsa04370'\n173. 'hsa04371'\n174. 'hsa04380'\n175. 'hsa04390'\n176. 'hsa04392'\n177. 'hsa04510'\n178. 'hsa04512'\n179. 'hsa04514'\n180. 'hsa04520'\n181. 'hsa04530'\n182. 'hsa04540'\n183. 'hsa04550'\n184. 'hsa04610'\n185. 'hsa04611'\n186. 'hsa04612'\n187. 'hsa04613'\n188. 'hsa04614'\n189. 'hsa04620'\n190. 'hsa04621'\n191. 'hsa04622'\n192. 'hsa04623'\n193. 'hsa04625'\n194. 'hsa04630'\n195. 'hsa04640'\n196. 'hsa04650'\n197. 'hsa04657'\n198. 'hsa04658'\n199. 'hsa04659'\n200. 'hsa04660'\n201. 'hsa04662'\n202. 'hsa04664'\n203. 'hsa04666'\n204. 'hsa04668'\n205. 'hsa04670'\n206. 'hsa04672'\n207. 'hsa04710'\n208. 'hsa04713'\n209. 'hsa04714'\n210. 'hsa04720'\n211. 'hsa04721'\n212. 'hsa04722'\n213. 'hsa04723'\n214. 'hsa04724'\n215. 'hsa04725'\n216. 'hsa04726'\n217. 'hsa04727'\n218. 'hsa04728'\n219. 'hsa04730'\n220. 'hsa04740'\n221. 'hsa04742'\n222. 'hsa04744'\n223. 'hsa04750'\n224. 'hsa04810'\n225. 'hsa04910'\n226. 'hsa04911'\n227. 'hsa04912'\n228. 'hsa04913'\n229. 'hsa04914'\n230. 'hsa04915'\n231. 'hsa04916'\n232. 'hsa04917'\n233. 'hsa04918'\n234. 'hsa04919'\n235. 'hsa04920'\n236. 'hsa04921'\n237. 'hsa04922'\n238. 'hsa04923'\n239. 'hsa04924'\n240. 'hsa04925'\n241. 'hsa04926'\n242. 'hsa04927'\n243. 'hsa04928'\n244. 'hsa04929'\n245. 'hsa04930'\n246. 'hsa04931'\n247. 'hsa04932'\n248. 'hsa04933'\n249. 'hsa04934'\n250. 'hsa04935'\n251. 'hsa04936'\n252. 'hsa04940'\n253. 'hsa04950'\n254. 'hsa04960'\n255. 'hsa04961'\n256. 'hsa04962'\n257. 'hsa04964'\n258. 'hsa04966'\n259. 'hsa04970'\n260. 'hsa04971'\n261. 'hsa04972'\n262. 'hsa04973'\n263. 'hsa04974'\n264. 'hsa04975'\n265. 'hsa04976'\n266. 'hsa04977'\n267. 'hsa04978'\n268. 'hsa04979'\n269. 'hsa05010'\n270. 'hsa05012'\n271. 'hsa05014'\n272. 'hsa05016'\n273. 'hsa05017'\n274. 'hsa05020'\n275. 'hsa05022'\n276. 'hsa05030'\n277. 'hsa05031'\n278. 'hsa05032'\n279. 'hsa05033'\n280. 'hsa05034'\n281. 'hsa05100'\n282. 'hsa05110'\n283. 'hsa05120'\n284. 'hsa05130'\n285. 'hsa05131'\n286. 'hsa05132'\n287. 'hsa05133'\n288. 'hsa05134'\n289. 'hsa05135'\n290. 'hsa05140'\n291. 'hsa05142'\n292. 'hsa05143'\n293. 'hsa05144'\n294. 'hsa05145'\n295. 'hsa05146'\n296. 'hsa05150'\n297. 'hsa05152'\n298. 'hsa05160'\n299. 'hsa05161'\n300. 'hsa05162'\n301. 'hsa05163'\n302. 'hsa05164'\n303. 'hsa05165'\n304. 'hsa05166'\n305. 'hsa05167'\n306. 'hsa05168'\n307. 'hsa05169'\n308. 'hsa05170'\n309. 'hsa05171'\n310. 'hsa05200'\n311. 'hsa05202'\n312. 'hsa05203'\n313. 'hsa05204'\n314. 'hsa05205'\n315. 'hsa05206'\n316. 'hsa05207'\n317. 'hsa05208'\n318. 'hsa05210'\n319. 'hsa05211'\n320. 'hsa05212'\n321. 'hsa05213'\n322. 'hsa05214'\n323. 'hsa05215'\n324. 'hsa05216'\n325. 'hsa05217'\n326. 'hsa05218'\n327. 'hsa05219'\n328. 'hsa05220'\n329. 'hsa05221'\n330. 'hsa05222'\n331. 'hsa05223'\n332. 'hsa05224'\n333. 'hsa05225'\n334. 'hsa05226'\n335. 'hsa05230'\n336. 'hsa05231'\n337. 'hsa05235'\n338. 'hsa05310'\n339. 'hsa05320'\n340. 'hsa05321'\n341. 'hsa05322'\n342. 'hsa05323'\n343. 'hsa05330'\n344. 'hsa05332'\n345. 'hsa05340'\n346. 'hsa05410'\n347. 'hsa05412'\n348. 'hsa05414'\n349. 'hsa05415'\n350. 'hsa05416'\n351. 'hsa05417'\n352. 'hsa05418'\n\n\n",
      "text/latex": "\\begin{enumerate*}\n\\item 'hsa00010'\n\\item 'hsa00020'\n\\item 'hsa00030'\n\\item 'hsa00040'\n\\item 'hsa00051'\n\\item 'hsa00052'\n\\item 'hsa00053'\n\\item 'hsa00061'\n\\item 'hsa00062'\n\\item 'hsa00071'\n\\item 'hsa00100'\n\\item 'hsa00120'\n\\item 'hsa00130'\n\\item 'hsa00140'\n\\item 'hsa00190'\n\\item 'hsa00220'\n\\item 'hsa00230'\n\\item 'hsa00232'\n\\item 'hsa00240'\n\\item 'hsa00250'\n\\item 'hsa00260'\n\\item 'hsa00270'\n\\item 'hsa00280'\n\\item 'hsa00290'\n\\item 'hsa00310'\n\\item 'hsa00330'\n\\item 'hsa00340'\n\\item 'hsa00350'\n\\item 'hsa00360'\n\\item 'hsa00380'\n\\item 'hsa00400'\n\\item 'hsa00410'\n\\item 'hsa00430'\n\\item 'hsa00440'\n\\item 'hsa00450'\n\\item 'hsa00470'\n\\item 'hsa00480'\n\\item 'hsa00500'\n\\item 'hsa00510'\n\\item 'hsa00511'\n\\item 'hsa00512'\n\\item 'hsa00513'\n\\item 'hsa00514'\n\\item 'hsa00515'\n\\item 'hsa00520'\n\\item 'hsa00524'\n\\item 'hsa00531'\n\\item 'hsa00532'\n\\item 'hsa00533'\n\\item 'hsa00534'\n\\item 'hsa00561'\n\\item 'hsa00562'\n\\item 'hsa00563'\n\\item 'hsa00564'\n\\item 'hsa00565'\n\\item 'hsa00590'\n\\item 'hsa00591'\n\\item 'hsa00592'\n\\item 'hsa00600'\n\\item 'hsa00601'\n\\item 'hsa00603'\n\\item 'hsa00604'\n\\item 'hsa00620'\n\\item 'hsa00630'\n\\item 'hsa00640'\n\\item 'hsa00650'\n\\item 'hsa00670'\n\\item 'hsa00730'\n\\item 'hsa00740'\n\\item 'hsa00750'\n\\item 'hsa00760'\n\\item 'hsa00770'\n\\item 'hsa00780'\n\\item 'hsa00785'\n\\item 'hsa00790'\n\\item 'hsa00830'\n\\item 'hsa00860'\n\\item 'hsa00900'\n\\item 'hsa00910'\n\\item 'hsa00920'\n\\item 'hsa00970'\n\\item 'hsa00980'\n\\item 'hsa00982'\n\\item 'hsa00983'\n\\item 'hsa01040'\n\\item 'hsa01100'\n\\item 'hsa01200'\n\\item 'hsa01210'\n\\item 'hsa01212'\n\\item 'hsa01230'\n\\item 'hsa01232'\n\\item 'hsa01240'\n\\item 'hsa01250'\n\\item 'hsa01521'\n\\item 'hsa01522'\n\\item 'hsa01523'\n\\item 'hsa01524'\n\\item 'hsa02010'\n\\item 'hsa03008'\n\\item 'hsa03010'\n\\item 'hsa03013'\n\\item 'hsa03015'\n\\item 'hsa03018'\n\\item 'hsa03020'\n\\item 'hsa03022'\n\\item 'hsa03030'\n\\item 'hsa03040'\n\\item 'hsa03050'\n\\item 'hsa03060'\n\\item 'hsa03250'\n\\item 'hsa03260'\n\\item 'hsa03264'\n\\item 'hsa03265'\n\\item 'hsa03266'\n\\item 'hsa03267'\n\\item 'hsa03320'\n\\item 'hsa03410'\n\\item 'hsa03420'\n\\item 'hsa03430'\n\\item 'hsa03440'\n\\item 'hsa03450'\n\\item 'hsa03460'\n\\item 'hsa04010'\n\\item 'hsa04012'\n\\item 'hsa04014'\n\\item 'hsa04015'\n\\item 'hsa04020'\n\\item 'hsa04022'\n\\item 'hsa04024'\n\\item 'hsa04060'\n\\item 'hsa04061'\n\\item 'hsa04062'\n\\item 'hsa04064'\n\\item 'hsa04066'\n\\item 'hsa04068'\n\\item 'hsa04070'\n\\item 'hsa04071'\n\\item 'hsa04072'\n\\item 'hsa04080'\n\\item 'hsa04110'\n\\item 'hsa04114'\n\\item 'hsa04115'\n\\item 'hsa04120'\n\\item 'hsa04122'\n\\item 'hsa04130'\n\\item 'hsa04136'\n\\item 'hsa04137'\n\\item 'hsa04140'\n\\item 'hsa04141'\n\\item 'hsa04142'\n\\item 'hsa04144'\n\\item 'hsa04145'\n\\item 'hsa04146'\n\\item 'hsa04150'\n\\item 'hsa04151'\n\\item 'hsa04152'\n\\item 'hsa04210'\n\\item 'hsa04211'\n\\item 'hsa04213'\n\\item 'hsa04215'\n\\item 'hsa04216'\n\\item 'hsa04217'\n\\item 'hsa04218'\n\\item 'hsa04260'\n\\item 'hsa04261'\n\\item 'hsa04270'\n\\item 'hsa04310'\n\\item 'hsa04330'\n\\item 'hsa04340'\n\\item 'hsa04350'\n\\item 'hsa04360'\n\\item 'hsa04370'\n\\item 'hsa04371'\n\\item 'hsa04380'\n\\item 'hsa04390'\n\\item 'hsa04392'\n\\item 'hsa04510'\n\\item 'hsa04512'\n\\item 'hsa04514'\n\\item 'hsa04520'\n\\item 'hsa04530'\n\\item 'hsa04540'\n\\item 'hsa04550'\n\\item 'hsa04610'\n\\item 'hsa04611'\n\\item 'hsa04612'\n\\item 'hsa04613'\n\\item 'hsa04614'\n\\item 'hsa04620'\n\\item 'hsa04621'\n\\item 'hsa04622'\n\\item 'hsa04623'\n\\item 'hsa04625'\n\\item 'hsa04630'\n\\item 'hsa04640'\n\\item 'hsa04650'\n\\item 'hsa04657'\n\\item 'hsa04658'\n\\item 'hsa04659'\n\\item 'hsa04660'\n\\item 'hsa04662'\n\\item 'hsa04664'\n\\item 'hsa04666'\n\\item 'hsa04668'\n\\item 'hsa04670'\n\\item 'hsa04672'\n\\item 'hsa04710'\n\\item 'hsa04713'\n\\item 'hsa04714'\n\\item 'hsa04720'\n\\item 'hsa04721'\n\\item 'hsa04722'\n\\item 'hsa04723'\n\\item 'hsa04724'\n\\item 'hsa04725'\n\\item 'hsa04726'\n\\item 'hsa04727'\n\\item 'hsa04728'\n\\item 'hsa04730'\n\\item 'hsa04740'\n\\item 'hsa04742'\n\\item 'hsa04744'\n\\item 'hsa04750'\n\\item 'hsa04810'\n\\item 'hsa04910'\n\\item 'hsa04911'\n\\item 'hsa04912'\n\\item 'hsa04913'\n\\item 'hsa04914'\n\\item 'hsa04915'\n\\item 'hsa04916'\n\\item 'hsa04917'\n\\item 'hsa04918'\n\\item 'hsa04919'\n\\item 'hsa04920'\n\\item 'hsa04921'\n\\item 'hsa04922'\n\\item 'hsa04923'\n\\item 'hsa04924'\n\\item 'hsa04925'\n\\item 'hsa04926'\n\\item 'hsa04927'\n\\item 'hsa04928'\n\\item 'hsa04929'\n\\item 'hsa04930'\n\\item 'hsa04931'\n\\item 'hsa04932'\n\\item 'hsa04933'\n\\item 'hsa04934'\n\\item 'hsa04935'\n\\item 'hsa04936'\n\\item 'hsa04940'\n\\item 'hsa04950'\n\\item 'hsa04960'\n\\item 'hsa04961'\n\\item 'hsa04962'\n\\item 'hsa04964'\n\\item 'hsa04966'\n\\item 'hsa04970'\n\\item 'hsa04971'\n\\item 'hsa04972'\n\\item 'hsa04973'\n\\item 'hsa04974'\n\\item 'hsa04975'\n\\item 'hsa04976'\n\\item 'hsa04977'\n\\item 'hsa04978'\n\\item 'hsa04979'\n\\item 'hsa05010'\n\\item 'hsa05012'\n\\item 'hsa05014'\n\\item 'hsa05016'\n\\item 'hsa05017'\n\\item 'hsa05020'\n\\item 'hsa05022'\n\\item 'hsa05030'\n\\item 'hsa05031'\n\\item 'hsa05032'\n\\item 'hsa05033'\n\\item 'hsa05034'\n\\item 'hsa05100'\n\\item 'hsa05110'\n\\item 'hsa05120'\n\\item 'hsa05130'\n\\item 'hsa05131'\n\\item 'hsa05132'\n\\item 'hsa05133'\n\\item 'hsa05134'\n\\item 'hsa05135'\n\\item 'hsa05140'\n\\item 'hsa05142'\n\\item 'hsa05143'\n\\item 'hsa05144'\n\\item 'hsa05145'\n\\item 'hsa05146'\n\\item 'hsa05150'\n\\item 'hsa05152'\n\\item 'hsa05160'\n\\item 'hsa05161'\n\\item 'hsa05162'\n\\item 'hsa05163'\n\\item 'hsa05164'\n\\item 'hsa05165'\n\\item 'hsa05166'\n\\item 'hsa05167'\n\\item 'hsa05168'\n\\item 'hsa05169'\n\\item 'hsa05170'\n\\item 'hsa05171'\n\\item 'hsa05200'\n\\item 'hsa05202'\n\\item 'hsa05203'\n\\item 'hsa05204'\n\\item 'hsa05205'\n\\item 'hsa05206'\n\\item 'hsa05207'\n\\item 'hsa05208'\n\\item 'hsa05210'\n\\item 'hsa05211'\n\\item 'hsa05212'\n\\item 'hsa05213'\n\\item 'hsa05214'\n\\item 'hsa05215'\n\\item 'hsa05216'\n\\item 'hsa05217'\n\\item 'hsa05218'\n\\item 'hsa05219'\n\\item 'hsa05220'\n\\item 'hsa05221'\n\\item 'hsa05222'\n\\item 'hsa05223'\n\\item 'hsa05224'\n\\item 'hsa05225'\n\\item 'hsa05226'\n\\item 'hsa05230'\n\\item 'hsa05231'\n\\item 'hsa05235'\n\\item 'hsa05310'\n\\item 'hsa05320'\n\\item 'hsa05321'\n\\item 'hsa05322'\n\\item 'hsa05323'\n\\item 'hsa05330'\n\\item 'hsa05332'\n\\item 'hsa05340'\n\\item 'hsa05410'\n\\item 'hsa05412'\n\\item 'hsa05414'\n\\item 'hsa05415'\n\\item 'hsa05416'\n\\item 'hsa05417'\n\\item 'hsa05418'\n\\end{enumerate*}\n",
      "text/plain": "  [1] \"hsa00010\" \"hsa00020\" \"hsa00030\" \"hsa00040\" \"hsa00051\" \"hsa00052\"\n  [7] \"hsa00053\" \"hsa00061\" \"hsa00062\" \"hsa00071\" \"hsa00100\" \"hsa00120\"\n [13] \"hsa00130\" \"hsa00140\" \"hsa00190\" \"hsa00220\" \"hsa00230\" \"hsa00232\"\n [19] \"hsa00240\" \"hsa00250\" \"hsa00260\" \"hsa00270\" \"hsa00280\" \"hsa00290\"\n [25] \"hsa00310\" \"hsa00330\" \"hsa00340\" \"hsa00350\" \"hsa00360\" \"hsa00380\"\n [31] \"hsa00400\" \"hsa00410\" \"hsa00430\" \"hsa00440\" \"hsa00450\" \"hsa00470\"\n [37] \"hsa00480\" \"hsa00500\" \"hsa00510\" \"hsa00511\" \"hsa00512\" \"hsa00513\"\n [43] \"hsa00514\" \"hsa00515\" \"hsa00520\" \"hsa00524\" \"hsa00531\" \"hsa00532\"\n [49] \"hsa00533\" \"hsa00534\" \"hsa00561\" \"hsa00562\" \"hsa00563\" \"hsa00564\"\n [55] \"hsa00565\" \"hsa00590\" \"hsa00591\" \"hsa00592\" \"hsa00600\" \"hsa00601\"\n [61] \"hsa00603\" \"hsa00604\" \"hsa00620\" \"hsa00630\" \"hsa00640\" \"hsa00650\"\n [67] \"hsa00670\" \"hsa00730\" \"hsa00740\" \"hsa00750\" \"hsa00760\" \"hsa00770\"\n [73] \"hsa00780\" \"hsa00785\" \"hsa00790\" \"hsa00830\" \"hsa00860\" \"hsa00900\"\n [79] \"hsa00910\" \"hsa00920\" \"hsa00970\" \"hsa00980\" \"hsa00982\" \"hsa00983\"\n [85] \"hsa01040\" \"hsa01100\" \"hsa01200\" \"hsa01210\" \"hsa01212\" \"hsa01230\"\n [91] \"hsa01232\" \"hsa01240\" \"hsa01250\" \"hsa01521\" \"hsa01522\" \"hsa01523\"\n [97] \"hsa01524\" \"hsa02010\" \"hsa03008\" \"hsa03010\" \"hsa03013\" \"hsa03015\"\n[103] \"hsa03018\" \"hsa03020\" \"hsa03022\" \"hsa03030\" \"hsa03040\" \"hsa03050\"\n[109] \"hsa03060\" \"hsa03250\" \"hsa03260\" \"hsa03264\" \"hsa03265\" \"hsa03266\"\n[115] \"hsa03267\" \"hsa03320\" \"hsa03410\" \"hsa03420\" \"hsa03430\" \"hsa03440\"\n[121] \"hsa03450\" \"hsa03460\" \"hsa04010\" \"hsa04012\" \"hsa04014\" \"hsa04015\"\n[127] \"hsa04020\" \"hsa04022\" \"hsa04024\" \"hsa04060\" \"hsa04061\" \"hsa04062\"\n[133] \"hsa04064\" \"hsa04066\" \"hsa04068\" \"hsa04070\" \"hsa04071\" \"hsa04072\"\n[139] \"hsa04080\" \"hsa04110\" \"hsa04114\" \"hsa04115\" \"hsa04120\" \"hsa04122\"\n[145] \"hsa04130\" \"hsa04136\" \"hsa04137\" \"hsa04140\" \"hsa04141\" \"hsa04142\"\n[151] \"hsa04144\" \"hsa04145\" \"hsa04146\" \"hsa04150\" \"hsa04151\" \"hsa04152\"\n[157] \"hsa04210\" \"hsa04211\" \"hsa04213\" \"hsa04215\" \"hsa04216\" \"hsa04217\"\n[163] \"hsa04218\" \"hsa04260\" \"hsa04261\" \"hsa04270\" \"hsa04310\" \"hsa04330\"\n[169] \"hsa04340\" \"hsa04350\" \"hsa04360\" \"hsa04370\" \"hsa04371\" \"hsa04380\"\n[175] \"hsa04390\" \"hsa04392\" \"hsa04510\" \"hsa04512\" \"hsa04514\" \"hsa04520\"\n[181] \"hsa04530\" \"hsa04540\" \"hsa04550\" \"hsa04610\" \"hsa04611\" \"hsa04612\"\n[187] \"hsa04613\" \"hsa04614\" \"hsa04620\" \"hsa04621\" \"hsa04622\" \"hsa04623\"\n[193] \"hsa04625\" \"hsa04630\" \"hsa04640\" \"hsa04650\" \"hsa04657\" \"hsa04658\"\n[199] \"hsa04659\" \"hsa04660\" \"hsa04662\" \"hsa04664\" \"hsa04666\" \"hsa04668\"\n[205] \"hsa04670\" \"hsa04672\" \"hsa04710\" \"hsa04713\" \"hsa04714\" \"hsa04720\"\n[211] \"hsa04721\" \"hsa04722\" \"hsa04723\" \"hsa04724\" \"hsa04725\" \"hsa04726\"\n[217] \"hsa04727\" \"hsa04728\" \"hsa04730\" \"hsa04740\" \"hsa04742\" \"hsa04744\"\n[223] \"hsa04750\" \"hsa04810\" \"hsa04910\" \"hsa04911\" \"hsa04912\" \"hsa04913\"\n[229] \"hsa04914\" \"hsa04915\" \"hsa04916\" \"hsa04917\" \"hsa04918\" \"hsa04919\"\n[235] \"hsa04920\" \"hsa04921\" \"hsa04922\" \"hsa04923\" \"hsa04924\" \"hsa04925\"\n[241] \"hsa04926\" \"hsa04927\" \"hsa04928\" \"hsa04929\" \"hsa04930\" \"hsa04931\"\n[247] \"hsa04932\" \"hsa04933\" \"hsa04934\" \"hsa04935\" \"hsa04936\" \"hsa04940\"\n[253] \"hsa04950\" \"hsa04960\" \"hsa04961\" \"hsa04962\" \"hsa04964\" \"hsa04966\"\n[259] \"hsa04970\" \"hsa04971\" \"hsa04972\" \"hsa04973\" \"hsa04974\" \"hsa04975\"\n[265] \"hsa04976\" \"hsa04977\" \"hsa04978\" \"hsa04979\" \"hsa05010\" \"hsa05012\"\n[271] \"hsa05014\" \"hsa05016\" \"hsa05017\" \"hsa05020\" \"hsa05022\" \"hsa05030\"\n[277] \"hsa05031\" \"hsa05032\" \"hsa05033\" \"hsa05034\" \"hsa05100\" \"hsa05110\"\n[283] \"hsa05120\" \"hsa05130\" \"hsa05131\" \"hsa05132\" \"hsa05133\" \"hsa05134\"\n[289] \"hsa05135\" \"hsa05140\" \"hsa05142\" \"hsa05143\" \"hsa05144\" \"hsa05145\"\n[295] \"hsa05146\" \"hsa05150\" \"hsa05152\" \"hsa05160\" \"hsa05161\" \"hsa05162\"\n[301] \"hsa05163\" \"hsa05164\" \"hsa05165\" \"hsa05166\" \"hsa05167\" \"hsa05168\"\n[307] \"hsa05169\" \"hsa05170\" \"hsa05171\" \"hsa05200\" \"hsa05202\" \"hsa05203\"\n[313] \"hsa05204\" \"hsa05205\" \"hsa05206\" \"hsa05207\" \"hsa05208\" \"hsa05210\"\n[319] \"hsa05211\" \"hsa05212\" \"hsa05213\" \"hsa05214\" \"hsa05215\" \"hsa05216\"\n[325] \"hsa05217\" \"hsa05218\" \"hsa05219\" \"hsa05220\" \"hsa05221\" \"hsa05222\"\n[331] \"hsa05223\" \"hsa05224\" \"hsa05225\" \"hsa05226\" \"hsa05230\" \"hsa05231\"\n[337] \"hsa05235\" \"hsa05310\" \"hsa05320\" \"hsa05321\" \"hsa05322\" \"hsa05323\"\n[343] \"hsa05330\" \"hsa05332\" \"hsa05340\" \"hsa05410\" \"hsa05412\" \"hsa05414\"\n[349] \"hsa05415\" \"hsa05416\" \"hsa05417\" \"hsa05418\""
     },
     "metadata": {},
     "output_type": "display_data"
    }
   ],
   "source": [
    "# Retrieve all the pathway IDs belong to human\n",
    "pathway.codes <- sub(\"path:\", \"\", names(pathways.list))\n",
    "pathway.codes"
   ],
   "metadata": {
    "collapsed": false
   }
  },
  {
   "cell_type": "markdown",
   "source": [
    "We can use the following command to check how many pathways are available for human"
   ],
   "metadata": {
    "collapsed": false
   }
  },
  {
   "cell_type": "code",
   "execution_count": 20,
   "outputs": [
    {
     "name": "stdout",
     "output_type": "stream",
     "text": [
      "[1] \"Number of available pathways for human are: 352\"\n"
     ]
    }
   ],
   "source": [
    "print(paste0(\"Number of available pathways for human are: \", length(pathway.codes)))"
   ],
   "metadata": {
    "collapsed": false
   }
  },
  {
   "cell_type": "markdown",
   "source": [
    "The following code will help to get list of genes and pathway's description for all pathways available in human."
   ],
   "metadata": {
    "collapsed": false
   }
  },
  {
   "cell_type": "code",
   "execution_count": 21,
   "outputs": [],
   "source": [
    "# Function to get all the gene names for each pathway\n",
    "genes.by.pathway <- sapply(pathway.codes,\n",
    "                           function(pwid){\n",
    "                             pw <- keggGet(pwid)\n",
    "                             if (is.null(pw[[1]]$GENE)) return(NA)\n",
    "                             pw2 <- pw[[1]]$GENE[c(FALSE,TRUE)]\n",
    "                             pw2 <- unlist(lapply(strsplit(pw2, split = \";\", fixed = T), function(x)x[1]))\n",
    "                             return(pw2)\n",
    "                           }\n",
    ")\n",
    "# Function to get description for each pathway\n",
    "description.by.pathway <- sapply(pathway.codes,\n",
    "                                 function(pwid){\n",
    "                                   pw <- keggGet(pwid)\n",
    "                                   if (is.null(pw[[1]]$NAME)) return(NA)\n",
    "                                   pw2 <- pw[[1]]$NAME\n",
    "                                   return(pw2)\n",
    "                                 }\n",
    ")\n",
    "# Convert the pathway description to a list\n",
    "description.by.pathway <- as.list(description.by.pathway)"
   ],
   "metadata": {
    "collapsed": false
   }
  },
  {
   "cell_type": "markdown",
   "source": [
    "We can view the first five pathways with their genesets using the following command"
   ],
   "metadata": {
    "collapsed": false
   }
  },
  {
   "cell_type": "markdown",
   "source": [
    "Then we can save the output to *\\*.gmt* file using the following commands"
   ],
   "metadata": {
    "collapsed": false
   }
  },
  {
   "cell_type": "code",
   "execution_count": 22,
   "outputs": [
    {
     "data": {
      "text/html": "<dl>\n\t<dt>$hsa00010</dt>\n\t\t<dd><style>\n.list-inline {list-style: none; margin:0; padding: 0}\n.list-inline>li {display: inline-block}\n.list-inline>li:not(:last-child)::after {content: \"\\00b7\"; padding: 0 .5ex}\n</style>\n<ol class=list-inline><li>'HK3'</li><li>'HK1'</li><li>'HK2'</li><li>'HKDC1'</li><li>'GCK'</li><li>'GPI'</li><li>'PFKM'</li><li>'PFKP'</li><li>'PFKL'</li><li>'FBP1'</li><li>'FBP2'</li><li>'ALDOC'</li><li>'ALDOA'</li><li>'ALDOB'</li><li>'TPI1'</li><li>'GAPDH'</li><li>'GAPDHS'</li><li>'PGK2'</li><li>'PGK1'</li><li>'PGAM1'</li><li>'PGAM2'</li><li>'PGAM4'</li><li>'ENO3'</li><li>'ENO2'</li><li>'ENO1'</li><li>'ENO4'</li><li>'PKM'</li><li>'PKLR'</li><li>'PDHA2'</li><li>'PDHA1'</li><li>'PDHB'</li><li>'DLAT'</li><li>'DLD'</li><li>'LDHAL6A'</li><li>'LDHAL6B'</li><li>'LDHA'</li><li>'LDHB'</li><li>'LDHC'</li><li>'ADH1A'</li><li>'ADH1B'</li><li>'ADH1C'</li><li>'ADH7'</li><li>'ADH4'</li><li>'ADH5'</li><li>'ADH6'</li><li>'AKR1A1'</li><li>'ALDH2'</li><li>'ALDH3A2'</li><li>'ALDH1B1'</li><li>'ALDH7A1'</li><li>'ALDH9A1'</li><li>'ALDH3B1'</li><li>'ALDH3B2'</li><li>'ALDH3A1'</li><li>'ACSS1'</li><li>'ACSS2'</li><li>'GALM'</li><li>'PGM1'</li><li>'PGM2'</li><li>'G6PC1'</li><li>'G6PC2'</li><li>'G6PC3'</li><li>'ADPGK'</li><li>'BPGM'</li><li>'MINPP1'</li><li>'PCK1'</li><li>'PCK2'</li></ol>\n</dd>\n\t<dt>$hsa00020</dt>\n\t\t<dd><style>\n.list-inline {list-style: none; margin:0; padding: 0}\n.list-inline>li {display: inline-block}\n.list-inline>li:not(:last-child)::after {content: \"\\00b7\"; padding: 0 .5ex}\n</style>\n<ol class=list-inline><li>'CS'</li><li>'ACLY'</li><li>'ACO2'</li><li>'ACO1'</li><li>'IDH1'</li><li>'IDH2'</li><li>'IDH3B'</li><li>'IDH3G'</li><li>'IDH3A'</li><li>'OGDHL'</li><li>'OGDH'</li><li>'DLST'</li><li>'DLD'</li><li>'SUCLG1'</li><li>'SUCLG2'</li><li>'SUCLA2'</li><li>'SDHA'</li><li>'SDHB'</li><li>'SDHC'</li><li>'SDHD'</li><li>'FH'</li><li>'MDH1'</li><li>'MDH2'</li><li>'PC'</li><li>'PCK1'</li><li>'PCK2'</li><li>'PDHA2'</li><li>'PDHA1'</li><li>'PDHB'</li><li>'DLAT'</li></ol>\n</dd>\n\t<dt>$hsa00030</dt>\n\t\t<dd><style>\n.list-inline {list-style: none; margin:0; padding: 0}\n.list-inline>li {display: inline-block}\n.list-inline>li:not(:last-child)::after {content: \"\\00b7\"; padding: 0 .5ex}\n</style>\n<ol class=list-inline><li>'GPI'</li><li>'G6PD'</li><li>'PGLS'</li><li>'H6PD'</li><li>'PGD'</li><li>'RPE'</li><li>'RPEL1'</li><li>'TKT'</li><li>'TKTL2'</li><li>'TKTL1'</li><li>'TALDO1'</li><li>'RPIA'</li><li>'DERA'</li><li>'RBKS'</li><li>'PGM1'</li><li>'PGM2'</li><li>'PRPS1L1'</li><li>'PRPS2'</li><li>'PRPS1'</li><li>'RGN'</li><li>'IDNK'</li><li>'GLYCTK'</li><li>'ALDOC'</li><li>'ALDOA'</li><li>'ALDOB'</li><li>'FBP1'</li><li>'FBP2'</li><li>'PFKM'</li><li>'PFKP'</li><li>'PFKL'</li></ol>\n</dd>\n\t<dt>$hsa00040</dt>\n\t\t<dd><style>\n.list-inline {list-style: none; margin:0; padding: 0}\n.list-inline>li {display: inline-block}\n.list-inline>li:not(:last-child)::after {content: \"\\00b7\"; padding: 0 .5ex}\n</style>\n<ol class=list-inline><li>'GUSB'</li><li>'KL'</li><li>'UGT2A1'</li><li>'UGT2A3'</li><li>'UGT2B17'</li><li>'UGT2B11'</li><li>'UGT2B28'</li><li>'UGT1A6'</li><li>'UGT1A4'</li><li>'UGT1A1'</li><li>'UGT1A3'</li><li>'UGT2B10'</li><li>'UGT1A9'</li><li>'UGT2B7'</li><li>'UGT1A10'</li><li>'UGT1A8'</li><li>'UGT1A5'</li><li>'UGT2B15'</li><li>'UGT1A7'</li><li>'UGT2B4'</li><li>'UGT2A2'</li><li>'UGDH'</li><li>'UGP2'</li><li>'AKR1A1'</li><li>'CRYL1'</li><li>'RPE'</li><li>'RPEL1'</li><li>'XYLB'</li><li>'AKR1B1'</li><li>'AKR1B10'</li><li>'DCXR'</li><li>'SORD'</li><li>'DHDH'</li><li>'FGGY'</li><li>'CRPPA'</li></ol>\n</dd>\n\t<dt>$hsa00051</dt>\n\t\t<dd><style>\n.list-inline {list-style: none; margin:0; padding: 0}\n.list-inline>li {display: inline-block}\n.list-inline>li:not(:last-child)::after {content: \"\\00b7\"; padding: 0 .5ex}\n</style>\n<ol class=list-inline><li>'MPI'</li><li>'PMM2'</li><li>'PMM1'</li><li>'GMPPB'</li><li>'GMPPA'</li><li>'GMDS'</li><li>'GFUS'</li><li>'FPGT'</li><li>'FCSK'</li><li>'ENOSF1'</li><li>'HK3'</li><li>'HK1'</li><li>'HK2'</li><li>'HKDC1'</li><li>'PFKM'</li><li>'PFKP'</li><li>'PFKL'</li><li>'FBP1'</li><li>'FBP2'</li><li>'PFKFB1'</li><li>'PFKFB2'</li><li>'PFKFB3'</li><li>'PFKFB4'</li><li>'TIGAR'</li><li>'KHK'</li><li>'SORD'</li><li>'AKR1B1'</li><li>'AKR1B10'</li><li>'ALDOC'</li><li>'ALDOA'</li><li>'ALDOB'</li><li>'TPI1'</li><li>'TKFC'</li></ol>\n</dd>\n</dl>\n",
      "text/markdown": "$hsa00010\n:   1. 'HK3'\n2. 'HK1'\n3. 'HK2'\n4. 'HKDC1'\n5. 'GCK'\n6. 'GPI'\n7. 'PFKM'\n8. 'PFKP'\n9. 'PFKL'\n10. 'FBP1'\n11. 'FBP2'\n12. 'ALDOC'\n13. 'ALDOA'\n14. 'ALDOB'\n15. 'TPI1'\n16. 'GAPDH'\n17. 'GAPDHS'\n18. 'PGK2'\n19. 'PGK1'\n20. 'PGAM1'\n21. 'PGAM2'\n22. 'PGAM4'\n23. 'ENO3'\n24. 'ENO2'\n25. 'ENO1'\n26. 'ENO4'\n27. 'PKM'\n28. 'PKLR'\n29. 'PDHA2'\n30. 'PDHA1'\n31. 'PDHB'\n32. 'DLAT'\n33. 'DLD'\n34. 'LDHAL6A'\n35. 'LDHAL6B'\n36. 'LDHA'\n37. 'LDHB'\n38. 'LDHC'\n39. 'ADH1A'\n40. 'ADH1B'\n41. 'ADH1C'\n42. 'ADH7'\n43. 'ADH4'\n44. 'ADH5'\n45. 'ADH6'\n46. 'AKR1A1'\n47. 'ALDH2'\n48. 'ALDH3A2'\n49. 'ALDH1B1'\n50. 'ALDH7A1'\n51. 'ALDH9A1'\n52. 'ALDH3B1'\n53. 'ALDH3B2'\n54. 'ALDH3A1'\n55. 'ACSS1'\n56. 'ACSS2'\n57. 'GALM'\n58. 'PGM1'\n59. 'PGM2'\n60. 'G6PC1'\n61. 'G6PC2'\n62. 'G6PC3'\n63. 'ADPGK'\n64. 'BPGM'\n65. 'MINPP1'\n66. 'PCK1'\n67. 'PCK2'\n\n\n\n$hsa00020\n:   1. 'CS'\n2. 'ACLY'\n3. 'ACO2'\n4. 'ACO1'\n5. 'IDH1'\n6. 'IDH2'\n7. 'IDH3B'\n8. 'IDH3G'\n9. 'IDH3A'\n10. 'OGDHL'\n11. 'OGDH'\n12. 'DLST'\n13. 'DLD'\n14. 'SUCLG1'\n15. 'SUCLG2'\n16. 'SUCLA2'\n17. 'SDHA'\n18. 'SDHB'\n19. 'SDHC'\n20. 'SDHD'\n21. 'FH'\n22. 'MDH1'\n23. 'MDH2'\n24. 'PC'\n25. 'PCK1'\n26. 'PCK2'\n27. 'PDHA2'\n28. 'PDHA1'\n29. 'PDHB'\n30. 'DLAT'\n\n\n\n$hsa00030\n:   1. 'GPI'\n2. 'G6PD'\n3. 'PGLS'\n4. 'H6PD'\n5. 'PGD'\n6. 'RPE'\n7. 'RPEL1'\n8. 'TKT'\n9. 'TKTL2'\n10. 'TKTL1'\n11. 'TALDO1'\n12. 'RPIA'\n13. 'DERA'\n14. 'RBKS'\n15. 'PGM1'\n16. 'PGM2'\n17. 'PRPS1L1'\n18. 'PRPS2'\n19. 'PRPS1'\n20. 'RGN'\n21. 'IDNK'\n22. 'GLYCTK'\n23. 'ALDOC'\n24. 'ALDOA'\n25. 'ALDOB'\n26. 'FBP1'\n27. 'FBP2'\n28. 'PFKM'\n29. 'PFKP'\n30. 'PFKL'\n\n\n\n$hsa00040\n:   1. 'GUSB'\n2. 'KL'\n3. 'UGT2A1'\n4. 'UGT2A3'\n5. 'UGT2B17'\n6. 'UGT2B11'\n7. 'UGT2B28'\n8. 'UGT1A6'\n9. 'UGT1A4'\n10. 'UGT1A1'\n11. 'UGT1A3'\n12. 'UGT2B10'\n13. 'UGT1A9'\n14. 'UGT2B7'\n15. 'UGT1A10'\n16. 'UGT1A8'\n17. 'UGT1A5'\n18. 'UGT2B15'\n19. 'UGT1A7'\n20. 'UGT2B4'\n21. 'UGT2A2'\n22. 'UGDH'\n23. 'UGP2'\n24. 'AKR1A1'\n25. 'CRYL1'\n26. 'RPE'\n27. 'RPEL1'\n28. 'XYLB'\n29. 'AKR1B1'\n30. 'AKR1B10'\n31. 'DCXR'\n32. 'SORD'\n33. 'DHDH'\n34. 'FGGY'\n35. 'CRPPA'\n\n\n\n$hsa00051\n:   1. 'MPI'\n2. 'PMM2'\n3. 'PMM1'\n4. 'GMPPB'\n5. 'GMPPA'\n6. 'GMDS'\n7. 'GFUS'\n8. 'FPGT'\n9. 'FCSK'\n10. 'ENOSF1'\n11. 'HK3'\n12. 'HK1'\n13. 'HK2'\n14. 'HKDC1'\n15. 'PFKM'\n16. 'PFKP'\n17. 'PFKL'\n18. 'FBP1'\n19. 'FBP2'\n20. 'PFKFB1'\n21. 'PFKFB2'\n22. 'PFKFB3'\n23. 'PFKFB4'\n24. 'TIGAR'\n25. 'KHK'\n26. 'SORD'\n27. 'AKR1B1'\n28. 'AKR1B10'\n29. 'ALDOC'\n30. 'ALDOA'\n31. 'ALDOB'\n32. 'TPI1'\n33. 'TKFC'\n\n\n\n\n\n",
      "text/latex": "\\begin{description}\n\\item[\\$hsa00010] \\begin{enumerate*}\n\\item 'HK3'\n\\item 'HK1'\n\\item 'HK2'\n\\item 'HKDC1'\n\\item 'GCK'\n\\item 'GPI'\n\\item 'PFKM'\n\\item 'PFKP'\n\\item 'PFKL'\n\\item 'FBP1'\n\\item 'FBP2'\n\\item 'ALDOC'\n\\item 'ALDOA'\n\\item 'ALDOB'\n\\item 'TPI1'\n\\item 'GAPDH'\n\\item 'GAPDHS'\n\\item 'PGK2'\n\\item 'PGK1'\n\\item 'PGAM1'\n\\item 'PGAM2'\n\\item 'PGAM4'\n\\item 'ENO3'\n\\item 'ENO2'\n\\item 'ENO1'\n\\item 'ENO4'\n\\item 'PKM'\n\\item 'PKLR'\n\\item 'PDHA2'\n\\item 'PDHA1'\n\\item 'PDHB'\n\\item 'DLAT'\n\\item 'DLD'\n\\item 'LDHAL6A'\n\\item 'LDHAL6B'\n\\item 'LDHA'\n\\item 'LDHB'\n\\item 'LDHC'\n\\item 'ADH1A'\n\\item 'ADH1B'\n\\item 'ADH1C'\n\\item 'ADH7'\n\\item 'ADH4'\n\\item 'ADH5'\n\\item 'ADH6'\n\\item 'AKR1A1'\n\\item 'ALDH2'\n\\item 'ALDH3A2'\n\\item 'ALDH1B1'\n\\item 'ALDH7A1'\n\\item 'ALDH9A1'\n\\item 'ALDH3B1'\n\\item 'ALDH3B2'\n\\item 'ALDH3A1'\n\\item 'ACSS1'\n\\item 'ACSS2'\n\\item 'GALM'\n\\item 'PGM1'\n\\item 'PGM2'\n\\item 'G6PC1'\n\\item 'G6PC2'\n\\item 'G6PC3'\n\\item 'ADPGK'\n\\item 'BPGM'\n\\item 'MINPP1'\n\\item 'PCK1'\n\\item 'PCK2'\n\\end{enumerate*}\n\n\\item[\\$hsa00020] \\begin{enumerate*}\n\\item 'CS'\n\\item 'ACLY'\n\\item 'ACO2'\n\\item 'ACO1'\n\\item 'IDH1'\n\\item 'IDH2'\n\\item 'IDH3B'\n\\item 'IDH3G'\n\\item 'IDH3A'\n\\item 'OGDHL'\n\\item 'OGDH'\n\\item 'DLST'\n\\item 'DLD'\n\\item 'SUCLG1'\n\\item 'SUCLG2'\n\\item 'SUCLA2'\n\\item 'SDHA'\n\\item 'SDHB'\n\\item 'SDHC'\n\\item 'SDHD'\n\\item 'FH'\n\\item 'MDH1'\n\\item 'MDH2'\n\\item 'PC'\n\\item 'PCK1'\n\\item 'PCK2'\n\\item 'PDHA2'\n\\item 'PDHA1'\n\\item 'PDHB'\n\\item 'DLAT'\n\\end{enumerate*}\n\n\\item[\\$hsa00030] \\begin{enumerate*}\n\\item 'GPI'\n\\item 'G6PD'\n\\item 'PGLS'\n\\item 'H6PD'\n\\item 'PGD'\n\\item 'RPE'\n\\item 'RPEL1'\n\\item 'TKT'\n\\item 'TKTL2'\n\\item 'TKTL1'\n\\item 'TALDO1'\n\\item 'RPIA'\n\\item 'DERA'\n\\item 'RBKS'\n\\item 'PGM1'\n\\item 'PGM2'\n\\item 'PRPS1L1'\n\\item 'PRPS2'\n\\item 'PRPS1'\n\\item 'RGN'\n\\item 'IDNK'\n\\item 'GLYCTK'\n\\item 'ALDOC'\n\\item 'ALDOA'\n\\item 'ALDOB'\n\\item 'FBP1'\n\\item 'FBP2'\n\\item 'PFKM'\n\\item 'PFKP'\n\\item 'PFKL'\n\\end{enumerate*}\n\n\\item[\\$hsa00040] \\begin{enumerate*}\n\\item 'GUSB'\n\\item 'KL'\n\\item 'UGT2A1'\n\\item 'UGT2A3'\n\\item 'UGT2B17'\n\\item 'UGT2B11'\n\\item 'UGT2B28'\n\\item 'UGT1A6'\n\\item 'UGT1A4'\n\\item 'UGT1A1'\n\\item 'UGT1A3'\n\\item 'UGT2B10'\n\\item 'UGT1A9'\n\\item 'UGT2B7'\n\\item 'UGT1A10'\n\\item 'UGT1A8'\n\\item 'UGT1A5'\n\\item 'UGT2B15'\n\\item 'UGT1A7'\n\\item 'UGT2B4'\n\\item 'UGT2A2'\n\\item 'UGDH'\n\\item 'UGP2'\n\\item 'AKR1A1'\n\\item 'CRYL1'\n\\item 'RPE'\n\\item 'RPEL1'\n\\item 'XYLB'\n\\item 'AKR1B1'\n\\item 'AKR1B10'\n\\item 'DCXR'\n\\item 'SORD'\n\\item 'DHDH'\n\\item 'FGGY'\n\\item 'CRPPA'\n\\end{enumerate*}\n\n\\item[\\$hsa00051] \\begin{enumerate*}\n\\item 'MPI'\n\\item 'PMM2'\n\\item 'PMM1'\n\\item 'GMPPB'\n\\item 'GMPPA'\n\\item 'GMDS'\n\\item 'GFUS'\n\\item 'FPGT'\n\\item 'FCSK'\n\\item 'ENOSF1'\n\\item 'HK3'\n\\item 'HK1'\n\\item 'HK2'\n\\item 'HKDC1'\n\\item 'PFKM'\n\\item 'PFKP'\n\\item 'PFKL'\n\\item 'FBP1'\n\\item 'FBP2'\n\\item 'PFKFB1'\n\\item 'PFKFB2'\n\\item 'PFKFB3'\n\\item 'PFKFB4'\n\\item 'TIGAR'\n\\item 'KHK'\n\\item 'SORD'\n\\item 'AKR1B1'\n\\item 'AKR1B10'\n\\item 'ALDOC'\n\\item 'ALDOA'\n\\item 'ALDOB'\n\\item 'TPI1'\n\\item 'TKFC'\n\\end{enumerate*}\n\n\\end{description}\n",
      "text/plain": "$hsa00010\n [1] \"HK3\"     \"HK1\"     \"HK2\"     \"HKDC1\"   \"GCK\"     \"GPI\"     \"PFKM\"   \n [8] \"PFKP\"    \"PFKL\"    \"FBP1\"    \"FBP2\"    \"ALDOC\"   \"ALDOA\"   \"ALDOB\"  \n[15] \"TPI1\"    \"GAPDH\"   \"GAPDHS\"  \"PGK2\"    \"PGK1\"    \"PGAM1\"   \"PGAM2\"  \n[22] \"PGAM4\"   \"ENO3\"    \"ENO2\"    \"ENO1\"    \"ENO4\"    \"PKM\"     \"PKLR\"   \n[29] \"PDHA2\"   \"PDHA1\"   \"PDHB\"    \"DLAT\"    \"DLD\"     \"LDHAL6A\" \"LDHAL6B\"\n[36] \"LDHA\"    \"LDHB\"    \"LDHC\"    \"ADH1A\"   \"ADH1B\"   \"ADH1C\"   \"ADH7\"   \n[43] \"ADH4\"    \"ADH5\"    \"ADH6\"    \"AKR1A1\"  \"ALDH2\"   \"ALDH3A2\" \"ALDH1B1\"\n[50] \"ALDH7A1\" \"ALDH9A1\" \"ALDH3B1\" \"ALDH3B2\" \"ALDH3A1\" \"ACSS1\"   \"ACSS2\"  \n[57] \"GALM\"    \"PGM1\"    \"PGM2\"    \"G6PC1\"   \"G6PC2\"   \"G6PC3\"   \"ADPGK\"  \n[64] \"BPGM\"    \"MINPP1\"  \"PCK1\"    \"PCK2\"   \n\n$hsa00020\n [1] \"CS\"     \"ACLY\"   \"ACO2\"   \"ACO1\"   \"IDH1\"   \"IDH2\"   \"IDH3B\"  \"IDH3G\" \n [9] \"IDH3A\"  \"OGDHL\"  \"OGDH\"   \"DLST\"   \"DLD\"    \"SUCLG1\" \"SUCLG2\" \"SUCLA2\"\n[17] \"SDHA\"   \"SDHB\"   \"SDHC\"   \"SDHD\"   \"FH\"     \"MDH1\"   \"MDH2\"   \"PC\"    \n[25] \"PCK1\"   \"PCK2\"   \"PDHA2\"  \"PDHA1\"  \"PDHB\"   \"DLAT\"  \n\n$hsa00030\n [1] \"GPI\"     \"G6PD\"    \"PGLS\"    \"H6PD\"    \"PGD\"     \"RPE\"     \"RPEL1\"  \n [8] \"TKT\"     \"TKTL2\"   \"TKTL1\"   \"TALDO1\"  \"RPIA\"    \"DERA\"    \"RBKS\"   \n[15] \"PGM1\"    \"PGM2\"    \"PRPS1L1\" \"PRPS2\"   \"PRPS1\"   \"RGN\"     \"IDNK\"   \n[22] \"GLYCTK\"  \"ALDOC\"   \"ALDOA\"   \"ALDOB\"   \"FBP1\"    \"FBP2\"    \"PFKM\"   \n[29] \"PFKP\"    \"PFKL\"   \n\n$hsa00040\n [1] \"GUSB\"    \"KL\"      \"UGT2A1\"  \"UGT2A3\"  \"UGT2B17\" \"UGT2B11\" \"UGT2B28\"\n [8] \"UGT1A6\"  \"UGT1A4\"  \"UGT1A1\"  \"UGT1A3\"  \"UGT2B10\" \"UGT1A9\"  \"UGT2B7\" \n[15] \"UGT1A10\" \"UGT1A8\"  \"UGT1A5\"  \"UGT2B15\" \"UGT1A7\"  \"UGT2B4\"  \"UGT2A2\" \n[22] \"UGDH\"    \"UGP2\"    \"AKR1A1\"  \"CRYL1\"   \"RPE\"     \"RPEL1\"   \"XYLB\"   \n[29] \"AKR1B1\"  \"AKR1B10\" \"DCXR\"    \"SORD\"    \"DHDH\"    \"FGGY\"    \"CRPPA\"  \n\n$hsa00051\n [1] \"MPI\"     \"PMM2\"    \"PMM1\"    \"GMPPB\"   \"GMPPA\"   \"GMDS\"    \"GFUS\"   \n [8] \"FPGT\"    \"FCSK\"    \"ENOSF1\"  \"HK3\"     \"HK1\"     \"HK2\"     \"HKDC1\"  \n[15] \"PFKM\"    \"PFKP\"    \"PFKL\"    \"FBP1\"    \"FBP2\"    \"PFKFB1\"  \"PFKFB2\" \n[22] \"PFKFB3\"  \"PFKFB4\"  \"TIGAR\"   \"KHK\"     \"SORD\"    \"AKR1B1\"  \"AKR1B10\"\n[29] \"ALDOC\"   \"ALDOA\"   \"ALDOB\"   \"TPI1\"    \"TKFC\"   \n"
     },
     "metadata": {},
     "output_type": "display_data"
    }
   ],
   "source": [
    "# View the first five pathway with the genesets\n",
    "genes.by.pathway[1:5]"
   ],
   "metadata": {
    "collapsed": false
   }
  },
  {
   "cell_type": "markdown",
   "source": [
    "Use the following command to see the description of the first five pathways"
   ],
   "metadata": {
    "collapsed": false
   }
  },
  {
   "cell_type": "code",
   "execution_count": 23,
   "outputs": [
    {
     "data": {
      "text/html": "<dl>\n\t<dt>$hsa00010</dt>\n\t\t<dd>'Glycolysis / Gluconeogenesis - Homo sapiens (human)'</dd>\n\t<dt>$hsa00020</dt>\n\t\t<dd>'Citrate cycle (TCA cycle) - Homo sapiens (human)'</dd>\n\t<dt>$hsa00030</dt>\n\t\t<dd>'Pentose phosphate pathway - Homo sapiens (human)'</dd>\n\t<dt>$hsa00040</dt>\n\t\t<dd>'Pentose and glucuronate interconversions - Homo sapiens (human)'</dd>\n\t<dt>$hsa00051</dt>\n\t\t<dd>'Fructose and mannose metabolism - Homo sapiens (human)'</dd>\n</dl>\n",
      "text/markdown": "$hsa00010\n:   'Glycolysis / Gluconeogenesis - Homo sapiens (human)'\n$hsa00020\n:   'Citrate cycle (TCA cycle) - Homo sapiens (human)'\n$hsa00030\n:   'Pentose phosphate pathway - Homo sapiens (human)'\n$hsa00040\n:   'Pentose and glucuronate interconversions - Homo sapiens (human)'\n$hsa00051\n:   'Fructose and mannose metabolism - Homo sapiens (human)'\n\n\n",
      "text/latex": "\\begin{description}\n\\item[\\$hsa00010] 'Glycolysis / Gluconeogenesis - Homo sapiens (human)'\n\\item[\\$hsa00020] 'Citrate cycle (TCA cycle) - Homo sapiens (human)'\n\\item[\\$hsa00030] 'Pentose phosphate pathway - Homo sapiens (human)'\n\\item[\\$hsa00040] 'Pentose and glucuronate interconversions - Homo sapiens (human)'\n\\item[\\$hsa00051] 'Fructose and mannose metabolism - Homo sapiens (human)'\n\\end{description}\n",
      "text/plain": "$hsa00010\n[1] \"Glycolysis / Gluconeogenesis - Homo sapiens (human)\"\n\n$hsa00020\n[1] \"Citrate cycle (TCA cycle) - Homo sapiens (human)\"\n\n$hsa00030\n[1] \"Pentose phosphate pathway - Homo sapiens (human)\"\n\n$hsa00040\n[1] \"Pentose and glucuronate interconversions - Homo sapiens (human)\"\n\n$hsa00051\n[1] \"Fructose and mannose metabolism - Homo sapiens (human)\"\n"
     },
     "metadata": {},
     "output_type": "display_data"
    }
   ],
   "source": [
    "# View the description of the first five pathways\n",
    "description.by.pathway[1:5]"
   ],
   "metadata": {
    "collapsed": false
   }
  },
  {
   "cell_type": "code",
   "execution_count": 24,
   "outputs": [],
   "source": [
    "# Saving the pathway information to the local repository\n",
    "outfile <- \"./data/KEGG_pathways.gmt\"\n",
    "writeGMT(genes.by.pathway, description.by.pathway, outfile)\n"
   ],
   "metadata": {
    "collapsed": false
   }
  },
  {
   "cell_type": "markdown",
   "source": [
    "```{admonition} Saving data to the Google Cloud Bucket\n",
    "gsutil cp ./data/KEGG_pathways.gmt gs://cpa-output\n",
    "```\n"
   ],
   "metadata": {
    "collapsed": false
   }
  }
 ],
 "metadata": {
  "celltoolbar": "Tags",
  "environment": {
   "kernel": "ir",
   "name": "r-cpu.4-1.m93",
   "type": "gcloud",
   "uri": "gcr.io/deeplearning-platform-release/r-cpu.4-1:m93"
  },
  "kernelspec": {
   "display_name": "R",
   "language": "R",
   "name": "ir"
  },
  "language_info": {
   "codemirror_mode": "r",
   "file_extension": ".r",
   "mimetype": "text/x-r-source",
   "name": "R",
   "pygments_lexer": "r",
   "version": "4.1.3"
  },
  "toc-showcode": true,
  "widgets": {
   "application/vnd.jupyter.widget-state+json": {
    "state": {},
    "version_major": 2,
    "version_minor": 0
   }
  }
 },
 "nbformat": 4,
 "nbformat_minor": 5
}
