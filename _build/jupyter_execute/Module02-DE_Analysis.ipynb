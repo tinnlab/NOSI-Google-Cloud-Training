{
 "cells": [
  {
   "cell_type": "markdown",
   "id": "f380fb8f-dc93-414c-b815-6ace422d7f90",
   "metadata": {
    "pycharm": {
     "name": "#%% md\n"
    },
    "tags": []
   },
   "source": [
    "#   Differential gene expression analysis\n",
    "\n",
    "![](./images/Module2/DE_pipeline.jpg)\n",
    "\n",
    "The next step in the pathway analysis workflow is the differential expression (DE)  analysis. The goal of DE testing is to determine which genes are expressed at different levels between two or more biological conditions. These genes can offer biological insight into the processes affected by the condition(s) of interest. DE analysis means taking the normalised read count data and performing statistical analysis to discover quantitative changes in expression levels between experimental groups. For example, we use statistical testing to decide whether, for a given gene, an observed difference in read counts is significant, that is, whether it is greater than what would be expected just due to natural random variation. This learning module demonstrates a computational workflow for the detection of DE genes from RNA-Seq data.\n",
    "\n",
    "## Learning Objectives:\n",
    "1. Assigning samples into groups and set up design matrix.\n",
    "2. Performing differential expression (DE) analysis using `limma`, `t-test`, `edgeR` and `DEseq` R package.\n",
    "3. Filtering and exporting the results table.\n",
    "4. Further visualisation"
   ]
  },
  {
   "cell_type": "markdown",
   "id": "3e948c4d",
   "metadata": {
    "collapsed": false,
    "pycharm": {
     "name": "#%% md\n"
    }
   },
   "source": [
    "## Grouping samples and setting up the design matrix.\n",
    "In this section we will perform differential expression (DF) analysis to analyze the `GSE48350` dataset that we have used in the previous chapter.\n",
    "Recall from the [**GEO Data processing** ](./Module01-GEO_Data_Processing.ipynb) section,`GSE48350` contains\n",
    "sequenced data of Human Alzheimer's Disease using microarray sequencing technology collected from 4 brain regions.\n",
    "Here we will create two groups: *\"condition\"* and *“control”* from the Entorhinal Cortex region. First, we need to load necessary R libraries to download the dataset."
   ]
  },
  {
   "cell_type": "code",
   "execution_count": 1,
   "id": "1a927e3f",
   "metadata": {
    "collapsed": false,
    "pycharm": {
     "name": "#%%\n"
    }
   },
   "outputs": [],
   "source": [
    "suppressMessages({if (!require(\"BiocManager\", quietly = TRUE))\n",
    "    install.packages(\"BiocManager\")\n",
    "  suppressWarnings(BiocManager::install(\"GEOquery\", update = T))\n",
    "  suppressWarnings(BiocManager::install(\"limma\", update = T))\n",
    "})"
   ]
  },
  {
   "cell_type": "code",
   "execution_count": 2,
   "id": "ac7a1ebc",
   "metadata": {
    "collapsed": false,
    "pycharm": {
     "name": "#%%\n"
    }
   },
   "outputs": [],
   "source": [
    "suppressPackageStartupMessages({\n",
    "  library(\"GEOquery\")\n",
    "  library(\"limma\")\n",
    "})"
   ]
  },
  {
   "cell_type": "markdown",
   "id": "a422375f",
   "metadata": {
    "collapsed": false,
    "pycharm": {
     "name": "#%% md\n"
    }
   },
   "source": [
    "Similar to the [**GEO Data processing** ](./Module01-GEO_Data_Processing.ipynb) section, we can use <a href=\"https://bioconductor.org/packages/release/bioc/html/GEOquery.html\">GEOquery</a> R package to download GEO data and select samples generated from Affymetrix Human Genome U133 Plus 2.0 Array platform."
   ]
  },
  {
   "cell_type": "code",
   "execution_count": 3,
   "id": "6e56fd57-3a91-4715-962b-07f43324c519",
   "metadata": {
    "pycharm": {
     "name": "#%%\n"
    }
   },
   "outputs": [],
   "source": [
    "# Load series and platform data from GEO\n",
    "gset <- suppressMessages(getGEO(\"GSE48350\", GSEMatrix =TRUE, AnnotGPL=TRUE))\n",
    "# Check how many platform available\n",
    "if (length(gset) > 1) idx <- grep(\"GPL570\", attr(gset, \"names\")) else idx <- 1\n",
    "gset <- gset[[idx]]\n",
    "# Get expression data matric\n",
    "expression_data <- exprs(gset)"
   ]
  },
  {
   "cell_type": "markdown",
   "id": "95165034",
   "metadata": {
    "collapsed": false,
    "pycharm": {
     "name": "#%% md\n"
    }
   },
   "source": [
    "We can check for number of samples and genes using this command:"
   ]
  },
  {
   "cell_type": "code",
   "execution_count": 4,
   "id": "9eb315a7",
   "metadata": {
    "collapsed": false,
    "pycharm": {
     "name": "#%%\n"
    }
   },
   "outputs": [
    {
     "name": "stdout",
     "output_type": "stream",
     "text": [
      "[1] \"#Genes: 54675 - #Samples: 253\"\n"
     ]
    }
   ],
   "source": [
    "print(paste0(\"#Genes: \",dim(expression_data)[1],\" - #Samples: \",dim(expression_data)[2]))"
   ]
  },
  {
   "cell_type": "markdown",
   "id": "d11467f0",
   "metadata": {
    "collapsed": false,
    "pycharm": {
     "name": "#%% md\n"
    }
   },
   "source": [
    "Now we need to select the samples that belong to entorhinal cortex region using following command"
   ]
  },
  {
   "cell_type": "code",
   "execution_count": 5,
   "id": "c9b02e57",
   "metadata": {
    "collapsed": false,
    "pycharm": {
     "name": "#%%\n"
    }
   },
   "outputs": [
    {
     "name": "stdout",
     "output_type": "stream",
     "text": [
      "[1] \"#Genes: 54675 - #Samples: 54\"\n"
     ]
    }
   ],
   "source": [
    "# Get samples information\n",
    "samples <- pData(gset)\n",
    "# Select sample from Entorhinal Cortex region\n",
    "idx <- grep(\"entorhinal\", samples$`brain region:ch1`)\n",
    "gset = gset[ ,idx]\n",
    "samples = samples[idx,]\n",
    "# Get expression data for samples collected from entorhinal cortex region\n",
    "expression_data = expression_data[,idx]\n",
    "# Print out new number genes and samples\n",
    "print(paste0(\"#Genes: \",dim(expression_data)[1],\" - #Samples: \",dim(expression_data)[2]))"
   ]
  },
  {
   "cell_type": "markdown",
   "id": "0fa377cd",
   "metadata": {
    "collapsed": false,
    "pycharm": {
     "name": "#%% md\n"
    }
   },
   "source": [
    "We can see that there are 54 samples that were collected from entorhinal cortex region. Next, we need to perform a $log_2$ transformation."
   ]
  },
  {
   "cell_type": "code",
   "execution_count": 6,
   "id": "44dcb7aa",
   "metadata": {
    "collapsed": false,
    "pycharm": {
     "name": "#%%\n"
    }
   },
   "outputs": [],
   "source": [
    "# Calculate quantile values from the data\n",
    "qx <- as.numeric(quantile(expression_data, c(0., 0.25, 0.5, 0.75, 0.99, 1.0), na.rm=T))\n",
    "# Perform log2 transformation\n",
    "LogC <- (qx[5] > 100) || (qx[6]-qx[1] > 50 && qx[2] > 0)\n",
    "if (LogC) { expression_data[which(expression_data <= 0)] <- NaN\n",
    "exprs(gset) <- log2(expression_data)}"
   ]
  },
  {
   "cell_type": "markdown",
   "id": "56aeeaf9",
   "metadata": {
    "collapsed": false,
    "pycharm": {
     "name": "#%% md\n"
    }
   },
   "source": [
    "In order to perform DE analysis, we need to group patients into two groups: *“condition”* and *“control”*. From the samples source name, patients diagnosed with Alzheimer's Disease are annotated with 'AD'. Therefore, any samples that contain string 'AD' are labelled by 'd' (condition/disease) and the remaining samples are assigned to 'c' (control/normal). The code to group the samples is presented below:"
   ]
  },
  {
   "cell_type": "code",
   "execution_count": 7,
   "id": "8861e370",
   "metadata": {
    "collapsed": false,
    "pycharm": {
     "name": "#%%\n"
    }
   },
   "outputs": [],
   "source": [
    "# Select diease samples\n",
    "disease_idx <- grep(\"AD\", samples$source_name_ch1)\n",
    "# Create a vector to store label\n",
    "groups <- rep(\"X\", nrow(samples))\n",
    "# Annotate a diasease sameples as \"d\"\n",
    "groups[disease_idx] <- \"d\"\n",
    "# Control samples are labeled as \"c\"\n",
    "groups[which(groups!=\"d\")] <- \"c\"\n",
    "groups <- factor(groups)"
   ]
  },
  {
   "cell_type": "markdown",
   "id": "c66fc517",
   "metadata": {
    "collapsed": false,
    "pycharm": {
     "name": "#%% md\n"
    }
   },
   "source": [
    "## DE analysis using limma.\n",
    "Now, we need to specify the model to be fitted using `limma`. Linear modelling in `limma` is carried out using the `lmFit` and `contrasts.fit` functions originally written for application to microarrays. The functions can be used for both microarray and RNA-seq data and fit a separate model to the expression values for each gene. Next, empirical Bayes moderation is carried out using `eBayes` function.  Empirical Bayes moderation borrows information across all the genes to obtain more precise estimates of gene-wise variability. The model’s residual variances are plotted against average expression values in the next figure. It can be seen from this plot that the variance is no longer dependent on the mean expression level."
   ]
  },
  {
   "cell_type": "code",
   "execution_count": 8,
   "id": "5a6e916f",
   "metadata": {
    "collapsed": false,
    "pycharm": {
     "name": "#%%\n"
    }
   },
   "outputs": [],
   "source": [
    "# Add groups to gset object\n",
    "gset$group <- groups\n",
    "design <- model.matrix(~group + 0, gset)\n",
    "colnames(design) <- levels(groups)\n",
    "fit <- lmFit(gset, design)  # fit linear model\n",
    "# set up contrasts of interest and recalculate model coefficients\n",
    "cts <- paste(\"c\", \"d\", sep=\"-\")\n",
    "cont.matrix <- makeContrasts(contrasts=cts, levels=design)\n",
    "fit2 <- contrasts.fit(fit, cont.matrix)\n",
    "\n",
    "# compute statistics and table of top significant genes\n",
    "fit2 <- eBayes(fit2, 0.01)"
   ]
  },
  {
   "cell_type": "markdown",
   "id": "4202f79e",
   "metadata": {
    "collapsed": false,
    "pycharm": {
     "name": "#%% md\n"
    }
   },
   "source": [
    "To see the number of significantly up- and down-regulated genes, we can use the code below to generate the summary table."
   ]
  },
  {
   "cell_type": "code",
   "execution_count": 9,
   "id": "bd0c5c87",
   "metadata": {
    "collapsed": false,
    "pycharm": {
     "name": "#%%\n"
    }
   },
   "outputs": [
    {
     "data": {
      "text/plain": [
       "         c-d\n",
       "Down     293\n",
       "NotSig 53893\n",
       "Up       489"
      ]
     },
     "metadata": {},
     "output_type": "display_data"
    }
   ],
   "source": [
    "dt <- decideTests(fit2,p.value=0.05)\n",
    "summary(dt)"
   ]
  },
  {
   "cell_type": "markdown",
   "id": "4ad605c7",
   "metadata": {
    "collapsed": false,
    "pycharm": {
     "name": "#%% md\n"
    }
   },
   "source": [
    "Here, significance is defined using an adjusted p-value cutoff that is set at 5% by default. For the comparison between expression levels in *“condition”* (d) and *“control”* (c), 293 genes are found to be down-regulated and 489 genes are up-regulated. We also can extract a table of the top-ranked genes from a linear model fit using `topTable` function. By default, `topTable` arranges genes from smallest to largest adjusted p-value with associated gene information, log-FC, average log-CPM, moderated t-statistic, raw and adjusted p-value for each gene. The number of top genes displayed can be specified, where `number=Inf` includes all genes. In the following code, we will select top 1,000 genes are differentially expressed."
   ]
  },
  {
   "cell_type": "code",
   "execution_count": 10,
   "id": "ded558ae",
   "metadata": {
    "collapsed": false,
    "pycharm": {
     "name": "#%%\n"
    }
   },
   "outputs": [],
   "source": [
    "top_genes <- topTable(fit2, adjust=\"fdr\", sort.by=\"B\", number=1000)"
   ]
  },
  {
   "cell_type": "markdown",
   "id": "4d53e2af",
   "metadata": {
    "collapsed": false,
    "pycharm": {
     "name": "#%% md\n"
    }
   },
   "source": [
    "By default, the `topTable` function generates a dataframe that consists of DE genes, statistic and other features. We do not need all the features to perform pathway and enrichment analyses in the later module. Therefore, we will select a subset of `topTable` output by using the following command:"
   ]
  },
  {
   "cell_type": "code",
   "execution_count": 11,
   "id": "6b5a5a74",
   "metadata": {
    "collapsed": false,
    "pycharm": {
     "name": "#%%\n"
    }
   },
   "outputs": [],
   "source": [
    "top_genes <- subset(top_genes, select=c(\"ID\",\"Gene.symbol\",\"adj.P.Val\",\"P.Value\",\"t\",\"B\",\"logFC\"))"
   ]
  },
  {
   "cell_type": "markdown",
   "id": "83af63f1",
   "metadata": {
    "collapsed": false,
    "pycharm": {
     "name": "#%% md\n"
    }
   },
   "source": [
    "In order to perform pathway and enrichment analyses, we only focus on the genes that are statistically significant and the probe IDs that have gene symbols. We can select those genes using the following command:"
   ]
  },
  {
   "cell_type": "code",
   "execution_count": 12,
   "id": "2da54198",
   "metadata": {
    "collapsed": false,
    "pycharm": {
     "name": "#%%\n"
    }
   },
   "outputs": [
    {
     "data": {
      "text/html": [
       "<table class=\"dataframe\">\n",
       "<caption>A data.frame: 6 × 7</caption>\n",
       "<thead>\n",
       "\t<tr><th></th><th scope=col>ID</th><th scope=col>Gene.symbol</th><th scope=col>adj.P.Val</th><th scope=col>P.Value</th><th scope=col>t</th><th scope=col>B</th><th scope=col>logFC</th></tr>\n",
       "\t<tr><th></th><th scope=col>&lt;chr&gt;</th><th scope=col>&lt;chr&gt;</th><th scope=col>&lt;dbl&gt;</th><th scope=col>&lt;dbl&gt;</th><th scope=col>&lt;dbl&gt;</th><th scope=col>&lt;dbl&gt;</th><th scope=col>&lt;dbl&gt;</th></tr>\n",
       "</thead>\n",
       "<tbody>\n",
       "\t<tr><th scope=row>224687_at</th><td>224687_at  </td><td>ANKIB1   </td><td>1.575045e-38</td><td>5.761483e-43</td><td>-42.51195</td><td>71.37488</td><td>-5.0270459</td></tr>\n",
       "\t<tr><th scope=row>234109_x_at</th><td>234109_x_at</td><td>ONECUT3  </td><td>3.581024e-28</td><td>3.929793e-32</td><td>-26.08643</td><td>56.26670</td><td>-0.5401491</td></tr>\n",
       "\t<tr><th scope=row>230832_at</th><td>230832_at  </td><td>RTF1     </td><td>5.202052e-28</td><td>6.660149e-32</td><td> 25.81105</td><td>55.88888</td><td> 1.5886452</td></tr>\n",
       "\t<tr><th scope=row>236977_at</th><td>236977_at  </td><td>LOC646588</td><td>3.302438e-25</td><td>5.436112e-29</td><td> 22.51884</td><td>50.90379</td><td> 1.2085885</td></tr>\n",
       "\t<tr><th scope=row>211318_s_at</th><td>211318_s_at</td><td>RAE1     </td><td>6.039523e-25</td><td>1.104622e-28</td><td> 22.19198</td><td>50.35766</td><td> 2.9567118</td></tr>\n",
       "\t<tr><th scope=row>219554_at</th><td>219554_at  </td><td>RHCG     </td><td>2.166963e-24</td><td>4.359689e-28</td><td> 21.56994</td><td>49.29043</td><td> 0.9245753</td></tr>\n",
       "</tbody>\n",
       "</table>\n"
      ],
      "text/latex": [
       "A data.frame: 6 × 7\n",
       "\\begin{tabular}{r|lllllll}\n",
       "  & ID & Gene.symbol & adj.P.Val & P.Value & t & B & logFC\\\\\n",
       "  & <chr> & <chr> & <dbl> & <dbl> & <dbl> & <dbl> & <dbl>\\\\\n",
       "\\hline\n",
       "\t224687\\_at & 224687\\_at   & ANKIB1    & 1.575045e-38 & 5.761483e-43 & -42.51195 & 71.37488 & -5.0270459\\\\\n",
       "\t234109\\_x\\_at & 234109\\_x\\_at & ONECUT3   & 3.581024e-28 & 3.929793e-32 & -26.08643 & 56.26670 & -0.5401491\\\\\n",
       "\t230832\\_at & 230832\\_at   & RTF1      & 5.202052e-28 & 6.660149e-32 &  25.81105 & 55.88888 &  1.5886452\\\\\n",
       "\t236977\\_at & 236977\\_at   & LOC646588 & 3.302438e-25 & 5.436112e-29 &  22.51884 & 50.90379 &  1.2085885\\\\\n",
       "\t211318\\_s\\_at & 211318\\_s\\_at & RAE1      & 6.039523e-25 & 1.104622e-28 &  22.19198 & 50.35766 &  2.9567118\\\\\n",
       "\t219554\\_at & 219554\\_at   & RHCG      & 2.166963e-24 & 4.359689e-28 &  21.56994 & 49.29043 &  0.9245753\\\\\n",
       "\\end{tabular}\n"
      ],
      "text/markdown": [
       "\n",
       "A data.frame: 6 × 7\n",
       "\n",
       "| <!--/--> | ID &lt;chr&gt; | Gene.symbol &lt;chr&gt; | adj.P.Val &lt;dbl&gt; | P.Value &lt;dbl&gt; | t &lt;dbl&gt; | B &lt;dbl&gt; | logFC &lt;dbl&gt; |\n",
       "|---|---|---|---|---|---|---|---|\n",
       "| 224687_at | 224687_at   | ANKIB1    | 1.575045e-38 | 5.761483e-43 | -42.51195 | 71.37488 | -5.0270459 |\n",
       "| 234109_x_at | 234109_x_at | ONECUT3   | 3.581024e-28 | 3.929793e-32 | -26.08643 | 56.26670 | -0.5401491 |\n",
       "| 230832_at | 230832_at   | RTF1      | 5.202052e-28 | 6.660149e-32 |  25.81105 | 55.88888 |  1.5886452 |\n",
       "| 236977_at | 236977_at   | LOC646588 | 3.302438e-25 | 5.436112e-29 |  22.51884 | 50.90379 |  1.2085885 |\n",
       "| 211318_s_at | 211318_s_at | RAE1      | 6.039523e-25 | 1.104622e-28 |  22.19198 | 50.35766 |  2.9567118 |\n",
       "| 219554_at | 219554_at   | RHCG      | 2.166963e-24 | 4.359689e-28 |  21.56994 | 49.29043 |  0.9245753 |\n",
       "\n"
      ],
      "text/plain": [
       "            ID          Gene.symbol adj.P.Val    P.Value      t        \n",
       "224687_at   224687_at   ANKIB1      1.575045e-38 5.761483e-43 -42.51195\n",
       "234109_x_at 234109_x_at ONECUT3     3.581024e-28 3.929793e-32 -26.08643\n",
       "230832_at   230832_at   RTF1        5.202052e-28 6.660149e-32  25.81105\n",
       "236977_at   236977_at   LOC646588   3.302438e-25 5.436112e-29  22.51884\n",
       "211318_s_at 211318_s_at RAE1        6.039523e-25 1.104622e-28  22.19198\n",
       "219554_at   219554_at   RHCG        2.166963e-24 4.359689e-28  21.56994\n",
       "            B        logFC     \n",
       "224687_at   71.37488 -5.0270459\n",
       "234109_x_at 56.26670 -0.5401491\n",
       "230832_at   55.88888  1.5886452\n",
       "236977_at   50.90379  1.2085885\n",
       "211318_s_at 50.35766  2.9567118\n",
       "219554_at   49.29043  0.9245753"
      ]
     },
     "metadata": {},
     "output_type": "display_data"
    }
   ],
   "source": [
    "top_genes <- top_genes[which(top_genes$adj.P.Val<0.05),]\n",
    "top_genes <- top_genes[which(top_genes$Gene.symbol!=\"\"),]\n",
    "head(top_genes)"
   ]
  },
  {
   "cell_type": "markdown",
   "id": "092067e0",
   "metadata": {
    "collapsed": false,
    "pycharm": {
     "name": "#%% md\n"
    }
   },
   "source": [
    "Now, we can use the following script to save the DE genes list to use in the later modules.\n"
   ]
  },
  {
   "cell_type": "code",
   "execution_count": 13,
   "id": "60630ea4",
   "metadata": {
    "collapsed": false,
    "pycharm": {
     "name": "#%%\n"
    }
   },
   "outputs": [],
   "source": [
    "saveRDS(top_genes, file=\"./data/DE_genes.rds\")"
   ]
  },
  {
   "cell_type": "markdown",
   "id": "56683305",
   "metadata": {
    "collapsed": false,
    "pycharm": {
     "name": "#%% md\n"
    }
   },
   "source": [
    "## DE analysis using t-test"
   ]
  },
  {
   "cell_type": "code",
   "execution_count": 14,
   "id": "f2f98619",
   "metadata": {
    "collapsed": false,
    "pycharm": {
     "name": "#%%\n"
    }
   },
   "outputs": [
    {
     "name": "stdout",
     "output_type": "stream",
     "text": [
      "package 'matrixTests' successfully unpacked and MD5 sums checked\n"
     ]
    }
   ],
   "source": [
    "suppressMessages({\n",
    "  suppressWarnings(install.packages(\"matrixTests\",quiet= T))\n",
    "})\n",
    "# Load matrixTests package\n",
    "suppressPackageStartupMessages({library(\"matrixTests\")})"
   ]
  },
  {
   "cell_type": "code",
   "execution_count": 15,
   "id": "9ab4542e",
   "metadata": {
    "collapsed": false,
    "pycharm": {
     "name": "#%%\n"
    }
   },
   "outputs": [],
   "source": [
    "count <- expression_data\n",
    "X <- count[,groups==\"c\"]\n",
    "Y <- count[,groups==\"d\"]"
   ]
  },
  {
   "cell_type": "code",
   "execution_count": 16,
   "id": "b7dcfe6f",
   "metadata": {
    "collapsed": false,
    "pycharm": {
     "name": "#%%\n"
    }
   },
   "outputs": [],
   "source": [
    "res <- row_t_equalvar(X,Y,alternative = \"two.sided\", mu = 0, conf.level = 0.95)"
   ]
  },
  {
   "cell_type": "code",
   "execution_count": 17,
   "id": "68a39c1e",
   "metadata": {
    "collapsed": false,
    "pycharm": {
     "name": "#%%\n"
    }
   },
   "outputs": [],
   "source": [
    "res <- res[order(res$pvalue),]\n",
    "res <- res[res$pvalue<0.05,]"
   ]
  },
  {
   "cell_type": "markdown",
   "id": "1fbb473c",
   "metadata": {
    "collapsed": false,
    "pycharm": {
     "name": "#%% md\n"
    }
   },
   "source": [
    "## DE analysis using edgeR"
   ]
  },
  {
   "cell_type": "code",
   "execution_count": 18,
   "id": "1938940b",
   "metadata": {
    "collapsed": false,
    "pycharm": {
     "name": "#%%\n"
    }
   },
   "outputs": [],
   "source": [
    "suppressMessages({ if (!require(\"BiocManager\", quietly = TRUE))\n",
    "  install.packages(\"BiocManager\")\n",
    "  suppressWarnings(BiocManager::install(\"edgeR\", update = F))\n",
    "})\n",
    "\n",
    "# Load edgeR package\n",
    "suppressPackageStartupMessages({library(\"edgeR\")})"
   ]
  },
  {
   "cell_type": "code",
   "execution_count": 19,
   "id": "19bcc69f",
   "metadata": {
    "collapsed": false,
    "pycharm": {
     "name": "#%%\n"
    }
   },
   "outputs": [],
   "source": [
    "count <- expression_data"
   ]
  },
  {
   "cell_type": "code",
   "execution_count": 20,
   "id": "85320982",
   "metadata": {
    "collapsed": false,
    "pycharm": {
     "name": "#%%\n"
    }
   },
   "outputs": [
    {
     "name": "stderr",
     "output_type": "stream",
     "text": [
      "Using classic mode.\n",
      "\n"
     ]
    }
   ],
   "source": [
    "dge <- DGEList(counts = count, group = factor(gset$group))\n",
    "keep <- filterByExpr(y = dge)\n",
    "dge <- dge[keep,keep.lib.sizes=TRUE]\n",
    "dge <- calcNormFactors(object = dge)\n",
    "dge <- estimateDisp(y = dge)\n",
    "et <- exactTest(object = dge)\n",
    "top_degs = topTags(object = et, n = \"Inf\")"
   ]
  },
  {
   "cell_type": "code",
   "execution_count": 21,
   "id": "7484a1f1",
   "metadata": {
    "collapsed": false,
    "pycharm": {
     "name": "#%%\n"
    }
   },
   "outputs": [],
   "source": [
    "write.csv(et$table, file=\"./data/edgeR_Results.csv\")\n",
    "saveRDS(et$table, file=\"./data/edgeR_Results.rds\")"
   ]
  },
  {
   "cell_type": "code",
   "execution_count": 22,
   "id": "7c7e5335",
   "metadata": {
    "collapsed": false,
    "pycharm": {
     "name": "#%%\n"
    }
   },
   "outputs": [
    {
     "data": {
      "text/plain": [
       "       d-c\n",
       "Down     0\n",
       "NotSig   5\n",
       "Up       3"
      ]
     },
     "metadata": {},
     "output_type": "display_data"
    }
   ],
   "source": [
    "summary(decideTests(object = et, lfc = 1))"
   ]
  },
  {
   "cell_type": "code",
   "execution_count": 23,
   "id": "cb14b895",
   "metadata": {
    "collapsed": false,
    "pycharm": {
     "name": "#%%\n"
    }
   },
   "outputs": [],
   "source": [
    "## DE analysis using DESeq2"
   ]
  },
  {
   "cell_type": "code",
   "execution_count": 24,
   "id": "07c243a9",
   "metadata": {
    "collapsed": false,
    "pycharm": {
     "name": "#%%\n"
    }
   },
   "outputs": [],
   "source": [
    "suppressMessages({ if (!require(\"BiocManager\", quietly = TRUE))\n",
    "  install.packages(\"BiocManager\")\n",
    "  suppressWarnings(BiocManager::install(\"DESeq2\", update = F))\n",
    "})\n",
    "suppressPackageStartupMessages({library(\"DESeq2\")})"
   ]
  },
  {
   "cell_type": "code",
   "execution_count": 25,
   "id": "c17e8167",
   "metadata": {
    "collapsed": false,
    "pycharm": {
     "name": "#%%\n"
    }
   },
   "outputs": [],
   "source": [
    "coldata <- data.frame(\n",
    "  sample = colnames(expression_data),\n",
    "  condition = as.factor(groups),\n",
    "  row.names = \"sample\" )"
   ]
  },
  {
   "cell_type": "code",
   "execution_count": 26,
   "id": "87f6abfe",
   "metadata": {
    "collapsed": false,
    "pycharm": {
     "name": "#%%\n"
    }
   },
   "outputs": [
    {
     "data": {
      "text/html": [
       "<table class=\"dataframe\">\n",
       "<caption>A data.frame: 6 × 1</caption>\n",
       "<thead>\n",
       "\t<tr><th></th><th scope=col>condition</th></tr>\n",
       "\t<tr><th></th><th scope=col>&lt;fct&gt;</th></tr>\n",
       "</thead>\n",
       "<tbody>\n",
       "\t<tr><th scope=row>GSM300173</th><td>c</td></tr>\n",
       "\t<tr><th scope=row>GSM300177</th><td>c</td></tr>\n",
       "\t<tr><th scope=row>GSM300181</th><td>c</td></tr>\n",
       "\t<tr><th scope=row>GSM300186</th><td>c</td></tr>\n",
       "\t<tr><th scope=row>GSM300189</th><td>c</td></tr>\n",
       "\t<tr><th scope=row>GSM300192</th><td>c</td></tr>\n",
       "</tbody>\n",
       "</table>\n"
      ],
      "text/latex": [
       "A data.frame: 6 × 1\n",
       "\\begin{tabular}{r|l}\n",
       "  & condition\\\\\n",
       "  & <fct>\\\\\n",
       "\\hline\n",
       "\tGSM300173 & c\\\\\n",
       "\tGSM300177 & c\\\\\n",
       "\tGSM300181 & c\\\\\n",
       "\tGSM300186 & c\\\\\n",
       "\tGSM300189 & c\\\\\n",
       "\tGSM300192 & c\\\\\n",
       "\\end{tabular}\n"
      ],
      "text/markdown": [
       "\n",
       "A data.frame: 6 × 1\n",
       "\n",
       "| <!--/--> | condition &lt;fct&gt; |\n",
       "|---|---|\n",
       "| GSM300173 | c |\n",
       "| GSM300177 | c |\n",
       "| GSM300181 | c |\n",
       "| GSM300186 | c |\n",
       "| GSM300189 | c |\n",
       "| GSM300192 | c |\n",
       "\n"
      ],
      "text/plain": [
       "          condition\n",
       "GSM300173 c        \n",
       "GSM300177 c        \n",
       "GSM300181 c        \n",
       "GSM300186 c        \n",
       "GSM300189 c        \n",
       "GSM300192 c        "
      ]
     },
     "metadata": {},
     "output_type": "display_data"
    }
   ],
   "source": [
    "head(coldata)"
   ]
  },
  {
   "cell_type": "code",
   "execution_count": 27,
   "id": "9efda457",
   "metadata": {
    "collapsed": false,
    "pycharm": {
     "name": "#%%\n"
    }
   },
   "outputs": [
    {
     "data": {
      "text/html": [
       "<style>\n",
       ".list-inline {list-style: none; margin:0; padding: 0}\n",
       ".list-inline>li {display: inline-block}\n",
       ".list-inline>li:not(:last-child)::after {content: \"\\00b7\"; padding: 0 .5ex}\n",
       "</style>\n",
       "<ol class=list-inline><li>0.01</li><li>1054.465</li></ol>\n"
      ],
      "text/latex": [
       "\\begin{enumerate*}\n",
       "\\item 0.01\n",
       "\\item 1054.465\n",
       "\\end{enumerate*}\n"
      ],
      "text/markdown": [
       "1. 0.01\n",
       "2. 1054.465\n",
       "\n",
       "\n"
      ],
      "text/plain": [
       "[1]    0.010 1054.465"
      ]
     },
     "metadata": {},
     "output_type": "display_data"
    }
   ],
   "source": [
    "range(count)"
   ]
  },
  {
   "cell_type": "code",
   "execution_count": 28,
   "id": "5a8a3fe3",
   "metadata": {
    "collapsed": false,
    "pycharm": {
     "name": "#%%\n"
    }
   },
   "outputs": [
    {
     "name": "stderr",
     "output_type": "stream",
     "text": [
      "converting counts to integer mode\n",
      "\n"
     ]
    }
   ],
   "source": [
    "dds <- DESeqDataSetFromMatrix(countData = round(count), colData = coldata,\n",
    "                              design = ~ condition)"
   ]
  },
  {
   "cell_type": "code",
   "execution_count": 29,
   "id": "33cb6084",
   "metadata": {
    "collapsed": false,
    "pycharm": {
     "name": "#%%\n"
    }
   },
   "outputs": [
    {
     "name": "stderr",
     "output_type": "stream",
     "text": [
      "estimating size factors\n",
      "\n"
     ]
    },
    {
     "name": "stderr",
     "output_type": "stream",
     "text": [
      "estimating dispersions\n",
      "\n"
     ]
    },
    {
     "name": "stderr",
     "output_type": "stream",
     "text": [
      "gene-wise dispersion estimates\n",
      "\n"
     ]
    },
    {
     "name": "stderr",
     "output_type": "stream",
     "text": [
      "mean-dispersion relationship\n",
      "\n"
     ]
    },
    {
     "name": "stderr",
     "output_type": "stream",
     "text": [
      "-- note: fitType='parametric', but the dispersion trend was not well captured by the\n",
      "   function: y = a/x + b, and a local regression fit was automatically substituted.\n",
      "   specify fitType='local' or 'mean' to avoid this message next time.\n",
      "\n"
     ]
    },
    {
     "name": "stderr",
     "output_type": "stream",
     "text": [
      "final dispersion estimates\n",
      "\n"
     ]
    },
    {
     "name": "stderr",
     "output_type": "stream",
     "text": [
      "fitting model and testing\n",
      "\n"
     ]
    },
    {
     "name": "stderr",
     "output_type": "stream",
     "text": [
      "-- replacing outliers and refitting for 85 genes\n",
      "-- DESeq argument 'minReplicatesForReplace' = 7 \n",
      "-- original counts are preserved in counts(dds)\n",
      "\n"
     ]
    },
    {
     "name": "stderr",
     "output_type": "stream",
     "text": [
      "estimating dispersions\n",
      "\n"
     ]
    },
    {
     "name": "stderr",
     "output_type": "stream",
     "text": [
      "fitting model and testing\n",
      "\n"
     ]
    },
    {
     "data": {
      "text/html": [
       "<style>\n",
       ".list-inline {list-style: none; margin:0; padding: 0}\n",
       ".list-inline>li {display: inline-block}\n",
       ".list-inline>li:not(:last-child)::after {content: \"\\00b7\"; padding: 0 .5ex}\n",
       "</style>\n",
       "<ol class=list-inline><li>'Intercept'</li><li>'condition_d_vs_c'</li></ol>\n"
      ],
      "text/latex": [
       "\\begin{enumerate*}\n",
       "\\item 'Intercept'\n",
       "\\item 'condition\\_d\\_vs\\_c'\n",
       "\\end{enumerate*}\n"
      ],
      "text/markdown": [
       "1. 'Intercept'\n",
       "2. 'condition_d_vs_c'\n",
       "\n",
       "\n"
      ],
      "text/plain": [
       "[1] \"Intercept\"        \"condition_d_vs_c\""
      ]
     },
     "metadata": {},
     "output_type": "display_data"
    }
   ],
   "source": [
    "dds <- dds[rowSums(counts(dds)) >= 10,]\n",
    "dds$condition <- relevel(dds$condition, ref = \"c\")\n",
    "dds <- DESeq(dds)\n",
    "resultsNames(dds)\n",
    "res <- results(dds)\n",
    "res <- as.data.frame(res[order(res$padj),])"
   ]
  },
  {
   "cell_type": "code",
   "execution_count": 30,
   "id": "d811727f",
   "metadata": {
    "collapsed": false,
    "pycharm": {
     "name": "#%%\n"
    }
   },
   "outputs": [
    {
     "name": "stdout",
     "output_type": "stream",
     "text": [
      "\n",
      "out of 50892 with nonzero total read count\n",
      "adjusted p-value < 0.05\n",
      "LFC > 0 (up)       : 5, 0.0098%\n",
      "LFC < 0 (down)     : 1, 0.002%\n",
      "outliers [1]       : 0, 0%\n",
      "low counts [2]     : 1, 0.002%\n",
      "(mean count < 0)\n",
      "[1] see 'cooksCutoff' argument of ?results\n",
      "[2] see 'independentFiltering' argument of ?results\n",
      "\n"
     ]
    }
   ],
   "source": [
    "summary(results(dds),alpha = 0.05)"
   ]
  },
  {
   "cell_type": "markdown",
   "id": "7235ab65",
   "metadata": {
    "collapsed": false,
    "pycharm": {
     "name": "#%% md\n"
    }
   },
   "source": []
  },
  {
   "cell_type": "code",
   "execution_count": 31,
   "id": "8bd70dcd",
   "metadata": {
    "collapsed": false,
    "pycharm": {
     "name": "#%%\n"
    }
   },
   "outputs": [],
   "source": [
    "write.csv(res, file=\"./data/DESeq2_Results.csv\")\n",
    "saveRDS(res, file=\"./data/DESeq2_Results.rds\")"
   ]
  },
  {
   "cell_type": "markdown",
   "id": "a4648d29",
   "metadata": {
    "collapsed": false,
    "pycharm": {
     "name": "#%% md\n"
    }
   },
   "source": [
    "## Visualization of of differential expression results.\n",
    "To summarise results for all genes visually, mean-difference plots, which display log-FCs from the linear model fit against the average log-CPM values can be generated using the `plotMD` function, with the differentially expressed genes highlighted."
   ]
  },
  {
   "cell_type": "code",
   "execution_count": 32,
   "id": "d7dc6c35",
   "metadata": {
    "collapsed": false,
    "pycharm": {
     "name": "#%%\n"
    }
   },
   "outputs": [
    {
     "data": {
      "image/png": "[encoded data removed]",
      "text/plain": [
       "Plot with title \"c-d\""
      ]
     },
     "metadata": {
      "filenames": {
       "image/png": "D:\\projects1\\NOSI-Google-Cloud-Training\\_build\\jupyter_execute\\Module02-DE_Analysis_48_0.png"
      },
      "image/png": {
       "height": 420,
       "width": 420
      }
     },
     "output_type": "display_data"
    }
   ],
   "source": [
    "plotMD(fit2, column=1, status=dt[,1], main=colnames(fit2)[1],\n",
    "       xlim=c(-8,13),pch=20, cex=1)\n",
    "abline(h=0)"
   ]
  },
  {
   "cell_type": "markdown",
   "id": "e331a864",
   "metadata": {
    "collapsed": false,
    "pycharm": {
     "name": "#%% md\n"
    }
   },
   "source": [
    "Another way to visualize the number of regulated and unregulated genes is to use Venn diagram. The command to generate the diagram is presented below"
   ]
  },
  {
   "cell_type": "code",
   "execution_count": 33,
   "id": "0d4dc161",
   "metadata": {
    "collapsed": false,
    "pycharm": {
     "name": "#%%\n"
    }
   },
   "outputs": [
    {
     "data": {
      "image/png": "[encoded data removed]",
      "text/plain": [
       "plot without title"
      ]
     },
     "metadata": {
      "filenames": {
       "image/png": "D:\\projects1\\NOSI-Google-Cloud-Training\\_build\\jupyter_execute\\Module02-DE_Analysis_50_0.png"
      },
      "image/png": {
       "height": 420,
       "width": 420
      }
     },
     "output_type": "display_data"
    }
   ],
   "source": [
    "# summarize test results as \"up\", \"down\" or \"not expressed\"\n",
    "dT <- decideTests(fit2, adjust.method=\"fdr\", p.value=0.05)\n",
    "# Venn diagram of results\n",
    "vennDiagram(dT, circle.col=palette())"
   ]
  },
  {
   "cell_type": "markdown",
   "id": "3677f2f9",
   "metadata": {
    "collapsed": false,
    "pycharm": {
     "name": "#%% md\n"
    }
   },
   "source": [
    "We can visualize the adjusted p-value distribution for all gene using histogram plot as follow"
   ]
  },
  {
   "cell_type": "code",
   "execution_count": 34,
   "id": "bc2f35c7-0a9e-4d5b-9901-d42dd52b3f5c",
   "metadata": {
    "pycharm": {
     "name": "#%%\n"
    }
   },
   "outputs": [
    {
     "data": {
      "image/png": "[encoded data removed]",
      "text/plain": [
       "Plot with title \"P-adj value distribution\""
      ]
     },
     "metadata": {
      "filenames": {
       "image/png": "D:\\projects1\\NOSI-Google-Cloud-Training\\_build\\jupyter_execute\\Module02-DE_Analysis_52_0.png"
      },
      "image/png": {
       "height": 420,
       "width": 420
      }
     },
     "output_type": "display_data"
    }
   ],
   "source": [
    "# Visualize and quality control test results.\n",
    "# Build histogram of P-values for all genes. Normal test\n",
    "# assumption is that most genes are not differentially expressed.\n",
    "tT2 <- topTable(fit2, adjust=\"fdr\", sort.by=\"B\", number=Inf)\n",
    "hist(tT2$adj.P.Val, col = \"grey\", border = \"white\", xlab = \"P-adj\",\n",
    "     ylab = \"Number of genes\", main = \"P-adj value distribution\")"
   ]
  },
  {
   "cell_type": "code",
   "execution_count": 35,
   "id": "329e6ca9-f0ca-4ed1-b585-639717e19202",
   "metadata": {
    "pycharm": {
     "name": "#%%\n"
    }
   },
   "outputs": [
    {
     "data": {
      "image/png": "[encoded data removed]",
      "text/plain": [
       "Plot with title \"Moderated t statistic\""
      ]
     },
     "metadata": {
      "filenames": {
       "image/png": "D:\\projects1\\NOSI-Google-Cloud-Training\\_build\\jupyter_execute\\Module02-DE_Analysis_53_0.png"
      },
      "image/png": {
       "height": 420,
       "width": 420
      }
     },
     "output_type": "display_data"
    }
   ],
   "source": [
    "# create Q-Q plot for t-statistic\n",
    "t.good <- which(!is.na(fit2$F)) # filter out bad probes\n",
    "qqt(fit2$t[t.good], fit2$df.total[t.good], main=\"Moderated t statistic\")"
   ]
  },
  {
   "cell_type": "code",
   "execution_count": 36,
   "id": "a92ff556-1e27-455d-83f0-755bc70e08d2",
   "metadata": {
    "pycharm": {
     "name": "#%%\n"
    }
   },
   "outputs": [
    {
     "data": {
      "text/html": [
       "'c-d'"
      ],
      "text/latex": [
       "'c-d'"
      ],
      "text/markdown": [
       "'c-d'"
      ],
      "text/plain": [
       "[1] \"c-d\""
      ]
     },
     "metadata": {},
     "output_type": "display_data"
    },
    {
     "data": {
      "image/png": "[encoded data removed]",
      "text/plain": [
       "Plot with title \"c-d\""
      ]
     },
     "metadata": {
      "filenames": {
       "image/png": "D:\\projects1\\NOSI-Google-Cloud-Training\\_build\\jupyter_execute\\Module02-DE_Analysis_54_1.png"
      },
      "image/png": {
       "height": 420,
       "width": 420
      }
     },
     "output_type": "display_data"
    }
   ],
   "source": [
    "# volcano plot (log P-value vs log fold change)\n",
    "colnames(fit2) # list contrast names\n",
    "ct <- 1        # choose contrast of interest\n",
    "volcanoplot(fit2, coef=ct, main=colnames(fit2)[ct], pch=20,\n",
    "            highlight=length(which(dT[,ct]!=0)), names=rep('+', nrow(fit2)))"
   ]
  },
  {
   "cell_type": "code",
   "execution_count": null,
   "id": "ad9fae7c",
   "metadata": {
    "collapsed": false,
    "pycharm": {
     "name": "#%%\n"
    }
   },
   "outputs": [],
   "source": []
  }
 ],
 "metadata": {
  "environment": {
   "kernel": "ir",
   "name": "r-cpu.4-1.m93",
   "type": "gcloud",
   "uri": "gcr.io/deeplearning-platform-release/r-cpu.4-1:m93"
  },
  "kernelspec": {
   "display_name": "R",
   "language": "R",
   "name": "ir"
  },
  "language_info": {
   "codemirror_mode": "r",
   "file_extension": ".r",
   "mimetype": "text/x-r-source",
   "name": "R",
   "pygments_lexer": "r",
   "version": "4.1.3"
  },
  "toc-showcode": true
 },
 "nbformat": 4,
 "nbformat_minor": 5
}