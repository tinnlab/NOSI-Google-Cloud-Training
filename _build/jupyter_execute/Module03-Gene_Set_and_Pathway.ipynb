{
 "cells": [
  {
   "cell_type": "code",
   "execution_count": 1,
   "id": "70535bcc",
   "metadata": {
    "collapsed": false
   },
   "outputs": [
    {
     "ename": "ERROR",
     "evalue": "Error in parse(text = x, srcfile = src): <text>:3:2: unexpected '['\n2: \n3: ![\n    ^\n",
     "output_type": "error",
     "traceback": [
      "Error in parse(text = x, srcfile = src): <text>:3:2: unexpected '['\n2: \n3: ![\n    ^\nTraceback:\n"
     ]
    }
   ],
   "source": [
    "# Gene set and pathway\n",
    "\n",
    "![](./images/Module3/Workflow3.jpg)\n",
    "\n",
    "Differential expression (DE) analysis typically yields a list of genes or proteins that require further interpretation.\n",
    "Our intention is to use such lists to gain novel insights about genes and proteins that may have roles in a given\n",
    "phenomenon, phenotype or disease progression. However, in many cases, gene lists generated from DE analysis are\n",
    "difficult to interpret due to their large size and lack of useful annotations. Hence, pathway analysis (also known\n",
    "as gene set analysis or over-representation analysis), aims to reduce the complexity of interpreting gene lists\n",
    "via mapping the listed genes to known (i.e. annotated) biological pathways, processes and functions.\n",
    "This learning module introduces common curated biological databases including Gene Ontology (GO),\n",
    "Kyoto Encyclopedia of Genes and Genomes (KEGG).\n",
    "\n",
    "## Learning Objectives:\n",
    "1. Introduction to Ontology and Gene Ontology.\n",
    "2. Introduction to KEGG Pathway Database.\n",
    "3. Downloading terms, pathway gene set from GO and KEGG.\n",
    "4. Saving results to GMT file format."
   ]
  },
  {
   "cell_type": "markdown",
   "id": "1859736a",
   "metadata": {},
   "source": [
    "## Ontology and Gene Ontology\n",
    "### Overview\n",
    "In this section we will learn about the concept of gene ontology in Bioinformatics. Ontology is a specification\n",
    "of a conceptualization which is a set of concepts within a domain, defined by a shared vocabulary to\n",
    "denote the types and properties of the concepts as well as the relationships between the concepts.\n",
    "Ontology plays an important role in the field of bioinformatics. Ontology enable communicate unambiguously e.g.,\n",
    "to understand across different groups’ annotations of various genomes. Also, it allows the knowledge to be represented\n",
    "in a computable and structured to perform automated analyses by computer programs.\n",
    "\n",
    "The Gene Ontology (GO) defines a structured, common, controlled vocabulary to describe attributes of genes and gene products\n",
    "across organisms. Collaboration is key to build a consensus vocabulary. But the term gene ontology, or GO, is commonly used\n",
    "to refer to both, which is sometimes a source of potential confusion. In order to avoid this, here we will use the term “GO”\n",
    "to describe the set of terms and their hierarchical structure and “GO annotations” to describe the set of associations between\n",
    "genes and GO terms. The GO is divided into three categories to describe the genes and gene products from three different\n",
    "angles: Molecular Function, Biological Process, and Cellular Component.\n",
    "\n",
    "The structure of GO can be described in terms of into directed acyclic graphs (DAGs), where each GO term is a node,\n",
    "and the relationships between the terms are edges between the nodes. GO is loosely hierarchical, with ‘child’ terms\n",
    "being more specialized than their ‘parent’ terms, but unlike a strict hierarchy, a term may have more than one parent\n",
    "term (note that the parent/child model does not hold true for all types of relations). The structure of the controlled\n",
    "vocabularies are intended to reflect true, biological relationships. In contrast to strict hierarchies, DAGS allow\n",
    "multiple relationships between a more granular (child) term and a more general parent term. The relationship between\n",
    "terms affects how queries are made. For example,a query for all genes with binding activity would include transcription\n",
    "factors as well as genes with other types of binding activity (such as protein binding, ligand binding). The illustration\n",
    "of category and structure of GO is shown in the figure below:\n",
    "\n",
    "![](./images/Module3/GO_Structure.jpg)\n",
    "*(Source: https://www.ebi.ac.uk/, http://geneontology.org/)*\n",
    "\n",
    "### Gene ontology relationship\n",
    "In DAGs graph, *terms* are represented as *nodes* and *relations* (also known as *object properties*) between the *terms*\n",
    "are *edges*. There are commonly used relationships in GO such as *is a* (is a *subtype of*), *part of, has part, regulates,\n",
    "negatively regulates and positively regulates*. All terms (except from the root terms representing each aspect) have an\n",
    "is a sub-class relationship to another terms.\n",
    "\n",
    "Examples:"
   ]
  },
  {
   "cell_type": "markdown",
   "id": "a4d20927",
   "metadata": {
    "collapsed": false
   },
   "source": [
    "```{admonition} *is a* relation\n",
    "**GO:1904659:glucose transport** *is* a **GO:0015749:monosaccharide transport**.\n",
    "\n",
    "The *is a* relation forms the basic structure of GO. If we say A *is a* B, we mean that node A is a subtype of node B\n",
    "\n",
    "```"
   ]
  },
  {
   "cell_type": "markdown",
   "id": "061f8b4c",
   "metadata": {
    "collapsed": false
   },
   "source": [
    "```{admonition} *is part of* relation\n",
    "**GO:0031966:mitochondrial membrane** *is part of* **GO:0005740:mitochondrial envelope**\n",
    "\n",
    "The *part of* relation is used to represent part-whole relationships. A *part of* relation would only be added between\n",
    "A and B if B is **necessarily** *part of* A: wherever B exists, it is as *part of* A, and the presence of the B implies\n",
    "the presence of A. However, given the occurrence of A, we cannot say for certain that B exists.\n",
    "```"
   ]
  },
  {
   "cell_type": "markdown",
   "id": "8c92611b",
   "metadata": {
    "collapsed": false
   },
   "source": [
    "```{admonition} *regulates* relation\n",
    "**GO:0098689:latency-replication decision** *regulates* **GO:0019046:release from viral latency**\n",
    "\n",
    "A relation that describes case in which one process directly affects the manifestation of another process or quality,\n",
    "i.e. the former *regulates* the latter.\n",
    "```"
   ]
  },
  {
   "cell_type": "markdown",
   "id": "5866189c",
   "metadata": {
    "collapsed": false
   },
   "source": [
    "A more specific case with more nodes and edges can be seen at the figure below:\n",
    "<br>\n",
    "![](./images/Module3/GO_Relation.jpg)\n",
    "*(Source: https://advaitabio.com/)* <br>\n",
    "For more technical information about relations and their properties used in GO and other ontologies see the\n",
    "<a href=\"https://obofoundry.org/ontology/ro.html\">OBO Relations Ontology (RO)</a>\n"
   ]
  },
  {
   "cell_type": "markdown",
   "id": "c0d70e92",
   "metadata": {},
   "source": [
    "### GO storage file formats\n",
    "GO terms are updated monthly in the following formats:\n",
    "* OBO 1.4 files are human-readable (in addition to machine-readable) and can be opened in any text editor.\n",
    "* OWL files can be read by <a href=\"https://protege.stanford.edu/\">Protégé</a> text editor.\n",
    "\n",
    " In this learning module, we will only use \".OBO\" to obtain GO terms.The OBO file format is for representing ontologies and controlled vocabularies. The format itself attempts to achieve the following goals:\n",
    " * Human readability\n",
    " * Ease of parsing\n",
    " * Extensibility\n",
    " * Minimal redundancy\n",
    "\n",
    "The file structure can is shown in the following figure.\n",
    "\n",
    "\n",
    "![](./images/Module3/OBO_Format.jpg)\n",
    "\n",
    "The OBO file has a header which is an unlabeled section at the beginning of the document. The header ends when the first term is encountered. Next, term is represented in labeled section with the tag *[Term]*. Under each term, we can find other information such as term ID, official name, category (namcespace), term definition, synonym and relation to other GO term.\n",
    "\n",
    "At this step, we still don't know what genes are related to which GO terms. In order to retrieve custom sets of gene ontology annotations for any list of genes from organisms, NCBI has published a Gene2GO database that obtain GO terms and the entrez gene ids related to those go terms. The database can be retrieve from <a href=\"https://ftp.ncbi.nih.gov/gene/DATA/gene2go.gz\">here</a> text editor. The Gene2GO database can be viewed using text editor, the file structure is presented in the figure below:\n",
    "\n",
    "![](./images/Module3/Gene2GO.jpg)\n",
    "\n",
    "The OBO and Gene2GO databases will be used in combination to obtain GO term and related genes for enrichment analysis."
   ]
  },
  {
   "cell_type": "markdown",
   "id": "da017e98",
   "metadata": {
    "collapsed": false
   },
   "source": [
    "### Retrieving GO terms from DE gene list\n",
    "This section focuses on downloading related GO terms based on the DE genelist obtained from the DE analysis in the previous section.\n",
    "Here, we will use `toGO` and `hgu133plus2.db` R packages to obtain GO terms. The `topGO` package has built-in functions that use Gene2GO databases to retrieve GO terms from the gene ID give by DE analysis. Since the dataset we used in the Module 02 was generated for human, we will use `hgu133plus2.db` database to map probeID to gene symbols.\n",
    "The installation process of two package can be done by the script below:"
   ]
  },
  {
   "cell_type": "code",
   "execution_count": 44,
   "id": "99eed67c",
   "metadata": {
    "collapsed": false
   },
   "outputs": [
    {
     "name": "stdout",
     "output_type": "stream",
     "text": [
      "package 'bit' successfully unpacked and MD5 sums checked\n",
      "package 'cachem' successfully unpacked and MD5 sums checked\n",
      "package 'bit64' successfully unpacked and MD5 sums checked\n",
      "package 'blob' successfully unpacked and MD5 sums checked\n",
      "package 'memoise' successfully unpacked and MD5 sums checked\n",
      "package 'pkgconfig' successfully unpacked and MD5 sums checked\n",
      "package 'plogr' successfully unpacked and MD5 sums checked\n",
      "package 'RSQLite' successfully unpacked and MD5 sums checked\n",
      "package 'graph' successfully unpacked and MD5 sums checked\n",
      "package 'Biobase' successfully unpacked and MD5 sums checked\n",
      "package 'AnnotationDbi' successfully unpacked and MD5 sums checked\n",
      "package 'SparseM' successfully unpacked and MD5 sums checked\n",
      "package 'lattice' successfully unpacked and MD5 sums checked\n",
      "package 'matrixStats' successfully unpacked and MD5 sums checked\n",
      "package 'DBI' successfully unpacked and MD5 sums checked\n",
      "package 'topGO' successfully unpacked and MD5 sums checked\n",
      "\n",
      "The downloaded binary packages are in\n",
      "\tC:\\Users\\bangt\\AppData\\Local\\Temp\\RtmpYvgQrE\\downloaded_packages\n"
     ]
    },
    {
     "name": "stderr",
     "output_type": "stream",
     "text": [
      "\n",
      "groupGOTerms: \tGOBPTerm, GOMFTerm, GOCCTerm environments built.\n",
      "\n"
     ]
    }
   ],
   "source": [
    "# Installation of topGO and hgu133plus2.db package\n",
    "suppressMessages({if (!require(\"BiocManager\", quietly = TRUE))\n",
    "    install.packages(\"BiocManager\")\n",
    "  suppressWarnings(BiocManager::install(\"topGO\", update = F))\n",
    "  suppressWarnings(BiocManager::install(\"hgu133plus2.db\", update = F))\n",
    "})\n",
    "# Loading the library\n",
    "suppressPackageStartupMessages({\n",
    "  library(\"topGO\")\n",
    "  library(\"hgu133plus2.db\")\n",
    "})"
   ]
  },
  {
   "cell_type": "markdown",
   "id": "e8078d3e",
   "metadata": {
    "collapsed": false
   },
   "source": [
    "Load the DE genelist generated from the DE analysis."
   ]
  },
  {
   "cell_type": "code",
   "execution_count": 45,
   "id": "faa99be8",
   "metadata": {
    "collapsed": false
   },
   "outputs": [],
   "source": [
    "data = readRDS(\"./data/DE_genes.rds\")"
   ]
  },
  {
   "cell_type": "markdown",
   "id": "c9c08353",
   "metadata": {
    "collapsed": false
   },
   "source": [
    "By default, the DE analysis performed by `limma` contains multiple features. However, adjusted *p-value* and gene ID are the most important features for enrichment analysis. We can use the following code to list of gene IDs and their *p-value*."
   ]
  },
  {
   "cell_type": "code",
   "execution_count": 47,
   "id": "74c46d31",
   "metadata": {
    "collapsed": false
   },
   "outputs": [],
   "source": [
    "# Get p-value from DE results\n",
    "genelist <- data$adj.P.Val\n",
    "# Assgin gene IDs to associated p-values\n",
    "names(genelist) <- data$ID"
   ]
  },
  {
   "cell_type": "markdown",
   "id": "3728a134",
   "metadata": {
    "collapsed": false
   },
   "source": [
    "After successfully obtaining the genelist, we need to map the gene IDs to the gene symbols using `hgu133plus2.db`."
   ]
  },
  {
   "cell_type": "code",
   "execution_count": 48,
   "id": "44b39b41",
   "metadata": {
    "collapsed": false
   },
   "outputs": [
    {
     "name": "stderr",
     "output_type": "stream",
     "text": [
      "'select()' returned 1:many mapping between keys and columns\n",
      "\n"
     ]
    }
   ],
   "source": [
    "# Map gene IDs to gene symbols\n",
    "gene <- select(hgu133plus2.db, names(genelist), \"SYMBOL\")\n",
    "# Remove duplicated gene IDs\n",
    "gene <- gene[!duplicated(gene[,1]),]\n",
    "\n",
    "# Assign result to a new genlist with gene symbols\n",
    "geneList2 <- genelist\n",
    "names(geneList2) <- gene[,2]"
   ]
  },
  {
   "cell_type": "markdown",
   "id": "3c49403d",
   "metadata": {
    "collapsed": false
   },
   "source": [
    "Now, we can search for related GO terms based on the new gene list using `topGO` package. First, we need to create a `topGOdata`\n",
    "object."
   ]
  },
  {
   "cell_type": "code",
   "execution_count": 49,
   "id": "95276111",
   "metadata": {
    "collapsed": false
   },
   "outputs": [
    {
     "name": "stderr",
     "output_type": "stream",
     "text": [
      "\n",
      "Building most specific GOs .....\n",
      "\n",
      "\t( 2203 GO terms found. )\n",
      "\n",
      "\n",
      "Build GO DAG topology ..........\n",
      "\n",
      "\t( 5410 GO terms and 11936 relations. )\n",
      "\n",
      "\n",
      "Annotating nodes ...............\n",
      "\n",
      "\t( 478 genes annotated to the GO terms. )\n",
      "\n"
     ]
    }
   ],
   "source": [
    "GOdata <- new(\"topGOdata\", description = \"\",ontology = \"BP\",\n",
    "                    allGenes = geneList2, geneSel = function(x)x, nodeSize = 10,\n",
    "                    annot = annFUN.org, ID = \"alias\", mapping = \"org.Hs.eg\")"
   ]
  },
  {
   "cell_type": "markdown",
   "id": "e7886f65",
   "metadata": {
    "collapsed": false
   },
   "source": [
    "We can search for related GO terms using `geneInTerm` function and view the term with associated genes."
   ]
  },
  {
   "cell_type": "code",
   "execution_count": 50,
   "id": "e0db823d",
   "metadata": {
    "collapsed": false
   },
   "outputs": [
    {
     "data": {
      "text/html": [
       "<dl>\n",
       "\t<dt>$`GO:0000003`</dt>\n",
       "\t\t<dd><style>\n",
       ".list-inline {list-style: none; margin:0; padding: 0}\n",
       ".list-inline>li {display: inline-block}\n",
       ".list-inline>li:not(:last-child)::after {content: \"\\00b7\"; padding: 0 .5ex}\n",
       "</style>\n",
       "<ol class=list-inline><li>'ALDOA'</li><li>'ALKBH1'</li><li>'ARID5B'</li><li>'ATP2B2'</li><li>'B4GALT1'</li><li>'BRF1'</li><li>'CACNA1H'</li><li>'CCDC40'</li><li>'CCNB1'</li><li>'CCNE1'</li><li>'CD9'</li><li>'CFAP157'</li><li>'CFAP54'</li><li>'CYLC1'</li><li>'EHMT2'</li><li>'ESR1'</li><li>'FAM170A'</li><li>'FKBP6'</li><li>'FOLR2'</li><li>'FUT10'</li><li>'GAMT'</li><li>'HGF'</li><li>'HYAL3'</li><li>'IGFBP7'</li><li>'LY6K'</li><li>'MYCBPAP'</li><li>'OAZ3'</li><li>'OVOL1'</li><li>'PCDH12'</li><li>'QRICH2'</li><li>'SIX5'</li><li>'SLX4'</li><li>'SPATA6L'</li><li>'ST14'</li><li>'STK11'</li><li>'STK35'</li><li>'TAC1'</li><li>'TEKT2'</li><li>'TLE6'</li><li>'TMEM95'</li><li>'TRIM27'</li><li>'YBX2'</li></ol>\n",
       "</dd>\n",
       "\t<dt>$`GO:0000122`</dt>\n",
       "\t\t<dd><style>\n",
       ".list-inline {list-style: none; margin:0; padding: 0}\n",
       ".list-inline>li {display: inline-block}\n",
       ".list-inline>li:not(:last-child)::after {content: \"\\00b7\"; padding: 0 .5ex}\n",
       "</style>\n",
       "<ol class=list-inline><li>'ARID5B'</li><li>'BARX2'</li><li>'CCNE1'</li><li>'CTBP1'</li><li>'CUX2'</li><li>'EHMT2'</li><li>'ESR1'</li><li>'GLIS3'</li><li>'GRIP1'</li><li>'HIF1AN'</li><li>'HOPX'</li><li>'HOXA7'</li><li>'LMO1'</li><li>'NR2F6'</li><li>'OTUD7B'</li><li>'OVOL1'</li><li>'RTF1'</li><li>'RUNX3'</li><li>'SP100'</li><li>'SPDEF'</li><li>'SREBF1'</li><li>'TAF1'</li><li>'TAL1'</li><li>'TGIF2'</li><li>'TLE6'</li><li>'TMPRSS6'</li><li>'TPR'</li><li>'TRIM27'</li><li>'TRIM37'</li><li>'WWC2'</li><li>'WWTR1'</li><li>'ZBTB45'</li><li>'ZC3H8'</li><li>'ZNF345'</li></ol>\n",
       "</dd>\n",
       "\t<dt>$`GO:0000165`</dt>\n",
       "\t\t<dd><style>\n",
       ".list-inline {list-style: none; margin:0; padding: 0}\n",
       ".list-inline>li {display: inline-block}\n",
       ".list-inline>li:not(:last-child)::after {content: \"\\00b7\"; padding: 0 .5ex}\n",
       "</style>\n",
       "<ol class=list-inline><li>'ADRB3'</li><li>'BRF1'</li><li>'CCL22'</li><li>'CLEC7A'</li><li>'COPS5'</li><li>'FGD2'</li><li>'FGF18'</li><li>'FGF4'</li><li>'HGF'</li><li>'LILRA5'</li><li>'MAP4K1'</li><li>'NCF1'</li><li>'NENF'</li><li>'P2RY6'</li><li>'PRDX2'</li><li>'PRMT1'</li><li>'RAP2A'</li><li>'RB1CC1'</li><li>'SERPINF2'</li><li>'SLAMF1'</li><li>'STYX'</li><li>'TEK'</li><li>'TNIP1'</li><li>'WNK2'</li></ol>\n",
       "</dd>\n",
       "\t<dt>$`GO:0000226`</dt>\n",
       "\t\t<dd><style>\n",
       ".list-inline {list-style: none; margin:0; padding: 0}\n",
       ".list-inline>li {display: inline-block}\n",
       ".list-inline>li:not(:last-child)::after {content: \"\\00b7\"; padding: 0 .5ex}\n",
       "</style>\n",
       "<ol class=list-inline><li>'ANKFN1'</li><li>'ARHGEF7'</li><li>'ATF5'</li><li>'CCDC40'</li><li>'CCNB1'</li><li>'CDC14A'</li><li>'CFAP100'</li><li>'CFAP157'</li><li>'CNTROB'</li><li>'DCLK2'</li><li>'DCTN1'</li><li>'DNAAF8'</li><li>'DST'</li><li>'GAS2L2'</li><li>'RAE1'</li><li>'TACC3'</li><li>'TEKT2'</li><li>'TLE6'</li><li>'TPR'</li><li>'TRAF3IP1'</li><li>'TRIM37'</li><li>'TUBB4B'</li><li>'ZMYND10'</li><li>'ZPR1'</li></ol>\n",
       "</dd>\n",
       "\t<dt>$`GO:0000278`</dt>\n",
       "\t\t<dd><style>\n",
       ".list-inline {list-style: none; margin:0; padding: 0}\n",
       ".list-inline>li {display: inline-block}\n",
       ".list-inline>li:not(:last-child)::after {content: \"\\00b7\"; padding: 0 .5ex}\n",
       "</style>\n",
       "<ol class=list-inline><li>'ANKFN1'</li><li>'BRF1'</li><li>'CCNB1'</li><li>'CCNE1'</li><li>'CDC14A'</li><li>'CDC5L'</li><li>'CNTROB'</li><li>'DCTN1'</li><li>'DCTN3'</li><li>'DSCC1'</li><li>'FBXL17'</li><li>'GSPT1'</li><li>'HASPIN'</li><li>'HGF'</li><li>'OVOL1'</li><li>'PBRM1'</li><li>'PML'</li><li>'RAE1'</li><li>'SMC5'</li><li>'SPTBN1'</li><li>'TACC3'</li><li>'TAL1'</li><li>'TPR'</li><li>'TRIAP1'</li><li>'TUBB4B'</li><li>'VCPIP1'</li><li>'ZPR1'</li></ol>\n",
       "</dd>\n",
       "</dl>\n"
      ],
      "text/latex": [
       "\\begin{description}\n",
       "\\item[\\$`GO:0000003`] \\begin{enumerate*}\n",
       "\\item 'ALDOA'\n",
       "\\item 'ALKBH1'\n",
       "\\item 'ARID5B'\n",
       "\\item 'ATP2B2'\n",
       "\\item 'B4GALT1'\n",
       "\\item 'BRF1'\n",
       "\\item 'CACNA1H'\n",
       "\\item 'CCDC40'\n",
       "\\item 'CCNB1'\n",
       "\\item 'CCNE1'\n",
       "\\item 'CD9'\n",
       "\\item 'CFAP157'\n",
       "\\item 'CFAP54'\n",
       "\\item 'CYLC1'\n",
       "\\item 'EHMT2'\n",
       "\\item 'ESR1'\n",
       "\\item 'FAM170A'\n",
       "\\item 'FKBP6'\n",
       "\\item 'FOLR2'\n",
       "\\item 'FUT10'\n",
       "\\item 'GAMT'\n",
       "\\item 'HGF'\n",
       "\\item 'HYAL3'\n",
       "\\item 'IGFBP7'\n",
       "\\item 'LY6K'\n",
       "\\item 'MYCBPAP'\n",
       "\\item 'OAZ3'\n",
       "\\item 'OVOL1'\n",
       "\\item 'PCDH12'\n",
       "\\item 'QRICH2'\n",
       "\\item 'SIX5'\n",
       "\\item 'SLX4'\n",
       "\\item 'SPATA6L'\n",
       "\\item 'ST14'\n",
       "\\item 'STK11'\n",
       "\\item 'STK35'\n",
       "\\item 'TAC1'\n",
       "\\item 'TEKT2'\n",
       "\\item 'TLE6'\n",
       "\\item 'TMEM95'\n",
       "\\item 'TRIM27'\n",
       "\\item 'YBX2'\n",
       "\\end{enumerate*}\n",
       "\n",
       "\\item[\\$`GO:0000122`] \\begin{enumerate*}\n",
       "\\item 'ARID5B'\n",
       "\\item 'BARX2'\n",
       "\\item 'CCNE1'\n",
       "\\item 'CTBP1'\n",
       "\\item 'CUX2'\n",
       "\\item 'EHMT2'\n",
       "\\item 'ESR1'\n",
       "\\item 'GLIS3'\n",
       "\\item 'GRIP1'\n",
       "\\item 'HIF1AN'\n",
       "\\item 'HOPX'\n",
       "\\item 'HOXA7'\n",
       "\\item 'LMO1'\n",
       "\\item 'NR2F6'\n",
       "\\item 'OTUD7B'\n",
       "\\item 'OVOL1'\n",
       "\\item 'RTF1'\n",
       "\\item 'RUNX3'\n",
       "\\item 'SP100'\n",
       "\\item 'SPDEF'\n",
       "\\item 'SREBF1'\n",
       "\\item 'TAF1'\n",
       "\\item 'TAL1'\n",
       "\\item 'TGIF2'\n",
       "\\item 'TLE6'\n",
       "\\item 'TMPRSS6'\n",
       "\\item 'TPR'\n",
       "\\item 'TRIM27'\n",
       "\\item 'TRIM37'\n",
       "\\item 'WWC2'\n",
       "\\item 'WWTR1'\n",
       "\\item 'ZBTB45'\n",
       "\\item 'ZC3H8'\n",
       "\\item 'ZNF345'\n",
       "\\end{enumerate*}\n",
       "\n",
       "\\item[\\$`GO:0000165`] \\begin{enumerate*}\n",
       "\\item 'ADRB3'\n",
       "\\item 'BRF1'\n",
       "\\item 'CCL22'\n",
       "\\item 'CLEC7A'\n",
       "\\item 'COPS5'\n",
       "\\item 'FGD2'\n",
       "\\item 'FGF18'\n",
       "\\item 'FGF4'\n",
       "\\item 'HGF'\n",
       "\\item 'LILRA5'\n",
       "\\item 'MAP4K1'\n",
       "\\item 'NCF1'\n",
       "\\item 'NENF'\n",
       "\\item 'P2RY6'\n",
       "\\item 'PRDX2'\n",
       "\\item 'PRMT1'\n",
       "\\item 'RAP2A'\n",
       "\\item 'RB1CC1'\n",
       "\\item 'SERPINF2'\n",
       "\\item 'SLAMF1'\n",
       "\\item 'STYX'\n",
       "\\item 'TEK'\n",
       "\\item 'TNIP1'\n",
       "\\item 'WNK2'\n",
       "\\end{enumerate*}\n",
       "\n",
       "\\item[\\$`GO:0000226`] \\begin{enumerate*}\n",
       "\\item 'ANKFN1'\n",
       "\\item 'ARHGEF7'\n",
       "\\item 'ATF5'\n",
       "\\item 'CCDC40'\n",
       "\\item 'CCNB1'\n",
       "\\item 'CDC14A'\n",
       "\\item 'CFAP100'\n",
       "\\item 'CFAP157'\n",
       "\\item 'CNTROB'\n",
       "\\item 'DCLK2'\n",
       "\\item 'DCTN1'\n",
       "\\item 'DNAAF8'\n",
       "\\item 'DST'\n",
       "\\item 'GAS2L2'\n",
       "\\item 'RAE1'\n",
       "\\item 'TACC3'\n",
       "\\item 'TEKT2'\n",
       "\\item 'TLE6'\n",
       "\\item 'TPR'\n",
       "\\item 'TRAF3IP1'\n",
       "\\item 'TRIM37'\n",
       "\\item 'TUBB4B'\n",
       "\\item 'ZMYND10'\n",
       "\\item 'ZPR1'\n",
       "\\end{enumerate*}\n",
       "\n",
       "\\item[\\$`GO:0000278`] \\begin{enumerate*}\n",
       "\\item 'ANKFN1'\n",
       "\\item 'BRF1'\n",
       "\\item 'CCNB1'\n",
       "\\item 'CCNE1'\n",
       "\\item 'CDC14A'\n",
       "\\item 'CDC5L'\n",
       "\\item 'CNTROB'\n",
       "\\item 'DCTN1'\n",
       "\\item 'DCTN3'\n",
       "\\item 'DSCC1'\n",
       "\\item 'FBXL17'\n",
       "\\item 'GSPT1'\n",
       "\\item 'HASPIN'\n",
       "\\item 'HGF'\n",
       "\\item 'OVOL1'\n",
       "\\item 'PBRM1'\n",
       "\\item 'PML'\n",
       "\\item 'RAE1'\n",
       "\\item 'SMC5'\n",
       "\\item 'SPTBN1'\n",
       "\\item 'TACC3'\n",
       "\\item 'TAL1'\n",
       "\\item 'TPR'\n",
       "\\item 'TRIAP1'\n",
       "\\item 'TUBB4B'\n",
       "\\item 'VCPIP1'\n",
       "\\item 'ZPR1'\n",
       "\\end{enumerate*}\n",
       "\n",
       "\\end{description}\n"
      ],
      "text/markdown": [
       "$`GO:0000003`\n",
       ":   1. 'ALDOA'\n",
       "2. 'ALKBH1'\n",
       "3. 'ARID5B'\n",
       "4. 'ATP2B2'\n",
       "5. 'B4GALT1'\n",
       "6. 'BRF1'\n",
       "7. 'CACNA1H'\n",
       "8. 'CCDC40'\n",
       "9. 'CCNB1'\n",
       "10. 'CCNE1'\n",
       "11. 'CD9'\n",
       "12. 'CFAP157'\n",
       "13. 'CFAP54'\n",
       "14. 'CYLC1'\n",
       "15. 'EHMT2'\n",
       "16. 'ESR1'\n",
       "17. 'FAM170A'\n",
       "18. 'FKBP6'\n",
       "19. 'FOLR2'\n",
       "20. 'FUT10'\n",
       "21. 'GAMT'\n",
       "22. 'HGF'\n",
       "23. 'HYAL3'\n",
       "24. 'IGFBP7'\n",
       "25. 'LY6K'\n",
       "26. 'MYCBPAP'\n",
       "27. 'OAZ3'\n",
       "28. 'OVOL1'\n",
       "29. 'PCDH12'\n",
       "30. 'QRICH2'\n",
       "31. 'SIX5'\n",
       "32. 'SLX4'\n",
       "33. 'SPATA6L'\n",
       "34. 'ST14'\n",
       "35. 'STK11'\n",
       "36. 'STK35'\n",
       "37. 'TAC1'\n",
       "38. 'TEKT2'\n",
       "39. 'TLE6'\n",
       "40. 'TMEM95'\n",
       "41. 'TRIM27'\n",
       "42. 'YBX2'\n",
       "\n",
       "\n",
       "\n",
       "$`GO:0000122`\n",
       ":   1. 'ARID5B'\n",
       "2. 'BARX2'\n",
       "3. 'CCNE1'\n",
       "4. 'CTBP1'\n",
       "5. 'CUX2'\n",
       "6. 'EHMT2'\n",
       "7. 'ESR1'\n",
       "8. 'GLIS3'\n",
       "9. 'GRIP1'\n",
       "10. 'HIF1AN'\n",
       "11. 'HOPX'\n",
       "12. 'HOXA7'\n",
       "13. 'LMO1'\n",
       "14. 'NR2F6'\n",
       "15. 'OTUD7B'\n",
       "16. 'OVOL1'\n",
       "17. 'RTF1'\n",
       "18. 'RUNX3'\n",
       "19. 'SP100'\n",
       "20. 'SPDEF'\n",
       "21. 'SREBF1'\n",
       "22. 'TAF1'\n",
       "23. 'TAL1'\n",
       "24. 'TGIF2'\n",
       "25. 'TLE6'\n",
       "26. 'TMPRSS6'\n",
       "27. 'TPR'\n",
       "28. 'TRIM27'\n",
       "29. 'TRIM37'\n",
       "30. 'WWC2'\n",
       "31. 'WWTR1'\n",
       "32. 'ZBTB45'\n",
       "33. 'ZC3H8'\n",
       "34. 'ZNF345'\n",
       "\n",
       "\n",
       "\n",
       "$`GO:0000165`\n",
       ":   1. 'ADRB3'\n",
       "2. 'BRF1'\n",
       "3. 'CCL22'\n",
       "4. 'CLEC7A'\n",
       "5. 'COPS5'\n",
       "6. 'FGD2'\n",
       "7. 'FGF18'\n",
       "8. 'FGF4'\n",
       "9. 'HGF'\n",
       "10. 'LILRA5'\n",
       "11. 'MAP4K1'\n",
       "12. 'NCF1'\n",
       "13. 'NENF'\n",
       "14. 'P2RY6'\n",
       "15. 'PRDX2'\n",
       "16. 'PRMT1'\n",
       "17. 'RAP2A'\n",
       "18. 'RB1CC1'\n",
       "19. 'SERPINF2'\n",
       "20. 'SLAMF1'\n",
       "21. 'STYX'\n",
       "22. 'TEK'\n",
       "23. 'TNIP1'\n",
       "24. 'WNK2'\n",
       "\n",
       "\n",
       "\n",
       "$`GO:0000226`\n",
       ":   1. 'ANKFN1'\n",
       "2. 'ARHGEF7'\n",
       "3. 'ATF5'\n",
       "4. 'CCDC40'\n",
       "5. 'CCNB1'\n",
       "6. 'CDC14A'\n",
       "7. 'CFAP100'\n",
       "8. 'CFAP157'\n",
       "9. 'CNTROB'\n",
       "10. 'DCLK2'\n",
       "11. 'DCTN1'\n",
       "12. 'DNAAF8'\n",
       "13. 'DST'\n",
       "14. 'GAS2L2'\n",
       "15. 'RAE1'\n",
       "16. 'TACC3'\n",
       "17. 'TEKT2'\n",
       "18. 'TLE6'\n",
       "19. 'TPR'\n",
       "20. 'TRAF3IP1'\n",
       "21. 'TRIM37'\n",
       "22. 'TUBB4B'\n",
       "23. 'ZMYND10'\n",
       "24. 'ZPR1'\n",
       "\n",
       "\n",
       "\n",
       "$`GO:0000278`\n",
       ":   1. 'ANKFN1'\n",
       "2. 'BRF1'\n",
       "3. 'CCNB1'\n",
       "4. 'CCNE1'\n",
       "5. 'CDC14A'\n",
       "6. 'CDC5L'\n",
       "7. 'CNTROB'\n",
       "8. 'DCTN1'\n",
       "9. 'DCTN3'\n",
       "10. 'DSCC1'\n",
       "11. 'FBXL17'\n",
       "12. 'GSPT1'\n",
       "13. 'HASPIN'\n",
       "14. 'HGF'\n",
       "15. 'OVOL1'\n",
       "16. 'PBRM1'\n",
       "17. 'PML'\n",
       "18. 'RAE1'\n",
       "19. 'SMC5'\n",
       "20. 'SPTBN1'\n",
       "21. 'TACC3'\n",
       "22. 'TAL1'\n",
       "23. 'TPR'\n",
       "24. 'TRIAP1'\n",
       "25. 'TUBB4B'\n",
       "26. 'VCPIP1'\n",
       "27. 'ZPR1'\n",
       "\n",
       "\n",
       "\n",
       "\n",
       "\n"
      ],
      "text/plain": [
       "$`GO:0000003`\n",
       " [1] \"ALDOA\"   \"ALKBH1\"  \"ARID5B\"  \"ATP2B2\"  \"B4GALT1\" \"BRF1\"    \"CACNA1H\"\n",
       " [8] \"CCDC40\"  \"CCNB1\"   \"CCNE1\"   \"CD9\"     \"CFAP157\" \"CFAP54\"  \"CYLC1\"  \n",
       "[15] \"EHMT2\"   \"ESR1\"    \"FAM170A\" \"FKBP6\"   \"FOLR2\"   \"FUT10\"   \"GAMT\"   \n",
       "[22] \"HGF\"     \"HYAL3\"   \"IGFBP7\"  \"LY6K\"    \"MYCBPAP\" \"OAZ3\"    \"OVOL1\"  \n",
       "[29] \"PCDH12\"  \"QRICH2\"  \"SIX5\"    \"SLX4\"    \"SPATA6L\" \"ST14\"    \"STK11\"  \n",
       "[36] \"STK35\"   \"TAC1\"    \"TEKT2\"   \"TLE6\"    \"TMEM95\"  \"TRIM27\"  \"YBX2\"   \n",
       "\n",
       "$`GO:0000122`\n",
       " [1] \"ARID5B\"  \"BARX2\"   \"CCNE1\"   \"CTBP1\"   \"CUX2\"    \"EHMT2\"   \"ESR1\"   \n",
       " [8] \"GLIS3\"   \"GRIP1\"   \"HIF1AN\"  \"HOPX\"    \"HOXA7\"   \"LMO1\"    \"NR2F6\"  \n",
       "[15] \"OTUD7B\"  \"OVOL1\"   \"RTF1\"    \"RUNX3\"   \"SP100\"   \"SPDEF\"   \"SREBF1\" \n",
       "[22] \"TAF1\"    \"TAL1\"    \"TGIF2\"   \"TLE6\"    \"TMPRSS6\" \"TPR\"     \"TRIM27\" \n",
       "[29] \"TRIM37\"  \"WWC2\"    \"WWTR1\"   \"ZBTB45\"  \"ZC3H8\"   \"ZNF345\" \n",
       "\n",
       "$`GO:0000165`\n",
       " [1] \"ADRB3\"    \"BRF1\"     \"CCL22\"    \"CLEC7A\"   \"COPS5\"    \"FGD2\"    \n",
       " [7] \"FGF18\"    \"FGF4\"     \"HGF\"      \"LILRA5\"   \"MAP4K1\"   \"NCF1\"    \n",
       "[13] \"NENF\"     \"P2RY6\"    \"PRDX2\"    \"PRMT1\"    \"RAP2A\"    \"RB1CC1\"  \n",
       "[19] \"SERPINF2\" \"SLAMF1\"   \"STYX\"     \"TEK\"      \"TNIP1\"    \"WNK2\"    \n",
       "\n",
       "$`GO:0000226`\n",
       " [1] \"ANKFN1\"   \"ARHGEF7\"  \"ATF5\"     \"CCDC40\"   \"CCNB1\"    \"CDC14A\"  \n",
       " [7] \"CFAP100\"  \"CFAP157\"  \"CNTROB\"   \"DCLK2\"    \"DCTN1\"    \"DNAAF8\"  \n",
       "[13] \"DST\"      \"GAS2L2\"   \"RAE1\"     \"TACC3\"    \"TEKT2\"    \"TLE6\"    \n",
       "[19] \"TPR\"      \"TRAF3IP1\" \"TRIM37\"   \"TUBB4B\"   \"ZMYND10\"  \"ZPR1\"    \n",
       "\n",
       "$`GO:0000278`\n",
       " [1] \"ANKFN1\" \"BRF1\"   \"CCNB1\"  \"CCNE1\"  \"CDC14A\" \"CDC5L\"  \"CNTROB\" \"DCTN1\" \n",
       " [9] \"DCTN3\"  \"DSCC1\"  \"FBXL17\" \"GSPT1\"  \"HASPIN\" \"HGF\"    \"OVOL1\"  \"PBRM1\" \n",
       "[17] \"PML\"    \"RAE1\"   \"SMC5\"   \"SPTBN1\" \"TACC3\"  \"TAL1\"   \"TPR\"    \"TRIAP1\"\n",
       "[25] \"TUBB4B\" \"VCPIP1\" \"ZPR1\"  \n"
      ]
     },
     "metadata": {},
     "output_type": "display_data"
    }
   ],
   "source": [
    "allGO = genesInTerm(GOdata)\n",
    "allGO[1:5]"
   ]
  },
  {
   "cell_type": "markdown",
   "id": "55295b64",
   "metadata": {
    "collapsed": false
   },
   "source": [
    "Now, we already had GO terms with genes. However, we still do not know the meaning of GO terms related to biological process. We can use `GO.db` database to get a set of annotation maps describing the entire Gene Ontology assembled using data from GO. We can use the following code to install the `GO.db` R package."
   ]
  },
  {
   "cell_type": "code",
   "execution_count": 57,
   "id": "361b83cd",
   "metadata": {
    "collapsed": false
   },
   "outputs": [],
   "source": [
    "suppressMessages({if (!require(\"BiocManager\", quietly = TRUE))\n",
    "    install.packages(\"BiocManager\")\n",
    "  suppressWarnings(BiocManager::install(\"GO.db\", update = F))\n",
    "})\n",
    "library(GO.db)"
   ]
  },
  {
   "cell_type": "markdown",
   "id": "f01b28a2",
   "metadata": {
    "collapsed": false
   },
   "source": [
    "Then, we can use the following command to obtain the GO terms description."
   ]
  },
  {
   "cell_type": "code",
   "execution_count": null,
   "id": "30fe9f72",
   "metadata": {
    "collapsed": false
   },
   "outputs": [],
   "source": [
    "terms <- names(allGO)\n",
    "descriptions <-lapply(Term(terms), `[[`, 1)"
   ]
  },
  {
   "cell_type": "code",
   "execution_count": 1,
   "id": "4ff97423",
   "metadata": {
    "collapsed": false
   },
   "outputs": [
    {
     "data": {
      "text/html": [
       "<style>\n",
       ".list-inline {list-style: none; margin:0; padding: 0}\n",
       ".list-inline>li {display: inline-block}\n",
       ".list-inline>li:not(:last-child)::after {content: \"\\00b7\"; padding: 0 .5ex}\n",
       "</style>\n",
       "<ol class=list-inline><li>'C:/Users/bangt/AppData/Local/R/win-library/4.2'</li><li>'C:/Users/bangt/anaconda3/envs/NOSI/Lib/R/library'</li></ol>\n"
      ],
      "text/latex": [
       "\\begin{enumerate*}\n",
       "\\item 'C:/Users/bangt/AppData/Local/R/win-library/4.2'\n",
       "\\item 'C:/Users/bangt/anaconda3/envs/NOSI/Lib/R/library'\n",
       "\\end{enumerate*}\n"
      ],
      "text/markdown": [
       "1. 'C:/Users/bangt/AppData/Local/R/win-library/4.2'\n",
       "2. 'C:/Users/bangt/anaconda3/envs/NOSI/Lib/R/library'\n",
       "\n",
       "\n"
      ],
      "text/plain": [
       "[1] \"C:/Users/bangt/AppData/Local/R/win-library/4.2\"  \n",
       "[2] \"C:/Users/bangt/anaconda3/envs/NOSI/Lib/R/library\""
      ]
     },
     "metadata": {},
     "output_type": "display_data"
    }
   ],
   "source": [
    ".libPaths()"
   ]
  },
  {
   "cell_type": "markdown",
   "id": "912616ea",
   "metadata": {
    "collapsed": false
   },
   "source": [
    "In order to perform enrichment analysis in later module, we need to save the GO terms and genesets to the standard output. One commonly used format is Gene Matrix Transposed file format *(\\*.gmt)*. The GMT file format is a tab delimited file format that describes gene sets. In the GMT format, each row represents a gene set; in the GMX format, each column represents a gene set. Here, we can save GO terms and genesets to the *\\*.gmt* using the following function:"
   ]
  },
  {
   "cell_type": "code",
   "execution_count": 55,
   "id": "bff28d52",
   "metadata": {
    "collapsed": false
   },
   "outputs": [],
   "source": [
    "writeGMT <- function(genesets, descriptions, outfile) {\n",
    "\n",
    "  if (file.exists(outfile)) {\n",
    "    file.remove(outfile)\n",
    "  }\n",
    "  for (gs in names(genesets)) {\n",
    "    write(c(gs, gsub(\"\\t\", \" \", descriptions[[gs]]), genesets[[gs]]), file=outfile, sep=\"\\t\", append=TRUE, ncolumns=length(genesets[[gs]]) + 2)\n",
    "  }\n",
    "}\n",
    "outfile <- \"./data/GO_terms.gmt\"\n",
    "writeGMT(allGO, descriptions, outfile)"
   ]
  },
  {
   "cell_type": "markdown",
   "id": "b1da82e4",
   "metadata": {
    "collapsed": false
   },
   "source": [
    "## Kyoto Encyclopedia of Genes and Genomes (KEGG)\n",
    "### Overview\n",
    "KEGG is a collection of databases dealing with genomes, biological pathways, diseases, drugs, and chemical substances. KEGG is utilized for bioinformatics research and education, including data analysis in genomics, metagenomics, metabolomics and other omics studies, modeling and simulation in systems biology, and translational research in drug development. The KEGG database project was initiated in 1995 by Minoru Kanehisa, professor at the Institute for Chemical Research, Kyoto University, under the then ongoing Japanese Human Genome Program. Foreseeing the need for a computerized resource that can be used for biological interpretation of genome sequence data, he started developing the KEGG PATHWAY database. It is a collection of manually drawn KEGG pathway maps representing experimental knowledge on metabolism and various other functions of the cell and the organism. Each pathway map contains a network of molecular interactions and reactions and is designed to link genes in the genome to gene products (mostly proteins) in the pathway. This has enabled the analysis called KEGG pathway mapping, whereby the gene content in the genome is compared with the KEGG PATHWAY database to examine which pathways and associated functions are likely to be encoded in the genome. KEGG is a \"computer representation\" of the biological system. It integrates building blocks and wiring diagrams of the system—more specifically, genetic building blocks of genes and proteins, chemical building blocks of small molecules and reactions, and wiring diagrams of molecular interaction and reaction networks. The illustrative structure of KEGG is presented as figure below.\n",
    "![](./images/Module3/KEGG.jpg)\n"
   ]
  },
  {
   "cell_type": "markdown",
   "id": "d00c52b1",
   "metadata": {
    "collapsed": false
   },
   "source": [
    "### Retrieving pathways from KEGG databases\n",
    "In this section, we will retrieve pathways and related gensets from the KEGG database using R command line. Here we will use `KEGGREST` R package that provides a client interface to the KEGG REST server. `KEGGREST` can be installed from the Bioconductor using following command."
   ]
  },
  {
   "cell_type": "code",
   "execution_count": 1,
   "id": "8f3164be",
   "metadata": {
    "collapsed": false
   },
   "outputs": [],
   "source": [
    "suppressMessages({if (!require(\"BiocManager\", quietly = TRUE))\n",
    "    install.packages(\"BiocManager\")\n",
    "  suppressWarnings(BiocManager::install(\"KEGGREST\", update = F))\n",
    "})\n",
    "suppressPackageStartupMessages({\n",
    "  library(KEGGREST)\n",
    "})"
   ]
  },
  {
   "cell_type": "code",
   "execution_count": 2,
   "id": "822b5681",
   "metadata": {
    "collapsed": false
   },
   "outputs": [],
   "source": [
    "library(KEGGREST)"
   ]
  },
  {
   "cell_type": "markdown",
   "id": "e9496a8c",
   "metadata": {
    "collapsed": false
   },
   "source": [
    "KEGG exposes a number of databases. To get an idea of what is available, run `listDatabases()`:"
   ]
  },
  {
   "cell_type": "code",
   "execution_count": 3,
   "id": "61d9c651",
   "metadata": {
    "collapsed": false
   },
   "outputs": [
    {
     "data": {
      "text/html": [
       "<style>\n",
       ".list-inline {list-style: none; margin:0; padding: 0}\n",
       ".list-inline>li {display: inline-block}\n",
       ".list-inline>li:not(:last-child)::after {content: \"\\00b7\"; padding: 0 .5ex}\n",
       "</style>\n",
       "<ol class=list-inline><li>'pathway'</li><li>'brite'</li><li>'module'</li><li>'ko'</li><li>'genome'</li><li>'vg'</li><li>'ag'</li><li>'compound'</li><li>'glycan'</li><li>'reaction'</li><li>'rclass'</li><li>'enzyme'</li><li>'disease'</li><li>'drug'</li><li>'dgroup'</li><li>'environ'</li><li>'genes'</li><li>'ligand'</li><li>'kegg'</li></ol>\n"
      ],
      "text/latex": [
       "\\begin{enumerate*}\n",
       "\\item 'pathway'\n",
       "\\item 'brite'\n",
       "\\item 'module'\n",
       "\\item 'ko'\n",
       "\\item 'genome'\n",
       "\\item 'vg'\n",
       "\\item 'ag'\n",
       "\\item 'compound'\n",
       "\\item 'glycan'\n",
       "\\item 'reaction'\n",
       "\\item 'rclass'\n",
       "\\item 'enzyme'\n",
       "\\item 'disease'\n",
       "\\item 'drug'\n",
       "\\item 'dgroup'\n",
       "\\item 'environ'\n",
       "\\item 'genes'\n",
       "\\item 'ligand'\n",
       "\\item 'kegg'\n",
       "\\end{enumerate*}\n"
      ],
      "text/markdown": [
       "1. 'pathway'\n",
       "2. 'brite'\n",
       "3. 'module'\n",
       "4. 'ko'\n",
       "5. 'genome'\n",
       "6. 'vg'\n",
       "7. 'ag'\n",
       "8. 'compound'\n",
       "9. 'glycan'\n",
       "10. 'reaction'\n",
       "11. 'rclass'\n",
       "12. 'enzyme'\n",
       "13. 'disease'\n",
       "14. 'drug'\n",
       "15. 'dgroup'\n",
       "16. 'environ'\n",
       "17. 'genes'\n",
       "18. 'ligand'\n",
       "19. 'kegg'\n",
       "\n",
       "\n"
      ],
      "text/plain": [
       " [1] \"pathway\"  \"brite\"    \"module\"   \"ko\"       \"genome\"   \"vg\"      \n",
       " [7] \"ag\"       \"compound\" \"glycan\"   \"reaction\" \"rclass\"   \"enzyme\"  \n",
       "[13] \"disease\"  \"drug\"     \"dgroup\"   \"environ\"  \"genes\"    \"ligand\"  \n",
       "[19] \"kegg\"    "
      ]
     },
     "metadata": {},
     "output_type": "display_data"
    }
   ],
   "source": [
    "KEGGREST::listDatabases()"
   ]
  },
  {
   "cell_type": "markdown",
   "id": "bcdfefbb",
   "metadata": {
    "collapsed": false
   },
   "source": [
    "We can use these databases in further queries. Note that in many cases you can also use a three-letter KEGG organism code or a “T number” (genome identifier) in the same place you would use one of these database names.\n",
    "\n",
    "We can obtain the list of organisms available in KEGG with the `keggList()` function:"
   ]
  },
  {
   "cell_type": "code",
   "execution_count": 4,
   "id": "26a384a6",
   "metadata": {
    "collapsed": false
   },
   "outputs": [],
   "source": [
    "organism <- keggList(\"organism\")"
   ]
  },
  {
   "cell_type": "code",
   "execution_count": 5,
   "id": "8cc99ce6",
   "metadata": {
    "collapsed": false
   },
   "outputs": [
    {
     "name": "stdout",
     "output_type": "stream",
     "text": [
      "[1] \"KEGG supports 8361 organisms\"\n"
     ]
    }
   ],
   "source": [
    "print(paste0(\"KEGG supports \",dim(organism)[1],\" organisms\"))"
   ]
  },
  {
   "cell_type": "markdown",
   "id": "ef6071a0",
   "metadata": {
    "collapsed": false
   },
   "source": [
    "To view the supported organism we can use the following command:"
   ]
  },
  {
   "cell_type": "code",
   "execution_count": 20,
   "id": "679b50e8",
   "metadata": {
    "collapsed": false
   },
   "outputs": [
    {
     "data": {
      "text/html": [
       "<table class=\"dataframe\">\n",
       "<caption>A matrix: 6 × 4 of type chr</caption>\n",
       "<thead>\n",
       "\t<tr><th scope=col>T.number</th><th scope=col>organism</th><th scope=col>species</th><th scope=col>phylogeny</th></tr>\n",
       "</thead>\n",
       "<tbody>\n",
       "\t<tr><td>T01001</td><td>hsa</td><td>Homo sapiens (human)                               </td><td>Eukaryotes;Animals;Vertebrates;Mammals</td></tr>\n",
       "\t<tr><td>T01005</td><td>ptr</td><td>Pan troglodytes (chimpanzee)                       </td><td>Eukaryotes;Animals;Vertebrates;Mammals</td></tr>\n",
       "\t<tr><td>T02283</td><td>pps</td><td>Pan paniscus (bonobo)                              </td><td>Eukaryotes;Animals;Vertebrates;Mammals</td></tr>\n",
       "\t<tr><td>T02442</td><td>ggo</td><td>Gorilla gorilla gorilla (western lowland gorilla)  </td><td>Eukaryotes;Animals;Vertebrates;Mammals</td></tr>\n",
       "\t<tr><td>T01416</td><td>pon</td><td>Pongo abelii (Sumatran orangutan)                  </td><td>Eukaryotes;Animals;Vertebrates;Mammals</td></tr>\n",
       "\t<tr><td>T03265</td><td>nle</td><td>Nomascus leucogenys (northern white-cheeked gibbon)</td><td>Eukaryotes;Animals;Vertebrates;Mammals</td></tr>\n",
       "</tbody>\n",
       "</table>\n"
      ],
      "text/latex": [
       "A matrix: 6 × 4 of type chr\n",
       "\\begin{tabular}{llll}\n",
       " T.number & organism & species & phylogeny\\\\\n",
       "\\hline\n",
       "\t T01001 & hsa & Homo sapiens (human)                                & Eukaryotes;Animals;Vertebrates;Mammals\\\\\n",
       "\t T01005 & ptr & Pan troglodytes (chimpanzee)                        & Eukaryotes;Animals;Vertebrates;Mammals\\\\\n",
       "\t T02283 & pps & Pan paniscus (bonobo)                               & Eukaryotes;Animals;Vertebrates;Mammals\\\\\n",
       "\t T02442 & ggo & Gorilla gorilla gorilla (western lowland gorilla)   & Eukaryotes;Animals;Vertebrates;Mammals\\\\\n",
       "\t T01416 & pon & Pongo abelii (Sumatran orangutan)                   & Eukaryotes;Animals;Vertebrates;Mammals\\\\\n",
       "\t T03265 & nle & Nomascus leucogenys (northern white-cheeked gibbon) & Eukaryotes;Animals;Vertebrates;Mammals\\\\\n",
       "\\end{tabular}\n"
      ],
      "text/markdown": [
       "\n",
       "A matrix: 6 × 4 of type chr\n",
       "\n",
       "| T.number | organism | species | phylogeny |\n",
       "|---|---|---|---|\n",
       "| T01001 | hsa | Homo sapiens (human)                                | Eukaryotes;Animals;Vertebrates;Mammals |\n",
       "| T01005 | ptr | Pan troglodytes (chimpanzee)                        | Eukaryotes;Animals;Vertebrates;Mammals |\n",
       "| T02283 | pps | Pan paniscus (bonobo)                               | Eukaryotes;Animals;Vertebrates;Mammals |\n",
       "| T02442 | ggo | Gorilla gorilla gorilla (western lowland gorilla)   | Eukaryotes;Animals;Vertebrates;Mammals |\n",
       "| T01416 | pon | Pongo abelii (Sumatran orangutan)                   | Eukaryotes;Animals;Vertebrates;Mammals |\n",
       "| T03265 | nle | Nomascus leucogenys (northern white-cheeked gibbon) | Eukaryotes;Animals;Vertebrates;Mammals |\n",
       "\n"
      ],
      "text/plain": [
       "     T.number organism species                                            \n",
       "[1,] T01001   hsa      Homo sapiens (human)                               \n",
       "[2,] T01005   ptr      Pan troglodytes (chimpanzee)                       \n",
       "[3,] T02283   pps      Pan paniscus (bonobo)                              \n",
       "[4,] T02442   ggo      Gorilla gorilla gorilla (western lowland gorilla)  \n",
       "[5,] T01416   pon      Pongo abelii (Sumatran orangutan)                  \n",
       "[6,] T03265   nle      Nomascus leucogenys (northern white-cheeked gibbon)\n",
       "     phylogeny                             \n",
       "[1,] Eukaryotes;Animals;Vertebrates;Mammals\n",
       "[2,] Eukaryotes;Animals;Vertebrates;Mammals\n",
       "[3,] Eukaryotes;Animals;Vertebrates;Mammals\n",
       "[4,] Eukaryotes;Animals;Vertebrates;Mammals\n",
       "[5,] Eukaryotes;Animals;Vertebrates;Mammals\n",
       "[6,] Eukaryotes;Animals;Vertebrates;Mammals"
      ]
     },
     "metadata": {},
     "output_type": "display_data"
    }
   ],
   "source": [
    "head(organism)"
   ]
  },
  {
   "cell_type": "markdown",
   "id": "7bcc7426",
   "metadata": {
    "collapsed": false
   },
   "source": [
    "In the Module 02, we performed DE analysis on human dataset. Therefore, we need to download pathways for human, the abbreviation of human pathway in KEGG is `hsa` and we can use `keggList` function to get the pathway list."
   ]
  },
  {
   "cell_type": "code",
   "execution_count": 8,
   "id": "3563f859",
   "metadata": {
    "collapsed": false
   },
   "outputs": [
    {
     "data": {
      "text/html": [
       "<style>\n",
       ".dl-inline {width: auto; margin:0; padding: 0}\n",
       ".dl-inline>dt, .dl-inline>dd {float: none; width: auto; display: inline-block}\n",
       ".dl-inline>dt::after {content: \":\\0020\"; padding-right: .5ex}\n",
       ".dl-inline>dt:not(:first-of-type) {padding-left: .5ex}\n",
       "</style><dl class=dl-inline><dt>path:hsa00010</dt><dd>'Glycolysis / Gluconeogenesis - Homo sapiens (human)'</dd><dt>path:hsa00020</dt><dd>'Citrate cycle (TCA cycle) - Homo sapiens (human)'</dd><dt>path:hsa00030</dt><dd>'Pentose phosphate pathway - Homo sapiens (human)'</dd><dt>path:hsa00040</dt><dd>'Pentose and glucuronate interconversions - Homo sapiens (human)'</dd><dt>path:hsa00051</dt><dd>'Fructose and mannose metabolism - Homo sapiens (human)'</dd></dl>\n"
      ],
      "text/latex": [
       "\\begin{description*}\n",
       "\\item[path:hsa00010] 'Glycolysis / Gluconeogenesis - Homo sapiens (human)'\n",
       "\\item[path:hsa00020] 'Citrate cycle (TCA cycle) - Homo sapiens (human)'\n",
       "\\item[path:hsa00030] 'Pentose phosphate pathway - Homo sapiens (human)'\n",
       "\\item[path:hsa00040] 'Pentose and glucuronate interconversions - Homo sapiens (human)'\n",
       "\\item[path:hsa00051] 'Fructose and mannose metabolism - Homo sapiens (human)'\n",
       "\\end{description*}\n"
      ],
      "text/markdown": [
       "path:hsa00010\n",
       ":   'Glycolysis / Gluconeogenesis - Homo sapiens (human)'path:hsa00020\n",
       ":   'Citrate cycle (TCA cycle) - Homo sapiens (human)'path:hsa00030\n",
       ":   'Pentose phosphate pathway - Homo sapiens (human)'path:hsa00040\n",
       ":   'Pentose and glucuronate interconversions - Homo sapiens (human)'path:hsa00051\n",
       ":   'Fructose and mannose metabolism - Homo sapiens (human)'\n",
       "\n"
      ],
      "text/plain": [
       "                                                    path:hsa00010 \n",
       "            \"Glycolysis / Gluconeogenesis - Homo sapiens (human)\" \n",
       "                                                    path:hsa00020 \n",
       "               \"Citrate cycle (TCA cycle) - Homo sapiens (human)\" \n",
       "                                                    path:hsa00030 \n",
       "               \"Pentose phosphate pathway - Homo sapiens (human)\" \n",
       "                                                    path:hsa00040 \n",
       "\"Pentose and glucuronate interconversions - Homo sapiens (human)\" \n",
       "                                                    path:hsa00051 \n",
       "         \"Fructose and mannose metabolism - Homo sapiens (human)\" "
      ]
     },
     "metadata": {},
     "output_type": "display_data"
    }
   ],
   "source": [
    "pathways.list <- keggList(\"pathway\", \"hsa\")"
   ]
  },
  {
   "cell_type": "markdown",
   "id": "b347e38f",
   "metadata": {
    "collapsed": false
   },
   "source": [
    "The pathway list contains pathway description and pathway code in a single line of text. To see the first five pathways, we can use the following command:"
   ]
  },
  {
   "cell_type": "code",
   "execution_count": 12,
   "id": "0cc631bc",
   "metadata": {
    "collapsed": false
   },
   "outputs": [
    {
     "data": {
      "text/html": [
       "<style>\n",
       ".dl-inline {width: auto; margin:0; padding: 0}\n",
       ".dl-inline>dt, .dl-inline>dd {float: none; width: auto; display: inline-block}\n",
       ".dl-inline>dt::after {content: \":\\0020\"; padding-right: .5ex}\n",
       ".dl-inline>dt:not(:first-of-type) {padding-left: .5ex}\n",
       "</style><dl class=dl-inline><dt>path:hsa00010</dt><dd>'Glycolysis / Gluconeogenesis - Homo sapiens (human)'</dd><dt>path:hsa00020</dt><dd>'Citrate cycle (TCA cycle) - Homo sapiens (human)'</dd><dt>path:hsa00030</dt><dd>'Pentose phosphate pathway - Homo sapiens (human)'</dd><dt>path:hsa00040</dt><dd>'Pentose and glucuronate interconversions - Homo sapiens (human)'</dd><dt>path:hsa00051</dt><dd>'Fructose and mannose metabolism - Homo sapiens (human)'</dd></dl>\n"
      ],
      "text/latex": [
       "\\begin{description*}\n",
       "\\item[path:hsa00010] 'Glycolysis / Gluconeogenesis - Homo sapiens (human)'\n",
       "\\item[path:hsa00020] 'Citrate cycle (TCA cycle) - Homo sapiens (human)'\n",
       "\\item[path:hsa00030] 'Pentose phosphate pathway - Homo sapiens (human)'\n",
       "\\item[path:hsa00040] 'Pentose and glucuronate interconversions - Homo sapiens (human)'\n",
       "\\item[path:hsa00051] 'Fructose and mannose metabolism - Homo sapiens (human)'\n",
       "\\end{description*}\n"
      ],
      "text/markdown": [
       "path:hsa00010\n",
       ":   'Glycolysis / Gluconeogenesis - Homo sapiens (human)'path:hsa00020\n",
       ":   'Citrate cycle (TCA cycle) - Homo sapiens (human)'path:hsa00030\n",
       ":   'Pentose phosphate pathway - Homo sapiens (human)'path:hsa00040\n",
       ":   'Pentose and glucuronate interconversions - Homo sapiens (human)'path:hsa00051\n",
       ":   'Fructose and mannose metabolism - Homo sapiens (human)'\n",
       "\n"
      ],
      "text/plain": [
       "                                                    path:hsa00010 \n",
       "            \"Glycolysis / Gluconeogenesis - Homo sapiens (human)\" \n",
       "                                                    path:hsa00020 \n",
       "               \"Citrate cycle (TCA cycle) - Homo sapiens (human)\" \n",
       "                                                    path:hsa00030 \n",
       "               \"Pentose phosphate pathway - Homo sapiens (human)\" \n",
       "                                                    path:hsa00040 \n",
       "\"Pentose and glucuronate interconversions - Homo sapiens (human)\" \n",
       "                                                    path:hsa00051 \n",
       "         \"Fructose and mannose metabolism - Homo sapiens (human)\" "
      ]
     },
     "metadata": {},
     "output_type": "display_data"
    }
   ],
   "source": [
    "pathways.list[1:5]"
   ]
  },
  {
   "cell_type": "markdown",
   "id": "3fc6b2df",
   "metadata": {
    "collapsed": false
   },
   "source": [
    "We can see that, in each line, the text in the quotation mark contain pathway information while the later part cotains pathway code leading by a prefix `path:`. To get  pathway codes from the pathway list, we can use the following command:"
   ]
  },
  {
   "cell_type": "code",
   "execution_count": 14,
   "id": "b68205b3",
   "metadata": {
    "collapsed": false
   },
   "outputs": [],
   "source": [
    "pathway.codes <- sub(\"path:\", \"\", names(pathways.list))"
   ]
  },
  {
   "cell_type": "markdown",
   "id": "5bbda6a7",
   "metadata": {
    "collapsed": false
   },
   "source": [
    "We can use the following command to check how many pathways are available for human"
   ]
  },
  {
   "cell_type": "code",
   "execution_count": 18,
   "id": "972061f8",
   "metadata": {
    "collapsed": false
   },
   "outputs": [
    {
     "name": "stdout",
     "output_type": "stream",
     "text": [
      "[1] \"Number of available pathways for human are: 347\"\n"
     ]
    }
   ],
   "source": [
    "print(paste0(\"Number of available pathways for human are: \", length(pathway.codes)))"
   ]
  },
  {
   "cell_type": "markdown",
   "id": "91a67eba",
   "metadata": {
    "collapsed": false
   },
   "source": [
    "The following code will help to get list of genes and pathway's description for all pathways available in human."
   ]
  },
  {
   "cell_type": "code",
   "execution_count": 19,
   "id": "eb0de6cb",
   "metadata": {
    "collapsed": false
   },
   "outputs": [],
   "source": [
    "genes.by.pathway <- sapply(pathway.codes,\n",
    "                            function(pwid){\n",
    "                              pw <- keggGet(pwid)\n",
    "                              if (is.null(pw[[1]]$GENE)) return(NA)\n",
    "                              pw2 <- pw[[1]]$GENE[2]\n",
    "                              pw2 <- unlist(lapply(strsplit(pw2, split = \";\", fixed = T), function(x)x[1]))\n",
    "                              return(pw2)\n",
    "                            }\n",
    ")\n",
    "\n",
    " description.by.pathway <- sapply(pathway.codes,\n",
    "                                  function(pwid){\n",
    "                                    pw <- keggGet(pwid)\n",
    "                                    if (is.null(pw[[1]]$NAME)) return(NA)\n",
    "                                    pw2 <- pw[[1]]$NAME\n",
    "                                    return(pw2)\n",
    "                                  }\n",
    " )\n",
    " description.by.pathway <- as.list(description.by.pathway)"
   ]
  },
  {
   "cell_type": "markdown",
   "id": "ff58fa0f",
   "metadata": {
    "collapsed": false
   },
   "source": [
    "Then we can save the output to *\\*.gmt* file using the following commands"
   ]
  },
  {
   "cell_type": "code",
   "execution_count": null,
   "id": "4cc91268",
   "metadata": {
    "collapsed": false
   },
   "outputs": [],
   "source": [
    "outfile <- \"./data/KEGG_pathways.gmt\"\n",
    "writeGMT(genes.by.pathway, description.by.pathway, outfile)"
   ]
  },
  {
   "cell_type": "markdown",
   "id": "ac6c6d26",
   "metadata": {
    "collapsed": false
   },
   "source": [
    "To load the GMT file for enrichment analysis, we can use `GSA.read.gmt` function available in the `GSA` R package. Here is the code to install the package and load the GMT file."
   ]
  },
  {
   "cell_type": "code",
   "execution_count": 22,
   "id": "645957ed",
   "metadata": {
    "collapsed": false
   },
   "outputs": [],
   "source": [
    "suppressMessages({\n",
    "  suppressWarnings(install.packages(\"GSA\"))\n",
    "  suppressPackageStartupMessages({\n",
    "  suppressWarnings(library(GSA))\n",
    "})\n",
    "})"
   ]
  },
  {
   "cell_type": "code",
   "execution_count": 23,
   "id": "0476363d",
   "metadata": {
    "collapsed": false
   },
   "outputs": [],
   "source": [
    "# Load the GMT file from disk, we use \"invisible\" function to supress the excessive\n",
    "# output message from the \"GSA.read.gmt\" function\n",
    "invisible(capture.output(pathways <- GSA::GSA.read.gmt(\"./data/KEGG_pathways.gmt\")))"
   ]
  },
  {
   "cell_type": "code",
   "execution_count": 24,
   "id": "26c5e089",
   "metadata": {
    "collapsed": false
   },
   "outputs": [
    {
     "data": {
      "text/html": [
       "<ol>\n",
       "\t<li><style>\n",
       ".list-inline {list-style: none; margin:0; padding: 0}\n",
       ".list-inline>li {display: inline-block}\n",
       ".list-inline>li:not(:last-child)::after {content: \"\\00b7\"; padding: 0 .5ex}\n",
       "</style>\n",
       "<ol class=list-inline><li>'HK3'</li><li>'HK1'</li><li>'HK2'</li><li>'HKDC1'</li><li>'GCK'</li><li>'GPI'</li><li>'PFKM'</li><li>'PFKP'</li><li>'PFKL'</li><li>'FBP1'</li><li>'FBP2'</li><li>'ALDOC'</li><li>'ALDOA'</li><li>'ALDOB'</li><li>'TPI1'</li><li>'GAPDH'</li><li>'GAPDHS'</li><li>'PGK2'</li><li>'PGK1'</li><li>'PGAM1'</li><li>'PGAM2'</li><li>'PGAM4'</li><li>'ENO3'</li><li>'ENO2'</li><li>'ENO1'</li><li>'ENO4'</li><li>'PKM'</li><li>'PKLR'</li><li>'PDHA2'</li><li>'PDHA1'</li><li>'PDHB'</li><li>'DLAT'</li><li>'DLD'</li><li>'LDHAL6A'</li><li>'LDHAL6B'</li><li>'LDHA'</li><li>'LDHB'</li><li>'LDHC'</li><li>'ADH1A'</li><li>'ADH1B'</li><li>'ADH1C'</li><li>'ADH7'</li><li>'ADH4'</li><li>'ADH5'</li><li>'ADH6'</li><li>'AKR1A1'</li><li>'ALDH2'</li><li>'ALDH3A2'</li><li>'ALDH1B1'</li><li>'ALDH7A1'</li><li>'ALDH9A1'</li><li>'ALDH3B1'</li><li>'ALDH3B2'</li><li>'ALDH3A1'</li><li>'ACSS1'</li><li>'ACSS2'</li><li>'GALM'</li><li>'PGM1'</li><li>'PGM2'</li><li>'G6PC1'</li><li>'G6PC2'</li><li>'G6PC3'</li><li>'ADPGK'</li><li>'BPGM'</li><li>'MINPP1'</li><li>'PCK1'</li><li>'PCK2'</li></ol>\n",
       "</li>\n",
       "\t<li><style>\n",
       ".list-inline {list-style: none; margin:0; padding: 0}\n",
       ".list-inline>li {display: inline-block}\n",
       ".list-inline>li:not(:last-child)::after {content: \"\\00b7\"; padding: 0 .5ex}\n",
       "</style>\n",
       "<ol class=list-inline><li>'CS'</li><li>'ACLY'</li><li>'ACO2'</li><li>'ACO1'</li><li>'IDH1'</li><li>'IDH2'</li><li>'IDH3B'</li><li>'IDH3G'</li><li>'IDH3A'</li><li>'OGDHL'</li><li>'OGDH'</li><li>'DLST'</li><li>'DLD'</li><li>'SUCLG1'</li><li>'SUCLG2'</li><li>'SUCLA2'</li><li>'SDHA'</li><li>'SDHB'</li><li>'SDHC'</li><li>'SDHD'</li><li>'FH'</li><li>'MDH1'</li><li>'MDH2'</li><li>'PC'</li><li>'PCK1'</li><li>'PCK2'</li><li>'PDHA2'</li><li>'PDHA1'</li><li>'PDHB'</li><li>'DLAT'</li></ol>\n",
       "</li>\n",
       "\t<li><style>\n",
       ".list-inline {list-style: none; margin:0; padding: 0}\n",
       ".list-inline>li {display: inline-block}\n",
       ".list-inline>li:not(:last-child)::after {content: \"\\00b7\"; padding: 0 .5ex}\n",
       "</style>\n",
       "<ol class=list-inline><li>'GPI'</li><li>'G6PD'</li><li>'PGLS'</li><li>'H6PD'</li><li>'PGD'</li><li>'RPE'</li><li>'RPEL1'</li><li>'TKT'</li><li>'TKTL2'</li><li>'TKTL1'</li><li>'TALDO1'</li><li>'RPIA'</li><li>'DERA'</li><li>'RBKS'</li><li>'PGM1'</li><li>'PGM2'</li><li>'PRPS1L1'</li><li>'PRPS2'</li><li>'PRPS1'</li><li>'RGN'</li><li>'IDNK'</li><li>'GLYCTK'</li><li>'ALDOC'</li><li>'ALDOA'</li><li>'ALDOB'</li><li>'FBP1'</li><li>'FBP2'</li><li>'PFKM'</li><li>'PFKP'</li><li>'PFKL'</li></ol>\n",
       "</li>\n",
       "\t<li><style>\n",
       ".list-inline {list-style: none; margin:0; padding: 0}\n",
       ".list-inline>li {display: inline-block}\n",
       ".list-inline>li:not(:last-child)::after {content: \"\\00b7\"; padding: 0 .5ex}\n",
       "</style>\n",
       "<ol class=list-inline><li>'GUSB'</li><li>'KL'</li><li>'UGT2A1'</li><li>'UGT2A3'</li><li>'UGT2B17'</li><li>'UGT2B11'</li><li>'UGT2B28'</li><li>'UGT1A6'</li><li>'UGT1A4'</li><li>'UGT1A1'</li><li>'UGT1A3'</li><li>'UGT2B10'</li><li>'UGT1A9'</li><li>'UGT2B7'</li><li>'UGT1A10'</li><li>'UGT1A8'</li><li>'UGT1A5'</li><li>'UGT2B15'</li><li>'UGT1A7'</li><li>'UGT2B4'</li><li>'UGT2A2'</li><li>'UGDH'</li><li>'UGP2'</li><li>'AKR1A1'</li><li>'CRYL1'</li><li>'RPE'</li><li>'RPEL1'</li><li>'XYLB'</li><li>'AKR1B1'</li><li>'AKR1B10'</li><li>'DCXR'</li><li>'SORD'</li><li>'DHDH'</li><li>'FGGY'</li><li>'CRPPA'</li></ol>\n",
       "</li>\n",
       "\t<li><style>\n",
       ".list-inline {list-style: none; margin:0; padding: 0}\n",
       ".list-inline>li {display: inline-block}\n",
       ".list-inline>li:not(:last-child)::after {content: \"\\00b7\"; padding: 0 .5ex}\n",
       "</style>\n",
       "<ol class=list-inline><li>'MPI'</li><li>'PMM2'</li><li>'PMM1'</li><li>'GMPPB'</li><li>'GMPPA'</li><li>'GMDS'</li><li>'GFUS'</li><li>'FPGT'</li><li>'FCSK'</li><li>'ENOSF1'</li><li>'HK3'</li><li>'HK1'</li><li>'HK2'</li><li>'HKDC1'</li><li>'PFKM'</li><li>'PFKP'</li><li>'PFKL'</li><li>'FBP1'</li><li>'FBP2'</li><li>'PFKFB1'</li><li>'PFKFB2'</li><li>'PFKFB3'</li><li>'PFKFB4'</li><li>'TIGAR'</li><li>'KHK'</li><li>'SORD'</li><li>'AKR1B1'</li><li>'AKR1B10'</li><li>'ALDOC'</li><li>'ALDOA'</li><li>'ALDOB'</li><li>'TPI1'</li><li>'TKFC'</li></ol>\n",
       "</li>\n",
       "</ol>\n"
      ],
      "text/latex": [
       "\\begin{enumerate}\n",
       "\\item \\begin{enumerate*}\n",
       "\\item 'HK3'\n",
       "\\item 'HK1'\n",
       "\\item 'HK2'\n",
       "\\item 'HKDC1'\n",
       "\\item 'GCK'\n",
       "\\item 'GPI'\n",
       "\\item 'PFKM'\n",
       "\\item 'PFKP'\n",
       "\\item 'PFKL'\n",
       "\\item 'FBP1'\n",
       "\\item 'FBP2'\n",
       "\\item 'ALDOC'\n",
       "\\item 'ALDOA'\n",
       "\\item 'ALDOB'\n",
       "\\item 'TPI1'\n",
       "\\item 'GAPDH'\n",
       "\\item 'GAPDHS'\n",
       "\\item 'PGK2'\n",
       "\\item 'PGK1'\n",
       "\\item 'PGAM1'\n",
       "\\item 'PGAM2'\n",
       "\\item 'PGAM4'\n",
       "\\item 'ENO3'\n",
       "\\item 'ENO2'\n",
       "\\item 'ENO1'\n",
       "\\item 'ENO4'\n",
       "\\item 'PKM'\n",
       "\\item 'PKLR'\n",
       "\\item 'PDHA2'\n",
       "\\item 'PDHA1'\n",
       "\\item 'PDHB'\n",
       "\\item 'DLAT'\n",
       "\\item 'DLD'\n",
       "\\item 'LDHAL6A'\n",
       "\\item 'LDHAL6B'\n",
       "\\item 'LDHA'\n",
       "\\item 'LDHB'\n",
       "\\item 'LDHC'\n",
       "\\item 'ADH1A'\n",
       "\\item 'ADH1B'\n",
       "\\item 'ADH1C'\n",
       "\\item 'ADH7'\n",
       "\\item 'ADH4'\n",
       "\\item 'ADH5'\n",
       "\\item 'ADH6'\n",
       "\\item 'AKR1A1'\n",
       "\\item 'ALDH2'\n",
       "\\item 'ALDH3A2'\n",
       "\\item 'ALDH1B1'\n",
       "\\item 'ALDH7A1'\n",
       "\\item 'ALDH9A1'\n",
       "\\item 'ALDH3B1'\n",
       "\\item 'ALDH3B2'\n",
       "\\item 'ALDH3A1'\n",
       "\\item 'ACSS1'\n",
       "\\item 'ACSS2'\n",
       "\\item 'GALM'\n",
       "\\item 'PGM1'\n",
       "\\item 'PGM2'\n",
       "\\item 'G6PC1'\n",
       "\\item 'G6PC2'\n",
       "\\item 'G6PC3'\n",
       "\\item 'ADPGK'\n",
       "\\item 'BPGM'\n",
       "\\item 'MINPP1'\n",
       "\\item 'PCK1'\n",
       "\\item 'PCK2'\n",
       "\\end{enumerate*}\n",
       "\n",
       "\\item \\begin{enumerate*}\n",
       "\\item 'CS'\n",
       "\\item 'ACLY'\n",
       "\\item 'ACO2'\n",
       "\\item 'ACO1'\n",
       "\\item 'IDH1'\n",
       "\\item 'IDH2'\n",
       "\\item 'IDH3B'\n",
       "\\item 'IDH3G'\n",
       "\\item 'IDH3A'\n",
       "\\item 'OGDHL'\n",
       "\\item 'OGDH'\n",
       "\\item 'DLST'\n",
       "\\item 'DLD'\n",
       "\\item 'SUCLG1'\n",
       "\\item 'SUCLG2'\n",
       "\\item 'SUCLA2'\n",
       "\\item 'SDHA'\n",
       "\\item 'SDHB'\n",
       "\\item 'SDHC'\n",
       "\\item 'SDHD'\n",
       "\\item 'FH'\n",
       "\\item 'MDH1'\n",
       "\\item 'MDH2'\n",
       "\\item 'PC'\n",
       "\\item 'PCK1'\n",
       "\\item 'PCK2'\n",
       "\\item 'PDHA2'\n",
       "\\item 'PDHA1'\n",
       "\\item 'PDHB'\n",
       "\\item 'DLAT'\n",
       "\\end{enumerate*}\n",
       "\n",
       "\\item \\begin{enumerate*}\n",
       "\\item 'GPI'\n",
       "\\item 'G6PD'\n",
       "\\item 'PGLS'\n",
       "\\item 'H6PD'\n",
       "\\item 'PGD'\n",
       "\\item 'RPE'\n",
       "\\item 'RPEL1'\n",
       "\\item 'TKT'\n",
       "\\item 'TKTL2'\n",
       "\\item 'TKTL1'\n",
       "\\item 'TALDO1'\n",
       "\\item 'RPIA'\n",
       "\\item 'DERA'\n",
       "\\item 'RBKS'\n",
       "\\item 'PGM1'\n",
       "\\item 'PGM2'\n",
       "\\item 'PRPS1L1'\n",
       "\\item 'PRPS2'\n",
       "\\item 'PRPS1'\n",
       "\\item 'RGN'\n",
       "\\item 'IDNK'\n",
       "\\item 'GLYCTK'\n",
       "\\item 'ALDOC'\n",
       "\\item 'ALDOA'\n",
       "\\item 'ALDOB'\n",
       "\\item 'FBP1'\n",
       "\\item 'FBP2'\n",
       "\\item 'PFKM'\n",
       "\\item 'PFKP'\n",
       "\\item 'PFKL'\n",
       "\\end{enumerate*}\n",
       "\n",
       "\\item \\begin{enumerate*}\n",
       "\\item 'GUSB'\n",
       "\\item 'KL'\n",
       "\\item 'UGT2A1'\n",
       "\\item 'UGT2A3'\n",
       "\\item 'UGT2B17'\n",
       "\\item 'UGT2B11'\n",
       "\\item 'UGT2B28'\n",
       "\\item 'UGT1A6'\n",
       "\\item 'UGT1A4'\n",
       "\\item 'UGT1A1'\n",
       "\\item 'UGT1A3'\n",
       "\\item 'UGT2B10'\n",
       "\\item 'UGT1A9'\n",
       "\\item 'UGT2B7'\n",
       "\\item 'UGT1A10'\n",
       "\\item 'UGT1A8'\n",
       "\\item 'UGT1A5'\n",
       "\\item 'UGT2B15'\n",
       "\\item 'UGT1A7'\n",
       "\\item 'UGT2B4'\n",
       "\\item 'UGT2A2'\n",
       "\\item 'UGDH'\n",
       "\\item 'UGP2'\n",
       "\\item 'AKR1A1'\n",
       "\\item 'CRYL1'\n",
       "\\item 'RPE'\n",
       "\\item 'RPEL1'\n",
       "\\item 'XYLB'\n",
       "\\item 'AKR1B1'\n",
       "\\item 'AKR1B10'\n",
       "\\item 'DCXR'\n",
       "\\item 'SORD'\n",
       "\\item 'DHDH'\n",
       "\\item 'FGGY'\n",
       "\\item 'CRPPA'\n",
       "\\end{enumerate*}\n",
       "\n",
       "\\item \\begin{enumerate*}\n",
       "\\item 'MPI'\n",
       "\\item 'PMM2'\n",
       "\\item 'PMM1'\n",
       "\\item 'GMPPB'\n",
       "\\item 'GMPPA'\n",
       "\\item 'GMDS'\n",
       "\\item 'GFUS'\n",
       "\\item 'FPGT'\n",
       "\\item 'FCSK'\n",
       "\\item 'ENOSF1'\n",
       "\\item 'HK3'\n",
       "\\item 'HK1'\n",
       "\\item 'HK2'\n",
       "\\item 'HKDC1'\n",
       "\\item 'PFKM'\n",
       "\\item 'PFKP'\n",
       "\\item 'PFKL'\n",
       "\\item 'FBP1'\n",
       "\\item 'FBP2'\n",
       "\\item 'PFKFB1'\n",
       "\\item 'PFKFB2'\n",
       "\\item 'PFKFB3'\n",
       "\\item 'PFKFB4'\n",
       "\\item 'TIGAR'\n",
       "\\item 'KHK'\n",
       "\\item 'SORD'\n",
       "\\item 'AKR1B1'\n",
       "\\item 'AKR1B10'\n",
       "\\item 'ALDOC'\n",
       "\\item 'ALDOA'\n",
       "\\item 'ALDOB'\n",
       "\\item 'TPI1'\n",
       "\\item 'TKFC'\n",
       "\\end{enumerate*}\n",
       "\n",
       "\\end{enumerate}\n"
      ],
      "text/markdown": [
       "1. 1. 'HK3'\n",
       "2. 'HK1'\n",
       "3. 'HK2'\n",
       "4. 'HKDC1'\n",
       "5. 'GCK'\n",
       "6. 'GPI'\n",
       "7. 'PFKM'\n",
       "8. 'PFKP'\n",
       "9. 'PFKL'\n",
       "10. 'FBP1'\n",
       "11. 'FBP2'\n",
       "12. 'ALDOC'\n",
       "13. 'ALDOA'\n",
       "14. 'ALDOB'\n",
       "15. 'TPI1'\n",
       "16. 'GAPDH'\n",
       "17. 'GAPDHS'\n",
       "18. 'PGK2'\n",
       "19. 'PGK1'\n",
       "20. 'PGAM1'\n",
       "21. 'PGAM2'\n",
       "22. 'PGAM4'\n",
       "23. 'ENO3'\n",
       "24. 'ENO2'\n",
       "25. 'ENO1'\n",
       "26. 'ENO4'\n",
       "27. 'PKM'\n",
       "28. 'PKLR'\n",
       "29. 'PDHA2'\n",
       "30. 'PDHA1'\n",
       "31. 'PDHB'\n",
       "32. 'DLAT'\n",
       "33. 'DLD'\n",
       "34. 'LDHAL6A'\n",
       "35. 'LDHAL6B'\n",
       "36. 'LDHA'\n",
       "37. 'LDHB'\n",
       "38. 'LDHC'\n",
       "39. 'ADH1A'\n",
       "40. 'ADH1B'\n",
       "41. 'ADH1C'\n",
       "42. 'ADH7'\n",
       "43. 'ADH4'\n",
       "44. 'ADH5'\n",
       "45. 'ADH6'\n",
       "46. 'AKR1A1'\n",
       "47. 'ALDH2'\n",
       "48. 'ALDH3A2'\n",
       "49. 'ALDH1B1'\n",
       "50. 'ALDH7A1'\n",
       "51. 'ALDH9A1'\n",
       "52. 'ALDH3B1'\n",
       "53. 'ALDH3B2'\n",
       "54. 'ALDH3A1'\n",
       "55. 'ACSS1'\n",
       "56. 'ACSS2'\n",
       "57. 'GALM'\n",
       "58. 'PGM1'\n",
       "59. 'PGM2'\n",
       "60. 'G6PC1'\n",
       "61. 'G6PC2'\n",
       "62. 'G6PC3'\n",
       "63. 'ADPGK'\n",
       "64. 'BPGM'\n",
       "65. 'MINPP1'\n",
       "66. 'PCK1'\n",
       "67. 'PCK2'\n",
       "\n",
       "\n",
       "\n",
       "2. 1. 'CS'\n",
       "2. 'ACLY'\n",
       "3. 'ACO2'\n",
       "4. 'ACO1'\n",
       "5. 'IDH1'\n",
       "6. 'IDH2'\n",
       "7. 'IDH3B'\n",
       "8. 'IDH3G'\n",
       "9. 'IDH3A'\n",
       "10. 'OGDHL'\n",
       "11. 'OGDH'\n",
       "12. 'DLST'\n",
       "13. 'DLD'\n",
       "14. 'SUCLG1'\n",
       "15. 'SUCLG2'\n",
       "16. 'SUCLA2'\n",
       "17. 'SDHA'\n",
       "18. 'SDHB'\n",
       "19. 'SDHC'\n",
       "20. 'SDHD'\n",
       "21. 'FH'\n",
       "22. 'MDH1'\n",
       "23. 'MDH2'\n",
       "24. 'PC'\n",
       "25. 'PCK1'\n",
       "26. 'PCK2'\n",
       "27. 'PDHA2'\n",
       "28. 'PDHA1'\n",
       "29. 'PDHB'\n",
       "30. 'DLAT'\n",
       "\n",
       "\n",
       "\n",
       "3. 1. 'GPI'\n",
       "2. 'G6PD'\n",
       "3. 'PGLS'\n",
       "4. 'H6PD'\n",
       "5. 'PGD'\n",
       "6. 'RPE'\n",
       "7. 'RPEL1'\n",
       "8. 'TKT'\n",
       "9. 'TKTL2'\n",
       "10. 'TKTL1'\n",
       "11. 'TALDO1'\n",
       "12. 'RPIA'\n",
       "13. 'DERA'\n",
       "14. 'RBKS'\n",
       "15. 'PGM1'\n",
       "16. 'PGM2'\n",
       "17. 'PRPS1L1'\n",
       "18. 'PRPS2'\n",
       "19. 'PRPS1'\n",
       "20. 'RGN'\n",
       "21. 'IDNK'\n",
       "22. 'GLYCTK'\n",
       "23. 'ALDOC'\n",
       "24. 'ALDOA'\n",
       "25. 'ALDOB'\n",
       "26. 'FBP1'\n",
       "27. 'FBP2'\n",
       "28. 'PFKM'\n",
       "29. 'PFKP'\n",
       "30. 'PFKL'\n",
       "\n",
       "\n",
       "\n",
       "4. 1. 'GUSB'\n",
       "2. 'KL'\n",
       "3. 'UGT2A1'\n",
       "4. 'UGT2A3'\n",
       "5. 'UGT2B17'\n",
       "6. 'UGT2B11'\n",
       "7. 'UGT2B28'\n",
       "8. 'UGT1A6'\n",
       "9. 'UGT1A4'\n",
       "10. 'UGT1A1'\n",
       "11. 'UGT1A3'\n",
       "12. 'UGT2B10'\n",
       "13. 'UGT1A9'\n",
       "14. 'UGT2B7'\n",
       "15. 'UGT1A10'\n",
       "16. 'UGT1A8'\n",
       "17. 'UGT1A5'\n",
       "18. 'UGT2B15'\n",
       "19. 'UGT1A7'\n",
       "20. 'UGT2B4'\n",
       "21. 'UGT2A2'\n",
       "22. 'UGDH'\n",
       "23. 'UGP2'\n",
       "24. 'AKR1A1'\n",
       "25. 'CRYL1'\n",
       "26. 'RPE'\n",
       "27. 'RPEL1'\n",
       "28. 'XYLB'\n",
       "29. 'AKR1B1'\n",
       "30. 'AKR1B10'\n",
       "31. 'DCXR'\n",
       "32. 'SORD'\n",
       "33. 'DHDH'\n",
       "34. 'FGGY'\n",
       "35. 'CRPPA'\n",
       "\n",
       "\n",
       "\n",
       "5. 1. 'MPI'\n",
       "2. 'PMM2'\n",
       "3. 'PMM1'\n",
       "4. 'GMPPB'\n",
       "5. 'GMPPA'\n",
       "6. 'GMDS'\n",
       "7. 'GFUS'\n",
       "8. 'FPGT'\n",
       "9. 'FCSK'\n",
       "10. 'ENOSF1'\n",
       "11. 'HK3'\n",
       "12. 'HK1'\n",
       "13. 'HK2'\n",
       "14. 'HKDC1'\n",
       "15. 'PFKM'\n",
       "16. 'PFKP'\n",
       "17. 'PFKL'\n",
       "18. 'FBP1'\n",
       "19. 'FBP2'\n",
       "20. 'PFKFB1'\n",
       "21. 'PFKFB2'\n",
       "22. 'PFKFB3'\n",
       "23. 'PFKFB4'\n",
       "24. 'TIGAR'\n",
       "25. 'KHK'\n",
       "26. 'SORD'\n",
       "27. 'AKR1B1'\n",
       "28. 'AKR1B10'\n",
       "29. 'ALDOC'\n",
       "30. 'ALDOA'\n",
       "31. 'ALDOB'\n",
       "32. 'TPI1'\n",
       "33. 'TKFC'\n",
       "\n",
       "\n",
       "\n",
       "\n",
       "\n"
      ],
      "text/plain": [
       "[[1]]\n",
       " [1] \"HK3\"     \"HK1\"     \"HK2\"     \"HKDC1\"   \"GCK\"     \"GPI\"     \"PFKM\"   \n",
       " [8] \"PFKP\"    \"PFKL\"    \"FBP1\"    \"FBP2\"    \"ALDOC\"   \"ALDOA\"   \"ALDOB\"  \n",
       "[15] \"TPI1\"    \"GAPDH\"   \"GAPDHS\"  \"PGK2\"    \"PGK1\"    \"PGAM1\"   \"PGAM2\"  \n",
       "[22] \"PGAM4\"   \"ENO3\"    \"ENO2\"    \"ENO1\"    \"ENO4\"    \"PKM\"     \"PKLR\"   \n",
       "[29] \"PDHA2\"   \"PDHA1\"   \"PDHB\"    \"DLAT\"    \"DLD\"     \"LDHAL6A\" \"LDHAL6B\"\n",
       "[36] \"LDHA\"    \"LDHB\"    \"LDHC\"    \"ADH1A\"   \"ADH1B\"   \"ADH1C\"   \"ADH7\"   \n",
       "[43] \"ADH4\"    \"ADH5\"    \"ADH6\"    \"AKR1A1\"  \"ALDH2\"   \"ALDH3A2\" \"ALDH1B1\"\n",
       "[50] \"ALDH7A1\" \"ALDH9A1\" \"ALDH3B1\" \"ALDH3B2\" \"ALDH3A1\" \"ACSS1\"   \"ACSS2\"  \n",
       "[57] \"GALM\"    \"PGM1\"    \"PGM2\"    \"G6PC1\"   \"G6PC2\"   \"G6PC3\"   \"ADPGK\"  \n",
       "[64] \"BPGM\"    \"MINPP1\"  \"PCK1\"    \"PCK2\"   \n",
       "\n",
       "[[2]]\n",
       " [1] \"CS\"     \"ACLY\"   \"ACO2\"   \"ACO1\"   \"IDH1\"   \"IDH2\"   \"IDH3B\"  \"IDH3G\" \n",
       " [9] \"IDH3A\"  \"OGDHL\"  \"OGDH\"   \"DLST\"   \"DLD\"    \"SUCLG1\" \"SUCLG2\" \"SUCLA2\"\n",
       "[17] \"SDHA\"   \"SDHB\"   \"SDHC\"   \"SDHD\"   \"FH\"     \"MDH1\"   \"MDH2\"   \"PC\"    \n",
       "[25] \"PCK1\"   \"PCK2\"   \"PDHA2\"  \"PDHA1\"  \"PDHB\"   \"DLAT\"  \n",
       "\n",
       "[[3]]\n",
       " [1] \"GPI\"     \"G6PD\"    \"PGLS\"    \"H6PD\"    \"PGD\"     \"RPE\"     \"RPEL1\"  \n",
       " [8] \"TKT\"     \"TKTL2\"   \"TKTL1\"   \"TALDO1\"  \"RPIA\"    \"DERA\"    \"RBKS\"   \n",
       "[15] \"PGM1\"    \"PGM2\"    \"PRPS1L1\" \"PRPS2\"   \"PRPS1\"   \"RGN\"     \"IDNK\"   \n",
       "[22] \"GLYCTK\"  \"ALDOC\"   \"ALDOA\"   \"ALDOB\"   \"FBP1\"    \"FBP2\"    \"PFKM\"   \n",
       "[29] \"PFKP\"    \"PFKL\"   \n",
       "\n",
       "[[4]]\n",
       " [1] \"GUSB\"    \"KL\"      \"UGT2A1\"  \"UGT2A3\"  \"UGT2B17\" \"UGT2B11\" \"UGT2B28\"\n",
       " [8] \"UGT1A6\"  \"UGT1A4\"  \"UGT1A1\"  \"UGT1A3\"  \"UGT2B10\" \"UGT1A9\"  \"UGT2B7\" \n",
       "[15] \"UGT1A10\" \"UGT1A8\"  \"UGT1A5\"  \"UGT2B15\" \"UGT1A7\"  \"UGT2B4\"  \"UGT2A2\" \n",
       "[22] \"UGDH\"    \"UGP2\"    \"AKR1A1\"  \"CRYL1\"   \"RPE\"     \"RPEL1\"   \"XYLB\"   \n",
       "[29] \"AKR1B1\"  \"AKR1B10\" \"DCXR\"    \"SORD\"    \"DHDH\"    \"FGGY\"    \"CRPPA\"  \n",
       "\n",
       "[[5]]\n",
       " [1] \"MPI\"     \"PMM2\"    \"PMM1\"    \"GMPPB\"   \"GMPPA\"   \"GMDS\"    \"GFUS\"   \n",
       " [8] \"FPGT\"    \"FCSK\"    \"ENOSF1\"  \"HK3\"     \"HK1\"     \"HK2\"     \"HKDC1\"  \n",
       "[15] \"PFKM\"    \"PFKP\"    \"PFKL\"    \"FBP1\"    \"FBP2\"    \"PFKFB1\"  \"PFKFB2\" \n",
       "[22] \"PFKFB3\"  \"PFKFB4\"  \"TIGAR\"   \"KHK\"     \"SORD\"    \"AKR1B1\"  \"AKR1B10\"\n",
       "[29] \"ALDOC\"   \"ALDOA\"   \"ALDOB\"   \"TPI1\"    \"TKFC\"   \n"
      ]
     },
     "metadata": {},
     "output_type": "display_data"
    }
   ],
   "source": [
    "# View first five pathways and related gene sets\n",
    "pathways$genesets[1:5]"
   ]
  },
  {
   "cell_type": "code",
   "execution_count": 25,
   "id": "893ad988",
   "metadata": {
    "collapsed": false
   },
   "outputs": [
    {
     "data": {
      "text/html": [
       "<style>\n",
       ".list-inline {list-style: none; margin:0; padding: 0}\n",
       ".list-inline>li {display: inline-block}\n",
       ".list-inline>li:not(:last-child)::after {content: \"\\00b7\"; padding: 0 .5ex}\n",
       "</style>\n",
       "<ol class=list-inline><li>'hsa00010'</li><li>'hsa00020'</li><li>'hsa00030'</li><li>'hsa00040'</li><li>'hsa00051'</li></ol>\n"
      ],
      "text/latex": [
       "\\begin{enumerate*}\n",
       "\\item 'hsa00010'\n",
       "\\item 'hsa00020'\n",
       "\\item 'hsa00030'\n",
       "\\item 'hsa00040'\n",
       "\\item 'hsa00051'\n",
       "\\end{enumerate*}\n"
      ],
      "text/markdown": [
       "1. 'hsa00010'\n",
       "2. 'hsa00020'\n",
       "3. 'hsa00030'\n",
       "4. 'hsa00040'\n",
       "5. 'hsa00051'\n",
       "\n",
       "\n"
      ],
      "text/plain": [
       "[1] \"hsa00010\" \"hsa00020\" \"hsa00030\" \"hsa00040\" \"hsa00051\""
      ]
     },
     "metadata": {},
     "output_type": "display_data"
    }
   ],
   "source": [
    "# View the name of the pathways\n",
    "pathways$geneset.names[1:5]"
   ]
  },
  {
   "cell_type": "code",
   "execution_count": 26,
   "id": "b9abdc63",
   "metadata": {
    "collapsed": false
   },
   "outputs": [
    {
     "data": {
      "text/html": [
       "<style>\n",
       ".list-inline {list-style: none; margin:0; padding: 0}\n",
       ".list-inline>li {display: inline-block}\n",
       ".list-inline>li:not(:last-child)::after {content: \"\\00b7\"; padding: 0 .5ex}\n",
       "</style>\n",
       "<ol class=list-inline><li>'Glycolysis / Gluconeogenesis - Homo sapiens (human)'</li><li>'Citrate cycle (TCA cycle) - Homo sapiens (human)'</li><li>'Pentose phosphate pathway - Homo sapiens (human)'</li><li>'Pentose and glucuronate interconversions - Homo sapiens (human)'</li><li>'Fructose and mannose metabolism - Homo sapiens (human)'</li></ol>\n"
      ],
      "text/latex": [
       "\\begin{enumerate*}\n",
       "\\item 'Glycolysis / Gluconeogenesis - Homo sapiens (human)'\n",
       "\\item 'Citrate cycle (TCA cycle) - Homo sapiens (human)'\n",
       "\\item 'Pentose phosphate pathway - Homo sapiens (human)'\n",
       "\\item 'Pentose and glucuronate interconversions - Homo sapiens (human)'\n",
       "\\item 'Fructose and mannose metabolism - Homo sapiens (human)'\n",
       "\\end{enumerate*}\n"
      ],
      "text/markdown": [
       "1. 'Glycolysis / Gluconeogenesis - Homo sapiens (human)'\n",
       "2. 'Citrate cycle (TCA cycle) - Homo sapiens (human)'\n",
       "3. 'Pentose phosphate pathway - Homo sapiens (human)'\n",
       "4. 'Pentose and glucuronate interconversions - Homo sapiens (human)'\n",
       "5. 'Fructose and mannose metabolism - Homo sapiens (human)'\n",
       "\n",
       "\n"
      ],
      "text/plain": [
       "[1] \"Glycolysis / Gluconeogenesis - Homo sapiens (human)\"            \n",
       "[2] \"Citrate cycle (TCA cycle) - Homo sapiens (human)\"               \n",
       "[3] \"Pentose phosphate pathway - Homo sapiens (human)\"               \n",
       "[4] \"Pentose and glucuronate interconversions - Homo sapiens (human)\"\n",
       "[5] \"Fructose and mannose metabolism - Homo sapiens (human)\"         "
      ]
     },
     "metadata": {},
     "output_type": "display_data"
    }
   ],
   "source": [
    "# View the description of each pathway\n",
    "pathways$geneset.descriptions[1:5]\n"
   ]
  },
  {
   "cell_type": "code",
   "execution_count": null,
   "id": "7bc594b6",
   "metadata": {
    "collapsed": false
   },
   "outputs": [],
   "source": []
  }
 ],
 "metadata": {
  "celltoolbar": "Tags",
  "environment": {
   "kernel": "ir",
   "name": "r-cpu.4-1.m93",
   "type": "gcloud",
   "uri": "gcr.io/deeplearning-platform-release/r-cpu.4-1:m93"
  },
  "kernelspec": {
   "display_name": "R",
   "language": "R",
   "name": "ir"
  },
  "language_info": {
   "codemirror_mode": "r",
   "file_extension": ".r",
   "mimetype": "text/x-r-source",
   "name": "R",
   "pygments_lexer": "r",
   "version": "4.1.3"
  },
  "toc-showcode": true,
  "widgets": {
   "application/vnd.jupyter.widget-state+json": {
    "state": {},
    "version_major": 2,
    "version_minor": 0
   }
  }
 },
 "nbformat": 4,
 "nbformat_minor": 5
}