{
 "cells": [
  {
   "cell_type": "markdown",
   "id": "f380fb8f-dc93-414c-b815-6ace422d7f90",
   "metadata": {
    "pycharm": {
     "name": "#%% md\n"
    },
    "tags": []
   },
   "source": [
    "# Gene ID mapping\n",
    "\n",
    "![](./images/Module1/Gene_ID_Conversion.jpg)\n",
    "## Learning Objectives:\n",
    "1. Understanding different probe set ID.\n",
    "2. Mapping probe IDs into gene identifiers and symbols."
   ]
  },
  {
   "cell_type": "markdown",
   "id": "80091aeb",
   "metadata": {
    "collapsed": false,
    "pycharm": {
     "name": "#%% md\n"
    }
   },
   "source": []
  },
  {
   "cell_type": "markdown",
   "id": "e21ffa6a",
   "metadata": {
    "collapsed": false,
    "pycharm": {
     "name": "#%% md\n"
    }
   },
   "source": [
    "### Understanding different probe set ID\n",
    "\n",
    "Gene set or pathway analysis requires that gene sets and expression data use the same type of gene ID\n",
    "(Entrez Gene ID, Gene symbol or probe set ID etc). However, this is frequently not true for the data we have.\n",
    "For example, our gene sets mostly use Entrez Gene ID, but microarray datasets are frequently labeled by probe\n",
    "set ID (or RefSeq transcript ID etc). Therefore, we need to convert or map the probe set IDs to Entrez gene ID.\n",
    "Here, we will use `GSE48350` dataset that we have used in the previous section for demonstration of gene ID mapping.\n",
    "In order to know what kind of probe set ID, we need to navigate to GEO record page of `GSE48350`. Under the `Platform`\n",
    "tab, we can find the probe ID information.\n",
    "![probID](./images/Module1/ProbeID.png)"
   ]
  },
  {
   "cell_type": "markdown",
   "id": "37921f65",
   "metadata": {
    "collapsed": false,
    "pycharm": {
     "name": "#%% md\n"
    }
   },
   "source": [
    "From the record page, we know that the dataset was generated from 1 platform using Affymetrix Human Genome U133 Plus 2.0 Array.\n",
    "To convert or map the probe set IDs to Entrez gene ID, we need to find the corresponding annotation package from\n",
    "<a href=\"https://bioconductor.org/\">Bioconductor</a>. For analyzed data, we need to use the `hgu133plus2.db` database.\n",
    "We can install the package using following R command:"
   ]
  },
  {
   "cell_type": "code",
   "execution_count": 1,
   "id": "184b25b7",
   "metadata": {
    "collapsed": false,
    "pycharm": {
     "name": "#%%\n"
    }
   },
   "outputs": [],
   "source": [
    "suppressMessages({if (!require(\"BiocManager\", quietly = TRUE))\n",
    "    install.packages(\"BiocManager\")\n",
    "suppressWarnings(BiocManager::install(\"hgu133plus2.db\", update = F))\n",
    "})"
   ]
  },
  {
   "cell_type": "markdown",
   "id": "07ade29e",
   "metadata": {
    "collapsed": false,
    "pycharm": {
     "name": "#%% md\n"
    }
   },
   "source": [
    "In the previous section, we have successfully downloaded the dataset `GSE48350` and saved a sub-set of it to the `data` sub-directory.\n",
    "Now we can load the sample dataset and check for the Probe Set ID names by using the following command."
   ]
  },
  {
   "cell_type": "code",
   "execution_count": 2,
   "id": "b815ec43",
   "metadata": {
    "collapsed": false,
    "pycharm": {
     "name": "#%%\n"
    }
   },
   "outputs": [
    {
     "data": {
      "text/html": [
       "<style>\n",
       ".list-inline {list-style: none; margin:0; padding: 0}\n",
       ".list-inline>li {display: inline-block}\n",
       ".list-inline>li:not(:last-child)::after {content: \"\\00b7\"; padding: 0 .5ex}\n",
       "</style>\n",
       "<ol class=list-inline><li>'1007_s_at'</li><li>'1053_at'</li><li>'117_at'</li><li>'121_at'</li><li>'1255_g_at'</li><li>'1294_at'</li><li>'1316_at'</li><li>'1320_at'</li><li>'1405_i_at'</li><li>'1431_at'</li></ol>\n"
      ],
      "text/latex": [
       "\\begin{enumerate*}\n",
       "\\item '1007\\_s\\_at'\n",
       "\\item '1053\\_at'\n",
       "\\item '117\\_at'\n",
       "\\item '121\\_at'\n",
       "\\item '1255\\_g\\_at'\n",
       "\\item '1294\\_at'\n",
       "\\item '1316\\_at'\n",
       "\\item '1320\\_at'\n",
       "\\item '1405\\_i\\_at'\n",
       "\\item '1431\\_at'\n",
       "\\end{enumerate*}\n"
      ],
      "text/markdown": [
       "1. '1007_s_at'\n",
       "2. '1053_at'\n",
       "3. '117_at'\n",
       "4. '121_at'\n",
       "5. '1255_g_at'\n",
       "6. '1294_at'\n",
       "7. '1316_at'\n",
       "8. '1320_at'\n",
       "9. '1405_i_at'\n",
       "10. '1431_at'\n",
       "\n",
       "\n"
      ],
      "text/plain": [
       " [1] \"1007_s_at\" \"1053_at\"   \"117_at\"    \"121_at\"    \"1255_g_at\" \"1294_at\"  \n",
       " [7] \"1316_at\"   \"1320_at\"   \"1405_i_at\" \"1431_at\"  "
      ]
     },
     "metadata": {},
     "output_type": "display_data"
    }
   ],
   "source": [
    "data = readRDS(\"./data/GSE48350.rds\")\n",
    "probeIDs = rownames(data)\n",
    "probeIDs"
   ]
  },
  {
   "cell_type": "markdown",
   "id": "3fae778f",
   "metadata": {
    "collapsed": false,
    "pycharm": {
     "name": "#%% md\n"
    }
   },
   "source": [
    "**Probe Set ID** is the identifier that refers to a set of probe pairs selected to represent expressed sequences on an array. Designations are given at design time.\n",
    "\n",
    "The probe set names never change, but they can give you an idea of what was known about the sequence at the time of design.\n",
    "\n",
    "* **_at** = all the probes hit one known transcript.\n",
    "* **_a** = all probes in the set hit alternate transcripts from the same genes.\n",
    "* **_s** = all probes in the set hit transcripts from different genes.\n",
    "* **_x** = some probes hit transcripts from different genes.\n",
    "\n",
    "For HG-U133, the **_a** designation was not used; an **_s** probe set on these arrays means the same as an **_a** on any of the HG-U133 arrays."
   ]
  },
  {
   "cell_type": "markdown",
   "id": "149cd18c",
   "metadata": {
    "collapsed": false,
    "pycharm": {
     "name": "#%% md\n"
    }
   },
   "source": [
    "### Mapping probe IDs into gene identifiers and symbols.\n",
    "For pathway analysis, Probe set IDs should be mapped to Ensembl ID and SYMBOL.\n",
    "Ensembl ID is a transcript identifier from the ENSEMBL project while SYMBOL is a gene symbol is a short-form abbreviation for a particular gene.\n",
    "We can load the `hgu133plus2.db` database to perform Probe ID mapping using the following command:"
   ]
  },
  {
   "cell_type": "code",
   "execution_count": 3,
   "id": "e1ccbc83",
   "metadata": {
    "collapsed": false,
    "pycharm": {
     "name": "#%%\n"
    }
   },
   "outputs": [],
   "source": [
    "suppressMessages({library(hgu133plus2.db)})"
   ]
  },
  {
   "cell_type": "markdown",
   "id": "e7ff7bba",
   "metadata": {
    "collapsed": false,
    "pycharm": {
     "name": "#%% md\n"
    }
   },
   "source": [
    "Here, we can build a  lookup table that maps the Probe ID to Ensembl ID and gene symbol using the following command:"
   ]
  },
  {
   "cell_type": "code",
   "execution_count": 4,
   "id": "52ef6bba",
   "metadata": {
    "collapsed": false,
    "pycharm": {
     "name": "#%%\n"
    }
   },
   "outputs": [],
   "source": [
    "suppressMessages({\n",
    "annotLookup <- select(hgu133plus2.db, keys = probeIDs, columns = c('PROBEID', 'ENSEMBL', 'SYMBOL'))\n",
    "})"
   ]
  },
  {
   "cell_type": "code",
   "execution_count": 5,
   "id": "9b0b9933",
   "metadata": {
    "collapsed": false,
    "pycharm": {
     "name": "#%%\n"
    }
   },
   "outputs": [
    {
     "data": {
      "text/html": [
       "<table class=\"dataframe\">\n",
       "<caption>A data.frame: 17 × 3</caption>\n",
       "<thead>\n",
       "\t<tr><th scope=col>PROBEID</th><th scope=col>ENSEMBL</th><th scope=col>SYMBOL</th></tr>\n",
       "\t<tr><th scope=col>&lt;chr&gt;</th><th scope=col>&lt;chr&gt;</th><th scope=col>&lt;chr&gt;</th></tr>\n",
       "</thead>\n",
       "<tbody>\n",
       "\t<tr><td>1007_s_at</td><td>ENSG00000204580</td><td>DDR1  </td></tr>\n",
       "\t<tr><td>1007_s_at</td><td>ENSG00000223680</td><td>DDR1  </td></tr>\n",
       "\t<tr><td>1007_s_at</td><td>ENSG00000229767</td><td>DDR1  </td></tr>\n",
       "\t<tr><td>1007_s_at</td><td>ENSG00000234078</td><td>DDR1  </td></tr>\n",
       "\t<tr><td>1007_s_at</td><td>ENSG00000215522</td><td>DDR1  </td></tr>\n",
       "\t<tr><td>1007_s_at</td><td>ENSG00000137332</td><td>DDR1  </td></tr>\n",
       "\t<tr><td>1007_s_at</td><td>ENSG00000230456</td><td>DDR1  </td></tr>\n",
       "\t<tr><td>1053_at  </td><td>ENSG00000049541</td><td>RFC2  </td></tr>\n",
       "\t<tr><td>117_at   </td><td>ENSG00000173110</td><td>HSPA6 </td></tr>\n",
       "\t<tr><td>121_at   </td><td>ENSG00000125618</td><td>PAX8  </td></tr>\n",
       "\t<tr><td>1255_g_at</td><td>ENSG00000048545</td><td>GUCA1A</td></tr>\n",
       "\t<tr><td>1294_at  </td><td>ENSG00000182179</td><td>UBA7  </td></tr>\n",
       "\t<tr><td>1316_at  </td><td>ENSG00000126351</td><td>THRA  </td></tr>\n",
       "\t<tr><td>1320_at  </td><td>ENSG00000070778</td><td>PTPN21</td></tr>\n",
       "\t<tr><td>1405_i_at</td><td>ENSG00000271503</td><td>CCL5  </td></tr>\n",
       "\t<tr><td>1405_i_at</td><td>ENSG00000274233</td><td>CCL5  </td></tr>\n",
       "\t<tr><td>1431_at  </td><td>ENSG00000130649</td><td>CYP2E1</td></tr>\n",
       "</tbody>\n",
       "</table>\n"
      ],
      "text/latex": [
       "A data.frame: 17 × 3\n",
       "\\begin{tabular}{lll}\n",
       " PROBEID & ENSEMBL & SYMBOL\\\\\n",
       " <chr> & <chr> & <chr>\\\\\n",
       "\\hline\n",
       "\t 1007\\_s\\_at & ENSG00000204580 & DDR1  \\\\\n",
       "\t 1007\\_s\\_at & ENSG00000223680 & DDR1  \\\\\n",
       "\t 1007\\_s\\_at & ENSG00000229767 & DDR1  \\\\\n",
       "\t 1007\\_s\\_at & ENSG00000234078 & DDR1  \\\\\n",
       "\t 1007\\_s\\_at & ENSG00000215522 & DDR1  \\\\\n",
       "\t 1007\\_s\\_at & ENSG00000137332 & DDR1  \\\\\n",
       "\t 1007\\_s\\_at & ENSG00000230456 & DDR1  \\\\\n",
       "\t 1053\\_at   & ENSG00000049541 & RFC2  \\\\\n",
       "\t 117\\_at    & ENSG00000173110 & HSPA6 \\\\\n",
       "\t 121\\_at    & ENSG00000125618 & PAX8  \\\\\n",
       "\t 1255\\_g\\_at & ENSG00000048545 & GUCA1A\\\\\n",
       "\t 1294\\_at   & ENSG00000182179 & UBA7  \\\\\n",
       "\t 1316\\_at   & ENSG00000126351 & THRA  \\\\\n",
       "\t 1320\\_at   & ENSG00000070778 & PTPN21\\\\\n",
       "\t 1405\\_i\\_at & ENSG00000271503 & CCL5  \\\\\n",
       "\t 1405\\_i\\_at & ENSG00000274233 & CCL5  \\\\\n",
       "\t 1431\\_at   & ENSG00000130649 & CYP2E1\\\\\n",
       "\\end{tabular}\n"
      ],
      "text/markdown": [
       "\n",
       "A data.frame: 17 × 3\n",
       "\n",
       "| PROBEID &lt;chr&gt; | ENSEMBL &lt;chr&gt; | SYMBOL &lt;chr&gt; |\n",
       "|---|---|---|\n",
       "| 1007_s_at | ENSG00000204580 | DDR1   |\n",
       "| 1007_s_at | ENSG00000223680 | DDR1   |\n",
       "| 1007_s_at | ENSG00000229767 | DDR1   |\n",
       "| 1007_s_at | ENSG00000234078 | DDR1   |\n",
       "| 1007_s_at | ENSG00000215522 | DDR1   |\n",
       "| 1007_s_at | ENSG00000137332 | DDR1   |\n",
       "| 1007_s_at | ENSG00000230456 | DDR1   |\n",
       "| 1053_at   | ENSG00000049541 | RFC2   |\n",
       "| 117_at    | ENSG00000173110 | HSPA6  |\n",
       "| 121_at    | ENSG00000125618 | PAX8   |\n",
       "| 1255_g_at | ENSG00000048545 | GUCA1A |\n",
       "| 1294_at   | ENSG00000182179 | UBA7   |\n",
       "| 1316_at   | ENSG00000126351 | THRA   |\n",
       "| 1320_at   | ENSG00000070778 | PTPN21 |\n",
       "| 1405_i_at | ENSG00000271503 | CCL5   |\n",
       "| 1405_i_at | ENSG00000274233 | CCL5   |\n",
       "| 1431_at   | ENSG00000130649 | CYP2E1 |\n",
       "\n"
      ],
      "text/plain": [
       "   PROBEID   ENSEMBL         SYMBOL\n",
       "1  1007_s_at ENSG00000204580 DDR1  \n",
       "2  1007_s_at ENSG00000223680 DDR1  \n",
       "3  1007_s_at ENSG00000229767 DDR1  \n",
       "4  1007_s_at ENSG00000234078 DDR1  \n",
       "5  1007_s_at ENSG00000215522 DDR1  \n",
       "6  1007_s_at ENSG00000137332 DDR1  \n",
       "7  1007_s_at ENSG00000230456 DDR1  \n",
       "8  1053_at   ENSG00000049541 RFC2  \n",
       "9  117_at    ENSG00000173110 HSPA6 \n",
       "10 121_at    ENSG00000125618 PAX8  \n",
       "11 1255_g_at ENSG00000048545 GUCA1A\n",
       "12 1294_at   ENSG00000182179 UBA7  \n",
       "13 1316_at   ENSG00000126351 THRA  \n",
       "14 1320_at   ENSG00000070778 PTPN21\n",
       "15 1405_i_at ENSG00000271503 CCL5  \n",
       "16 1405_i_at ENSG00000274233 CCL5  \n",
       "17 1431_at   ENSG00000130649 CYP2E1"
      ]
     },
     "metadata": {},
     "output_type": "display_data"
    }
   ],
   "source": [
    "annotLookup"
   ]
  },
  {
   "cell_type": "markdown",
   "id": "245b67c3",
   "metadata": {
    "collapsed": false,
    "pycharm": {
     "name": "#%% md\n"
    }
   },
   "source": [
    "From the lookup table we can spot that a single Probe ID can be mapped to multiple Ensembl IDs.\n",
    "Depending on analysis performed, users can select their own Ensembl ID of interest. Here is a simple way to\n",
    "replace Probe IDs with gene symbols :"
   ]
  },
  {
   "cell_type": "code",
   "execution_count": 6,
   "id": "0a8ccf14",
   "metadata": {
    "collapsed": false,
    "pycharm": {
     "name": "#%%\n"
    }
   },
   "outputs": [],
   "source": [
    "rownames(data) <- unique(annotLookup$SYMBOL)"
   ]
  },
  {
   "cell_type": "code",
   "execution_count": 7,
   "id": "819422db",
   "metadata": {
    "collapsed": false,
    "pycharm": {
     "name": "#%%\n"
    }
   },
   "outputs": [
    {
     "data": {
      "text/html": [
       "<table class=\"dataframe\">\n",
       "<caption>A data.frame: 10 × 10</caption>\n",
       "<thead>\n",
       "\t<tr><th></th><th scope=col>GSM300166</th><th scope=col>GSM300167</th><th scope=col>GSM300168</th><th scope=col>GSM300169</th><th scope=col>GSM300170</th><th scope=col>GSM300171</th><th scope=col>GSM300172</th><th scope=col>GSM300173</th><th scope=col>GSM300174</th><th scope=col>GSM300175</th></tr>\n",
       "\t<tr><th></th><th scope=col>&lt;dbl&gt;</th><th scope=col>&lt;dbl&gt;</th><th scope=col>&lt;dbl&gt;</th><th scope=col>&lt;dbl&gt;</th><th scope=col>&lt;dbl&gt;</th><th scope=col>&lt;dbl&gt;</th><th scope=col>&lt;dbl&gt;</th><th scope=col>&lt;dbl&gt;</th><th scope=col>&lt;dbl&gt;</th><th scope=col>&lt;dbl&gt;</th></tr>\n",
       "</thead>\n",
       "<tbody>\n",
       "\t<tr><th scope=row>DDR1</th><td>0.9168711</td><td>1.2842289</td><td>1.3838295</td><td>1.4620315</td><td>1.4960686</td><td>1.2866872</td><td>1.3716376</td><td>0.6085351</td><td>0.8452452</td><td>0.6745393</td></tr>\n",
       "\t<tr><th scope=row>RFC2</th><td>0.7367870</td><td>0.9152165</td><td>1.5155498</td><td>1.0262097</td><td>1.2758373</td><td>1.3132664</td><td>1.1284863</td><td>0.9081397</td><td>0.9393891</td><td>1.0130529</td></tr>\n",
       "\t<tr><th scope=row>HSPA6</th><td>0.8950221</td><td>1.0440652</td><td>2.0347068</td><td>1.6976205</td><td>2.5993895</td><td>3.8876049</td><td>1.6831516</td><td>0.8674964</td><td>1.4063434</td><td>0.7850503</td></tr>\n",
       "\t<tr><th scope=row>PAX8</th><td>0.9819619</td><td>1.0361480</td><td>0.9871635</td><td>1.1363467</td><td>1.0282362</td><td>0.8330552</td><td>1.0085661</td><td>1.1053528</td><td>0.9709147</td><td>0.9327358</td></tr>\n",
       "\t<tr><th scope=row>GUCA1A</th><td>0.5765267</td><td>0.6206102</td><td>2.0633803</td><td>1.3301512</td><td>1.6716562</td><td>2.1832146</td><td>1.6839774</td><td>1.2764652</td><td>2.5877041</td><td>1.2204636</td></tr>\n",
       "\t<tr><th scope=row>UBA7</th><td>0.8753293</td><td>0.9479945</td><td>1.3330627</td><td>1.3545021</td><td>1.4012277</td><td>1.0190251</td><td>1.7229316</td><td>0.8337133</td><td>1.0038313</td><td>0.9117344</td></tr>\n",
       "\t<tr><th scope=row>THRA</th><td>1.4066110</td><td>1.0097321</td><td>0.6604550</td><td>0.6860092</td><td>0.7863153</td><td>0.5898622</td><td>0.9050921</td><td>1.1971904</td><td>0.8503563</td><td>0.9668145</td></tr>\n",
       "\t<tr><th scope=row>PTPN21</th><td>0.9490653</td><td>0.8197735</td><td>0.5816383</td><td>0.5428258</td><td>0.4708366</td><td>0.5567084</td><td>0.6201315</td><td>0.8163207</td><td>1.0518593</td><td>0.9359782</td></tr>\n",
       "\t<tr><th scope=row>CCL5</th><td>1.3552448</td><td>0.8693293</td><td>1.4550548</td><td>1.1130387</td><td>0.9304383</td><td>1.0561844</td><td>1.6140728</td><td>1.0406454</td><td>1.1045746</td><td>0.8406106</td></tr>\n",
       "\t<tr><th scope=row>CYP2E1</th><td>1.1783971</td><td>0.8985217</td><td>1.9054227</td><td>1.4497262</td><td>1.4704667</td><td>1.5978145</td><td>1.1633086</td><td>0.9495343</td><td>0.9399777</td><td>1.3396635</td></tr>\n",
       "</tbody>\n",
       "</table>\n"
      ],
      "text/latex": [
       "A data.frame: 10 × 10\n",
       "\\begin{tabular}{r|llllllllll}\n",
       "  & GSM300166 & GSM300167 & GSM300168 & GSM300169 & GSM300170 & GSM300171 & GSM300172 & GSM300173 & GSM300174 & GSM300175\\\\\n",
       "  & <dbl> & <dbl> & <dbl> & <dbl> & <dbl> & <dbl> & <dbl> & <dbl> & <dbl> & <dbl>\\\\\n",
       "\\hline\n",
       "\tDDR1 & 0.9168711 & 1.2842289 & 1.3838295 & 1.4620315 & 1.4960686 & 1.2866872 & 1.3716376 & 0.6085351 & 0.8452452 & 0.6745393\\\\\n",
       "\tRFC2 & 0.7367870 & 0.9152165 & 1.5155498 & 1.0262097 & 1.2758373 & 1.3132664 & 1.1284863 & 0.9081397 & 0.9393891 & 1.0130529\\\\\n",
       "\tHSPA6 & 0.8950221 & 1.0440652 & 2.0347068 & 1.6976205 & 2.5993895 & 3.8876049 & 1.6831516 & 0.8674964 & 1.4063434 & 0.7850503\\\\\n",
       "\tPAX8 & 0.9819619 & 1.0361480 & 0.9871635 & 1.1363467 & 1.0282362 & 0.8330552 & 1.0085661 & 1.1053528 & 0.9709147 & 0.9327358\\\\\n",
       "\tGUCA1A & 0.5765267 & 0.6206102 & 2.0633803 & 1.3301512 & 1.6716562 & 2.1832146 & 1.6839774 & 1.2764652 & 2.5877041 & 1.2204636\\\\\n",
       "\tUBA7 & 0.8753293 & 0.9479945 & 1.3330627 & 1.3545021 & 1.4012277 & 1.0190251 & 1.7229316 & 0.8337133 & 1.0038313 & 0.9117344\\\\\n",
       "\tTHRA & 1.4066110 & 1.0097321 & 0.6604550 & 0.6860092 & 0.7863153 & 0.5898622 & 0.9050921 & 1.1971904 & 0.8503563 & 0.9668145\\\\\n",
       "\tPTPN21 & 0.9490653 & 0.8197735 & 0.5816383 & 0.5428258 & 0.4708366 & 0.5567084 & 0.6201315 & 0.8163207 & 1.0518593 & 0.9359782\\\\\n",
       "\tCCL5 & 1.3552448 & 0.8693293 & 1.4550548 & 1.1130387 & 0.9304383 & 1.0561844 & 1.6140728 & 1.0406454 & 1.1045746 & 0.8406106\\\\\n",
       "\tCYP2E1 & 1.1783971 & 0.8985217 & 1.9054227 & 1.4497262 & 1.4704667 & 1.5978145 & 1.1633086 & 0.9495343 & 0.9399777 & 1.3396635\\\\\n",
       "\\end{tabular}\n"
      ],
      "text/markdown": [
       "\n",
       "A data.frame: 10 × 10\n",
       "\n",
       "| <!--/--> | GSM300166 &lt;dbl&gt; | GSM300167 &lt;dbl&gt; | GSM300168 &lt;dbl&gt; | GSM300169 &lt;dbl&gt; | GSM300170 &lt;dbl&gt; | GSM300171 &lt;dbl&gt; | GSM300172 &lt;dbl&gt; | GSM300173 &lt;dbl&gt; | GSM300174 &lt;dbl&gt; | GSM300175 &lt;dbl&gt; |\n",
       "|---|---|---|---|---|---|---|---|---|---|---|\n",
       "| DDR1 | 0.9168711 | 1.2842289 | 1.3838295 | 1.4620315 | 1.4960686 | 1.2866872 | 1.3716376 | 0.6085351 | 0.8452452 | 0.6745393 |\n",
       "| RFC2 | 0.7367870 | 0.9152165 | 1.5155498 | 1.0262097 | 1.2758373 | 1.3132664 | 1.1284863 | 0.9081397 | 0.9393891 | 1.0130529 |\n",
       "| HSPA6 | 0.8950221 | 1.0440652 | 2.0347068 | 1.6976205 | 2.5993895 | 3.8876049 | 1.6831516 | 0.8674964 | 1.4063434 | 0.7850503 |\n",
       "| PAX8 | 0.9819619 | 1.0361480 | 0.9871635 | 1.1363467 | 1.0282362 | 0.8330552 | 1.0085661 | 1.1053528 | 0.9709147 | 0.9327358 |\n",
       "| GUCA1A | 0.5765267 | 0.6206102 | 2.0633803 | 1.3301512 | 1.6716562 | 2.1832146 | 1.6839774 | 1.2764652 | 2.5877041 | 1.2204636 |\n",
       "| UBA7 | 0.8753293 | 0.9479945 | 1.3330627 | 1.3545021 | 1.4012277 | 1.0190251 | 1.7229316 | 0.8337133 | 1.0038313 | 0.9117344 |\n",
       "| THRA | 1.4066110 | 1.0097321 | 0.6604550 | 0.6860092 | 0.7863153 | 0.5898622 | 0.9050921 | 1.1971904 | 0.8503563 | 0.9668145 |\n",
       "| PTPN21 | 0.9490653 | 0.8197735 | 0.5816383 | 0.5428258 | 0.4708366 | 0.5567084 | 0.6201315 | 0.8163207 | 1.0518593 | 0.9359782 |\n",
       "| CCL5 | 1.3552448 | 0.8693293 | 1.4550548 | 1.1130387 | 0.9304383 | 1.0561844 | 1.6140728 | 1.0406454 | 1.1045746 | 0.8406106 |\n",
       "| CYP2E1 | 1.1783971 | 0.8985217 | 1.9054227 | 1.4497262 | 1.4704667 | 1.5978145 | 1.1633086 | 0.9495343 | 0.9399777 | 1.3396635 |\n",
       "\n"
      ],
      "text/plain": [
       "       GSM300166 GSM300167 GSM300168 GSM300169 GSM300170 GSM300171 GSM300172\n",
       "DDR1   0.9168711 1.2842289 1.3838295 1.4620315 1.4960686 1.2866872 1.3716376\n",
       "RFC2   0.7367870 0.9152165 1.5155498 1.0262097 1.2758373 1.3132664 1.1284863\n",
       "HSPA6  0.8950221 1.0440652 2.0347068 1.6976205 2.5993895 3.8876049 1.6831516\n",
       "PAX8   0.9819619 1.0361480 0.9871635 1.1363467 1.0282362 0.8330552 1.0085661\n",
       "GUCA1A 0.5765267 0.6206102 2.0633803 1.3301512 1.6716562 2.1832146 1.6839774\n",
       "UBA7   0.8753293 0.9479945 1.3330627 1.3545021 1.4012277 1.0190251 1.7229316\n",
       "THRA   1.4066110 1.0097321 0.6604550 0.6860092 0.7863153 0.5898622 0.9050921\n",
       "PTPN21 0.9490653 0.8197735 0.5816383 0.5428258 0.4708366 0.5567084 0.6201315\n",
       "CCL5   1.3552448 0.8693293 1.4550548 1.1130387 0.9304383 1.0561844 1.6140728\n",
       "CYP2E1 1.1783971 0.8985217 1.9054227 1.4497262 1.4704667 1.5978145 1.1633086\n",
       "       GSM300173 GSM300174 GSM300175\n",
       "DDR1   0.6085351 0.8452452 0.6745393\n",
       "RFC2   0.9081397 0.9393891 1.0130529\n",
       "HSPA6  0.8674964 1.4063434 0.7850503\n",
       "PAX8   1.1053528 0.9709147 0.9327358\n",
       "GUCA1A 1.2764652 2.5877041 1.2204636\n",
       "UBA7   0.8337133 1.0038313 0.9117344\n",
       "THRA   1.1971904 0.8503563 0.9668145\n",
       "PTPN21 0.8163207 1.0518593 0.9359782\n",
       "CCL5   1.0406454 1.1045746 0.8406106\n",
       "CYP2E1 0.9495343 0.9399777 1.3396635"
      ]
     },
     "metadata": {},
     "output_type": "display_data"
    }
   ],
   "source": [
    "data\n"
   ]
  }
 ],
 "metadata": {
  "environment": {
   "kernel": "ir",
   "name": "r-cpu.4-1.m93",
   "type": "gcloud",
   "uri": "gcr.io/deeplearning-platform-release/r-cpu.4-1:m93"
  },
  "kernelspec": {
   "display_name": "R",
   "language": "R",
   "name": "ir"
  },
  "language_info": {
   "codemirror_mode": "r",
   "file_extension": ".r",
   "mimetype": "text/x-r-source",
   "name": "R",
   "pygments_lexer": "r",
   "version": "4.1.3"
  },
  "toc-showcode": true
 },
 "nbformat": 4,
 "nbformat_minor": 5
}