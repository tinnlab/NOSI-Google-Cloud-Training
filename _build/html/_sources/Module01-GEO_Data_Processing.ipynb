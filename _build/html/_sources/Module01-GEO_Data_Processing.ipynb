{
 "cells": [
  {
   "cell_type": "markdown",
   "id": "f380fb8f-dc93-414c-b815-6ace422d7f90",
   "metadata": {
    "tags": [],
    "pycharm": {
     "name": "#%% md\n"
    }
   },
   "source": [
    "# GEO data processing\n",
    "\n",
    "![](./images/Module1/Data_Processing.jpg)\n",
    "\n",
    "## Learning Objectives:\n",
    "1. Understanding the type of data that is accessible from GEO.\n",
    "2. Demonstrating how to navigate the GEO website, search for dataset using accession number, and select samples.\n",
    "3. Using command-line to download data from GEO.\n",
    "4. Performing data pre-processing, normalization, loading and saving expression matrix."
   ]
  },
  {
   "cell_type": "markdown",
   "source": [
    "## Accessing public GEO sequencing data\n",
    "The Gene Expression Omnibus (GEO) is a public repository that archives and freely distributes comprehensive sets of\n",
    "microarray, next-generation sequencing, and other forms of high-throughput functional genomic data submitted by the\n",
    "scientific community.\n",
    "In addition to data storage, the website provides set of web-based tools and applications to help users query and\n",
    "download the studies and gene expression patterns stored in GEO.\n",
    "### Searching and accessing data on GEO\n",
    "Searching for GEO is relatively straight forward via GEO website. First, users need to navigate to\n",
    "<a href=\"https://www.ncbi.nlm.nih.gov/geo/\"> https://www.ncbi.nlm.nih.gov/geo/</a>.\n",
    "There are multiple ways for searching datasets but the simples way is to provide the accession number in the search box.\n",
    "We will use an example dataset with the accession number\n",
    "<a href=\"https://www.ncbi.nlm.nih.gov/geo/query/acc.cgi?acc=GSE48350\">GSE48350</a> for demonstration.\n",
    "The GEO website interface with searching procedure of the example dataset is shown in the figure below:\n",
    "![](./images/Module1/GEO_Website.png)\n",
    "\n",
    "When the searching process is done, a webpage with detailed record of the example dataset such as published date,\n",
    "title, organism, experiment type, dataset summary etc. will be shown in the figure below:\n",
    "\n",
    "![](./images/Module1/GEO_Dataset_Page.png)\n",
    "\n",
    "We can see that the dataset GSE48350 was published in Apr 21, 2014 which focuses on Human Alzheimer's\n",
    "Disease using microarray sequencing technology. Samples were primary collected from 4 brain regions:\n",
    "hippocampus (HC), entorhinal cortex (EC), superior frontal cortex (SCG), post-central gyrus (PCG)\n",
    "of normal and disease patients."
   ],
   "metadata": {
    "collapsed": false,
    "pycharm": {
     "name": "#%% md\n"
    }
   }
  },
  {
   "cell_type": "markdown",
   "source": [
    "### Downloading data using web-interface\n",
    "At the bottom of the dataset page, users will find additional information about the dataset such as sequencing platform,\n",
    "number of samples, project ID and links to download the expression data.\n",
    "The exact places to find this information are shown in the figure below:\n",
    "\n",
    "![](./images/Module1/Manual_Download.png)\n",
    "\n",
    "As presented in the figure, the dataset GSE48350 were sequenced using Affymetrix Human Genome U133 Plus 2.0 Array and the whole\n",
    "dataset contains 253 samples. The summary table at the bottom of the page show the all the data generated rom the experiment.\n",
    "User can click to \"(http)\" hyperlink to download all the samples or click \"(custom)\" to select and download the samples of interest.\n",
    "Note that, expression data download from this step are raw data and additional data processing needs to be done locally for further analysis."
   ],
   "metadata": {
    "collapsed": false,
    "pycharm": {
     "name": "#%% md\n"
    }
   }
  },
  {
   "cell_type": "markdown",
   "source": [
    "### Downloading data using R command line\n",
    "\n",
    "If the users have programming background, it is more beneficial to automate the downloading task using R's command line.\n",
    "Getting data from GEO is really quite easy using <a href=\"https://bioconductor.org/packages/release/bioc/html/GEOquery.html\">GEOquery</a>\n",
    "R package available in <a href=\"https://bioconductor.org/\">Bioconductor</a>.\n",
    "Before starting, user need to install GEOquery package using the following command."
   ],
   "metadata": {
    "collapsed": false,
    "pycharm": {
     "name": "#%% md\n"
    }
   }
  },
  {
   "cell_type": "markdown",
   "source": [],
   "metadata": {
    "collapsed": false,
    "pycharm": {
     "name": "#%% md\n"
    }
   }
  },
  {
   "cell_type": "code",
   "source": [
    "suppressMessages({if (!require(\"BiocManager\", quietly = TRUE))\n",
    "    install.packages(\"BiocManager\")\n",
    "BiocManager::install(\"GEOquery\", update = F)\n",
    "})"
   ],
   "metadata": {
    "collapsed": false,
    "pycharm": {
     "name": "#%%\n"
    }
   },
   "execution_count": 36,
   "outputs": []
  },
  {
   "cell_type": "markdown",
   "source": [
    "We can use the `getGEO` function from the `GEOquery` package to download GEO dataset. First, users have to specify the accession ID of the dataset. For demonstration, we will use the same dataset `GSE48350`."
   ],
   "metadata": {
    "collapsed": false,
    "pycharm": {
     "name": "#%% md\n"
    }
   }
  },
  {
   "cell_type": "code",
   "execution_count": 37,
   "id": "6e56fd57-3a91-4715-962b-07f43324c519",
   "metadata": {
    "pycharm": {
     "name": "#%%\n"
    }
   },
   "outputs": [],
   "source": [
    "suppressPackageStartupMessages(library(\"GEOquery\"))\n",
    "## change my_id to be the dataset that you want.\n",
    "accession_ID <- \"GSE48350\"\n",
    "suppressMessages({gse <- getGEO(accession_ID)})"
   ]
  },
  {
   "cell_type": "markdown",
   "source": [
    "Some datasets on GEO may be derived from different microarray platforms. Therefore the object `gse` is a list of different datasets.\n",
    "You can find out how many were used by checking the length of the `gse` object."
   ],
   "metadata": {
    "collapsed": false,
    "pycharm": {
     "name": "#%% md\n"
    }
   }
  },
  {
   "cell_type": "code",
   "execution_count": 39,
   "outputs": [
    {
     "name": "stdout",
     "output_type": "stream",
     "text": [
      "[1] \"Number of platforms: 1\"\n"
     ]
    }
   ],
   "source": [
    "## check how many platforms used\n",
    "print(paste0(\"Number of platforms: \",length(gse)))"
   ],
   "metadata": {
    "collapsed": false,
    "pycharm": {
     "name": "#%%\n"
    }
   }
  },
  {
   "cell_type": "markdown",
   "source": [
    "The result shows that we have only one dataset that belongs to microarray platform mentioned GEO dataset page.\n",
    "Then, we can access the first object in the list and explore the samples and genes metadata using the command below:"
   ],
   "metadata": {
    "collapsed": false,
    "pycharm": {
     "name": "#%% md\n"
    }
   }
  },
  {
   "cell_type": "code",
   "execution_count": 40,
   "outputs": [
    {
     "data": {
      "text/html": "<table class=\"dataframe\">\n<caption>A data.frame: 5 × 5</caption>\n<thead>\n\t<tr><th></th><th scope=col>title</th><th scope=col>geo_accession</th><th scope=col>status</th><th scope=col>submission_date</th><th scope=col>last_update_date</th></tr>\n\t<tr><th></th><th scope=col>&lt;chr&gt;</th><th scope=col>&lt;chr&gt;</th><th scope=col>&lt;chr&gt;</th><th scope=col>&lt;chr&gt;</th><th scope=col>&lt;chr&gt;</th></tr>\n</thead>\n<tbody>\n\t<tr><th scope=row>GSM300166</th><td>PostcentralGyrus_female_91yrs_indiv10    </td><td>GSM300166</td><td>Public on Oct 09 2008</td><td>Jun 25 2008</td><td>Jun 26 2019</td></tr>\n\t<tr><th scope=row>GSM300167</th><td>SuperiorFrontalGyrus_female_91yrs_indiv10</td><td>GSM300167</td><td>Public on Oct 09 2008</td><td>Jun 25 2008</td><td>Jun 26 2019</td></tr>\n\t<tr><th scope=row>GSM300168</th><td>Hippocampus_female_96yrs_indiv105        </td><td>GSM300168</td><td>Public on Oct 09 2008</td><td>Jun 25 2008</td><td>Jun 26 2019</td></tr>\n\t<tr><th scope=row>GSM300169</th><td>Hippocampus_male_82yrs_indiv106          </td><td>GSM300169</td><td>Public on Oct 09 2008</td><td>Jun 25 2008</td><td>Jun 26 2019</td></tr>\n\t<tr><th scope=row>GSM300170</th><td>Hippocampus_male_84yrs_indiv108          </td><td>GSM300170</td><td>Public on Oct 09 2008</td><td>Jun 25 2008</td><td>Jun 26 2019</td></tr>\n</tbody>\n</table>\n",
      "text/markdown": "\nA data.frame: 5 × 5\n\n| <!--/--> | title &lt;chr&gt; | geo_accession &lt;chr&gt; | status &lt;chr&gt; | submission_date &lt;chr&gt; | last_update_date &lt;chr&gt; |\n|---|---|---|---|---|---|\n| GSM300166 | PostcentralGyrus_female_91yrs_indiv10     | GSM300166 | Public on Oct 09 2008 | Jun 25 2008 | Jun 26 2019 |\n| GSM300167 | SuperiorFrontalGyrus_female_91yrs_indiv10 | GSM300167 | Public on Oct 09 2008 | Jun 25 2008 | Jun 26 2019 |\n| GSM300168 | Hippocampus_female_96yrs_indiv105         | GSM300168 | Public on Oct 09 2008 | Jun 25 2008 | Jun 26 2019 |\n| GSM300169 | Hippocampus_male_82yrs_indiv106           | GSM300169 | Public on Oct 09 2008 | Jun 25 2008 | Jun 26 2019 |\n| GSM300170 | Hippocampus_male_84yrs_indiv108           | GSM300170 | Public on Oct 09 2008 | Jun 25 2008 | Jun 26 2019 |\n\n",
      "text/latex": "A data.frame: 5 × 5\n\\begin{tabular}{r|lllll}\n  & title & geo\\_accession & status & submission\\_date & last\\_update\\_date\\\\\n  & <chr> & <chr> & <chr> & <chr> & <chr>\\\\\n\\hline\n\tGSM300166 & PostcentralGyrus\\_female\\_91yrs\\_indiv10     & GSM300166 & Public on Oct 09 2008 & Jun 25 2008 & Jun 26 2019\\\\\n\tGSM300167 & SuperiorFrontalGyrus\\_female\\_91yrs\\_indiv10 & GSM300167 & Public on Oct 09 2008 & Jun 25 2008 & Jun 26 2019\\\\\n\tGSM300168 & Hippocampus\\_female\\_96yrs\\_indiv105         & GSM300168 & Public on Oct 09 2008 & Jun 25 2008 & Jun 26 2019\\\\\n\tGSM300169 & Hippocampus\\_male\\_82yrs\\_indiv106           & GSM300169 & Public on Oct 09 2008 & Jun 25 2008 & Jun 26 2019\\\\\n\tGSM300170 & Hippocampus\\_male\\_84yrs\\_indiv108           & GSM300170 & Public on Oct 09 2008 & Jun 25 2008 & Jun 26 2019\\\\\n\\end{tabular}\n",
      "text/plain": "          title                                     geo_accession\nGSM300166 PostcentralGyrus_female_91yrs_indiv10     GSM300166    \nGSM300167 SuperiorFrontalGyrus_female_91yrs_indiv10 GSM300167    \nGSM300168 Hippocampus_female_96yrs_indiv105         GSM300168    \nGSM300169 Hippocampus_male_82yrs_indiv106           GSM300169    \nGSM300170 Hippocampus_male_84yrs_indiv108           GSM300170    \n          status                submission_date last_update_date\nGSM300166 Public on Oct 09 2008 Jun 25 2008     Jun 26 2019     \nGSM300167 Public on Oct 09 2008 Jun 25 2008     Jun 26 2019     \nGSM300168 Public on Oct 09 2008 Jun 25 2008     Jun 26 2019     \nGSM300169 Public on Oct 09 2008 Jun 25 2008     Jun 26 2019     \nGSM300170 Public on Oct 09 2008 Jun 25 2008     Jun 26 2019     "
     },
     "metadata": {},
     "output_type": "display_data"
    },
    {
     "data": {
      "text/html": "<table class=\"dataframe\">\n<caption>A data.frame: 5 × 5</caption>\n<thead>\n\t<tr><th></th><th scope=col>ID</th><th scope=col>GB_ACC</th><th scope=col>SPOT_ID</th><th scope=col>Species Scientific Name</th><th scope=col>Annotation Date</th></tr>\n\t<tr><th></th><th scope=col>&lt;chr&gt;</th><th scope=col>&lt;chr&gt;</th><th scope=col>&lt;chr&gt;</th><th scope=col>&lt;chr&gt;</th><th scope=col>&lt;chr&gt;</th></tr>\n</thead>\n<tbody>\n\t<tr><th scope=row>1007_s_at</th><td>1007_s_at</td><td>U48705</td><td></td><td>Homo sapiens</td><td>Oct 6, 2014</td></tr>\n\t<tr><th scope=row>1053_at</th><td>1053_at  </td><td>M87338</td><td></td><td>Homo sapiens</td><td>Oct 6, 2014</td></tr>\n\t<tr><th scope=row>117_at</th><td>117_at   </td><td>X51757</td><td></td><td>Homo sapiens</td><td>Oct 6, 2014</td></tr>\n\t<tr><th scope=row>121_at</th><td>121_at   </td><td>X69699</td><td></td><td>Homo sapiens</td><td>Oct 6, 2014</td></tr>\n\t<tr><th scope=row>1255_g_at</th><td>1255_g_at</td><td>L36861</td><td></td><td>Homo sapiens</td><td>Oct 6, 2014</td></tr>\n</tbody>\n</table>\n",
      "text/markdown": "\nA data.frame: 5 × 5\n\n| <!--/--> | ID &lt;chr&gt; | GB_ACC &lt;chr&gt; | SPOT_ID &lt;chr&gt; | Species Scientific Name &lt;chr&gt; | Annotation Date &lt;chr&gt; |\n|---|---|---|---|---|---|\n| 1007_s_at | 1007_s_at | U48705 | <!----> | Homo sapiens | Oct 6, 2014 |\n| 1053_at | 1053_at   | M87338 | <!----> | Homo sapiens | Oct 6, 2014 |\n| 117_at | 117_at    | X51757 | <!----> | Homo sapiens | Oct 6, 2014 |\n| 121_at | 121_at    | X69699 | <!----> | Homo sapiens | Oct 6, 2014 |\n| 1255_g_at | 1255_g_at | L36861 | <!----> | Homo sapiens | Oct 6, 2014 |\n\n",
      "text/latex": "A data.frame: 5 × 5\n\\begin{tabular}{r|lllll}\n  & ID & GB\\_ACC & SPOT\\_ID & Species Scientific Name & Annotation Date\\\\\n  & <chr> & <chr> & <chr> & <chr> & <chr>\\\\\n\\hline\n\t1007\\_s\\_at & 1007\\_s\\_at & U48705 &  & Homo sapiens & Oct 6, 2014\\\\\n\t1053\\_at & 1053\\_at   & M87338 &  & Homo sapiens & Oct 6, 2014\\\\\n\t117\\_at & 117\\_at    & X51757 &  & Homo sapiens & Oct 6, 2014\\\\\n\t121\\_at & 121\\_at    & X69699 &  & Homo sapiens & Oct 6, 2014\\\\\n\t1255\\_g\\_at & 1255\\_g\\_at & L36861 &  & Homo sapiens & Oct 6, 2014\\\\\n\\end{tabular}\n",
      "text/plain": "          ID        GB_ACC SPOT_ID Species Scientific Name Annotation Date\n1007_s_at 1007_s_at U48705         Homo sapiens            Oct 6, 2014    \n1053_at   1053_at   M87338         Homo sapiens            Oct 6, 2014    \n117_at    117_at    X51757         Homo sapiens            Oct 6, 2014    \n121_at    121_at    X69699         Homo sapiens            Oct 6, 2014    \n1255_g_at 1255_g_at L36861         Homo sapiens            Oct 6, 2014    "
     },
     "metadata": {},
     "output_type": "display_data"
    }
   ],
   "source": [
    "# if more than one dataset is present, users can analyse the other dataset by changing the number inside the [[...]]\n",
    "data <- gse[[1]]\n",
    "# Get the samples information\n",
    "samples <- pData(data)\n",
    "# Get the genes information\n",
    "genes <- fData(data)\n",
    "# View the first 5 samples/genes with some of their features\n",
    "samples[1:5,1:5]\n",
    "genes[1:5,1:5]"
   ],
   "metadata": {
    "collapsed": false,
    "pycharm": {
     "name": "#%%\n"
    }
   }
  },
  {
   "cell_type": "markdown",
   "source": [],
   "metadata": {
    "collapsed": false,
    "pycharm": {
     "name": "#%% md\n"
    }
   }
  },
  {
   "cell_type": "code",
   "execution_count": 17,
   "outputs": [
    {
     "data": {
      "text/html": "<table class=\"dataframe\">\n<caption>A matrix: 6 × 5 of type dbl</caption>\n<thead>\n\t<tr><th></th><th scope=col>GSM300166</th><th scope=col>GSM300167</th><th scope=col>GSM300168</th><th scope=col>GSM300169</th><th scope=col>GSM300170</th></tr>\n</thead>\n<tbody>\n\t<tr><th scope=row>1007_s_at</th><td>0.8880162</td><td>1.4355185</td><td>1.6096015</td><td>1.754960</td><td>1.820730</td></tr>\n\t<tr><th scope=row>1053_at</th><td>0.6664604</td><td>0.8858521</td><td>1.8590777</td><td>1.036666</td><td>1.421393</td></tr>\n\t<tr><th scope=row>117_at</th><td>0.8596384</td><td>1.0620298</td><td>3.0973945</td><td>2.243655</td><td>5.060301</td></tr>\n\t<tr><th scope=row>121_at</th><td>0.9751495</td><td>1.0507448</td><td>0.9822838</td><td>1.198237</td><td>1.039529</td></tr>\n\t<tr><th scope=row>1255_g_at</th><td>0.4912547</td><td>0.5375254</td><td>3.1796446</td><td>1.514290</td><td>2.185801</td></tr>\n\t<tr><th scope=row>1294_at</th><td>0.8344268</td><td>0.9291890</td><td>1.5193694</td><td>1.557089</td><td>1.641263</td></tr>\n</tbody>\n</table>\n",
      "text/markdown": "\nA matrix: 6 × 5 of type dbl\n\n| <!--/--> | GSM300166 | GSM300167 | GSM300168 | GSM300169 | GSM300170 |\n|---|---|---|---|---|---|\n| 1007_s_at | 0.8880162 | 1.4355185 | 1.6096015 | 1.754960 | 1.820730 |\n| 1053_at | 0.6664604 | 0.8858521 | 1.8590777 | 1.036666 | 1.421393 |\n| 117_at | 0.8596384 | 1.0620298 | 3.0973945 | 2.243655 | 5.060301 |\n| 121_at | 0.9751495 | 1.0507448 | 0.9822838 | 1.198237 | 1.039529 |\n| 1255_g_at | 0.4912547 | 0.5375254 | 3.1796446 | 1.514290 | 2.185801 |\n| 1294_at | 0.8344268 | 0.9291890 | 1.5193694 | 1.557089 | 1.641263 |\n\n",
      "text/latex": "A matrix: 6 × 5 of type dbl\n\\begin{tabular}{r|lllll}\n  & GSM300166 & GSM300167 & GSM300168 & GSM300169 & GSM300170\\\\\n\\hline\n\t1007\\_s\\_at & 0.8880162 & 1.4355185 & 1.6096015 & 1.754960 & 1.820730\\\\\n\t1053\\_at & 0.6664604 & 0.8858521 & 1.8590777 & 1.036666 & 1.421393\\\\\n\t117\\_at & 0.8596384 & 1.0620298 & 3.0973945 & 2.243655 & 5.060301\\\\\n\t121\\_at & 0.9751495 & 1.0507448 & 0.9822838 & 1.198237 & 1.039529\\\\\n\t1255\\_g\\_at & 0.4912547 & 0.5375254 & 3.1796446 & 1.514290 & 2.185801\\\\\n\t1294\\_at & 0.8344268 & 0.9291890 & 1.5193694 & 1.557089 & 1.641263\\\\\n\\end{tabular}\n",
      "text/plain": "          GSM300166 GSM300167 GSM300168 GSM300169 GSM300170\n1007_s_at 0.8880162 1.4355185 1.6096015 1.754960  1.820730 \n1053_at   0.6664604 0.8858521 1.8590777 1.036666  1.421393 \n117_at    0.8596384 1.0620298 3.0973945 2.243655  5.060301 \n121_at    0.9751495 1.0507448 0.9822838 1.198237  1.039529 \n1255_g_at 0.4912547 0.5375254 3.1796446 1.514290  2.185801 \n1294_at   0.8344268 0.9291890 1.5193694 1.557089  1.641263 "
     },
     "metadata": {},
     "output_type": "display_data"
    }
   ],
   "source": [
    "head(exprs(data)[,1:5])"
   ],
   "metadata": {
    "collapsed": false,
    "pycharm": {
     "name": "#%%\n"
    }
   }
  },
  {
   "cell_type": "markdown",
   "source": [
    "The `summary` function can then be used to print the distributions of each sample and\n",
    "the `range` function can help to check for the expression value range."
   ],
   "metadata": {
    "collapsed": false,
    "pycharm": {
     "name": "#%% md\n"
    }
   }
  },
  {
   "cell_type": "code",
   "execution_count": 18,
   "outputs": [
    {
     "data": {
      "text/plain": "   GSM300166          GSM300167          GSM300168         GSM300169       \n Min.   :  0.0100   Min.   :  0.0100   Min.   : 0.0100   Min.   : 0.01942  \n 1st Qu.:  0.6366   1st Qu.:  0.6519   1st Qu.: 0.3342   1st Qu.: 0.32045  \n Median :  0.8622   Median :  0.8828   Median : 0.7756   Median : 0.75063  \n Mean   :  0.9193   Mean   :  0.9492   Mean   : 0.9274   Mean   : 0.87928  \n 3rd Qu.:  1.0903   3rd Qu.:  1.0880   3rd Qu.: 1.1929   3rd Qu.: 1.15987  \n Max.   :335.6746   Max.   :531.7116   Max.   :99.4657   Max.   :26.46015  \n   GSM300170       \n Min.   : 0.01098  \n 1st Qu.: 0.32324  \n Median : 0.77234  \n Mean   : 0.93768  \n 3rd Qu.: 1.21978  \n Max.   :83.41583  "
     },
     "metadata": {},
     "output_type": "display_data"
    },
    {
     "data": {
      "text/html": "<style>\n.list-inline {list-style: none; margin:0; padding: 0}\n.list-inline>li {display: inline-block}\n.list-inline>li:not(:last-child)::after {content: \"\\00b7\"; padding: 0 .5ex}\n</style>\n<ol class=list-inline><li>0.01</li><li>1438.7626</li></ol>\n",
      "text/markdown": "1. 0.01\n2. 1438.7626\n\n\n",
      "text/latex": "\\begin{enumerate*}\n\\item 0.01\n\\item 1438.7626\n\\end{enumerate*}\n",
      "text/plain": "[1]    0.010 1438.763"
     },
     "metadata": {},
     "output_type": "display_data"
    }
   ],
   "source": [
    "summary(exprs(data)[,1:5])\n",
    "range(exprs(data))"
   ],
   "metadata": {
    "collapsed": false,
    "pycharm": {
     "name": "#%%\n"
    }
   }
  },
  {
   "cell_type": "markdown",
   "source": [
    "From this output we clearly see that the values go beyond `16`, so we will need to perform a $log_2$ transformation.\n",
    "`boxplot` can also be generated to see if the data have been normalised. If so, the distributions of each sample\n",
    "should be highly similar."
   ],
   "metadata": {
    "collapsed": false,
    "pycharm": {
     "name": "#%% md\n"
    }
   }
  },
  {
   "cell_type": "code",
   "execution_count": 19,
   "outputs": [
    {
     "data": {
      "text/plain": "plot without title",
      "image/png": "[encoded data removed]"
     },
     "metadata": {
      "image/png": {
       "width": 420,
       "height": 420
      }
     },
     "output_type": "display_data"
    }
   ],
   "source": [
    "# Get expression matrix\n",
    "ex <- exprs(data)\n",
    "# Calculate data quantile and remove the NA value\n",
    "qx <- as.numeric(quantile(ex, c(0., 0.25, 0.5, 0.75, 0.99, 1.0), na.rm=T))\n",
    "LogC <- (qx[5] > 100) ||\n",
    "  (qx[6]-qx[1] > 50 && qx[2] > 0)\n",
    "\n",
    "# Replace negative values by NA and perform log transformation\n",
    "if (LogC) {\n",
    "   ex[which(ex <= 0)] <- NaN #\n",
    "    norm_ex <- log2(ex+1)\n",
    "}\n",
    "# Plot the boxplot of 10 samples\n",
    "boxplot(norm_ex[,1:10],outline=FALSE)"
   ],
   "metadata": {
    "collapsed": false,
    "pycharm": {
     "name": "#%%\n"
    }
   }
  },
  {
   "cell_type": "markdown",
   "id": "b0209857-88b4-422e-b64b-fbea32ebf1d1",
   "metadata": {
    "pycharm": {
     "name": "#%% md\n"
    }
   },
   "source": [
    "## Exporting the data\n",
    "When we have successfully retrieved expression data from GEO, we can export the expression data to a `csv`\n",
    "for inspection in other software such as Excel using the `write_csv` function from `readr`.\n",
    "For demonstration purpose, we will save the expression data of the first 10 samples with 10 genes into disk."
   ]
  },
  {
   "cell_type": "code",
   "execution_count": 42,
   "outputs": [],
   "source": [
    "# Select 10 samples and 10 genes\n",
    "norm_ex <- as.data.frame(norm_ex[1:10,1:10])\n",
    "\n",
    "# Create a sub-directory data folder to save the expression matrix if it is not available\n",
    "dir <- getwd()\n",
    "subDir <- \"/data\"\n",
    "path <- paste0(dir,subDir)\n",
    "if (!file.exists(path)){\n",
    "    dir.create(file.path(path))\n",
    "}\n",
    "# Save expresion values to the csv format in the local folder\n",
    "write.csv(norm_ex, file=\"./data/GSE48350.csv\")"
   ],
   "metadata": {
    "collapsed": false,
    "pycharm": {
     "name": "#%%\n"
    }
   }
  },
  {
   "cell_type": "markdown",
   "source": [
    "The `csv` format is a very simple format that might not suitable to store big dataset.\n",
    "We can export the expression data to `rds` format so that is more memory efficient for loading and saving the data.\n",
    "We can do that using built in `saveRDS` function."
   ],
   "metadata": {
    "collapsed": false,
    "pycharm": {
     "name": "#%% md\n"
    }
   }
  },
  {
   "cell_type": "code",
   "execution_count": 43,
   "outputs": [],
   "source": [
    "# Save expresion values to the rds format\n",
    "saveRDS(norm_ex, file=\"./data/GSE48350.rds\")\n"
   ],
   "metadata": {
    "collapsed": false,
    "pycharm": {
     "name": "#%%\n"
    }
   }
  }
 ],
 "metadata": {
  "environment": {
   "kernel": "ir",
   "name": "r-cpu.4-1.m93",
   "type": "gcloud",
   "uri": "gcr.io/deeplearning-platform-release/r-cpu.4-1:m93"
  },
  "kernelspec": {
   "display_name": "R",
   "language": "R",
   "name": "ir"
  },
  "language_info": {
   "codemirror_mode": "r",
   "file_extension": ".r",
   "mimetype": "text/x-r-source",
   "name": "R",
   "pygments_lexer": "r",
   "version": "4.2.0"
  },
  "toc-showcode": true
 },
 "nbformat": 4,
 "nbformat_minor": 5
}