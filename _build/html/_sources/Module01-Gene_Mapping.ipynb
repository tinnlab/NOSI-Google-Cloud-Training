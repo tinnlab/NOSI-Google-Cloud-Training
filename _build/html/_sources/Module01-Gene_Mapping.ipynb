{
 "cells": [
  {
   "cell_type": "markdown",
   "id": "f380fb8f-dc93-414c-b815-6ace422d7f90",
   "metadata": {
    "tags": [],
    "pycharm": {
     "name": "#%% md\n"
    }
   },
   "source": [
    "# Gene ID mapping\n",
    "\n",
    "![](./images/Module1/Gene_ID_Conversion.jpg)\n",
    "## Learning Objectives:\n",
    "1. Understanding different probe set ID.\n",
    "2. Mapping probe IDs into gene identifiers and symbols."
   ]
  },
  {
   "cell_type": "markdown",
   "source": [],
   "metadata": {
    "collapsed": false,
    "pycharm": {
     "name": "#%% md\n"
    }
   }
  },
  {
   "cell_type": "markdown",
   "source": [
    "### Understanding different probe set ID\n",
    "\n",
    "Gene set or pathway analysis requires that gene sets and expression data use the same type of gene ID\n",
    "(Entrez Gene ID, Gene symbol or probe set ID etc). However, this is frequently not true for the data we have.\n",
    "For example, our gene sets mostly use Entrez Gene ID, but microarray datasets are frequently labeled by probe\n",
    "set ID (or RefSeq transcript ID etc). Therefore, we need to convert or map the probe set IDs to Entrez gene ID.\n",
    "Here, we will use `GSE48350` dataset that we have used in the previous section for demonstration of gene ID mapping.\n",
    "In order to know what kind of probe set ID, we need to navigate to GEO record page of `GSE48350`. Under the `Platform`\n",
    "tab, we can find the probe ID information.\n",
    "![probID](./images/Module1/ProbeID.png)"
   ],
   "metadata": {
    "collapsed": false,
    "pycharm": {
     "name": "#%% md\n"
    }
   }
  },
  {
   "cell_type": "markdown",
   "source": [
    "From the record page, we know that the dataset was generated from 1 platform using Affymetrix Human Genome U133 Plus 2.0 Array.\n",
    "To convert or map the probe set IDs to Entrez gene ID, we need to find the corresponding annotation package from\n",
    "<a href=\"https://bioconductor.org/\">Bioconductor</a>. For analyzed data, we need to use the `hgu133plus2.db` database.\n",
    "We can install the package using following R command:"
   ],
   "metadata": {
    "collapsed": false,
    "pycharm": {
     "name": "#%% md\n"
    }
   }
  },
  {
   "cell_type": "code",
   "execution_count": 40,
   "outputs": [],
   "source": [
    "suppressMessages({if (!require(\"BiocManager\", quietly = TRUE))\n",
    "    install.packages(\"BiocManager\")\n",
    "suppressWarnings(BiocManager::install(\"hgu133plus2.db\", update = F))\n",
    "})"
   ],
   "metadata": {
    "collapsed": false,
    "pycharm": {
     "name": "#%%\n"
    }
   }
  },
  {
   "cell_type": "markdown",
   "source": [
    "In the previous section, we have successfully downloaded the dataset `GSE48350` and saved a sub-set of it to the `data` sub-directory.\n",
    "Now we can load the sample dataset and check for the Probe Set ID names by using the following command."
   ],
   "metadata": {
    "collapsed": false,
    "pycharm": {
     "name": "#%% md\n"
    }
   }
  },
  {
   "cell_type": "code",
   "execution_count": 1,
   "outputs": [
    {
     "data": {
      "text/html": "<style>\n.list-inline {list-style: none; margin:0; padding: 0}\n.list-inline>li {display: inline-block}\n.list-inline>li:not(:last-child)::after {content: \"\\00b7\"; padding: 0 .5ex}\n</style>\n<ol class=list-inline><li>'1007_s_at'</li><li>'1053_at'</li><li>'117_at'</li><li>'121_at'</li><li>'1255_g_at'</li><li>'1294_at'</li><li>'1316_at'</li><li>'1320_at'</li><li>'1405_i_at'</li><li>'1431_at'</li></ol>\n",
      "text/markdown": "1. '1007_s_at'\n2. '1053_at'\n3. '117_at'\n4. '121_at'\n5. '1255_g_at'\n6. '1294_at'\n7. '1316_at'\n8. '1320_at'\n9. '1405_i_at'\n10. '1431_at'\n\n\n",
      "text/latex": "\\begin{enumerate*}\n\\item '1007\\_s\\_at'\n\\item '1053\\_at'\n\\item '117\\_at'\n\\item '121\\_at'\n\\item '1255\\_g\\_at'\n\\item '1294\\_at'\n\\item '1316\\_at'\n\\item '1320\\_at'\n\\item '1405\\_i\\_at'\n\\item '1431\\_at'\n\\end{enumerate*}\n",
      "text/plain": " [1] \"1007_s_at\" \"1053_at\"   \"117_at\"    \"121_at\"    \"1255_g_at\" \"1294_at\"  \n [7] \"1316_at\"   \"1320_at\"   \"1405_i_at\" \"1431_at\"  "
     },
     "metadata": {},
     "output_type": "display_data"
    }
   ],
   "source": [
    "data = readRDS(\"./data/GSE48350.rds\")\n",
    "probeIDs = rownames(data)\n",
    "probeIDs"
   ],
   "metadata": {
    "collapsed": false,
    "pycharm": {
     "name": "#%%\n"
    }
   }
  },
  {
   "cell_type": "markdown",
   "source": [
    "**Probe Set ID** is the identifier that refers to a set of probe pairs selected to represent expressed sequences on an array. Designations are given at design time.\n",
    "\n",
    "The probe set names never change, but they can give you an idea of what was known about the sequence at the time of design.\n",
    "\n",
    "* **_at** = all the probes hit one known transcript.\n",
    "* **_a** = all probes in the set hit alternate transcripts from the same genes.\n",
    "* **_s** = all probes in the set hit transcripts from different genes.\n",
    "* **_x** = some probes hit transcripts from different genes.\n",
    "\n",
    "For HG-U133, the **_a** designation was not used; an **_s** probe set on these arrays means the same as an **_a** on any of the HG-U133 arrays."
   ],
   "metadata": {
    "collapsed": false,
    "pycharm": {
     "name": "#%% md\n"
    }
   }
  },
  {
   "cell_type": "markdown",
   "source": [
    "### Mapping probe IDs into gene identifiers and symbols.\n",
    "For pathway analysis, Probe set IDs should be mapped to Ensembl ID and SYMBOL.\n",
    "Ensembl ID is a transcript identifier from the ENSEMBL project while SYMBOL is a gene symbol is a short-form abbreviation for a particular gene.\n",
    "We can load the `hgu133plus2.db` database to perform Probe ID mapping using the following command:"
   ],
   "metadata": {
    "collapsed": false,
    "pycharm": {
     "name": "#%% md\n"
    }
   }
  },
  {
   "cell_type": "code",
   "execution_count": 34,
   "outputs": [],
   "source": [
    "suppressMessages({library(hgu133plus2.db)})"
   ],
   "metadata": {
    "collapsed": false,
    "pycharm": {
     "name": "#%%\n"
    }
   }
  },
  {
   "cell_type": "markdown",
   "source": [
    "Here, we can build a  lookup table that maps the Probe ID to Ensembl ID and gene symbol using the following command:"
   ],
   "metadata": {
    "collapsed": false,
    "pycharm": {
     "name": "#%% md\n"
    }
   }
  },
  {
   "cell_type": "code",
   "execution_count": 35,
   "outputs": [],
   "source": [
    "suppressMessages({\n",
    "annotLookup <- select(hgu133plus2.db, keys = probeIDs, columns = c('PROBEID', 'ENSEMBL', 'SYMBOL'))\n",
    "})"
   ],
   "metadata": {
    "collapsed": false,
    "pycharm": {
     "name": "#%%\n"
    }
   }
  },
  {
   "cell_type": "code",
   "execution_count": 36,
   "outputs": [
    {
     "data": {
      "text/html": "<table class=\"dataframe\">\n<caption>A data.frame: 17 × 3</caption>\n<thead>\n\t<tr><th scope=col>PROBEID</th><th scope=col>ENSEMBL</th><th scope=col>SYMBOL</th></tr>\n\t<tr><th scope=col>&lt;chr&gt;</th><th scope=col>&lt;chr&gt;</th><th scope=col>&lt;chr&gt;</th></tr>\n</thead>\n<tbody>\n\t<tr><td>1007_s_at</td><td>ENSG00000204580</td><td>DDR1  </td></tr>\n\t<tr><td>1007_s_at</td><td>ENSG00000223680</td><td>DDR1  </td></tr>\n\t<tr><td>1007_s_at</td><td>ENSG00000229767</td><td>DDR1  </td></tr>\n\t<tr><td>1007_s_at</td><td>ENSG00000234078</td><td>DDR1  </td></tr>\n\t<tr><td>1007_s_at</td><td>ENSG00000215522</td><td>DDR1  </td></tr>\n\t<tr><td>1007_s_at</td><td>ENSG00000137332</td><td>DDR1  </td></tr>\n\t<tr><td>1007_s_at</td><td>ENSG00000230456</td><td>DDR1  </td></tr>\n\t<tr><td>1053_at  </td><td>ENSG00000049541</td><td>RFC2  </td></tr>\n\t<tr><td>117_at   </td><td>ENSG00000173110</td><td>HSPA6 </td></tr>\n\t<tr><td>121_at   </td><td>ENSG00000125618</td><td>PAX8  </td></tr>\n\t<tr><td>1255_g_at</td><td>ENSG00000048545</td><td>GUCA1A</td></tr>\n\t<tr><td>1294_at  </td><td>ENSG00000182179</td><td>UBA7  </td></tr>\n\t<tr><td>1316_at  </td><td>ENSG00000126351</td><td>THRA  </td></tr>\n\t<tr><td>1320_at  </td><td>ENSG00000070778</td><td>PTPN21</td></tr>\n\t<tr><td>1405_i_at</td><td>ENSG00000271503</td><td>CCL5  </td></tr>\n\t<tr><td>1405_i_at</td><td>ENSG00000274233</td><td>CCL5  </td></tr>\n\t<tr><td>1431_at  </td><td>ENSG00000130649</td><td>CYP2E1</td></tr>\n</tbody>\n</table>\n",
      "text/markdown": "\nA data.frame: 17 × 3\n\n| PROBEID &lt;chr&gt; | ENSEMBL &lt;chr&gt; | SYMBOL &lt;chr&gt; |\n|---|---|---|\n| 1007_s_at | ENSG00000204580 | DDR1   |\n| 1007_s_at | ENSG00000223680 | DDR1   |\n| 1007_s_at | ENSG00000229767 | DDR1   |\n| 1007_s_at | ENSG00000234078 | DDR1   |\n| 1007_s_at | ENSG00000215522 | DDR1   |\n| 1007_s_at | ENSG00000137332 | DDR1   |\n| 1007_s_at | ENSG00000230456 | DDR1   |\n| 1053_at   | ENSG00000049541 | RFC2   |\n| 117_at    | ENSG00000173110 | HSPA6  |\n| 121_at    | ENSG00000125618 | PAX8   |\n| 1255_g_at | ENSG00000048545 | GUCA1A |\n| 1294_at   | ENSG00000182179 | UBA7   |\n| 1316_at   | ENSG00000126351 | THRA   |\n| 1320_at   | ENSG00000070778 | PTPN21 |\n| 1405_i_at | ENSG00000271503 | CCL5   |\n| 1405_i_at | ENSG00000274233 | CCL5   |\n| 1431_at   | ENSG00000130649 | CYP2E1 |\n\n",
      "text/latex": "A data.frame: 17 × 3\n\\begin{tabular}{lll}\n PROBEID & ENSEMBL & SYMBOL\\\\\n <chr> & <chr> & <chr>\\\\\n\\hline\n\t 1007\\_s\\_at & ENSG00000204580 & DDR1  \\\\\n\t 1007\\_s\\_at & ENSG00000223680 & DDR1  \\\\\n\t 1007\\_s\\_at & ENSG00000229767 & DDR1  \\\\\n\t 1007\\_s\\_at & ENSG00000234078 & DDR1  \\\\\n\t 1007\\_s\\_at & ENSG00000215522 & DDR1  \\\\\n\t 1007\\_s\\_at & ENSG00000137332 & DDR1  \\\\\n\t 1007\\_s\\_at & ENSG00000230456 & DDR1  \\\\\n\t 1053\\_at   & ENSG00000049541 & RFC2  \\\\\n\t 117\\_at    & ENSG00000173110 & HSPA6 \\\\\n\t 121\\_at    & ENSG00000125618 & PAX8  \\\\\n\t 1255\\_g\\_at & ENSG00000048545 & GUCA1A\\\\\n\t 1294\\_at   & ENSG00000182179 & UBA7  \\\\\n\t 1316\\_at   & ENSG00000126351 & THRA  \\\\\n\t 1320\\_at   & ENSG00000070778 & PTPN21\\\\\n\t 1405\\_i\\_at & ENSG00000271503 & CCL5  \\\\\n\t 1405\\_i\\_at & ENSG00000274233 & CCL5  \\\\\n\t 1431\\_at   & ENSG00000130649 & CYP2E1\\\\\n\\end{tabular}\n",
      "text/plain": "   PROBEID   ENSEMBL         SYMBOL\n1  1007_s_at ENSG00000204580 DDR1  \n2  1007_s_at ENSG00000223680 DDR1  \n3  1007_s_at ENSG00000229767 DDR1  \n4  1007_s_at ENSG00000234078 DDR1  \n5  1007_s_at ENSG00000215522 DDR1  \n6  1007_s_at ENSG00000137332 DDR1  \n7  1007_s_at ENSG00000230456 DDR1  \n8  1053_at   ENSG00000049541 RFC2  \n9  117_at    ENSG00000173110 HSPA6 \n10 121_at    ENSG00000125618 PAX8  \n11 1255_g_at ENSG00000048545 GUCA1A\n12 1294_at   ENSG00000182179 UBA7  \n13 1316_at   ENSG00000126351 THRA  \n14 1320_at   ENSG00000070778 PTPN21\n15 1405_i_at ENSG00000271503 CCL5  \n16 1405_i_at ENSG00000274233 CCL5  \n17 1431_at   ENSG00000130649 CYP2E1"
     },
     "metadata": {},
     "output_type": "display_data"
    }
   ],
   "source": [
    "annotLookup"
   ],
   "metadata": {
    "collapsed": false,
    "pycharm": {
     "name": "#%%\n"
    }
   }
  },
  {
   "cell_type": "markdown",
   "source": [
    "From the lookup table we can spot that a single Probe ID can be mapped to multiple Ensembl IDs.\n",
    "Depending on analysis performed, users can select their own Ensembl ID of interest. Here is a simple way to\n",
    "replace Probe IDs with gene symbols :"
   ],
   "metadata": {
    "collapsed": false,
    "pycharm": {
     "name": "#%% md\n"
    }
   }
  },
  {
   "cell_type": "code",
   "execution_count": 26,
   "outputs": [],
   "source": [
    "rownames(data) <- unique(annotLookup$SYMBOL)"
   ],
   "metadata": {
    "collapsed": false,
    "pycharm": {
     "name": "#%%\n"
    }
   }
  },
  {
   "cell_type": "code",
   "execution_count": 37,
   "outputs": [
    {
     "data": {
      "text/html": "<table class=\"dataframe\">\n<caption>A data.frame: 10 × 10</caption>\n<thead>\n\t<tr><th></th><th scope=col>GSM300166</th><th scope=col>GSM300167</th><th scope=col>GSM300168</th><th scope=col>GSM300169</th><th scope=col>GSM300170</th><th scope=col>GSM300171</th><th scope=col>GSM300172</th><th scope=col>GSM300173</th><th scope=col>GSM300174</th><th scope=col>GSM300175</th></tr>\n\t<tr><th></th><th scope=col>&lt;dbl&gt;</th><th scope=col>&lt;dbl&gt;</th><th scope=col>&lt;dbl&gt;</th><th scope=col>&lt;dbl&gt;</th><th scope=col>&lt;dbl&gt;</th><th scope=col>&lt;dbl&gt;</th><th scope=col>&lt;dbl&gt;</th><th scope=col>&lt;dbl&gt;</th><th scope=col>&lt;dbl&gt;</th><th scope=col>&lt;dbl&gt;</th></tr>\n</thead>\n<tbody>\n\t<tr><th scope=row>DDR1</th><td>-0.17134216</td><td> 0.52157192</td><td> 0.68670355</td><td> 0.81143831</td><td> 0.86451700</td><td> 0.52574016</td><td> 0.66688491</td><td>-0.93040715</td><td>-0.328126840</td><td>-0.74640518</td></tr>\n\t<tr><th scope=row>RFC2</th><td>-0.58540894</td><td>-0.17486225</td><td> 0.89458707</td><td> 0.05195171</td><td> 0.50730550</td><td> 0.57049732</td><td> 0.24645953</td><td>-0.18996975</td><td>-0.123880381</td><td> 0.02598866</td></tr>\n\t<tr><th scope=row>HSPA6</th><td>-0.21819817</td><td> 0.08682425</td><td> 1.63105514</td><td> 1.16585098</td><td> 2.33922329</td><td> 3.78668177</td><td> 1.14488628</td><td>-0.27841910</td><td> 0.723029702</td><td>-0.46762850</td></tr>\n\t<tr><th scope=row>PAX8</th><td>-0.03630468</td><td> 0.07141232</td><td>-0.02578819</td><td> 0.26091293</td><td> 0.05593042</td><td>-0.35576714</td><td> 0.01708155</td><td> 0.20353308</td><td>-0.058768961</td><td>-0.13781851</td></tr>\n\t<tr><th scope=row>GUCA1A</th><td>-1.02545683</td><td>-0.89559517</td><td> 1.66886552</td><td> 0.59864181</td><td> 1.12816206</td><td> 1.82441916</td><td> 1.14608539</td><td> 0.50837510</td><td> 2.325217438</td><td> 0.41166042</td></tr>\n\t<tr><th scope=row>UBA7</th><td>-0.26114260</td><td>-0.10595602</td><td> 0.60347267</td><td> 0.63885094</td><td> 0.71480600</td><td> 0.03780249</td><td> 1.20230186</td><td>-0.35426747</td><td> 0.007652498</td><td>-0.18228540</td></tr>\n\t<tr><th scope=row>THRA</th><td> 0.72345948</td><td> 0.01939904</td><td>-0.78443074</td><td>-0.71589564</td><td>-0.46461587</td><td>-0.98535048</td><td>-0.19650176</td><td> 0.37064082</td><td>-0.316624769</td><td>-0.06715241</td></tr>\n\t<tr><th scope=row>PTPN21</th><td>-0.10373373</td><td>-0.38622528</td><td>-1.00999569</td><td>-1.13029217</td><td>-1.37365271</td><td>-1.08647842</td><td>-0.89696490</td><td>-0.39420333</td><td> 0.101918960</td><td>-0.13101714</td></tr>\n\t<tr><th scope=row>CCL5</th><td> 0.64007049</td><td>-0.27436622</td><td> 0.80047113</td><td> 0.21786040</td><td>-0.14264812</td><td> 0.11026261</td><td> 1.04344810</td><td> 0.08017696</td><td> 0.202078644</td><td>-0.33860081</td></tr>\n\t<tr><th scope=row>CYP2E1</th><td> 0.33714224</td><td>-0.21063832</td><td> 1.45742961</td><td> 0.79207413</td><td> 0.82465805</td><td> 1.01923527</td><td> 0.30999663</td><td>-0.10276091</td><td>-0.122650510</td><td> 0.61440153</td></tr>\n</tbody>\n</table>\n",
      "text/markdown": "\nA data.frame: 10 × 10\n\n| <!--/--> | GSM300166 &lt;dbl&gt; | GSM300167 &lt;dbl&gt; | GSM300168 &lt;dbl&gt; | GSM300169 &lt;dbl&gt; | GSM300170 &lt;dbl&gt; | GSM300171 &lt;dbl&gt; | GSM300172 &lt;dbl&gt; | GSM300173 &lt;dbl&gt; | GSM300174 &lt;dbl&gt; | GSM300175 &lt;dbl&gt; |\n|---|---|---|---|---|---|---|---|---|---|---|\n| DDR1 | -0.17134216 |  0.52157192 |  0.68670355 |  0.81143831 |  0.86451700 |  0.52574016 |  0.66688491 | -0.93040715 | -0.328126840 | -0.74640518 |\n| RFC2 | -0.58540894 | -0.17486225 |  0.89458707 |  0.05195171 |  0.50730550 |  0.57049732 |  0.24645953 | -0.18996975 | -0.123880381 |  0.02598866 |\n| HSPA6 | -0.21819817 |  0.08682425 |  1.63105514 |  1.16585098 |  2.33922329 |  3.78668177 |  1.14488628 | -0.27841910 |  0.723029702 | -0.46762850 |\n| PAX8 | -0.03630468 |  0.07141232 | -0.02578819 |  0.26091293 |  0.05593042 | -0.35576714 |  0.01708155 |  0.20353308 | -0.058768961 | -0.13781851 |\n| GUCA1A | -1.02545683 | -0.89559517 |  1.66886552 |  0.59864181 |  1.12816206 |  1.82441916 |  1.14608539 |  0.50837510 |  2.325217438 |  0.41166042 |\n| UBA7 | -0.26114260 | -0.10595602 |  0.60347267 |  0.63885094 |  0.71480600 |  0.03780249 |  1.20230186 | -0.35426747 |  0.007652498 | -0.18228540 |\n| THRA |  0.72345948 |  0.01939904 | -0.78443074 | -0.71589564 | -0.46461587 | -0.98535048 | -0.19650176 |  0.37064082 | -0.316624769 | -0.06715241 |\n| PTPN21 | -0.10373373 | -0.38622528 | -1.00999569 | -1.13029217 | -1.37365271 | -1.08647842 | -0.89696490 | -0.39420333 |  0.101918960 | -0.13101714 |\n| CCL5 |  0.64007049 | -0.27436622 |  0.80047113 |  0.21786040 | -0.14264812 |  0.11026261 |  1.04344810 |  0.08017696 |  0.202078644 | -0.33860081 |\n| CYP2E1 |  0.33714224 | -0.21063832 |  1.45742961 |  0.79207413 |  0.82465805 |  1.01923527 |  0.30999663 | -0.10276091 | -0.122650510 |  0.61440153 |\n\n",
      "text/latex": "A data.frame: 10 × 10\n\\begin{tabular}{r|llllllllll}\n  & GSM300166 & GSM300167 & GSM300168 & GSM300169 & GSM300170 & GSM300171 & GSM300172 & GSM300173 & GSM300174 & GSM300175\\\\\n  & <dbl> & <dbl> & <dbl> & <dbl> & <dbl> & <dbl> & <dbl> & <dbl> & <dbl> & <dbl>\\\\\n\\hline\n\tDDR1 & -0.17134216 &  0.52157192 &  0.68670355 &  0.81143831 &  0.86451700 &  0.52574016 &  0.66688491 & -0.93040715 & -0.328126840 & -0.74640518\\\\\n\tRFC2 & -0.58540894 & -0.17486225 &  0.89458707 &  0.05195171 &  0.50730550 &  0.57049732 &  0.24645953 & -0.18996975 & -0.123880381 &  0.02598866\\\\\n\tHSPA6 & -0.21819817 &  0.08682425 &  1.63105514 &  1.16585098 &  2.33922329 &  3.78668177 &  1.14488628 & -0.27841910 &  0.723029702 & -0.46762850\\\\\n\tPAX8 & -0.03630468 &  0.07141232 & -0.02578819 &  0.26091293 &  0.05593042 & -0.35576714 &  0.01708155 &  0.20353308 & -0.058768961 & -0.13781851\\\\\n\tGUCA1A & -1.02545683 & -0.89559517 &  1.66886552 &  0.59864181 &  1.12816206 &  1.82441916 &  1.14608539 &  0.50837510 &  2.325217438 &  0.41166042\\\\\n\tUBA7 & -0.26114260 & -0.10595602 &  0.60347267 &  0.63885094 &  0.71480600 &  0.03780249 &  1.20230186 & -0.35426747 &  0.007652498 & -0.18228540\\\\\n\tTHRA &  0.72345948 &  0.01939904 & -0.78443074 & -0.71589564 & -0.46461587 & -0.98535048 & -0.19650176 &  0.37064082 & -0.316624769 & -0.06715241\\\\\n\tPTPN21 & -0.10373373 & -0.38622528 & -1.00999569 & -1.13029217 & -1.37365271 & -1.08647842 & -0.89696490 & -0.39420333 &  0.101918960 & -0.13101714\\\\\n\tCCL5 &  0.64007049 & -0.27436622 &  0.80047113 &  0.21786040 & -0.14264812 &  0.11026261 &  1.04344810 &  0.08017696 &  0.202078644 & -0.33860081\\\\\n\tCYP2E1 &  0.33714224 & -0.21063832 &  1.45742961 &  0.79207413 &  0.82465805 &  1.01923527 &  0.30999663 & -0.10276091 & -0.122650510 &  0.61440153\\\\\n\\end{tabular}\n",
      "text/plain": "       GSM300166   GSM300167   GSM300168   GSM300169   GSM300170   GSM300171  \nDDR1   -0.17134216  0.52157192  0.68670355  0.81143831  0.86451700  0.52574016\nRFC2   -0.58540894 -0.17486225  0.89458707  0.05195171  0.50730550  0.57049732\nHSPA6  -0.21819817  0.08682425  1.63105514  1.16585098  2.33922329  3.78668177\nPAX8   -0.03630468  0.07141232 -0.02578819  0.26091293  0.05593042 -0.35576714\nGUCA1A -1.02545683 -0.89559517  1.66886552  0.59864181  1.12816206  1.82441916\nUBA7   -0.26114260 -0.10595602  0.60347267  0.63885094  0.71480600  0.03780249\nTHRA    0.72345948  0.01939904 -0.78443074 -0.71589564 -0.46461587 -0.98535048\nPTPN21 -0.10373373 -0.38622528 -1.00999569 -1.13029217 -1.37365271 -1.08647842\nCCL5    0.64007049 -0.27436622  0.80047113  0.21786040 -0.14264812  0.11026261\nCYP2E1  0.33714224 -0.21063832  1.45742961  0.79207413  0.82465805  1.01923527\n       GSM300172   GSM300173   GSM300174    GSM300175  \nDDR1    0.66688491 -0.93040715 -0.328126840 -0.74640518\nRFC2    0.24645953 -0.18996975 -0.123880381  0.02598866\nHSPA6   1.14488628 -0.27841910  0.723029702 -0.46762850\nPAX8    0.01708155  0.20353308 -0.058768961 -0.13781851\nGUCA1A  1.14608539  0.50837510  2.325217438  0.41166042\nUBA7    1.20230186 -0.35426747  0.007652498 -0.18228540\nTHRA   -0.19650176  0.37064082 -0.316624769 -0.06715241\nPTPN21 -0.89696490 -0.39420333  0.101918960 -0.13101714\nCCL5    1.04344810  0.08017696  0.202078644 -0.33860081\nCYP2E1  0.30999663 -0.10276091 -0.122650510  0.61440153"
     },
     "metadata": {},
     "output_type": "display_data"
    }
   ],
   "source": [
    "data\n"
   ],
   "metadata": {
    "collapsed": false,
    "pycharm": {
     "name": "#%%\n"
    }
   }
  }
 ],
 "metadata": {
  "environment": {
   "kernel": "ir",
   "name": "r-cpu.4-1.m93",
   "type": "gcloud",
   "uri": "gcr.io/deeplearning-platform-release/r-cpu.4-1:m93"
  },
  "kernelspec": {
   "display_name": "R",
   "language": "R",
   "name": "ir"
  },
  "language_info": {
   "codemirror_mode": "r",
   "file_extension": ".r",
   "mimetype": "text/x-r-source",
   "name": "R",
   "pygments_lexer": "r",
   "version": "4.2.0"
  },
  "toc-showcode": true
 },
 "nbformat": 4,
 "nbformat_minor": 5
}