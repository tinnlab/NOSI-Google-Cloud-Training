{
 "cells": [
  {
   "cell_type": "markdown",
   "id": "f380fb8f-dc93-414c-b815-6ace422d7f90",
   "metadata": {
    "tags": [],
    "pycharm": {
     "name": "#%% md\n"
    }
   },
   "source": [
    "#   Differential gene expression analysis\n",
    "\n",
    "![](./images/Module2/DE_pipeline.jpg)\n",
    "\n",
    "The next step in the pathway analysis workflow is the differential expression (DE)  analysis. The goal of DE testing is to determine which genes are expressed at different levels between two or more biological conditions. These genes can offer biological insight into the processes affected by the condition(s) of interest. DE analysis means taking the normalised read count data and performing statistical analysis to discover quantitative changes in expression levels between experimental groups. For example, we use statistical testing to decide whether, for a given gene, an observed difference in read counts is significant, that is, whether it is greater than what would be expected just due to natural random variation. This learning module demonstrates a computational workflow for the detection of DE genes from RNA-Seq data.\n",
    "\n",
    "## Learning Objectives:\n",
    "1. Assigning samples into groups and set up design matrix.\n",
    "2. Performing differential expression (DE) analysis using `limma`, `t-test`, `edgeR` and `DEseq` R package.\n",
    "3. Filtering and exporting the results table.\n",
    "4. Further visualisation"
   ]
  },
  {
   "cell_type": "markdown",
   "source": [
    "## Grouping samples and setting up the design matrix.\n",
    "In this section we will perform differential expression (DF) analysis to analyze the `GSE48350` dataset that we have used in the previous chapter.\n",
    "Recall from the [**GEO Data processing** ](./Module01-GEO_Data_Processing.ipynb) section,`GSE48350` contains\n",
    "sequenced data of Human Alzheimer's Disease using microarray sequencing technology collected from 4 brain regions.\n",
    "Here we will create two groups: *\"condition\"* and *“control”* from the Entorhinal Cortex region. First, we need to load necessary R libraries to download the dataset."
   ],
   "metadata": {
    "collapsed": false,
    "pycharm": {
     "name": "#%% md\n"
    }
   }
  },
  {
   "cell_type": "code",
   "execution_count": 4,
   "outputs": [],
   "source": [
    "suppressMessages({if (!require(\"BiocManager\", quietly = TRUE))\n",
    "    install.packages(\"BiocManager\")\n",
    "  suppressWarnings(BiocManager::install(\"GEOquery\", update = T))\n",
    "  suppressWarnings(BiocManager::install(\"limma\", update = T))\n",
    "})"
   ],
   "metadata": {
    "collapsed": false,
    "pycharm": {
     "name": "#%%\n"
    }
   }
  },
  {
   "cell_type": "code",
   "execution_count": 82,
   "outputs": [],
   "source": [
    "suppressPackageStartupMessages({\n",
    "  library(\"GEOquery\")\n",
    "  library(\"limma\")\n",
    "})"
   ],
   "metadata": {
    "collapsed": false,
    "pycharm": {
     "name": "#%%\n"
    }
   }
  },
  {
   "cell_type": "markdown",
   "source": [
    "Similar to the [**GEO Data processing** ](./Module01-GEO_Data_Processing.ipynb) section, we can use <a href=\"https://bioconductor.org/packages/release/bioc/html/GEOquery.html\">GEOquery</a> R package to download GEO data and select samples generated from Affymetrix Human Genome U133 Plus 2.0 Array platform."
   ],
   "metadata": {
    "collapsed": false,
    "pycharm": {
     "name": "#%% md\n"
    }
   }
  },
  {
   "cell_type": "code",
   "execution_count": 83,
   "id": "6e56fd57-3a91-4715-962b-07f43324c519",
   "metadata": {
    "pycharm": {
     "name": "#%%\n"
    }
   },
   "outputs": [],
   "source": [
    "# Load series and platform data from GEO\n",
    "gset <- suppressMessages(getGEO(\"GSE48350\", GSEMatrix =TRUE, AnnotGPL=TRUE))\n",
    "# Check how many platform available\n",
    "if (length(gset) > 1) idx <- grep(\"GPL570\", attr(gset, \"names\")) else idx <- 1\n",
    "gset <- gset[[idx]]\n",
    "# Get expression data matric\n",
    "expression_data <- exprs(gset)"
   ]
  },
  {
   "cell_type": "markdown",
   "source": [
    "We can check for number of samples and genes using this command:"
   ],
   "metadata": {
    "collapsed": false,
    "pycharm": {
     "name": "#%% md\n"
    }
   }
  },
  {
   "cell_type": "code",
   "execution_count": 84,
   "outputs": [
    {
     "name": "stdout",
     "output_type": "stream",
     "text": [
      "[1] \"#Genes: 54675 - #Samples: 253\"\n"
     ]
    }
   ],
   "source": [
    "print(paste0(\"#Genes: \",dim(expression_data)[1],\" - #Samples: \",dim(expression_data)[2]))"
   ],
   "metadata": {
    "collapsed": false,
    "pycharm": {
     "name": "#%%\n"
    }
   }
  },
  {
   "cell_type": "markdown",
   "source": [
    "Now we need to select the samples that belong to entorhinal cortex region using following command"
   ],
   "metadata": {
    "collapsed": false,
    "pycharm": {
     "name": "#%% md\n"
    }
   }
  },
  {
   "cell_type": "code",
   "execution_count": 85,
   "outputs": [
    {
     "name": "stdout",
     "output_type": "stream",
     "text": [
      "[1] \"#Genes: 54675 - #Samples: 54\"\n"
     ]
    }
   ],
   "source": [
    "# Get samples information\n",
    "samples <- pData(gset)\n",
    "# Select sample from Entorhinal Cortex region\n",
    "idx <- grep(\"entorhinal\", samples$`brain region:ch1`)\n",
    "gset = gset[ ,idx]\n",
    "samples = samples[idx,]\n",
    "# Get expression data for samples collected from entorhinal cortex region\n",
    "expression_data = expression_data[,idx]\n",
    "# Print out new number genes and samples\n",
    "print(paste0(\"#Genes: \",dim(expression_data)[1],\" - #Samples: \",dim(expression_data)[2]))"
   ],
   "metadata": {
    "collapsed": false,
    "pycharm": {
     "name": "#%%\n"
    }
   }
  },
  {
   "cell_type": "markdown",
   "source": [
    "We can see that there are 54 samples that were collected from entorhinal cortex region. Next, we need to perform a $log_2$ transformation."
   ],
   "metadata": {
    "collapsed": false,
    "pycharm": {
     "name": "#%% md\n"
    }
   }
  },
  {
   "cell_type": "code",
   "execution_count": 86,
   "outputs": [],
   "source": [
    "# Calculate quantile values from the data\n",
    "qx <- as.numeric(quantile(expression_data, c(0., 0.25, 0.5, 0.75, 0.99, 1.0), na.rm=T))\n",
    "# Perform log2 transformation\n",
    "LogC <- (qx[5] > 100) || (qx[6]-qx[1] > 50 && qx[2] > 0)\n",
    "if (LogC) { expression_data[which(expression_data <= 0)] <- NaN\n",
    "exprs(gset) <- log2(expression_data)}"
   ],
   "metadata": {
    "collapsed": false,
    "pycharm": {
     "name": "#%%\n"
    }
   }
  },
  {
   "cell_type": "markdown",
   "source": [
    "In order to perform DE analysis, we need to group patients into two groups: *“condition”* and *“control”*. From the samples source name, patients diagnosed with Alzheimer's Disease are annotated with 'AD'. Therefore, any samples that contain string 'AD' are labelled by 'd' (condition/disease) and the remaining samples are assigned to 'c' (control/normal). The code to group the samples is presented below:"
   ],
   "metadata": {
    "collapsed": false,
    "pycharm": {
     "name": "#%% md\n"
    }
   }
  },
  {
   "cell_type": "code",
   "execution_count": 87,
   "outputs": [],
   "source": [
    "# Select diease samples\n",
    "disease_idx <- grep(\"AD\", samples$source_name_ch1)\n",
    "# Create a vector to store label\n",
    "groups <- rep(\"X\", nrow(samples))\n",
    "# Annotate a diasease sameples as \"d\"\n",
    "groups[disease_idx] <- \"d\"\n",
    "# Control samples are labeled as \"c\"\n",
    "groups[which(groups!=\"d\")] <- \"c\"\n",
    "groups <- factor(groups)"
   ],
   "metadata": {
    "collapsed": false,
    "pycharm": {
     "name": "#%%\n"
    }
   }
  },
  {
   "cell_type": "markdown",
   "source": [
    "## DE analysis using limma.\n",
    "Now, we need to specify the model to be fitted using `limma`. Linear modelling in `limma` is carried out using the `lmFit` and `contrasts.fit` functions originally written for application to microarrays. The functions can be used for both microarray and RNA-seq data and fit a separate model to the expression values for each gene. Next, empirical Bayes moderation is carried out using `eBayes` function.  Empirical Bayes moderation borrows information across all the genes to obtain more precise estimates of gene-wise variability. The model’s residual variances are plotted against average expression values in the next figure. It can be seen from this plot that the variance is no longer dependent on the mean expression level."
   ],
   "metadata": {
    "collapsed": false,
    "pycharm": {
     "name": "#%% md\n"
    }
   }
  },
  {
   "cell_type": "code",
   "execution_count": 88,
   "outputs": [],
   "source": [
    "# Add groups to gset object\n",
    "gset$group <- groups\n",
    "design <- model.matrix(~group + 0, gset)\n",
    "colnames(design) <- levels(groups)\n",
    "fit <- lmFit(gset, design)  # fit linear model\n",
    "# set up contrasts of interest and recalculate model coefficients\n",
    "cts <- paste(\"c\", \"d\", sep=\"-\")\n",
    "cont.matrix <- makeContrasts(contrasts=cts, levels=design)\n",
    "fit2 <- contrasts.fit(fit, cont.matrix)\n",
    "\n",
    "# compute statistics and table of top significant genes\n",
    "fit2 <- eBayes(fit2, 0.01)"
   ],
   "metadata": {
    "collapsed": false,
    "pycharm": {
     "name": "#%%\n"
    }
   }
  },
  {
   "cell_type": "markdown",
   "source": [
    "To see the number of significantly up- and down-regulated genes, we can use the code below to generate the summary table."
   ],
   "metadata": {
    "collapsed": false,
    "pycharm": {
     "name": "#%% md\n"
    }
   }
  },
  {
   "cell_type": "code",
   "execution_count": 12,
   "outputs": [
    {
     "data": {
      "text/plain": "         c-d\nDown     293\nNotSig 53893\nUp       489"
     },
     "metadata": {},
     "output_type": "display_data"
    }
   ],
   "source": [
    "dt <- decideTests(fit2,p.value=0.05)\n",
    "summary(dt)"
   ],
   "metadata": {
    "collapsed": false,
    "pycharm": {
     "name": "#%%\n"
    }
   }
  },
  {
   "cell_type": "markdown",
   "source": [
    "Here, significance is defined using an adjusted p-value cutoff that is set at 5% by default. For the comparison between expression levels in *“condition”* (d) and *“control”* (c), 293 genes are found to be down-regulated and 489 genes are up-regulated. We also can extract a table of the top-ranked genes from a linear model fit using `topTable` function. By default, `topTable` arranges genes from smallest to largest adjusted p-value with associated gene information, log-FC, average log-CPM, moderated t-statistic, raw and adjusted p-value for each gene. The number of top genes displayed can be specified, where `number=Inf` includes all genes. In the following code, we will select top 1,000 genes are differentially expressed."
   ],
   "metadata": {
    "collapsed": false,
    "pycharm": {
     "name": "#%% md\n"
    }
   }
  },
  {
   "cell_type": "code",
   "execution_count": 49,
   "outputs": [],
   "source": [
    "top_genes <- topTable(fit2, adjust=\"fdr\", sort.by=\"B\", number=1000)"
   ],
   "metadata": {
    "collapsed": false,
    "pycharm": {
     "name": "#%%\n"
    }
   }
  },
  {
   "cell_type": "markdown",
   "source": [
    "By default, the `topTable` function generates a dataframe that consists of DE genes, statistic and other features. We do not need all the features to perform pathway and enrichment analyses in the later module. Therefore, we will select a subset of `topTable` output by using the following command:"
   ],
   "metadata": {
    "collapsed": false,
    "pycharm": {
     "name": "#%% md\n"
    }
   }
  },
  {
   "cell_type": "code",
   "execution_count": 50,
   "outputs": [],
   "source": [
    "top_genes <- subset(top_genes, select=c(\"ID\",\"Gene.symbol\",\"adj.P.Val\",\"P.Value\",\"t\",\"B\",\"logFC\"))"
   ],
   "metadata": {
    "collapsed": false,
    "pycharm": {
     "name": "#%%\n"
    }
   }
  },
  {
   "cell_type": "markdown",
   "source": [
    "In order to perform pathway and enrichment analyses, we only focus on the genes that are statistically significant and the probe IDs that have gene symbols. We can select those genes using the following command:"
   ],
   "metadata": {
    "collapsed": false,
    "pycharm": {
     "name": "#%% md\n"
    }
   }
  },
  {
   "cell_type": "code",
   "execution_count": 51,
   "outputs": [
    {
     "data": {
      "text/html": "<table class=\"dataframe\">\n<caption>A data.frame: 6 × 7</caption>\n<thead>\n\t<tr><th></th><th scope=col>ID</th><th scope=col>Gene.symbol</th><th scope=col>adj.P.Val</th><th scope=col>P.Value</th><th scope=col>t</th><th scope=col>B</th><th scope=col>logFC</th></tr>\n\t<tr><th></th><th scope=col>&lt;chr&gt;</th><th scope=col>&lt;chr&gt;</th><th scope=col>&lt;dbl&gt;</th><th scope=col>&lt;dbl&gt;</th><th scope=col>&lt;dbl&gt;</th><th scope=col>&lt;dbl&gt;</th><th scope=col>&lt;dbl&gt;</th></tr>\n</thead>\n<tbody>\n\t<tr><th scope=row>224687_at</th><td>224687_at  </td><td>ANKIB1   </td><td>1.575045e-38</td><td>5.761483e-43</td><td>-42.51195</td><td>71.37488</td><td>-5.0270459</td></tr>\n\t<tr><th scope=row>234109_x_at</th><td>234109_x_at</td><td>ONECUT3  </td><td>3.581024e-28</td><td>3.929793e-32</td><td>-26.08643</td><td>56.26670</td><td>-0.5401491</td></tr>\n\t<tr><th scope=row>230832_at</th><td>230832_at  </td><td>RTF1     </td><td>5.202052e-28</td><td>6.660149e-32</td><td> 25.81105</td><td>55.88888</td><td> 1.5886452</td></tr>\n\t<tr><th scope=row>236977_at</th><td>236977_at  </td><td>LOC646588</td><td>3.302438e-25</td><td>5.436112e-29</td><td> 22.51884</td><td>50.90379</td><td> 1.2085885</td></tr>\n\t<tr><th scope=row>211318_s_at</th><td>211318_s_at</td><td>RAE1     </td><td>6.039523e-25</td><td>1.104622e-28</td><td> 22.19198</td><td>50.35766</td><td> 2.9567118</td></tr>\n\t<tr><th scope=row>219554_at</th><td>219554_at  </td><td>RHCG     </td><td>2.166963e-24</td><td>4.359689e-28</td><td> 21.56994</td><td>49.29043</td><td> 0.9245753</td></tr>\n</tbody>\n</table>\n",
      "text/markdown": "\nA data.frame: 6 × 7\n\n| <!--/--> | ID &lt;chr&gt; | Gene.symbol &lt;chr&gt; | adj.P.Val &lt;dbl&gt; | P.Value &lt;dbl&gt; | t &lt;dbl&gt; | B &lt;dbl&gt; | logFC &lt;dbl&gt; |\n|---|---|---|---|---|---|---|---|\n| 224687_at | 224687_at   | ANKIB1    | 1.575045e-38 | 5.761483e-43 | -42.51195 | 71.37488 | -5.0270459 |\n| 234109_x_at | 234109_x_at | ONECUT3   | 3.581024e-28 | 3.929793e-32 | -26.08643 | 56.26670 | -0.5401491 |\n| 230832_at | 230832_at   | RTF1      | 5.202052e-28 | 6.660149e-32 |  25.81105 | 55.88888 |  1.5886452 |\n| 236977_at | 236977_at   | LOC646588 | 3.302438e-25 | 5.436112e-29 |  22.51884 | 50.90379 |  1.2085885 |\n| 211318_s_at | 211318_s_at | RAE1      | 6.039523e-25 | 1.104622e-28 |  22.19198 | 50.35766 |  2.9567118 |\n| 219554_at | 219554_at   | RHCG      | 2.166963e-24 | 4.359689e-28 |  21.56994 | 49.29043 |  0.9245753 |\n\n",
      "text/latex": "A data.frame: 6 × 7\n\\begin{tabular}{r|lllllll}\n  & ID & Gene.symbol & adj.P.Val & P.Value & t & B & logFC\\\\\n  & <chr> & <chr> & <dbl> & <dbl> & <dbl> & <dbl> & <dbl>\\\\\n\\hline\n\t224687\\_at & 224687\\_at   & ANKIB1    & 1.575045e-38 & 5.761483e-43 & -42.51195 & 71.37488 & -5.0270459\\\\\n\t234109\\_x\\_at & 234109\\_x\\_at & ONECUT3   & 3.581024e-28 & 3.929793e-32 & -26.08643 & 56.26670 & -0.5401491\\\\\n\t230832\\_at & 230832\\_at   & RTF1      & 5.202052e-28 & 6.660149e-32 &  25.81105 & 55.88888 &  1.5886452\\\\\n\t236977\\_at & 236977\\_at   & LOC646588 & 3.302438e-25 & 5.436112e-29 &  22.51884 & 50.90379 &  1.2085885\\\\\n\t211318\\_s\\_at & 211318\\_s\\_at & RAE1      & 6.039523e-25 & 1.104622e-28 &  22.19198 & 50.35766 &  2.9567118\\\\\n\t219554\\_at & 219554\\_at   & RHCG      & 2.166963e-24 & 4.359689e-28 &  21.56994 & 49.29043 &  0.9245753\\\\\n\\end{tabular}\n",
      "text/plain": "            ID          Gene.symbol adj.P.Val    P.Value      t        \n224687_at   224687_at   ANKIB1      1.575045e-38 5.761483e-43 -42.51195\n234109_x_at 234109_x_at ONECUT3     3.581024e-28 3.929793e-32 -26.08643\n230832_at   230832_at   RTF1        5.202052e-28 6.660149e-32  25.81105\n236977_at   236977_at   LOC646588   3.302438e-25 5.436112e-29  22.51884\n211318_s_at 211318_s_at RAE1        6.039523e-25 1.104622e-28  22.19198\n219554_at   219554_at   RHCG        2.166963e-24 4.359689e-28  21.56994\n            B        logFC     \n224687_at   71.37488 -5.0270459\n234109_x_at 56.26670 -0.5401491\n230832_at   55.88888  1.5886452\n236977_at   50.90379  1.2085885\n211318_s_at 50.35766  2.9567118\n219554_at   49.29043  0.9245753"
     },
     "metadata": {},
     "output_type": "display_data"
    }
   ],
   "source": [
    "top_genes <- top_genes[which(top_genes$adj.P.Val<0.05),]\n",
    "top_genes <- top_genes[which(top_genes$Gene.symbol!=\"\"),]\n",
    "head(top_genes)"
   ],
   "metadata": {
    "collapsed": false,
    "pycharm": {
     "name": "#%%\n"
    }
   }
  },
  {
   "cell_type": "markdown",
   "source": [
    "Now, we can use the following script to save the DE genes list to use in the later modules.\n"
   ],
   "metadata": {
    "collapsed": false,
    "pycharm": {
     "name": "#%% md\n"
    }
   }
  },
  {
   "cell_type": "code",
   "execution_count": 52,
   "outputs": [],
   "source": [
    "saveRDS(top_genes, file=\"./data/DE_genes.rds\")"
   ],
   "metadata": {
    "collapsed": false,
    "pycharm": {
     "name": "#%%\n"
    }
   }
  },
  {
   "cell_type": "markdown",
   "source": [
    "## DE analysis using t-test"
   ],
   "metadata": {
    "collapsed": false,
    "pycharm": {
     "name": "#%% md\n"
    }
   }
  },
  {
   "cell_type": "code",
   "execution_count": 68,
   "outputs": [
    {
     "name": "stdout",
     "output_type": "stream",
     "text": [
      "package 'matrixTests' successfully unpacked and MD5 sums checked\n"
     ]
    }
   ],
   "source": [
    "suppressMessages({\n",
    "  suppressWarnings(install.packages(\"matrixTests\",quiet= T))\n",
    "})\n",
    "# Load matrixTests package\n",
    "suppressPackageStartupMessages({library(\"matrixTests\")})"
   ],
   "metadata": {
    "collapsed": false,
    "pycharm": {
     "name": "#%%\n"
    }
   }
  },
  {
   "cell_type": "code",
   "execution_count": 69,
   "outputs": [],
   "source": [
    "count <- expression_data\n",
    "X <- count[,groups==\"c\"]\n",
    "Y <- count[,groups==\"d\"]"
   ],
   "metadata": {
    "collapsed": false,
    "pycharm": {
     "name": "#%%\n"
    }
   }
  },
  {
   "cell_type": "code",
   "execution_count": 74,
   "outputs": [],
   "source": [
    "res <- row_t_equalvar(X,Y,alternative = \"two.sided\", mu = 0, conf.level = 0.95)"
   ],
   "metadata": {
    "collapsed": false,
    "pycharm": {
     "name": "#%%\n"
    }
   }
  },
  {
   "cell_type": "code",
   "execution_count": 81,
   "outputs": [],
   "source": [
    "res <- res[order(res$pvalue),]\n",
    "res <- res[res$pvalue<0.05,]"
   ],
   "metadata": {
    "collapsed": false,
    "pycharm": {
     "name": "#%%\n"
    }
   }
  },
  {
   "cell_type": "markdown",
   "source": [
    "## DE analysis using edgeR"
   ],
   "metadata": {
    "collapsed": false,
    "pycharm": {
     "name": "#%% md\n"
    }
   }
  },
  {
   "cell_type": "code",
   "execution_count": 16,
   "outputs": [],
   "source": [
    "suppressMessages({ if (!require(\"BiocManager\", quietly = TRUE))\n",
    "  install.packages(\"BiocManager\")\n",
    "  suppressWarnings(BiocManager::install(\"edgeR\", update = F))\n",
    "})\n",
    "\n",
    "# Load edgeR package\n",
    "suppressPackageStartupMessages({library(\"edgeR\")})"
   ],
   "metadata": {
    "collapsed": false,
    "pycharm": {
     "name": "#%%\n"
    }
   }
  },
  {
   "cell_type": "code",
   "execution_count": 33,
   "outputs": [],
   "source": [
    "count <- expression_data"
   ],
   "metadata": {
    "collapsed": false,
    "pycharm": {
     "name": "#%%\n"
    }
   }
  },
  {
   "cell_type": "code",
   "execution_count": 41,
   "outputs": [
    {
     "name": "stderr",
     "output_type": "stream",
     "text": [
      "Using classic mode.\n",
      "\n"
     ]
    }
   ],
   "source": [
    "dge <- DGEList(counts = count, group = factor(gset$group))\n",
    "keep <- filterByExpr(y = dge)\n",
    "dge <- dge[keep,keep.lib.sizes=TRUE]\n",
    "dge <- calcNormFactors(object = dge)\n",
    "dge <- estimateDisp(y = dge)\n",
    "et <- exactTest(object = dge)\n",
    "top_degs = topTags(object = et, n = \"Inf\")"
   ],
   "metadata": {
    "collapsed": false,
    "pycharm": {
     "name": "#%%\n"
    }
   }
  },
  {
   "cell_type": "code",
   "execution_count": 64,
   "outputs": [
    {
     "data": {
      "text/html": "<dl>\n\t<dt>$table</dt>\n\t\t<dd><table class=\"dataframe\">\n<caption>A data.frame: 8 × 3</caption>\n<thead>\n\t<tr><th></th><th scope=col>logFC</th><th scope=col>logCPM</th><th scope=col>PValue</th></tr>\n\t<tr><th></th><th scope=col>&lt;dbl&gt;</th><th scope=col>&lt;dbl&gt;</th><th scope=col>&lt;dbl&gt;</th></tr>\n</thead>\n<tbody>\n\t<tr><th scope=row>206803_at</th><td> 0.7616908</td><td>9.620116</td><td>3.864295e-01</td></tr>\n\t<tr><th scope=row>214218_s_at</th><td>-0.5658004</td><td>7.082008</td><td>8.486839e-11</td></tr>\n\t<tr><th scope=row>221728_x_at</th><td>-0.2914854</td><td>6.897639</td><td>9.568036e-04</td></tr>\n\t<tr><th scope=row>224588_at</th><td> 1.4870620</td><td>6.526542</td><td>1.145752e-68</td></tr>\n\t<tr><th scope=row>224589_at</th><td>-0.7381185</td><td>6.499647</td><td>1.451171e-09</td></tr>\n\t<tr><th scope=row>224590_at</th><td>-0.7451263</td><td>6.648644</td><td>1.825063e-11</td></tr>\n\t<tr><th scope=row>224687_at</th><td> 4.9391029</td><td>9.951711</td><td>4.114860e-10</td></tr>\n\t<tr><th scope=row>227671_at</th><td> 1.2502089</td><td>6.891854</td><td>9.170018e-62</td></tr>\n</tbody>\n</table>\n</dd>\n\t<dt>$comparison</dt>\n\t\t<dd><style>\n.list-inline {list-style: none; margin:0; padding: 0}\n.list-inline>li {display: inline-block}\n.list-inline>li:not(:last-child)::after {content: \"\\00b7\"; padding: 0 .5ex}\n</style>\n<ol class=list-inline><li>'c'</li><li>'d'</li></ol>\n</dd>\n\t<dt>$genes</dt>\n\t\t<dd>NULL</dd>\n</dl>\n",
      "text/markdown": "$table\n:   \nA data.frame: 8 × 3\n\n| <!--/--> | logFC &lt;dbl&gt; | logCPM &lt;dbl&gt; | PValue &lt;dbl&gt; |\n|---|---|---|---|\n| 206803_at |  0.7616908 | 9.620116 | 3.864295e-01 |\n| 214218_s_at | -0.5658004 | 7.082008 | 8.486839e-11 |\n| 221728_x_at | -0.2914854 | 6.897639 | 9.568036e-04 |\n| 224588_at |  1.4870620 | 6.526542 | 1.145752e-68 |\n| 224589_at | -0.7381185 | 6.499647 | 1.451171e-09 |\n| 224590_at | -0.7451263 | 6.648644 | 1.825063e-11 |\n| 224687_at |  4.9391029 | 9.951711 | 4.114860e-10 |\n| 227671_at |  1.2502089 | 6.891854 | 9.170018e-62 |\n\n\n$comparison\n:   1. 'c'\n2. 'd'\n\n\n\n$genes\n:   NULL\n\n\n",
      "text/latex": "\\begin{description}\n\\item[\\$table] A data.frame: 8 × 3\n\\begin{tabular}{r|lll}\n  & logFC & logCPM & PValue\\\\\n  & <dbl> & <dbl> & <dbl>\\\\\n\\hline\n\t206803\\_at &  0.7616908 & 9.620116 & 3.864295e-01\\\\\n\t214218\\_s\\_at & -0.5658004 & 7.082008 & 8.486839e-11\\\\\n\t221728\\_x\\_at & -0.2914854 & 6.897639 & 9.568036e-04\\\\\n\t224588\\_at &  1.4870620 & 6.526542 & 1.145752e-68\\\\\n\t224589\\_at & -0.7381185 & 6.499647 & 1.451171e-09\\\\\n\t224590\\_at & -0.7451263 & 6.648644 & 1.825063e-11\\\\\n\t224687\\_at &  4.9391029 & 9.951711 & 4.114860e-10\\\\\n\t227671\\_at &  1.2502089 & 6.891854 & 9.170018e-62\\\\\n\\end{tabular}\n\n\\item[\\$comparison] \\begin{enumerate*}\n\\item 'c'\n\\item 'd'\n\\end{enumerate*}\n\n\\item[\\$genes] NULL\n\\end{description}\n",
      "text/plain": "An object of class \"DGEExact\"\n$table\n                 logFC   logCPM       PValue\n206803_at    0.7616908 9.620116 3.864295e-01\n214218_s_at -0.5658004 7.082008 8.486839e-11\n221728_x_at -0.2914854 6.897639 9.568036e-04\n224588_at    1.4870620 6.526542 1.145752e-68\n224589_at   -0.7381185 6.499647 1.451171e-09\n224590_at   -0.7451263 6.648644 1.825063e-11\n224687_at    4.9391029 9.951711 4.114860e-10\n227671_at    1.2502089 6.891854 9.170018e-62\n\n$comparison\n[1] \"c\" \"d\"\n\n$genes\nNULL\n"
     },
     "metadata": {},
     "output_type": "display_data"
    }
   ],
   "source": [
    "write.csv(et$table, file=\"./data/edgeR_Results.csv\")\n",
    "saveRDS(et$table, file=\"./data/edgeR_Results.rds\")"
   ],
   "metadata": {
    "collapsed": false,
    "pycharm": {
     "name": "#%%\n"
    }
   }
  },
  {
   "cell_type": "code",
   "execution_count": 49,
   "outputs": [
    {
     "data": {
      "text/plain": "       d-c\nDown     0\nNotSig   5\nUp       3"
     },
     "metadata": {},
     "output_type": "display_data"
    }
   ],
   "source": [
    "summary(decideTests(object = et, lfc = 1))"
   ],
   "metadata": {
    "collapsed": false,
    "pycharm": {
     "name": "#%%\n"
    }
   }
  },
  {
   "cell_type": "code",
   "execution_count": 44,
   "outputs": [],
   "source": [
    "## DE analysis using DESeq2"
   ],
   "metadata": {
    "collapsed": false,
    "pycharm": {
     "name": "#%%\n"
    }
   }
  },
  {
   "cell_type": "code",
   "execution_count": 45,
   "outputs": [],
   "source": [
    "suppressMessages({ if (!require(\"BiocManager\", quietly = TRUE))\n",
    "  install.packages(\"BiocManager\")\n",
    "  suppressWarnings(BiocManager::install(\"DESeq2\", update = F))\n",
    "})\n",
    "suppressPackageStartupMessages({library(\"DESeq2\")})"
   ],
   "metadata": {
    "collapsed": false,
    "pycharm": {
     "name": "#%%\n"
    }
   }
  },
  {
   "cell_type": "code",
   "execution_count": 51,
   "outputs": [],
   "source": [
    "coldata <- data.frame(\n",
    "  sample = colnames(expression_data),\n",
    "  condition = as.factor(groups),\n",
    "  row.names = \"sample\" )"
   ],
   "metadata": {
    "collapsed": false,
    "pycharm": {
     "name": "#%%\n"
    }
   }
  },
  {
   "cell_type": "code",
   "execution_count": 55,
   "outputs": [
    {
     "data": {
      "text/html": "<table class=\"dataframe\">\n<caption>A data.frame: 6 × 1</caption>\n<thead>\n\t<tr><th></th><th scope=col>condition</th></tr>\n\t<tr><th></th><th scope=col>&lt;fct&gt;</th></tr>\n</thead>\n<tbody>\n\t<tr><th scope=row>GSM300173</th><td>c</td></tr>\n\t<tr><th scope=row>GSM300177</th><td>c</td></tr>\n\t<tr><th scope=row>GSM300181</th><td>c</td></tr>\n\t<tr><th scope=row>GSM300186</th><td>c</td></tr>\n\t<tr><th scope=row>GSM300189</th><td>c</td></tr>\n\t<tr><th scope=row>GSM300192</th><td>c</td></tr>\n</tbody>\n</table>\n",
      "text/markdown": "\nA data.frame: 6 × 1\n\n| <!--/--> | condition &lt;fct&gt; |\n|---|---|\n| GSM300173 | c |\n| GSM300177 | c |\n| GSM300181 | c |\n| GSM300186 | c |\n| GSM300189 | c |\n| GSM300192 | c |\n\n",
      "text/latex": "A data.frame: 6 × 1\n\\begin{tabular}{r|l}\n  & condition\\\\\n  & <fct>\\\\\n\\hline\n\tGSM300173 & c\\\\\n\tGSM300177 & c\\\\\n\tGSM300181 & c\\\\\n\tGSM300186 & c\\\\\n\tGSM300189 & c\\\\\n\tGSM300192 & c\\\\\n\\end{tabular}\n",
      "text/plain": "          condition\nGSM300173 c        \nGSM300177 c        \nGSM300181 c        \nGSM300186 c        \nGSM300189 c        \nGSM300192 c        "
     },
     "metadata": {},
     "output_type": "display_data"
    }
   ],
   "source": [
    "head(coldata)"
   ],
   "metadata": {
    "collapsed": false,
    "pycharm": {
     "name": "#%%\n"
    }
   }
  },
  {
   "cell_type": "code",
   "execution_count": 54,
   "outputs": [
    {
     "data": {
      "text/html": "<style>\n.list-inline {list-style: none; margin:0; padding: 0}\n.list-inline>li {display: inline-block}\n.list-inline>li:not(:last-child)::after {content: \"\\00b7\"; padding: 0 .5ex}\n</style>\n<ol class=list-inline><li>0.01</li><li>1054.465</li></ol>\n",
      "text/markdown": "1. 0.01\n2. 1054.465\n\n\n",
      "text/latex": "\\begin{enumerate*}\n\\item 0.01\n\\item 1054.465\n\\end{enumerate*}\n",
      "text/plain": "[1]    0.010 1054.465"
     },
     "metadata": {},
     "output_type": "display_data"
    }
   ],
   "source": [
    "range(count)"
   ],
   "metadata": {
    "collapsed": false,
    "pycharm": {
     "name": "#%%\n"
    }
   }
  },
  {
   "cell_type": "code",
   "execution_count": 56,
   "outputs": [
    {
     "name": "stderr",
     "output_type": "stream",
     "text": [
      "converting counts to integer mode\n",
      "\n"
     ]
    }
   ],
   "source": [
    "dds <- DESeqDataSetFromMatrix(countData = round(count), colData = coldata,\n",
    "                              design = ~ condition)"
   ],
   "metadata": {
    "collapsed": false,
    "pycharm": {
     "name": "#%%\n"
    }
   }
  },
  {
   "cell_type": "code",
   "execution_count": 57,
   "outputs": [
    {
     "name": "stderr",
     "output_type": "stream",
     "text": [
      "estimating size factors\n",
      "\n",
      "estimating dispersions\n",
      "\n",
      "gene-wise dispersion estimates\n",
      "\n",
      "mean-dispersion relationship\n",
      "\n",
      "-- note: fitType='parametric', but the dispersion trend was not well captured by the\n",
      "   function: y = a/x + b, and a local regression fit was automatically substituted.\n",
      "   specify fitType='local' or 'mean' to avoid this message next time.\n",
      "\n",
      "final dispersion estimates\n",
      "\n",
      "fitting model and testing\n",
      "\n",
      "-- replacing outliers and refitting for 85 genes\n",
      "-- DESeq argument 'minReplicatesForReplace' = 7 \n",
      "-- original counts are preserved in counts(dds)\n",
      "\n",
      "estimating dispersions\n",
      "\n",
      "fitting model and testing\n",
      "\n"
     ]
    },
    {
     "data": {
      "text/html": "<style>\n.list-inline {list-style: none; margin:0; padding: 0}\n.list-inline>li {display: inline-block}\n.list-inline>li:not(:last-child)::after {content: \"\\00b7\"; padding: 0 .5ex}\n</style>\n<ol class=list-inline><li>'Intercept'</li><li>'condition_d_vs_c'</li></ol>\n",
      "text/markdown": "1. 'Intercept'\n2. 'condition_d_vs_c'\n\n\n",
      "text/latex": "\\begin{enumerate*}\n\\item 'Intercept'\n\\item 'condition\\_d\\_vs\\_c'\n\\end{enumerate*}\n",
      "text/plain": "[1] \"Intercept\"        \"condition_d_vs_c\""
     },
     "metadata": {},
     "output_type": "display_data"
    }
   ],
   "source": [
    "dds <- dds[rowSums(counts(dds)) >= 10,]\n",
    "dds$condition <- relevel(dds$condition, ref = \"c\")\n",
    "dds <- DESeq(dds)\n",
    "resultsNames(dds)\n",
    "res <- results(dds)\n",
    "res <- as.data.frame(res[order(res$padj),])"
   ],
   "metadata": {
    "collapsed": false,
    "pycharm": {
     "name": "#%%\n"
    }
   }
  },
  {
   "cell_type": "code",
   "execution_count": 61,
   "outputs": [
    {
     "name": "stdout",
     "output_type": "stream",
     "text": [
      "\n",
      "out of 50892 with nonzero total read count\n",
      "adjusted p-value < 0.05\n",
      "LFC > 0 (up)       : 5, 0.0098%\n",
      "LFC < 0 (down)     : 1, 0.002%\n",
      "outliers [1]       : 0, 0%\n",
      "low counts [2]     : 1, 0.002%\n",
      "(mean count < 0)\n",
      "[1] see 'cooksCutoff' argument of ?results\n",
      "[2] see 'independentFiltering' argument of ?results\n",
      "\n"
     ]
    }
   ],
   "source": [
    "summary(results(dds),alpha = 0.05)"
   ],
   "metadata": {
    "collapsed": false,
    "pycharm": {
     "name": "#%%\n"
    }
   }
  },
  {
   "cell_type": "markdown",
   "source": [],
   "metadata": {
    "collapsed": false,
    "pycharm": {
     "name": "#%% md\n"
    }
   }
  },
  {
   "cell_type": "code",
   "execution_count": 62,
   "outputs": [],
   "source": [
    "write.csv(res, file=\"./data/DESeq2_Results.csv\")\n",
    "saveRDS(res, file=\"./data/DESeq2_Results.rds\")"
   ],
   "metadata": {
    "collapsed": false,
    "pycharm": {
     "name": "#%%\n"
    }
   }
  },
  {
   "cell_type": "markdown",
   "source": [
    "## Visualization of of differential expression results.\n",
    "To summarise results for all genes visually, mean-difference plots, which display log-FCs from the linear model fit against the average log-CPM values can be generated using the `plotMD` function, with the differentially expressed genes highlighted."
   ],
   "metadata": {
    "collapsed": false,
    "pycharm": {
     "name": "#%% md\n"
    }
   }
  },
  {
   "cell_type": "code",
   "source": [
    "plotMD(fit2, column=1, status=dt[,1], main=colnames(fit2)[1],\n",
    "       xlim=c(-8,13),pch=20, cex=1)\n",
    "abline(h=0)"
   ],
   "metadata": {
    "collapsed": false,
    "pycharm": {
     "name": "#%%\n"
    }
   },
   "execution_count": 53,
   "outputs": [
    {
     "data": {
      "text/plain": "Plot with title \"c-d\"",
      "image/png": "[encoded data removed]"
     },
     "metadata": {
      "image/png": {
       "width": 420,
       "height": 420
      }
     },
     "output_type": "display_data"
    }
   ]
  },
  {
   "cell_type": "markdown",
   "source": [
    "Another way to visualize the number of regulated and unregulated genes is to use Venn diagram. The command to generate the diagram is presented below"
   ],
   "metadata": {
    "collapsed": false,
    "pycharm": {
     "name": "#%% md\n"
    }
   }
  },
  {
   "cell_type": "code",
   "execution_count": 37,
   "outputs": [
    {
     "data": {
      "text/plain": "plot without title",
      "image/png": "[encoded data removed]"
     },
     "metadata": {
      "image/png": {
       "width": 420,
       "height": 420
      }
     },
     "output_type": "display_data"
    }
   ],
   "source": [
    "# summarize test results as \"up\", \"down\" or \"not expressed\"\n",
    "dT <- decideTests(fit2, adjust.method=\"fdr\", p.value=0.05)\n",
    "# Venn diagram of results\n",
    "vennDiagram(dT, circle.col=palette())"
   ],
   "metadata": {
    "collapsed": false,
    "pycharm": {
     "name": "#%%\n"
    }
   }
  },
  {
   "cell_type": "markdown",
   "source": [
    "We can visualize the adjusted p-value distribution for all gene using histogram plot as follow"
   ],
   "metadata": {
    "collapsed": false,
    "pycharm": {
     "name": "#%% md\n"
    }
   }
  },
  {
   "cell_type": "code",
   "execution_count": 38,
   "id": "bc2f35c7-0a9e-4d5b-9901-d42dd52b3f5c",
   "metadata": {
    "pycharm": {
     "name": "#%%\n"
    }
   },
   "outputs": [
    {
     "data": {
      "text/plain": "Plot with title \"P-adj value distribution\"",
      "image/png": "[encoded data removed]"
     },
     "metadata": {
      "image/png": {
       "width": 420,
       "height": 420
      }
     },
     "output_type": "display_data"
    }
   ],
   "source": [
    "# Visualize and quality control test results.\n",
    "# Build histogram of P-values for all genes. Normal test\n",
    "# assumption is that most genes are not differentially expressed.\n",
    "tT2 <- topTable(fit2, adjust=\"fdr\", sort.by=\"B\", number=Inf)\n",
    "hist(tT2$adj.P.Val, col = \"grey\", border = \"white\", xlab = \"P-adj\",\n",
    "     ylab = \"Number of genes\", main = \"P-adj value distribution\")"
   ]
  },
  {
   "cell_type": "code",
   "execution_count": 15,
   "id": "329e6ca9-f0ca-4ed1-b585-639717e19202",
   "metadata": {
    "pycharm": {
     "name": "#%%\n"
    }
   },
   "outputs": [
    {
     "data": {
      "text/plain": "Plot with title \"Moderated t statistic\"",
      "image/png": "[encoded data removed]"
     },
     "metadata": {
      "image/png": {
       "width": 420,
       "height": 420
      }
     },
     "output_type": "display_data"
    }
   ],
   "source": [
    "# create Q-Q plot for t-statistic\n",
    "t.good <- which(!is.na(fit2$F)) # filter out bad probes\n",
    "qqt(fit2$t[t.good], fit2$df.total[t.good], main=\"Moderated t statistic\")"
   ]
  },
  {
   "cell_type": "code",
   "execution_count": 16,
   "id": "a92ff556-1e27-455d-83f0-755bc70e08d2",
   "metadata": {
    "pycharm": {
     "name": "#%%\n"
    }
   },
   "outputs": [
    {
     "data": {
      "text/html": "'c-d'",
      "text/markdown": "'c-d'",
      "text/latex": "'c-d'",
      "text/plain": "[1] \"c-d\""
     },
     "metadata": {},
     "output_type": "display_data"
    },
    {
     "data": {
      "text/plain": "Plot with title \"c-d\"",
      "image/png": "[encoded data removed]"
     },
     "metadata": {
      "image/png": {
       "width": 420,
       "height": 420
      }
     },
     "output_type": "display_data"
    }
   ],
   "source": [
    "# volcano plot (log P-value vs log fold change)\n",
    "colnames(fit2) # list contrast names\n",
    "ct <- 1        # choose contrast of interest\n",
    "volcanoplot(fit2, coef=ct, main=colnames(fit2)[ct], pch=20,\n",
    "            highlight=length(which(dT[,ct]!=0)), names=rep('+', nrow(fit2)))"
   ]
  },
  {
   "cell_type": "code",
   "execution_count": null,
   "outputs": [],
   "source": [],
   "metadata": {
    "collapsed": false,
    "pycharm": {
     "name": "#%%\n"
    }
   }
  }
 ],
 "metadata": {
  "environment": {
   "kernel": "ir",
   "name": "r-cpu.4-1.m93",
   "type": "gcloud",
   "uri": "gcr.io/deeplearning-platform-release/r-cpu.4-1:m93"
  },
  "kernelspec": {
   "display_name": "R",
   "language": "R",
   "name": "ir"
  },
  "language_info": {
   "codemirror_mode": "r",
   "file_extension": ".r",
   "mimetype": "text/x-r-source",
   "name": "R",
   "pygments_lexer": "r",
   "version": "4.2.0"
  },
  "toc-showcode": true
 },
 "nbformat": 4,
 "nbformat_minor": 5
}