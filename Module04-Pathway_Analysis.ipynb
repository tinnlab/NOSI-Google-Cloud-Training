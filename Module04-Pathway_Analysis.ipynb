{
 "cells": [
  {
   "cell_type": "markdown",
   "id": "d3716dad",
   "metadata": {},
   "source": [
    "# Enrichment Analysis\n",
    "\n",
    "Enrichment analysis (EA) is a technique used to derive biological insight from lists of significantly altered genes. The list of genes can be obtained from Differential Expression (DE) analysis or users' interest. The EA methods rely on the knowledge databases (e.g. KEGG and GO) to identify biological pathways or terms that are enriched in a gene list more than would be expected by chance. The outcome of the EA would be the in-depth and contextualized findings to help understand the mechanisms of disease, genes and proteins associated with the etiology of a specific disease or drug target.\n",
    "\n",
    "Over more than a decade, there are over 50 methods have been developed for EA. In this module, we will focus on pathway analysis using three popular methods including Over Representation Analysis (ORA), Fast Gene Set Enrichment Analysis (FGSEA), and Gene Set Analysis (GSA).\n",
    "\n",
    "## Learning Objectives:\n",
    "1. Data preparation\n",
    "2. Perform enrichment analysis using ORA, FGSEA and GSA\n",
    "3. Visualize and interpret the outputs"
   ]
  },
  {
   "cell_type": "markdown",
   "id": "4731471e",
   "metadata": {},
   "source": [
    "## Gene mapping\n",
    "In this module, we will use the DE genes with statistic generated in the [**submodule 02** ](./Module02-DE_Analysis.ipynb) using `limma` R package. We can use the following command to load DE analysis result."
   ]
  },
  {
   "cell_type": "code",
   "execution_count": 1,
   "id": "5c0da12c",
   "metadata": {},
   "outputs": [
    {
     "data": {
      "text/html": [
       "<table class=\"dataframe\">\n",
       "<caption>A data.frame: 6 × 7</caption>\n",
       "<thead>\n",
       "\t<tr><th></th><th scope=col>PROBEID</th><th scope=col>logFC</th><th scope=col>AveExpr</th><th scope=col>t</th><th scope=col>P.Value</th><th scope=col>adj.P.Val</th><th scope=col>B</th></tr>\n",
       "\t<tr><th></th><th scope=col>&lt;chr&gt;</th><th scope=col>&lt;dbl&gt;</th><th scope=col>&lt;dbl&gt;</th><th scope=col>&lt;dbl&gt;</th><th scope=col>&lt;dbl&gt;</th><th scope=col>&lt;dbl&gt;</th><th scope=col>&lt;dbl&gt;</th></tr>\n",
       "</thead>\n",
       "<tbody>\n",
       "\t<tr><th scope=row>222178_s_at</th><td>222178_s_at</td><td>-0.4473780</td><td>0.3653633</td><td>-73.01106</td><td>4.019112e-55</td><td>2.197450e-50</td><td>81.05538</td></tr>\n",
       "\t<tr><th scope=row>224687_at</th><td>224687_at  </td><td>-4.1431631</td><td>2.2572347</td><td>-48.92036</td><td>5.489424e-46</td><td>1.500671e-41</td><td>74.18354</td></tr>\n",
       "\t<tr><th scope=row>207488_at</th><td>207488_at  </td><td>-0.4017530</td><td>0.6243144</td><td>-39.29933</td><td>4.735684e-41</td><td>8.630785e-37</td><td>68.83493</td></tr>\n",
       "\t<tr><th scope=row>239226_at</th><td>239226_at  </td><td> 0.4483302</td><td>1.3245501</td><td> 28.36499</td><td>7.626558e-34</td><td>1.042455e-29</td><td>58.84908</td></tr>\n",
       "\t<tr><th scope=row>234109_x_at</th><td>234109_x_at</td><td>-0.2289726</td><td>0.7508256</td><td>-27.67010</td><td>2.635337e-33</td><td>2.881741e-29</td><td>58.00438</td></tr>\n",
       "\t<tr><th scope=row>212833_at</th><td>212833_at  </td><td>-2.5976592</td><td>1.7308944</td><td>-24.01172</td><td>2.914912e-30</td><td>2.656213e-26</td><td>52.99567</td></tr>\n",
       "</tbody>\n",
       "</table>\n"
      ],
      "text/latex": [
       "A data.frame: 6 × 7\n",
       "\\begin{tabular}{r|lllllll}\n",
       "  & PROBEID & logFC & AveExpr & t & P.Value & adj.P.Val & B\\\\\n",
       "  & <chr> & <dbl> & <dbl> & <dbl> & <dbl> & <dbl> & <dbl>\\\\\n",
       "\\hline\n",
       "\t222178\\_s\\_at & 222178\\_s\\_at & -0.4473780 & 0.3653633 & -73.01106 & 4.019112e-55 & 2.197450e-50 & 81.05538\\\\\n",
       "\t224687\\_at & 224687\\_at   & -4.1431631 & 2.2572347 & -48.92036 & 5.489424e-46 & 1.500671e-41 & 74.18354\\\\\n",
       "\t207488\\_at & 207488\\_at   & -0.4017530 & 0.6243144 & -39.29933 & 4.735684e-41 & 8.630785e-37 & 68.83493\\\\\n",
       "\t239226\\_at & 239226\\_at   &  0.4483302 & 1.3245501 &  28.36499 & 7.626558e-34 & 1.042455e-29 & 58.84908\\\\\n",
       "\t234109\\_x\\_at & 234109\\_x\\_at & -0.2289726 & 0.7508256 & -27.67010 & 2.635337e-33 & 2.881741e-29 & 58.00438\\\\\n",
       "\t212833\\_at & 212833\\_at   & -2.5976592 & 1.7308944 & -24.01172 & 2.914912e-30 & 2.656213e-26 & 52.99567\\\\\n",
       "\\end{tabular}\n"
      ],
      "text/markdown": [
       "\n",
       "A data.frame: 6 × 7\n",
       "\n",
       "| <!--/--> | PROBEID &lt;chr&gt; | logFC &lt;dbl&gt; | AveExpr &lt;dbl&gt; | t &lt;dbl&gt; | P.Value &lt;dbl&gt; | adj.P.Val &lt;dbl&gt; | B &lt;dbl&gt; |\n",
       "|---|---|---|---|---|---|---|---|\n",
       "| 222178_s_at | 222178_s_at | -0.4473780 | 0.3653633 | -73.01106 | 4.019112e-55 | 2.197450e-50 | 81.05538 |\n",
       "| 224687_at | 224687_at   | -4.1431631 | 2.2572347 | -48.92036 | 5.489424e-46 | 1.500671e-41 | 74.18354 |\n",
       "| 207488_at | 207488_at   | -0.4017530 | 0.6243144 | -39.29933 | 4.735684e-41 | 8.630785e-37 | 68.83493 |\n",
       "| 239226_at | 239226_at   |  0.4483302 | 1.3245501 |  28.36499 | 7.626558e-34 | 1.042455e-29 | 58.84908 |\n",
       "| 234109_x_at | 234109_x_at | -0.2289726 | 0.7508256 | -27.67010 | 2.635337e-33 | 2.881741e-29 | 58.00438 |\n",
       "| 212833_at | 212833_at   | -2.5976592 | 1.7308944 | -24.01172 | 2.914912e-30 | 2.656213e-26 | 52.99567 |\n",
       "\n"
      ],
      "text/plain": [
       "            PROBEID     logFC      AveExpr   t         P.Value     \n",
       "222178_s_at 222178_s_at -0.4473780 0.3653633 -73.01106 4.019112e-55\n",
       "224687_at   224687_at   -4.1431631 2.2572347 -48.92036 5.489424e-46\n",
       "207488_at   207488_at   -0.4017530 0.6243144 -39.29933 4.735684e-41\n",
       "239226_at   239226_at    0.4483302 1.3245501  28.36499 7.626558e-34\n",
       "234109_x_at 234109_x_at -0.2289726 0.7508256 -27.67010 2.635337e-33\n",
       "212833_at   212833_at   -2.5976592 1.7308944 -24.01172 2.914912e-30\n",
       "            adj.P.Val    B       \n",
       "222178_s_at 2.197450e-50 81.05538\n",
       "224687_at   1.500671e-41 74.18354\n",
       "207488_at   8.630785e-37 68.83493\n",
       "239226_at   1.042455e-29 58.84908\n",
       "234109_x_at 2.881741e-29 58.00438\n",
       "212833_at   2.656213e-26 52.99567"
      ]
     },
     "metadata": {},
     "output_type": "display_data"
    }
   ],
   "source": [
    "DE.df <- readRDS(\"./data/DE_genes.rds\")\n",
    "rownames(DE.df) <- DE.df$PROBEID\n",
    "head(DE.df)"
   ]
  },
  {
   "cell_type": "markdown",
   "id": "722ce8e2",
   "metadata": {},
   "source": [
    "We can see that the genes are saved with probe IDs, we need to convert them into gene symbols so that they can be analyzed using enrichment analysis method later in this module. We will use the same approach presented in the [**submodule 01** ](./Module01-GEO_Data_Processing.ipynb) with `hgu133plus2.db` and `AnnotationDbi` databases."
   ]
  },
  {
   "cell_type": "code",
   "execution_count": 2,
   "id": "84f28dcf",
   "metadata": {},
   "outputs": [],
   "source": [
    "# Load the databases\n",
    "suppressMessages({\n",
    "  library(hgu133plus2.db)\n",
    "  library(AnnotationDbi)\n",
    "})"
   ]
  },
  {
   "cell_type": "markdown",
   "id": "f51c9e14",
   "metadata": {},
   "source": [
    "Then, we can retrieve vector of probe IDs to perform gene symbol mapping using the following command:"
   ]
  },
  {
   "cell_type": "code",
   "execution_count": 3,
   "id": "f04cf4fe",
   "metadata": {},
   "outputs": [
    {
     "data": {
      "text/html": [
       "<table class=\"dataframe\">\n",
       "<caption>A data.frame: 6 × 3</caption>\n",
       "<thead>\n",
       "\t<tr><th></th><th scope=col>PROBEID</th><th scope=col>GENENAME</th><th scope=col>SYMBOL</th></tr>\n",
       "\t<tr><th></th><th scope=col>&lt;chr&gt;</th><th scope=col>&lt;chr&gt;</th><th scope=col>&lt;chr&gt;</th></tr>\n",
       "</thead>\n",
       "<tbody>\n",
       "\t<tr><th scope=row>1</th><td>222178_s_at</td><td>NA                                        </td><td>NA      </td></tr>\n",
       "\t<tr><th scope=row>2</th><td>224687_at  </td><td>ankyrin repeat and IBR domain containing 1</td><td>ANKIB1  </td></tr>\n",
       "\t<tr><th scope=row>3</th><td>207488_at  </td><td>NA                                        </td><td>NA      </td></tr>\n",
       "\t<tr><th scope=row>4</th><td>239226_at  </td><td>NA                                        </td><td>NA      </td></tr>\n",
       "\t<tr><th scope=row>5</th><td>234109_x_at</td><td>one cut homeobox 3                        </td><td>ONECUT3 </td></tr>\n",
       "\t<tr><th scope=row>6</th><td>212833_at  </td><td>solute carrier family 25 member 46        </td><td>SLC25A46</td></tr>\n",
       "</tbody>\n",
       "</table>\n"
      ],
      "text/latex": [
       "A data.frame: 6 × 3\n",
       "\\begin{tabular}{r|lll}\n",
       "  & PROBEID & GENENAME & SYMBOL\\\\\n",
       "  & <chr> & <chr> & <chr>\\\\\n",
       "\\hline\n",
       "\t1 & 222178\\_s\\_at & NA                                         & NA      \\\\\n",
       "\t2 & 224687\\_at   & ankyrin repeat and IBR domain containing 1 & ANKIB1  \\\\\n",
       "\t3 & 207488\\_at   & NA                                         & NA      \\\\\n",
       "\t4 & 239226\\_at   & NA                                         & NA      \\\\\n",
       "\t5 & 234109\\_x\\_at & one cut homeobox 3                         & ONECUT3 \\\\\n",
       "\t6 & 212833\\_at   & solute carrier family 25 member 46         & SLC25A46\\\\\n",
       "\\end{tabular}\n"
      ],
      "text/markdown": [
       "\n",
       "A data.frame: 6 × 3\n",
       "\n",
       "| <!--/--> | PROBEID &lt;chr&gt; | GENENAME &lt;chr&gt; | SYMBOL &lt;chr&gt; |\n",
       "|---|---|---|---|\n",
       "| 1 | 222178_s_at | NA                                         | NA       |\n",
       "| 2 | 224687_at   | ankyrin repeat and IBR domain containing 1 | ANKIB1   |\n",
       "| 3 | 207488_at   | NA                                         | NA       |\n",
       "| 4 | 239226_at   | NA                                         | NA       |\n",
       "| 5 | 234109_x_at | one cut homeobox 3                         | ONECUT3  |\n",
       "| 6 | 212833_at   | solute carrier family 25 member 46         | SLC25A46 |\n",
       "\n"
      ],
      "text/plain": [
       "  PROBEID     GENENAME                                   SYMBOL  \n",
       "1 222178_s_at NA                                         NA      \n",
       "2 224687_at   ankyrin repeat and IBR domain containing 1 ANKIB1  \n",
       "3 207488_at   NA                                         NA      \n",
       "4 239226_at   NA                                         NA      \n",
       "5 234109_x_at one cut homeobox 3                         ONECUT3 \n",
       "6 212833_at   solute carrier family 25 member 46         SLC25A46"
      ]
     },
     "metadata": {},
     "output_type": "display_data"
    }
   ],
   "source": [
    "probeIDs = DE.df$PROBEID\n",
    "suppressMessages({\n",
    "annotLookup <- AnnotationDbi::select(hgu133plus2.db, keys = probeIDs, columns = c('PROBEID','GENENAME','SYMBOL'))\n",
    "})\n",
    "# View the first few genes in the mapping table\n",
    "head(annotLookup)"
   ]
  },
  {
   "cell_type": "markdown",
   "id": "8ed42b60",
   "metadata": {},
   "source": [
    "Now, we can merge DE data frame with annotation table by the `PROBEID` and remove NA gene symbols using the following command:"
   ]
  },
  {
   "cell_type": "code",
   "execution_count": 4,
   "id": "5c5ac1b5",
   "metadata": {},
   "outputs": [],
   "source": [
    "DE.df = merge(annotLookup, DE.df, by=\"PROBEID\")"
   ]
  },
  {
   "cell_type": "code",
   "execution_count": 5,
   "id": "3bef4b3d",
   "metadata": {},
   "outputs": [
    {
     "data": {
      "text/html": [
       "<table class=\"dataframe\">\n",
       "<caption>A data.frame: 6 × 9</caption>\n",
       "<thead>\n",
       "\t<tr><th></th><th scope=col>PROBEID</th><th scope=col>GENENAME</th><th scope=col>SYMBOL</th><th scope=col>logFC</th><th scope=col>AveExpr</th><th scope=col>t</th><th scope=col>P.Value</th><th scope=col>adj.P.Val</th><th scope=col>B</th></tr>\n",
       "\t<tr><th></th><th scope=col>&lt;chr&gt;</th><th scope=col>&lt;chr&gt;</th><th scope=col>&lt;chr&gt;</th><th scope=col>&lt;dbl&gt;</th><th scope=col>&lt;dbl&gt;</th><th scope=col>&lt;dbl&gt;</th><th scope=col>&lt;dbl&gt;</th><th scope=col>&lt;dbl&gt;</th><th scope=col>&lt;dbl&gt;</th></tr>\n",
       "</thead>\n",
       "<tbody>\n",
       "\t<tr><th scope=row>1</th><td>1007_s_at</td><td>discoidin domain receptor tyrosine kinase 1 </td><td>DDR1  </td><td>-0.23858465</td><td>1.0967772</td><td>-2.08257585</td><td>0.04210211</td><td>0.2531265</td><td>-4.284228</td></tr>\n",
       "\t<tr><th scope=row>2</th><td>1053_at  </td><td>replication factor C subunit 2              </td><td>RFC2  </td><td> 0.05830367</td><td>0.9657758</td><td> 1.42311356</td><td>0.16052793</td><td>0.4674726</td><td>-5.359907</td></tr>\n",
       "\t<tr><th scope=row>3</th><td>117_at   </td><td>heat shock protein family A (Hsp70) member 6</td><td>HSPA6 </td><td>-0.01138494</td><td>1.1501582</td><td>-0.08100885</td><td>0.93573821</td><td>0.9861536</td><td>-6.337785</td></tr>\n",
       "\t<tr><th scope=row>4</th><td>121_at   </td><td>paired box 8                                </td><td>PAX8  </td><td> 0.02301084</td><td>1.0581847</td><td> 0.87166663</td><td>0.38729816</td><td>0.7236528</td><td>-5.968512</td></tr>\n",
       "\t<tr><th scope=row>5</th><td>1255_g_at</td><td>guanylate cyclase activator 1A              </td><td>GUCA1A</td><td> 0.36999950</td><td>1.4080351</td><td> 1.78615022</td><td>0.07976123</td><td>0.3351480</td><td>-4.812134</td></tr>\n",
       "\t<tr><th scope=row>6</th><td>1294_at  </td><td>ubiquitin like modifier activating enzyme 7 </td><td>UBA7  </td><td>-0.11221434</td><td>1.0859983</td><td>-1.61593670</td><td>0.11200995</td><td>0.3925252</td><td>-5.082923</td></tr>\n",
       "</tbody>\n",
       "</table>\n"
      ],
      "text/latex": [
       "A data.frame: 6 × 9\n",
       "\\begin{tabular}{r|lllllllll}\n",
       "  & PROBEID & GENENAME & SYMBOL & logFC & AveExpr & t & P.Value & adj.P.Val & B\\\\\n",
       "  & <chr> & <chr> & <chr> & <dbl> & <dbl> & <dbl> & <dbl> & <dbl> & <dbl>\\\\\n",
       "\\hline\n",
       "\t1 & 1007\\_s\\_at & discoidin domain receptor tyrosine kinase 1  & DDR1   & -0.23858465 & 1.0967772 & -2.08257585 & 0.04210211 & 0.2531265 & -4.284228\\\\\n",
       "\t2 & 1053\\_at   & replication factor C subunit 2               & RFC2   &  0.05830367 & 0.9657758 &  1.42311356 & 0.16052793 & 0.4674726 & -5.359907\\\\\n",
       "\t3 & 117\\_at    & heat shock protein family A (Hsp70) member 6 & HSPA6  & -0.01138494 & 1.1501582 & -0.08100885 & 0.93573821 & 0.9861536 & -6.337785\\\\\n",
       "\t4 & 121\\_at    & paired box 8                                 & PAX8   &  0.02301084 & 1.0581847 &  0.87166663 & 0.38729816 & 0.7236528 & -5.968512\\\\\n",
       "\t5 & 1255\\_g\\_at & guanylate cyclase activator 1A               & GUCA1A &  0.36999950 & 1.4080351 &  1.78615022 & 0.07976123 & 0.3351480 & -4.812134\\\\\n",
       "\t6 & 1294\\_at   & ubiquitin like modifier activating enzyme 7  & UBA7   & -0.11221434 & 1.0859983 & -1.61593670 & 0.11200995 & 0.3925252 & -5.082923\\\\\n",
       "\\end{tabular}\n"
      ],
      "text/markdown": [
       "\n",
       "A data.frame: 6 × 9\n",
       "\n",
       "| <!--/--> | PROBEID &lt;chr&gt; | GENENAME &lt;chr&gt; | SYMBOL &lt;chr&gt; | logFC &lt;dbl&gt; | AveExpr &lt;dbl&gt; | t &lt;dbl&gt; | P.Value &lt;dbl&gt; | adj.P.Val &lt;dbl&gt; | B &lt;dbl&gt; |\n",
       "|---|---|---|---|---|---|---|---|---|---|\n",
       "| 1 | 1007_s_at | discoidin domain receptor tyrosine kinase 1  | DDR1   | -0.23858465 | 1.0967772 | -2.08257585 | 0.04210211 | 0.2531265 | -4.284228 |\n",
       "| 2 | 1053_at   | replication factor C subunit 2               | RFC2   |  0.05830367 | 0.9657758 |  1.42311356 | 0.16052793 | 0.4674726 | -5.359907 |\n",
       "| 3 | 117_at    | heat shock protein family A (Hsp70) member 6 | HSPA6  | -0.01138494 | 1.1501582 | -0.08100885 | 0.93573821 | 0.9861536 | -6.337785 |\n",
       "| 4 | 121_at    | paired box 8                                 | PAX8   |  0.02301084 | 1.0581847 |  0.87166663 | 0.38729816 | 0.7236528 | -5.968512 |\n",
       "| 5 | 1255_g_at | guanylate cyclase activator 1A               | GUCA1A |  0.36999950 | 1.4080351 |  1.78615022 | 0.07976123 | 0.3351480 | -4.812134 |\n",
       "| 6 | 1294_at   | ubiquitin like modifier activating enzyme 7  | UBA7   | -0.11221434 | 1.0859983 | -1.61593670 | 0.11200995 | 0.3925252 | -5.082923 |\n",
       "\n"
      ],
      "text/plain": [
       "  PROBEID   GENENAME                                     SYMBOL logFC      \n",
       "1 1007_s_at discoidin domain receptor tyrosine kinase 1  DDR1   -0.23858465\n",
       "2 1053_at   replication factor C subunit 2               RFC2    0.05830367\n",
       "3 117_at    heat shock protein family A (Hsp70) member 6 HSPA6  -0.01138494\n",
       "4 121_at    paired box 8                                 PAX8    0.02301084\n",
       "5 1255_g_at guanylate cyclase activator 1A               GUCA1A  0.36999950\n",
       "6 1294_at   ubiquitin like modifier activating enzyme 7  UBA7   -0.11221434\n",
       "  AveExpr   t           P.Value    adj.P.Val B        \n",
       "1 1.0967772 -2.08257585 0.04210211 0.2531265 -4.284228\n",
       "2 0.9657758  1.42311356 0.16052793 0.4674726 -5.359907\n",
       "3 1.1501582 -0.08100885 0.93573821 0.9861536 -6.337785\n",
       "4 1.0581847  0.87166663 0.38729816 0.7236528 -5.968512\n",
       "5 1.4080351  1.78615022 0.07976123 0.3351480 -4.812134\n",
       "6 1.0859983 -1.61593670 0.11200995 0.3925252 -5.082923"
      ]
     },
     "metadata": {},
     "output_type": "display_data"
    }
   ],
   "source": [
    "# Remove NA gene symbol\n",
    "DE.df = DE.df[!is.na(DE.df$SYMBOL),]\n",
    "# Remove duplicated genes\n",
    "DE.df = DE.df[!duplicated(DE.df$SYMBOL,fromLast=FALSE),]\n",
    "head(DE.df)"
   ]
  },
  {
   "cell_type": "markdown",
   "id": "adf678d9",
   "metadata": {},
   "source": [
    "At the result, we obtain the new DE table with two more columns containing gene names and gene symbols. The use of this DE table can be varied based on the selected enrichment analysis tools."
   ]
  },
  {
   "cell_type": "markdown",
   "id": "8538d33d",
   "metadata": {},
   "source": [
    "## Enrichment analysis using Over-representation Analysis\n",
    "Over-representation analysis (ORA) is a statistical method that determines whether genes from pre-defined gent set of a specific GO term or KEGG pathway are presented more than they would be expected (over-represented) in a subset of your data. In our learning module, this subset refers to the list of DE gene generated from `limma` method. For each gene set, an enrichment *p-value* is calculated using the Binomial distribution, Hypergeometric distribution, the Fisher exact test, or the Chi-square test. Normally, Hypergeometric distribution is a popular approach used to calculate enrichment p-value. The formula can be presented as follows:"
   ]
  },
  {
   "cell_type": "markdown",
   "id": "eca231f2",
   "metadata": {},
   "source": [
    "$$\n",
    "     P(X\\geq x) = 1 - P(X \\leq x-1) = 1 - \\sum\\limits_{i=0}^{x-1}\\frac{\\hphantom{}{M \\choose i }{N - M \\choose n-i}}{N \\choose n}\n",
    "$$"
   ]
  },
  {
   "cell_type": "markdown",
   "id": "1c18d887",
   "metadata": {},
   "source": [
    "where *N* is the number of background genes (all genes presented in the expression matrix), *n* is the number of “interesting” genes (DE genes), *M* is the number of genes that are annotated to a particular gene set *S* (list of genes in a specific KEGG pathway or GO term), and *x* is the number of “interesting” genes that are annotated to *S* (genes presented in DE genes list and a specific KEGG pathway or GO term)."
   ]
  },
  {
   "cell_type": "markdown",
   "id": "ccade46c",
   "metadata": {},
   "source": [
    "For example, suppose we have an expression matrix with 20000 genes, of which 500 are differently expressed. Also suppose that 100 of the 20000 genes are annotated to a particular gene set S. Of these 100 genes, 20 are members of DE genes list. The probability that 20 or more (up to 100) genes annotated to S are in DE genes list by chance is given by"
   ]
  },
  {
   "cell_type": "markdown",
   "id": "ed50cd53",
   "metadata": {},
   "source": [
    "$$\n",
    "P(X\\geq 20) = 1 - P(X \\leq 19) = 1-\\sum \\limits_{i=0}^{19}\\frac{\\hphantom{}{100 \\choose i}{20000 - 100 \\choose 500-i}}{20000 \\choose 500} = 5.26 \\times 10^{-13}\n",
    "$$"
   ]
  },
  {
   "cell_type": "markdown",
   "id": "b2e2d72e",
   "metadata": {},
   "source": [
    "The *p-value* indicates it is very rare to observe 20 of the 100 genes from this set are in the DE genes list by chance."
   ]
  },
  {
   "cell_type": "markdown",
   "id": "e332d07b",
   "metadata": {},
   "source": [
    "### Data preparation\n",
    "To conduct enrichment analysis using ORA, there are several input data that we need to prepare. First, we need to select a set of genes that\n",
    "are significantly altered (*p-value < 0.05*) in the DE genes generated from `limma` method."
   ]
  },
  {
   "cell_type": "code",
   "execution_count": 6,
   "id": "b1b28353",
   "metadata": {},
   "outputs": [],
   "source": [
    "# Selecting a list of significant DE genes\n",
    "DEGenes <- DE.df[DE.df$adj.P.Val <= 0.05,]\n",
    "# Select genes with symbol\n",
    "DEGenes <- DEGenes$SYMBOL"
   ]
  },
  {
   "cell_type": "markdown",
   "id": "f0d9f75f",
   "metadata": {},
   "source": [
    "Next, we need to define a list of background genes. In this analysis, they are all the genes generated from the DE analysis."
   ]
  },
  {
   "cell_type": "code",
   "execution_count": 7,
   "id": "303d3696",
   "metadata": {},
   "outputs": [],
   "source": [
    "#Defining background genes\n",
    "backgroundSet <- DE.df$SYMBOL"
   ]
  },
  {
   "cell_type": "markdown",
   "id": "5f19e685",
   "metadata": {},
   "source": [
    "Then, we need to obtain a list of geneset from knowledge databases such as GO and KEGG. In this learning module, the geneset will be retrieved from\n",
    "the *.gmt* files that were processed from the [**submodule 03** ](./Module03-Gene_Set_and_Pathway.ipynb). To load the geneset, we will use `gmt2geneset`\n",
    "below:"
   ]
  },
  {
   "cell_type": "code",
   "execution_count": 8,
   "id": "d05545e7",
   "metadata": {},
   "outputs": [
    {
     "name": "stdout",
     "output_type": "stream",
     "text": [
      "\n",
      "The downloaded binary packages are in\n",
      "\t/var/folders/xf/v88ngt8s37b5qqxtsz3hwyhm0000gn/T//RtmpMCAXSG/downloaded_packages\n"
     ]
    }
   ],
   "source": [
    "# install tidyverse\n",
    "suppressWarnings({\n",
    "  install.packages(\"tidyverse\")\n",
    "})"
   ]
  },
  {
   "cell_type": "code",
   "execution_count": 9,
   "id": "79cc3d74",
   "metadata": {},
   "outputs": [],
   "source": [
    "# Loading tidyverse library that provides a function to read the .gmt file\n",
    "suppressMessages({\n",
    "  library(tidyverse)\n",
    "})"
   ]
  },
  {
   "cell_type": "markdown",
   "id": "0042697a",
   "metadata": {},
   "source": [
    "Here, we also write a function to perform over representation analysis based on the hyper-geometric testing formula presented above. The `ORA` method will perform\n",
    "hyper-geometric testing for each geneset obtained from GO or KEGG using the function `phyper` available for `stats` R base package. The output of the `ORA` function is the table that\n",
    "contains a column of terms or pathway names and a column of *p-value*."
   ]
  },
  {
   "cell_type": "code",
   "execution_count": 11,
   "id": "38686455",
   "metadata": {},
   "outputs": [],
   "source": [
    "# A customized function to prase a gmt file to a list of genesets\n",
    "gmt2geneset <- function(path){\n",
    "  genesets <- read_tsv(path, col_names = F) %>% apply(MARGIN = 1, function(r){\n",
    "    genes = unique(r[-(1:2)])\n",
    "    list(\n",
    "      id = r[1],\n",
    "      description = r[2],\n",
    "      genes = genes[!is.na(genes)]\n",
    "    )\n",
    "  })\n",
    "\n",
    "  gs <- lapply(genesets, function(g) g$genes %>% as.character())\n",
    "  names(gs) <- lapply(genesets, function(g) g$description)\n",
    "  gs\n",
    "}"
   ]
  },
  {
   "cell_type": "code",
   "execution_count": 12,
   "id": "d809f4b3",
   "metadata": {},
   "outputs": [],
   "source": [
    "ORA <- function(geneset,DEGenes,backgroundSet,DE.df){\n",
    "    res <- sapply(geneset, function(gs){\n",
    "    wBallDraw <- intersect(gs, DEGenes) %>%  length() - 1\n",
    "    if (wBallDraw < 0) return(1)\n",
    "    wBall <- length(DEGenes)\n",
    "    bBall <- nrow(DE.df) - length(DEGenes)\n",
    "    ballDraw <- length(intersect(gs, backgroundSet))\n",
    "    1 - phyper(wBallDraw, wBall, bBall, ballDraw)\n",
    "  })\n",
    "  res\n",
    "}"
   ]
  },
  {
   "cell_type": "markdown",
   "id": "dedfa2a3",
   "metadata": {},
   "source": [
    "### Enrichment analysis using ORA and GO terms\n",
    "In this section, we will perform ORA using genesets obtained from the GO database and the function `ORA` defined above. The detailed code is presented below:"
   ]
  },
  {
   "cell_type": "code",
   "execution_count": 14,
   "id": "975e07c7",
   "metadata": {},
   "outputs": [
    {
     "data": {
      "text/html": [
       "<table class=\"dataframe\">\n",
       "<caption>A data.frame: 6 × 2</caption>\n",
       "<thead>\n",
       "\t<tr><th></th><th scope=col>GOterms</th><th scope=col>pvalue</th></tr>\n",
       "\t<tr><th></th><th scope=col>&lt;chr&gt;</th><th scope=col>&lt;dbl&gt;</th></tr>\n",
       "</thead>\n",
       "<tbody>\n",
       "\t<tr><th scope=row>mitochondrial electron transport, cytochrome c to oxygen</th><td>mitochondrial electron transport, cytochrome c to oxygen</td><td>0.0001443621</td></tr>\n",
       "\t<tr><th scope=row>aerobic electron transport chain</th><td>aerobic electron transport chain                        </td><td>0.0005130972</td></tr>\n",
       "\t<tr><th scope=row>respiratory electron transport chain</th><td>respiratory electron transport chain                    </td><td>0.0005130972</td></tr>\n",
       "\t<tr><th scope=row>ATP synthesis coupled electron transport</th><td>ATP synthesis coupled electron transport                </td><td>0.0005130972</td></tr>\n",
       "\t<tr><th scope=row>mitochondrial ATP synthesis coupled electron transport</th><td>mitochondrial ATP synthesis coupled electron transport  </td><td>0.0005130972</td></tr>\n",
       "\t<tr><th scope=row>inner dynein arm assembly</th><td>inner dynein arm assembly                               </td><td>0.0010412291</td></tr>\n",
       "</tbody>\n",
       "</table>\n"
      ],
      "text/latex": [
       "A data.frame: 6 × 2\n",
       "\\begin{tabular}{r|ll}\n",
       "  & GOterms & pvalue\\\\\n",
       "  & <chr> & <dbl>\\\\\n",
       "\\hline\n",
       "\tmitochondrial electron transport, cytochrome c to oxygen & mitochondrial electron transport, cytochrome c to oxygen & 0.0001443621\\\\\n",
       "\taerobic electron transport chain & aerobic electron transport chain                         & 0.0005130972\\\\\n",
       "\trespiratory electron transport chain & respiratory electron transport chain                     & 0.0005130972\\\\\n",
       "\tATP synthesis coupled electron transport & ATP synthesis coupled electron transport                 & 0.0005130972\\\\\n",
       "\tmitochondrial ATP synthesis coupled electron transport & mitochondrial ATP synthesis coupled electron transport   & 0.0005130972\\\\\n",
       "\tinner dynein arm assembly & inner dynein arm assembly                                & 0.0010412291\\\\\n",
       "\\end{tabular}\n"
      ],
      "text/markdown": [
       "\n",
       "A data.frame: 6 × 2\n",
       "\n",
       "| <!--/--> | GOterms &lt;chr&gt; | pvalue &lt;dbl&gt; |\n",
       "|---|---|---|\n",
       "| mitochondrial electron transport, cytochrome c to oxygen | mitochondrial electron transport, cytochrome c to oxygen | 0.0001443621 |\n",
       "| aerobic electron transport chain | aerobic electron transport chain                         | 0.0005130972 |\n",
       "| respiratory electron transport chain | respiratory electron transport chain                     | 0.0005130972 |\n",
       "| ATP synthesis coupled electron transport | ATP synthesis coupled electron transport                 | 0.0005130972 |\n",
       "| mitochondrial ATP synthesis coupled electron transport | mitochondrial ATP synthesis coupled electron transport   | 0.0005130972 |\n",
       "| inner dynein arm assembly | inner dynein arm assembly                                | 0.0010412291 |\n",
       "\n"
      ],
      "text/plain": [
       "                                                         GOterms                                                 \n",
       "mitochondrial electron transport, cytochrome c to oxygen mitochondrial electron transport, cytochrome c to oxygen\n",
       "aerobic electron transport chain                         aerobic electron transport chain                        \n",
       "respiratory electron transport chain                     respiratory electron transport chain                    \n",
       "ATP synthesis coupled electron transport                 ATP synthesis coupled electron transport                \n",
       "mitochondrial ATP synthesis coupled electron transport   mitochondrial ATP synthesis coupled electron transport  \n",
       "inner dynein arm assembly                                inner dynein arm assembly                               \n",
       "                                                         pvalue      \n",
       "mitochondrial electron transport, cytochrome c to oxygen 0.0001443621\n",
       "aerobic electron transport chain                         0.0005130972\n",
       "respiratory electron transport chain                     0.0005130972\n",
       "ATP synthesis coupled electron transport                 0.0005130972\n",
       "mitochondrial ATP synthesis coupled electron transport   0.0005130972\n",
       "inner dynein arm assembly                                0.0010412291"
      ]
     },
     "metadata": {},
     "output_type": "display_data"
    }
   ],
   "source": [
    "# Loading geneset from GO database\n",
    "suppressWarnings({suppressMessages({geneset <- gmt2geneset(\"./data/GO_terms.gmt\")})})\n",
    "# Perform ORA\n",
    "res.ORA <- ORA(geneset,DEGenes,backgroundSet,DE.df)\n",
    "# Save the result to a table where the first column is GO term name and the second column is the p-value\n",
    "res.df <- data.frame(\n",
    "  GOterms = names(res.ORA),\n",
    "  pvalue = res.ORA\n",
    ")\n",
    "# Order the table based on the p-value\n",
    "res.df <- res.df[order(res.df$pvalue),]\n",
    "# View the most significant GO terms\n",
    "head(res.df)"
   ]
  },
  {
   "cell_type": "markdown",
   "id": "ae0d8278",
   "metadata": {},
   "source": [
    "Fromt the result table we might conclude that the cause of the disease may be related to `positive regulation of B cell activation`."
   ]
  },
  {
   "cell_type": "markdown",
   "id": "cfa3dbd7",
   "metadata": {},
   "source": [
    "### Enrichment analysis using ORA and KEGG pathways"
   ]
  },
  {
   "cell_type": "code",
   "execution_count": 15,
   "id": "7c31dbde",
   "metadata": {},
   "outputs": [],
   "source": [
    "# Loading the KEGG pathways\n",
    "suppressWarnings({suppressMessages({geneset <- gmt2geneset(\"./data/KEGG_pathways.gmt\")})})"
   ]
  },
  {
   "cell_type": "code",
   "execution_count": 16,
   "id": "ee2d6ff9",
   "metadata": {},
   "outputs": [
    {
     "data": {
      "text/html": [
       "<table class=\"dataframe\">\n",
       "<caption>A data.frame: 6 × 2</caption>\n",
       "<thead>\n",
       "\t<tr><th></th><th scope=col>pathways</th><th scope=col>pvalue</th></tr>\n",
       "\t<tr><th></th><th scope=col>&lt;chr&gt;</th><th scope=col>&lt;dbl&gt;</th></tr>\n",
       "</thead>\n",
       "<tbody>\n",
       "\t<tr><th scope=row>Purine metabolism - Homo sapiens (human)</th><td>Purine metabolism - Homo sapiens (human)                  </td><td>0.03777791</td></tr>\n",
       "\t<tr><th scope=row>AMPK signaling pathway - Homo sapiens (human)</th><td>AMPK signaling pathway - Homo sapiens (human)             </td><td>0.03925539</td></tr>\n",
       "\t<tr><th scope=row>Complement and coagulation cascades - Homo sapiens (human)</th><td>Complement and coagulation cascades - Homo sapiens (human)</td><td>0.03925539</td></tr>\n",
       "\t<tr><th scope=row>Primary immunodeficiency - Homo sapiens (human)</th><td>Primary immunodeficiency - Homo sapiens (human)           </td><td>0.06599786</td></tr>\n",
       "\t<tr><th scope=row>Proteasome - Homo sapiens (human)</th><td>Proteasome - Homo sapiens (human)                         </td><td>0.09256455</td></tr>\n",
       "\t<tr><th scope=row>Virion - Herpesvirus - Homo sapiens (human)</th><td>Virion - Herpesvirus - Homo sapiens (human)               </td><td>0.09771149</td></tr>\n",
       "</tbody>\n",
       "</table>\n"
      ],
      "text/latex": [
       "A data.frame: 6 × 2\n",
       "\\begin{tabular}{r|ll}\n",
       "  & pathways & pvalue\\\\\n",
       "  & <chr> & <dbl>\\\\\n",
       "\\hline\n",
       "\tPurine metabolism - Homo sapiens (human) & Purine metabolism - Homo sapiens (human)                   & 0.03777791\\\\\n",
       "\tAMPK signaling pathway - Homo sapiens (human) & AMPK signaling pathway - Homo sapiens (human)              & 0.03925539\\\\\n",
       "\tComplement and coagulation cascades - Homo sapiens (human) & Complement and coagulation cascades - Homo sapiens (human) & 0.03925539\\\\\n",
       "\tPrimary immunodeficiency - Homo sapiens (human) & Primary immunodeficiency - Homo sapiens (human)            & 0.06599786\\\\\n",
       "\tProteasome - Homo sapiens (human) & Proteasome - Homo sapiens (human)                          & 0.09256455\\\\\n",
       "\tVirion - Herpesvirus - Homo sapiens (human) & Virion - Herpesvirus - Homo sapiens (human)                & 0.09771149\\\\\n",
       "\\end{tabular}\n"
      ],
      "text/markdown": [
       "\n",
       "A data.frame: 6 × 2\n",
       "\n",
       "| <!--/--> | pathways &lt;chr&gt; | pvalue &lt;dbl&gt; |\n",
       "|---|---|---|\n",
       "| Purine metabolism - Homo sapiens (human) | Purine metabolism - Homo sapiens (human)                   | 0.03777791 |\n",
       "| AMPK signaling pathway - Homo sapiens (human) | AMPK signaling pathway - Homo sapiens (human)              | 0.03925539 |\n",
       "| Complement and coagulation cascades - Homo sapiens (human) | Complement and coagulation cascades - Homo sapiens (human) | 0.03925539 |\n",
       "| Primary immunodeficiency - Homo sapiens (human) | Primary immunodeficiency - Homo sapiens (human)            | 0.06599786 |\n",
       "| Proteasome - Homo sapiens (human) | Proteasome - Homo sapiens (human)                          | 0.09256455 |\n",
       "| Virion - Herpesvirus - Homo sapiens (human) | Virion - Herpesvirus - Homo sapiens (human)                | 0.09771149 |\n",
       "\n"
      ],
      "text/plain": [
       "                                                           pathways                                                  \n",
       "Purine metabolism - Homo sapiens (human)                   Purine metabolism - Homo sapiens (human)                  \n",
       "AMPK signaling pathway - Homo sapiens (human)              AMPK signaling pathway - Homo sapiens (human)             \n",
       "Complement and coagulation cascades - Homo sapiens (human) Complement and coagulation cascades - Homo sapiens (human)\n",
       "Primary immunodeficiency - Homo sapiens (human)            Primary immunodeficiency - Homo sapiens (human)           \n",
       "Proteasome - Homo sapiens (human)                          Proteasome - Homo sapiens (human)                         \n",
       "Virion - Herpesvirus - Homo sapiens (human)                Virion - Herpesvirus - Homo sapiens (human)               \n",
       "                                                           pvalue    \n",
       "Purine metabolism - Homo sapiens (human)                   0.03777791\n",
       "AMPK signaling pathway - Homo sapiens (human)              0.03925539\n",
       "Complement and coagulation cascades - Homo sapiens (human) 0.03925539\n",
       "Primary immunodeficiency - Homo sapiens (human)            0.06599786\n",
       "Proteasome - Homo sapiens (human)                          0.09256455\n",
       "Virion - Herpesvirus - Homo sapiens (human)                0.09771149"
      ]
     },
     "metadata": {},
     "output_type": "display_data"
    }
   ],
   "source": [
    "# Perform Hyper-geometric testing\n",
    "res.ORA <- ORA(geneset,DEGenes,backgroundSet,DE.df)\n",
    "# Save the results to a data frame\n",
    "res.df <- data.frame(\n",
    "  pathways = names(res.ORA ),\n",
    "  pvalue = res.ORA\n",
    ")\n",
    "\n",
    "res.df <- res.df[order(res.df$pvalue),]\n",
    "head(res.df)"
   ]
  },
  {
   "cell_type": "markdown",
   "id": "9aa0e1c7",
   "metadata": {},
   "source": [
    "## Enrichment Analysis using FGSEA"
   ]
  },
  {
   "cell_type": "markdown",
   "id": "47b46d66",
   "metadata": {},
   "source": [
    "This submodule describes `FGSEA`, one of the methods for evaluating pathway enrichment in transcriptional data and it stands for Fast preranked Gene Set Enrichment Analysis (GSEA). `FGSEA` quickly calculates arbitrarily low GSEA P-values for a collection of gene sets and is based on an algorithm that allows  it to make more permutations and get accurate *p-values*.\n",
    "It extends the GSEA algorithm which calculates the enrichment score (the degree to which a set S is over-represented at the top or bottom of the ranked list L), estimates the p-value of the Enrichment Score using a permutation test and adjusts the estimated significance level to account for multiple hypotheses in addition to calculating the q-values for FDR control. Typically, GSEA requires inputs of a list of gene sets (GO term or pathway with a set of genes), a vector DE genes with statistic. In addition, user can limit the number of terms or pathways of interest by adjusting `minSize` and `maxSize` parameters. The code to install and load FGSEA R package is shown below:"
   ]
  },
  {
   "cell_type": "code",
   "execution_count": 18,
   "id": "b9702a89",
   "metadata": {},
   "outputs": [],
   "source": [
    "# To perform enrichment analysis using FGSEA, we first install the fgsea package\n",
    "suppressMessages({if (!require(\"BiocManager\", quietly = TRUE))\n",
    "        install.packages(\"BiocManager\")\n",
    "  suppressWarnings(BiocManager::install(\"fgsea\", update = F))\n",
    "})\n",
    "\n",
    "# Loading the package\n",
    "suppressPackageStartupMessages({\n",
    "  library(\"fgsea\")\n",
    "})"
   ]
  },
  {
   "cell_type": "markdown",
   "id": "fb6f9407",
   "metadata": {},
   "source": [
    "Next, we need to prepare a vector of DE genes with its statistic."
   ]
  },
  {
   "cell_type": "code",
   "execution_count": 19,
   "id": "38d25313",
   "metadata": {},
   "outputs": [
    {
     "data": {
      "text/html": [
       "<style>\n",
       ".dl-inline {width: auto; margin:0; padding: 0}\n",
       ".dl-inline>dt, .dl-inline>dd {float: none; width: auto; display: inline-block}\n",
       ".dl-inline>dt::after {content: \":\\0020\"; padding-right: .5ex}\n",
       ".dl-inline>dt:not(:first-of-type) {padding-left: .5ex}\n",
       "</style><dl class=dl-inline><dt>DDR1</dt><dd>0.25312654919025</dd><dt>RFC2</dt><dd>0.467472580609517</dd><dt>HSPA6</dt><dd>0.986153555292704</dd><dt>PAX8</dt><dd>0.723652752171903</dd><dt>GUCA1A</dt><dd>0.335147977832318</dd><dt>UBA7</dt><dd>0.392525231374342</dd></dl>\n"
      ],
      "text/latex": [
       "\\begin{description*}\n",
       "\\item[DDR1] 0.25312654919025\n",
       "\\item[RFC2] 0.467472580609517\n",
       "\\item[HSPA6] 0.986153555292704\n",
       "\\item[PAX8] 0.723652752171903\n",
       "\\item[GUCA1A] 0.335147977832318\n",
       "\\item[UBA7] 0.392525231374342\n",
       "\\end{description*}\n"
      ],
      "text/markdown": [
       "DDR1\n",
       ":   0.25312654919025RFC2\n",
       ":   0.467472580609517HSPA6\n",
       ":   0.986153555292704PAX8\n",
       ":   0.723652752171903GUCA1A\n",
       ":   0.335147977832318UBA7\n",
       ":   0.392525231374342\n",
       "\n"
      ],
      "text/plain": [
       "     DDR1      RFC2     HSPA6      PAX8    GUCA1A      UBA7 \n",
       "0.2531265 0.4674726 0.9861536 0.7236528 0.3351480 0.3925252 "
      ]
     },
     "metadata": {},
     "output_type": "display_data"
    }
   ],
   "source": [
    "# Get the gene list and their statistic from DE results\n",
    "stats = DE.df$adj.P.Val\n",
    "names(stats) = DE.df$SYMBOL\n",
    "head(stats)"
   ]
  },
  {
   "cell_type": "markdown",
   "id": "9950a6f6",
   "metadata": {},
   "source": [
    "### Enrichment analysis using FGSEA and GO terms"
   ]
  },
  {
   "cell_type": "markdown",
   "id": "c5093c0c",
   "metadata": {},
   "source": [
    "The package `fgsea` has its own function named `gmtPathways` to load the genesets from the `gmt` file. It is recommended to use this function for compatibility. We can load\n",
    "GO terms geneset and view the first five GO terms with associated genes using the following command:"
   ]
  },
  {
   "cell_type": "code",
   "execution_count": 21,
   "id": "b2d3d20a",
   "metadata": {},
   "outputs": [
    {
     "data": {
      "text/html": [
       "<dl>\n",
       "\t<dt>$`GO:0000002`</dt>\n",
       "\t\t<dd><style>\n",
       ".list-inline {list-style: none; margin:0; padding: 0}\n",
       ".list-inline>li {display: inline-block}\n",
       ".list-inline>li:not(:last-child)::after {content: \"\\00b7\"; padding: 0 .5ex}\n",
       "</style>\n",
       "<ol class=list-inline><li>'AKT3'</li><li>'DNA2'</li><li>'DNAJA3'</li><li>'ENDOG'</li><li>'FLCN'</li><li>'LIG3'</li></ol>\n",
       "</dd>\n",
       "\t<dt>$`GO:0000003`</dt>\n",
       "\t\t<dd><style>\n",
       ".list-inline {list-style: none; margin:0; padding: 0}\n",
       ".list-inline>li {display: inline-block}\n",
       ".list-inline>li:not(:last-child)::after {content: \"\\00b7\"; padding: 0 .5ex}\n",
       "</style>\n",
       "<ol class=list-inline><li>'A1CF'</li><li>'A2M'</li><li>'AAAS'</li><li>'ABAT'</li><li>'ABCC8'</li><li>'ABHD2'</li></ol>\n",
       "</dd>\n",
       "\t<dt>$`GO:0000012`</dt>\n",
       "\t\t<dd><style>\n",
       ".list-inline {list-style: none; margin:0; padding: 0}\n",
       ".list-inline>li {display: inline-block}\n",
       ".list-inline>li:not(:last-child)::after {content: \"\\00b7\"; padding: 0 .5ex}\n",
       "</style>\n",
       "<ol class=list-inline><li>'APLF'</li><li>'APTX'</li><li>'ERCC6'</li><li>'ERCC8'</li><li>'LIG4'</li><li>'PARP1'</li></ol>\n",
       "</dd>\n",
       "\t<dt>$`GO:0000018`</dt>\n",
       "\t\t<dd><style>\n",
       ".list-inline {list-style: none; margin:0; padding: 0}\n",
       ".list-inline>li {display: inline-block}\n",
       ".list-inline>li:not(:last-child)::after {content: \"\\00b7\"; padding: 0 .5ex}\n",
       "</style>\n",
       "<ol class=list-inline><li>'ACTB'</li><li>'ACTL6A'</li><li>'ACTR2'</li><li>'ALYREF'</li><li>'ANKLE1'</li><li>'APLF'</li></ol>\n",
       "</dd>\n",
       "\t<dt>$`GO:0000022`</dt>\n",
       "\t\t<dd><style>\n",
       ".list-inline {list-style: none; margin:0; padding: 0}\n",
       ".list-inline>li {display: inline-block}\n",
       ".list-inline>li:not(:last-child)::after {content: \"\\00b7\"; padding: 0 .5ex}\n",
       "</style>\n",
       "<ol class=list-inline><li>'AURKB'</li><li>'AURKC'</li><li>'BIRC5'</li><li>'CDCA8'</li><li>'INCENP'</li><li>'KIF23'</li></ol>\n",
       "</dd>\n",
       "</dl>\n"
      ],
      "text/latex": [
       "\\begin{description}\n",
       "\\item[\\$`GO:0000002`] \\begin{enumerate*}\n",
       "\\item 'AKT3'\n",
       "\\item 'DNA2'\n",
       "\\item 'DNAJA3'\n",
       "\\item 'ENDOG'\n",
       "\\item 'FLCN'\n",
       "\\item 'LIG3'\n",
       "\\end{enumerate*}\n",
       "\n",
       "\\item[\\$`GO:0000003`] \\begin{enumerate*}\n",
       "\\item 'A1CF'\n",
       "\\item 'A2M'\n",
       "\\item 'AAAS'\n",
       "\\item 'ABAT'\n",
       "\\item 'ABCC8'\n",
       "\\item 'ABHD2'\n",
       "\\end{enumerate*}\n",
       "\n",
       "\\item[\\$`GO:0000012`] \\begin{enumerate*}\n",
       "\\item 'APLF'\n",
       "\\item 'APTX'\n",
       "\\item 'ERCC6'\n",
       "\\item 'ERCC8'\n",
       "\\item 'LIG4'\n",
       "\\item 'PARP1'\n",
       "\\end{enumerate*}\n",
       "\n",
       "\\item[\\$`GO:0000018`] \\begin{enumerate*}\n",
       "\\item 'ACTB'\n",
       "\\item 'ACTL6A'\n",
       "\\item 'ACTR2'\n",
       "\\item 'ALYREF'\n",
       "\\item 'ANKLE1'\n",
       "\\item 'APLF'\n",
       "\\end{enumerate*}\n",
       "\n",
       "\\item[\\$`GO:0000022`] \\begin{enumerate*}\n",
       "\\item 'AURKB'\n",
       "\\item 'AURKC'\n",
       "\\item 'BIRC5'\n",
       "\\item 'CDCA8'\n",
       "\\item 'INCENP'\n",
       "\\item 'KIF23'\n",
       "\\end{enumerate*}\n",
       "\n",
       "\\end{description}\n"
      ],
      "text/markdown": [
       "$`GO:0000002`\n",
       ":   1. 'AKT3'\n",
       "2. 'DNA2'\n",
       "3. 'DNAJA3'\n",
       "4. 'ENDOG'\n",
       "5. 'FLCN'\n",
       "6. 'LIG3'\n",
       "\n",
       "\n",
       "\n",
       "$`GO:0000003`\n",
       ":   1. 'A1CF'\n",
       "2. 'A2M'\n",
       "3. 'AAAS'\n",
       "4. 'ABAT'\n",
       "5. 'ABCC8'\n",
       "6. 'ABHD2'\n",
       "\n",
       "\n",
       "\n",
       "$`GO:0000012`\n",
       ":   1. 'APLF'\n",
       "2. 'APTX'\n",
       "3. 'ERCC6'\n",
       "4. 'ERCC8'\n",
       "5. 'LIG4'\n",
       "6. 'PARP1'\n",
       "\n",
       "\n",
       "\n",
       "$`GO:0000018`\n",
       ":   1. 'ACTB'\n",
       "2. 'ACTL6A'\n",
       "3. 'ACTR2'\n",
       "4. 'ALYREF'\n",
       "5. 'ANKLE1'\n",
       "6. 'APLF'\n",
       "\n",
       "\n",
       "\n",
       "$`GO:0000022`\n",
       ":   1. 'AURKB'\n",
       "2. 'AURKC'\n",
       "3. 'BIRC5'\n",
       "4. 'CDCA8'\n",
       "5. 'INCENP'\n",
       "6. 'KIF23'\n",
       "\n",
       "\n",
       "\n",
       "\n",
       "\n"
      ],
      "text/plain": [
       "$`GO:0000002`\n",
       "[1] \"AKT3\"   \"DNA2\"   \"DNAJA3\" \"ENDOG\"  \"FLCN\"   \"LIG3\"  \n",
       "\n",
       "$`GO:0000003`\n",
       "[1] \"A1CF\"  \"A2M\"   \"AAAS\"  \"ABAT\"  \"ABCC8\" \"ABHD2\"\n",
       "\n",
       "$`GO:0000012`\n",
       "[1] \"APLF\"  \"APTX\"  \"ERCC6\" \"ERCC8\" \"LIG4\"  \"PARP1\"\n",
       "\n",
       "$`GO:0000018`\n",
       "[1] \"ACTB\"   \"ACTL6A\" \"ACTR2\"  \"ALYREF\" \"ANKLE1\" \"APLF\"  \n",
       "\n",
       "$`GO:0000022`\n",
       "[1] \"AURKB\"  \"AURKC\"  \"BIRC5\"  \"CDCA8\"  \"INCENP\" \"KIF23\" \n"
      ]
     },
     "metadata": {},
     "output_type": "display_data"
    }
   ],
   "source": [
    "# Load the pathways into a named list\n",
    "GO_term_hallmark <- gmtPathways(\"./data/GO_terms.gmt\")\n",
    "# Show the first few GO terms, and within those, show only the first few genes.\n",
    "tmp = lapply(GO_term_hallmark,head)\n",
    "tmp[1:5]"
   ]
  },
  {
   "cell_type": "markdown",
   "id": "d06027d9",
   "metadata": {},
   "source": [
    "Running the FGSEA can be done by calling the `fgsea` with two required inputs."
   ]
  },
  {
   "cell_type": "code",
   "execution_count": 22,
   "id": "6efd9f83",
   "metadata": {},
   "outputs": [],
   "source": [
    "# Running fgsea\n",
    "suppressWarnings(fgseaRes <- fgsea(pathways = GO_term_hallmark,\n",
    "                  stats    = stats\n",
    "                  ))"
   ]
  },
  {
   "cell_type": "markdown",
   "id": "ad26fa54",
   "metadata": {},
   "source": [
    "The output of the FGSEA method is a table where row are GO terms IDs or pathway IDs. The columns are *p-values*, *adjusted p-values*, *Enrichment Score*, etc."
   ]
  },
  {
   "cell_type": "code",
   "execution_count": 24,
   "id": "f90ac106",
   "metadata": {},
   "outputs": [
    {
     "data": {
      "text/html": [
       "<table class=\"dataframe\">\n",
       "<caption>A data.table: 6 × 7</caption>\n",
       "<thead>\n",
       "\t<tr><th scope=col>pathway</th><th scope=col>pval</th><th scope=col>padj</th><th scope=col>log2err</th><th scope=col>ES</th><th scope=col>NES</th><th scope=col>size</th></tr>\n",
       "\t<tr><th scope=col>&lt;chr&gt;</th><th scope=col>&lt;dbl&gt;</th><th scope=col>&lt;dbl&gt;</th><th scope=col>&lt;dbl&gt;</th><th scope=col>&lt;dbl&gt;</th><th scope=col>&lt;dbl&gt;</th><th scope=col>&lt;int&gt;</th></tr>\n",
       "</thead>\n",
       "<tbody>\n",
       "\t<tr><td>GO:0050907</td><td>1.633629e-05</td><td>0.07044254</td><td>0.5756103</td><td> 0.3787956</td><td> 1.561657</td><td>132</td></tr>\n",
       "\t<tr><td>GO:0006122</td><td>2.017255e-05</td><td>0.07044254</td><td>0.5756103</td><td>-0.7106462</td><td>-2.686360</td><td> 11</td></tr>\n",
       "\t<tr><td>GO:0009593</td><td>5.023275e-05</td><td>0.09260613</td><td>0.5573322</td><td> 0.3528286</td><td> 1.478994</td><td>167</td></tr>\n",
       "\t<tr><td>GO:0006959</td><td>5.303902e-05</td><td>0.09260613</td><td>0.5573322</td><td> 0.3182961</td><td> 1.373430</td><td>274</td></tr>\n",
       "\t<tr><td>GO:0050911</td><td>1.326360e-04</td><td>0.18021791</td><td>0.5188481</td><td> 0.3928258</td><td> 1.572300</td><td> 94</td></tr>\n",
       "\t<tr><td>GO:0030850</td><td>1.849672e-04</td><td>0.18021791</td><td>0.5188481</td><td> 0.4460909</td><td> 1.694081</td><td> 53</td></tr>\n",
       "</tbody>\n",
       "</table>\n"
      ],
      "text/latex": [
       "A data.table: 6 × 7\n",
       "\\begin{tabular}{lllllll}\n",
       " pathway & pval & padj & log2err & ES & NES & size\\\\\n",
       " <chr> & <dbl> & <dbl> & <dbl> & <dbl> & <dbl> & <int>\\\\\n",
       "\\hline\n",
       "\t GO:0050907 & 1.633629e-05 & 0.07044254 & 0.5756103 &  0.3787956 &  1.561657 & 132\\\\\n",
       "\t GO:0006122 & 2.017255e-05 & 0.07044254 & 0.5756103 & -0.7106462 & -2.686360 &  11\\\\\n",
       "\t GO:0009593 & 5.023275e-05 & 0.09260613 & 0.5573322 &  0.3528286 &  1.478994 & 167\\\\\n",
       "\t GO:0006959 & 5.303902e-05 & 0.09260613 & 0.5573322 &  0.3182961 &  1.373430 & 274\\\\\n",
       "\t GO:0050911 & 1.326360e-04 & 0.18021791 & 0.5188481 &  0.3928258 &  1.572300 &  94\\\\\n",
       "\t GO:0030850 & 1.849672e-04 & 0.18021791 & 0.5188481 &  0.4460909 &  1.694081 &  53\\\\\n",
       "\\end{tabular}\n"
      ],
      "text/markdown": [
       "\n",
       "A data.table: 6 × 7\n",
       "\n",
       "| pathway &lt;chr&gt; | pval &lt;dbl&gt; | padj &lt;dbl&gt; | log2err &lt;dbl&gt; | ES &lt;dbl&gt; | NES &lt;dbl&gt; | size &lt;int&gt; |\n",
       "|---|---|---|---|---|---|---|\n",
       "| GO:0050907 | 1.633629e-05 | 0.07044254 | 0.5756103 |  0.3787956 |  1.561657 | 132 |\n",
       "| GO:0006122 | 2.017255e-05 | 0.07044254 | 0.5756103 | -0.7106462 | -2.686360 |  11 |\n",
       "| GO:0009593 | 5.023275e-05 | 0.09260613 | 0.5573322 |  0.3528286 |  1.478994 | 167 |\n",
       "| GO:0006959 | 5.303902e-05 | 0.09260613 | 0.5573322 |  0.3182961 |  1.373430 | 274 |\n",
       "| GO:0050911 | 1.326360e-04 | 0.18021791 | 0.5188481 |  0.3928258 |  1.572300 |  94 |\n",
       "| GO:0030850 | 1.849672e-04 | 0.18021791 | 0.5188481 |  0.4460909 |  1.694081 |  53 |\n",
       "\n"
      ],
      "text/plain": [
       "  pathway    pval         padj       log2err   ES         NES       size\n",
       "1 GO:0050907 1.633629e-05 0.07044254 0.5756103  0.3787956  1.561657 132 \n",
       "2 GO:0006122 2.017255e-05 0.07044254 0.5756103 -0.7106462 -2.686360  11 \n",
       "3 GO:0009593 5.023275e-05 0.09260613 0.5573322  0.3528286  1.478994 167 \n",
       "4 GO:0006959 5.303902e-05 0.09260613 0.5573322  0.3182961  1.373430 274 \n",
       "5 GO:0050911 1.326360e-04 0.18021791 0.5188481  0.3928258  1.572300  94 \n",
       "6 GO:0030850 1.849672e-04 0.18021791 0.5188481  0.4460909  1.694081  53 "
      ]
     },
     "metadata": {},
     "output_type": "display_data"
    }
   ],
   "source": [
    "head(fgseaRes[order(pval), ][,-8])"
   ]
  },
  {
   "cell_type": "markdown",
   "id": "c7866448",
   "metadata": {},
   "source": [
    "From the result table, we can select top five up regulated GO terms and top five down regulated GO terms. Then we can plot them using the built-in function `plotGseaTable`"
   ]
  },
  {
   "cell_type": "code",
   "execution_count": 25,
   "id": "f1b4ed14",
   "metadata": {},
   "outputs": [
    {
     "data": {
      "image/png": "[encoded data removed]",
      "text/plain": [
       "plot without title"
      ]
     },
     "metadata": {
      "image/png": {
       "height": 420,
       "width": 420
      }
     },
     "output_type": "display_data"
    }
   ],
   "source": [
    "topGOUp <- fgseaRes[ES > 0][head(order(pval), n=5), pathway]\n",
    "topGODown <- fgseaRes[ES < 0][head(order(pval), n=5), pathway]\n",
    "topGO <- c(topGOUp, rev(topGODown))\n",
    "plotGseaTable(GO_term_hallmark[topGO], stats, fgseaRes,\n",
    "              gseaParam=0.5)"
   ]
  },
  {
   "cell_type": "markdown",
   "id": "1ef50627",
   "metadata": {},
   "source": [
    "### Enrichment analysis using FGSEA and KEGG pathways\n",
    "We can perform enrichment analysis using FGSEA with KEGG pathway using the same procedure mentioned above. The only thing we need to change is the\n",
    "list of geneset that available in KEGG database."
   ]
  },
  {
   "cell_type": "code",
   "execution_count": 26,
   "id": "93b11008",
   "metadata": {},
   "outputs": [
    {
     "data": {
      "text/html": [
       "<dl>\n",
       "\t<dt>$hsa00010</dt>\n",
       "\t\t<dd><style>\n",
       ".list-inline {list-style: none; margin:0; padding: 0}\n",
       ".list-inline>li {display: inline-block}\n",
       ".list-inline>li:not(:last-child)::after {content: \"\\00b7\"; padding: 0 .5ex}\n",
       "</style>\n",
       "<ol class=list-inline><li>'HK3'</li><li>'HK1'</li><li>'HK2'</li><li>'HKDC1'</li><li>'GCK'</li><li>'GPI'</li></ol>\n",
       "</dd>\n",
       "\t<dt>$hsa00020</dt>\n",
       "\t\t<dd><style>\n",
       ".list-inline {list-style: none; margin:0; padding: 0}\n",
       ".list-inline>li {display: inline-block}\n",
       ".list-inline>li:not(:last-child)::after {content: \"\\00b7\"; padding: 0 .5ex}\n",
       "</style>\n",
       "<ol class=list-inline><li>'CS'</li><li>'ACLY'</li><li>'ACO2'</li><li>'ACO1'</li><li>'IDH1'</li><li>'IDH2'</li></ol>\n",
       "</dd>\n",
       "\t<dt>$hsa00030</dt>\n",
       "\t\t<dd><style>\n",
       ".list-inline {list-style: none; margin:0; padding: 0}\n",
       ".list-inline>li {display: inline-block}\n",
       ".list-inline>li:not(:last-child)::after {content: \"\\00b7\"; padding: 0 .5ex}\n",
       "</style>\n",
       "<ol class=list-inline><li>'GPI'</li><li>'G6PD'</li><li>'PGLS'</li><li>'H6PD'</li><li>'PGD'</li><li>'RPE'</li></ol>\n",
       "</dd>\n",
       "\t<dt>$hsa00040</dt>\n",
       "\t\t<dd><style>\n",
       ".list-inline {list-style: none; margin:0; padding: 0}\n",
       ".list-inline>li {display: inline-block}\n",
       ".list-inline>li:not(:last-child)::after {content: \"\\00b7\"; padding: 0 .5ex}\n",
       "</style>\n",
       "<ol class=list-inline><li>'GUSB'</li><li>'KL'</li><li>'UGT2A1'</li><li>'UGT2A3'</li><li>'UGT2B17'</li><li>'UGT2B11'</li></ol>\n",
       "</dd>\n",
       "\t<dt>$hsa00051</dt>\n",
       "\t\t<dd><style>\n",
       ".list-inline {list-style: none; margin:0; padding: 0}\n",
       ".list-inline>li {display: inline-block}\n",
       ".list-inline>li:not(:last-child)::after {content: \"\\00b7\"; padding: 0 .5ex}\n",
       "</style>\n",
       "<ol class=list-inline><li>'MPI'</li><li>'PMM2'</li><li>'PMM1'</li><li>'GMPPB'</li><li>'GMPPA'</li><li>'GMDS'</li></ol>\n",
       "</dd>\n",
       "</dl>\n"
      ],
      "text/latex": [
       "\\begin{description}\n",
       "\\item[\\$hsa00010] \\begin{enumerate*}\n",
       "\\item 'HK3'\n",
       "\\item 'HK1'\n",
       "\\item 'HK2'\n",
       "\\item 'HKDC1'\n",
       "\\item 'GCK'\n",
       "\\item 'GPI'\n",
       "\\end{enumerate*}\n",
       "\n",
       "\\item[\\$hsa00020] \\begin{enumerate*}\n",
       "\\item 'CS'\n",
       "\\item 'ACLY'\n",
       "\\item 'ACO2'\n",
       "\\item 'ACO1'\n",
       "\\item 'IDH1'\n",
       "\\item 'IDH2'\n",
       "\\end{enumerate*}\n",
       "\n",
       "\\item[\\$hsa00030] \\begin{enumerate*}\n",
       "\\item 'GPI'\n",
       "\\item 'G6PD'\n",
       "\\item 'PGLS'\n",
       "\\item 'H6PD'\n",
       "\\item 'PGD'\n",
       "\\item 'RPE'\n",
       "\\end{enumerate*}\n",
       "\n",
       "\\item[\\$hsa00040] \\begin{enumerate*}\n",
       "\\item 'GUSB'\n",
       "\\item 'KL'\n",
       "\\item 'UGT2A1'\n",
       "\\item 'UGT2A3'\n",
       "\\item 'UGT2B17'\n",
       "\\item 'UGT2B11'\n",
       "\\end{enumerate*}\n",
       "\n",
       "\\item[\\$hsa00051] \\begin{enumerate*}\n",
       "\\item 'MPI'\n",
       "\\item 'PMM2'\n",
       "\\item 'PMM1'\n",
       "\\item 'GMPPB'\n",
       "\\item 'GMPPA'\n",
       "\\item 'GMDS'\n",
       "\\end{enumerate*}\n",
       "\n",
       "\\end{description}\n"
      ],
      "text/markdown": [
       "$hsa00010\n",
       ":   1. 'HK3'\n",
       "2. 'HK1'\n",
       "3. 'HK2'\n",
       "4. 'HKDC1'\n",
       "5. 'GCK'\n",
       "6. 'GPI'\n",
       "\n",
       "\n",
       "\n",
       "$hsa00020\n",
       ":   1. 'CS'\n",
       "2. 'ACLY'\n",
       "3. 'ACO2'\n",
       "4. 'ACO1'\n",
       "5. 'IDH1'\n",
       "6. 'IDH2'\n",
       "\n",
       "\n",
       "\n",
       "$hsa00030\n",
       ":   1. 'GPI'\n",
       "2. 'G6PD'\n",
       "3. 'PGLS'\n",
       "4. 'H6PD'\n",
       "5. 'PGD'\n",
       "6. 'RPE'\n",
       "\n",
       "\n",
       "\n",
       "$hsa00040\n",
       ":   1. 'GUSB'\n",
       "2. 'KL'\n",
       "3. 'UGT2A1'\n",
       "4. 'UGT2A3'\n",
       "5. 'UGT2B17'\n",
       "6. 'UGT2B11'\n",
       "\n",
       "\n",
       "\n",
       "$hsa00051\n",
       ":   1. 'MPI'\n",
       "2. 'PMM2'\n",
       "3. 'PMM1'\n",
       "4. 'GMPPB'\n",
       "5. 'GMPPA'\n",
       "6. 'GMDS'\n",
       "\n",
       "\n",
       "\n",
       "\n",
       "\n"
      ],
      "text/plain": [
       "$hsa00010\n",
       "[1] \"HK3\"   \"HK1\"   \"HK2\"   \"HKDC1\" \"GCK\"   \"GPI\"  \n",
       "\n",
       "$hsa00020\n",
       "[1] \"CS\"   \"ACLY\" \"ACO2\" \"ACO1\" \"IDH1\" \"IDH2\"\n",
       "\n",
       "$hsa00030\n",
       "[1] \"GPI\"  \"G6PD\" \"PGLS\" \"H6PD\" \"PGD\"  \"RPE\" \n",
       "\n",
       "$hsa00040\n",
       "[1] \"GUSB\"    \"KL\"      \"UGT2A1\"  \"UGT2A3\"  \"UGT2B17\" \"UGT2B11\"\n",
       "\n",
       "$hsa00051\n",
       "[1] \"MPI\"   \"PMM2\"  \"PMM1\"  \"GMPPB\" \"GMPPA\" \"GMDS\" \n"
      ]
     },
     "metadata": {},
     "output_type": "display_data"
    }
   ],
   "source": [
    "# Load the pathways into a named list\n",
    "KEGG_hallmark <- gmtPathways(\"./data/KEGG_pathways.gmt\")\n",
    "# Show the first few GO terms, and within those, show only the first few genes.\n",
    "tmp = lapply(KEGG_hallmark,head)\n",
    "tmp[1:5]"
   ]
  },
  {
   "cell_type": "code",
   "execution_count": 27,
   "id": "9eb1ede2",
   "metadata": {},
   "outputs": [],
   "source": [
    "# Running fgsea\n",
    "suppressWarnings(fgseaRes <- fgsea(pathways = KEGG_hallmark,\n",
    "                  stats    = stats))"
   ]
  },
  {
   "cell_type": "code",
   "execution_count": 28,
   "id": "cbe55bb6",
   "metadata": {},
   "outputs": [
    {
     "data": {
      "text/html": [
       "<table class=\"dataframe\">\n",
       "<caption>A data.table: 6 × 7</caption>\n",
       "<thead>\n",
       "\t<tr><th scope=col>pathway</th><th scope=col>pval</th><th scope=col>padj</th><th scope=col>log2err</th><th scope=col>ES</th><th scope=col>NES</th><th scope=col>size</th></tr>\n",
       "\t<tr><th scope=col>&lt;chr&gt;</th><th scope=col>&lt;dbl&gt;</th><th scope=col>&lt;dbl&gt;</th><th scope=col>&lt;dbl&gt;</th><th scope=col>&lt;dbl&gt;</th><th scope=col>&lt;dbl&gt;</th><th scope=col>&lt;int&gt;</th></tr>\n",
       "</thead>\n",
       "<tbody>\n",
       "\t<tr><td>hsa04060</td><td>1.069546e-06</td><td>0.0003593676</td><td>0.6435518</td><td>0.3386982</td><td>1.462696</td><td>291</td></tr>\n",
       "\t<tr><td>hsa04740</td><td>1.095293e-03</td><td>0.1840092397</td><td>0.4550599</td><td>0.3408244</td><td>1.408157</td><td>132</td></tr>\n",
       "\t<tr><td>hsa04061</td><td>1.794795e-03</td><td>0.2010170125</td><td>0.4550599</td><td>0.3527876</td><td>1.428742</td><td> 98</td></tr>\n",
       "\t<tr><td>hsa04080</td><td>7.697156e-03</td><td>0.6272993036</td><td>0.4070179</td><td>0.2777624</td><td>1.210046</td><td>358</td></tr>\n",
       "\t<tr><td>hsa05340</td><td>1.075070e-02</td><td>0.6272993036</td><td>0.3807304</td><td>0.4010841</td><td>1.456470</td><td> 37</td></tr>\n",
       "\t<tr><td>hsa00500</td><td>1.120177e-02</td><td>0.6272993036</td><td>0.3807304</td><td>0.4183729</td><td>1.512586</td><td> 36</td></tr>\n",
       "</tbody>\n",
       "</table>\n"
      ],
      "text/latex": [
       "A data.table: 6 × 7\n",
       "\\begin{tabular}{lllllll}\n",
       " pathway & pval & padj & log2err & ES & NES & size\\\\\n",
       " <chr> & <dbl> & <dbl> & <dbl> & <dbl> & <dbl> & <int>\\\\\n",
       "\\hline\n",
       "\t hsa04060 & 1.069546e-06 & 0.0003593676 & 0.6435518 & 0.3386982 & 1.462696 & 291\\\\\n",
       "\t hsa04740 & 1.095293e-03 & 0.1840092397 & 0.4550599 & 0.3408244 & 1.408157 & 132\\\\\n",
       "\t hsa04061 & 1.794795e-03 & 0.2010170125 & 0.4550599 & 0.3527876 & 1.428742 &  98\\\\\n",
       "\t hsa04080 & 7.697156e-03 & 0.6272993036 & 0.4070179 & 0.2777624 & 1.210046 & 358\\\\\n",
       "\t hsa05340 & 1.075070e-02 & 0.6272993036 & 0.3807304 & 0.4010841 & 1.456470 &  37\\\\\n",
       "\t hsa00500 & 1.120177e-02 & 0.6272993036 & 0.3807304 & 0.4183729 & 1.512586 &  36\\\\\n",
       "\\end{tabular}\n"
      ],
      "text/markdown": [
       "\n",
       "A data.table: 6 × 7\n",
       "\n",
       "| pathway &lt;chr&gt; | pval &lt;dbl&gt; | padj &lt;dbl&gt; | log2err &lt;dbl&gt; | ES &lt;dbl&gt; | NES &lt;dbl&gt; | size &lt;int&gt; |\n",
       "|---|---|---|---|---|---|---|\n",
       "| hsa04060 | 1.069546e-06 | 0.0003593676 | 0.6435518 | 0.3386982 | 1.462696 | 291 |\n",
       "| hsa04740 | 1.095293e-03 | 0.1840092397 | 0.4550599 | 0.3408244 | 1.408157 | 132 |\n",
       "| hsa04061 | 1.794795e-03 | 0.2010170125 | 0.4550599 | 0.3527876 | 1.428742 |  98 |\n",
       "| hsa04080 | 7.697156e-03 | 0.6272993036 | 0.4070179 | 0.2777624 | 1.210046 | 358 |\n",
       "| hsa05340 | 1.075070e-02 | 0.6272993036 | 0.3807304 | 0.4010841 | 1.456470 |  37 |\n",
       "| hsa00500 | 1.120177e-02 | 0.6272993036 | 0.3807304 | 0.4183729 | 1.512586 |  36 |\n",
       "\n"
      ],
      "text/plain": [
       "  pathway  pval         padj         log2err   ES        NES      size\n",
       "1 hsa04060 1.069546e-06 0.0003593676 0.6435518 0.3386982 1.462696 291 \n",
       "2 hsa04740 1.095293e-03 0.1840092397 0.4550599 0.3408244 1.408157 132 \n",
       "3 hsa04061 1.794795e-03 0.2010170125 0.4550599 0.3527876 1.428742  98 \n",
       "4 hsa04080 7.697156e-03 0.6272993036 0.4070179 0.2777624 1.210046 358 \n",
       "5 hsa05340 1.075070e-02 0.6272993036 0.3807304 0.4010841 1.456470  37 \n",
       "6 hsa00500 1.120177e-02 0.6272993036 0.3807304 0.4183729 1.512586  36 "
      ]
     },
     "metadata": {},
     "output_type": "display_data"
    }
   ],
   "source": [
    "head(fgseaRes[order(pval), ][,-8])"
   ]
  },
  {
   "cell_type": "code",
   "execution_count": 29,
   "id": "a63408eb",
   "metadata": {},
   "outputs": [
    {
     "data": {
      "image/png": "[encoded data removed]",
      "text/plain": [
       "plot without title"
      ]
     },
     "metadata": {
      "image/png": {
       "height": 420,
       "width": 420
      }
     },
     "output_type": "display_data"
    }
   ],
   "source": [
    "topPathwaysUp <- fgseaRes[ES > 0][head(order(pval), n=5), pathway]\n",
    "topPathwaysDown <- fgseaRes[ES < 0][head(order(pval), n=5), pathway]\n",
    "topPathways <- c(topPathwaysUp, rev(topPathwaysDown))\n",
    "#Viewing the 5 most significantly up-regulated and down-regulated pathways each with the FGSEA internal plot function\n",
    "plotGseaTable(KEGG_hallmark[topPathways], stats, fgseaRes,\n",
    "              gseaParam=0.5)"
   ]
  },
  {
   "cell_type": "markdown",
   "id": "181989b1",
   "metadata": {},
   "source": [
    "## Gene Set Enrichment Analysis using GSA"
   ]
  },
  {
   "cell_type": "markdown",
   "id": "c2f471b1",
   "metadata": {},
   "source": [
    "Gene Set Analysis (GSA), an Enrichment Analysis, is a method that is commonly used to summarize high-dimensional gene expression data sets into sets according to its biological relevance. GSA takes the ranked gene lists from the initial stage of a gene expression analysis and aggregates the genes into sets based on shared biological or functional properties as specified by a reference knowledge base. Such databases often contain phenotype associations, molecular interactions and regulation and are referenced in the analysis of the resultant gene sets to find the relevance of the gene properties to the phenotype of interest."
   ]
  },
  {
   "cell_type": "markdown",
   "id": "0f0c9233",
   "metadata": {},
   "source": [
    "### Data preparation\n",
    "The GSA method is freely available as standalone package in CRAN repository. We can use the following code to install the package."
   ]
  },
  {
   "cell_type": "code",
   "execution_count": 30,
   "id": "c3efb930",
   "metadata": {},
   "outputs": [
    {
     "name": "stderr",
     "output_type": "stream",
     "text": [
      "Warning message in library(package, lib.loc = lib.loc, character.only = TRUE, logical.return = TRUE, :\n",
      "“there is no package called ‘GSA’”\n"
     ]
    },
    {
     "name": "stdout",
     "output_type": "stream",
     "text": [
      "\n",
      "The downloaded binary packages are in\n",
      "\t/var/folders/xf/v88ngt8s37b5qqxtsz3hwyhm0000gn/T//RtmpMCAXSG/downloaded_packages\n"
     ]
    }
   ],
   "source": [
    "# Install GSA from CRAN\n",
    "suppressMessages({if (!require(\"GSA\"))\n",
    "        suppressWarnings(install.packages(\"GSA\"))\n",
    "})\n",
    "suppressMessages({\n",
    "  library(GSA)\n",
    "})"
   ]
  },
  {
   "cell_type": "markdown",
   "id": "e4a2ed98",
   "metadata": {},
   "source": [
    "The GSA method require an expression matrix, a numeric vector containing class of each sample and a vector of genes the inputs. We can easily get those inputs by load the data that we processed in the [**Module 01** ](./Module01-GEO_Data_Processing.ipynb)."
   ]
  },
  {
   "cell_type": "code",
   "execution_count": 31,
   "id": "3982c128",
   "metadata": {},
   "outputs": [],
   "source": [
    "# Loading expression data with groups\n",
    "data <- readRDS(\"./data/GSE48350.rds\")\n",
    "expression_data <- data$expression_data\n",
    "norm_expression_data <- data$norm_expression_data\n",
    "groups <- data$groups"
   ]
  },
  {
   "cell_type": "markdown",
   "id": "ad173974",
   "metadata": {},
   "source": [
    "We can also use the sample approach available in the [**Module 01** ](./Module01-GEO_Data_Processing.ipynb) to map the probe IDs to gene symbols. The step-by-step coding instruction is shown below:"
   ]
  },
  {
   "cell_type": "code",
   "execution_count": 32,
   "id": "e0d1acf4",
   "metadata": {},
   "outputs": [],
   "source": [
    "# Get the probe IDs\n",
    "expression_data$PROBEID <- rownames(expression_data)\n",
    "probeIDs <- rownames(expression_data)\n",
    "# Perform gene mapping\n",
    "suppressMessages({\n",
    "  annotLookup <- AnnotationDbi::select(hgu133plus2.db, keys = probeIDs, columns = c('PROBEID', 'GENENAME', 'SYMBOL'))\n",
    "})\n",
    "# Merge DE result  data frame with annotation table\n",
    "new_expression_data = merge(annotLookup, expression_data, by=\"PROBEID\")\n",
    "# Remove NA value\n",
    "new_expression_data <- new_expression_data[!is.na(new_expression_data$SYMBOL),]\n",
    "# Remove duplicated genes symbol\n",
    "new_expression_data <-  new_expression_data[!duplicated(new_expression_data$SYMBOL,fromLast=FALSE),]\n",
    "rownames(new_expression_data) <- new_expression_data$SYMBOL\n",
    "# Drop PROBEID, GENENAME, and SYMBOL columns\n",
    "new_expression_data <- new_expression_data[,-c(1:3)]\n",
    "genenames= rownames(new_expression_data)"
   ]
  },
  {
   "cell_type": "markdown",
   "id": "f8acf4f4",
   "metadata": {},
   "source": [
    "### GSA Enrichment analysis using GO terms\n",
    "Using data obtaiend from the previous step, we can run the GSA method by callinf the function `GSA`. We can reuse `GO_term_hallmark` and `KEGG_hallmark` loaded in FGSEA to perform analysis. The code details are shown below:"
   ]
  },
  {
   "cell_type": "code",
   "execution_count": 34,
   "id": "e026aa03",
   "metadata": {},
   "outputs": [
    {
     "name": "stdout",
     "output_type": "stream",
     "text": [
      "perm= 10 / 200 \n",
      "perm= 20 / 200 \n",
      "perm= 30 / 200 \n",
      "perm= 40 / 200 \n",
      "perm= 50 / 200 \n",
      "perm= 60 / 200 \n",
      "perm= 70 / 200 \n",
      "perm= 80 / 200 \n",
      "perm= 90 / 200 \n",
      "perm= 100 / 200 \n",
      "perm= 110 / 200 \n",
      "perm= 120 / 200 \n",
      "perm= 130 / 200 \n",
      "perm= 140 / 200 \n",
      "perm= 150 / 200 \n",
      "perm= 160 / 200 \n",
      "perm= 170 / 200 \n",
      "perm= 180 / 200 \n",
      "perm= 190 / 200 \n",
      "perm= 200 / 200 \n"
     ]
    }
   ],
   "source": [
    "# Getting\n",
    "genesets = GO_term_hallmark\n",
    "GSA.obj<-GSA(as.matrix(new_expression_data),as.numeric(groups$groups), genenames=genenames, genesets=genesets, resp.type=\"Two class unpaired\")"
   ]
  },
  {
   "cell_type": "code",
   "execution_count": 36,
   "id": "ebba9b67",
   "metadata": {},
   "outputs": [],
   "source": [
    "# List the results from a GSA analysis\n",
    "res <- GSA.listsets(GSA.obj, geneset.names=names(genesets),FDRcut=.5)"
   ]
  },
  {
   "cell_type": "markdown",
   "id": "df55e53c",
   "metadata": {},
   "source": [
    "A table of the negative gene sets. “Negative” means that lower expression of most genes in the gene set correlates with higher values of the phenotype y. Eg for two classes coded 1,2, lower expression correlates with class 2."
   ]
  },
  {
   "cell_type": "code",
   "execution_count": 39,
   "id": "ae97649e",
   "metadata": {},
   "outputs": [
    {
     "data": {
      "text/html": [
       "<table class=\"dataframe\">\n",
       "<caption>A matrix: 6 × 5 of type chr</caption>\n",
       "<thead>\n",
       "\t<tr><th scope=col>Gene_set</th><th scope=col>Gene_set_name</th><th scope=col>Score</th><th scope=col>p-value</th><th scope=col>FDR</th></tr>\n",
       "</thead>\n",
       "<tbody>\n",
       "\t<tr><td>794 </td><td>GO:0006596</td><td>-0.5345</td><td>0</td><td>0</td></tr>\n",
       "\t<tr><td>795 </td><td>GO:0006605</td><td>-0.4387</td><td>0</td><td>0</td></tr>\n",
       "\t<tr><td>929 </td><td>GO:0006900</td><td>-0.5984</td><td>0</td><td>0</td></tr>\n",
       "\t<tr><td>974 </td><td>GO:0006991</td><td>-0.5592</td><td>0</td><td>0</td></tr>\n",
       "\t<tr><td>1000</td><td>GO:0007034</td><td>-0.3356</td><td>0</td><td>0</td></tr>\n",
       "\t<tr><td>1141</td><td>GO:0007528</td><td>-0.5466</td><td>0</td><td>0</td></tr>\n",
       "</tbody>\n",
       "</table>\n"
      ],
      "text/latex": [
       "A matrix: 6 × 5 of type chr\n",
       "\\begin{tabular}{lllll}\n",
       " Gene\\_set & Gene\\_set\\_name & Score & p-value & FDR\\\\\n",
       "\\hline\n",
       "\t 794  & GO:0006596 & -0.5345 & 0 & 0\\\\\n",
       "\t 795  & GO:0006605 & -0.4387 & 0 & 0\\\\\n",
       "\t 929  & GO:0006900 & -0.5984 & 0 & 0\\\\\n",
       "\t 974  & GO:0006991 & -0.5592 & 0 & 0\\\\\n",
       "\t 1000 & GO:0007034 & -0.3356 & 0 & 0\\\\\n",
       "\t 1141 & GO:0007528 & -0.5466 & 0 & 0\\\\\n",
       "\\end{tabular}\n"
      ],
      "text/markdown": [
       "\n",
       "A matrix: 6 × 5 of type chr\n",
       "\n",
       "| Gene_set | Gene_set_name | Score | p-value | FDR |\n",
       "|---|---|---|---|---|\n",
       "| 794  | GO:0006596 | -0.5345 | 0 | 0 |\n",
       "| 795  | GO:0006605 | -0.4387 | 0 | 0 |\n",
       "| 929  | GO:0006900 | -0.5984 | 0 | 0 |\n",
       "| 974  | GO:0006991 | -0.5592 | 0 | 0 |\n",
       "| 1000 | GO:0007034 | -0.3356 | 0 | 0 |\n",
       "| 1141 | GO:0007528 | -0.5466 | 0 | 0 |\n",
       "\n"
      ],
      "text/plain": [
       "     Gene_set Gene_set_name Score   p-value FDR\n",
       "[1,] 794      GO:0006596    -0.5345 0       0  \n",
       "[2,] 795      GO:0006605    -0.4387 0       0  \n",
       "[3,] 929      GO:0006900    -0.5984 0       0  \n",
       "[4,] 974      GO:0006991    -0.5592 0       0  \n",
       "[5,] 1000     GO:0007034    -0.3356 0       0  \n",
       "[6,] 1141     GO:0007528    -0.5466 0       0  "
      ]
     },
     "metadata": {},
     "output_type": "display_data"
    }
   ],
   "source": [
    "neg.table <-res$negative\n",
    "head(neg.table)"
   ]
  },
  {
   "cell_type": "markdown",
   "id": "c237dea8",
   "metadata": {},
   "source": [
    "A table of the positive gene sets. \"Positive\" means that higher expression of most genes in the gene set correlates with higher values of the phenotype y."
   ]
  },
  {
   "cell_type": "code",
   "execution_count": 40,
   "id": "e640ff47",
   "metadata": {},
   "outputs": [
    {
     "data": {
      "text/html": [
       "<table class=\"dataframe\">\n",
       "<caption>A matrix: 6 × 5 of type chr</caption>\n",
       "<thead>\n",
       "\t<tr><th scope=col>Gene_set</th><th scope=col>Gene_set_name</th><th scope=col>Score</th><th scope=col>p-value</th><th scope=col>FDR</th></tr>\n",
       "</thead>\n",
       "<tbody>\n",
       "\t<tr><td>1023</td><td>GO:0007097</td><td>0.6058</td><td>0</td><td>0</td></tr>\n",
       "\t<tr><td>1127</td><td>GO:0007422</td><td>0.3567</td><td>0</td><td>0</td></tr>\n",
       "\t<tr><td>1703</td><td>GO:0014044</td><td>0.9056</td><td>0</td><td>0</td></tr>\n",
       "\t<tr><td>1756</td><td>GO:0014912</td><td>0.5334</td><td>0</td><td>0</td></tr>\n",
       "\t<tr><td>1902</td><td>GO:0017145</td><td>0.6512</td><td>0</td><td>0</td></tr>\n",
       "\t<tr><td>2037</td><td>GO:0021533</td><td>0.5944</td><td>0</td><td>0</td></tr>\n",
       "</tbody>\n",
       "</table>\n"
      ],
      "text/latex": [
       "A matrix: 6 × 5 of type chr\n",
       "\\begin{tabular}{lllll}\n",
       " Gene\\_set & Gene\\_set\\_name & Score & p-value & FDR\\\\\n",
       "\\hline\n",
       "\t 1023 & GO:0007097 & 0.6058 & 0 & 0\\\\\n",
       "\t 1127 & GO:0007422 & 0.3567 & 0 & 0\\\\\n",
       "\t 1703 & GO:0014044 & 0.9056 & 0 & 0\\\\\n",
       "\t 1756 & GO:0014912 & 0.5334 & 0 & 0\\\\\n",
       "\t 1902 & GO:0017145 & 0.6512 & 0 & 0\\\\\n",
       "\t 2037 & GO:0021533 & 0.5944 & 0 & 0\\\\\n",
       "\\end{tabular}\n"
      ],
      "text/markdown": [
       "\n",
       "A matrix: 6 × 5 of type chr\n",
       "\n",
       "| Gene_set | Gene_set_name | Score | p-value | FDR |\n",
       "|---|---|---|---|---|\n",
       "| 1023 | GO:0007097 | 0.6058 | 0 | 0 |\n",
       "| 1127 | GO:0007422 | 0.3567 | 0 | 0 |\n",
       "| 1703 | GO:0014044 | 0.9056 | 0 | 0 |\n",
       "| 1756 | GO:0014912 | 0.5334 | 0 | 0 |\n",
       "| 1902 | GO:0017145 | 0.6512 | 0 | 0 |\n",
       "| 2037 | GO:0021533 | 0.5944 | 0 | 0 |\n",
       "\n"
      ],
      "text/plain": [
       "     Gene_set Gene_set_name Score  p-value FDR\n",
       "[1,] 1023     GO:0007097    0.6058 0       0  \n",
       "[2,] 1127     GO:0007422    0.3567 0       0  \n",
       "[3,] 1703     GO:0014044    0.9056 0       0  \n",
       "[4,] 1756     GO:0014912    0.5334 0       0  \n",
       "[5,] 1902     GO:0017145    0.6512 0       0  \n",
       "[6,] 2037     GO:0021533    0.5944 0       0  "
      ]
     },
     "metadata": {},
     "output_type": "display_data"
    }
   ],
   "source": [
    "pos.table <-res$positive\n",
    "head(pos.table)"
   ]
  },
  {
   "cell_type": "code",
   "execution_count": 41,
   "id": "79687f5d",
   "metadata": {},
   "outputs": [
    {
     "data": {
      "text/html": [
       "<table class=\"dataframe\">\n",
       "<caption>A matrix: 111 × 2 of type chr</caption>\n",
       "<thead>\n",
       "\t<tr><th scope=col>Gene</th><th scope=col>Score</th></tr>\n",
       "</thead>\n",
       "<tbody>\n",
       "\t<tr><td>SH3GLB1  </td><td>2.741</td></tr>\n",
       "\t<tr><td>IFT88    </td><td>2.502</td></tr>\n",
       "\t<tr><td>MTMR3    </td><td>2.289</td></tr>\n",
       "\t<tr><td>TP53INP1 </td><td>2.138</td></tr>\n",
       "\t<tr><td>ATG16L2  </td><td>1.981</td></tr>\n",
       "\t<tr><td>ATG2B    </td><td>1.952</td></tr>\n",
       "\t<tr><td>ATG14    </td><td>1.944</td></tr>\n",
       "\t<tr><td>ADPRH    </td><td>1.859</td></tr>\n",
       "\t<tr><td>SYNPO2   </td><td>1.694</td></tr>\n",
       "\t<tr><td>ATG7     </td><td>1.611</td></tr>\n",
       "\t<tr><td>STING1   </td><td>1.459</td></tr>\n",
       "\t<tr><td>MAP1LC3B2</td><td>1.449</td></tr>\n",
       "\t<tr><td>ATG9B    </td><td>1.124</td></tr>\n",
       "\t<tr><td>TBC1D12  </td><td>1.064</td></tr>\n",
       "\t<tr><td>FEZ1     </td><td>1.004</td></tr>\n",
       "\t<tr><td>NUPR1    </td><td>0.823</td></tr>\n",
       "\t<tr><td>WDR45B   </td><td>0.781</td></tr>\n",
       "\t<tr><td>TMEM39A  </td><td>0.754</td></tr>\n",
       "\t<tr><td>PIP4K2A  </td><td>0.66 </td></tr>\n",
       "\t<tr><td>ATG2A    </td><td>0.626</td></tr>\n",
       "\t<tr><td>RAB7A    </td><td>0.59 </td></tr>\n",
       "\t<tr><td>UBXN2A   </td><td>0.518</td></tr>\n",
       "\t<tr><td>WIPI2    </td><td>0.477</td></tr>\n",
       "\t<tr><td>BECN1    </td><td>0.396</td></tr>\n",
       "\t<tr><td>IFT20    </td><td>0.392</td></tr>\n",
       "\t<tr><td>TBC1D14  </td><td>0.383</td></tr>\n",
       "\t<tr><td>SNX18    </td><td>0.355</td></tr>\n",
       "\t<tr><td>WIPI1    </td><td>0.355</td></tr>\n",
       "\t<tr><td>MFN2     </td><td>0.354</td></tr>\n",
       "\t<tr><td>STBD1    </td><td>0.254</td></tr>\n",
       "\t<tr><td>⋮</td><td>⋮</td></tr>\n",
       "\t<tr><td>SCFD1    </td><td>-1.871</td></tr>\n",
       "\t<tr><td>CHMP4B   </td><td>-1.903</td></tr>\n",
       "\t<tr><td>LRSAM1   </td><td>-1.909</td></tr>\n",
       "\t<tr><td>RAB3GAP1 </td><td>-1.93 </td></tr>\n",
       "\t<tr><td>UBXN2B   </td><td>-1.935</td></tr>\n",
       "\t<tr><td>GABARAPL3</td><td>-2.003</td></tr>\n",
       "\t<tr><td>MAP1LC3B </td><td>-2.027</td></tr>\n",
       "\t<tr><td>RNF5     </td><td>-2.042</td></tr>\n",
       "\t<tr><td>VMP1     </td><td>-2.133</td></tr>\n",
       "\t<tr><td>SMURF1   </td><td>-2.137</td></tr>\n",
       "\t<tr><td>RAB1A    </td><td>-2.167</td></tr>\n",
       "\t<tr><td>CHMP4A   </td><td>-2.171</td></tr>\n",
       "\t<tr><td>RAB3GAP2 </td><td>-2.284</td></tr>\n",
       "\t<tr><td>PHF23    </td><td>-2.399</td></tr>\n",
       "\t<tr><td>ATP2A2   </td><td>-2.526</td></tr>\n",
       "\t<tr><td>ATG5     </td><td>-2.53 </td></tr>\n",
       "\t<tr><td>RALB     </td><td>-2.541</td></tr>\n",
       "\t<tr><td>MOAP1    </td><td>-2.618</td></tr>\n",
       "\t<tr><td>STX12    </td><td>-2.627</td></tr>\n",
       "\t<tr><td>ATG4D    </td><td>-2.692</td></tr>\n",
       "\t<tr><td>PIP4K2C  </td><td>-2.698</td></tr>\n",
       "\t<tr><td>MAP1LC3A </td><td>-2.727</td></tr>\n",
       "\t<tr><td>PINK1    </td><td>-2.806</td></tr>\n",
       "\t<tr><td>UBQLN1   </td><td>-2.812</td></tr>\n",
       "\t<tr><td>EMC6     </td><td>-2.983</td></tr>\n",
       "\t<tr><td>ATG9A    </td><td>-3.017</td></tr>\n",
       "\t<tr><td>ARFIP2   </td><td>-3.077</td></tr>\n",
       "\t<tr><td>SMC2     </td><td>-3.103</td></tr>\n",
       "\t<tr><td>SEC22B   </td><td>-3.107</td></tr>\n",
       "\t<tr><td>RB1CC1   </td><td>-4.026</td></tr>\n",
       "</tbody>\n",
       "</table>\n"
      ],
      "text/latex": [
       "A matrix: 111 × 2 of type chr\n",
       "\\begin{tabular}{ll}\n",
       " Gene & Score\\\\\n",
       "\\hline\n",
       "\t SH3GLB1   & 2.741\\\\\n",
       "\t IFT88     & 2.502\\\\\n",
       "\t MTMR3     & 2.289\\\\\n",
       "\t TP53INP1  & 2.138\\\\\n",
       "\t ATG16L2   & 1.981\\\\\n",
       "\t ATG2B     & 1.952\\\\\n",
       "\t ATG14     & 1.944\\\\\n",
       "\t ADPRH     & 1.859\\\\\n",
       "\t SYNPO2    & 1.694\\\\\n",
       "\t ATG7      & 1.611\\\\\n",
       "\t STING1    & 1.459\\\\\n",
       "\t MAP1LC3B2 & 1.449\\\\\n",
       "\t ATG9B     & 1.124\\\\\n",
       "\t TBC1D12   & 1.064\\\\\n",
       "\t FEZ1      & 1.004\\\\\n",
       "\t NUPR1     & 0.823\\\\\n",
       "\t WDR45B    & 0.781\\\\\n",
       "\t TMEM39A   & 0.754\\\\\n",
       "\t PIP4K2A   & 0.66 \\\\\n",
       "\t ATG2A     & 0.626\\\\\n",
       "\t RAB7A     & 0.59 \\\\\n",
       "\t UBXN2A    & 0.518\\\\\n",
       "\t WIPI2     & 0.477\\\\\n",
       "\t BECN1     & 0.396\\\\\n",
       "\t IFT20     & 0.392\\\\\n",
       "\t TBC1D14   & 0.383\\\\\n",
       "\t SNX18     & 0.355\\\\\n",
       "\t WIPI1     & 0.355\\\\\n",
       "\t MFN2      & 0.354\\\\\n",
       "\t STBD1     & 0.254\\\\\n",
       "\t ⋮ & ⋮\\\\\n",
       "\t SCFD1     & -1.871\\\\\n",
       "\t CHMP4B    & -1.903\\\\\n",
       "\t LRSAM1    & -1.909\\\\\n",
       "\t RAB3GAP1  & -1.93 \\\\\n",
       "\t UBXN2B    & -1.935\\\\\n",
       "\t GABARAPL3 & -2.003\\\\\n",
       "\t MAP1LC3B  & -2.027\\\\\n",
       "\t RNF5      & -2.042\\\\\n",
       "\t VMP1      & -2.133\\\\\n",
       "\t SMURF1    & -2.137\\\\\n",
       "\t RAB1A     & -2.167\\\\\n",
       "\t CHMP4A    & -2.171\\\\\n",
       "\t RAB3GAP2  & -2.284\\\\\n",
       "\t PHF23     & -2.399\\\\\n",
       "\t ATP2A2    & -2.526\\\\\n",
       "\t ATG5      & -2.53 \\\\\n",
       "\t RALB      & -2.541\\\\\n",
       "\t MOAP1     & -2.618\\\\\n",
       "\t STX12     & -2.627\\\\\n",
       "\t ATG4D     & -2.692\\\\\n",
       "\t PIP4K2C   & -2.698\\\\\n",
       "\t MAP1LC3A  & -2.727\\\\\n",
       "\t PINK1     & -2.806\\\\\n",
       "\t UBQLN1    & -2.812\\\\\n",
       "\t EMC6      & -2.983\\\\\n",
       "\t ATG9A     & -3.017\\\\\n",
       "\t ARFIP2    & -3.077\\\\\n",
       "\t SMC2      & -3.103\\\\\n",
       "\t SEC22B    & -3.107\\\\\n",
       "\t RB1CC1    & -4.026\\\\\n",
       "\\end{tabular}\n"
      ],
      "text/markdown": [
       "\n",
       "A matrix: 111 × 2 of type chr\n",
       "\n",
       "| Gene | Score |\n",
       "|---|---|\n",
       "| SH3GLB1   | 2.741 |\n",
       "| IFT88     | 2.502 |\n",
       "| MTMR3     | 2.289 |\n",
       "| TP53INP1  | 2.138 |\n",
       "| ATG16L2   | 1.981 |\n",
       "| ATG2B     | 1.952 |\n",
       "| ATG14     | 1.944 |\n",
       "| ADPRH     | 1.859 |\n",
       "| SYNPO2    | 1.694 |\n",
       "| ATG7      | 1.611 |\n",
       "| STING1    | 1.459 |\n",
       "| MAP1LC3B2 | 1.449 |\n",
       "| ATG9B     | 1.124 |\n",
       "| TBC1D12   | 1.064 |\n",
       "| FEZ1      | 1.004 |\n",
       "| NUPR1     | 0.823 |\n",
       "| WDR45B    | 0.781 |\n",
       "| TMEM39A   | 0.754 |\n",
       "| PIP4K2A   | 0.66  |\n",
       "| ATG2A     | 0.626 |\n",
       "| RAB7A     | 0.59  |\n",
       "| UBXN2A    | 0.518 |\n",
       "| WIPI2     | 0.477 |\n",
       "| BECN1     | 0.396 |\n",
       "| IFT20     | 0.392 |\n",
       "| TBC1D14   | 0.383 |\n",
       "| SNX18     | 0.355 |\n",
       "| WIPI1     | 0.355 |\n",
       "| MFN2      | 0.354 |\n",
       "| STBD1     | 0.254 |\n",
       "| ⋮ | ⋮ |\n",
       "| SCFD1     | -1.871 |\n",
       "| CHMP4B    | -1.903 |\n",
       "| LRSAM1    | -1.909 |\n",
       "| RAB3GAP1  | -1.93  |\n",
       "| UBXN2B    | -1.935 |\n",
       "| GABARAPL3 | -2.003 |\n",
       "| MAP1LC3B  | -2.027 |\n",
       "| RNF5      | -2.042 |\n",
       "| VMP1      | -2.133 |\n",
       "| SMURF1    | -2.137 |\n",
       "| RAB1A     | -2.167 |\n",
       "| CHMP4A    | -2.171 |\n",
       "| RAB3GAP2  | -2.284 |\n",
       "| PHF23     | -2.399 |\n",
       "| ATP2A2    | -2.526 |\n",
       "| ATG5      | -2.53  |\n",
       "| RALB      | -2.541 |\n",
       "| MOAP1     | -2.618 |\n",
       "| STX12     | -2.627 |\n",
       "| ATG4D     | -2.692 |\n",
       "| PIP4K2C   | -2.698 |\n",
       "| MAP1LC3A  | -2.727 |\n",
       "| PINK1     | -2.806 |\n",
       "| UBQLN1    | -2.812 |\n",
       "| EMC6      | -2.983 |\n",
       "| ATG9A     | -3.017 |\n",
       "| ARFIP2    | -3.077 |\n",
       "| SMC2      | -3.103 |\n",
       "| SEC22B    | -3.107 |\n",
       "| RB1CC1    | -4.026 |\n",
       "\n"
      ],
      "text/plain": [
       "      Gene      Score \n",
       " [1,] SH3GLB1   2.741 \n",
       " [2,] IFT88     2.502 \n",
       " [3,] MTMR3     2.289 \n",
       " [4,] TP53INP1  2.138 \n",
       " [5,] ATG16L2   1.981 \n",
       " [6,] ATG2B     1.952 \n",
       " [7,] ATG14     1.944 \n",
       " [8,] ADPRH     1.859 \n",
       " [9,] SYNPO2    1.694 \n",
       "[10,] ATG7      1.611 \n",
       "[11,] STING1    1.459 \n",
       "[12,] MAP1LC3B2 1.449 \n",
       "[13,] ATG9B     1.124 \n",
       "[14,] TBC1D12   1.064 \n",
       "[15,] FEZ1      1.004 \n",
       "[16,] NUPR1     0.823 \n",
       "[17,] WDR45B    0.781 \n",
       "[18,] TMEM39A   0.754 \n",
       "[19,] PIP4K2A   0.66  \n",
       "[20,] ATG2A     0.626 \n",
       "[21,] RAB7A     0.59  \n",
       "[22,] UBXN2A    0.518 \n",
       "[23,] WIPI2     0.477 \n",
       "[24,] BECN1     0.396 \n",
       "[25,] IFT20     0.392 \n",
       "[26,] TBC1D14   0.383 \n",
       "[27,] SNX18     0.355 \n",
       "[28,] WIPI1     0.355 \n",
       "[29,] MFN2      0.354 \n",
       "[30,] STBD1     0.254 \n",
       "[31,] ⋮         ⋮     \n",
       "[32,] SCFD1     -1.871\n",
       "[33,] CHMP4B    -1.903\n",
       "[34,] LRSAM1    -1.909\n",
       "[35,] RAB3GAP1  -1.93 \n",
       "[36,] UBXN2B    -1.935\n",
       "[37,] GABARAPL3 -2.003\n",
       "[38,] MAP1LC3B  -2.027\n",
       "[39,] RNF5      -2.042\n",
       "[40,] VMP1      -2.133\n",
       "[41,] SMURF1    -2.137\n",
       "[42,] RAB1A     -2.167\n",
       "[43,] CHMP4A    -2.171\n",
       "[44,] RAB3GAP2  -2.284\n",
       "[45,] PHF23     -2.399\n",
       "[46,] ATP2A2    -2.526\n",
       "[47,] ATG5      -2.53 \n",
       "[48,] RALB      -2.541\n",
       "[49,] MOAP1     -2.618\n",
       "[50,] STX12     -2.627\n",
       "[51,] ATG4D     -2.692\n",
       "[52,] PIP4K2C   -2.698\n",
       "[53,] MAP1LC3A  -2.727\n",
       "[54,] PINK1     -2.806\n",
       "[55,] UBQLN1    -2.812\n",
       "[56,] EMC6      -2.983\n",
       "[57,] ATG9A     -3.017\n",
       "[58,] ARFIP2    -3.077\n",
       "[59,] SMC2      -3.103\n",
       "[60,] SEC22B    -3.107\n",
       "[61,] RB1CC1    -4.026"
      ]
     },
     "metadata": {},
     "output_type": "display_data"
    }
   ],
   "source": [
    "# Individual gene scores from a gene set analysis\n",
    "# look at 10th gene set\n",
    "GSA.genescores(10, genesets, GSA.obj, genenames)"
   ]
  },
  {
   "cell_type": "code",
   "execution_count": 42,
   "id": "1cfde1f8",
   "metadata": {},
   "outputs": [
    {
     "data": {
      "image/png": "[encoded data removed]",
      "text/plain": [
       "plot without title"
      ]
     },
     "metadata": {
      "image/png": {
       "height": 420,
       "width": 420
      }
     },
     "output_type": "display_data"
    }
   ],
   "source": [
    "# Plot the result, this function makes a plot of the significant gene sets, based on a call to the GSA (Gene set analysis) function.\n",
    "suppressWarnings(GSA.plot(GSA.obj, fac=1, FDRcut = 0.5))"
   ]
  },
  {
   "cell_type": "markdown",
   "id": "7107ef92",
   "metadata": {},
   "source": [
    "### GSA Enrichment analysis using KEGG pathways\n",
    "We can use the same procedure to per enrichment analyis with KEGG pathway. All the codes are similar but `genesets` are assigned from `KEGG_hallmark`. The code is shown below."
   ]
  },
  {
   "cell_type": "code",
   "execution_count": 43,
   "id": "361aff0b",
   "metadata": {},
   "outputs": [
    {
     "name": "stdout",
     "output_type": "stream",
     "text": [
      "perm= 10 / 100 \n",
      "perm= 20 / 100 \n",
      "perm= 30 / 100 \n",
      "perm= 40 / 100 \n",
      "perm= 50 / 100 \n",
      "perm= 60 / 100 \n",
      "perm= 70 / 100 \n",
      "perm= 80 / 100 \n",
      "perm= 90 / 100 \n",
      "perm= 100 / 100 \n"
     ]
    }
   ],
   "source": [
    "genesets = KEGG_hallmark\n",
    "GSA.obj<-GSA(as.matrix(new_expression_data),as.numeric(groups$groups), genenames=genenames, genesets=genesets, resp.type=\"Two class unpaired\", nperms=100)"
   ]
  },
  {
   "cell_type": "code",
   "execution_count": 44,
   "id": "00afb710",
   "metadata": {},
   "outputs": [],
   "source": [
    "# List the results from a GSA analysis\n",
    "res <- GSA.listsets(GSA.obj, geneset.names=names(genesets),FDRcut=.5)"
   ]
  },
  {
   "cell_type": "markdown",
   "id": "e15cdae3",
   "metadata": {},
   "source": [
    "A table of the negative gene sets. \"Negative\" means that lower expression of most genes in the gene set correlates with higher values of the phenotype y. Eg for two classes coded 1,2, lower expression correlates with class 2."
   ]
  },
  {
   "cell_type": "code",
   "execution_count": 45,
   "id": "c9e7aad4",
   "metadata": {},
   "outputs": [
    {
     "data": {
      "text/html": [
       "<table class=\"dataframe\">\n",
       "<caption>A matrix: 6 × 5 of type chr</caption>\n",
       "<thead>\n",
       "\t<tr><th scope=col>Gene_set</th><th scope=col>Gene_set_name</th><th scope=col>Score</th><th scope=col>p-value</th><th scope=col>FDR</th></tr>\n",
       "</thead>\n",
       "<tbody>\n",
       "\t<tr><td>15 </td><td>hsa00190</td><td>-1.0476</td><td>0</td><td>0</td></tr>\n",
       "\t<tr><td>209</td><td>hsa04714</td><td>-0.5229</td><td>0</td><td>0</td></tr>\n",
       "\t<tr><td>269</td><td>hsa05010</td><td>-0.4969</td><td>0</td><td>0</td></tr>\n",
       "\t<tr><td>270</td><td>hsa05012</td><td>-0.7373</td><td>0</td><td>0</td></tr>\n",
       "\t<tr><td>271</td><td>hsa05014</td><td>-0.5638</td><td>0</td><td>0</td></tr>\n",
       "\t<tr><td>272</td><td>hsa05016</td><td>-0.717 </td><td>0</td><td>0</td></tr>\n",
       "</tbody>\n",
       "</table>\n"
      ],
      "text/latex": [
       "A matrix: 6 × 5 of type chr\n",
       "\\begin{tabular}{lllll}\n",
       " Gene\\_set & Gene\\_set\\_name & Score & p-value & FDR\\\\\n",
       "\\hline\n",
       "\t 15  & hsa00190 & -1.0476 & 0 & 0\\\\\n",
       "\t 209 & hsa04714 & -0.5229 & 0 & 0\\\\\n",
       "\t 269 & hsa05010 & -0.4969 & 0 & 0\\\\\n",
       "\t 270 & hsa05012 & -0.7373 & 0 & 0\\\\\n",
       "\t 271 & hsa05014 & -0.5638 & 0 & 0\\\\\n",
       "\t 272 & hsa05016 & -0.717  & 0 & 0\\\\\n",
       "\\end{tabular}\n"
      ],
      "text/markdown": [
       "\n",
       "A matrix: 6 × 5 of type chr\n",
       "\n",
       "| Gene_set | Gene_set_name | Score | p-value | FDR |\n",
       "|---|---|---|---|---|\n",
       "| 15  | hsa00190 | -1.0476 | 0 | 0 |\n",
       "| 209 | hsa04714 | -0.5229 | 0 | 0 |\n",
       "| 269 | hsa05010 | -0.4969 | 0 | 0 |\n",
       "| 270 | hsa05012 | -0.7373 | 0 | 0 |\n",
       "| 271 | hsa05014 | -0.5638 | 0 | 0 |\n",
       "| 272 | hsa05016 | -0.717  | 0 | 0 |\n",
       "\n"
      ],
      "text/plain": [
       "     Gene_set Gene_set_name Score   p-value FDR\n",
       "[1,] 15       hsa00190      -1.0476 0       0  \n",
       "[2,] 209      hsa04714      -0.5229 0       0  \n",
       "[3,] 269      hsa05010      -0.4969 0       0  \n",
       "[4,] 270      hsa05012      -0.7373 0       0  \n",
       "[5,] 271      hsa05014      -0.5638 0       0  \n",
       "[6,] 272      hsa05016      -0.717  0       0  "
      ]
     },
     "metadata": {},
     "output_type": "display_data"
    }
   ],
   "source": [
    "neg.table <-res$negative\n",
    "head(neg.table)"
   ]
  },
  {
   "cell_type": "markdown",
   "id": "e226ae92",
   "metadata": {},
   "source": [
    "A table of the positive gene sets. \"Positive\" means that higher expression of most genes in the gene set correlates with higher values of the phenotype y. See \"negative\" above for more info."
   ]
  },
  {
   "cell_type": "code",
   "execution_count": 46,
   "id": "bcd7ff3e",
   "metadata": {},
   "outputs": [
    {
     "data": {
      "text/html": [
       "<table class=\"dataframe\">\n",
       "<caption>A matrix: 2 × 5 of type chr</caption>\n",
       "<thead>\n",
       "\t<tr><th scope=col>Gene_set</th><th scope=col>Gene_set_name</th><th scope=col>Score</th><th scope=col>p-value</th><th scope=col>FDR</th></tr>\n",
       "</thead>\n",
       "<tbody>\n",
       "\t<tr><td>180</td><td>hsa04520</td><td>0.5029</td><td>0</td><td>0</td></tr>\n",
       "\t<tr><td>224</td><td>hsa04810</td><td>0.2216</td><td>0</td><td>0</td></tr>\n",
       "</tbody>\n",
       "</table>\n"
      ],
      "text/latex": [
       "A matrix: 2 × 5 of type chr\n",
       "\\begin{tabular}{lllll}\n",
       " Gene\\_set & Gene\\_set\\_name & Score & p-value & FDR\\\\\n",
       "\\hline\n",
       "\t 180 & hsa04520 & 0.5029 & 0 & 0\\\\\n",
       "\t 224 & hsa04810 & 0.2216 & 0 & 0\\\\\n",
       "\\end{tabular}\n"
      ],
      "text/markdown": [
       "\n",
       "A matrix: 2 × 5 of type chr\n",
       "\n",
       "| Gene_set | Gene_set_name | Score | p-value | FDR |\n",
       "|---|---|---|---|---|\n",
       "| 180 | hsa04520 | 0.5029 | 0 | 0 |\n",
       "| 224 | hsa04810 | 0.2216 | 0 | 0 |\n",
       "\n"
      ],
      "text/plain": [
       "     Gene_set Gene_set_name Score  p-value FDR\n",
       "[1,] 180      hsa04520      0.5029 0       0  \n",
       "[2,] 224      hsa04810      0.2216 0       0  "
      ]
     },
     "metadata": {},
     "output_type": "display_data"
    }
   ],
   "source": [
    "pos.table <-res$positive\n",
    "head(pos.table)"
   ]
  },
  {
   "cell_type": "code",
   "execution_count": 47,
   "id": "0d676c13",
   "metadata": {},
   "outputs": [
    {
     "data": {
      "text/html": [
       "<table class=\"dataframe\">\n",
       "<caption>A matrix: 43 × 2 of type chr</caption>\n",
       "<thead>\n",
       "\t<tr><th scope=col>Gene</th><th scope=col>Score</th></tr>\n",
       "</thead>\n",
       "<tbody>\n",
       "\t<tr><td>ALDH9A1</td><td>2.707 </td></tr>\n",
       "\t<tr><td>HADHA  </td><td>1.725 </td></tr>\n",
       "\t<tr><td>ACADVL </td><td>1.609 </td></tr>\n",
       "\t<tr><td>ADH1B  </td><td>1.513 </td></tr>\n",
       "\t<tr><td>HADHB  </td><td>1.175 </td></tr>\n",
       "\t<tr><td>ACAA1  </td><td>0.79  </td></tr>\n",
       "\t<tr><td>ALDH2  </td><td>0.768 </td></tr>\n",
       "\t<tr><td>ACSBG1 </td><td>0.73  </td></tr>\n",
       "\t<tr><td>ALDH3A2</td><td>0.726 </td></tr>\n",
       "\t<tr><td>ACSL1  </td><td>0.662 </td></tr>\n",
       "\t<tr><td>ALDH7A1</td><td>0.64  </td></tr>\n",
       "\t<tr><td>ACSL4  </td><td>0.581 </td></tr>\n",
       "\t<tr><td>ECI1   </td><td>0.533 </td></tr>\n",
       "\t<tr><td>ACSBG2 </td><td>0.474 </td></tr>\n",
       "\t<tr><td>CPT1B  </td><td>0.393 </td></tr>\n",
       "\t<tr><td>ADH6   </td><td>0.346 </td></tr>\n",
       "\t<tr><td>ACADL  </td><td>0.268 </td></tr>\n",
       "\t<tr><td>ADH4   </td><td>0.186 </td></tr>\n",
       "\t<tr><td>CPT2   </td><td>0.147 </td></tr>\n",
       "\t<tr><td>ADH1C  </td><td>0.146 </td></tr>\n",
       "\t<tr><td>ADH5   </td><td>0.136 </td></tr>\n",
       "\t<tr><td>ACOX1  </td><td>-0.005</td></tr>\n",
       "\t<tr><td>ECI2   </td><td>-0.063</td></tr>\n",
       "\t<tr><td>ACSL5  </td><td>-0.069</td></tr>\n",
       "\t<tr><td>ACADM  </td><td>-0.109</td></tr>\n",
       "\t<tr><td>ADH1A  </td><td>-0.123</td></tr>\n",
       "\t<tr><td>CPT1A  </td><td>-0.159</td></tr>\n",
       "\t<tr><td>ACADS  </td><td>-0.161</td></tr>\n",
       "\t<tr><td>HADH   </td><td>-0.171</td></tr>\n",
       "\t<tr><td>ADH7   </td><td>-0.378</td></tr>\n",
       "\t<tr><td>ACADSB </td><td>-0.542</td></tr>\n",
       "\t<tr><td>ACAA2  </td><td>-0.551</td></tr>\n",
       "\t<tr><td>ALDH1B1</td><td>-0.623</td></tr>\n",
       "\t<tr><td>ACAT1  </td><td>-0.689</td></tr>\n",
       "\t<tr><td>CYP2U1 </td><td>-1.043</td></tr>\n",
       "\t<tr><td>ACSL6  </td><td>-1.506</td></tr>\n",
       "\t<tr><td>ACOX3  </td><td>-1.508</td></tr>\n",
       "\t<tr><td>EHHADH </td><td>-1.76 </td></tr>\n",
       "\t<tr><td>ACAT2  </td><td>-1.793</td></tr>\n",
       "\t<tr><td>GCDH   </td><td>-1.917</td></tr>\n",
       "\t<tr><td>ACSL3  </td><td>-2.432</td></tr>\n",
       "\t<tr><td>CPT1C  </td><td>-2.561</td></tr>\n",
       "\t<tr><td>ECHS1  </td><td>-2.761</td></tr>\n",
       "</tbody>\n",
       "</table>\n"
      ],
      "text/latex": [
       "A matrix: 43 × 2 of type chr\n",
       "\\begin{tabular}{ll}\n",
       " Gene & Score\\\\\n",
       "\\hline\n",
       "\t ALDH9A1 & 2.707 \\\\\n",
       "\t HADHA   & 1.725 \\\\\n",
       "\t ACADVL  & 1.609 \\\\\n",
       "\t ADH1B   & 1.513 \\\\\n",
       "\t HADHB   & 1.175 \\\\\n",
       "\t ACAA1   & 0.79  \\\\\n",
       "\t ALDH2   & 0.768 \\\\\n",
       "\t ACSBG1  & 0.73  \\\\\n",
       "\t ALDH3A2 & 0.726 \\\\\n",
       "\t ACSL1   & 0.662 \\\\\n",
       "\t ALDH7A1 & 0.64  \\\\\n",
       "\t ACSL4   & 0.581 \\\\\n",
       "\t ECI1    & 0.533 \\\\\n",
       "\t ACSBG2  & 0.474 \\\\\n",
       "\t CPT1B   & 0.393 \\\\\n",
       "\t ADH6    & 0.346 \\\\\n",
       "\t ACADL   & 0.268 \\\\\n",
       "\t ADH4    & 0.186 \\\\\n",
       "\t CPT2    & 0.147 \\\\\n",
       "\t ADH1C   & 0.146 \\\\\n",
       "\t ADH5    & 0.136 \\\\\n",
       "\t ACOX1   & -0.005\\\\\n",
       "\t ECI2    & -0.063\\\\\n",
       "\t ACSL5   & -0.069\\\\\n",
       "\t ACADM   & -0.109\\\\\n",
       "\t ADH1A   & -0.123\\\\\n",
       "\t CPT1A   & -0.159\\\\\n",
       "\t ACADS   & -0.161\\\\\n",
       "\t HADH    & -0.171\\\\\n",
       "\t ADH7    & -0.378\\\\\n",
       "\t ACADSB  & -0.542\\\\\n",
       "\t ACAA2   & -0.551\\\\\n",
       "\t ALDH1B1 & -0.623\\\\\n",
       "\t ACAT1   & -0.689\\\\\n",
       "\t CYP2U1  & -1.043\\\\\n",
       "\t ACSL6   & -1.506\\\\\n",
       "\t ACOX3   & -1.508\\\\\n",
       "\t EHHADH  & -1.76 \\\\\n",
       "\t ACAT2   & -1.793\\\\\n",
       "\t GCDH    & -1.917\\\\\n",
       "\t ACSL3   & -2.432\\\\\n",
       "\t CPT1C   & -2.561\\\\\n",
       "\t ECHS1   & -2.761\\\\\n",
       "\\end{tabular}\n"
      ],
      "text/markdown": [
       "\n",
       "A matrix: 43 × 2 of type chr\n",
       "\n",
       "| Gene | Score |\n",
       "|---|---|\n",
       "| ALDH9A1 | 2.707  |\n",
       "| HADHA   | 1.725  |\n",
       "| ACADVL  | 1.609  |\n",
       "| ADH1B   | 1.513  |\n",
       "| HADHB   | 1.175  |\n",
       "| ACAA1   | 0.79   |\n",
       "| ALDH2   | 0.768  |\n",
       "| ACSBG1  | 0.73   |\n",
       "| ALDH3A2 | 0.726  |\n",
       "| ACSL1   | 0.662  |\n",
       "| ALDH7A1 | 0.64   |\n",
       "| ACSL4   | 0.581  |\n",
       "| ECI1    | 0.533  |\n",
       "| ACSBG2  | 0.474  |\n",
       "| CPT1B   | 0.393  |\n",
       "| ADH6    | 0.346  |\n",
       "| ACADL   | 0.268  |\n",
       "| ADH4    | 0.186  |\n",
       "| CPT2    | 0.147  |\n",
       "| ADH1C   | 0.146  |\n",
       "| ADH5    | 0.136  |\n",
       "| ACOX1   | -0.005 |\n",
       "| ECI2    | -0.063 |\n",
       "| ACSL5   | -0.069 |\n",
       "| ACADM   | -0.109 |\n",
       "| ADH1A   | -0.123 |\n",
       "| CPT1A   | -0.159 |\n",
       "| ACADS   | -0.161 |\n",
       "| HADH    | -0.171 |\n",
       "| ADH7    | -0.378 |\n",
       "| ACADSB  | -0.542 |\n",
       "| ACAA2   | -0.551 |\n",
       "| ALDH1B1 | -0.623 |\n",
       "| ACAT1   | -0.689 |\n",
       "| CYP2U1  | -1.043 |\n",
       "| ACSL6   | -1.506 |\n",
       "| ACOX3   | -1.508 |\n",
       "| EHHADH  | -1.76  |\n",
       "| ACAT2   | -1.793 |\n",
       "| GCDH    | -1.917 |\n",
       "| ACSL3   | -2.432 |\n",
       "| CPT1C   | -2.561 |\n",
       "| ECHS1   | -2.761 |\n",
       "\n"
      ],
      "text/plain": [
       "      Gene    Score \n",
       " [1,] ALDH9A1 2.707 \n",
       " [2,] HADHA   1.725 \n",
       " [3,] ACADVL  1.609 \n",
       " [4,] ADH1B   1.513 \n",
       " [5,] HADHB   1.175 \n",
       " [6,] ACAA1   0.79  \n",
       " [7,] ALDH2   0.768 \n",
       " [8,] ACSBG1  0.73  \n",
       " [9,] ALDH3A2 0.726 \n",
       "[10,] ACSL1   0.662 \n",
       "[11,] ALDH7A1 0.64  \n",
       "[12,] ACSL4   0.581 \n",
       "[13,] ECI1    0.533 \n",
       "[14,] ACSBG2  0.474 \n",
       "[15,] CPT1B   0.393 \n",
       "[16,] ADH6    0.346 \n",
       "[17,] ACADL   0.268 \n",
       "[18,] ADH4    0.186 \n",
       "[19,] CPT2    0.147 \n",
       "[20,] ADH1C   0.146 \n",
       "[21,] ADH5    0.136 \n",
       "[22,] ACOX1   -0.005\n",
       "[23,] ECI2    -0.063\n",
       "[24,] ACSL5   -0.069\n",
       "[25,] ACADM   -0.109\n",
       "[26,] ADH1A   -0.123\n",
       "[27,] CPT1A   -0.159\n",
       "[28,] ACADS   -0.161\n",
       "[29,] HADH    -0.171\n",
       "[30,] ADH7    -0.378\n",
       "[31,] ACADSB  -0.542\n",
       "[32,] ACAA2   -0.551\n",
       "[33,] ALDH1B1 -0.623\n",
       "[34,] ACAT1   -0.689\n",
       "[35,] CYP2U1  -1.043\n",
       "[36,] ACSL6   -1.506\n",
       "[37,] ACOX3   -1.508\n",
       "[38,] EHHADH  -1.76 \n",
       "[39,] ACAT2   -1.793\n",
       "[40,] GCDH    -1.917\n",
       "[41,] ACSL3   -2.432\n",
       "[42,] CPT1C   -2.561\n",
       "[43,] ECHS1   -2.761"
      ]
     },
     "metadata": {},
     "output_type": "display_data"
    }
   ],
   "source": [
    "# Individual gene scores from a gene set analysis\n",
    "# look at 10th gene set\n",
    "GSA.genescores(10, genesets, GSA.obj, genenames)"
   ]
  },
  {
   "cell_type": "code",
   "execution_count": 40,
   "id": "2284bc1f",
   "metadata": {},
   "outputs": [
    {
     "data": {
      "image/png": "[encoded data removed]",
      "text/plain": [
       "plot without title"
      ]
     },
     "metadata": {
      "image/png": {
       "height": 420,
       "width": 420
      }
     },
     "output_type": "display_data"
    }
   ],
   "source": [
    "# Plot the result, this function makes a plot of the significant gene sets, based on a call to the GSA (Gene set analysis) function.\n",
    "suppressWarnings(GSA.plot(GSA.obj, fac=1, FDRcut = 0.5))\n"
   ]
  },
  {
   "cell_type": "code",
   "execution_count": 1,
   "id": "67951b37",
   "metadata": {},
   "outputs": [
    {
     "data": {
      "text/html": [
       "<iframe src=\"Quizzes/Quiz_Submodule4.html\" width=100% height=450></iframe>"
      ]
     },
     "metadata": {},
     "output_type": "display_data"
    }
   ],
   "source": [
    "IRdisplay::display_html('<iframe src=\"Quizzes/Quiz_Submodule4.html\" width=100% height=450></iframe>')"
   ]
  },
  {
   "cell_type": "code",
   "execution_count": null,
   "id": "8a4f6e84",
   "metadata": {},
   "outputs": [],
   "source": []
  }
 ],
 "metadata": {
  "celltoolbar": "Tags",
  "environment": {
   "kernel": "ir",
   "name": "r-cpu.4-1.m93",
   "type": "gcloud",
   "uri": "gcr.io/deeplearning-platform-release/r-cpu.4-1:m93"
  },
  "kernelspec": {
   "display_name": "R",
   "language": "R",
   "name": "ir"
  },
  "language_info": {
   "codemirror_mode": "r",
   "file_extension": ".r",
   "mimetype": "text/x-r-source",
   "name": "R",
   "pygments_lexer": "r",
   "version": "4.2.2"
  },
  "toc-showcode": true,
  "widgets": {
   "application/vnd.jupyter.widget-state+json": {
    "state": {},
    "version_major": 2,
    "version_minor": 0
   }
  }
 },
 "nbformat": 4,
 "nbformat_minor": 5
}
