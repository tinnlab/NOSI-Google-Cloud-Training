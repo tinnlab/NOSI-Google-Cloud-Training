{
 "cells": [
  {
   "cell_type": "markdown",
   "id": "f380fb8f-dc93-414c-b815-6ace422d7f90",
   "metadata": {
    "tags": []
   },
   "source": [
    "# Pathway Analysis\n",
    "\n",
    "The main purpose of Pathway Analysis tools is to analyze data obtained from high-throughput technologies, detecting relevant groups of related genes that are altered in case samples in comparison to a control. In this manner, Pathway Analysis methods seek to overcome the problem of interpreting overwhelmingly large lists of important, but isolated genes detached of biological context, which are the main output of most basic high-throughput data analysis, as differential expression analysis. A standard approach to addressing this problem is pathway enrichment analysis, which summarizes the large gene list as a smaller list of more easily interpretable pathways. Pathways are statistically tested for over-representation in the experimental gene list relative to what is expected by chance, using several common statistical tests that consider the number of genes detected in the experiment, their relative ranking and the number of genes annotated to a pathway of interest.\n",
    "\n",
    "A principled way to interpret such gene sets is to compare them with a database of well-annotated gene sets, such as biological pathways. For example, one of the most widely used approach, Over-representation Analysis (ORA), counts the number of common genes shared by an input gene set and each annotated gene set, and applies a statistical test, such as the cumulative hyper-geometric test, to calculate the statistical significance of the overlap. A p-value cutoff, e.g. 0.05, is then applied to select the annotated gene sets that have statistically significant overlaps with the input gene set. An extension of ORA known as the Gene Set Enrichment Analysis (GSEA) tries to eliminate the need for an ad hoc cutoff (e.g. expression fold change) that is often used in defining the input gene set. GSEA works by ranking all genes in the genome according to, say, level of differential expression, and tests whether any annotated gene set is ranked unexpected high or low through running-sum statistic.\n",
    "\n",
    "## Learning Objectives:\n",
    "1. Introduction to enrichment analysis\n",
    "3. Downloading terms, pathway gene set from GO and KEGG.\n",
    "4. Saving results to GMT file format."
   ]
  },
  {
   "cell_type": "markdown",
   "id": "1859736a",
   "metadata": {},
   "source": [
    "## Enrichment analysis\n",
    " Gene Set Enrichment Analysis methods help gain insight into obtained gene lists by identifying pathways that are enriched in a gene list more than would be expected by chance. The three major steps involved the process include; definition of a gene list from omics data, determination of statistically enriched pathways, and visualization and interpretation of the results."
   ]
  },
  {
   "cell_type": "markdown",
   "source": [
    "## Enrichment analysis using ORA\n",
    "Over-representation (or enrichment) analysis is a statistical method that determines whether genes from pre-defined sets (ex: those belonging to a specific GO term or KEGG pathway) are present more than would be expected (over-represented) in a subset of your data.\n",
    "\n"
   ],
   "metadata": {
    "collapsed": false
   }
  },
  {
   "cell_type": "markdown",
   "source": [
    "The p-value can be calculated by hypergeometric distribution."
   ],
   "metadata": {
    "collapsed": false
   }
  },
  {
   "cell_type": "markdown",
   "source": [
    "![](./images/Module4/ora_p_value.png)\n"
   ],
   "metadata": {
    "collapsed": false
   }
  },
  {
   "cell_type": "markdown",
   "source": [
    "where N is the total number of genes in the background distribution, M is the number of genes within that distribution that are annotated (either directly or indirectly) to the gene set of interest, n is the size of the list of genes of interest and k is the number of genes within that list which are annotated to the gene set. The background distribution by default is all the genes that have annotation."
   ],
   "metadata": {
    "collapsed": false
   }
  },
  {
   "cell_type": "markdown",
   "source": [
    "## Over Representation Analysis Using GO"
   ],
   "metadata": {
    "collapsed": false
   }
  },
  {
   "cell_type": "markdown",
   "source": [
    "library(tidyverse)\n"
   ],
   "metadata": {
    "collapsed": false
   }
  },
  {
   "cell_type": "code",
   "execution_count": null,
   "outputs": [],
   "source": [
    "data <- read_csv(\"./data/DE_genes.csv\")\n"
   ],
   "metadata": {
    "collapsed": false
   }
  },
  {
   "cell_type": "code",
   "execution_count": null,
   "outputs": [],
   "source": [
    "data.head()"
   ],
   "metadata": {
    "collapsed": false
   }
  },
  {
   "cell_type": "code",
   "execution_count": null,
   "outputs": [],
   "source": [
    "mask <- data$adj.P.Val < 0.05 &\n",
    "        abs(data$logFC) > log2(2)"
   ],
   "metadata": {
    "collapsed": false
   }
  },
  {
   "cell_type": "code",
   "execution_count": null,
   "outputs": [],
   "source": [
    "deGenes <- rownames(data[mask,])\n"
   ],
   "metadata": {
    "collapsed": false
   }
  },
  {
   "cell_type": "code",
   "execution_count": null,
   "outputs": [],
   "source": [
    "deGenes"
   ],
   "metadata": {
    "collapsed": false
   }
  },
  {
   "cell_type": "code",
   "execution_count": null,
   "outputs": [],
   "source": [
    "length(deGenes)\n"
   ],
   "metadata": {
    "collapsed": false
   }
  },
  {
   "cell_type": "code",
   "execution_count": null,
   "outputs": [],
   "source": [
    "geneUniverse <- rownames(data)\n"
   ],
   "metadata": {
    "collapsed": false
   }
  },
  {
   "cell_type": "code",
   "execution_count": null,
   "outputs": [],
   "source": [
    "length(geneUniverse)\n"
   ],
   "metadata": {
    "collapsed": false
   }
  },
  {
   "cell_type": "markdown",
   "source": [
    "In order to assess functional enrichment, both DE gene list and gene universe must be annotated in Entrez IDs:\n"
   ],
   "metadata": {
    "collapsed": false
   }
  },
  {
   "cell_type": "code",
   "execution_count": null,
   "outputs": [],
   "source": [
    "library(org.Hs.eg.db)\n"
   ],
   "metadata": {
    "collapsed": false
   }
  },
  {
   "cell_type": "code",
   "execution_count": null,
   "outputs": [],
   "source": [
    "deGenes <- unlist(mget(deGenes, envir=org.Hs.egENSEMBL2EG,\n",
    "                       ifnotfound = NA))\n"
   ],
   "metadata": {
    "collapsed": false,
    "pycharm": {
     "is_executing": true
    }
   }
  },
  {
   "cell_type": "code",
   "execution_count": null,
   "outputs": [],
   "source": [
    "geneUniverse <- unlist(mget(geneUniverse, envir=org.Hs.egENSEMBL2EG,\n",
    "                            ifnotfound = NA))\n"
   ],
   "metadata": {
    "collapsed": false
   }
  },
  {
   "cell_type": "markdown",
   "source": [
    "The GO enrichment analysis using clusterProfiler is performed by\n"
   ],
   "metadata": {
    "collapsed": false
   }
  },
  {
   "cell_type": "code",
   "execution_count": null,
   "outputs": [],
   "source": [
    "library(clusterProfiler)\n"
   ],
   "metadata": {
    "collapsed": false
   }
  },
  {
   "cell_type": "code",
   "execution_count": null,
   "outputs": [],
   "source": [
    "ans.go <- enrichGO(gene = deGenes, ont = \"BP\",\n",
    "                   OrgDb =\"org.Hs.eg.db\",\n",
    "                   universe = geneUniverse,\n",
    "                   readable=TRUE,\n",
    "                   pvalueCutoff = 0.05)"
   ],
   "metadata": {
    "collapsed": false
   }
  },
  {
   "cell_type": "code",
   "execution_count": null,
   "outputs": [],
   "source": [
    "tab.go <- as.data.frame(ans.go)\n"
   ],
   "metadata": {
    "collapsed": false
   }
  },
  {
   "cell_type": "code",
   "execution_count": null,
   "outputs": [],
   "source": [
    "tab.go<- subset(tab.go, Count>5)\n"
   ],
   "metadata": {
    "collapsed": false
   }
  },
  {
   "cell_type": "code",
   "execution_count": null,
   "outputs": [],
   "source": [
    "tab.go[1:5, 1:6]\n"
   ],
   "metadata": {
    "collapsed": false
   }
  },
  {
   "cell_type": "markdown",
   "source": [
    "## Visualization\n"
   ],
   "metadata": {
    "collapsed": false
   }
  },
  {
   "cell_type": "markdown",
   "source": [
    "All analyses performed with clusterProfiler can be visualized by different plots:\n"
   ],
   "metadata": {
    "collapsed": false
   }
  },
  {
   "cell_type": "code",
   "execution_count": null,
   "outputs": [],
   "source": [
    "library(enrichplot)\n"
   ],
   "metadata": {
    "collapsed": false
   }
  },
  {
   "cell_type": "code",
   "execution_count": null,
   "outputs": [],
   "source": [
    "p1 <- barplot(ans.dis, showCategory=10)\n"
   ],
   "metadata": {
    "collapsed": false
   }
  },
  {
   "cell_type": "code",
   "execution_count": null,
   "outputs": [],
   "source": [
    "p1"
   ],
   "metadata": {
    "collapsed": false
   }
  },
  {
   "cell_type": "code",
   "execution_count": null,
   "outputs": [],
   "source": [
    "p2 <- dotplot(ans.kegg, showCategory=20) + ggtitle(\"KEGG\")\n",
    "p3 <- dotplot(ans.dis, showCategory=20) + ggtitle(\"Disease\")\n"
   ],
   "metadata": {
    "collapsed": false
   }
  },
  {
   "cell_type": "code",
   "execution_count": null,
   "outputs": [],
   "source": [
    "plot_grid(p2, p3, nrow=2)\n"
   ],
   "metadata": {
    "collapsed": false
   }
  },
  {
   "cell_type": "code",
   "execution_count": null,
   "outputs": [],
   "source": [
    "p4 <- upsetplot(ans.dis)\n"
   ],
   "metadata": {
    "collapsed": false
   }
  },
  {
   "cell_type": "code",
   "execution_count": null,
   "outputs": [],
   "source": [
    "p4"
   ],
   "metadata": {
    "collapsed": false
   }
  },
  {
   "cell_type": "code",
   "execution_count": null,
   "outputs": [],
   "source": [
    "p5 <- emapplot(ans.kegg)\n"
   ],
   "metadata": {
    "collapsed": false
   }
  },
  {
   "cell_type": "code",
   "execution_count": null,
   "outputs": [],
   "source": [
    "p5"
   ],
   "metadata": {
    "collapsed": false
   }
  },
  {
   "cell_type": "code",
   "execution_count": null,
   "outputs": [],
   "source": [
    " install.packages(\"cowplot\")"
   ],
   "metadata": {
    "collapsed": false
   }
  },
  {
   "cell_type": "code",
   "execution_count": null,
   "outputs": [],
   "source": [
    "cowplot::plot_grid(p1, p3, p5, ncol=2, labels=LETTERS[1:3])\n"
   ],
   "metadata": {
    "collapsed": false
   }
  },
  {
   "cell_type": "code",
   "execution_count": null,
   "outputs": [],
   "source": [],
   "metadata": {
    "collapsed": false
   }
  },
  {
   "cell_type": "markdown",
   "id": "c0d70e92",
   "metadata": {},
   "source": []
  },
  {
   "cell_type": "markdown",
   "source": [
    "## Enrichment Analysis using FGSEA\n"
   ],
   "metadata": {
    "collapsed": false
   }
  },
  {
   "cell_type": "markdown",
   "source": [
    "This submodule describes FGSEA, one of the tools for evaluating pathway enrichment in transcriptional data and it stands for Fast preranked Gene Set Enrichment Analysis (GSEA). It can quickly and accurately calculate arbitrarily low GSEA P-values for a collection of gene sets based on an adaptive multi-level split Monte-Carlo scheme.\n",
    "\n",
    " Typical experimental design consists in comparing two conditions with several replicates using a differential gene expression test followed by preranked GSEA performed against a collection of hundreds and thousands of pathways. However, the reference implementation of this method cannot accurately estimate small P-values, which significantly limits its sensitivity due to multiple hypotheses correction procedure. FGSEA, on the other hand, is able to estimate arbitrarily low GSEA P-values with a high accuracy in a matter of minutes or even seconds.\n"
   ],
   "metadata": {
    "collapsed": false
   }
  },
  {
   "cell_type": "markdown",
   "source": [
    "## GSEA Enrichment Analysis\n",
    "# Inputs:\n",
    "gene_list = Ranked gene list ( numeric vector, names of vector should be gene names)\n",
    "GO_file= Path to the “gmt” GO file on your system.\n",
    "pval = P-value threshold for returning results\n"
   ],
   "metadata": {
    "collapsed": false
   }
  },
  {
   "cell_type": "markdown",
   "source": [
    "# Steps\n",
    "1. Run GSEA (package: fgsea)\n",
    "2. Collapse redundant GO terms using a permutation test\n",
    "3. Return GSEA plot and data.frame of results"
   ],
   "metadata": {
    "collapsed": false
   }
  },
  {
   "cell_type": "markdown",
   "source": [
    "# FGSEA Using GO"
   ],
   "metadata": {
    "collapsed": false
   }
  },
  {
   "cell_type": "code",
   "execution_count": null,
   "outputs": [],
   "source": [
    "library(tidyverse)\n"
   ],
   "metadata": {
    "collapsed": false
   }
  },
  {
   "cell_type": "code",
   "execution_count": null,
   "outputs": [],
   "source": [
    "data <- read_csv(\"./data/DE_genes.csv\")\n"
   ],
   "metadata": {
    "collapsed": false,
    "pycharm": {
     "is_executing": true
    }
   }
  },
  {
   "cell_type": "code",
   "execution_count": null,
   "outputs": [],
   "source": [
    "data"
   ],
   "metadata": {
    "collapsed": false
   }
  },
  {
   "cell_type": "code",
   "execution_count": null,
   "outputs": [],
   "source": [
    "mask <- data$adj.P.Val < 0.05 &\n",
    "  abs(data$logFC) > log2(2)"
   ],
   "metadata": {
    "collapsed": false
   }
  },
  {
   "cell_type": "code",
   "execution_count": null,
   "outputs": [],
   "source": [
    "deGenes <- rownames(data[mask,])\n"
   ],
   "metadata": {
    "collapsed": false
   }
  },
  {
   "cell_type": "code",
   "execution_count": null,
   "outputs": [],
   "source": [
    "deGenes"
   ],
   "metadata": {
    "collapsed": false
   }
  },
  {
   "cell_type": "code",
   "execution_count": null,
   "outputs": [],
   "source": [
    "length(deGenes)\n"
   ],
   "metadata": {
    "collapsed": false
   }
  },
  {
   "cell_type": "code",
   "execution_count": null,
   "outputs": [],
   "source": [
    "geneUniverse <- rownames(data)\n"
   ],
   "metadata": {
    "collapsed": false
   }
  },
  {
   "cell_type": "code",
   "execution_count": null,
   "outputs": [],
   "source": [
    "length(geneUniverse)\n"
   ],
   "metadata": {
    "collapsed": false
   }
  },
  {
   "cell_type": "markdown",
   "source": [
    "## The FGSEA Analysis Procedure (from the author)\n",
    "Loading Libraries\n"
   ],
   "metadata": {
    "collapsed": false
   }
  },
  {
   "cell_type": "code",
   "execution_count": null,
   "outputs": [],
   "source": [
    "library(data.table)\n"
   ],
   "metadata": {
    "collapsed": false
   }
  },
  {
   "cell_type": "code",
   "execution_count": null,
   "outputs": [],
   "source": [
    "library(fgsea)\n"
   ],
   "metadata": {
    "collapsed": false
   }
  },
  {
   "cell_type": "code",
   "execution_count": null,
   "outputs": [],
   "source": [
    "library(ggplot2)\n"
   ],
   "metadata": {
    "collapsed": false
   }
  },
  {
   "cell_type": "markdown",
   "source": [
    "Loading example pathways and gene-level statistics:\n"
   ],
   "metadata": {
    "collapsed": false
   }
  },
  {
   "cell_type": "code",
   "execution_count": null,
   "outputs": [],
   "source": [
    "data(examplePathways)\n"
   ],
   "metadata": {
    "collapsed": false
   }
  },
  {
   "cell_type": "code",
   "execution_count": null,
   "outputs": [],
   "source": [
    "data(exampleRanks)\n"
   ],
   "metadata": {
    "collapsed": false
   }
  },
  {
   "cell_type": "markdown",
   "source": [
    "#fgsea has a default lower bound eps=1e-10 for estimating P-values. If you need to estimate P-value more accurately, you can set the eps argument to zero in the fgsea function.\n"
   ],
   "metadata": {
    "collapsed": false
   }
  },
  {
   "cell_type": "code",
   "execution_count": null,
   "outputs": [],
   "source": [
    "fgseaRes <- fgsea(pathways = examplePathways,\n",
    "                  stats    = exampleRanks,\n",
    "                  eps      = 0.0,\n",
    "                  minSize  = 15,\n",
    "                  maxSize  = 500)"
   ],
   "metadata": {
    "collapsed": false
   }
  },
  {
   "cell_type": "code",
   "execution_count": null,
   "outputs": [],
   "source": [
    "head(fgseaRes[order(pval), ])\n"
   ],
   "metadata": {
    "collapsed": false
   }
  },
  {
   "cell_type": "markdown",
   "source": [
    "# One can make an enrichment plot for a pathway:\n"
   ],
   "metadata": {
    "collapsed": false
   }
  },
  {
   "cell_type": "code",
   "execution_count": null,
   "outputs": [],
   "source": [
    "plotEnrichment(examplePathways[[\"5991130_Programmed_Cell_Death\"]],\n",
    "               exampleRanks) + labs(title=\"Programmed Cell Death\")\n"
   ],
   "metadata": {
    "collapsed": false
   }
  },
  {
   "cell_type": "markdown",
   "source": [
    "# Or make a table plot for a bunch of selected pathways:\n"
   ],
   "metadata": {
    "collapsed": false
   }
  },
  {
   "cell_type": "code",
   "execution_count": null,
   "outputs": [],
   "source": [
    "topPathwaysUp <- fgseaRes[ES > 0][head(order(pval), n=10), pathway]\n"
   ],
   "metadata": {
    "collapsed": false
   }
  },
  {
   "cell_type": "code",
   "execution_count": null,
   "outputs": [],
   "source": [
    "topPathwaysDown <- fgseaRes[ES < 0][head(order(pval), n=10), pathway]\n"
   ],
   "metadata": {
    "collapsed": false
   }
  },
  {
   "cell_type": "code",
   "execution_count": null,
   "outputs": [],
   "source": [
    "topPathways <- c(topPathwaysUp, rev(topPathwaysDown))\n"
   ],
   "metadata": {
    "collapsed": false
   }
  },
  {
   "cell_type": "code",
   "execution_count": null,
   "outputs": [],
   "source": [
    "plotGseaTable(examplePathways[topPathways], exampleRanks, fgseaRes,\n",
    "              gseaParam=0.5)"
   ],
   "metadata": {
    "collapsed": false
   }
  },
  {
   "cell_type": "code",
   "execution_count": null,
   "outputs": [],
   "source": [],
   "metadata": {
    "collapsed": false
   }
  },
  {
   "cell_type": "code",
   "execution_count": null,
   "outputs": [],
   "source": [],
   "metadata": {
    "collapsed": false
   }
  },
  {
   "cell_type": "code",
   "execution_count": null,
   "outputs": [],
   "source": [],
   "metadata": {
    "collapsed": false
   }
  },
  {
   "cell_type": "markdown",
   "source": [
    "## FGSEA Enrichment Analysis With KEGG Data"
   ],
   "metadata": {
    "collapsed": false
   }
  },
  {
   "cell_type": "code",
   "execution_count": null,
   "outputs": [],
   "source": [
    "# To load the GMT file for enrichment analysis, we can use GSA.read.gmt function available in the GSA R package. Here is the code to install the package and load the GMT file\n",
    "\n",
    "suppressMessages({\n",
    "  suppressWarnings(install.packages(\"GSA\"))\n",
    "  suppressPackageStartupMessages({\n",
    "    suppressWarnings(library(GSA))\n",
    "  })\n",
    "})"
   ],
   "metadata": {
    "collapsed": false
   }
  },
  {
   "cell_type": "code",
   "execution_count": null,
   "outputs": [],
   "source": [
    "# Load the GMT file from disk, we use \"invisible\" function to supress the excessive output message from the \"GSA.read.gmt\" function\n",
    "\n",
    "invisible(capture.output(pathways <- GSA::GSA.read.gmt(\"./data/KEGG_pathways.gmt\")))"
   ],
   "metadata": {
    "collapsed": false,
    "pycharm": {
     "is_executing": true
    }
   }
  },
  {
   "cell_type": "code",
   "execution_count": null,
   "outputs": [],
   "source": [
    "# View first five pathways and related gene sets\n",
    "pathways$genesets[1:5]"
   ],
   "metadata": {
    "collapsed": false
   }
  },
  {
   "cell_type": "code",
   "execution_count": null,
   "outputs": [],
   "source": [
    "# View the name of the pathways\n",
    "pathways$geneset.names[1:5]"
   ],
   "metadata": {
    "collapsed": false
   }
  },
  {
   "cell_type": "code",
   "execution_count": null,
   "outputs": [],
   "source": [
    "# View the description of each pathway\n",
    "pathways$geneset.descriptions[1:5]"
   ],
   "metadata": {
    "collapsed": false
   }
  },
  {
   "cell_type": "markdown",
   "source": [
    "# FGSEA Using KEGG\n",
    "\n",
    "# To load the GMT file for enrichment analysis, we can use GSA.read.gmt function available in the GSA R package. Here is the code to install the package and load the GMT file\n",
    "\n",
    "suppressMessages({\n",
    "  suppressWarnings(install.packages(\"GSA\"))\n",
    "  suppressPackageStartupMessages({\n",
    "    suppressWarnings(library(GSA))\n",
    "  })\n",
    "})\n",
    "\n",
    "\n",
    "# Load the GMT file from disk, we use \"invisible\" function to supress the excessive output message from the \"GSA.read.gmt\" function\n",
    "\n",
    "invisible(capture.output(pathways <- GSA::GSA.read.gmt(\"./data/KEGG_pathways.gmt\")))\n",
    "pathways\n",
    "# View first five pathways and related gene sets\n",
    "pathways$genesets[1:5]\n",
    "\n",
    "# View the name of the pathways\n",
    "pathways$geneset.names[1:5]\n",
    "\n",
    "# View the description of each pathway\n",
    "pathways$geneset.descriptions[1:5]\n",
    "\n",
    "#//GeneList\n",
    "DE <- readRDS(\"./data/DE_genes.rds\")\n",
    "\n",
    "# Get p-value from DE results\n",
    "gene_list <- DE$adj.P.Val\n",
    "#// Gene List\n",
    "gene_list\n",
    "GSEA = function(gene_list, pathways, pval) {\n",
    "  set.seed(54321)\n",
    "\n",
    "  library(dplyr)\n",
    "  library(fgsea)\n",
    "  if ( any( duplicated(names(gene_list)) )  ) {\n",
    "    warning(\"Duplicates in gene names\")\n",
    "    gene_list = gene_list[!duplicated(names(gene_list))]\n",
    "  }\n",
    "  if  ( !all( order(gene_list, decreasing = TRUE) == 1:length(gene_list)) ){\n",
    "    warning(\"Gene list not sorted\")\n",
    "    gene_list = sort(gene_list, decreasing = TRUE)\n",
    "  }\n",
    "\n",
    "  myGO = fgsea::gmtPathways(pathways)\n",
    "\n",
    "  fgRes <- fgsea::fgsea(pathways = myGO,\n",
    "                        stats = gene_list,\n",
    "                        minSize=15, ## minimum gene set size\n",
    "                        maxSize=400, ## maximum gene set size\n",
    "                        nperm=10000) %>%\n",
    "    as.data.frame() %>%\n",
    "    dplyr::filter(padj < !!pval) %>%\n",
    "    arrange(desc(NES))\n",
    "  message(paste(\"Number of signficant gene sets =\", nrow(fgRes)))\n",
    "\n",
    "\n",
    "  message(\"Collapsing Pathways -----\")\n",
    "  concise_pathways = collapsePathways(data.table::as.data.table(fgRes),\n",
    "                                      pathways = myGO,\n",
    "                                      stats = gene_list)\n",
    "  fgRes = fgRes[fgRes$pathway %in% concise_pathways$mainPathways, ]\n",
    "  message(paste(\"Number of gene sets after collapsing =\", nrow(fgRes)))\n",
    "\n",
    "  fgRes$Enrichment = ifelse(fgRes$NES > 0, \"Up-regulated\", \"Down-regulated\")\n",
    "  filtRes = rbind(head(fgRes, n = 10),\n",
    "                  tail(fgRes, n = 10 ))\n",
    "\n",
    "\n",
    "  total_up = sum(fgRes$Enrichment == \"Up-regulated\")\n",
    "  total_down = sum(fgRes$Enrichment == \"Down-regulated\")\n",
    "  header = paste0(\"Top 10 (Total pathways: Up=\", total_up,\", Down=\",    total_down, \")\")\n",
    "\n",
    "\n",
    "  colos = setNames(c(\"firebrick2\", \"dodgerblue2\"),\n",
    "                   c(\"Up-regulated\", \"Down-regulated\"))\n",
    "\n",
    "\n",
    "  g1= ggplot(filtRes, aes(reorder(pathway, NES), NES)) +\n",
    "    geom_point( aes(fill = Enrichment, size = size), shape=21) +\n",
    "    scale_fill_manual(values = colos ) +\n",
    "    scale_size_continuous(range = c(2,10)) +\n",
    "    geom_hline(yintercept = 0) +\n",
    "    coord_flip() +\n",
    "    labs(x=\"Pathway\", y=\"Normalized Enrichment Score\",\n",
    "         title=header) +\n",
    "    th\n",
    "\n",
    "  output = list(\"Results\" = fgRes, \"Plot\" = g1)\n",
    "  return(output)\n",
    "}\n",
    "\n"
   ],
   "metadata": {
    "collapsed": false
   }
  },
  {
   "cell_type": "code",
   "execution_count": null,
   "outputs": [],
   "source": [],
   "metadata": {
    "collapsed": false
   }
  },
  {
   "cell_type": "code",
   "execution_count": null,
   "outputs": [],
   "source": [
    "## Enrichment analysis using gsa\n"
   ],
   "metadata": {
    "collapsed": false
   }
  },
  {
   "cell_type": "code",
   "execution_count": null,
   "outputs": [],
   "source": [
    "# // GSA using GO"
   ],
   "metadata": {
    "collapsed": false
   }
  },
  {
   "cell_type": "code",
   "execution_count": null,
   "outputs": [],
   "source": [],
   "metadata": {
    "collapsed": false
   }
  },
  {
   "cell_type": "code",
   "execution_count": null,
   "outputs": [],
   "source": [
    "# // GSA with KEGG"
   ],
   "metadata": {
    "collapsed": false
   }
  },
  {
   "cell_type": "code",
   "execution_count": null,
   "outputs": [],
   "source": [],
   "metadata": {
    "collapsed": false
   }
  }
 ],
 "metadata": {
  "celltoolbar": "Tags",
  "environment": {
   "kernel": "ir",
   "name": "r-cpu.4-1.m93",
   "type": "gcloud",
   "uri": "gcr.io/deeplearning-platform-release/r-cpu.4-1:m93"
  },
  "kernelspec": {
   "display_name": "R",
   "language": "R",
   "name": "ir"
  },
  "language_info": {
   "codemirror_mode": "r",
   "file_extension": ".r",
   "mimetype": "text/x-r-source",
   "name": "R",
   "pygments_lexer": "r",
   "version": "4.1.3"
  },
  "toc-showcode": true,
  "widgets": {
   "application/vnd.jupyter.widget-state+json": {
    "state": {},
    "version_major": 2,
    "version_minor": 0
   }
  }
 },
 "nbformat": 4,
 "nbformat_minor": 5
}
