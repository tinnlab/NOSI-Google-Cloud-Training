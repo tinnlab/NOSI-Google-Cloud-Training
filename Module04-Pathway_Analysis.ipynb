{
 "cells": [
  {
   "cell_type": "markdown",
   "source": [
    "# Enrichment Analysis\n",
    "\n",
    "Enrichment analysis (EA) is a technique used to derive biological insight from lists of significantly altered genes. The list of genes can be obtained from Differential Expression (DE) analysis or users' interest. Then, the EA methods rely on the knowledge databases (e.g. KEGG and GO) to identify biological pathways or terms that are enriched in a gene list more than would be expected by chance. The outcome of the EA would be the in-depth and contextualized findings to help understand the mechanisms of disease, genes and proteins associated with the etiology of a specific disease or drug target.\n",
    "\n",
    "Over more than a decade, there are over 50 methods have been developed for PA. In this module, we will focus on pathway analysis using three popular methods including Over Representation Analysis (ORA), Fast Gene Set Enrichment Analysis (FGSEA) and Gene Set Analysis (GSA).\n",
    "\n",
    "## Learning Objectives:\n",
    "1. Data preparation\n",
    "2. Performing enrichment analysis using ORA, FGSEA and GSA\n",
    "3. Visualizing and interpreting the outputs"
   ],
   "metadata": {
    "collapsed": false
   }
  },
  {
   "cell_type": "markdown",
   "source": [
    "## Gene mapping\n",
    "In this module, we will use the DE genes with statistic generated in the [**Sub-module 02** ](./Module02-DE_Analysis.ipynb) using `limma` R package. We can use the following command to load DE analysis result."
   ],
   "metadata": {
    "collapsed": false
   }
  },
  {
   "cell_type": "code",
   "execution_count": 251,
   "outputs": [
    {
     "data": {
      "text/html": "<table class=\"dataframe\">\n<caption>A data.frame: 6 × 7</caption>\n<thead>\n\t<tr><th></th><th scope=col>PROBEID</th><th scope=col>logFC</th><th scope=col>AveExpr</th><th scope=col>t</th><th scope=col>P.Value</th><th scope=col>adj.P.Val</th><th scope=col>B</th></tr>\n\t<tr><th></th><th scope=col>&lt;chr&gt;</th><th scope=col>&lt;dbl&gt;</th><th scope=col>&lt;dbl&gt;</th><th scope=col>&lt;dbl&gt;</th><th scope=col>&lt;dbl&gt;</th><th scope=col>&lt;dbl&gt;</th><th scope=col>&lt;dbl&gt;</th></tr>\n</thead>\n<tbody>\n\t<tr><th scope=row>222178_s_at</th><td>222178_s_at</td><td>-0.4473780</td><td>0.3653633</td><td>-73.01106</td><td>4.019112e-55</td><td>2.197450e-50</td><td>81.05538</td></tr>\n\t<tr><th scope=row>224687_at</th><td>224687_at  </td><td>-4.1431631</td><td>2.2572347</td><td>-48.92036</td><td>5.489424e-46</td><td>1.500671e-41</td><td>74.18354</td></tr>\n\t<tr><th scope=row>207488_at</th><td>207488_at  </td><td>-0.4017530</td><td>0.6243144</td><td>-39.29933</td><td>4.735684e-41</td><td>8.630785e-37</td><td>68.83493</td></tr>\n\t<tr><th scope=row>239226_at</th><td>239226_at  </td><td> 0.4483302</td><td>1.3245501</td><td> 28.36499</td><td>7.626558e-34</td><td>1.042455e-29</td><td>58.84908</td></tr>\n\t<tr><th scope=row>234109_x_at</th><td>234109_x_at</td><td>-0.2289726</td><td>0.7508256</td><td>-27.67010</td><td>2.635337e-33</td><td>2.881741e-29</td><td>58.00438</td></tr>\n\t<tr><th scope=row>212833_at</th><td>212833_at  </td><td>-2.5976592</td><td>1.7308944</td><td>-24.01172</td><td>2.914912e-30</td><td>2.656213e-26</td><td>52.99567</td></tr>\n</tbody>\n</table>\n",
      "text/markdown": "\nA data.frame: 6 × 7\n\n| <!--/--> | PROBEID &lt;chr&gt; | logFC &lt;dbl&gt; | AveExpr &lt;dbl&gt; | t &lt;dbl&gt; | P.Value &lt;dbl&gt; | adj.P.Val &lt;dbl&gt; | B &lt;dbl&gt; |\n|---|---|---|---|---|---|---|---|\n| 222178_s_at | 222178_s_at | -0.4473780 | 0.3653633 | -73.01106 | 4.019112e-55 | 2.197450e-50 | 81.05538 |\n| 224687_at | 224687_at   | -4.1431631 | 2.2572347 | -48.92036 | 5.489424e-46 | 1.500671e-41 | 74.18354 |\n| 207488_at | 207488_at   | -0.4017530 | 0.6243144 | -39.29933 | 4.735684e-41 | 8.630785e-37 | 68.83493 |\n| 239226_at | 239226_at   |  0.4483302 | 1.3245501 |  28.36499 | 7.626558e-34 | 1.042455e-29 | 58.84908 |\n| 234109_x_at | 234109_x_at | -0.2289726 | 0.7508256 | -27.67010 | 2.635337e-33 | 2.881741e-29 | 58.00438 |\n| 212833_at | 212833_at   | -2.5976592 | 1.7308944 | -24.01172 | 2.914912e-30 | 2.656213e-26 | 52.99567 |\n\n",
      "text/latex": "A data.frame: 6 × 7\n\\begin{tabular}{r|lllllll}\n  & PROBEID & logFC & AveExpr & t & P.Value & adj.P.Val & B\\\\\n  & <chr> & <dbl> & <dbl> & <dbl> & <dbl> & <dbl> & <dbl>\\\\\n\\hline\n\t222178\\_s\\_at & 222178\\_s\\_at & -0.4473780 & 0.3653633 & -73.01106 & 4.019112e-55 & 2.197450e-50 & 81.05538\\\\\n\t224687\\_at & 224687\\_at   & -4.1431631 & 2.2572347 & -48.92036 & 5.489424e-46 & 1.500671e-41 & 74.18354\\\\\n\t207488\\_at & 207488\\_at   & -0.4017530 & 0.6243144 & -39.29933 & 4.735684e-41 & 8.630785e-37 & 68.83493\\\\\n\t239226\\_at & 239226\\_at   &  0.4483302 & 1.3245501 &  28.36499 & 7.626558e-34 & 1.042455e-29 & 58.84908\\\\\n\t234109\\_x\\_at & 234109\\_x\\_at & -0.2289726 & 0.7508256 & -27.67010 & 2.635337e-33 & 2.881741e-29 & 58.00438\\\\\n\t212833\\_at & 212833\\_at   & -2.5976592 & 1.7308944 & -24.01172 & 2.914912e-30 & 2.656213e-26 & 52.99567\\\\\n\\end{tabular}\n",
      "text/plain": "            PROBEID     logFC      AveExpr   t         P.Value     \n222178_s_at 222178_s_at -0.4473780 0.3653633 -73.01106 4.019112e-55\n224687_at   224687_at   -4.1431631 2.2572347 -48.92036 5.489424e-46\n207488_at   207488_at   -0.4017530 0.6243144 -39.29933 4.735684e-41\n239226_at   239226_at    0.4483302 1.3245501  28.36499 7.626558e-34\n234109_x_at 234109_x_at -0.2289726 0.7508256 -27.67010 2.635337e-33\n212833_at   212833_at   -2.5976592 1.7308944 -24.01172 2.914912e-30\n            adj.P.Val    B       \n222178_s_at 2.197450e-50 81.05538\n224687_at   1.500671e-41 74.18354\n207488_at   8.630785e-37 68.83493\n239226_at   1.042455e-29 58.84908\n234109_x_at 2.881741e-29 58.00438\n212833_at   2.656213e-26 52.99567"
     },
     "metadata": {},
     "output_type": "display_data"
    }
   ],
   "source": [
    "DE.df <- readRDS(\"./data/DE_genes.rds\")\n",
    "rownames(DE.df) <- DE.df$PROBEID\n",
    "head(DE.df)"
   ],
   "metadata": {
    "collapsed": false
   }
  },
  {
   "cell_type": "markdown",
   "source": [
    "We can see that the genes are saved with probe IDs, we need to convert them into gene symbols so that they can be analyzed using enrichment analysis method later in this module. We will use the same approach presented in the [**Sub-module 01** ](./Module01-GEO_Data_Processing.ipynb) with `hgu133plus2.db` and `AnnotationDbi` databases."
   ],
   "metadata": {
    "collapsed": false
   }
  },
  {
   "cell_type": "code",
   "execution_count": 252,
   "outputs": [],
   "source": [
    "# Load the databases\n",
    "suppressMessages({\n",
    "  library(hgu133plus2.db)\n",
    "  library(AnnotationDbi)\n",
    "})"
   ],
   "metadata": {
    "collapsed": false
   }
  },
  {
   "cell_type": "markdown",
   "source": [
    "Then, we can retrieve vector of probe IDs to perform gene symbol mapping using the following command:"
   ],
   "metadata": {
    "collapsed": false
   }
  },
  {
   "cell_type": "code",
   "execution_count": 253,
   "outputs": [
    {
     "data": {
      "text/html": "<table class=\"dataframe\">\n<caption>A data.frame: 6 × 3</caption>\n<thead>\n\t<tr><th></th><th scope=col>PROBEID</th><th scope=col>GENENAME</th><th scope=col>SYMBOL</th></tr>\n\t<tr><th></th><th scope=col>&lt;chr&gt;</th><th scope=col>&lt;chr&gt;</th><th scope=col>&lt;chr&gt;</th></tr>\n</thead>\n<tbody>\n\t<tr><th scope=row>1</th><td>222178_s_at</td><td>NA                                        </td><td>NA      </td></tr>\n\t<tr><th scope=row>2</th><td>224687_at  </td><td>ankyrin repeat and IBR domain containing 1</td><td>ANKIB1  </td></tr>\n\t<tr><th scope=row>3</th><td>207488_at  </td><td>NA                                        </td><td>NA      </td></tr>\n\t<tr><th scope=row>4</th><td>239226_at  </td><td>NA                                        </td><td>NA      </td></tr>\n\t<tr><th scope=row>5</th><td>234109_x_at</td><td>one cut homeobox 3                        </td><td>ONECUT3 </td></tr>\n\t<tr><th scope=row>6</th><td>212833_at  </td><td>solute carrier family 25 member 46        </td><td>SLC25A46</td></tr>\n</tbody>\n</table>\n",
      "text/markdown": "\nA data.frame: 6 × 3\n\n| <!--/--> | PROBEID &lt;chr&gt; | GENENAME &lt;chr&gt; | SYMBOL &lt;chr&gt; |\n|---|---|---|---|\n| 1 | 222178_s_at | NA                                         | NA       |\n| 2 | 224687_at   | ankyrin repeat and IBR domain containing 1 | ANKIB1   |\n| 3 | 207488_at   | NA                                         | NA       |\n| 4 | 239226_at   | NA                                         | NA       |\n| 5 | 234109_x_at | one cut homeobox 3                         | ONECUT3  |\n| 6 | 212833_at   | solute carrier family 25 member 46         | SLC25A46 |\n\n",
      "text/latex": "A data.frame: 6 × 3\n\\begin{tabular}{r|lll}\n  & PROBEID & GENENAME & SYMBOL\\\\\n  & <chr> & <chr> & <chr>\\\\\n\\hline\n\t1 & 222178\\_s\\_at & NA                                         & NA      \\\\\n\t2 & 224687\\_at   & ankyrin repeat and IBR domain containing 1 & ANKIB1  \\\\\n\t3 & 207488\\_at   & NA                                         & NA      \\\\\n\t4 & 239226\\_at   & NA                                         & NA      \\\\\n\t5 & 234109\\_x\\_at & one cut homeobox 3                         & ONECUT3 \\\\\n\t6 & 212833\\_at   & solute carrier family 25 member 46         & SLC25A46\\\\\n\\end{tabular}\n",
      "text/plain": "  PROBEID     GENENAME                                   SYMBOL  \n1 222178_s_at NA                                         NA      \n2 224687_at   ankyrin repeat and IBR domain containing 1 ANKIB1  \n3 207488_at   NA                                         NA      \n4 239226_at   NA                                         NA      \n5 234109_x_at one cut homeobox 3                         ONECUT3 \n6 212833_at   solute carrier family 25 member 46         SLC25A46"
     },
     "metadata": {},
     "output_type": "display_data"
    }
   ],
   "source": [
    "probeIDs = DE.df$PROBEID\n",
    "suppressMessages({\n",
    "annotLookup <- AnnotationDbi::select(hgu133plus2.db, keys = probeIDs, columns = c('PROBEID','GENENAME','SYMBOL'))\n",
    "})\n",
    "# View the first few genes in the mapping table\n",
    "head(annotLookup)"
   ],
   "metadata": {
    "collapsed": false
   }
  },
  {
   "cell_type": "markdown",
   "source": [
    "Now, we can merge DE data frame with annotation table by the `PROBEID` and remove NA gene symbols using the following command:"
   ],
   "metadata": {
    "collapsed": false
   }
  },
  {
   "cell_type": "code",
   "execution_count": 254,
   "outputs": [],
   "source": [
    "DE.df = merge(annotLookup, DE.df, by=\"PROBEID\")"
   ],
   "metadata": {
    "collapsed": false
   }
  },
  {
   "cell_type": "code",
   "execution_count": 255,
   "outputs": [
    {
     "data": {
      "text/html": "<table class=\"dataframe\">\n<caption>A data.frame: 6 × 9</caption>\n<thead>\n\t<tr><th></th><th scope=col>PROBEID</th><th scope=col>GENENAME</th><th scope=col>SYMBOL</th><th scope=col>logFC</th><th scope=col>AveExpr</th><th scope=col>t</th><th scope=col>P.Value</th><th scope=col>adj.P.Val</th><th scope=col>B</th></tr>\n\t<tr><th></th><th scope=col>&lt;chr&gt;</th><th scope=col>&lt;chr&gt;</th><th scope=col>&lt;chr&gt;</th><th scope=col>&lt;dbl&gt;</th><th scope=col>&lt;dbl&gt;</th><th scope=col>&lt;dbl&gt;</th><th scope=col>&lt;dbl&gt;</th><th scope=col>&lt;dbl&gt;</th><th scope=col>&lt;dbl&gt;</th></tr>\n</thead>\n<tbody>\n\t<tr><th scope=row>1</th><td>1007_s_at</td><td>discoidin domain receptor tyrosine kinase 1 </td><td>DDR1  </td><td>-0.23858465</td><td>1.0967772</td><td>-2.08257585</td><td>0.04210211</td><td>0.2531265</td><td>-4.284228</td></tr>\n\t<tr><th scope=row>2</th><td>1053_at  </td><td>replication factor C subunit 2              </td><td>RFC2  </td><td> 0.05830367</td><td>0.9657758</td><td> 1.42311356</td><td>0.16052793</td><td>0.4674726</td><td>-5.359907</td></tr>\n\t<tr><th scope=row>3</th><td>117_at   </td><td>heat shock protein family A (Hsp70) member 6</td><td>HSPA6 </td><td>-0.01138494</td><td>1.1501582</td><td>-0.08100885</td><td>0.93573821</td><td>0.9861536</td><td>-6.337785</td></tr>\n\t<tr><th scope=row>4</th><td>121_at   </td><td>paired box 8                                </td><td>PAX8  </td><td> 0.02301084</td><td>1.0581847</td><td> 0.87166663</td><td>0.38729816</td><td>0.7236528</td><td>-5.968512</td></tr>\n\t<tr><th scope=row>5</th><td>1255_g_at</td><td>guanylate cyclase activator 1A              </td><td>GUCA1A</td><td> 0.36999950</td><td>1.4080351</td><td> 1.78615022</td><td>0.07976123</td><td>0.3351480</td><td>-4.812134</td></tr>\n\t<tr><th scope=row>6</th><td>1294_at  </td><td>ubiquitin like modifier activating enzyme 7 </td><td>UBA7  </td><td>-0.11221434</td><td>1.0859983</td><td>-1.61593670</td><td>0.11200995</td><td>0.3925252</td><td>-5.082923</td></tr>\n</tbody>\n</table>\n",
      "text/markdown": "\nA data.frame: 6 × 9\n\n| <!--/--> | PROBEID &lt;chr&gt; | GENENAME &lt;chr&gt; | SYMBOL &lt;chr&gt; | logFC &lt;dbl&gt; | AveExpr &lt;dbl&gt; | t &lt;dbl&gt; | P.Value &lt;dbl&gt; | adj.P.Val &lt;dbl&gt; | B &lt;dbl&gt; |\n|---|---|---|---|---|---|---|---|---|---|\n| 1 | 1007_s_at | discoidin domain receptor tyrosine kinase 1  | DDR1   | -0.23858465 | 1.0967772 | -2.08257585 | 0.04210211 | 0.2531265 | -4.284228 |\n| 2 | 1053_at   | replication factor C subunit 2               | RFC2   |  0.05830367 | 0.9657758 |  1.42311356 | 0.16052793 | 0.4674726 | -5.359907 |\n| 3 | 117_at    | heat shock protein family A (Hsp70) member 6 | HSPA6  | -0.01138494 | 1.1501582 | -0.08100885 | 0.93573821 | 0.9861536 | -6.337785 |\n| 4 | 121_at    | paired box 8                                 | PAX8   |  0.02301084 | 1.0581847 |  0.87166663 | 0.38729816 | 0.7236528 | -5.968512 |\n| 5 | 1255_g_at | guanylate cyclase activator 1A               | GUCA1A |  0.36999950 | 1.4080351 |  1.78615022 | 0.07976123 | 0.3351480 | -4.812134 |\n| 6 | 1294_at   | ubiquitin like modifier activating enzyme 7  | UBA7   | -0.11221434 | 1.0859983 | -1.61593670 | 0.11200995 | 0.3925252 | -5.082923 |\n\n",
      "text/latex": "A data.frame: 6 × 9\n\\begin{tabular}{r|lllllllll}\n  & PROBEID & GENENAME & SYMBOL & logFC & AveExpr & t & P.Value & adj.P.Val & B\\\\\n  & <chr> & <chr> & <chr> & <dbl> & <dbl> & <dbl> & <dbl> & <dbl> & <dbl>\\\\\n\\hline\n\t1 & 1007\\_s\\_at & discoidin domain receptor tyrosine kinase 1  & DDR1   & -0.23858465 & 1.0967772 & -2.08257585 & 0.04210211 & 0.2531265 & -4.284228\\\\\n\t2 & 1053\\_at   & replication factor C subunit 2               & RFC2   &  0.05830367 & 0.9657758 &  1.42311356 & 0.16052793 & 0.4674726 & -5.359907\\\\\n\t3 & 117\\_at    & heat shock protein family A (Hsp70) member 6 & HSPA6  & -0.01138494 & 1.1501582 & -0.08100885 & 0.93573821 & 0.9861536 & -6.337785\\\\\n\t4 & 121\\_at    & paired box 8                                 & PAX8   &  0.02301084 & 1.0581847 &  0.87166663 & 0.38729816 & 0.7236528 & -5.968512\\\\\n\t5 & 1255\\_g\\_at & guanylate cyclase activator 1A               & GUCA1A &  0.36999950 & 1.4080351 &  1.78615022 & 0.07976123 & 0.3351480 & -4.812134\\\\\n\t6 & 1294\\_at   & ubiquitin like modifier activating enzyme 7  & UBA7   & -0.11221434 & 1.0859983 & -1.61593670 & 0.11200995 & 0.3925252 & -5.082923\\\\\n\\end{tabular}\n",
      "text/plain": "  PROBEID   GENENAME                                     SYMBOL logFC      \n1 1007_s_at discoidin domain receptor tyrosine kinase 1  DDR1   -0.23858465\n2 1053_at   replication factor C subunit 2               RFC2    0.05830367\n3 117_at    heat shock protein family A (Hsp70) member 6 HSPA6  -0.01138494\n4 121_at    paired box 8                                 PAX8    0.02301084\n5 1255_g_at guanylate cyclase activator 1A               GUCA1A  0.36999950\n6 1294_at   ubiquitin like modifier activating enzyme 7  UBA7   -0.11221434\n  AveExpr   t           P.Value    adj.P.Val B        \n1 1.0967772 -2.08257585 0.04210211 0.2531265 -4.284228\n2 0.9657758  1.42311356 0.16052793 0.4674726 -5.359907\n3 1.1501582 -0.08100885 0.93573821 0.9861536 -6.337785\n4 1.0581847  0.87166663 0.38729816 0.7236528 -5.968512\n5 1.4080351  1.78615022 0.07976123 0.3351480 -4.812134\n6 1.0859983 -1.61593670 0.11200995 0.3925252 -5.082923"
     },
     "metadata": {},
     "output_type": "display_data"
    }
   ],
   "source": [
    "# Remove NA gene symbol\n",
    "DE.df = DE.df[!is.na(DE.df$SYMBOL),]\n",
    "# Remove duplicated genes\n",
    "DE.df = DE.df[!duplicated(DE.df$SYMBOL,fromLast=FALSE),]\n",
    "head(DE.df)"
   ],
   "metadata": {
    "collapsed": false
   }
  },
  {
   "cell_type": "markdown",
   "source": [
    "At the result, we obtain the new DE table with two more columns containing gene names and gene symbols. The use of this DE table can be varied based on the selected enrichment analysis tools."
   ],
   "metadata": {
    "collapsed": false
   }
  },
  {
   "cell_type": "markdown",
   "source": [
    "## Enrichment analysis using Over-representation Analysis\n",
    "Over-representation analysis (ORA) is a statistical method that determines whether genes from pre-defined gent set of a specific GO term or KEGG pathway are presented more than they would be expected (over-represented) in a subset of your data. In our learning module, this subset refers to the list of DE gene generated from `limma` method. For each gene set, an enrichment *p-value* is calculated using the Binomial distribution, Hypergeometric distribution, the Fisher exact test, or the Chi-square test. Normally, Hypergeometric distribution is a popular approach used to calculate enrichment p-value. The formula can be presented as follows:"
   ],
   "metadata": {
    "collapsed": false
   }
  },
  {
   "cell_type": "markdown",
   "source": [
    "$$\n",
    "     P(X\\geq x) = 1 - P(X \\leq x-1) = 1 - \\sum\\limits_{i=0}^{x-1}\\frac{\\hphantom{}{M \\choose i }{N - M \\choose n-i}}{N \\choose n}\n",
    "$$"
   ],
   "metadata": {
    "collapsed": false
   }
  },
  {
   "cell_type": "markdown",
   "source": [
    "where *N* is the number of background genes (all genes presented in the expression matrix), *n* is the number of “interesting” genes (DE genes), *M* is the number of genes that are annotated to a particular gene set *S* (list of genes in a specific KEGG pathway or GO term), and *x* is the number of “interesting” genes that are annotated to *S* (genes presented in DE genes list and a specific KEGG pathway or GO term)."
   ],
   "metadata": {
    "collapsed": false
   }
  },
  {
   "cell_type": "markdown",
   "source": [
    "For example, suppose we have an expression matrix with 20000 genes, of which 500 are differently expressed. Also suppose that 100 of the 20000 genes are annotated to a particular gene set S. Of these 100 genes, 20 are members of DE genes list. The probability that 20 or more (up to 100) genes annotated to S are in DE genes list by chance is given by"
   ],
   "metadata": {
    "collapsed": false
   }
  },
  {
   "cell_type": "markdown",
   "source": [
    "$$\n",
    "P(X\\geq 20) = 1 - P(X \\leq 19) = 1-\\sum \\limits_{i=0}^{19}\\frac{\\hphantom{}{100 \\choose i}{20000 - 100 \\choose 500-i}}{20000 \\choose 500} = 5.26 \\times 10^{-13}\n",
    "$$"
   ],
   "metadata": {
    "collapsed": false
   }
  },
  {
   "cell_type": "markdown",
   "source": [
    "The *p-value* indicates it is very rare to observe 20 of the 100 genes from this set are in the DE genes list by chance."
   ],
   "metadata": {
    "collapsed": false
   }
  },
  {
   "cell_type": "markdown",
   "source": [
    "### Data preparation\n",
    "To conduct enrichment analysis using ORA, there are several input data that we need to prepare. First, we need to select a set of genes that\n",
    "are significantly altered (*p-value < 0.05*) in the DE genes generated from `limma` method."
   ],
   "metadata": {
    "collapsed": false
   }
  },
  {
   "cell_type": "code",
   "execution_count": 256,
   "outputs": [],
   "source": [
    "# Selecting a list of significant DE genes\n",
    "DEGenes <- DE.df[DE.df$adj.P.Val <= 0.05,]\n",
    "# Select genes with symbol\n",
    "DEGenes <- DEGenes$SYMBOL"
   ],
   "metadata": {
    "collapsed": false
   }
  },
  {
   "cell_type": "markdown",
   "source": [
    "Next, we need to define a list of background genes. In this analysis, they are all the genes generated from the DE analysis."
   ],
   "metadata": {
    "collapsed": false
   }
  },
  {
   "cell_type": "code",
   "execution_count": 257,
   "outputs": [],
   "source": [
    "#Defining background genes\n",
    "backgroundSet <- DE.df$SYMBOL"
   ],
   "metadata": {
    "collapsed": false
   }
  },
  {
   "cell_type": "markdown",
   "source": [
    "Then, we need to obtain a list of geneset from knowledge databases such as GO and KEGG. In this learning module, the geneset will be retrieved from\n",
    "the *.gmt* files that were processed from the [**Sub-module 03 - Gene Set and Pathway** ](./Module03-Gene_Set_and_Pathway.ipynb). To load the geneset, we will use `gmt2geneset`\n",
    "below:"
   ],
   "metadata": {
    "collapsed": false
   }
  },
  {
   "cell_type": "code",
   "execution_count": null,
   "outputs": [],
   "source": [
    "# install tidyverse\n",
    "suppressWarnings({\n",
    "  install.packages(\"tidyverse\")\n",
    "})"
   ],
   "metadata": {
    "collapsed": false
   }
  },
  {
   "cell_type": "code",
   "execution_count": 260,
   "outputs": [],
   "source": [
    "# Loading tidyverse library that provides a function to read the .gmt file\n",
    "suppressMessages({\n",
    "  library(tidyverse)\n",
    "})"
   ],
   "metadata": {
    "collapsed": false
   }
  },
  {
   "cell_type": "code",
   "execution_count": 261,
   "outputs": [],
   "source": [
    "# A customized function to prase a gmt file to a list of genesets\n",
    "gmt2geneset <- function(path){\n",
    "  genesets <- read_tsv(path, col_names = F) %>% apply(MARGIN = 1, function(r){\n",
    "    genes = unique(r[-(1:2)])\n",
    "    list(\n",
    "      id = r[1],\n",
    "      description = r[2],\n",
    "      genes = genes[!is.na(genes)]\n",
    "    )\n",
    "  })\n",
    "\n",
    "  gs <- lapply(genesets, function(g) g$genes %>% as.character())\n",
    "  names(gs) <- lapply(genesets, function(g) g$description)\n",
    "  gs\n",
    "}"
   ],
   "metadata": {
    "collapsed": false
   }
  },
  {
   "cell_type": "markdown",
   "source": [
    "Here, we also write a function to perform over representation analysis based on the hyper-geometric testing formula presented above. The `ORA` method will perform\n",
    "hyper-geometric testing for each geneset obtained from GO or KEGG using the function `phyper` available for `stats` R base package. The output of the `ORA` function is the table that\n",
    "contains a column of term or pathway names and a column of *p-value*."
   ],
   "metadata": {
    "collapsed": false
   }
  },
  {
   "cell_type": "code",
   "execution_count": 262,
   "outputs": [],
   "source": [
    "ORA <- function(geneset,DEGenes,backgroundSet,DE.df){\n",
    "    res <- sapply(geneset, function(gs){\n",
    "    wBallDraw <- intersect(gs, DEGenes) %>%  length() - 1\n",
    "    if (wBallDraw < 0) return(1)\n",
    "    wBall <- length(DEGenes)\n",
    "    bBall <- nrow(DE.df) - length(DEGenes)\n",
    "    ballDraw <- length(intersect(gs, backgroundSet))\n",
    "    1 - phyper(wBallDraw, wBall, bBall, ballDraw)\n",
    "  })\n",
    "  res\n",
    "}"
   ],
   "metadata": {
    "collapsed": false
   }
  },
  {
   "cell_type": "markdown",
   "source": [
    "### Enrichment analysis using ORA and GO terms\n",
    "In this section, we will perform ORA using genesets obtained from the GO database and the function `ORA` defined above. The detailed code is presented below:"
   ],
   "metadata": {
    "collapsed": false
   }
  },
  {
   "cell_type": "code",
   "execution_count": 275,
   "outputs": [
    {
     "data": {
      "text/html": "<table class=\"dataframe\">\n<caption>A data.frame: 6 × 2</caption>\n<thead>\n\t<tr><th></th><th scope=col>GOterms</th><th scope=col>pvalue</th></tr>\n\t<tr><th></th><th scope=col>&lt;chr&gt;</th><th scope=col>&lt;dbl&gt;</th></tr>\n</thead>\n<tbody>\n\t<tr><th scope=row>positive regulation of B cell activation</th><td>positive regulation of B cell activation                                     </td><td>0.0005237933</td></tr>\n\t<tr><th scope=row>inner dynein arm assembly</th><td>inner dynein arm assembly                                                    </td><td>0.0010578236</td></tr>\n\t<tr><th scope=row>cell activation involved in immune response</th><td>cell activation involved in immune response                                  </td><td>0.0062357297</td></tr>\n\t<tr><th scope=row>leukocyte activation involved in immune response</th><td>leukocyte activation involved in immune response                             </td><td>0.0062357297</td></tr>\n\t<tr><th scope=row>immunoglobulin production involved in immunoglobulin-mediated immune response</th><td>immunoglobulin production involved in immunoglobulin-mediated immune response</td><td>0.0062357297</td></tr>\n\t<tr><th scope=row>positive regulation of leukocyte activation</th><td>positive regulation of leukocyte activation                                  </td><td>0.0062357297</td></tr>\n</tbody>\n</table>\n",
      "text/markdown": "\nA data.frame: 6 × 2\n\n| <!--/--> | GOterms &lt;chr&gt; | pvalue &lt;dbl&gt; |\n|---|---|---|\n| positive regulation of B cell activation | positive regulation of B cell activation                                      | 0.0005237933 |\n| inner dynein arm assembly | inner dynein arm assembly                                                     | 0.0010578236 |\n| cell activation involved in immune response | cell activation involved in immune response                                   | 0.0062357297 |\n| leukocyte activation involved in immune response | leukocyte activation involved in immune response                              | 0.0062357297 |\n| immunoglobulin production involved in immunoglobulin-mediated immune response | immunoglobulin production involved in immunoglobulin-mediated immune response | 0.0062357297 |\n| positive regulation of leukocyte activation | positive regulation of leukocyte activation                                   | 0.0062357297 |\n\n",
      "text/latex": "A data.frame: 6 × 2\n\\begin{tabular}{r|ll}\n  & GOterms & pvalue\\\\\n  & <chr> & <dbl>\\\\\n\\hline\n\tpositive regulation of B cell activation & positive regulation of B cell activation                                      & 0.0005237933\\\\\n\tinner dynein arm assembly & inner dynein arm assembly                                                     & 0.0010578236\\\\\n\tcell activation involved in immune response & cell activation involved in immune response                                   & 0.0062357297\\\\\n\tleukocyte activation involved in immune response & leukocyte activation involved in immune response                              & 0.0062357297\\\\\n\timmunoglobulin production involved in immunoglobulin-mediated immune response & immunoglobulin production involved in immunoglobulin-mediated immune response & 0.0062357297\\\\\n\tpositive regulation of leukocyte activation & positive regulation of leukocyte activation                                   & 0.0062357297\\\\\n\\end{tabular}\n",
      "text/plain": "                                                                              GOterms                                                                      \npositive regulation of B cell activation                                      positive regulation of B cell activation                                     \ninner dynein arm assembly                                                     inner dynein arm assembly                                                    \ncell activation involved in immune response                                   cell activation involved in immune response                                  \nleukocyte activation involved in immune response                              leukocyte activation involved in immune response                             \nimmunoglobulin production involved in immunoglobulin-mediated immune response immunoglobulin production involved in immunoglobulin-mediated immune response\npositive regulation of leukocyte activation                                   positive regulation of leukocyte activation                                  \n                                                                              pvalue      \npositive regulation of B cell activation                                      0.0005237933\ninner dynein arm assembly                                                     0.0010578236\ncell activation involved in immune response                                   0.0062357297\nleukocyte activation involved in immune response                              0.0062357297\nimmunoglobulin production involved in immunoglobulin-mediated immune response 0.0062357297\npositive regulation of leukocyte activation                                   0.0062357297"
     },
     "metadata": {},
     "output_type": "display_data"
    }
   ],
   "source": [
    "# Loading geneset from GO database\n",
    "suppressWarnings({suppressMessages({geneset <- gmt2geneset(\"./data/GO_terms.gmt\")})})\n",
    "# Perform ORA\n",
    "res.ORA <- ORA(geneset,DEGenes,backgroundSet,DE.df)\n",
    "# Save the result to a table where the first column is GO term name and the second column is the p-value\n",
    "res.df <- data.frame(\n",
    "  GOterms = names(res.ORA),\n",
    "  pvalue = res.ORA\n",
    ")\n",
    "# Order the table based on the p-value\n",
    "res.df <- res.df[order(res.df$pvalue),]\n",
    "# View the most significant GO terms\n",
    "head(res.df)"
   ],
   "metadata": {
    "collapsed": false
   }
  },
  {
   "cell_type": "markdown",
   "source": [
    "Fromt the result table we might conclude that the cause of the disease may be related to `positive regulation of B cell activation`."
   ],
   "metadata": {
    "collapsed": false
   }
  },
  {
   "cell_type": "markdown",
   "source": [
    "### Enrichment analysis using ORA and KEGG pathways"
   ],
   "metadata": {
    "collapsed": false
   }
  },
  {
   "cell_type": "code",
   "execution_count": 237,
   "outputs": [],
   "source": [
    "# Loading the KEGG pathways\n",
    "suppressWarnings({suppressMessages({geneset <- gmt2geneset(\"./data/KEGG_pathways.gmt\")})})"
   ],
   "metadata": {
    "collapsed": false
   }
  },
  {
   "cell_type": "code",
   "execution_count": 238,
   "outputs": [
    {
     "data": {
      "text/html": "<table class=\"dataframe\">\n<caption>A data.frame: 6 × 3</caption>\n<thead>\n\t<tr><th></th><th scope=col>pathways</th><th scope=col>pvalue</th><th scope=col>pvalue.adj</th></tr>\n\t<tr><th></th><th scope=col>&lt;chr&gt;</th><th scope=col>&lt;dbl&gt;</th><th scope=col>&lt;dbl&gt;</th></tr>\n</thead>\n<tbody>\n\t<tr><th scope=row>Glycolysis / Gluconeogenesis - Homo sapiens (human)</th><td>Glycolysis / Gluconeogenesis - Homo sapiens (human)            </td><td>0.5265186</td><td>1</td></tr>\n\t<tr><th scope=row>Citrate cycle (TCA cycle) - Homo sapiens (human)</th><td>Citrate cycle (TCA cycle) - Homo sapiens (human)               </td><td>0.2916326</td><td>1</td></tr>\n\t<tr><th scope=row>Pentose phosphate pathway - Homo sapiens (human)</th><td>Pentose phosphate pathway - Homo sapiens (human)               </td><td>0.2916326</td><td>1</td></tr>\n\t<tr><th scope=row>Pentose and glucuronate interconversions - Homo sapiens (human)</th><td>Pentose and glucuronate interconversions - Homo sapiens (human)</td><td>1.0000000</td><td>1</td></tr>\n\t<tr><th scope=row>Fructose and mannose metabolism - Homo sapiens (human)</th><td>Fructose and mannose metabolism - Homo sapiens (human)         </td><td>1.0000000</td><td>1</td></tr>\n\t<tr><th scope=row>Galactose metabolism - Homo sapiens (human)</th><td>Galactose metabolism - Homo sapiens (human)                    </td><td>0.2997330</td><td>1</td></tr>\n</tbody>\n</table>\n",
      "text/markdown": "\nA data.frame: 6 × 3\n\n| <!--/--> | pathways &lt;chr&gt; | pvalue &lt;dbl&gt; | pvalue.adj &lt;dbl&gt; |\n|---|---|---|---|\n| Glycolysis / Gluconeogenesis - Homo sapiens (human) | Glycolysis / Gluconeogenesis - Homo sapiens (human)             | 0.5265186 | 1 |\n| Citrate cycle (TCA cycle) - Homo sapiens (human) | Citrate cycle (TCA cycle) - Homo sapiens (human)                | 0.2916326 | 1 |\n| Pentose phosphate pathway - Homo sapiens (human) | Pentose phosphate pathway - Homo sapiens (human)                | 0.2916326 | 1 |\n| Pentose and glucuronate interconversions - Homo sapiens (human) | Pentose and glucuronate interconversions - Homo sapiens (human) | 1.0000000 | 1 |\n| Fructose and mannose metabolism - Homo sapiens (human) | Fructose and mannose metabolism - Homo sapiens (human)          | 1.0000000 | 1 |\n| Galactose metabolism - Homo sapiens (human) | Galactose metabolism - Homo sapiens (human)                     | 0.2997330 | 1 |\n\n",
      "text/latex": "A data.frame: 6 × 3\n\\begin{tabular}{r|lll}\n  & pathways & pvalue & pvalue.adj\\\\\n  & <chr> & <dbl> & <dbl>\\\\\n\\hline\n\tGlycolysis / Gluconeogenesis - Homo sapiens (human) & Glycolysis / Gluconeogenesis - Homo sapiens (human)             & 0.5265186 & 1\\\\\n\tCitrate cycle (TCA cycle) - Homo sapiens (human) & Citrate cycle (TCA cycle) - Homo sapiens (human)                & 0.2916326 & 1\\\\\n\tPentose phosphate pathway - Homo sapiens (human) & Pentose phosphate pathway - Homo sapiens (human)                & 0.2916326 & 1\\\\\n\tPentose and glucuronate interconversions - Homo sapiens (human) & Pentose and glucuronate interconversions - Homo sapiens (human) & 1.0000000 & 1\\\\\n\tFructose and mannose metabolism - Homo sapiens (human) & Fructose and mannose metabolism - Homo sapiens (human)          & 1.0000000 & 1\\\\\n\tGalactose metabolism - Homo sapiens (human) & Galactose metabolism - Homo sapiens (human)                     & 0.2997330 & 1\\\\\n\\end{tabular}\n",
      "text/plain": "                                                                pathways                                                       \nGlycolysis / Gluconeogenesis - Homo sapiens (human)             Glycolysis / Gluconeogenesis - Homo sapiens (human)            \nCitrate cycle (TCA cycle) - Homo sapiens (human)                Citrate cycle (TCA cycle) - Homo sapiens (human)               \nPentose phosphate pathway - Homo sapiens (human)                Pentose phosphate pathway - Homo sapiens (human)               \nPentose and glucuronate interconversions - Homo sapiens (human) Pentose and glucuronate interconversions - Homo sapiens (human)\nFructose and mannose metabolism - Homo sapiens (human)          Fructose and mannose metabolism - Homo sapiens (human)         \nGalactose metabolism - Homo sapiens (human)                     Galactose metabolism - Homo sapiens (human)                    \n                                                                pvalue   \nGlycolysis / Gluconeogenesis - Homo sapiens (human)             0.5265186\nCitrate cycle (TCA cycle) - Homo sapiens (human)                0.2916326\nPentose phosphate pathway - Homo sapiens (human)                0.2916326\nPentose and glucuronate interconversions - Homo sapiens (human) 1.0000000\nFructose and mannose metabolism - Homo sapiens (human)          1.0000000\nGalactose metabolism - Homo sapiens (human)                     0.2997330\n                                                                pvalue.adj\nGlycolysis / Gluconeogenesis - Homo sapiens (human)             1         \nCitrate cycle (TCA cycle) - Homo sapiens (human)                1         \nPentose phosphate pathway - Homo sapiens (human)                1         \nPentose and glucuronate interconversions - Homo sapiens (human) 1         \nFructose and mannose metabolism - Homo sapiens (human)          1         \nGalactose metabolism - Homo sapiens (human)                     1         "
     },
     "metadata": {},
     "output_type": "display_data"
    }
   ],
   "source": [
    "# Perform Hyper-geometric testing\n",
    "res.ORA <- ORA(geneset,DEGenes,backgroundSet,DE.df)\n",
    "# Save the results to a data frame\n",
    "res.df <- data.frame(\n",
    "  pathways = names(res.ORA ),\n",
    "  pvalue = res.ORA\n",
    ")\n",
    "\n",
    "res.df <- res.df[order(res.df$pvalue),]\n",
    "head(res.df)"
   ],
   "metadata": {
    "collapsed": false
   }
  },
  {
   "cell_type": "markdown",
   "source": [
    "## Enrichment Analysis using FGSEA"
   ],
   "metadata": {
    "collapsed": false
   }
  },
  {
   "cell_type": "markdown",
   "source": [
    "This Sub-Module describes FGSEA, one of the methods for evaluating pathway enrichment in transcriptional data and it stands for Fast preranked Gene Set Enrichment Analysis (GSEA). FGSEA quickly calculates arbitrarily low GSEA P-values for a collection of gene sets and is based on an algorithm that allows  it to make more permutations and get accurate *p-values*.\n",
    "It extends the GSEA algorithm which Calculates the Enrichment Score (the degree to which a set S is over-represented at the top or bottom of the ranked list L), estimates the p-value of the Enrichment Score using a permutation test and adjusts the estimated significance level to account for multiple hypothesis in addition to calculating the q-values for FDR control. Typically, GSEA requires inputs of a list of gene sets (GO term or pathway with a set of genes), a vector DE genes with statistic. In addition, user can limit the number of terms or pathways of interest by adjusting `minSize` and `maxSize` parameters. The code to install and lost FGSEA R package is shown below:"
   ],
   "metadata": {
    "collapsed": false
   }
  },
  {
   "cell_type": "code",
   "execution_count": 39,
   "outputs": [],
   "source": [
    "# To perform enrichment analysis using FGSEA, we first install the fgsea package\n",
    "suppressMessages({if (!require(\"BiocManager\", quietly = TRUE))\n",
    "        install.packages(\"BiocManager\")\n",
    "  suppressWarnings(BiocManager::install(\"fgsea\", update = F))\n",
    "})\n",
    "\n",
    "# Loading the package\n",
    "suppressPackageStartupMessages({\n",
    "  library(\"fgsea\")\n",
    "})"
   ],
   "metadata": {
    "collapsed": false
   }
  },
  {
   "cell_type": "markdown",
   "source": [
    "Next, we need to prepare a vector of DE genes with its statistic."
   ],
   "metadata": {
    "collapsed": false
   }
  },
  {
   "cell_type": "code",
   "execution_count": 277,
   "outputs": [
    {
     "data": {
      "text/html": "<style>\n.dl-inline {width: auto; margin:0; padding: 0}\n.dl-inline>dt, .dl-inline>dd {float: none; width: auto; display: inline-block}\n.dl-inline>dt::after {content: \":\\0020\"; padding-right: .5ex}\n.dl-inline>dt:not(:first-of-type) {padding-left: .5ex}\n</style><dl class=dl-inline><dt>DDR1</dt><dd>0.25312654919025</dd><dt>RFC2</dt><dd>0.467472580609517</dd><dt>HSPA6</dt><dd>0.986153555292704</dd><dt>PAX8</dt><dd>0.723652752171903</dd><dt>GUCA1A</dt><dd>0.335147977832318</dd><dt>UBA7</dt><dd>0.392525231374342</dd></dl>\n",
      "text/markdown": "DDR1\n:   0.25312654919025RFC2\n:   0.467472580609517HSPA6\n:   0.986153555292704PAX8\n:   0.723652752171903GUCA1A\n:   0.335147977832318UBA7\n:   0.392525231374342\n\n",
      "text/latex": "\\begin{description*}\n\\item[DDR1] 0.25312654919025\n\\item[RFC2] 0.467472580609517\n\\item[HSPA6] 0.986153555292704\n\\item[PAX8] 0.723652752171903\n\\item[GUCA1A] 0.335147977832318\n\\item[UBA7] 0.392525231374342\n\\end{description*}\n",
      "text/plain": "     DDR1      RFC2     HSPA6      PAX8    GUCA1A      UBA7 \n0.2531265 0.4674726 0.9861536 0.7236528 0.3351480 0.3925252 "
     },
     "metadata": {},
     "output_type": "display_data"
    }
   ],
   "source": [
    "# Get the gene list and their statistic from DE results\n",
    "stats = DE.df$adj.P.Val\n",
    "names(stats) = DE.df$SYMBOL\n",
    "head(stats)"
   ],
   "metadata": {
    "collapsed": false
   }
  },
  {
   "cell_type": "code",
   "execution_count": 278,
   "outputs": [],
   "source": [
    "### Enrichment analysis using FGSEA and GO terms"
   ],
   "metadata": {
    "collapsed": false
   }
  },
  {
   "cell_type": "markdown",
   "source": [
    "The package `fgsea` has its own function named `gmtPathways` to load the genesets from the `gmt` file. It is recommended to use this function for compatibility. We can load\n",
    "GO terms geneset and view the first five GO terms with associated genes using the following command:"
   ],
   "metadata": {
    "collapsed": false
   }
  },
  {
   "cell_type": "code",
   "execution_count": 279,
   "outputs": [
    {
     "data": {
      "text/html": "<dl>\n\t<dt>$`GO:0000002`</dt>\n\t\t<dd><style>\n.list-inline {list-style: none; margin:0; padding: 0}\n.list-inline>li {display: inline-block}\n.list-inline>li:not(:last-child)::after {content: \"\\00b7\"; padding: 0 .5ex}\n</style>\n<ol class=list-inline><li>'AKT3'</li><li>'DNA2'</li><li>'DNAJA3'</li><li>'ENDOG'</li><li>'FLCN'</li><li>'LIG3'</li></ol>\n</dd>\n\t<dt>$`GO:0000003`</dt>\n\t\t<dd><style>\n.list-inline {list-style: none; margin:0; padding: 0}\n.list-inline>li {display: inline-block}\n.list-inline>li:not(:last-child)::after {content: \"\\00b7\"; padding: 0 .5ex}\n</style>\n<ol class=list-inline><li>'A1CF'</li><li>'A2M'</li><li>'AAAS'</li><li>'ABAT'</li><li>'ABCC8'</li><li>'ABHD2'</li></ol>\n</dd>\n\t<dt>$`GO:0000012`</dt>\n\t\t<dd><style>\n.list-inline {list-style: none; margin:0; padding: 0}\n.list-inline>li {display: inline-block}\n.list-inline>li:not(:last-child)::after {content: \"\\00b7\"; padding: 0 .5ex}\n</style>\n<ol class=list-inline><li>'APLF'</li><li>'APTX'</li><li>'ERCC6'</li><li>'ERCC8'</li><li>'LIG4'</li><li>'PARP1'</li></ol>\n</dd>\n\t<dt>$`GO:0000018`</dt>\n\t\t<dd><style>\n.list-inline {list-style: none; margin:0; padding: 0}\n.list-inline>li {display: inline-block}\n.list-inline>li:not(:last-child)::after {content: \"\\00b7\"; padding: 0 .5ex}\n</style>\n<ol class=list-inline><li>'ACTB'</li><li>'ACTL6A'</li><li>'ACTR2'</li><li>'ALYREF'</li><li>'ANKLE1'</li><li>'APLF'</li></ol>\n</dd>\n\t<dt>$`GO:0000027`</dt>\n\t\t<dd><style>\n.list-inline {list-style: none; margin:0; padding: 0}\n.list-inline>li {display: inline-block}\n.list-inline>li:not(:last-child)::after {content: \"\\00b7\"; padding: 0 .5ex}\n</style>\n<ol class=list-inline><li>'BOP1'</li><li>'BRIX1'</li><li>'DDX28'</li><li>'DHX30'</li><li>'FASTKD2'</li><li>'MDN1'</li></ol>\n</dd>\n</dl>\n",
      "text/markdown": "$`GO:0000002`\n:   1. 'AKT3'\n2. 'DNA2'\n3. 'DNAJA3'\n4. 'ENDOG'\n5. 'FLCN'\n6. 'LIG3'\n\n\n\n$`GO:0000003`\n:   1. 'A1CF'\n2. 'A2M'\n3. 'AAAS'\n4. 'ABAT'\n5. 'ABCC8'\n6. 'ABHD2'\n\n\n\n$`GO:0000012`\n:   1. 'APLF'\n2. 'APTX'\n3. 'ERCC6'\n4. 'ERCC8'\n5. 'LIG4'\n6. 'PARP1'\n\n\n\n$`GO:0000018`\n:   1. 'ACTB'\n2. 'ACTL6A'\n3. 'ACTR2'\n4. 'ALYREF'\n5. 'ANKLE1'\n6. 'APLF'\n\n\n\n$`GO:0000027`\n:   1. 'BOP1'\n2. 'BRIX1'\n3. 'DDX28'\n4. 'DHX30'\n5. 'FASTKD2'\n6. 'MDN1'\n\n\n\n\n\n",
      "text/latex": "\\begin{description}\n\\item[\\$`GO:0000002`] \\begin{enumerate*}\n\\item 'AKT3'\n\\item 'DNA2'\n\\item 'DNAJA3'\n\\item 'ENDOG'\n\\item 'FLCN'\n\\item 'LIG3'\n\\end{enumerate*}\n\n\\item[\\$`GO:0000003`] \\begin{enumerate*}\n\\item 'A1CF'\n\\item 'A2M'\n\\item 'AAAS'\n\\item 'ABAT'\n\\item 'ABCC8'\n\\item 'ABHD2'\n\\end{enumerate*}\n\n\\item[\\$`GO:0000012`] \\begin{enumerate*}\n\\item 'APLF'\n\\item 'APTX'\n\\item 'ERCC6'\n\\item 'ERCC8'\n\\item 'LIG4'\n\\item 'PARP1'\n\\end{enumerate*}\n\n\\item[\\$`GO:0000018`] \\begin{enumerate*}\n\\item 'ACTB'\n\\item 'ACTL6A'\n\\item 'ACTR2'\n\\item 'ALYREF'\n\\item 'ANKLE1'\n\\item 'APLF'\n\\end{enumerate*}\n\n\\item[\\$`GO:0000027`] \\begin{enumerate*}\n\\item 'BOP1'\n\\item 'BRIX1'\n\\item 'DDX28'\n\\item 'DHX30'\n\\item 'FASTKD2'\n\\item 'MDN1'\n\\end{enumerate*}\n\n\\end{description}\n",
      "text/plain": "$`GO:0000002`\n[1] \"AKT3\"   \"DNA2\"   \"DNAJA3\" \"ENDOG\"  \"FLCN\"   \"LIG3\"  \n\n$`GO:0000003`\n[1] \"A1CF\"  \"A2M\"   \"AAAS\"  \"ABAT\"  \"ABCC8\" \"ABHD2\"\n\n$`GO:0000012`\n[1] \"APLF\"  \"APTX\"  \"ERCC6\" \"ERCC8\" \"LIG4\"  \"PARP1\"\n\n$`GO:0000018`\n[1] \"ACTB\"   \"ACTL6A\" \"ACTR2\"  \"ALYREF\" \"ANKLE1\" \"APLF\"  \n\n$`GO:0000027`\n[1] \"BOP1\"    \"BRIX1\"   \"DDX28\"   \"DHX30\"   \"FASTKD2\" \"MDN1\"   \n"
     },
     "metadata": {},
     "output_type": "display_data"
    }
   ],
   "source": [
    "# Load the pathways into a named list\n",
    "GO_term_hallmark <- gmtPathways(\"./data/GO_terms.gmt\")\n",
    "# Show the first few GO terms, and within those, show only the first few genes.\n",
    "tmp = lapply(GO_term_hallmark,head)\n",
    "tmp[1:5]"
   ],
   "metadata": {
    "collapsed": false
   }
  },
  {
   "cell_type": "markdown",
   "source": [
    "Running the FGSEA can be done by calling the `fgsea` with two required inputs."
   ],
   "metadata": {
    "collapsed": false
   }
  },
  {
   "cell_type": "code",
   "execution_count": 280,
   "outputs": [],
   "source": [
    "# Running fgsea\n",
    "suppressWarnings(fgseaRes <- fgsea(pathways = GO_term_hallmark,\n",
    "                  stats    = stats\n",
    "                  ))"
   ],
   "metadata": {
    "collapsed": false
   }
  },
  {
   "cell_type": "markdown",
   "source": [
    "The output of the FGSEA method is a table where row are GO terms IDs or pathway IDs. The columns are *p-values*, *adjusted p-values*, *Enrichment Score*, etc."
   ],
   "metadata": {
    "collapsed": false
   }
  },
  {
   "cell_type": "code",
   "execution_count": 281,
   "outputs": [
    {
     "data": {
      "text/html": "<table class=\"dataframe\">\n<caption>A data.table: 6 × 7</caption>\n<thead>\n\t<tr><th scope=col>pathway</th><th scope=col>pval</th><th scope=col>padj</th><th scope=col>log2err</th><th scope=col>ES</th><th scope=col>NES</th><th scope=col>size</th></tr>\n\t<tr><th scope=col>&lt;chr&gt;</th><th scope=col>&lt;dbl&gt;</th><th scope=col>&lt;dbl&gt;</th><th scope=col>&lt;dbl&gt;</th><th scope=col>&lt;dbl&gt;</th><th scope=col>&lt;dbl&gt;</th><th scope=col>&lt;int&gt;</th></tr>\n</thead>\n<tbody>\n\t<tr><td>GO:0050907</td><td>1.968725e-05</td><td>0.1352120</td><td>0.5756103</td><td>0.3786406</td><td>1.568009</td><td>132</td></tr>\n\t<tr><td>GO:0009593</td><td>5.079400e-05</td><td>0.1744266</td><td>0.5573322</td><td>0.3526733</td><td>1.483964</td><td>167</td></tr>\n\t<tr><td>GO:0050911</td><td>8.742501e-05</td><td>0.1853031</td><td>0.5384341</td><td>0.3926074</td><td>1.589368</td><td> 94</td></tr>\n\t<tr><td>GO:0006959</td><td>1.144982e-04</td><td>0.1853031</td><td>0.5384341</td><td>0.3160059</td><td>1.367381</td><td>271</td></tr>\n\t<tr><td>GO:0030850</td><td>1.349032e-04</td><td>0.1853031</td><td>0.5188481</td><td>0.4585205</td><td>1.756128</td><td> 51</td></tr>\n\t<tr><td>GO:0050906</td><td>1.983859e-04</td><td>0.2270857</td><td>0.5188481</td><td>0.3274274</td><td>1.393866</td><td>202</td></tr>\n</tbody>\n</table>\n",
      "text/markdown": "\nA data.table: 6 × 7\n\n| pathway &lt;chr&gt; | pval &lt;dbl&gt; | padj &lt;dbl&gt; | log2err &lt;dbl&gt; | ES &lt;dbl&gt; | NES &lt;dbl&gt; | size &lt;int&gt; |\n|---|---|---|---|---|---|---|\n| GO:0050907 | 1.968725e-05 | 0.1352120 | 0.5756103 | 0.3786406 | 1.568009 | 132 |\n| GO:0009593 | 5.079400e-05 | 0.1744266 | 0.5573322 | 0.3526733 | 1.483964 | 167 |\n| GO:0050911 | 8.742501e-05 | 0.1853031 | 0.5384341 | 0.3926074 | 1.589368 |  94 |\n| GO:0006959 | 1.144982e-04 | 0.1853031 | 0.5384341 | 0.3160059 | 1.367381 | 271 |\n| GO:0030850 | 1.349032e-04 | 0.1853031 | 0.5188481 | 0.4585205 | 1.756128 |  51 |\n| GO:0050906 | 1.983859e-04 | 0.2270857 | 0.5188481 | 0.3274274 | 1.393866 | 202 |\n\n",
      "text/latex": "A data.table: 6 × 7\n\\begin{tabular}{lllllll}\n pathway & pval & padj & log2err & ES & NES & size\\\\\n <chr> & <dbl> & <dbl> & <dbl> & <dbl> & <dbl> & <int>\\\\\n\\hline\n\t GO:0050907 & 1.968725e-05 & 0.1352120 & 0.5756103 & 0.3786406 & 1.568009 & 132\\\\\n\t GO:0009593 & 5.079400e-05 & 0.1744266 & 0.5573322 & 0.3526733 & 1.483964 & 167\\\\\n\t GO:0050911 & 8.742501e-05 & 0.1853031 & 0.5384341 & 0.3926074 & 1.589368 &  94\\\\\n\t GO:0006959 & 1.144982e-04 & 0.1853031 & 0.5384341 & 0.3160059 & 1.367381 & 271\\\\\n\t GO:0030850 & 1.349032e-04 & 0.1853031 & 0.5188481 & 0.4585205 & 1.756128 &  51\\\\\n\t GO:0050906 & 1.983859e-04 & 0.2270857 & 0.5188481 & 0.3274274 & 1.393866 & 202\\\\\n\\end{tabular}\n",
      "text/plain": "  pathway    pval         padj      log2err   ES        NES      size\n1 GO:0050907 1.968725e-05 0.1352120 0.5756103 0.3786406 1.568009 132 \n2 GO:0009593 5.079400e-05 0.1744266 0.5573322 0.3526733 1.483964 167 \n3 GO:0050911 8.742501e-05 0.1853031 0.5384341 0.3926074 1.589368  94 \n4 GO:0006959 1.144982e-04 0.1853031 0.5384341 0.3160059 1.367381 271 \n5 GO:0030850 1.349032e-04 0.1853031 0.5188481 0.4585205 1.756128  51 \n6 GO:0050906 1.983859e-04 0.2270857 0.5188481 0.3274274 1.393866 202 "
     },
     "metadata": {},
     "output_type": "display_data"
    }
   ],
   "source": [
    "head(fgseaRes[order(pval), ][,-8])"
   ],
   "metadata": {
    "collapsed": false
   }
  },
  {
   "cell_type": "markdown",
   "source": [
    "From the result table, we can select top five up regulated GO terms and top five down regulated GO terms. Then we can plot them using the built-in function `plotGseaTable`"
   ],
   "metadata": {
    "collapsed": false
   }
  },
  {
   "cell_type": "code",
   "execution_count": 284,
   "outputs": [
    {
     "data": {
      "text/plain": "plot without title",
      "image/png": "[encoded data removed]"
     },
     "metadata": {
      "image/png": {
       "width": 420,
       "height": 420
      }
     },
     "output_type": "display_data"
    }
   ],
   "source": [
    "topGOUp <- fgseaRes[ES > 0][head(order(pval), n=5), pathway]\n",
    "topGODown <- fgseaRes[ES < 0][head(order(pval), n=5), pathway]\n",
    "topGO <- c(topGOUp, rev(topGODown))\n",
    "plotGseaTable(GO_term_hallmark[topGO], stats, fgseaRes,\n",
    "              gseaParam=0.5)"
   ],
   "metadata": {
    "collapsed": false
   }
  },
  {
   "cell_type": "markdown",
   "source": [
    "### Enrichment analysis using FGSEA and KEGG pathways\n",
    "We can perform enrichment analysis using FGSEA with KEGG pathway using the same procedure mentioned above. The only thing we need to change is the\n",
    "list of geneset that available in KEGG database."
   ],
   "metadata": {
    "collapsed": false
   }
  },
  {
   "cell_type": "code",
   "execution_count": 47,
   "outputs": [
    {
     "data": {
      "text/html": "<dl>\n\t<dt>$hsa00010</dt>\n\t\t<dd><style>\n.list-inline {list-style: none; margin:0; padding: 0}\n.list-inline>li {display: inline-block}\n.list-inline>li:not(:last-child)::after {content: \"\\00b7\"; padding: 0 .5ex}\n</style>\n<ol class=list-inline><li>'HK3'</li><li>'HK1'</li><li>'HK2'</li><li>'HKDC1'</li><li>'GCK'</li><li>'GPI'</li></ol>\n</dd>\n\t<dt>$hsa00020</dt>\n\t\t<dd><style>\n.list-inline {list-style: none; margin:0; padding: 0}\n.list-inline>li {display: inline-block}\n.list-inline>li:not(:last-child)::after {content: \"\\00b7\"; padding: 0 .5ex}\n</style>\n<ol class=list-inline><li>'CS'</li><li>'ACLY'</li><li>'ACO2'</li><li>'ACO1'</li><li>'IDH1'</li><li>'IDH2'</li></ol>\n</dd>\n\t<dt>$hsa00030</dt>\n\t\t<dd><style>\n.list-inline {list-style: none; margin:0; padding: 0}\n.list-inline>li {display: inline-block}\n.list-inline>li:not(:last-child)::after {content: \"\\00b7\"; padding: 0 .5ex}\n</style>\n<ol class=list-inline><li>'GPI'</li><li>'G6PD'</li><li>'PGLS'</li><li>'H6PD'</li><li>'PGD'</li><li>'RPE'</li></ol>\n</dd>\n\t<dt>$hsa00040</dt>\n\t\t<dd><style>\n.list-inline {list-style: none; margin:0; padding: 0}\n.list-inline>li {display: inline-block}\n.list-inline>li:not(:last-child)::after {content: \"\\00b7\"; padding: 0 .5ex}\n</style>\n<ol class=list-inline><li>'GUSB'</li><li>'KL'</li><li>'UGT2A1'</li><li>'UGT2A3'</li><li>'UGT2B17'</li><li>'UGT2B11'</li></ol>\n</dd>\n\t<dt>$hsa00051</dt>\n\t\t<dd><style>\n.list-inline {list-style: none; margin:0; padding: 0}\n.list-inline>li {display: inline-block}\n.list-inline>li:not(:last-child)::after {content: \"\\00b7\"; padding: 0 .5ex}\n</style>\n<ol class=list-inline><li>'MPI'</li><li>'PMM2'</li><li>'PMM1'</li><li>'GMPPB'</li><li>'GMPPA'</li><li>'GMDS'</li></ol>\n</dd>\n</dl>\n",
      "text/markdown": "$hsa00010\n:   1. 'HK3'\n2. 'HK1'\n3. 'HK2'\n4. 'HKDC1'\n5. 'GCK'\n6. 'GPI'\n\n\n\n$hsa00020\n:   1. 'CS'\n2. 'ACLY'\n3. 'ACO2'\n4. 'ACO1'\n5. 'IDH1'\n6. 'IDH2'\n\n\n\n$hsa00030\n:   1. 'GPI'\n2. 'G6PD'\n3. 'PGLS'\n4. 'H6PD'\n5. 'PGD'\n6. 'RPE'\n\n\n\n$hsa00040\n:   1. 'GUSB'\n2. 'KL'\n3. 'UGT2A1'\n4. 'UGT2A3'\n5. 'UGT2B17'\n6. 'UGT2B11'\n\n\n\n$hsa00051\n:   1. 'MPI'\n2. 'PMM2'\n3. 'PMM1'\n4. 'GMPPB'\n5. 'GMPPA'\n6. 'GMDS'\n\n\n\n\n\n",
      "text/latex": "\\begin{description}\n\\item[\\$hsa00010] \\begin{enumerate*}\n\\item 'HK3'\n\\item 'HK1'\n\\item 'HK2'\n\\item 'HKDC1'\n\\item 'GCK'\n\\item 'GPI'\n\\end{enumerate*}\n\n\\item[\\$hsa00020] \\begin{enumerate*}\n\\item 'CS'\n\\item 'ACLY'\n\\item 'ACO2'\n\\item 'ACO1'\n\\item 'IDH1'\n\\item 'IDH2'\n\\end{enumerate*}\n\n\\item[\\$hsa00030] \\begin{enumerate*}\n\\item 'GPI'\n\\item 'G6PD'\n\\item 'PGLS'\n\\item 'H6PD'\n\\item 'PGD'\n\\item 'RPE'\n\\end{enumerate*}\n\n\\item[\\$hsa00040] \\begin{enumerate*}\n\\item 'GUSB'\n\\item 'KL'\n\\item 'UGT2A1'\n\\item 'UGT2A3'\n\\item 'UGT2B17'\n\\item 'UGT2B11'\n\\end{enumerate*}\n\n\\item[\\$hsa00051] \\begin{enumerate*}\n\\item 'MPI'\n\\item 'PMM2'\n\\item 'PMM1'\n\\item 'GMPPB'\n\\item 'GMPPA'\n\\item 'GMDS'\n\\end{enumerate*}\n\n\\end{description}\n",
      "text/plain": "$hsa00010\n[1] \"HK3\"   \"HK1\"   \"HK2\"   \"HKDC1\" \"GCK\"   \"GPI\"  \n\n$hsa00020\n[1] \"CS\"   \"ACLY\" \"ACO2\" \"ACO1\" \"IDH1\" \"IDH2\"\n\n$hsa00030\n[1] \"GPI\"  \"G6PD\" \"PGLS\" \"H6PD\" \"PGD\"  \"RPE\" \n\n$hsa00040\n[1] \"GUSB\"    \"KL\"      \"UGT2A1\"  \"UGT2A3\"  \"UGT2B17\" \"UGT2B11\"\n\n$hsa00051\n[1] \"MPI\"   \"PMM2\"  \"PMM1\"  \"GMPPB\" \"GMPPA\" \"GMDS\" \n"
     },
     "metadata": {},
     "output_type": "display_data"
    }
   ],
   "source": [
    "# Load the pathways into a named list\n",
    "KEGG_hallmark <- gmtPathways(\"./data/KEGG_pathways.gmt\")\n",
    "# Show the first few GO terms, and within those, show only the first few genes.\n",
    "tmp = lapply(KEGG_hallmark,head)\n",
    "tmp[1:5]"
   ],
   "metadata": {
    "collapsed": false
   }
  },
  {
   "cell_type": "code",
   "execution_count": 48,
   "outputs": [],
   "source": [
    "# Running fgsea\n",
    "suppressWarnings(fgseaRes <- fgsea(pathways = KEGG_hallmark,\n",
    "                  stats    = stats))"
   ],
   "metadata": {
    "collapsed": false
   }
  },
  {
   "cell_type": "code",
   "execution_count": 49,
   "outputs": [
    {
     "data": {
      "text/html": "<table class=\"dataframe\">\n<caption>A data.table: 6 × 7</caption>\n<thead>\n\t<tr><th scope=col>pathway</th><th scope=col>pval</th><th scope=col>padj</th><th scope=col>log2err</th><th scope=col>ES</th><th scope=col>NES</th><th scope=col>size</th></tr>\n\t<tr><th scope=col>&lt;chr&gt;</th><th scope=col>&lt;dbl&gt;</th><th scope=col>&lt;dbl&gt;</th><th scope=col>&lt;dbl&gt;</th><th scope=col>&lt;dbl&gt;</th><th scope=col>&lt;dbl&gt;</th><th scope=col>&lt;int&gt;</th></tr>\n</thead>\n<tbody>\n\t<tr><td>hsa05168</td><td>2.251489e-13</td><td>7.159734e-11</td><td>0.9436322</td><td>0.3559273</td><td>1.589161</td><td>468</td></tr>\n\t<tr><td>hsa04060</td><td>1.086974e-12</td><td>1.728289e-10</td><td>0.9101197</td><td>0.3884407</td><td>1.702789</td><td>291</td></tr>\n\t<tr><td>hsa04151</td><td>3.327686e-10</td><td>3.527347e-08</td><td>0.8140358</td><td>0.3566070</td><td>1.574856</td><td>353</td></tr>\n\t<tr><td>hsa04530</td><td>1.870476e-09</td><td>1.487029e-07</td><td>0.7749390</td><td>0.4137364</td><td>1.760410</td><td>164</td></tr>\n\t<tr><td>hsa04510</td><td>2.323402e-08</td><td>1.477684e-06</td><td>0.7337620</td><td>0.3850561</td><td>1.658695</td><td>199</td></tr>\n\t<tr><td>hsa05202</td><td>7.078569e-08</td><td>3.751641e-06</td><td>0.7049757</td><td>0.3821628</td><td>1.642714</td><td>188</td></tr>\n</tbody>\n</table>\n",
      "text/markdown": "\nA data.table: 6 × 7\n\n| pathway &lt;chr&gt; | pval &lt;dbl&gt; | padj &lt;dbl&gt; | log2err &lt;dbl&gt; | ES &lt;dbl&gt; | NES &lt;dbl&gt; | size &lt;int&gt; |\n|---|---|---|---|---|---|---|\n| hsa05168 | 2.251489e-13 | 7.159734e-11 | 0.9436322 | 0.3559273 | 1.589161 | 468 |\n| hsa04060 | 1.086974e-12 | 1.728289e-10 | 0.9101197 | 0.3884407 | 1.702789 | 291 |\n| hsa04151 | 3.327686e-10 | 3.527347e-08 | 0.8140358 | 0.3566070 | 1.574856 | 353 |\n| hsa04530 | 1.870476e-09 | 1.487029e-07 | 0.7749390 | 0.4137364 | 1.760410 | 164 |\n| hsa04510 | 2.323402e-08 | 1.477684e-06 | 0.7337620 | 0.3850561 | 1.658695 | 199 |\n| hsa05202 | 7.078569e-08 | 3.751641e-06 | 0.7049757 | 0.3821628 | 1.642714 | 188 |\n\n",
      "text/latex": "A data.table: 6 × 7\n\\begin{tabular}{lllllll}\n pathway & pval & padj & log2err & ES & NES & size\\\\\n <chr> & <dbl> & <dbl> & <dbl> & <dbl> & <dbl> & <int>\\\\\n\\hline\n\t hsa05168 & 2.251489e-13 & 7.159734e-11 & 0.9436322 & 0.3559273 & 1.589161 & 468\\\\\n\t hsa04060 & 1.086974e-12 & 1.728289e-10 & 0.9101197 & 0.3884407 & 1.702789 & 291\\\\\n\t hsa04151 & 3.327686e-10 & 3.527347e-08 & 0.8140358 & 0.3566070 & 1.574856 & 353\\\\\n\t hsa04530 & 1.870476e-09 & 1.487029e-07 & 0.7749390 & 0.4137364 & 1.760410 & 164\\\\\n\t hsa04510 & 2.323402e-08 & 1.477684e-06 & 0.7337620 & 0.3850561 & 1.658695 & 199\\\\\n\t hsa05202 & 7.078569e-08 & 3.751641e-06 & 0.7049757 & 0.3821628 & 1.642714 & 188\\\\\n\\end{tabular}\n",
      "text/plain": "  pathway  pval         padj         log2err   ES        NES      size\n1 hsa05168 2.251489e-13 7.159734e-11 0.9436322 0.3559273 1.589161 468 \n2 hsa04060 1.086974e-12 1.728289e-10 0.9101197 0.3884407 1.702789 291 \n3 hsa04151 3.327686e-10 3.527347e-08 0.8140358 0.3566070 1.574856 353 \n4 hsa04530 1.870476e-09 1.487029e-07 0.7749390 0.4137364 1.760410 164 \n5 hsa04510 2.323402e-08 1.477684e-06 0.7337620 0.3850561 1.658695 199 \n6 hsa05202 7.078569e-08 3.751641e-06 0.7049757 0.3821628 1.642714 188 "
     },
     "metadata": {},
     "output_type": "display_data"
    }
   ],
   "source": [
    "head(fgseaRes[order(pval), ][,-8])"
   ],
   "metadata": {
    "collapsed": false
   }
  },
  {
   "cell_type": "code",
   "execution_count": 50,
   "outputs": [
    {
     "data": {
      "text/plain": "plot without title",
      "image/png": "[encoded data removed]"
     },
     "metadata": {
      "image/png": {
       "width": 420,
       "height": 420
      }
     },
     "output_type": "display_data"
    }
   ],
   "source": [
    "topPathwaysUp <- fgseaRes[ES > 0][head(order(pval), n=5), pathway]\n",
    "topPathwaysDown <- fgseaRes[ES < 0][head(order(pval), n=5), pathway]\n",
    "topPathways <- c(topPathwaysUp, rev(topPathwaysDown))\n",
    "#Viewing the 5 most significantly up-regulated and down-regulated pathways each with the FGSEA internal plot function\n",
    "plotGseaTable(KEGG_hallmark[topPathways], stats, fgseaRes,\n",
    "              gseaParam=0.5)"
   ],
   "metadata": {
    "collapsed": false
   }
  },
  {
   "cell_type": "markdown",
   "source": [
    "## Gene Set Enrichment Analysis using GSA"
   ],
   "metadata": {
    "collapsed": false
   }
  },
  {
   "cell_type": "markdown",
   "source": [
    "This submodule explains Gene Set Analysis (GSA), an Enrichment Analysis, a method that is commonly used to summarize high-dimensional gene expression data sets into sets according to its biological relevance. GSA takes the ranked gene lists from the initial stage of a gene expression analysis and aggregates the genes into sets based on shared biological or functional properties as specified by a reference knowledge base. Such databases often contain phenotype associations, molecular interactions and regulation and are referenced in the analysis of the resultant gene sets to find the relevance of the gene properties to the phenotype of interest."
   ],
   "metadata": {
    "collapsed": false
   }
  },
  {
   "cell_type": "markdown",
   "source": [
    "### Data preparation\n",
    "The GSA method is freely available as standalone package in CRAN repository. We can use the following code to install the package."
   ],
   "metadata": {
    "collapsed": false
   }
  },
  {
   "cell_type": "code",
   "execution_count": 176,
   "outputs": [],
   "source": [
    "# Install GSA from CRAN\n",
    "suppressMessages({if (!require(\"GSA\"))\n",
    "        suppressWarnings(install.packages(\"GSA\"))\n",
    "})\n",
    "suppressMessages({\n",
    "  library(GSA)\n",
    "})"
   ],
   "metadata": {
    "collapsed": false
   }
  },
  {
   "cell_type": "markdown",
   "source": [
    "The GSA method require an expression matrix, a numeric vector containing class of each sample and a vector of genes the inputs. We can easily get those inputs by load the data that we processed in the [**Sub-module 01** ](./Module01-GEO_Data_Processing.ipynb)."
   ],
   "metadata": {
    "collapsed": false
   }
  },
  {
   "cell_type": "code",
   "execution_count": 178,
   "outputs": [],
   "source": [
    "# Loading expression data with groups\n",
    "data <- readRDS(\"./data/GSE48350.rds\")\n",
    "expression_data <- data$expression_data\n",
    "norm_expression_data <- data$norm_expression_data\n",
    "groups <- data$groups"
   ],
   "metadata": {
    "collapsed": false
   }
  },
  {
   "cell_type": "markdown",
   "source": [
    "We can also use the sample approach available in the [**Sub-module 01** ](./Module01-GEO_Data_Processing.ipynb) to map the probe IDs to gene symbols. The step-by-step coding instruction is shown below:"
   ],
   "metadata": {
    "collapsed": false
   }
  },
  {
   "cell_type": "code",
   "execution_count": 179,
   "outputs": [],
   "source": [
    "# Get the probe IDs\n",
    "expression_data$PROBEID <- rownames(expression_data)\n",
    "probeIDs <- rownames(expression_data)\n",
    "# Perform gene mapping\n",
    "suppressMessages({\n",
    "  annotLookup <- AnnotationDbi::select(hgu133plus2.db, keys = probeIDs, columns = c('PROBEID', 'GENENAME', 'SYMBOL'))\n",
    "})\n",
    "# Merge DE result  data frame with annotation table\n",
    "new_expression_data = merge(annotLookup, expression_data, by=\"PROBEID\")\n",
    "# Remove NA value\n",
    "new_expression_data <- new_expression_data[!is.na(new_expression_data$SYMBOL),]\n",
    "# Remove duplicated genes symbol\n",
    "new_expression_data <-  new_expression_data[!duplicated(new_expression_data$SYMBOL,fromLast=FALSE),]\n",
    "rownames(new_expression_data) <- new_expression_data$SYMBOL\n",
    "# Drop PROBEID, GENENAME, and SYMBOL columns\n",
    "new_expression_data <- new_expression_data[,-c(1:3)]\n",
    "genenames= rownames(new_expression_data)"
   ],
   "metadata": {
    "collapsed": false
   }
  },
  {
   "cell_type": "markdown",
   "source": [
    "### GSA Enrichment analysis using GO terms\n",
    "Using data obtaiend from the previous step, we can run the GSA method by callinf the function `GSA`. We can reuse `GO_term_hallmark` and `KEGG_hallmark` loaded in FGSEA to perform analysis. The code details are shown below:"
   ],
   "metadata": {
    "collapsed": false
   }
  },
  {
   "cell_type": "code",
   "execution_count": 61,
   "outputs": [
    {
     "name": "stdout",
     "output_type": "stream",
     "text": [
      "perm= 10 / 200 \n",
      "perm= 20 / 200 \n",
      "perm= 30 / 200 \n",
      "perm= 40 / 200 \n",
      "perm= 50 / 200 \n",
      "perm= 60 / 200 \n",
      "perm= 70 / 200 \n",
      "perm= 80 / 200 \n",
      "perm= 90 / 200 \n",
      "perm= 100 / 200 \n",
      "perm= 110 / 200 \n",
      "perm= 120 / 200 \n",
      "perm= 130 / 200 \n",
      "perm= 140 / 200 \n",
      "perm= 150 / 200 \n",
      "perm= 160 / 200 \n",
      "perm= 170 / 200 \n",
      "perm= 180 / 200 \n",
      "perm= 190 / 200 \n",
      "perm= 200 / 200 \n"
     ]
    }
   ],
   "source": [
    "# Getting\n",
    "genesets = GO_term_hallmark\n",
    "GSA.obj<-GSA(as.matrix(new_expression_data),as.numeric(groups$groups), genenames=genenames, genesets=genesets, resp.type=\"Two class unpaired\")"
   ],
   "metadata": {
    "collapsed": false
   }
  },
  {
   "cell_type": "code",
   "execution_count": 62,
   "outputs": [],
   "source": [
    "# List the results from a GSA analysis\n",
    "res <- GSA.listsets(GSA.obj, geneset.names=names(genesets),FDRcut=.5)"
   ],
   "metadata": {
    "collapsed": false
   }
  },
  {
   "cell_type": "markdown",
   "source": [
    "A table of the negative gene sets. “Negative” means that lower expression of most genes in the gene set correlates with higher values of the phenotype y. Eg for two classes coded 1,2, lower expression correlates with class 2."
   ],
   "metadata": {
    "collapsed": false
   }
  },
  {
   "cell_type": "code",
   "execution_count": 63,
   "outputs": [
    {
     "data": {
      "text/html": "<table class=\"dataframe\">\n<caption>A matrix: 324 × 5 of type chr</caption>\n<thead>\n\t<tr><th scope=col>Gene_set</th><th scope=col>Gene_set_name</th><th scope=col>Score</th><th scope=col>p-value</th><th scope=col>FDR</th></tr>\n</thead>\n<tbody>\n\t<tr><td>55  </td><td>GO:0000422</td><td>-0.5436</td><td>0</td><td>0</td></tr>\n\t<tr><td>620 </td><td>GO:0006091</td><td>-0.4743</td><td>0</td><td>0</td></tr>\n\t<tr><td>724 </td><td>GO:0006418</td><td>-0.9139</td><td>0</td><td>0</td></tr>\n\t<tr><td>783 </td><td>GO:0006595</td><td>-0.4823</td><td>0</td><td>0</td></tr>\n\t<tr><td>784 </td><td>GO:0006596</td><td>-0.5397</td><td>0</td><td>0</td></tr>\n\t<tr><td>785 </td><td>GO:0006605</td><td>-0.4504</td><td>0</td><td>0</td></tr>\n\t<tr><td>983 </td><td>GO:0007029</td><td>-0.4715</td><td>0</td><td>0</td></tr>\n\t<tr><td>986 </td><td>GO:0007032</td><td>-0.5574</td><td>0</td><td>0</td></tr>\n\t<tr><td>988 </td><td>GO:0007034</td><td>-0.3837</td><td>0</td><td>0</td></tr>\n\t<tr><td>1129</td><td>GO:0007528</td><td>-0.5997</td><td>0</td><td>0</td></tr>\n\t<tr><td>1803</td><td>GO:0016050</td><td>-0.3655</td><td>0</td><td>0</td></tr>\n\t<tr><td>1871</td><td>GO:0016574</td><td>-0.4542</td><td>0</td><td>0</td></tr>\n\t<tr><td>1889</td><td>GO:0017158</td><td>-0.8761</td><td>0</td><td>0</td></tr>\n\t<tr><td>2057</td><td>GO:0021762</td><td>-0.5237</td><td>0</td><td>0</td></tr>\n\t<tr><td>2115</td><td>GO:0022411</td><td>-0.2343</td><td>0</td><td>0</td></tr>\n\t<tr><td>2390</td><td>GO:0031396</td><td>-0.2651</td><td>0</td><td>0</td></tr>\n\t<tr><td>2392</td><td>GO:0031398</td><td>-0.3975</td><td>0</td><td>0</td></tr>\n\t<tr><td>2426</td><td>GO:0031647</td><td>-0.2763</td><td>0</td><td>0</td></tr>\n\t<tr><td>2540</td><td>GO:0032386</td><td>-0.2937</td><td>0</td><td>0</td></tr>\n\t<tr><td>2542</td><td>GO:0032388</td><td>-0.2457</td><td>0</td><td>0</td></tr>\n\t<tr><td>2555</td><td>GO:0032434</td><td>-0.3344</td><td>0</td><td>0</td></tr>\n\t<tr><td>2567</td><td>GO:0032482</td><td>-0.7081</td><td>0</td><td>0</td></tr>\n\t<tr><td>2797</td><td>GO:0033522</td><td>-0.6118</td><td>0</td><td>0</td></tr>\n\t<tr><td>2916</td><td>GO:0034389</td><td>-0.6081</td><td>0</td><td>0</td></tr>\n\t<tr><td>3049</td><td>GO:0035372</td><td>-0.4346</td><td>0</td><td>0</td></tr>\n\t<tr><td>3274</td><td>GO:0042176</td><td>-0.2968</td><td>0</td><td>0</td></tr>\n\t<tr><td>3275</td><td>GO:0042177</td><td>-0.3532</td><td>0</td><td>0</td></tr>\n\t<tr><td>3392</td><td>GO:0042776</td><td>-0.9895</td><td>0</td><td>0</td></tr>\n\t<tr><td>3395</td><td>GO:0042795</td><td>-0.9218</td><td>0</td><td>0</td></tr>\n\t<tr><td>3419</td><td>GO:0043038</td><td>-0.8869</td><td>0</td><td>0</td></tr>\n\t<tr><td>⋮</td><td>⋮</td><td>⋮</td><td>⋮</td><td>⋮</td></tr>\n\t<tr><td>2375</td><td>GO:0031331</td><td>-0.1246</td><td>0.03</td><td>0.4792</td></tr>\n\t<tr><td>2378</td><td>GO:0031338</td><td>-0.7277</td><td>0.03</td><td>0.4792</td></tr>\n\t<tr><td>2502</td><td>GO:0032272</td><td>-0.287 </td><td>0.03</td><td>0.4792</td></tr>\n\t<tr><td>2563</td><td>GO:0032469</td><td>-0.2878</td><td>0.03</td><td>0.4792</td></tr>\n\t<tr><td>2703</td><td>GO:0032933</td><td>-0.6218</td><td>0.03</td><td>0.4792</td></tr>\n\t<tr><td>3182</td><td>GO:0036474</td><td>-0.3016</td><td>0.03</td><td>0.4792</td></tr>\n\t<tr><td>3237</td><td>GO:0042026</td><td>-0.6276</td><td>0.03</td><td>0.4792</td></tr>\n\t<tr><td>3280</td><td>GO:0042219</td><td>-0.3162</td><td>0.03</td><td>0.4792</td></tr>\n\t<tr><td>3526</td><td>GO:0043473</td><td>-0.2182</td><td>0.03</td><td>0.4792</td></tr>\n\t<tr><td>3751</td><td>GO:0045324</td><td>-0.8269</td><td>0.03</td><td>0.4792</td></tr>\n\t<tr><td>3935</td><td>GO:0046037</td><td>-0.5328</td><td>0.03</td><td>0.4792</td></tr>\n\t<tr><td>4006</td><td>GO:0046488</td><td>-0.2783</td><td>0.03</td><td>0.4792</td></tr>\n\t<tr><td>4072</td><td>GO:0046755</td><td>-0.6984</td><td>0.03</td><td>0.4792</td></tr>\n\t<tr><td>4146</td><td>GO:0048172</td><td>-0.9939</td><td>0.03</td><td>0.4792</td></tr>\n\t<tr><td>4293</td><td>GO:0048791</td><td>-1.4066</td><td>0.03</td><td>0.4792</td></tr>\n\t<tr><td>4564</td><td>GO:0051260</td><td>-0.1723</td><td>0.03</td><td>0.4792</td></tr>\n\t<tr><td>4617</td><td>GO:0051438</td><td>-0.32  </td><td>0.03</td><td>0.4792</td></tr>\n\t<tr><td>5107</td><td>GO:0061462</td><td>-0.357 </td><td>0.03</td><td>0.4792</td></tr>\n\t<tr><td>5418</td><td>GO:0071501</td><td>-0.5683</td><td>0.03</td><td>0.4792</td></tr>\n\t<tr><td>5497</td><td>GO:0071985</td><td>-0.4464</td><td>0.03</td><td>0.4792</td></tr>\n\t<tr><td>5838</td><td>GO:0097345</td><td>-0.5219</td><td>0.03</td><td>0.4792</td></tr>\n\t<tr><td>5849</td><td>GO:0097479</td><td>-0.6057</td><td>0.03</td><td>0.4792</td></tr>\n\t<tr><td>6141</td><td>GO:1901019</td><td>-0.4407</td><td>0.03</td><td>0.4792</td></tr>\n\t<tr><td>6255</td><td>GO:1901984</td><td>-0.3658</td><td>0.03</td><td>0.4792</td></tr>\n\t<tr><td>6315</td><td>GO:1902410</td><td>-0.5623</td><td>0.03</td><td>0.4792</td></tr>\n\t<tr><td>6353</td><td>GO:1902774</td><td>-0.6751</td><td>0.03</td><td>0.4792</td></tr>\n\t<tr><td>6597</td><td>GO:1904872</td><td>-1.1568</td><td>0.03</td><td>0.4792</td></tr>\n\t<tr><td>6598</td><td>GO:1904874</td><td>-1.3255</td><td>0.03</td><td>0.4792</td></tr>\n\t<tr><td>6807</td><td>GO:2000573</td><td>-0.3411</td><td>0.03</td><td>0.4792</td></tr>\n\t<tr><td>6813</td><td>GO:2000641</td><td>-0.471 </td><td>0.03</td><td>0.4792</td></tr>\n</tbody>\n</table>\n",
      "text/markdown": "\nA matrix: 324 × 5 of type chr\n\n| Gene_set | Gene_set_name | Score | p-value | FDR |\n|---|---|---|---|---|\n| 55   | GO:0000422 | -0.5436 | 0 | 0 |\n| 620  | GO:0006091 | -0.4743 | 0 | 0 |\n| 724  | GO:0006418 | -0.9139 | 0 | 0 |\n| 783  | GO:0006595 | -0.4823 | 0 | 0 |\n| 784  | GO:0006596 | -0.5397 | 0 | 0 |\n| 785  | GO:0006605 | -0.4504 | 0 | 0 |\n| 983  | GO:0007029 | -0.4715 | 0 | 0 |\n| 986  | GO:0007032 | -0.5574 | 0 | 0 |\n| 988  | GO:0007034 | -0.3837 | 0 | 0 |\n| 1129 | GO:0007528 | -0.5997 | 0 | 0 |\n| 1803 | GO:0016050 | -0.3655 | 0 | 0 |\n| 1871 | GO:0016574 | -0.4542 | 0 | 0 |\n| 1889 | GO:0017158 | -0.8761 | 0 | 0 |\n| 2057 | GO:0021762 | -0.5237 | 0 | 0 |\n| 2115 | GO:0022411 | -0.2343 | 0 | 0 |\n| 2390 | GO:0031396 | -0.2651 | 0 | 0 |\n| 2392 | GO:0031398 | -0.3975 | 0 | 0 |\n| 2426 | GO:0031647 | -0.2763 | 0 | 0 |\n| 2540 | GO:0032386 | -0.2937 | 0 | 0 |\n| 2542 | GO:0032388 | -0.2457 | 0 | 0 |\n| 2555 | GO:0032434 | -0.3344 | 0 | 0 |\n| 2567 | GO:0032482 | -0.7081 | 0 | 0 |\n| 2797 | GO:0033522 | -0.6118 | 0 | 0 |\n| 2916 | GO:0034389 | -0.6081 | 0 | 0 |\n| 3049 | GO:0035372 | -0.4346 | 0 | 0 |\n| 3274 | GO:0042176 | -0.2968 | 0 | 0 |\n| 3275 | GO:0042177 | -0.3532 | 0 | 0 |\n| 3392 | GO:0042776 | -0.9895 | 0 | 0 |\n| 3395 | GO:0042795 | -0.9218 | 0 | 0 |\n| 3419 | GO:0043038 | -0.8869 | 0 | 0 |\n| ⋮ | ⋮ | ⋮ | ⋮ | ⋮ |\n| 2375 | GO:0031331 | -0.1246 | 0.03 | 0.4792 |\n| 2378 | GO:0031338 | -0.7277 | 0.03 | 0.4792 |\n| 2502 | GO:0032272 | -0.287  | 0.03 | 0.4792 |\n| 2563 | GO:0032469 | -0.2878 | 0.03 | 0.4792 |\n| 2703 | GO:0032933 | -0.6218 | 0.03 | 0.4792 |\n| 3182 | GO:0036474 | -0.3016 | 0.03 | 0.4792 |\n| 3237 | GO:0042026 | -0.6276 | 0.03 | 0.4792 |\n| 3280 | GO:0042219 | -0.3162 | 0.03 | 0.4792 |\n| 3526 | GO:0043473 | -0.2182 | 0.03 | 0.4792 |\n| 3751 | GO:0045324 | -0.8269 | 0.03 | 0.4792 |\n| 3935 | GO:0046037 | -0.5328 | 0.03 | 0.4792 |\n| 4006 | GO:0046488 | -0.2783 | 0.03 | 0.4792 |\n| 4072 | GO:0046755 | -0.6984 | 0.03 | 0.4792 |\n| 4146 | GO:0048172 | -0.9939 | 0.03 | 0.4792 |\n| 4293 | GO:0048791 | -1.4066 | 0.03 | 0.4792 |\n| 4564 | GO:0051260 | -0.1723 | 0.03 | 0.4792 |\n| 4617 | GO:0051438 | -0.32   | 0.03 | 0.4792 |\n| 5107 | GO:0061462 | -0.357  | 0.03 | 0.4792 |\n| 5418 | GO:0071501 | -0.5683 | 0.03 | 0.4792 |\n| 5497 | GO:0071985 | -0.4464 | 0.03 | 0.4792 |\n| 5838 | GO:0097345 | -0.5219 | 0.03 | 0.4792 |\n| 5849 | GO:0097479 | -0.6057 | 0.03 | 0.4792 |\n| 6141 | GO:1901019 | -0.4407 | 0.03 | 0.4792 |\n| 6255 | GO:1901984 | -0.3658 | 0.03 | 0.4792 |\n| 6315 | GO:1902410 | -0.5623 | 0.03 | 0.4792 |\n| 6353 | GO:1902774 | -0.6751 | 0.03 | 0.4792 |\n| 6597 | GO:1904872 | -1.1568 | 0.03 | 0.4792 |\n| 6598 | GO:1904874 | -1.3255 | 0.03 | 0.4792 |\n| 6807 | GO:2000573 | -0.3411 | 0.03 | 0.4792 |\n| 6813 | GO:2000641 | -0.471  | 0.03 | 0.4792 |\n\n",
      "text/latex": "A matrix: 324 × 5 of type chr\n\\begin{tabular}{lllll}\n Gene\\_set & Gene\\_set\\_name & Score & p-value & FDR\\\\\n\\hline\n\t 55   & GO:0000422 & -0.5436 & 0 & 0\\\\\n\t 620  & GO:0006091 & -0.4743 & 0 & 0\\\\\n\t 724  & GO:0006418 & -0.9139 & 0 & 0\\\\\n\t 783  & GO:0006595 & -0.4823 & 0 & 0\\\\\n\t 784  & GO:0006596 & -0.5397 & 0 & 0\\\\\n\t 785  & GO:0006605 & -0.4504 & 0 & 0\\\\\n\t 983  & GO:0007029 & -0.4715 & 0 & 0\\\\\n\t 986  & GO:0007032 & -0.5574 & 0 & 0\\\\\n\t 988  & GO:0007034 & -0.3837 & 0 & 0\\\\\n\t 1129 & GO:0007528 & -0.5997 & 0 & 0\\\\\n\t 1803 & GO:0016050 & -0.3655 & 0 & 0\\\\\n\t 1871 & GO:0016574 & -0.4542 & 0 & 0\\\\\n\t 1889 & GO:0017158 & -0.8761 & 0 & 0\\\\\n\t 2057 & GO:0021762 & -0.5237 & 0 & 0\\\\\n\t 2115 & GO:0022411 & -0.2343 & 0 & 0\\\\\n\t 2390 & GO:0031396 & -0.2651 & 0 & 0\\\\\n\t 2392 & GO:0031398 & -0.3975 & 0 & 0\\\\\n\t 2426 & GO:0031647 & -0.2763 & 0 & 0\\\\\n\t 2540 & GO:0032386 & -0.2937 & 0 & 0\\\\\n\t 2542 & GO:0032388 & -0.2457 & 0 & 0\\\\\n\t 2555 & GO:0032434 & -0.3344 & 0 & 0\\\\\n\t 2567 & GO:0032482 & -0.7081 & 0 & 0\\\\\n\t 2797 & GO:0033522 & -0.6118 & 0 & 0\\\\\n\t 2916 & GO:0034389 & -0.6081 & 0 & 0\\\\\n\t 3049 & GO:0035372 & -0.4346 & 0 & 0\\\\\n\t 3274 & GO:0042176 & -0.2968 & 0 & 0\\\\\n\t 3275 & GO:0042177 & -0.3532 & 0 & 0\\\\\n\t 3392 & GO:0042776 & -0.9895 & 0 & 0\\\\\n\t 3395 & GO:0042795 & -0.9218 & 0 & 0\\\\\n\t 3419 & GO:0043038 & -0.8869 & 0 & 0\\\\\n\t ⋮ & ⋮ & ⋮ & ⋮ & ⋮\\\\\n\t 2375 & GO:0031331 & -0.1246 & 0.03 & 0.4792\\\\\n\t 2378 & GO:0031338 & -0.7277 & 0.03 & 0.4792\\\\\n\t 2502 & GO:0032272 & -0.287  & 0.03 & 0.4792\\\\\n\t 2563 & GO:0032469 & -0.2878 & 0.03 & 0.4792\\\\\n\t 2703 & GO:0032933 & -0.6218 & 0.03 & 0.4792\\\\\n\t 3182 & GO:0036474 & -0.3016 & 0.03 & 0.4792\\\\\n\t 3237 & GO:0042026 & -0.6276 & 0.03 & 0.4792\\\\\n\t 3280 & GO:0042219 & -0.3162 & 0.03 & 0.4792\\\\\n\t 3526 & GO:0043473 & -0.2182 & 0.03 & 0.4792\\\\\n\t 3751 & GO:0045324 & -0.8269 & 0.03 & 0.4792\\\\\n\t 3935 & GO:0046037 & -0.5328 & 0.03 & 0.4792\\\\\n\t 4006 & GO:0046488 & -0.2783 & 0.03 & 0.4792\\\\\n\t 4072 & GO:0046755 & -0.6984 & 0.03 & 0.4792\\\\\n\t 4146 & GO:0048172 & -0.9939 & 0.03 & 0.4792\\\\\n\t 4293 & GO:0048791 & -1.4066 & 0.03 & 0.4792\\\\\n\t 4564 & GO:0051260 & -0.1723 & 0.03 & 0.4792\\\\\n\t 4617 & GO:0051438 & -0.32   & 0.03 & 0.4792\\\\\n\t 5107 & GO:0061462 & -0.357  & 0.03 & 0.4792\\\\\n\t 5418 & GO:0071501 & -0.5683 & 0.03 & 0.4792\\\\\n\t 5497 & GO:0071985 & -0.4464 & 0.03 & 0.4792\\\\\n\t 5838 & GO:0097345 & -0.5219 & 0.03 & 0.4792\\\\\n\t 5849 & GO:0097479 & -0.6057 & 0.03 & 0.4792\\\\\n\t 6141 & GO:1901019 & -0.4407 & 0.03 & 0.4792\\\\\n\t 6255 & GO:1901984 & -0.3658 & 0.03 & 0.4792\\\\\n\t 6315 & GO:1902410 & -0.5623 & 0.03 & 0.4792\\\\\n\t 6353 & GO:1902774 & -0.6751 & 0.03 & 0.4792\\\\\n\t 6597 & GO:1904872 & -1.1568 & 0.03 & 0.4792\\\\\n\t 6598 & GO:1904874 & -1.3255 & 0.03 & 0.4792\\\\\n\t 6807 & GO:2000573 & -0.3411 & 0.03 & 0.4792\\\\\n\t 6813 & GO:2000641 & -0.471  & 0.03 & 0.4792\\\\\n\\end{tabular}\n",
      "text/plain": "      Gene_set Gene_set_name Score   p-value FDR   \n [1,] 55       GO:0000422    -0.5436 0       0     \n [2,] 620      GO:0006091    -0.4743 0       0     \n [3,] 724      GO:0006418    -0.9139 0       0     \n [4,] 783      GO:0006595    -0.4823 0       0     \n [5,] 784      GO:0006596    -0.5397 0       0     \n [6,] 785      GO:0006605    -0.4504 0       0     \n [7,] 983      GO:0007029    -0.4715 0       0     \n [8,] 986      GO:0007032    -0.5574 0       0     \n [9,] 988      GO:0007034    -0.3837 0       0     \n[10,] 1129     GO:0007528    -0.5997 0       0     \n[11,] 1803     GO:0016050    -0.3655 0       0     \n[12,] 1871     GO:0016574    -0.4542 0       0     \n[13,] 1889     GO:0017158    -0.8761 0       0     \n[14,] 2057     GO:0021762    -0.5237 0       0     \n[15,] 2115     GO:0022411    -0.2343 0       0     \n[16,] 2390     GO:0031396    -0.2651 0       0     \n[17,] 2392     GO:0031398    -0.3975 0       0     \n[18,] 2426     GO:0031647    -0.2763 0       0     \n[19,] 2540     GO:0032386    -0.2937 0       0     \n[20,] 2542     GO:0032388    -0.2457 0       0     \n[21,] 2555     GO:0032434    -0.3344 0       0     \n[22,] 2567     GO:0032482    -0.7081 0       0     \n[23,] 2797     GO:0033522    -0.6118 0       0     \n[24,] 2916     GO:0034389    -0.6081 0       0     \n[25,] 3049     GO:0035372    -0.4346 0       0     \n[26,] 3274     GO:0042176    -0.2968 0       0     \n[27,] 3275     GO:0042177    -0.3532 0       0     \n[28,] 3392     GO:0042776    -0.9895 0       0     \n[29,] 3395     GO:0042795    -0.9218 0       0     \n[30,] 3419     GO:0043038    -0.8869 0       0     \n[31,] ⋮        ⋮             ⋮       ⋮       ⋮     \n[32,] 2375     GO:0031331    -0.1246 0.03    0.4792\n[33,] 2378     GO:0031338    -0.7277 0.03    0.4792\n[34,] 2502     GO:0032272    -0.287  0.03    0.4792\n[35,] 2563     GO:0032469    -0.2878 0.03    0.4792\n[36,] 2703     GO:0032933    -0.6218 0.03    0.4792\n[37,] 3182     GO:0036474    -0.3016 0.03    0.4792\n[38,] 3237     GO:0042026    -0.6276 0.03    0.4792\n[39,] 3280     GO:0042219    -0.3162 0.03    0.4792\n[40,] 3526     GO:0043473    -0.2182 0.03    0.4792\n[41,] 3751     GO:0045324    -0.8269 0.03    0.4792\n[42,] 3935     GO:0046037    -0.5328 0.03    0.4792\n[43,] 4006     GO:0046488    -0.2783 0.03    0.4792\n[44,] 4072     GO:0046755    -0.6984 0.03    0.4792\n[45,] 4146     GO:0048172    -0.9939 0.03    0.4792\n[46,] 4293     GO:0048791    -1.4066 0.03    0.4792\n[47,] 4564     GO:0051260    -0.1723 0.03    0.4792\n[48,] 4617     GO:0051438    -0.32   0.03    0.4792\n[49,] 5107     GO:0061462    -0.357  0.03    0.4792\n[50,] 5418     GO:0071501    -0.5683 0.03    0.4792\n[51,] 5497     GO:0071985    -0.4464 0.03    0.4792\n[52,] 5838     GO:0097345    -0.5219 0.03    0.4792\n[53,] 5849     GO:0097479    -0.6057 0.03    0.4792\n[54,] 6141     GO:1901019    -0.4407 0.03    0.4792\n[55,] 6255     GO:1901984    -0.3658 0.03    0.4792\n[56,] 6315     GO:1902410    -0.5623 0.03    0.4792\n[57,] 6353     GO:1902774    -0.6751 0.03    0.4792\n[58,] 6597     GO:1904872    -1.1568 0.03    0.4792\n[59,] 6598     GO:1904874    -1.3255 0.03    0.4792\n[60,] 6807     GO:2000573    -0.3411 0.03    0.4792\n[61,] 6813     GO:2000641    -0.471  0.03    0.4792"
     },
     "metadata": {},
     "output_type": "display_data"
    }
   ],
   "source": [
    "neg.table <-res$negative\n",
    "head(neg.table)"
   ],
   "metadata": {
    "collapsed": false
   }
  },
  {
   "cell_type": "markdown",
   "source": [
    "A table of the positive gene sets. \"Positive\" means that higher expression of most genes in the gene set correlates with higher values of the phenotype y."
   ],
   "metadata": {
    "collapsed": false
   }
  },
  {
   "cell_type": "code",
   "execution_count": 64,
   "outputs": [
    {
     "data": {
      "text/html": "<table class=\"dataframe\">\n<caption>A matrix: 54 × 5 of type chr</caption>\n<thead>\n\t<tr><th scope=col>Gene_set</th><th scope=col>Gene_set_name</th><th scope=col>Score</th><th scope=col>p-value</th><th scope=col>FDR</th></tr>\n</thead>\n<tbody>\n\t<tr><td>926 </td><td>GO:0006911</td><td>0.5136</td><td>0    </td><td>0     </td></tr>\n\t<tr><td>1115</td><td>GO:0007422</td><td>0.361 </td><td>0    </td><td>0     </td></tr>\n\t<tr><td>1688</td><td>GO:0014037</td><td>0.6887</td><td>0    </td><td>0     </td></tr>\n\t<tr><td>1689</td><td>GO:0014044</td><td>0.95  </td><td>0    </td><td>0     </td></tr>\n\t<tr><td>1740</td><td>GO:0014912</td><td>0.5144</td><td>0    </td><td>0     </td></tr>\n\t<tr><td>1885</td><td>GO:0017145</td><td>0.5955</td><td>0    </td><td>0     </td></tr>\n\t<tr><td>2021</td><td>GO:0021533</td><td>0.5946</td><td>0    </td><td>0     </td></tr>\n\t<tr><td>2048</td><td>GO:0021692</td><td>0.662 </td><td>0    </td><td>0     </td></tr>\n\t<tr><td>2049</td><td>GO:0021694</td><td>0.8817</td><td>0    </td><td>0     </td></tr>\n\t<tr><td>2100</td><td>GO:0022011</td><td>1.0103</td><td>0    </td><td>0     </td></tr>\n\t<tr><td>2406</td><td>GO:0031532</td><td>0.306 </td><td>0    </td><td>0     </td></tr>\n\t<tr><td>2510</td><td>GO:0032292</td><td>1.0103</td><td>0    </td><td>0     </td></tr>\n\t<tr><td>2651</td><td>GO:0032735</td><td>0.565 </td><td>0    </td><td>0     </td></tr>\n\t<tr><td>2815</td><td>GO:0033627</td><td>0.3499</td><td>0    </td><td>0     </td></tr>\n\t<tr><td>2856</td><td>GO:0034113</td><td>0.5006</td><td>0    </td><td>0     </td></tr>\n\t<tr><td>2862</td><td>GO:0034123</td><td>0.8211</td><td>0    </td><td>0     </td></tr>\n\t<tr><td>2988</td><td>GO:0035025</td><td>0.6194</td><td>0    </td><td>0     </td></tr>\n\t<tr><td>4301</td><td>GO:0048839</td><td>0.2162</td><td>0    </td><td>0     </td></tr>\n\t<tr><td>4341</td><td>GO:0050679</td><td>0.2455</td><td>0    </td><td>0     </td></tr>\n\t<tr><td>4810</td><td>GO:0060021</td><td>0.3291</td><td>0    </td><td>0     </td></tr>\n\t<tr><td>4935</td><td>GO:0060416</td><td>0.3604</td><td>0    </td><td>0     </td></tr>\n\t<tr><td>5031</td><td>GO:0060977</td><td>0.8012</td><td>0    </td><td>0     </td></tr>\n\t<tr><td>5723</td><td>GO:0090239</td><td>0.9812</td><td>0    </td><td>0     </td></tr>\n\t<tr><td>5933</td><td>GO:0099024</td><td>0.4486</td><td>0    </td><td>0     </td></tr>\n\t<tr><td>6583</td><td>GO:1904738</td><td>0.8306</td><td>0    </td><td>0     </td></tr>\n\t<tr><td>6585</td><td>GO:1904752</td><td>0.8936</td><td>0    </td><td>0     </td></tr>\n\t<tr><td>542 </td><td>GO:0003222</td><td>0.7784</td><td>0.005</td><td>0.4792</td></tr>\n\t<tr><td>1215</td><td>GO:0008360</td><td>0.3628</td><td>0.005</td><td>0.4792</td></tr>\n\t<tr><td>1460</td><td>GO:0010324</td><td>0.3735</td><td>0.005</td><td>0.4792</td></tr>\n\t<tr><td>1620</td><td>GO:0010875</td><td>0.5691</td><td>0.005</td><td>0.4792</td></tr>\n\t<tr><td>2029</td><td>GO:0021545</td><td>0.345 </td><td>0.005</td><td>0.4792</td></tr>\n\t<tr><td>2228</td><td>GO:0030325</td><td>0.4877</td><td>0.005</td><td>0.4792</td></tr>\n\t<tr><td>2291</td><td>GO:0030865</td><td>0.4137</td><td>0.005</td><td>0.4792</td></tr>\n\t<tr><td>2292</td><td>GO:0030866</td><td>0.4628</td><td>0.005</td><td>0.4792</td></tr>\n\t<tr><td>2597</td><td>GO:0032607</td><td>0.784 </td><td>0.005</td><td>0.4792</td></tr>\n\t<tr><td>2602</td><td>GO:0032613</td><td>0.4878</td><td>0.005</td><td>0.4792</td></tr>\n\t<tr><td>2615</td><td>GO:0032647</td><td>0.784 </td><td>0.005</td><td>0.4792</td></tr>\n\t<tr><td>2620</td><td>GO:0032653</td><td>0.4878</td><td>0.005</td><td>0.4792</td></tr>\n\t<tr><td>2645</td><td>GO:0032727</td><td>0.8184</td><td>0.005</td><td>0.4792</td></tr>\n\t<tr><td>2650</td><td>GO:0032733</td><td>0.5969</td><td>0.005</td><td>0.4792</td></tr>\n\t<tr><td>2852</td><td>GO:0034109</td><td>0.3169</td><td>0.005</td><td>0.4792</td></tr>\n\t<tr><td>2871</td><td>GO:0034162</td><td>0.7557</td><td>0.005</td><td>0.4792</td></tr>\n\t<tr><td>2926</td><td>GO:0034433</td><td>0.532 </td><td>0.005</td><td>0.4792</td></tr>\n\t<tr><td>2927</td><td>GO:0034434</td><td>0.532 </td><td>0.005</td><td>0.4792</td></tr>\n\t<tr><td>2928</td><td>GO:0034435</td><td>0.532 </td><td>0.005</td><td>0.4792</td></tr>\n\t<tr><td>2986</td><td>GO:0035023</td><td>0.2695</td><td>0.005</td><td>0.4792</td></tr>\n\t<tr><td>3254</td><td>GO:0042104</td><td>0.602 </td><td>0.005</td><td>0.4792</td></tr>\n\t<tr><td>3541</td><td>GO:0043508</td><td>0.6886</td><td>0.005</td><td>0.4792</td></tr>\n\t<tr><td>3594</td><td>GO:0043923</td><td>0.8746</td><td>0.005</td><td>0.4792</td></tr>\n\t<tr><td>3772</td><td>GO:0045580</td><td>0.332 </td><td>0.005</td><td>0.4792</td></tr>\n\t<tr><td>3790</td><td>GO:0045619</td><td>0.283 </td><td>0.005</td><td>0.4792</td></tr>\n\t<tr><td>4381</td><td>GO:0050798</td><td>0.4784</td><td>0.005</td><td>0.4792</td></tr>\n\t<tr><td>4473</td><td>GO:0051016</td><td>0.5257</td><td>0.005</td><td>0.4792</td></tr>\n\t<tr><td>5494</td><td>GO:0071901</td><td>0.2348</td><td>0.005</td><td>0.4792</td></tr>\n</tbody>\n</table>\n",
      "text/markdown": "\nA matrix: 54 × 5 of type chr\n\n| Gene_set | Gene_set_name | Score | p-value | FDR |\n|---|---|---|---|---|\n| 926  | GO:0006911 | 0.5136 | 0     | 0      |\n| 1115 | GO:0007422 | 0.361  | 0     | 0      |\n| 1688 | GO:0014037 | 0.6887 | 0     | 0      |\n| 1689 | GO:0014044 | 0.95   | 0     | 0      |\n| 1740 | GO:0014912 | 0.5144 | 0     | 0      |\n| 1885 | GO:0017145 | 0.5955 | 0     | 0      |\n| 2021 | GO:0021533 | 0.5946 | 0     | 0      |\n| 2048 | GO:0021692 | 0.662  | 0     | 0      |\n| 2049 | GO:0021694 | 0.8817 | 0     | 0      |\n| 2100 | GO:0022011 | 1.0103 | 0     | 0      |\n| 2406 | GO:0031532 | 0.306  | 0     | 0      |\n| 2510 | GO:0032292 | 1.0103 | 0     | 0      |\n| 2651 | GO:0032735 | 0.565  | 0     | 0      |\n| 2815 | GO:0033627 | 0.3499 | 0     | 0      |\n| 2856 | GO:0034113 | 0.5006 | 0     | 0      |\n| 2862 | GO:0034123 | 0.8211 | 0     | 0      |\n| 2988 | GO:0035025 | 0.6194 | 0     | 0      |\n| 4301 | GO:0048839 | 0.2162 | 0     | 0      |\n| 4341 | GO:0050679 | 0.2455 | 0     | 0      |\n| 4810 | GO:0060021 | 0.3291 | 0     | 0      |\n| 4935 | GO:0060416 | 0.3604 | 0     | 0      |\n| 5031 | GO:0060977 | 0.8012 | 0     | 0      |\n| 5723 | GO:0090239 | 0.9812 | 0     | 0      |\n| 5933 | GO:0099024 | 0.4486 | 0     | 0      |\n| 6583 | GO:1904738 | 0.8306 | 0     | 0      |\n| 6585 | GO:1904752 | 0.8936 | 0     | 0      |\n| 542  | GO:0003222 | 0.7784 | 0.005 | 0.4792 |\n| 1215 | GO:0008360 | 0.3628 | 0.005 | 0.4792 |\n| 1460 | GO:0010324 | 0.3735 | 0.005 | 0.4792 |\n| 1620 | GO:0010875 | 0.5691 | 0.005 | 0.4792 |\n| 2029 | GO:0021545 | 0.345  | 0.005 | 0.4792 |\n| 2228 | GO:0030325 | 0.4877 | 0.005 | 0.4792 |\n| 2291 | GO:0030865 | 0.4137 | 0.005 | 0.4792 |\n| 2292 | GO:0030866 | 0.4628 | 0.005 | 0.4792 |\n| 2597 | GO:0032607 | 0.784  | 0.005 | 0.4792 |\n| 2602 | GO:0032613 | 0.4878 | 0.005 | 0.4792 |\n| 2615 | GO:0032647 | 0.784  | 0.005 | 0.4792 |\n| 2620 | GO:0032653 | 0.4878 | 0.005 | 0.4792 |\n| 2645 | GO:0032727 | 0.8184 | 0.005 | 0.4792 |\n| 2650 | GO:0032733 | 0.5969 | 0.005 | 0.4792 |\n| 2852 | GO:0034109 | 0.3169 | 0.005 | 0.4792 |\n| 2871 | GO:0034162 | 0.7557 | 0.005 | 0.4792 |\n| 2926 | GO:0034433 | 0.532  | 0.005 | 0.4792 |\n| 2927 | GO:0034434 | 0.532  | 0.005 | 0.4792 |\n| 2928 | GO:0034435 | 0.532  | 0.005 | 0.4792 |\n| 2986 | GO:0035023 | 0.2695 | 0.005 | 0.4792 |\n| 3254 | GO:0042104 | 0.602  | 0.005 | 0.4792 |\n| 3541 | GO:0043508 | 0.6886 | 0.005 | 0.4792 |\n| 3594 | GO:0043923 | 0.8746 | 0.005 | 0.4792 |\n| 3772 | GO:0045580 | 0.332  | 0.005 | 0.4792 |\n| 3790 | GO:0045619 | 0.283  | 0.005 | 0.4792 |\n| 4381 | GO:0050798 | 0.4784 | 0.005 | 0.4792 |\n| 4473 | GO:0051016 | 0.5257 | 0.005 | 0.4792 |\n| 5494 | GO:0071901 | 0.2348 | 0.005 | 0.4792 |\n\n",
      "text/latex": "A matrix: 54 × 5 of type chr\n\\begin{tabular}{lllll}\n Gene\\_set & Gene\\_set\\_name & Score & p-value & FDR\\\\\n\\hline\n\t 926  & GO:0006911 & 0.5136 & 0     & 0     \\\\\n\t 1115 & GO:0007422 & 0.361  & 0     & 0     \\\\\n\t 1688 & GO:0014037 & 0.6887 & 0     & 0     \\\\\n\t 1689 & GO:0014044 & 0.95   & 0     & 0     \\\\\n\t 1740 & GO:0014912 & 0.5144 & 0     & 0     \\\\\n\t 1885 & GO:0017145 & 0.5955 & 0     & 0     \\\\\n\t 2021 & GO:0021533 & 0.5946 & 0     & 0     \\\\\n\t 2048 & GO:0021692 & 0.662  & 0     & 0     \\\\\n\t 2049 & GO:0021694 & 0.8817 & 0     & 0     \\\\\n\t 2100 & GO:0022011 & 1.0103 & 0     & 0     \\\\\n\t 2406 & GO:0031532 & 0.306  & 0     & 0     \\\\\n\t 2510 & GO:0032292 & 1.0103 & 0     & 0     \\\\\n\t 2651 & GO:0032735 & 0.565  & 0     & 0     \\\\\n\t 2815 & GO:0033627 & 0.3499 & 0     & 0     \\\\\n\t 2856 & GO:0034113 & 0.5006 & 0     & 0     \\\\\n\t 2862 & GO:0034123 & 0.8211 & 0     & 0     \\\\\n\t 2988 & GO:0035025 & 0.6194 & 0     & 0     \\\\\n\t 4301 & GO:0048839 & 0.2162 & 0     & 0     \\\\\n\t 4341 & GO:0050679 & 0.2455 & 0     & 0     \\\\\n\t 4810 & GO:0060021 & 0.3291 & 0     & 0     \\\\\n\t 4935 & GO:0060416 & 0.3604 & 0     & 0     \\\\\n\t 5031 & GO:0060977 & 0.8012 & 0     & 0     \\\\\n\t 5723 & GO:0090239 & 0.9812 & 0     & 0     \\\\\n\t 5933 & GO:0099024 & 0.4486 & 0     & 0     \\\\\n\t 6583 & GO:1904738 & 0.8306 & 0     & 0     \\\\\n\t 6585 & GO:1904752 & 0.8936 & 0     & 0     \\\\\n\t 542  & GO:0003222 & 0.7784 & 0.005 & 0.4792\\\\\n\t 1215 & GO:0008360 & 0.3628 & 0.005 & 0.4792\\\\\n\t 1460 & GO:0010324 & 0.3735 & 0.005 & 0.4792\\\\\n\t 1620 & GO:0010875 & 0.5691 & 0.005 & 0.4792\\\\\n\t 2029 & GO:0021545 & 0.345  & 0.005 & 0.4792\\\\\n\t 2228 & GO:0030325 & 0.4877 & 0.005 & 0.4792\\\\\n\t 2291 & GO:0030865 & 0.4137 & 0.005 & 0.4792\\\\\n\t 2292 & GO:0030866 & 0.4628 & 0.005 & 0.4792\\\\\n\t 2597 & GO:0032607 & 0.784  & 0.005 & 0.4792\\\\\n\t 2602 & GO:0032613 & 0.4878 & 0.005 & 0.4792\\\\\n\t 2615 & GO:0032647 & 0.784  & 0.005 & 0.4792\\\\\n\t 2620 & GO:0032653 & 0.4878 & 0.005 & 0.4792\\\\\n\t 2645 & GO:0032727 & 0.8184 & 0.005 & 0.4792\\\\\n\t 2650 & GO:0032733 & 0.5969 & 0.005 & 0.4792\\\\\n\t 2852 & GO:0034109 & 0.3169 & 0.005 & 0.4792\\\\\n\t 2871 & GO:0034162 & 0.7557 & 0.005 & 0.4792\\\\\n\t 2926 & GO:0034433 & 0.532  & 0.005 & 0.4792\\\\\n\t 2927 & GO:0034434 & 0.532  & 0.005 & 0.4792\\\\\n\t 2928 & GO:0034435 & 0.532  & 0.005 & 0.4792\\\\\n\t 2986 & GO:0035023 & 0.2695 & 0.005 & 0.4792\\\\\n\t 3254 & GO:0042104 & 0.602  & 0.005 & 0.4792\\\\\n\t 3541 & GO:0043508 & 0.6886 & 0.005 & 0.4792\\\\\n\t 3594 & GO:0043923 & 0.8746 & 0.005 & 0.4792\\\\\n\t 3772 & GO:0045580 & 0.332  & 0.005 & 0.4792\\\\\n\t 3790 & GO:0045619 & 0.283  & 0.005 & 0.4792\\\\\n\t 4381 & GO:0050798 & 0.4784 & 0.005 & 0.4792\\\\\n\t 4473 & GO:0051016 & 0.5257 & 0.005 & 0.4792\\\\\n\t 5494 & GO:0071901 & 0.2348 & 0.005 & 0.4792\\\\\n\\end{tabular}\n",
      "text/plain": "      Gene_set Gene_set_name Score  p-value FDR   \n [1,] 926      GO:0006911    0.5136 0       0     \n [2,] 1115     GO:0007422    0.361  0       0     \n [3,] 1688     GO:0014037    0.6887 0       0     \n [4,] 1689     GO:0014044    0.95   0       0     \n [5,] 1740     GO:0014912    0.5144 0       0     \n [6,] 1885     GO:0017145    0.5955 0       0     \n [7,] 2021     GO:0021533    0.5946 0       0     \n [8,] 2048     GO:0021692    0.662  0       0     \n [9,] 2049     GO:0021694    0.8817 0       0     \n[10,] 2100     GO:0022011    1.0103 0       0     \n[11,] 2406     GO:0031532    0.306  0       0     \n[12,] 2510     GO:0032292    1.0103 0       0     \n[13,] 2651     GO:0032735    0.565  0       0     \n[14,] 2815     GO:0033627    0.3499 0       0     \n[15,] 2856     GO:0034113    0.5006 0       0     \n[16,] 2862     GO:0034123    0.8211 0       0     \n[17,] 2988     GO:0035025    0.6194 0       0     \n[18,] 4301     GO:0048839    0.2162 0       0     \n[19,] 4341     GO:0050679    0.2455 0       0     \n[20,] 4810     GO:0060021    0.3291 0       0     \n[21,] 4935     GO:0060416    0.3604 0       0     \n[22,] 5031     GO:0060977    0.8012 0       0     \n[23,] 5723     GO:0090239    0.9812 0       0     \n[24,] 5933     GO:0099024    0.4486 0       0     \n[25,] 6583     GO:1904738    0.8306 0       0     \n[26,] 6585     GO:1904752    0.8936 0       0     \n[27,] 542      GO:0003222    0.7784 0.005   0.4792\n[28,] 1215     GO:0008360    0.3628 0.005   0.4792\n[29,] 1460     GO:0010324    0.3735 0.005   0.4792\n[30,] 1620     GO:0010875    0.5691 0.005   0.4792\n[31,] 2029     GO:0021545    0.345  0.005   0.4792\n[32,] 2228     GO:0030325    0.4877 0.005   0.4792\n[33,] 2291     GO:0030865    0.4137 0.005   0.4792\n[34,] 2292     GO:0030866    0.4628 0.005   0.4792\n[35,] 2597     GO:0032607    0.784  0.005   0.4792\n[36,] 2602     GO:0032613    0.4878 0.005   0.4792\n[37,] 2615     GO:0032647    0.784  0.005   0.4792\n[38,] 2620     GO:0032653    0.4878 0.005   0.4792\n[39,] 2645     GO:0032727    0.8184 0.005   0.4792\n[40,] 2650     GO:0032733    0.5969 0.005   0.4792\n[41,] 2852     GO:0034109    0.3169 0.005   0.4792\n[42,] 2871     GO:0034162    0.7557 0.005   0.4792\n[43,] 2926     GO:0034433    0.532  0.005   0.4792\n[44,] 2927     GO:0034434    0.532  0.005   0.4792\n[45,] 2928     GO:0034435    0.532  0.005   0.4792\n[46,] 2986     GO:0035023    0.2695 0.005   0.4792\n[47,] 3254     GO:0042104    0.602  0.005   0.4792\n[48,] 3541     GO:0043508    0.6886 0.005   0.4792\n[49,] 3594     GO:0043923    0.8746 0.005   0.4792\n[50,] 3772     GO:0045580    0.332  0.005   0.4792\n[51,] 3790     GO:0045619    0.283  0.005   0.4792\n[52,] 4381     GO:0050798    0.4784 0.005   0.4792\n[53,] 4473     GO:0051016    0.5257 0.005   0.4792\n[54,] 5494     GO:0071901    0.2348 0.005   0.4792"
     },
     "metadata": {},
     "output_type": "display_data"
    }
   ],
   "source": [
    "pos.table <-res$positive\n",
    "head(pos.table)"
   ],
   "metadata": {
    "collapsed": false
   }
  },
  {
   "cell_type": "code",
   "execution_count": 65,
   "outputs": [
    {
     "data": {
      "text/html": "<table class=\"dataframe\">\n<caption>A matrix: 12 × 2 of type chr</caption>\n<thead>\n\t<tr><th scope=col>Gene</th><th scope=col>Score</th></tr>\n</thead>\n<tbody>\n\t<tr><td>CEBPA   </td><td>1.553 </td></tr>\n\t<tr><td>NAGS    </td><td>0.686 </td></tr>\n\t<tr><td>OTC     </td><td>0.396 </td></tr>\n\t<tr><td>ORC1    </td><td>0.2   </td></tr>\n\t<tr><td>CPS1    </td><td>-0.097</td></tr>\n\t<tr><td>ARG1    </td><td>-0.632</td></tr>\n\t<tr><td>SLC25A2 </td><td>-0.782</td></tr>\n\t<tr><td>ORC2    </td><td>-0.872</td></tr>\n\t<tr><td>ASL     </td><td>-0.893</td></tr>\n\t<tr><td>ASS1    </td><td>-1.177</td></tr>\n\t<tr><td>SLC25A15</td><td>-1.925</td></tr>\n\t<tr><td>ARG2    </td><td>-2.268</td></tr>\n</tbody>\n</table>\n",
      "text/markdown": "\nA matrix: 12 × 2 of type chr\n\n| Gene | Score |\n|---|---|\n| CEBPA    | 1.553  |\n| NAGS     | 0.686  |\n| OTC      | 0.396  |\n| ORC1     | 0.2    |\n| CPS1     | -0.097 |\n| ARG1     | -0.632 |\n| SLC25A2  | -0.782 |\n| ORC2     | -0.872 |\n| ASL      | -0.893 |\n| ASS1     | -1.177 |\n| SLC25A15 | -1.925 |\n| ARG2     | -2.268 |\n\n",
      "text/latex": "A matrix: 12 × 2 of type chr\n\\begin{tabular}{ll}\n Gene & Score\\\\\n\\hline\n\t CEBPA    & 1.553 \\\\\n\t NAGS     & 0.686 \\\\\n\t OTC      & 0.396 \\\\\n\t ORC1     & 0.2   \\\\\n\t CPS1     & -0.097\\\\\n\t ARG1     & -0.632\\\\\n\t SLC25A2  & -0.782\\\\\n\t ORC2     & -0.872\\\\\n\t ASL      & -0.893\\\\\n\t ASS1     & -1.177\\\\\n\t SLC25A15 & -1.925\\\\\n\t ARG2     & -2.268\\\\\n\\end{tabular}\n",
      "text/plain": "      Gene     Score \n [1,] CEBPA    1.553 \n [2,] NAGS     0.686 \n [3,] OTC      0.396 \n [4,] ORC1     0.2   \n [5,] CPS1     -0.097\n [6,] ARG1     -0.632\n [7,] SLC25A2  -0.782\n [8,] ORC2     -0.872\n [9,] ASL      -0.893\n[10,] ASS1     -1.177\n[11,] SLC25A15 -1.925\n[12,] ARG2     -2.268"
     },
     "metadata": {},
     "output_type": "display_data"
    }
   ],
   "source": [
    "# Individual gene scores from a gene set analysis\n",
    "# look at 10th gene set\n",
    "GSA.genescores(10, genesets, GSA.obj, genenames)"
   ],
   "metadata": {
    "collapsed": false
   }
  },
  {
   "cell_type": "code",
   "execution_count": 66,
   "outputs": [
    {
     "name": "stderr",
     "output_type": "stream",
     "text": [
      "Warning message in xy.coords(x, y, xlabel, ylabel, log):\n",
      "\"15 y values <= 0 omitted from logarithmic plot\"\n"
     ]
    },
    {
     "data": {
      "text/plain": "plot without title",
      "image/png": "[encoded data removed]"
     },
     "metadata": {
      "image/png": {
       "width": 420,
       "height": 420
      }
     },
     "output_type": "display_data"
    }
   ],
   "source": [
    "# Plot the result, this function makes a plot of the significant gene sets, based on a call to the GSA (Gene set analysis) function.\n",
    "suppressWarnings(GSA.plot(GSA.obj, fac=1, FDRcut = 0.5))"
   ],
   "metadata": {
    "collapsed": false
   }
  },
  {
   "cell_type": "markdown",
   "source": [
    "### GSA Enrichment analysis using KEGG pathways\n",
    "We can use the same procedure to per enrichment analyis with KEGG pathway. All the codes are similar but `genesets` are assigned from `KEGG_hallmark`. The code is shown below."
   ],
   "metadata": {
    "collapsed": false
   }
  },
  {
   "cell_type": "code",
   "execution_count": 77,
   "outputs": [
    {
     "name": "stdout",
     "output_type": "stream",
     "text": [
      "perm= 10 / 100 \n",
      "perm= 20 / 100 \n",
      "perm= 30 / 100 \n",
      "perm= 40 / 100 \n",
      "perm= 50 / 100 \n",
      "perm= 60 / 100 \n",
      "perm= 70 / 100 \n",
      "perm= 80 / 100 \n",
      "perm= 90 / 100 \n",
      "perm= 100 / 100 \n"
     ]
    }
   ],
   "source": [
    "genesets = KEGG_hallmark\n",
    "GSA.obj<-GSA(as.matrix(new_expression_data),as.numeric(groups$groups), genenames=genenames, genesets=genesets, resp.type=\"Two class unpaired\", nperms=100)"
   ],
   "metadata": {
    "collapsed": false
   }
  },
  {
   "cell_type": "code",
   "execution_count": 78,
   "outputs": [],
   "source": [
    "# List the results from a GSA analysis\n",
    "res <- GSA.listsets(GSA.obj, geneset.names=names(genesets),FDRcut=.5)"
   ],
   "metadata": {
    "collapsed": false
   }
  },
  {
   "cell_type": "markdown",
   "source": [
    "A table of the negative gene sets. \"Negative\" means that lower expression of most genes in the gene set correlates with higher values of the phenotype y. Eg for two classes coded 1,2, lower expression correlates with class 2."
   ],
   "metadata": {
    "collapsed": false
   }
  },
  {
   "cell_type": "code",
   "execution_count": 79,
   "outputs": [
    {
     "data": {
      "text/html": "<table class=\"dataframe\">\n<caption>A matrix: 15 × 5 of type chr</caption>\n<thead>\n\t<tr><th scope=col>Gene_set</th><th scope=col>Gene_set_name</th><th scope=col>Score</th><th scope=col>p-value</th><th scope=col>FDR</th></tr>\n</thead>\n<tbody>\n\t<tr><td>212</td><td>hsa04723</td><td>-0.709 </td><td>0   </td><td>0     </td></tr>\n\t<tr><td>81 </td><td>hsa00970</td><td>-0.8369</td><td>0.01</td><td>0.3988</td></tr>\n\t<tr><td>163</td><td>hsa04260</td><td>-0.6792</td><td>0.01</td><td>0.3988</td></tr>\n\t<tr><td>210</td><td>hsa04721</td><td>-0.6379</td><td>0.01</td><td>0.3988</td></tr>\n\t<tr><td>246</td><td>hsa04932</td><td>-0.6199</td><td>0.01</td><td>0.3988</td></tr>\n\t<tr><td>271</td><td>hsa05016</td><td>-0.7232</td><td>0.01</td><td>0.3988</td></tr>\n\t<tr><td>274</td><td>hsa05022</td><td>-0.5238</td><td>0.01</td><td>0.3988</td></tr>\n\t<tr><td>348</td><td>hsa05415</td><td>-0.6449</td><td>0.01</td><td>0.3988</td></tr>\n\t<tr><td>15 </td><td>hsa00190</td><td>-1.0546</td><td>0.02</td><td>0.4253</td></tr>\n\t<tr><td>135</td><td>hsa04070</td><td>-0.3497</td><td>0.02</td><td>0.4253</td></tr>\n\t<tr><td>142</td><td>hsa04120</td><td>-0.3897</td><td>0.02</td><td>0.4253</td></tr>\n\t<tr><td>208</td><td>hsa04714</td><td>-0.5286</td><td>0.02</td><td>0.4253</td></tr>\n\t<tr><td>269</td><td>hsa05012</td><td>-0.7435</td><td>0.02</td><td>0.4253</td></tr>\n\t<tr><td>273</td><td>hsa05020</td><td>-0.6949</td><td>0.02</td><td>0.4253</td></tr>\n\t<tr><td>316</td><td>hsa05208</td><td>-0.4673</td><td>0.02</td><td>0.4253</td></tr>\n</tbody>\n</table>\n",
      "text/markdown": "\nA matrix: 15 × 5 of type chr\n\n| Gene_set | Gene_set_name | Score | p-value | FDR |\n|---|---|---|---|---|\n| 212 | hsa04723 | -0.709  | 0    | 0      |\n| 81  | hsa00970 | -0.8369 | 0.01 | 0.3988 |\n| 163 | hsa04260 | -0.6792 | 0.01 | 0.3988 |\n| 210 | hsa04721 | -0.6379 | 0.01 | 0.3988 |\n| 246 | hsa04932 | -0.6199 | 0.01 | 0.3988 |\n| 271 | hsa05016 | -0.7232 | 0.01 | 0.3988 |\n| 274 | hsa05022 | -0.5238 | 0.01 | 0.3988 |\n| 348 | hsa05415 | -0.6449 | 0.01 | 0.3988 |\n| 15  | hsa00190 | -1.0546 | 0.02 | 0.4253 |\n| 135 | hsa04070 | -0.3497 | 0.02 | 0.4253 |\n| 142 | hsa04120 | -0.3897 | 0.02 | 0.4253 |\n| 208 | hsa04714 | -0.5286 | 0.02 | 0.4253 |\n| 269 | hsa05012 | -0.7435 | 0.02 | 0.4253 |\n| 273 | hsa05020 | -0.6949 | 0.02 | 0.4253 |\n| 316 | hsa05208 | -0.4673 | 0.02 | 0.4253 |\n\n",
      "text/latex": "A matrix: 15 × 5 of type chr\n\\begin{tabular}{lllll}\n Gene\\_set & Gene\\_set\\_name & Score & p-value & FDR\\\\\n\\hline\n\t 212 & hsa04723 & -0.709  & 0    & 0     \\\\\n\t 81  & hsa00970 & -0.8369 & 0.01 & 0.3988\\\\\n\t 163 & hsa04260 & -0.6792 & 0.01 & 0.3988\\\\\n\t 210 & hsa04721 & -0.6379 & 0.01 & 0.3988\\\\\n\t 246 & hsa04932 & -0.6199 & 0.01 & 0.3988\\\\\n\t 271 & hsa05016 & -0.7232 & 0.01 & 0.3988\\\\\n\t 274 & hsa05022 & -0.5238 & 0.01 & 0.3988\\\\\n\t 348 & hsa05415 & -0.6449 & 0.01 & 0.3988\\\\\n\t 15  & hsa00190 & -1.0546 & 0.02 & 0.4253\\\\\n\t 135 & hsa04070 & -0.3497 & 0.02 & 0.4253\\\\\n\t 142 & hsa04120 & -0.3897 & 0.02 & 0.4253\\\\\n\t 208 & hsa04714 & -0.5286 & 0.02 & 0.4253\\\\\n\t 269 & hsa05012 & -0.7435 & 0.02 & 0.4253\\\\\n\t 273 & hsa05020 & -0.6949 & 0.02 & 0.4253\\\\\n\t 316 & hsa05208 & -0.4673 & 0.02 & 0.4253\\\\\n\\end{tabular}\n",
      "text/plain": "      Gene_set Gene_set_name Score   p-value FDR   \n [1,] 212      hsa04723      -0.709  0       0     \n [2,] 81       hsa00970      -0.8369 0.01    0.3988\n [3,] 163      hsa04260      -0.6792 0.01    0.3988\n [4,] 210      hsa04721      -0.6379 0.01    0.3988\n [5,] 246      hsa04932      -0.6199 0.01    0.3988\n [6,] 271      hsa05016      -0.7232 0.01    0.3988\n [7,] 274      hsa05022      -0.5238 0.01    0.3988\n [8,] 348      hsa05415      -0.6449 0.01    0.3988\n [9,] 15       hsa00190      -1.0546 0.02    0.4253\n[10,] 135      hsa04070      -0.3497 0.02    0.4253\n[11,] 142      hsa04120      -0.3897 0.02    0.4253\n[12,] 208      hsa04714      -0.5286 0.02    0.4253\n[13,] 269      hsa05012      -0.7435 0.02    0.4253\n[14,] 273      hsa05020      -0.6949 0.02    0.4253\n[15,] 316      hsa05208      -0.4673 0.02    0.4253"
     },
     "metadata": {},
     "output_type": "display_data"
    }
   ],
   "source": [
    "neg.table <-res$negative\n",
    "head(neg.table)"
   ],
   "metadata": {
    "collapsed": false
   }
  },
  {
   "cell_type": "markdown",
   "source": [
    "A table of the positive gene sets. \"Positive\" means that higher expression of most genes in the gene set correlates with higher values of the phenotype y. See \"negative\" above for more info."
   ],
   "metadata": {
    "collapsed": false
   }
  },
  {
   "cell_type": "code",
   "execution_count": 80,
   "outputs": [
    {
     "data": {
      "text/html": "<table class=\"dataframe\">\n<caption>A matrix: 2 × 5 of type chr</caption>\n<thead>\n\t<tr><th scope=col>Gene_set</th><th scope=col>Gene_set_name</th><th scope=col>Score</th><th scope=col>p-value</th><th scope=col>FDR</th></tr>\n</thead>\n<tbody>\n\t<tr><td>179</td><td>hsa04520</td><td>0.4948</td><td>0</td><td>0</td></tr>\n\t<tr><td>223</td><td>hsa04810</td><td>0.1843</td><td>0</td><td>0</td></tr>\n</tbody>\n</table>\n",
      "text/markdown": "\nA matrix: 2 × 5 of type chr\n\n| Gene_set | Gene_set_name | Score | p-value | FDR |\n|---|---|---|---|---|\n| 179 | hsa04520 | 0.4948 | 0 | 0 |\n| 223 | hsa04810 | 0.1843 | 0 | 0 |\n\n",
      "text/latex": "A matrix: 2 × 5 of type chr\n\\begin{tabular}{lllll}\n Gene\\_set & Gene\\_set\\_name & Score & p-value & FDR\\\\\n\\hline\n\t 179 & hsa04520 & 0.4948 & 0 & 0\\\\\n\t 223 & hsa04810 & 0.1843 & 0 & 0\\\\\n\\end{tabular}\n",
      "text/plain": "     Gene_set Gene_set_name Score  p-value FDR\n[1,] 179      hsa04520      0.4948 0       0  \n[2,] 223      hsa04810      0.1843 0       0  "
     },
     "metadata": {},
     "output_type": "display_data"
    }
   ],
   "source": [
    "pos.table <-res$positive\n",
    "head(pos.table)"
   ],
   "metadata": {
    "collapsed": false
   }
  },
  {
   "cell_type": "code",
   "execution_count": 81,
   "outputs": [
    {
     "data": {
      "text/html": "<table class=\"dataframe\">\n<caption>A matrix: 43 × 2 of type chr</caption>\n<thead>\n\t<tr><th scope=col>Gene</th><th scope=col>Score</th></tr>\n</thead>\n<tbody>\n\t<tr><td>ALDH9A1</td><td>2.707 </td></tr>\n\t<tr><td>HADHA  </td><td>1.725 </td></tr>\n\t<tr><td>ACADVL </td><td>1.609 </td></tr>\n\t<tr><td>ADH1B  </td><td>1.513 </td></tr>\n\t<tr><td>HADHB  </td><td>1.175 </td></tr>\n\t<tr><td>ACAA1  </td><td>0.79  </td></tr>\n\t<tr><td>ALDH2  </td><td>0.768 </td></tr>\n\t<tr><td>ACSBG1 </td><td>0.73  </td></tr>\n\t<tr><td>ALDH3A2</td><td>0.726 </td></tr>\n\t<tr><td>ACSL1  </td><td>0.662 </td></tr>\n\t<tr><td>ALDH7A1</td><td>0.64  </td></tr>\n\t<tr><td>ACSL4  </td><td>0.581 </td></tr>\n\t<tr><td>ECI1   </td><td>0.533 </td></tr>\n\t<tr><td>ACSBG2 </td><td>0.474 </td></tr>\n\t<tr><td>CPT1B  </td><td>0.393 </td></tr>\n\t<tr><td>ADH6   </td><td>0.346 </td></tr>\n\t<tr><td>ACADL  </td><td>0.268 </td></tr>\n\t<tr><td>ADH4   </td><td>0.186 </td></tr>\n\t<tr><td>CPT2   </td><td>0.147 </td></tr>\n\t<tr><td>ADH1C  </td><td>0.146 </td></tr>\n\t<tr><td>ADH5   </td><td>0.136 </td></tr>\n\t<tr><td>ACOX1  </td><td>-0.005</td></tr>\n\t<tr><td>ECI2   </td><td>-0.063</td></tr>\n\t<tr><td>ACSL5  </td><td>-0.069</td></tr>\n\t<tr><td>ACADM  </td><td>-0.109</td></tr>\n\t<tr><td>ADH1A  </td><td>-0.123</td></tr>\n\t<tr><td>CPT1A  </td><td>-0.159</td></tr>\n\t<tr><td>ACADS  </td><td>-0.161</td></tr>\n\t<tr><td>HADH   </td><td>-0.171</td></tr>\n\t<tr><td>ADH7   </td><td>-0.378</td></tr>\n\t<tr><td>ACADSB </td><td>-0.542</td></tr>\n\t<tr><td>ACAA2  </td><td>-0.551</td></tr>\n\t<tr><td>ALDH1B1</td><td>-0.623</td></tr>\n\t<tr><td>ACAT1  </td><td>-0.689</td></tr>\n\t<tr><td>CYP2U1 </td><td>-1.043</td></tr>\n\t<tr><td>ACSL6  </td><td>-1.506</td></tr>\n\t<tr><td>ACOX3  </td><td>-1.508</td></tr>\n\t<tr><td>EHHADH </td><td>-1.76 </td></tr>\n\t<tr><td>ACAT2  </td><td>-1.793</td></tr>\n\t<tr><td>GCDH   </td><td>-1.917</td></tr>\n\t<tr><td>ACSL3  </td><td>-2.432</td></tr>\n\t<tr><td>CPT1C  </td><td>-2.561</td></tr>\n\t<tr><td>ECHS1  </td><td>-2.761</td></tr>\n</tbody>\n</table>\n",
      "text/markdown": "\nA matrix: 43 × 2 of type chr\n\n| Gene | Score |\n|---|---|\n| ALDH9A1 | 2.707  |\n| HADHA   | 1.725  |\n| ACADVL  | 1.609  |\n| ADH1B   | 1.513  |\n| HADHB   | 1.175  |\n| ACAA1   | 0.79   |\n| ALDH2   | 0.768  |\n| ACSBG1  | 0.73   |\n| ALDH3A2 | 0.726  |\n| ACSL1   | 0.662  |\n| ALDH7A1 | 0.64   |\n| ACSL4   | 0.581  |\n| ECI1    | 0.533  |\n| ACSBG2  | 0.474  |\n| CPT1B   | 0.393  |\n| ADH6    | 0.346  |\n| ACADL   | 0.268  |\n| ADH4    | 0.186  |\n| CPT2    | 0.147  |\n| ADH1C   | 0.146  |\n| ADH5    | 0.136  |\n| ACOX1   | -0.005 |\n| ECI2    | -0.063 |\n| ACSL5   | -0.069 |\n| ACADM   | -0.109 |\n| ADH1A   | -0.123 |\n| CPT1A   | -0.159 |\n| ACADS   | -0.161 |\n| HADH    | -0.171 |\n| ADH7    | -0.378 |\n| ACADSB  | -0.542 |\n| ACAA2   | -0.551 |\n| ALDH1B1 | -0.623 |\n| ACAT1   | -0.689 |\n| CYP2U1  | -1.043 |\n| ACSL6   | -1.506 |\n| ACOX3   | -1.508 |\n| EHHADH  | -1.76  |\n| ACAT2   | -1.793 |\n| GCDH    | -1.917 |\n| ACSL3   | -2.432 |\n| CPT1C   | -2.561 |\n| ECHS1   | -2.761 |\n\n",
      "text/latex": "A matrix: 43 × 2 of type chr\n\\begin{tabular}{ll}\n Gene & Score\\\\\n\\hline\n\t ALDH9A1 & 2.707 \\\\\n\t HADHA   & 1.725 \\\\\n\t ACADVL  & 1.609 \\\\\n\t ADH1B   & 1.513 \\\\\n\t HADHB   & 1.175 \\\\\n\t ACAA1   & 0.79  \\\\\n\t ALDH2   & 0.768 \\\\\n\t ACSBG1  & 0.73  \\\\\n\t ALDH3A2 & 0.726 \\\\\n\t ACSL1   & 0.662 \\\\\n\t ALDH7A1 & 0.64  \\\\\n\t ACSL4   & 0.581 \\\\\n\t ECI1    & 0.533 \\\\\n\t ACSBG2  & 0.474 \\\\\n\t CPT1B   & 0.393 \\\\\n\t ADH6    & 0.346 \\\\\n\t ACADL   & 0.268 \\\\\n\t ADH4    & 0.186 \\\\\n\t CPT2    & 0.147 \\\\\n\t ADH1C   & 0.146 \\\\\n\t ADH5    & 0.136 \\\\\n\t ACOX1   & -0.005\\\\\n\t ECI2    & -0.063\\\\\n\t ACSL5   & -0.069\\\\\n\t ACADM   & -0.109\\\\\n\t ADH1A   & -0.123\\\\\n\t CPT1A   & -0.159\\\\\n\t ACADS   & -0.161\\\\\n\t HADH    & -0.171\\\\\n\t ADH7    & -0.378\\\\\n\t ACADSB  & -0.542\\\\\n\t ACAA2   & -0.551\\\\\n\t ALDH1B1 & -0.623\\\\\n\t ACAT1   & -0.689\\\\\n\t CYP2U1  & -1.043\\\\\n\t ACSL6   & -1.506\\\\\n\t ACOX3   & -1.508\\\\\n\t EHHADH  & -1.76 \\\\\n\t ACAT2   & -1.793\\\\\n\t GCDH    & -1.917\\\\\n\t ACSL3   & -2.432\\\\\n\t CPT1C   & -2.561\\\\\n\t ECHS1   & -2.761\\\\\n\\end{tabular}\n",
      "text/plain": "      Gene    Score \n [1,] ALDH9A1 2.707 \n [2,] HADHA   1.725 \n [3,] ACADVL  1.609 \n [4,] ADH1B   1.513 \n [5,] HADHB   1.175 \n [6,] ACAA1   0.79  \n [7,] ALDH2   0.768 \n [8,] ACSBG1  0.73  \n [9,] ALDH3A2 0.726 \n[10,] ACSL1   0.662 \n[11,] ALDH7A1 0.64  \n[12,] ACSL4   0.581 \n[13,] ECI1    0.533 \n[14,] ACSBG2  0.474 \n[15,] CPT1B   0.393 \n[16,] ADH6    0.346 \n[17,] ACADL   0.268 \n[18,] ADH4    0.186 \n[19,] CPT2    0.147 \n[20,] ADH1C   0.146 \n[21,] ADH5    0.136 \n[22,] ACOX1   -0.005\n[23,] ECI2    -0.063\n[24,] ACSL5   -0.069\n[25,] ACADM   -0.109\n[26,] ADH1A   -0.123\n[27,] CPT1A   -0.159\n[28,] ACADS   -0.161\n[29,] HADH    -0.171\n[30,] ADH7    -0.378\n[31,] ACADSB  -0.542\n[32,] ACAA2   -0.551\n[33,] ALDH1B1 -0.623\n[34,] ACAT1   -0.689\n[35,] CYP2U1  -1.043\n[36,] ACSL6   -1.506\n[37,] ACOX3   -1.508\n[38,] EHHADH  -1.76 \n[39,] ACAT2   -1.793\n[40,] GCDH    -1.917\n[41,] ACSL3   -2.432\n[42,] CPT1C   -2.561\n[43,] ECHS1   -2.761"
     },
     "metadata": {},
     "output_type": "display_data"
    }
   ],
   "source": [
    "# Individual gene scores from a gene set analysis\n",
    "# look at 10th gene set\n",
    "GSA.genescores(10, genesets, GSA.obj, genenames)"
   ],
   "metadata": {
    "collapsed": false
   }
  },
  {
   "cell_type": "code",
   "execution_count": 82,
   "outputs": [
    {
     "data": {
      "text/plain": "plot without title",
      "image/png": "[encoded data removed]"
     },
     "metadata": {
      "image/png": {
       "width": 420,
       "height": 420
      }
     },
     "output_type": "display_data"
    }
   ],
   "source": [
    "# Plot the result, this function makes a plot of the significant gene sets, based on a call to the GSA (Gene set analysis) function.\n",
    "suppressWarnings(GSA.plot(GSA.obj, fac=1, FDRcut = 0.5))\n"
   ],
   "metadata": {
    "collapsed": false
   }
  }
 ],
 "metadata": {
  "celltoolbar": "Tags",
  "environment": {
   "kernel": "ir",
   "name": "r-cpu.4-1.m93",
   "type": "gcloud",
   "uri": "gcr.io/deeplearning-platform-release/r-cpu.4-1:m93"
  },
  "kernelspec": {
   "display_name": "R",
   "language": "R",
   "name": "ir"
  },
  "language_info": {
   "codemirror_mode": "r",
   "file_extension": ".r",
   "mimetype": "text/x-r-source",
   "name": "R",
   "pygments_lexer": "r",
   "version": "4.1.3"
  },
  "toc-showcode": true,
  "widgets": {
   "application/vnd.jupyter.widget-state+json": {
    "state": {},
    "version_major": 2,
    "version_minor": 0
   }
  }
 },
 "nbformat": 4,
 "nbformat_minor": 5
}
