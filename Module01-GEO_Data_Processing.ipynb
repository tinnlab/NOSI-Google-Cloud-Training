{
 "cells": [
  {
   "cell_type": "markdown",
   "source": [
    "# GEO data processing\n",
    "\n",
    "![](./images/Module1/Data_Processing.jpg)\n",
    "\n",
    "## Learning Objectives:\n",
    "1. Understanding the type of data that is accessible from GEO.\n",
    "2. Demonstrating how to navigate the GEO website, search for dataset using accession number, and select samples.\n",
    "3. Using command-line to download data from GEO.\n",
    "4. Performing data pre-processing, normalization, loading and saving expression matrix."
   ],
   "metadata": {
    "collapsed": false
   }
  },
  {
   "cell_type": "markdown",
   "source": [
    "## Accessing public GEO sequencing data\n",
    "The Gene Expression Omnibus (GEO) is a public repository that archives and freely distributes comprehensive sets of microarray, next-generation sequencing, and other forms of high-throughput functional genomic data submitted by the scientific community. In addition to data storage, the website provides set of web-based tools and applications to help users query and download the studies and gene expression patterns stored in GEO.\n",
    "### Searching and accessing data on GEO\n",
    "Searching for GEO is relatively straight forward via GEO website. First, users need to navigate to\n",
    "<a href=\"https://www.ncbi.nlm.nih.gov/geo/\"> https://www.ncbi.nlm.nih.gov/geo/</a>.\n",
    "There are multiple ways for searching datasets but the simples way is to provide the accession number in the search box. We will use an example dataset with the accession number\n",
    "<a href=\"https://www.ncbi.nlm.nih.gov/geo/query/acc.cgi?acc=GSE48350\">GSE48350</a> for demonstration.\n",
    "The GEO website interface with searching procedure of the example dataset is shown in the figure below:\n",
    "![](./images/Module1/GEO_Website.png)\n",
    "\n",
    "When the searching process is done, a webpage with detailed record of the example dataset such as published date, title, organism, experiment type, dataset summary etc. will be shown in the figure below:\n",
    "\n",
    "![](./images/Module1/GEO_Dataset_Page.png)\n",
    "\n",
    "We can see that the dataset GSE48350 was published in Apr 21, 2014 which focuses on Human Alzheimer's\n",
    "Disease using microarray sequencing technology. Samples were primary collected from 4 brain regions:\n",
    "hippocampus (HC), entorhinal cortex (EC), superior frontal cortex (SCG), post-central gyrus (PCG)\n",
    "of normal and disease patients."
   ],
   "metadata": {
    "collapsed": false
   }
  },
  {
   "cell_type": "markdown",
   "source": [
    "## Accessing GEO data using R command line\n",
    "### Downloading and pre-processing the data\n",
    "\n",
    "If the users have programming background, it is more beneficial to automate the downloading task using R's command line. Getting data from GEO is really quite easy using <a href=\"https://bioconductor.org/packages/release/bioc/html/GEOquery.html\">GEOquery</a> R package available in <a href=\"https://bioconductor.org/\">Bioconductor</a>. Before starting, user need to install GEOquery package using the following command."
   ],
   "metadata": {
    "collapsed": false
   }
  },
  {
   "cell_type": "code",
   "source": [
    "suppressMessages({if (!require(\"BiocManager\", quietly = TRUE))\n",
    "    suppressWarnings(install.packages(\"BiocManager\"))\n",
    "    suppressWarnings(BiocManager::install(\"GEOquery\", update = F))\n",
    "})"
   ],
   "metadata": {
    "collapsed": false
   },
   "execution_count": 2,
   "outputs": []
  },
  {
   "cell_type": "markdown",
   "source": [
    "We can use the `getGEO` function from the `GEOquery` package to download GEO dataset. First, users have to specify the accession ID of the dataset. For demonstration, we will use the same dataset `GSE48350`."
   ],
   "metadata": {
    "collapsed": false
   }
  },
  {
   "cell_type": "code",
   "execution_count": null,
   "id": "6e56fd57-3a91-4715-962b-07f43324c519",
   "metadata": {},
   "outputs": [],
   "source": [
    "suppressPackageStartupMessages(library(\"GEOquery\"))\n",
    "## change my_id to be the dataset that you want.\n",
    "accession_ID <- \"GSE48350\"\n",
    "suppressMessages({gse <- getGEO(accession_ID,GSEMatrix =TRUE, AnnotGPL=TRUE)})"
   ]
  },
  {
   "cell_type": "markdown",
   "source": [
    "Some datasets on GEO may be derived from different microarray platforms. Therefore the object `gse` is a list of different datasets.\n",
    "You can find out how many platforms were used by checking the length of the `gse` object."
   ],
   "metadata": {
    "collapsed": false
   }
  },
  {
   "cell_type": "code",
   "execution_count": null,
   "outputs": [
    {
     "name": "stdout",
     "output_type": "stream",
     "text": [
      "[1] \"Number of platforms: 1\"\n"
     ]
    }
   ],
   "source": [
    "## check how many platforms used\n",
    "if (length(gse) > 1) idx <- grep(\"GPL570\", attr(gse, \"names\")) else idx <- 1\n",
    "data <- gse[[idx]]\n",
    "print(paste0(\"Number of platforms: \",length(data)))"
   ],
   "metadata": {
    "collapsed": false
   }
  },
  {
   "cell_type": "markdown",
   "source": [
    "The result shows that we have only one dataset that belongs to microarray platform mentioned GEO dataset page.\n",
    "Then, we can access the samples information and genes using the command below:"
   ],
   "metadata": {
    "collapsed": false
   }
  },
  {
   "cell_type": "code",
   "execution_count": null,
   "outputs": [
    {
     "name": "stdout",
     "output_type": "stream",
     "text": [
      "[1] \"The dataset contains 253 samples and 54675 genes\"\n"
     ]
    }
   ],
   "source": [
    "# Get the samples information\n",
    "samples <- pData(data)\n",
    "# Get the genes information\n",
    "genes <- fData(data)\n",
    "# Check the number of samples and genes\n",
    "print(paste0(\"The dataset contains \", dim(samples)[1] ,\" samples and \",dim(genes)[1],\" genes\"))"
   ],
   "metadata": {
    "collapsed": false
   }
  },
  {
   "cell_type": "markdown",
   "source": [
    "The ```samples``` contain the metadata of each sample such as title, status, GEO accession, submission data etc. while the ```genes```\n",
    "dataframe show us the probeID, title, gene symbol, gene ID, and many more. We can inspect the detail of the first several rows and columns\n",
    "of ```samples``` and ```genes``` dataframe using the following command:"
   ],
   "metadata": {
    "collapsed": false
   }
  },
  {
   "cell_type": "code",
   "execution_count": 82,
   "outputs": [
    {
     "data": {
      "text/html": "<table class=\"dataframe\">\n<caption>A data.frame: 5 × 4</caption>\n<thead>\n\t<tr><th></th><th scope=col>title</th><th scope=col>geo_accession</th><th scope=col>status</th><th scope=col>submission_date</th></tr>\n\t<tr><th></th><th scope=col>&lt;chr&gt;</th><th scope=col>&lt;chr&gt;</th><th scope=col>&lt;chr&gt;</th><th scope=col>&lt;chr&gt;</th></tr>\n</thead>\n<tbody>\n\t<tr><th scope=row>GSM300173</th><td>EntorhinalCortex_male_45yrs_indiv12  </td><td>GSM300173</td><td>Public on Oct 09 2008</td><td>Jun 25 2008</td></tr>\n\t<tr><th scope=row>GSM300177</th><td>EntorhinalCortex_male_95yrs_indiv14  </td><td>GSM300177</td><td>Public on Oct 09 2008</td><td>Jun 25 2008</td></tr>\n\t<tr><th scope=row>GSM300181</th><td>EntorhinalCortex_male_80yrs_indiv15  </td><td>GSM300181</td><td>Public on Oct 09 2008</td><td>Jun 25 2008</td></tr>\n\t<tr><th scope=row>GSM300186</th><td>EntorhinalCortex_female_45yrs_indiv17</td><td>GSM300186</td><td>Public on Oct 09 2008</td><td>Jun 25 2008</td></tr>\n\t<tr><th scope=row>GSM300189</th><td>EntorhinalCortex_female_74yrs_indiv18</td><td>GSM300189</td><td>Public on Oct 09 2008</td><td>Jun 25 2008</td></tr>\n</tbody>\n</table>\n",
      "text/markdown": "\nA data.frame: 5 × 4\n\n| <!--/--> | title &lt;chr&gt; | geo_accession &lt;chr&gt; | status &lt;chr&gt; | submission_date &lt;chr&gt; |\n|---|---|---|---|---|\n| GSM300173 | EntorhinalCortex_male_45yrs_indiv12   | GSM300173 | Public on Oct 09 2008 | Jun 25 2008 |\n| GSM300177 | EntorhinalCortex_male_95yrs_indiv14   | GSM300177 | Public on Oct 09 2008 | Jun 25 2008 |\n| GSM300181 | EntorhinalCortex_male_80yrs_indiv15   | GSM300181 | Public on Oct 09 2008 | Jun 25 2008 |\n| GSM300186 | EntorhinalCortex_female_45yrs_indiv17 | GSM300186 | Public on Oct 09 2008 | Jun 25 2008 |\n| GSM300189 | EntorhinalCortex_female_74yrs_indiv18 | GSM300189 | Public on Oct 09 2008 | Jun 25 2008 |\n\n",
      "text/latex": "A data.frame: 5 × 4\n\\begin{tabular}{r|llll}\n  & title & geo\\_accession & status & submission\\_date\\\\\n  & <chr> & <chr> & <chr> & <chr>\\\\\n\\hline\n\tGSM300173 & EntorhinalCortex\\_male\\_45yrs\\_indiv12   & GSM300173 & Public on Oct 09 2008 & Jun 25 2008\\\\\n\tGSM300177 & EntorhinalCortex\\_male\\_95yrs\\_indiv14   & GSM300177 & Public on Oct 09 2008 & Jun 25 2008\\\\\n\tGSM300181 & EntorhinalCortex\\_male\\_80yrs\\_indiv15   & GSM300181 & Public on Oct 09 2008 & Jun 25 2008\\\\\n\tGSM300186 & EntorhinalCortex\\_female\\_45yrs\\_indiv17 & GSM300186 & Public on Oct 09 2008 & Jun 25 2008\\\\\n\tGSM300189 & EntorhinalCortex\\_female\\_74yrs\\_indiv18 & GSM300189 & Public on Oct 09 2008 & Jun 25 2008\\\\\n\\end{tabular}\n",
      "text/plain": "          title                                 geo_accession\nGSM300173 EntorhinalCortex_male_45yrs_indiv12   GSM300173    \nGSM300177 EntorhinalCortex_male_95yrs_indiv14   GSM300177    \nGSM300181 EntorhinalCortex_male_80yrs_indiv15   GSM300181    \nGSM300186 EntorhinalCortex_female_45yrs_indiv17 GSM300186    \nGSM300189 EntorhinalCortex_female_74yrs_indiv18 GSM300189    \n          status                submission_date\nGSM300173 Public on Oct 09 2008 Jun 25 2008    \nGSM300177 Public on Oct 09 2008 Jun 25 2008    \nGSM300181 Public on Oct 09 2008 Jun 25 2008    \nGSM300186 Public on Oct 09 2008 Jun 25 2008    \nGSM300189 Public on Oct 09 2008 Jun 25 2008    "
     },
     "metadata": {},
     "output_type": "display_data"
    },
    {
     "data": {
      "text/html": "<table class=\"dataframe\">\n<caption>A data.frame: 5 × 5</caption>\n<thead>\n\t<tr><th></th><th scope=col>ID</th><th scope=col>Gene title</th><th scope=col>Gene symbol</th><th scope=col>Gene ID</th><th scope=col>UniGene title</th></tr>\n\t<tr><th></th><th scope=col>&lt;chr&gt;</th><th scope=col>&lt;chr&gt;</th><th scope=col>&lt;chr&gt;</th><th scope=col>&lt;chr&gt;</th><th scope=col>&lt;chr&gt;</th></tr>\n</thead>\n<tbody>\n\t<tr><th scope=row>1007_s_at</th><td>1007_s_at</td><td>microRNA 4640///discoidin domain receptor tyrosine kinase 1</td><td>MIR4640///DDR1</td><td>100616237///780</td><td></td></tr>\n\t<tr><th scope=row>1053_at</th><td>1053_at  </td><td>replication factor C subunit 2                             </td><td>RFC2          </td><td>5982           </td><td></td></tr>\n\t<tr><th scope=row>117_at</th><td>117_at   </td><td>heat shock protein family A (Hsp70) member 6               </td><td>HSPA6         </td><td>3310           </td><td></td></tr>\n\t<tr><th scope=row>121_at</th><td>121_at   </td><td>paired box 8                                               </td><td>PAX8          </td><td>7849           </td><td></td></tr>\n\t<tr><th scope=row>1255_g_at</th><td>1255_g_at</td><td>guanylate cyclase activator 1A                             </td><td>GUCA1A        </td><td>2978           </td><td></td></tr>\n</tbody>\n</table>\n",
      "text/markdown": "\nA data.frame: 5 × 5\n\n| <!--/--> | ID &lt;chr&gt; | Gene title &lt;chr&gt; | Gene symbol &lt;chr&gt; | Gene ID &lt;chr&gt; | UniGene title &lt;chr&gt; |\n|---|---|---|---|---|---|\n| 1007_s_at | 1007_s_at | microRNA 4640///discoidin domain receptor tyrosine kinase 1 | MIR4640///DDR1 | 100616237///780 | <!----> |\n| 1053_at | 1053_at   | replication factor C subunit 2                              | RFC2           | 5982            | <!----> |\n| 117_at | 117_at    | heat shock protein family A (Hsp70) member 6                | HSPA6          | 3310            | <!----> |\n| 121_at | 121_at    | paired box 8                                                | PAX8           | 7849            | <!----> |\n| 1255_g_at | 1255_g_at | guanylate cyclase activator 1A                              | GUCA1A         | 2978            | <!----> |\n\n",
      "text/latex": "A data.frame: 5 × 5\n\\begin{tabular}{r|lllll}\n  & ID & Gene title & Gene symbol & Gene ID & UniGene title\\\\\n  & <chr> & <chr> & <chr> & <chr> & <chr>\\\\\n\\hline\n\t1007\\_s\\_at & 1007\\_s\\_at & microRNA 4640///discoidin domain receptor tyrosine kinase 1 & MIR4640///DDR1 & 100616237///780 & \\\\\n\t1053\\_at & 1053\\_at   & replication factor C subunit 2                              & RFC2           & 5982            & \\\\\n\t117\\_at & 117\\_at    & heat shock protein family A (Hsp70) member 6                & HSPA6          & 3310            & \\\\\n\t121\\_at & 121\\_at    & paired box 8                                                & PAX8           & 7849            & \\\\\n\t1255\\_g\\_at & 1255\\_g\\_at & guanylate cyclase activator 1A                              & GUCA1A         & 2978            & \\\\\n\\end{tabular}\n",
      "text/plain": "          ID        Gene title                                                 \n1007_s_at 1007_s_at microRNA 4640///discoidin domain receptor tyrosine kinase 1\n1053_at   1053_at   replication factor C subunit 2                             \n117_at    117_at    heat shock protein family A (Hsp70) member 6               \n121_at    121_at    paired box 8                                               \n1255_g_at 1255_g_at guanylate cyclase activator 1A                             \n          Gene symbol    Gene ID         UniGene title\n1007_s_at MIR4640///DDR1 100616237///780              \n1053_at   RFC2           5982                         \n117_at    HSPA6          3310                         \n121_at    PAX8           7849                         \n1255_g_at GUCA1A         2978                         "
     },
     "metadata": {},
     "output_type": "display_data"
    }
   ],
   "source": [
    "samples[1:5,1:4]\n",
    "genes[1:5,1:5]"
   ],
   "metadata": {
    "collapsed": false
   }
  },
  {
   "cell_type": "markdown",
   "source": [
    "To inspect the expression data of the first few rows and samples, we can use this command"
   ],
   "metadata": {
    "collapsed": false
   }
  },
  {
   "cell_type": "code",
   "execution_count": null,
   "outputs": [
    {
     "data": {
      "text/html": "<table class=\"dataframe\">\n<caption>A matrix: 6 × 5 of type dbl</caption>\n<thead>\n\t<tr><th></th><th scope=col>GSM300166</th><th scope=col>GSM300167</th><th scope=col>GSM300168</th><th scope=col>GSM300169</th><th scope=col>GSM300170</th></tr>\n</thead>\n<tbody>\n\t<tr><th scope=row>1007_s_at</th><td>0.8880162</td><td>1.4355185</td><td>1.6096015</td><td>1.754960</td><td>1.820730</td></tr>\n\t<tr><th scope=row>1053_at</th><td>0.6664604</td><td>0.8858521</td><td>1.8590777</td><td>1.036666</td><td>1.421393</td></tr>\n\t<tr><th scope=row>117_at</th><td>0.8596384</td><td>1.0620298</td><td>3.0973945</td><td>2.243655</td><td>5.060301</td></tr>\n\t<tr><th scope=row>121_at</th><td>0.9751495</td><td>1.0507448</td><td>0.9822838</td><td>1.198237</td><td>1.039529</td></tr>\n\t<tr><th scope=row>1255_g_at</th><td>0.4912547</td><td>0.5375254</td><td>3.1796446</td><td>1.514290</td><td>2.185801</td></tr>\n\t<tr><th scope=row>1294_at</th><td>0.8344268</td><td>0.9291890</td><td>1.5193694</td><td>1.557089</td><td>1.641263</td></tr>\n</tbody>\n</table>\n",
      "text/markdown": "\nA matrix: 6 × 5 of type dbl\n\n| <!--/--> | GSM300166 | GSM300167 | GSM300168 | GSM300169 | GSM300170 |\n|---|---|---|---|---|---|\n| 1007_s_at | 0.8880162 | 1.4355185 | 1.6096015 | 1.754960 | 1.820730 |\n| 1053_at | 0.6664604 | 0.8858521 | 1.8590777 | 1.036666 | 1.421393 |\n| 117_at | 0.8596384 | 1.0620298 | 3.0973945 | 2.243655 | 5.060301 |\n| 121_at | 0.9751495 | 1.0507448 | 0.9822838 | 1.198237 | 1.039529 |\n| 1255_g_at | 0.4912547 | 0.5375254 | 3.1796446 | 1.514290 | 2.185801 |\n| 1294_at | 0.8344268 | 0.9291890 | 1.5193694 | 1.557089 | 1.641263 |\n\n",
      "text/latex": "A matrix: 6 × 5 of type dbl\n\\begin{tabular}{r|lllll}\n  & GSM300166 & GSM300167 & GSM300168 & GSM300169 & GSM300170\\\\\n\\hline\n\t1007\\_s\\_at & 0.8880162 & 1.4355185 & 1.6096015 & 1.754960 & 1.820730\\\\\n\t1053\\_at & 0.6664604 & 0.8858521 & 1.8590777 & 1.036666 & 1.421393\\\\\n\t117\\_at & 0.8596384 & 1.0620298 & 3.0973945 & 2.243655 & 5.060301\\\\\n\t121\\_at & 0.9751495 & 1.0507448 & 0.9822838 & 1.198237 & 1.039529\\\\\n\t1255\\_g\\_at & 0.4912547 & 0.5375254 & 3.1796446 & 1.514290 & 2.185801\\\\\n\t1294\\_at & 0.8344268 & 0.9291890 & 1.5193694 & 1.557089 & 1.641263\\\\\n\\end{tabular}\n",
      "text/plain": "          GSM300166 GSM300167 GSM300168 GSM300169 GSM300170\n1007_s_at 0.8880162 1.4355185 1.6096015 1.754960  1.820730 \n1053_at   0.6664604 0.8858521 1.8590777 1.036666  1.421393 \n117_at    0.8596384 1.0620298 3.0973945 2.243655  5.060301 \n121_at    0.9751495 1.0507448 0.9822838 1.198237  1.039529 \n1255_g_at 0.4912547 0.5375254 3.1796446 1.514290  2.185801 \n1294_at   0.8344268 0.9291890 1.5193694 1.557089  1.641263 "
     },
     "metadata": {},
     "output_type": "display_data"
    }
   ],
   "source": [
    "head(exprs(data)[,1:5])"
   ],
   "metadata": {
    "collapsed": false
   }
  },
  {
   "cell_type": "markdown",
   "source": [
    "### Downloading data using web-interface\n",
    "At the bottom of the dataset page, users will find additional information about the dataset such as sequencing platform, number of samples, project ID and links to download the expression data.\n",
    "The exact places to find this information are shown in the figure below:\n",
    "\n",
    "![](./images/Module1/Manual_Download.png)\n",
    "\n",
    "As presented in the figure, the dataset GSE48350 were sequenced using Affymetrix Human Genome U133 Plus 2.0 Array and the whole dataset contains 253 samples. The summary table at the bottom of the page show the all the data generated rom the experiment. User can click to \"(http)\" hyperlink to download all the samples or click \"(custom)\" to select and download the samples of interest. Note that, expression data download from this step are raw data and additional data processing needs to be done locally for further analysis."
   ],
   "metadata": {
    "collapsed": false
   }
  },
  {
   "cell_type": "markdown",
   "source": [
    "The `summary` function can then be used to print the distributions of each sample and\n",
    "the `range` function can help to check for the expression value range."
   ],
   "metadata": {
    "collapsed": false
   }
  },
  {
   "cell_type": "code",
   "execution_count": null,
   "outputs": [
    {
     "data": {
      "text/plain": "   GSM300166          GSM300167          GSM300168         GSM300169       \n Min.   :  0.0100   Min.   :  0.0100   Min.   : 0.0100   Min.   : 0.01942  \n 1st Qu.:  0.6366   1st Qu.:  0.6519   1st Qu.: 0.3342   1st Qu.: 0.32045  \n Median :  0.8622   Median :  0.8828   Median : 0.7756   Median : 0.75063  \n Mean   :  0.9193   Mean   :  0.9492   Mean   : 0.9274   Mean   : 0.87928  \n 3rd Qu.:  1.0903   3rd Qu.:  1.0880   3rd Qu.: 1.1929   3rd Qu.: 1.15987  \n Max.   :335.6746   Max.   :531.7116   Max.   :99.4657   Max.   :26.46015  \n   GSM300170       \n Min.   : 0.01098  \n 1st Qu.: 0.32324  \n Median : 0.77234  \n Mean   : 0.93768  \n 3rd Qu.: 1.21978  \n Max.   :83.41583  "
     },
     "metadata": {},
     "output_type": "display_data"
    },
    {
     "data": {
      "text/html": "<style>\n.list-inline {list-style: none; margin:0; padding: 0}\n.list-inline>li {display: inline-block}\n.list-inline>li:not(:last-child)::after {content: \"\\00b7\"; padding: 0 .5ex}\n</style>\n<ol class=list-inline><li>0.01</li><li>1438.7626</li></ol>\n",
      "text/markdown": "1. 0.01\n2. 1438.7626\n\n\n",
      "text/latex": "\\begin{enumerate*}\n\\item 0.01\n\\item 1438.7626\n\\end{enumerate*}\n",
      "text/plain": "[1]    0.010 1438.763"
     },
     "metadata": {},
     "output_type": "display_data"
    }
   ],
   "source": [
    "summary(exprs(data)[,1:5])\n",
    "range(exprs(data))"
   ],
   "metadata": {
    "collapsed": false
   }
  },
  {
   "cell_type": "markdown",
   "source": [
    "From the summary of the data above, we clearly see that the maximum expression values can be in the scale of thousands while the average expression values in each sample are below one. Therefore, pre-processing and normalization are required for quality assurance. One common step is to perform quartile filtering to remove the outlier and missing expression values. Also, we will need to perform a $log_2$ transformation to ensure the distributions of all samples are highly similar. Then, a `boxplot` can also be generated to see if the data have been correctly normalized. We can use the sample code below to perform all of those steps."
   ],
   "metadata": {
    "collapsed": false
   }
  },
  {
   "cell_type": "code",
   "execution_count": 67,
   "outputs": [
    {
     "data": {
      "text/plain": "plot without title",
      "image/png": "[encoded data removed]"
     },
     "metadata": {
      "image/png": {
       "width": 420,
       "height": 420
      }
     },
     "output_type": "display_data"
    }
   ],
   "source": [
    "# Get expression matrix\n",
    "expression_data <- exprs(data)\n",
    "# Calculate data quantile and remove the NA value\n",
    "qx <- as.numeric(quantile(expression_data, c(0., 0.25, 0.5, 0.75, 0.99, 1.0), na.rm=T))\n",
    "LogC <- (qx[5] > 100) ||\n",
    "  (qx[6]-qx[1] > 50 && qx[2] > 0)\n",
    "\n",
    "# Replace negative values by NA and perform log transformation\n",
    "if (LogC) {\n",
    "   expression_data[which(expression_data <= 0)] <- NaN #\n",
    "    norm_expression_data <- log2(expression_data+1)\n",
    "}\n",
    "# Plot the boxplot of 10 samples\n",
    "boxplot(norm_expression_data[,1:10],outline=FALSE)"
   ],
   "metadata": {
    "collapsed": false
   }
  },
  {
   "cell_type": "markdown",
   "source": [
    "### Samples and groups selection\n",
    "In this learning course, we focus on analyzing two groups: *\"condition\"* and *“control”* from the ```Entorhinal Cortex``` region of the ```GSE48350``` dataset . Therefore, we need to select the samples\n",
    "that belong to *entorhinal* cortex region and form a group that has two classes. To select the samples that belong to the ```Entorhinal Cortex```, we can use the following command:"
   ],
   "metadata": {
    "collapsed": false
   }
  },
  {
   "cell_type": "code",
   "execution_count": 75,
   "outputs": [],
   "source": [
    "# Select sample from Entorhinal Cortex region\n",
    "idx <- grep(\"entorhinal\", samples$`brain region:ch1`)\n",
    "samples = samples[idx,]\n",
    "# Get expression and normalized expression data for samples collected from entorhinal cortex region\n",
    "expression_data = expression_data[,idx]\n",
    "norm_expression_data = norm_expression_data[,idx]"
   ],
   "metadata": {
    "collapsed": false
   }
  },
  {
   "cell_type": "markdown",
   "source": [
    "To check how many samples belong to the ```Entorhinal Cortex``` region, we can use the following command:"
   ],
   "metadata": {
    "collapsed": false
   }
  },
  {
   "cell_type": "code",
   "execution_count": 76,
   "outputs": [
    {
     "name": "stdout",
     "output_type": "stream",
     "text": [
      "[1] \"#Genes: 54675 - #Samples: 54\"\n"
     ]
    }
   ],
   "source": [
    "# Print out new number genes and samples\n",
    "print(paste0(\"#Genes: \",dim(norm_expression_data)[1],\" - #Samples: \",dim(norm_expression_data)[2]))"
   ],
   "metadata": {
    "collapsed": false
   }
  },
  {
   "cell_type": "markdown",
   "source": [
    "In order to perform DE analysis in the later module, we need to group patients into two groups: “condition” and “control”. From the samples source name, patients diagnosed with Alzheimer’s Disease are annotated with ‘AD’.\n",
    "Therefore, any samples that contain string ‘AD’ are labelled by ‘d’ (condition/disease) and the remaining samples are assigned to ‘c’ (control/normal).\n",
    "The code to group the samples is presented below:"
   ],
   "metadata": {
    "collapsed": false
   }
  },
  {
   "cell_type": "code",
   "execution_count": 77,
   "outputs": [],
   "source": [
    "# Select disease samples\n",
    "disease_idx <- grep(\"AD\", samples$source_name_ch1)\n",
    "# Create a vector to store label\n",
    "groups <- rep(\"X\", nrow(samples))\n",
    "# Annotate disease samples as \"d\"\n",
    "groups[disease_idx] <- \"d\"\n",
    "# Control samples are labeled as \"c\"\n",
    "groups[which(groups!=\"d\")] <- \"c\"\n",
    "groups <- factor(groups)"
   ],
   "metadata": {
    "collapsed": false
   }
  },
  {
   "cell_type": "markdown",
   "source": [
    "To see the number of *control* and *disease*, we can use the following command:"
   ],
   "metadata": {
    "collapsed": false
   }
  },
  {
   "cell_type": "code",
   "execution_count": 79,
   "outputs": [
    {
     "data": {
      "text/plain": "groups\n c  d \n39 15 "
     },
     "metadata": {},
     "output_type": "display_data"
    }
   ],
   "source": [
    "table(groups)"
   ],
   "metadata": {
    "collapsed": false
   }
  },
  {
   "cell_type": "markdown",
   "id": "b0209857-88b4-422e-b64b-fbea32ebf1d1",
   "metadata": {},
   "source": [
    "## Exporting the data\n",
    "When we have successfully retrieved expression data from GEO, we can export the expression data to a `.csv` file format for inspection in other software such as Excel using the `write_csv` function from `readr` package.\n",
    "In the code below, we will save the raw expression matrix, normalized expression matrix, and grouping information to the `.csv` file."
   ]
  },
  {
   "cell_type": "code",
   "execution_count": 80,
   "outputs": [],
   "source": [
    "# Convert raw and normalized expression matrix to datafames and save them to the csv file\n",
    "expression_data <- as.data.frame(expression_data)\n",
    "norm_expression_data <- as.data.frame(norm_expression_data)\n",
    "# Convert group to a dataframe\n",
    "groups <- as.data.frame(groups)\n",
    "# Create a sub-directory data folder to save the expression matrix if it is not available\n",
    "dir <- getwd()\n",
    "subDir <- \"/data\"\n",
    "path <- paste0(dir,subDir)\n",
    "if (!file.exists(path)){\n",
    "    dir.create(file.path(path))\n",
    "}\n",
    "# Save expresion values and group to the csv files format in the local folder\n",
    "write.csv(expression_data, file=\"./data/raw_GSE48350.csv\")\n",
    "write.csv(norm_expression_data, file=\"./data/normalized_GSE48350.csv\")\n",
    "write.csv(groups, file=\"./data/groups_GSE48350.csv\")"
   ],
   "metadata": {
    "collapsed": false
   }
  },
  {
   "cell_type": "markdown",
   "source": [
    "The `.csv` format is a very simple format that might not suitable to store big dataset.\n",
    "We can export the expression data to `.rds` format so that is more memory efficient for loading and saving the data.\n",
    "We can save all the relevant data in a `list` and write to the disk using built in `saveRDS` function."
   ],
   "metadata": {
    "collapsed": false
   }
  },
  {
   "cell_type": "code",
   "execution_count": 81,
   "outputs": [],
   "source": [
    "# Putting raw data, normalized data, and groups into a list\n",
    "dat <- list(expression_data = expression_data, norm_expression_data = norm_expression_data, groups = groups)\n",
    "# Save the data to the local disk using rds format\n",
    "saveRDS(dat, file=\"./data/GSE48350.rds\")\n"
   ],
   "metadata": {
    "collapsed": false
   }
  },
  {
   "cell_type": "markdown",
   "source": [
    "The user can copy the data from the local disk to the Bucket using the `gsutil cp` command on the Vertex AI Workbench terminal.\n",
    "To do this, the user has to click on the `+` symbol beside the name of the current tab in the vertex AI workbench interface to open a new Launcher tab.\n",
    "The next step is to click on `$_Terminal` open a Terminal and then type out the `gsutil cp` command below.\n",
    "The first parameter `./data/GSE48350.rds` is the file we want to copy and `cpa-output` is the name of our destination Bucket, which should be replaced with the name of the user's Cloud Bucket."
   ],
   "metadata": {
    "collapsed": false
   }
  },
  {
   "cell_type": "markdown",
   "source": [
    "```{admonition} Saving data to the Google Cloud Bucket\n",
    "gsutil cp ./data/GSE48350.rds gs://cpa-output\n",
    "```"
   ],
   "metadata": {
    "collapsed": false
   }
  },
  {
   "cell_type": "markdown",
   "source": [
    "## Gene ID mapping\n",
    "\n",
    "![](./images/Module1/Gene_ID_Conversion.jpg)\n",
    "## Learning Objectives:\n",
    "1. Understanding different probe set ID.\n",
    "2. Mapping probe IDs into gene identifiers and symbols."
   ],
   "metadata": {
    "collapsed": false
   }
  },
  {
   "cell_type": "markdown",
   "source": [
    "## Understanding different probe set ID\n",
    "\n",
    "Gene set or pathway analysis requires that gene sets and expression data use the same type of gene ID\n",
    "(Entrez Gene ID, Gene symbol or probe set ID etc). However, this is frequently not true for the data we have.\n",
    "For example, our gene sets mostly use Entrez Gene ID, but microarray datasets are frequently labeled by probe\n",
    "set ID (or RefSeq transcript ID etc). Therefore, we need to convert or map the probe set IDs to Entrez gene ID.\n",
    "Here, we will use `GSE48350` dataset that we have used in the previous section for demonstration of gene ID mapping.\n",
    "In order to know what kind of probe set ID, we need to navigate to GEO record page of `GSE48350`. Under the `Platform`\n",
    "tab, we can find the probe ID information.\n",
    "![probID](./images/Module1/ProbeID.png)"
   ],
   "metadata": {
    "collapsed": false
   }
  },
  {
   "cell_type": "markdown",
   "source": [
    "From the record page, we know that the dataset was generated from 1 platform using Affymetrix Human Genome U133 Plus 2.0 Array.\n",
    "To convert or map the probe set IDs to Entrez gene ID, we need to find the corresponding annotation package from\n",
    "<a href=\"https://bioconductor.org/\">Bioconductor</a>. For analyzed data, we need to use the `hgu133plus2.db` and `AnnotationDbi` databases.\n",
    "We can install the package using following R command:"
   ],
   "metadata": {
    "collapsed": false
   }
  },
  {
   "cell_type": "code",
   "execution_count": 4,
   "outputs": [
    {
     "name": "stdout",
     "output_type": "stream",
     "text": [
      "package 'AnnotationDbi' successfully unpacked and MD5 sums checked\n",
      "\n",
      "The downloaded binary packages are in\n",
      "\tC:\\Users\\bangt\\AppData\\Local\\Temp\\RtmpeGxSGY\\downloaded_packages\n"
     ]
    }
   ],
   "source": [
    "suppressMessages({if (!require(\"BiocManager\", quietly = TRUE))\n",
    "    suppressWarnings(install.packages(\"BiocManager\"))\n",
    "    suppressWarnings(BiocManager::install(\"hgu133plus2.db\", update = F))\n",
    "    suppressWarnings(BiocManager::install(\"AnnotationDbi\", update = F))\n",
    "})"
   ],
   "metadata": {
    "collapsed": false
   }
  },
  {
   "cell_type": "markdown",
   "source": [
    "In the data processing section, we have successfully downloaded the dataset `GSE48350` and saved it to the `data` sub-directory.\n",
    "Now we can load the dataset and check for the Probe Set ID names by using the following command."
   ],
   "metadata": {
    "collapsed": false
   }
  },
  {
   "cell_type": "code",
   "execution_count": null,
   "outputs": [],
   "source": [
    "data = readRDS(\"./data/GSE48350.rds\")\n",
    "expression_data = data$expression_data\n",
    "probeIDs = rownames(expression_data)\n",
    "head(probeIDs)"
   ],
   "metadata": {
    "collapsed": false
   }
  },
  {
   "cell_type": "markdown",
   "source": [
    "## Mapping probe IDs into gene identifiers and symbols.\n",
    "For pathway analysis, the database like Gene Ontology and KEGG use gene symbol annotation. Therefore, Probe set IDs should be mapped to gene symbol to be used in the later module. We can use the pre-annotated databases which are available from Bioconductor to map the probe IDs to the gene symbol. `AnnotationDbi` is an R package that provides an interface for connecting and querying various annotation databases using SQLite data storage while `hgu133plus2.db` is database to perform Probe IDs to gene symbol mapping for human data. We can use the following command to"
   ],
   "metadata": {
    "collapsed": false
   }
  },
  {
   "cell_type": "code",
   "execution_count": 1,
   "outputs": [],
   "source": [
    "suppressMessages({\n",
    "  library(hgu133plus2.db)\n",
    "  library(AnnotationDbi)\n",
    "})"
   ],
   "metadata": {
    "collapsed": false
   }
  },
  {
   "cell_type": "code",
   "execution_count": 2,
   "outputs": [
    {
     "ename": "ERROR",
     "evalue": "Error in .testForValidKeys(x, keys, keytype, fks): object 'probeIDs' not found\n",
     "output_type": "error",
     "traceback": [
      "Error in .testForValidKeys(x, keys, keytype, fks): object 'probeIDs' not found\nTraceback:\n",
      "1. suppressMessages({\n .     annotLookup <- AnnotationDbi::select(hgu133plus2.db, keys = probeIDs, \n .         columns = c(\"PROBEID\", \"GENENAME\", \"SYMBOL\"))\n . })",
      "2. withCallingHandlers(expr, message = function(c) if (inherits(c, \n .     classes)) tryInvokeRestart(\"muffleMessage\"))",
      "3. AnnotationDbi::select(hgu133plus2.db, keys = probeIDs, columns = c(\"PROBEID\", \n .     \"GENENAME\", \"SYMBOL\"))   # at line 2 of file <text>",
      "4. AnnotationDbi::select(hgu133plus2.db, keys = probeIDs, columns = c(\"PROBEID\", \n .     \"GENENAME\", \"SYMBOL\"))",
      "5. .select(x, keys, columns, keytype, jointype = \"probes.probe_id\", \n .     ...)",
      "6. testSelectArgs(x, keys = keys, cols = cols, keytype = keytype, \n .     fks = fks, skipValidKeysTest = skipValidKeysTest)",
      "7. .testForValidKeys(x, keys, keytype, fks)"
     ]
    }
   ],
   "source": [
    "suppressMessages({\n",
    "annotLookup <- AnnotationDbi::select(hgu133plus2.db, keys = probeIDs, columns = c('PROBEID','GENENAME','SYMBOL'))\n",
    "})"
   ],
   "metadata": {
    "collapsed": false
   }
  },
  {
   "cell_type": "code",
   "execution_count": null,
   "outputs": [],
   "source": [
    "head(annotLookup)"
   ],
   "metadata": {
    "collapsed": false
   }
  },
  {
   "cell_type": "markdown",
   "source": [
    "We can check the number of probe IDs that mapped to the unique gene symbols using the following command:"
   ],
   "metadata": {
    "collapsed": false
   }
  },
  {
   "cell_type": "code",
   "execution_count": null,
   "outputs": [],
   "source": [
    "# Check number of the probe IDs\n",
    "print(paste0(\"There are \",length(unique(annotLookup$PROBEID)),\" probe IDs that mapped to \",length(unique(annotLookup$SYMBOL)),\" gene symbols\"))"
   ],
   "metadata": {
    "collapsed": false
   }
  },
  {
   "cell_type": "markdown",
   "source": [
    "From the lookup table we can spot that a single gene symbol can be mapped to multiple probe IDs.\n",
    "Depending on analysis performed, users can select their own probe IDs mapped to the gene of interest.\n"
   ],
   "metadata": {
    "collapsed": false
   }
  }
 ],
 "metadata": {
  "environment": {
   "kernel": "ir",
   "name": "r-cpu.4-1.m93",
   "type": "gcloud",
   "uri": "gcr.io/deeplearning-platform-release/r-cpu.4-1:m93"
  },
  "kernelspec": {
   "display_name": "R",
   "language": "R",
   "name": "ir"
  },
  "language_info": {
   "codemirror_mode": "r",
   "file_extension": ".r",
   "mimetype": "text/x-r-source",
   "name": "R",
   "pygments_lexer": "r",
   "version": "4.2.0"
  },
  "toc-showcode": true
 },
 "nbformat": 4,
 "nbformat_minor": 5
}
