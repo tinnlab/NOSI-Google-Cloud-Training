{
 "cells": [
  {
   "cell_type": "markdown",
   "id": "d3716dad",
   "metadata": {},
   "source": [
    "# Meta Analysis\n",
    "![](./images/Module5/Module5.jpg)\n",
    "Meta pathway analysis using multiple omics data is a rapidly emerging field in bioinformatics and systems biology that allows for the integration of diverse omics data from genomics, transcriptomics, proteomics, metabolomics, and other molecular biology disciplines. By integrating multiple omics data, meta pathway analysis aims to provide a comprehensive understanding of the cellular functions and molecular mechanisms underlying biological processes in a given organism. This approach offers a powerful means to investigate the complex interplay between genes, proteins, and metabolites in different biological contexts, such as disease states or environmental conditions. Moreover, meta pathway analysis can identify key regulatory pathways and molecular signatures that are critical for the development of targeted therapeutics and precision medicine. Overall, the integration of multiple omics data through meta pathway analysis has the potential to reveal new insights into the underlying biology of complex diseases and to guide the development of personalized treatments. In this module we will demonstrate the power of meta analysis to find the significant pathways for Alzheimer and Parkinson diseases.\n",
    "\n",
    "## Learning Objectives:\n",
    "1. Downloading processed data\n",
    "2. Performing enrichment analysis using FGSEA and plotting results\n",
    "3. Performing meta-analysis and plotting results"
   ]
  },
  {
   "cell_type": "markdown",
   "source": [
    "## Loading datasets\n",
    "In this sub-moodule 5 we will use datasets available from the Gene Expression Omnibus (GEO) repository. The datasets analyzed for Alzheimer disease is available under accession number `GSE5281`. This dataset contains genes that are preferentially expressed during the course of Alzheimer’s disease (AD) collected from 5 different brain regions: 1) entorhinal cortex (EC) 2) hippocampus (HIP) 3) medial temporal gyrus (MTG) 4) posterior cingulate 5) superior frontal gyrus and 6) primary visual cortex. In this sub-moodule, we will perform analysis using data generated from EC, HIP, and MTG.\n",
    "\n",
    "The datasets analyzed for Parkinson disease is available under accession numbers `GSE99039` and `GSE20292`. The first dataset contains 558 blood-based gene signature characterizing Idiopathic Parkinson's disease while the second dataset has 29 transcriptional analysis of whole substantia nigra in Parkinson's disease. Users can follow instruction provided in sub-module 1 and 2 to download and perform genes ID mapping. In this sub-moduule, we will load the preprocessed data store in the course's Google bucket to perform analysis. The code to load all datasets is presented as follows:"
   ],
   "metadata": {
    "collapsed": false
   }
  },
  {
   "cell_type": "code",
   "execution_count": 26,
   "outputs": [],
   "source": [
    "# A vector to store all data IDs\n",
    "data.IDs <- c(\"GSE5281-EC\", \"GSE5281-HIP\", \"GSE5281-MTG\", \"GSE99039\", \"GSE20292\")\n",
    "# A loop to read data information and store into a list\n",
    "allData <- lapply(data.IDs, function(id){\n",
    "  f <- paste0( \"https://storage.googleapis.com/nosi-unr-data/\", id, \".rds\")\n",
    "  if (!file.exists(f)) return(readRDS(url(f), \"rb\"))\n",
    "  return(NULL)\n",
    "})"
   ],
   "metadata": {
    "collapsed": false
   }
  },
  {
   "cell_type": "markdown",
   "id": "722ce8e2",
   "metadata": {},
   "source": [
    "## Installing required libraries\n",
    "In this module we will install several libraries to perform enrichment analysis, meta analysis and visualization. We will install package `fgsea` to perform enrichment analysis. For visualization purpose, we will use `ggpubr` and `cowplot`. `ggpubr` provides a range of functions that enable users to create publication-ready plots, including barplots, box-plots, scatter plots, histograms, and heatmaps. `cowplot` provides ability to create custom layouts for complex multi-panel figures. The package includes functions for arranging plots in a grid, as well as for adding margins, padding, and labels. The package also includes features for aligning plots, adjusting font sizes and colors, and exporting plots to different file formats. To perform meta analysis, we will use `meta` R package which provides functions for conducting fixed-effect and random-effects meta-analyses, as well as for conducting sensitivity analyses, subgroup analyses, and meta-regression analyses. The package also provides tools for assessing the heterogeneity of the studies included in the analysis and for creating forest plots to visualize the results. Lastly, packages include `stringr` and `matrixStats` provide utility function to manipulate input matrices. The package `fgsea` can be download from Bioconductor while other packages can be installed from CRAN. The code to install all packages are presented below:"
   ]
  },
  {
   "cell_type": "code",
   "execution_count": 27,
   "outputs": [
    {
     "name": "stderr",
     "output_type": "stream",
     "text": [
      "Warning message:\n",
      "\"package 'BiocManager' was built under R version 4.2.2\"\n"
     ]
    }
   ],
   "source": [
    "suppressMessages({if (!require(\"BiocManager\", quietly = TRUE))\n",
    "    suppressWarnings(install.packages(\"BiocManager\"))\n",
    "    suppressWarnings(if (!require(\"fgsea\")) BiocManager::install(\"fgsea\", update = F))\n",
    "})"
   ],
   "metadata": {
    "collapsed": false
   }
  },
  {
   "cell_type": "code",
   "execution_count": 28,
   "outputs": [],
   "source": [
    "suppressMessages({\n",
    "  # Installing all packages\n",
    "  suppressWarnings(if (!require(\"stringr\")) install.packages(\"stringr\"))\n",
    "  suppressWarnings(if (!require(\"meta\")) install.packages(\"meta\"))\n",
    "  suppressWarnings(if (!require(\"matrixStats\")) install.packages(\"matrixStats\"))\n",
    "  suppressWarnings(if (!require(\"cowplot\")) install.packages(\"cowplot\"))\n",
    "  suppressWarnings(if (!require(\"ggpubr\")) install.packages(\"ggpubr\"))\n",
    "  suppressWarnings(if (!require(\"dplyr\")) install.packages(\"dplyr\"))\n",
    "  suppressWarnings(if (!require(\"tidyr\")) install.packages(\"tidyr\"))\n",
    "\n",
    "  # Loading all packages\n",
    "  suppressPackageStartupMessages({library(fgsea)})\n",
    "  suppressPackageStartupMessages({library(stringr)})\n",
    "  suppressPackageStartupMessages({library(meta)})\n",
    "  suppressPackageStartupMessages({library(matrixStats)})\n",
    "  suppressPackageStartupMessages({library(cowplot)})\n",
    "  suppressPackageStartupMessages({library(ggpubr)})\n",
    "  suppressPackageStartupMessages({library(dplyr)})\n",
    "  suppressPackageStartupMessages({library(tidyr)})\n",
    "})"
   ],
   "metadata": {
    "collapsed": false
   }
  },
  {
   "cell_type": "markdown",
   "source": [
    "## Utility functions\n",
    "To perform enrichment analysis we will need a helper function to obtain pathway information from KEGG database. The `getKEGGGeneSet` shown below will access to KEGG database and download all the genesets for all the human pathways. The result will be stored in a list.\n"
   ],
   "metadata": {
    "collapsed": false
   }
  },
  {
   "cell_type": "code",
   "execution_count": 29,
   "outputs": [],
   "source": [
    "getKEGGGeneSet <- function(org){\n",
    "  # Get data from KEGG database and save to a data frame\n",
    "  geneLink <- read.table(paste0(\"https://rest.kegg.jp/link/\", org, \"/pathway\"),\n",
    "                         sep = \"\\t\", header = F,\n",
    "                         stringsAsFactors = F);\n",
    "  # Name the data columns\n",
    "  colnames(geneLink) <- c(\"geneset\", \"gene\")\n",
    "\n",
    "  # Get genes for each geneset and store result in a list\n",
    "  geneLink <- geneLink %>%\n",
    "           group_by(geneset) %>%\n",
    "          group_split() %>%\n",
    "          lapply(function(dat){\n",
    "    list(\n",
    "      name = dat$geneset[1] %>% as.character(),\n",
    "      genes = dat$gene %>% as.character()\n",
    "    )\n",
    "  })\n",
    "\n",
    "  names(geneLink) <- geneLink %>% lapply(function(gl) gl$name)\n",
    "  geneLink <- geneLink %>% lapply(function(gl) gl$genes)\n",
    "\n",
    "  keeps <- geneLink %>% lapply(length) %>% unlist() %>% `>=`(5) %>% which() %>% names()\n",
    "  geneLink <- geneLink[keeps]\n",
    "  return(geneLink)\n",
    "}"
   ],
   "metadata": {
    "collapsed": false
   }
  },
  {
   "cell_type": "markdown",
   "source": [
    "## Enrichment analysis using FGSEA\n",
    "In this section we will perform enrichment analysis using `fgsea` method for all methods.\n",
    "FGSEA is an extension of the widely used Gene Set Enrichment Analysis (GSEA) method, which computes an enrichment score for each gene set by comparing the distribution of genes in the set with the distribution of all genes. FGSEA, on the other hand, uses a fast algorithm to estimate the p-value for each gene set, based on the empirical distribution of the enrichment score obtained by permuting the gene labels in the ranked list.\n",
    "\n",
    "The basic steps in performing FGSEA are as follows:\n",
    "\n",
    "1. Rank the genes according to a certain metric, such as gene expression or differential expression.\n",
    "2. Define a set of genes of interest, such as a pathway or a gene ontology term.\n",
    "3. Compute the enrichment score for each gene set based on the ranks of its member genes in the ranked list.\n",
    "4. Generate a null distribution of enrichment scores by permuting the gene labels in the ranked list.\n",
    "5. Compute the p-value for each gene set by comparing its observed enrichment score with the null distribution.\n",
    "6. Correct for multiple testing, for example, by using the false discovery rate (FDR) or the Bonferroni method.\n",
    "\n",
    "To run the method `fgsea` we use permutation of 1,000 and signal to noise (SNR) is set to the ratio of differences of mean and standard deviation between control and disease groups."
   ],
   "metadata": {
    "collapsed": false
   }
  },
  {
   "cell_type": "code",
   "execution_count": 30,
   "outputs": [],
   "source": [
    "# Assign names to all datasets\n",
    "names(allData) <- data.IDs\n",
    "# Remove empty dataset\n",
    "allData <- allData[!sapply(allData, is.null)]\n",
    "# Get all human geneset\n",
    "geneSet <- getKEGGGeneSet(\"hsa\")\n",
    "# Get uniuqte geneset\n",
    "genes <- unique(unlist(geneSet))\n",
    "# Parameter to set number of permutation\n",
    "perm <- 1000"
   ],
   "metadata": {
    "collapsed": false
   }
  },
  {
   "cell_type": "code",
   "execution_count": 31,
   "outputs": [
    {
     "name": "stdout",
     "output_type": "stream",
     "text": [
      "[1] \"The number of pathways is: 346\"\n"
     ]
    }
   ],
   "source": [
    "print(paste0(\"The number of pathways is: \", length(geneSet)))"
   ],
   "metadata": {
    "collapsed": false
   }
  },
  {
   "cell_type": "markdown",
   "source": [
    "We can view the names of of the first 10 pathways using the following command:\n"
   ],
   "metadata": {
    "collapsed": false
   }
  },
  {
   "cell_type": "code",
   "execution_count": 32,
   "outputs": [
    {
     "data": {
      "text/html": "<style>\n.list-inline {list-style: none; margin:0; padding: 0}\n.list-inline>li {display: inline-block}\n.list-inline>li:not(:last-child)::after {content: \"\\00b7\"; padding: 0 .5ex}\n</style>\n<ol class=list-inline><li>'path:hsa00010'</li><li>'path:hsa00020'</li><li>'path:hsa00030'</li><li>'path:hsa00040'</li><li>'path:hsa00051'</li><li>'path:hsa00052'</li><li>'path:hsa00053'</li><li>'path:hsa00061'</li><li>'path:hsa00062'</li><li>'path:hsa00071'</li></ol>\n",
      "text/markdown": "1. 'path:hsa00010'\n2. 'path:hsa00020'\n3. 'path:hsa00030'\n4. 'path:hsa00040'\n5. 'path:hsa00051'\n6. 'path:hsa00052'\n7. 'path:hsa00053'\n8. 'path:hsa00061'\n9. 'path:hsa00062'\n10. 'path:hsa00071'\n\n\n",
      "text/latex": "\\begin{enumerate*}\n\\item 'path:hsa00010'\n\\item 'path:hsa00020'\n\\item 'path:hsa00030'\n\\item 'path:hsa00040'\n\\item 'path:hsa00051'\n\\item 'path:hsa00052'\n\\item 'path:hsa00053'\n\\item 'path:hsa00061'\n\\item 'path:hsa00062'\n\\item 'path:hsa00071'\n\\end{enumerate*}\n",
      "text/plain": " [1] \"path:hsa00010\" \"path:hsa00020\" \"path:hsa00030\" \"path:hsa00040\"\n [5] \"path:hsa00051\" \"path:hsa00052\" \"path:hsa00053\" \"path:hsa00061\"\n [9] \"path:hsa00062\" \"path:hsa00071\""
     },
     "metadata": {},
     "output_type": "display_data"
    }
   ],
   "source": [
    "names(geneSet)[1:10]"
   ],
   "metadata": {
    "collapsed": false
   }
  },
  {
   "cell_type": "markdown",
   "source": [
    "We can view the name of first 10 genes of the first pathway using the following command:"
   ],
   "metadata": {
    "collapsed": false
   }
  },
  {
   "cell_type": "code",
   "execution_count": 33,
   "outputs": [
    {
     "data": {
      "text/html": "<style>\n.list-inline {list-style: none; margin:0; padding: 0}\n.list-inline>li {display: inline-block}\n.list-inline>li:not(:last-child)::after {content: \"\\00b7\"; padding: 0 .5ex}\n</style>\n<ol class=list-inline><li>'hsa:10327'</li><li>'hsa:124'</li><li>'hsa:125'</li><li>'hsa:126'</li><li>'hsa:127'</li><li>'hsa:128'</li><li>'hsa:130'</li><li>'hsa:130589'</li><li>'hsa:131'</li><li>'hsa:160287'</li></ol>\n",
      "text/markdown": "1. 'hsa:10327'\n2. 'hsa:124'\n3. 'hsa:125'\n4. 'hsa:126'\n5. 'hsa:127'\n6. 'hsa:128'\n7. 'hsa:130'\n8. 'hsa:130589'\n9. 'hsa:131'\n10. 'hsa:160287'\n\n\n",
      "text/latex": "\\begin{enumerate*}\n\\item 'hsa:10327'\n\\item 'hsa:124'\n\\item 'hsa:125'\n\\item 'hsa:126'\n\\item 'hsa:127'\n\\item 'hsa:128'\n\\item 'hsa:130'\n\\item 'hsa:130589'\n\\item 'hsa:131'\n\\item 'hsa:160287'\n\\end{enumerate*}\n",
      "text/plain": " [1] \"hsa:10327\"  \"hsa:124\"    \"hsa:125\"    \"hsa:126\"    \"hsa:127\"   \n [6] \"hsa:128\"    \"hsa:130\"    \"hsa:130589\" \"hsa:131\"    \"hsa:160287\""
     },
     "metadata": {},
     "output_type": "display_data"
    }
   ],
   "source": [
    "geneSet$`path:hsa00010`[1:10]"
   ],
   "metadata": {
    "collapsed": false
   }
  },
  {
   "cell_type": "markdown",
   "source": [
    "Now, we can perform enrichment analysis for all datasets using the following script"
   ],
   "metadata": {
    "collapsed": false
   }
  },
  {
   "cell_type": "code",
   "execution_count": 34,
   "outputs": [
    {
     "ename": "ERROR",
     "evalue": "Error in file(con, \"w\"): cannot open the connection\n",
     "output_type": "error",
     "traceback": [
      "Error in file(con, \"w\"): cannot open the connection\nTraceback:\n",
      "1. lapply(1:length(allData), function(iteration) {\n .     set.seed(iteration)\n .     data <- allData[[iteration]]\n .     data <- data[[1]]\n .     exprs <- data$expression\n .     group <- data$group\n .     annotation <- data$annotation\n .     exprs <- exprs[intersect(genes, rownames(exprs)), ]\n .     control.samples <- names(group[group == \"c\"])\n .     disease.samples <- names(group[group == \"d\"])\n .     exprs <- as.matrix(exprs)\n .     snr <- (rowMeans(exprs[, disease.samples]) - rowMeans(exprs[, \n .         control.samples]))/(rowSds(exprs[, disease.samples]) + \n .         rowSds(exprs[, control.samples]))\n .     res <- suppressWarnings(fgsea(pathways = geneSet, stats = snr, \n .         nperm = perm))\n .     res$pvals$sample.size <- ncol(exprs)\n .     list(id = names(allData)[iteration], data = data, res = res)\n . })",
      "2. FUN(X[[i]], ...)",
      "3. suppressWarnings(fgsea(pathways = geneSet, stats = snr, nperm = perm))   # at line 19-21 of file <text>",
      "4. withCallingHandlers(expr, warning = function(w) if (inherits(w, \n .     classes)) tryInvokeRestart(\"muffleWarning\"))",
      "5. fgsea(pathways = geneSet, stats = snr, nperm = perm)   # at line 19-21 of file <text>",
      "6. fgseaSimple(...)",
      "7. fgseaSimpleImpl(pathwayScores, pathwaysSizes, pathwaysFiltered, \n .     leadingEdges, permPerProc, seeds, m, stats, BPPARAM, scoreType)",
      "8. bplapply(seq_along(permPerProc), function(i) {\n .     nperm1 <- permPerProc[i]\n .     leEs <- rep(0, toKeepLength)\n .     geEs <- rep(0, toKeepLength)\n .     leZero <- rep(0, toKeepLength)\n .     geZero <- rep(0, toKeepLength)\n .     leZeroSum <- rep(0, toKeepLength)\n .     geZeroSum <- rep(0, toKeepLength)\n .     if (toKeepLength == 1) {\n .         set.seed(seeds[i])\n .         for (j in seq_len(nperm1)) {\n .             randSample <- sample.int(length(universe), K)\n .             randEsP <- calcGseaStat(stats = stats, selectedStats = randSample, \n .                 gseaParam = 1, scoreType = scoreType)\n .             leEs <- leEs + (randEsP <= pathwayScores)\n .             geEs <- geEs + (randEsP >= pathwayScores)\n .             leZero <- leZero + (randEsP <= 0)\n .             geZero <- geZero + (randEsP >= 0)\n .             leZeroSum <- leZeroSum + pmin(randEsP, 0)\n .             geZeroSum <- geZeroSum + pmax(randEsP, 0)\n .         }\n .     }\n .     else {\n .         aux <- calcGseaStatCumulativeBatch(stats = stats, gseaParam = 1, \n .             pathwayScores = pathwayScores, pathwaysSizes = pathwaysSizes, \n .             iterations = nperm1, seed = seeds[i], scoreType = scoreType)\n .         leEs = get(\"leEs\", aux)\n .         geEs = get(\"geEs\", aux)\n .         leZero = get(\"leZero\", aux)\n .         geZero = get(\"geZero\", aux)\n .         leZeroSum = get(\"leZeroSum\", aux)\n .         geZeroSum = get(\"geZeroSum\", aux)\n .     }\n .     data.table(pathway = seq_len(toKeepLength), leEs = leEs, \n .         geEs = geEs, leZero = leZero, geZero = geZero, leZeroSum = leZeroSum, \n .         geZeroSum = geZeroSum)\n . }, BPPARAM = BPPARAM)",
      "9. bplapply(seq_along(permPerProc), function(i) {\n .     nperm1 <- permPerProc[i]\n .     leEs <- rep(0, toKeepLength)\n .     geEs <- rep(0, toKeepLength)\n .     leZero <- rep(0, toKeepLength)\n .     geZero <- rep(0, toKeepLength)\n .     leZeroSum <- rep(0, toKeepLength)\n .     geZeroSum <- rep(0, toKeepLength)\n .     if (toKeepLength == 1) {\n .         set.seed(seeds[i])\n .         for (j in seq_len(nperm1)) {\n .             randSample <- sample.int(length(universe), K)\n .             randEsP <- calcGseaStat(stats = stats, selectedStats = randSample, \n .                 gseaParam = 1, scoreType = scoreType)\n .             leEs <- leEs + (randEsP <= pathwayScores)\n .             geEs <- geEs + (randEsP >= pathwayScores)\n .             leZero <- leZero + (randEsP <= 0)\n .             geZero <- geZero + (randEsP >= 0)\n .             leZeroSum <- leZeroSum + pmin(randEsP, 0)\n .             geZeroSum <- geZeroSum + pmax(randEsP, 0)\n .         }\n .     }\n .     else {\n .         aux <- calcGseaStatCumulativeBatch(stats = stats, gseaParam = 1, \n .             pathwayScores = pathwayScores, pathwaysSizes = pathwaysSizes, \n .             iterations = nperm1, seed = seeds[i], scoreType = scoreType)\n .         leEs = get(\"leEs\", aux)\n .         geEs = get(\"geEs\", aux)\n .         leZero = get(\"leZero\", aux)\n .         geZero = get(\"geZero\", aux)\n .         leZeroSum = get(\"leZeroSum\", aux)\n .         geZeroSum = get(\"geZeroSum\", aux)\n .     }\n .     data.table(pathway = seq_len(toKeepLength), leEs = leEs, \n .         geEs = geEs, leZero = leZero, geZero = geZero, leZeroSum = leZeroSum, \n .         geZeroSum = geZeroSum)\n . }, BPPARAM = BPPARAM)",
      "10. .bpinit(manager = manager, X = X, FUN = FUN, ARGS = ARGS, BPPARAM = BPPARAM, \n  .     BPOPTIONS = BPOPTIONS, BPREDO = BPREDO)",
      "11. bpstart(BPPARAM)",
      "12. bpstart(BPPARAM)",
      "13. .local(x, ...)",
      "14. .bpstart_makeCluster(cargs)",
      "15. do.call(parallel::makeCluster, cargs)",
      "16. (function (spec, type = getClusterOption(\"type\"), ...) \n  . {\n  .     switch(type, PSOCK = makePSOCKcluster(names = spec, ...), \n  .         FORK = makeForkCluster(nnodes = spec, ...), SOCK = snow::makeSOCKcluster(names = spec, \n  .             ...), MPI = snow::makeMPIcluster(count = spec, ...), \n  .         stop(\"unknown cluster type\"))\n  . })(spec = 14L, type = \"SOCK\", snowlib = \"C:/Users/bangt/AppData/Local/R/win-library/4.2/BiocParallel\", \n  .     master = \"localhost\", port = 11807L)",
      "17. snow::makeSOCKcluster(names = spec, ...)",
      "18. newSOCKnode(names[[i]], options = options, rank = i)",
      "19. system(cmd, wait = FALSE, input = \"\")",
      "20. writeLines(input, f)",
      "21. file(con, \"w\")"
     ]
    }
   ],
   "source": [
    "allEnrichmentResult <- lapply(1:length(allData), function(iteration){\n",
    "  # Set seed for reproducibilty\n",
    "  set.seed(iteration)\n",
    "  # Get the data\n",
    "  data <- allData[[iteration]]\n",
    "  data <- data[[1]]\n",
    "  # Get expression matrix\n",
    "  exprs <- data$expression\n",
    "  # Get group informatioon (control vs disease)\n",
    "  group <- data$group\n",
    "  annotation <- data$annotation\n",
    "  exprs <- exprs[intersect(genes, rownames(exprs)), ]\n",
    "  control.samples <- names(group[group == \"c\"])\n",
    "  disease.samples <- names(group[group == \"d\"])\n",
    "  exprs <- as.matrix(exprs)\n",
    "  # Calculate signal to noise\n",
    "  snr <- (rowMeans(exprs[, disease.samples]) - rowMeans(exprs[, control.samples]))/(rowSds(exprs[, disease.samples]) + rowSds(exprs[, control.samples]))\n",
    "  # Perform enrichment analysis\n",
    "  res <- suppressWarnings(fgsea(pathways = geneSet,\n",
    "               stats = snr,\n",
    "               nperm=perm))\n",
    "\n",
    "  res$pvals$sample.size <- ncol(exprs)\n",
    "  # Store result in a list\n",
    "  list(\n",
    "    id = names(allData)[iteration],\n",
    "    data = data,\n",
    "    res = res\n",
    "  )\n",
    "})\n",
    "# Assign names using dataset ID for to the results\n",
    "names(allEnrichmentResult) <- names(allData)"
   ],
   "metadata": {
    "collapsed": false
   }
  },
  {
   "cell_type": "markdown",
   "source": [
    "We can view the enrichment analysis result for the first dataset using the following command"
   ],
   "metadata": {
    "collapsed": false
   }
  },
  {
   "cell_type": "code",
   "execution_count": null,
   "outputs": [],
   "source": [
    "allEnrichmentResult$`GSE5281-EC`$res[1:10,]"
   ],
   "metadata": {
    "collapsed": false
   }
  },
  {
   "cell_type": "code",
   "execution_count": null,
   "outputs": [],
   "source": [
    "plots.enrichment.data <- allEnrichmentResult %>% lapply(function(data){\n",
    "  plot.data <- data$res\n",
    "  rownames(plot.data) <- plot.data$pathway\n",
    "  plot.data$dataset <- data$id\n",
    "  plot.data$NES.sd = abs((plot.data$NES - ifelse(plot.data$NES > 0, 1, -1))/qnorm(plot.data$pval))\n",
    "\n",
    "  sd <- plot.data$NES.sd\n",
    "\n",
    "  sd[sd > 0.5] <- 0.5\n",
    "\n",
    "  plot.data$min <- plot.data$NES - sd*2\n",
    "  plot.data$max <- plot.data$NES + sd*2\n",
    "\n",
    "  plot.data$min[plot.data$min < -2.5] <- -2.5\n",
    "  plot.data$max[plot.data$max > 2.5] <- 2.5\n",
    "\n",
    "  # ES.df <- as.data.frame(do.call(cbind, data$res$NEs))\n",
    "\n",
    "  ES.df <- as.data.frame(data$res$ES)\n",
    "  rownames(ES.df) <- names(geneSet)\n",
    "\n",
    "  list(\n",
    "    id = data$id,\n",
    "    res = plot.data,\n",
    "    ES = ES.df\n",
    "  )\n",
    "})\n"
   ],
   "metadata": {
    "collapsed": false
   }
  },
  {
   "cell_type": "code",
   "execution_count": null,
   "outputs": [],
   "source": [
    "picked.pathways.names <- names(geneSet)[1:10]\n",
    "\n",
    "plts <- plots.enrichment.data %>% lapply(function(data){\n",
    "  name_plot <- data$id\n",
    "  plot.data <- data$res\n",
    "  plot.data <- plot.data %>%\n",
    "    filter(pathway %in% picked.pathways.names)\n",
    "\n",
    "  ggplot(plot.data, aes(y = pathway, x = NES, xmin = min, xmax = max)) +  theme_minimal() +\n",
    "    geom_vline(xintercept = c(-1,1), colour=\"#FA8072\", linetype = \"longdash\") +\n",
    "    geom_vline(xintercept = c(0), colour=\"black\", linetype = \"longdash\") +\n",
    "    geom_errorbarh(height=.1) + theme_bw() +\n",
    "    geom_point(size = 1, color = \"red\") +\n",
    "    theme(axis.title.y=element_blank(),\n",
    "          axis.text.y=element_blank(),\n",
    "          axis.ticks.y=element_blank(),\n",
    "          plot.margin = unit(c(5,5,5,5), \"pt\"),\n",
    "          panel.grid.major = element_blank(),\n",
    "          panel.grid.minor = element_blank(),\n",
    "          plot.title = element_text(hjust = 0.5, face = \"bold\", size = 12),\n",
    "          axis.text.x = element_text(face = \"bold\", size = 12),\n",
    "          axis.title.x = element_text(face = \"bold\", size = 12)) +\n",
    "    labs(x = \"NES\", title = name_plot) +\n",
    "    xlim(-2.5, 2.5)\n",
    "})\n",
    "\n",
    "\n",
    "gridExtra::grid.arrange(grobs = c(\n",
    "  list(\n",
    "    ggplot(plts[[1]]$data, aes(y = pathway, x = \"\")) +  labs(y = \"Pathway\", title = \"\", x = \"\") + theme_minimal() +\n",
    "      theme(panel.grid.major.x = element_blank(), plot.margin = unit(c(2,0,2,5), \"pt\"), axis.text = element_text(face = \"bold\", size = 12), axis.title.y = element_text(face = \"bold\", size = 12))\n",
    "  ),\n",
    "  plts\n",
    "), nrow = 1, widths = c(1, rep(1, length(plts))))\n"
   ],
   "metadata": {
    "collapsed": false
   }
  },
  {
   "cell_type": "markdown",
   "source": [
    "## Overlay of enrichment plots for datasets with the same disease (group)"
   ],
   "metadata": {
    "collapsed": false
   }
  },
  {
   "cell_type": "code",
   "execution_count": null,
   "outputs": [],
   "source": [
    "groups <- list(\n",
    "  \"ALZHEIMER\" = c(\"GSE5281-EC\", \"GSE5281-HIP\", \"GSE5281-MTG\"),\n",
    "  \"PARKINSON\" = c(\"GSE99039\", \"GSE20292\")\n",
    ")\n",
    "\n",
    "allCombinedData <- lapply(plots.enrichment.data, function(data) data$res)\n",
    "allCombinedData <- as.data.frame(do.call(rbind, allCombinedData))\n",
    "allCombinedData$disease <- \"NA\"\n",
    "\n",
    "\n",
    "for (cat in names(groups)){\n",
    "  allCombinedData$disease[allCombinedData$dataset %in% groups[[cat]]]  <- cat\n",
    "}\n",
    "\n",
    "allCombinedData <- allCombinedData %>% filter(pathway %in% picked.pathways.names)\n",
    "\n",
    "plts <- allCombinedData %>% group_by(disease) %>% group_split() %>% lapply(function(data){\n",
    "  data$pathway <- factor(data$pathway, levels = picked.pathways.names[length(picked.pathways.names):1])\n",
    "\n",
    "  ggplot(data, aes(x=NES, y=pathway, group=dataset, col=dataset, fill=dataset)) +\n",
    "    theme_minimal() +\n",
    "    geom_point(position = position_dodge(0.7)) +\n",
    "    geom_rect(\n",
    "      aes(\n",
    "        xmin=-Inf, xmax=Inf, ymin=as.numeric(pathway)-0.5, ymax=as.numeric(pathway)+0.5\n",
    "      ),\n",
    "      fill = ifelse((as.numeric(data$pathway)%%2 == 0), \"white\", \"#eeeeee\"),\n",
    "      color = \"white\"\n",
    "    ) +\n",
    "    geom_point(position = position_dodge(0.7)) +\n",
    "    geom_vline(xintercept = c(-1,1), colour=\"#FA8072\", linetype = \"longdash\") +\n",
    "    geom_vline(xintercept = c(0), colour=\"grey\", linetype = \"solid\") +\n",
    "    geom_errorbarh(height=.3, aes(xmin = min, xmax = max), position = position_dodge(0.7)) + theme_bw() +\n",
    "    xlim(-2.5, 2.5) +\n",
    "    theme(axis.title.y=element_blank(),\n",
    "          axis.text.y=element_blank(),\n",
    "          axis.ticks.y=element_blank(),\n",
    "          plot.margin = unit(c(5,5,5,5), \"pt\"),\n",
    "          panel.grid.major = element_blank(),\n",
    "          panel.grid.minor = element_blank(),\n",
    "          plot.title = element_text(hjust = 0.5, face = \"bold\", size = 12),\n",
    "          axis.text.x = element_text(face = \"bold\", size = 12),\n",
    "          axis.title.x = element_text(face = \"bold\", size = 12),\n",
    "          legend.position=\"top\",\n",
    "          legend.title = element_blank(),\n",
    "          legend.text = element_text(face = \"bold\", size = 10)) +\n",
    "    guides(color=guide_legend(ncol=1)) +\n",
    "    labs(title = data$disease[1])\n",
    "})\n",
    "\n",
    "\n",
    "\n",
    "plotsAllLegends <- list()\n",
    "plotsAllTitles <- list()\n",
    "\n",
    "for(j in 1:length(plts)){\n",
    "  p <- plts[[j]]\n",
    "  legendP <- get_legend(p)\n",
    "  titleP <- get_title(p)\n",
    "\n",
    "  plotsAllLegends[[j]] <- legendP\n",
    "  plotsAllTitles[[j]] <- titleP\n",
    "}\n",
    "\n",
    "\n",
    "plotsWithoutLegend <- lapply(plts, function(plt){\n",
    "  plt <- plt + theme(legend.position = \"none\", title = element_blank(), plot.title = element_blank())\n",
    "})\n",
    "\n",
    "gs_titles <- lapply(plotsAllTitles, function(p)\n",
    "  as_ggplot(p) + theme(\n",
    "    legend.margin=margin(c(0,0,0,0))))\n",
    "\n",
    "gs_legends <- lapply(plotsAllLegends, function(p)\n",
    "  as_ggplot(p) + theme(\n",
    "    legend.margin=margin(c(0,0,0,0))))\n",
    "\n",
    "listAll <- c(gs_titles, gs_legends, c(\n",
    "  list(\n",
    "    ggplot(plts[[1]]$data, aes(y = pathway, x = \"\")) +  labs(y = \"Pathway\", title = \"\", x = \"\") + theme_minimal() +\n",
    "      theme(panel.grid.major.x = element_blank(), plot.margin = unit(c(2,0,2,5), \"pt\"), axis.text = element_text(face = \"bold\", size = 12), axis.title.y = element_text(face = \"bold\", size = 12))\n",
    "  ),\n",
    "  plotsWithoutLegend\n",
    "))\n",
    "\n",
    "gridExtra::grid.arrange(\n",
    "  grobs = listAll,\n",
    "  widths = c(5, rep(8,2)),\n",
    "  heights = c(0.4, 1.1, 8),\n",
    "  layout_matrix = rbind(c(NA, rep(1:2)),\n",
    "                        c(NA, rep(3:4)),\n",
    "                        c(rep(5:7)))\n",
    ")\n"
   ],
   "metadata": {
    "collapsed": false
   }
  },
  {
   "cell_type": "markdown",
   "source": [
    "## Meta Analysis"
   ],
   "metadata": {
    "collapsed": false
   }
  },
  {
   "cell_type": "code",
   "execution_count": null,
   "outputs": [],
   "source": [
    "allCombinedData <- lapply(plots.enrichment.data, function(data) data$res)\n",
    "allCombinedData <- as.data.frame(do.call(rbind, allCombinedData))\n",
    "allCombinedData$disease <- \"NA\"\n",
    "\n",
    "for (cat in names(groups)){\n",
    "  allCombinedData$disease[allCombinedData$dataset %in% groups[[cat]]]  <- cat\n",
    "}\n",
    "\n",
    "#Performing meta analysis on groups of datasets with the same disease\n",
    "metaESRes <- allCombinedData %>% group_by(disease, pathway) %>% group_split() %>% lapply(function(data){\n",
    "  data <- drop_na(data)\n",
    "\n",
    "  res <- meta::metagen(data = data, studlab = pathway, TE = NES , seTE =NES.sd, sm = \"SMD\",\n",
    "                       n.e = NULL,\n",
    "                       #n.e = sample.size,\n",
    "                       method.tau = \"REML\",\n",
    "                       hakn = TRUE)\n",
    "\n",
    "\n",
    "  NES.combined <- res$TE.fixed\n",
    "  NES.combined.sd <- res$seTE.fixed\n",
    "\n",
    "  pval <- pnorm((ifelse(NES.combined > 0, 1, -1) - NES.combined)/NES.combined.sd)\n",
    "  if (NES.combined < 0) pval <- 1 - pval\n",
    "\n",
    "  data.frame(\n",
    "    disease = data$disease[1],\n",
    "    pathway = data$pathway[1],\n",
    "    NES.combined = NES.combined,\n",
    "    NES.combined.sd = NES.combined.sd,\n",
    "    pval.combined = pval,\n",
    "    count = nrow(data),\n",
    "    stringsAsFactors = F\n",
    "  )\n",
    "}) %>% do.call(what = rbind) %>% as.data.frame()\n",
    "\n",
    "#Computing adjusted meta p-values\n",
    "metaESRes <- metaESRes %>% group_by(disease) %>% group_split() %>% lapply(function(r){\n",
    "  r$p.fdr <- p.adjust(r$pval.combined, method = \"fdr\")\n",
    "  r\n",
    "}) %>% do.call(what = rbind)\n"
   ],
   "metadata": {
    "collapsed": false
   }
  },
  {
   "cell_type": "markdown",
   "source": [
    "## Plot meta analysis\n"
   ],
   "metadata": {
    "collapsed": false
   }
  },
  {
   "cell_type": "code",
   "execution_count": null,
   "outputs": [],
   "source": [
    "plts <- metaESRes %>% group_by(disease) %>% group_split() %>% lapply(function(plotDat){\n",
    "  plotDat <- data.frame(plotDat)\n",
    "  rownames(plotDat) <- plotDat$pathway\n",
    "  plotDat <- plotDat[picked.pathways.names, ]\n",
    "  plotDat$pathway <- factor(plotDat$pathway, levels = picked.pathways.names[length(picked.pathways.names):1])\n",
    "\n",
    "  sd <- plotDat$NES.combined.sd\n",
    "  sd[sd > 0.5] <- 0.5\n",
    "\n",
    "  plotDat$min <- plotDat$NES.combined - sd*2\n",
    "  plotDat$max <- plotDat$NES.combined + sd*2\n",
    "\n",
    "  plotDat$min[plotDat$min < -2.5] <- -2.5\n",
    "  plotDat$max[plotDat$max > 2.5] <- 2.5\n",
    "\n",
    "  ggplot(plotDat, aes(y = pathway, x = NES.combined, xmin=min, xmax = max)) +  theme_minimal() +\n",
    "    geom_vline(xintercept = c(-1,1), colour=\"#FA8072\", linetype = \"longdash\") +\n",
    "    geom_vline(xintercept = c(0), colour=\"black\", linetype = \"longdash\") +\n",
    "    geom_errorbarh(height=.1) + theme_bw() +\n",
    "    geom_point(size = 1, color = \"red\") +\n",
    "    theme(axis.title.y=element_blank(),\n",
    "          axis.text.y=element_blank(),\n",
    "          axis.ticks.y=element_blank(),\n",
    "          plot.margin = unit(c(5,5,5,5), \"pt\"),\n",
    "          panel.grid.major = element_blank(),\n",
    "          panel.grid.minor = element_blank(),\n",
    "          plot.title = element_text(hjust = 0.5, face = \"bold\", size = 12),\n",
    "          axis.text.x = element_text(face = \"bold\", size = 12),\n",
    "          axis.title.x = element_text(face = \"bold\", size = 12)) +\n",
    "    labs(x = \"NES\", title = paste0(plotDat$disease[1], \" (\",plotDat$count[1],\")\")) +\n",
    "    xlim(-2.5, 2.5)\n",
    "})\n",
    "\n",
    "gridExtra::grid.arrange(grobs = c(\n",
    "  list(\n",
    "    ggplot(plts[[1]]$data, aes(y = pathway, x = \"\")) +  labs(y = \"Pathway\", title = \"\", x = \"\") + theme_minimal() +\n",
    "      theme(panel.grid.major.x = element_blank(), plot.margin = unit(c(2,0,2,5), \"pt\"), axis.text = element_text(face = \"bold\", size = 12), axis.title.y = element_text(face = \"bold\", size = 12))\n",
    "  ),\n",
    "  plts\n",
    "), nrow = 1, widths = c(0.6, rep(1, length(plts))))\n"
   ],
   "metadata": {
    "collapsed": false
   }
  }
 ],
 "metadata": {
  "celltoolbar": "Tags",
  "environment": {
   "kernel": "ir",
   "name": "r-cpu.4-1.m93",
   "type": "gcloud",
   "uri": "gcr.io/deeplearning-platform-release/r-cpu.4-1:m93"
  },
  "kernelspec": {
   "display_name": "R",
   "language": "R",
   "name": "ir"
  },
  "language_info": {
   "codemirror_mode": "r",
   "file_extension": ".r",
   "mimetype": "text/x-r-source",
   "name": "R",
   "pygments_lexer": "r",
   "version": "4.2.2"
  },
  "toc-showcode": true,
  "widgets": {
   "application/vnd.jupyter.widget-state+json": {
    "state": {},
    "version_major": 2,
    "version_minor": 0
   }
  }
 },
 "nbformat": 4,
 "nbformat_minor": 5
}
