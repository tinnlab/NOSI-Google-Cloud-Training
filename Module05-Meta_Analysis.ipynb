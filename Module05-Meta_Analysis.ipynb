{
 "cells": [
  {
   "cell_type": "markdown",
   "id": "d3716dad",
   "metadata": {},
   "source": [
    "# Meta Analysis\n",
    "![](./images/Module5/Module5.jpg)\n",
    "Meta pathway analysis using multiple omics data is a rapidly emerging field in bioinformatics and systems biology that allows for the integration of diverse omics data from genomics, transcriptomics, proteomics, metabolomics, and other molecular biology disciplines. By integrating multiple omics data, meta pathway analysis aims to provide a comprehensive understanding of the cellular functions and molecular mechanisms underlying biological processes in a given organism. This approach offers a powerful means to investigate the complex interplay between genes, proteins, and metabolites in different biological contexts, such as disease states or environmental conditions. Moreover, meta pathway analysis can identify key regulatory pathways and molecular signatures that are critical for the development of targeted therapeutics and precision medicine. Overall, the integration of multiple omics data through meta pathway analysis has the potential to reveal new insights into the underlying biology of complex diseases and to guide the development of personalized treatments. In this module we will demonstrate the power of meta analysis to find the significant pathways for Alzheimer and Parkinson diseases.\n",
    "\n",
    "## Learning Objectives:\n",
    "1. Downloading processed data\n",
    "2. Performing enrichment analysis using FGSEA and plotting results\n",
    "3. Performing meta-analysis and plotting results"
   ]
  },
  {
   "cell_type": "markdown",
   "source": [
    "## Loading datasets\n",
    "In this sub-moodule 5 we will use datasets available from the Gene Expression Omnibus (GEO) repository. The datasets analyzed for Alzheimer disease is available under accession number `GSE5281`. This dataset contains genes that are preferentially expressed during the course of Alzheimer’s disease (AD) collected from 5 different brain regions: 1) entorhinal cortex (EC) 2) hippocampus (HIP) 3) medial temporal gyrus (MTG) 4) posterior cingulate 5) superior frontal gyrus and 6) primary visual cortex. In this sub-moodule, we will perform analysis using data generated from EC, HIP, and MTG.\n",
    "\n",
    "The datasets analyzed for Parkinson disease is available under accession numbers `GSE99039` and `GSE20292`. The first dataset contains 558 blood-based gene signature characterizing Idiopathic Parkinson's disease while the second dataset has 29 transcriptional analysis of whole substantia nigra in Parkinson's disease. Users can follow instruction provided in sub-module 1 and 2 to download and perform genes ID mapping. In this sub-moduule, we will load the preprocessed data store in the course's Google bucket to perform analysis. The code to load all datasets is presented as follows:"
   ],
   "metadata": {
    "collapsed": false
   }
  },
  {
   "cell_type": "code",
   "execution_count": 3,
   "outputs": [],
   "source": [
    "# A vector to store all data IDs\n",
    "data.IDs <- c(\"GSE5281-EC\", \"GSE5281-HIP\", \"GSE5281-MTG\", \"GSE99039\", \"GSE20292\")\n",
    "# A loop to read data information and store into a list\n",
    "allData <- lapply(data.IDs, function(id){\n",
    "  f <- paste0( \"https://storage.googleapis.com/nosi-unr-data/\", id, \".rds\")\n",
    "  if (!file.exists(f)) return(readRDS(url(f), \"rb\"))\n",
    "  return(NULL)\n",
    "})"
   ],
   "metadata": {
    "collapsed": false
   }
  },
  {
   "cell_type": "markdown",
   "id": "722ce8e2",
   "metadata": {},
   "source": [
    "## Installing required libraries\n",
    "In this module we will install several libraries to perform enrichment analysis, meta analysis and visualization. We will install package `fgsea` to perform enrichment analysis. For visualization purpose, we will use `ggpubr` and `cowplot`. `ggpubr` provides a range of functions that enable users to create publication-ready plots, including barplots, box-plots, scatter plots, histograms, and heatmaps. `cowplot` provides ability to create custom layouts for complex multi-panel figures. The package includes functions for arranging plots in a grid, as well as for adding margins, padding, and labels. The package also includes features for aligning plots, adjusting font sizes and colors, and exporting plots to different file formats. To perform meta analysis, we will use `meta` R package which provides functions for conducting fixed-effect and random-effects meta-analyses, as well as for conducting sensitivity analyses, subgroup analyses, and meta-regression analyses. The package also provides tools for assessing the heterogeneity of the studies included in the analysis and for creating forest plots to visualize the results. Lastly, packages include `stringr` and `matrixStats` provide utility function to manipulate input matrices. The package `fgsea` can be download from Bioconductor while other packages can be installed from CRAN. The code to install all packages are presented below:"
   ]
  },
  {
   "cell_type": "code",
   "execution_count": 87,
   "outputs": [],
   "source": [
    "suppressMessages({if (!require(\"BiocManager\", quietly = TRUE))\n",
    "    suppressWarnings(install.packages(\"BiocManager\"))\n",
    "    suppressWarnings(if (!require(\"fgsea\")) BiocManager::install(\"fgsea\", update = F))\n",
    "})"
   ],
   "metadata": {
    "collapsed": false
   }
  },
  {
   "cell_type": "code",
   "execution_count": 88,
   "outputs": [],
   "source": [
    "suppressMessages({\n",
    "  # Installing all packages\n",
    "  suppressWarnings(if (!require(\"stringr\")) install.packages(\"stringr\"))\n",
    "  suppressWarnings(if (!require(\"meta\")) install.packages(\"meta\"))\n",
    "  suppressWarnings(if (!require(\"matrixStats\")) install.packages(\"matrixStats\"))\n",
    "  suppressWarnings(if (!require(\"cowplot\")) install.packages(\"cowplot\"))\n",
    "  suppressWarnings(if (!require(\"ggpubr\")) install.packages(\"ggpubr\"))\n",
    "  suppressWarnings(if (!require(\"dplyr\")) install.packages(\"dplyr\"))\n",
    "  suppressWarnings(if (!require(\"tidyr\")) install.packages(\"tidyr\"))\n",
    "\n",
    "  # Loading all packages\n",
    "  suppressPackageStartupMessages({library(fgsea)})\n",
    "  suppressPackageStartupMessages({library(stringr)})\n",
    "  suppressPackageStartupMessages({library(meta)})\n",
    "  suppressPackageStartupMessages({library(matrixStats)})\n",
    "  suppressPackageStartupMessages({library(cowplot)})\n",
    "  suppressPackageStartupMessages({library(ggpubr)})\n",
    "  suppressPackageStartupMessages({library(dplyr)})\n",
    "  suppressPackageStartupMessages({library(tidyr)})\n",
    "})"
   ],
   "metadata": {
    "collapsed": false
   }
  },
  {
   "cell_type": "markdown",
   "source": [
    "## Utility functions\n",
    "To perform enrichment analysis we will need to write several helper function to obtain pathway information from KEGG database.\n"
   ],
   "metadata": {
    "collapsed": false
   }
  },
  {
   "cell_type": "code",
   "execution_count": 90,
   "outputs": [],
   "source": [
    "getKEGGPathway <- function(org){\n",
    "  suppressMessages({\n",
    "    if (!require(\"BiocManager\", quietly = TRUE))\n",
    "    suppressWarnings(install.packages(\"BiocManager\"))\n",
    "    suppressWarnings(BiocManager::install(\"ROntoTools\"))\n",
    "  })\n",
    "  keggPathway <- suppressMessages(ROntoTools::keggPathwayGraphs(organism = org,\n",
    "                                                                updateCache=!cache,\n",
    "                                                                verbose = FALSE,\n",
    "                                                                relPercThresh = 0))\n",
    "  return(keggPathway)\n",
    "}\n",
    "\n",
    "getKEGGGeneSet <- function(org){\n",
    "  geneLink <- read.table(paste0(\"https://rest.kegg.jp/link/\", org, \"/pathway\"),\n",
    "                         sep = \"\\t\", header = F,\n",
    "                         stringsAsFactors = F);\n",
    "  colnames(geneLink) <- c(\"geneset\", \"gene\")\n",
    "\n",
    "  geneLink <- geneLink %>%\n",
    "           group_by(geneset) %>%\n",
    "          group_split() %>%\n",
    "          lapply(function(dat){\n",
    "    list(\n",
    "      name = dat$geneset[1] %>% as.character(),\n",
    "      genes = dat$gene %>% as.character()\n",
    "    )\n",
    "  })\n",
    "\n",
    "  names(geneLink) <- geneLink %>% lapply(function(gl) gl$name)\n",
    "  geneLink <- geneLink %>% lapply(function(gl) gl$genes)\n",
    "\n",
    "  keeps <- geneLink %>% lapply(length) %>% unlist() %>% `>=`(5) %>% which() %>% names()\n",
    "  geneLink <- geneLink[keeps]\n",
    "  return(geneLink)\n",
    "}\n",
    "\n",
    "getKEGGPathwayName <- function(org){\n",
    "  gsNames <- read.table(paste0(\"https://rest.kegg.jp/list/pathway/\", org),\n",
    "                        sep = \"\\t\",\n",
    "                        header = F, stringsAsFactors = F);\n",
    "  id <- gsNames[, 1]\n",
    "  gsNames <- gsNames[,2]\n",
    "  names(gsNames) <- id\n",
    "  return(gsNames)\n",
    "}"
   ],
   "metadata": {
    "collapsed": false
   }
  },
  {
   "cell_type": "code",
   "execution_count": 91,
   "outputs": [],
   "source": [
    "names(allData) <- data.IDs\n",
    "allData <- allData[!sapply(allData, is.null)]\n",
    "geneSet <- getKEGGGeneSet(\"hsa\")\n",
    "genes <- unique(unlist(geneSet))\n",
    "perm <- 1000\n"
   ],
   "metadata": {
    "collapsed": false
   }
  },
  {
   "cell_type": "code",
   "execution_count": 93,
   "outputs": [],
   "source": [
    "allEnrichmentResult <- lapply(1:length(allData), function(iteration){\n",
    "  set.seed(iteration)\n",
    "  data <- allData[[iteration]]\n",
    "  data <- data[[1]]\n",
    "  exprs <- data$expression\n",
    "  group <- data$group\n",
    "  annotation <- data$annotation\n",
    "\n",
    "  exprs <- exprs[intersect(genes, rownames(exprs)), ]\n",
    "\n",
    "\n",
    "  control.samples <- names(group[group == \"c\"])\n",
    "  disease.samples <- names(group[group == \"d\"])\n",
    "\n",
    "  exprs <- as.matrix(exprs)\n",
    "  snr <- (rowMeans(exprs[, disease.samples]) - rowMeans(exprs[, control.samples]))/(rowSds(exprs[, disease.samples]) + rowSds(exprs[, control.samples]))\n",
    "\n",
    "  res <- suppressWarnings(fgsea(pathways = geneSet,\n",
    "               stats = snr,\n",
    "               nperm=perm))\n",
    "\n",
    "  res$pvals$sample.size <- ncol(exprs)\n",
    "\n",
    "  list(\n",
    "    id = names(allData)[iteration],\n",
    "    data = data,\n",
    "    res = res\n",
    "  )\n",
    "})\n"
   ],
   "metadata": {
    "collapsed": false
   }
  },
  {
   "cell_type": "code",
   "execution_count": 43,
   "outputs": [],
   "source": [
    "names(allEnrichmentResult) <- names(allData)\n"
   ],
   "metadata": {
    "collapsed": false
   }
  },
  {
   "cell_type": "code",
   "execution_count": 44,
   "outputs": [],
   "source": [
    "plots.enrichment.data <- allEnrichmentResult %>% lapply(function(data){\n",
    "  plot.data <- data$res\n",
    "  rownames(plot.data) <- plot.data$pathway\n",
    "  plot.data$dataset <- data$id\n",
    "  plot.data$NES.sd = abs((plot.data$NES - ifelse(plot.data$NES > 0, 1, -1))/qnorm(plot.data$pval))\n",
    "\n",
    "  sd <- plot.data$NES.sd\n",
    "\n",
    "  sd[sd > 0.5] <- 0.5\n",
    "\n",
    "  plot.data$min <- plot.data$NES - sd*2\n",
    "  plot.data$max <- plot.data$NES + sd*2\n",
    "\n",
    "  plot.data$min[plot.data$min < -2.5] <- -2.5\n",
    "  plot.data$max[plot.data$max > 2.5] <- 2.5\n",
    "\n",
    "  # ES.df <- as.data.frame(do.call(cbind, data$res$NEs))\n",
    "\n",
    "  ES.df <- as.data.frame(data$res$ES)\n",
    "  rownames(ES.df) <- names(geneSet)\n",
    "\n",
    "  list(\n",
    "    id = data$id,\n",
    "    res = plot.data,\n",
    "    ES = ES.df\n",
    "  )\n",
    "})\n"
   ],
   "metadata": {
    "collapsed": false
   }
  },
  {
   "cell_type": "code",
   "execution_count": 53,
   "outputs": [
    {
     "data": {
      "text/plain": "plot without title",
      "image/png": "[encoded data removed]"
     },
     "metadata": {
      "image/png": {
       "width": 420,
       "height": 420
      }
     },
     "output_type": "display_data"
    }
   ],
   "source": [
    "picked.pathways.names <- names(geneSet)[1:10]\n",
    "\n",
    "plts <- plots.enrichment.data %>% lapply(function(data){\n",
    "  name_plot <- data$id\n",
    "  plot.data <- data$res\n",
    "  plot.data <- plot.data %>%\n",
    "    filter(pathway %in% picked.pathways.names)\n",
    "\n",
    "  ggplot(plot.data, aes(y = pathway, x = NES, xmin = min, xmax = max)) +  theme_minimal() +\n",
    "    geom_vline(xintercept = c(-1,1), colour=\"#FA8072\", linetype = \"longdash\") +\n",
    "    geom_vline(xintercept = c(0), colour=\"black\", linetype = \"longdash\") +\n",
    "    geom_errorbarh(height=.1) + theme_bw() +\n",
    "    geom_point(size = 1, color = \"red\") +\n",
    "    theme(axis.title.y=element_blank(),\n",
    "          axis.text.y=element_blank(),\n",
    "          axis.ticks.y=element_blank(),\n",
    "          plot.margin = unit(c(5,5,5,5), \"pt\"),\n",
    "          panel.grid.major = element_blank(),\n",
    "          panel.grid.minor = element_blank(),\n",
    "          plot.title = element_text(hjust = 0.5, face = \"bold\", size = 12),\n",
    "          axis.text.x = element_text(face = \"bold\", size = 12),\n",
    "          axis.title.x = element_text(face = \"bold\", size = 12)) +\n",
    "    labs(x = \"NES\", title = name_plot) +\n",
    "    xlim(-2.5, 2.5)\n",
    "})\n",
    "\n",
    "\n",
    "gridExtra::grid.arrange(grobs = c(\n",
    "  list(\n",
    "    ggplot(plts[[1]]$data, aes(y = pathway, x = \"\")) +  labs(y = \"Pathway\", title = \"\", x = \"\") + theme_minimal() +\n",
    "      theme(panel.grid.major.x = element_blank(), plot.margin = unit(c(2,0,2,5), \"pt\"), axis.text = element_text(face = \"bold\", size = 12), axis.title.y = element_text(face = \"bold\", size = 12))\n",
    "  ),\n",
    "  plts\n",
    "), nrow = 1, widths = c(1, rep(1, length(plts))))\n"
   ],
   "metadata": {
    "collapsed": false
   }
  },
  {
   "cell_type": "markdown",
   "source": [
    "## Overlay of enrichment plots for datasets with the same disease (group)"
   ],
   "metadata": {
    "collapsed": false
   }
  },
  {
   "cell_type": "code",
   "execution_count": 54,
   "outputs": [
    {
     "data": {
      "text/plain": "plot without title",
      "image/png": "[encoded data removed]"
     },
     "metadata": {
      "image/png": {
       "width": 420,
       "height": 420
      }
     },
     "output_type": "display_data"
    }
   ],
   "source": [
    "groups <- list(\n",
    "  \"ALZHEIMER\" = c(\"GSE5281-EC\", \"GSE5281-HIP\", \"GSE5281-MTG\"),\n",
    "  \"PARKINSON\" = c(\"GSE99039\", \"GSE20292\")\n",
    ")\n",
    "\n",
    "allCombinedData <- lapply(plots.enrichment.data, function(data) data$res)\n",
    "allCombinedData <- as.data.frame(do.call(rbind, allCombinedData))\n",
    "allCombinedData$disease <- \"NA\"\n",
    "\n",
    "\n",
    "for (cat in names(groups)){\n",
    "  allCombinedData$disease[allCombinedData$dataset %in% groups[[cat]]]  <- cat\n",
    "}\n",
    "\n",
    "allCombinedData <- allCombinedData %>% filter(pathway %in% picked.pathways.names)\n",
    "\n",
    "plts <- allCombinedData %>% group_by(disease) %>% group_split() %>% lapply(function(data){\n",
    "  data$pathway <- factor(data$pathway, levels = picked.pathways.names[length(picked.pathways.names):1])\n",
    "\n",
    "  ggplot(data, aes(x=NES, y=pathway, group=dataset, col=dataset, fill=dataset)) +\n",
    "    theme_minimal() +\n",
    "    geom_point(position = position_dodge(0.7)) +\n",
    "    geom_rect(\n",
    "      aes(\n",
    "        xmin=-Inf, xmax=Inf, ymin=as.numeric(pathway)-0.5, ymax=as.numeric(pathway)+0.5\n",
    "      ),\n",
    "      fill = ifelse((as.numeric(data$pathway)%%2 == 0), \"white\", \"#eeeeee\"),\n",
    "      color = \"white\"\n",
    "    ) +\n",
    "    geom_point(position = position_dodge(0.7)) +\n",
    "    geom_vline(xintercept = c(-1,1), colour=\"#FA8072\", linetype = \"longdash\") +\n",
    "    geom_vline(xintercept = c(0), colour=\"grey\", linetype = \"solid\") +\n",
    "    geom_errorbarh(height=.3, aes(xmin = min, xmax = max), position = position_dodge(0.7)) + theme_bw() +\n",
    "    xlim(-2.5, 2.5) +\n",
    "    theme(axis.title.y=element_blank(),\n",
    "          axis.text.y=element_blank(),\n",
    "          axis.ticks.y=element_blank(),\n",
    "          plot.margin = unit(c(5,5,5,5), \"pt\"),\n",
    "          panel.grid.major = element_blank(),\n",
    "          panel.grid.minor = element_blank(),\n",
    "          plot.title = element_text(hjust = 0.5, face = \"bold\", size = 12),\n",
    "          axis.text.x = element_text(face = \"bold\", size = 12),\n",
    "          axis.title.x = element_text(face = \"bold\", size = 12),\n",
    "          legend.position=\"top\",\n",
    "          legend.title = element_blank(),\n",
    "          legend.text = element_text(face = \"bold\", size = 10)) +\n",
    "    guides(color=guide_legend(ncol=1)) +\n",
    "    labs(title = data$disease[1])\n",
    "})\n",
    "\n",
    "\n",
    "\n",
    "plotsAllLegends <- list()\n",
    "plotsAllTitles <- list()\n",
    "\n",
    "for(j in 1:length(plts)){\n",
    "  p <- plts[[j]]\n",
    "  legendP <- get_legend(p)\n",
    "  titleP <- get_title(p)\n",
    "\n",
    "  plotsAllLegends[[j]] <- legendP\n",
    "  plotsAllTitles[[j]] <- titleP\n",
    "}\n",
    "\n",
    "\n",
    "plotsWithoutLegend <- lapply(plts, function(plt){\n",
    "  plt <- plt + theme(legend.position = \"none\", title = element_blank(), plot.title = element_blank())\n",
    "})\n",
    "\n",
    "gs_titles <- lapply(plotsAllTitles, function(p)\n",
    "  as_ggplot(p) + theme(\n",
    "    legend.margin=margin(c(0,0,0,0))))\n",
    "\n",
    "gs_legends <- lapply(plotsAllLegends, function(p)\n",
    "  as_ggplot(p) + theme(\n",
    "    legend.margin=margin(c(0,0,0,0))))\n",
    "\n",
    "listAll <- c(gs_titles, gs_legends, c(\n",
    "  list(\n",
    "    ggplot(plts[[1]]$data, aes(y = pathway, x = \"\")) +  labs(y = \"Pathway\", title = \"\", x = \"\") + theme_minimal() +\n",
    "      theme(panel.grid.major.x = element_blank(), plot.margin = unit(c(2,0,2,5), \"pt\"), axis.text = element_text(face = \"bold\", size = 12), axis.title.y = element_text(face = \"bold\", size = 12))\n",
    "  ),\n",
    "  plotsWithoutLegend\n",
    "))\n",
    "\n",
    "gridExtra::grid.arrange(\n",
    "  grobs = listAll,\n",
    "  widths = c(5, rep(8,2)),\n",
    "  heights = c(0.4, 1.1, 8),\n",
    "  layout_matrix = rbind(c(NA, rep(1:2)),\n",
    "                        c(NA, rep(3:4)),\n",
    "                        c(rep(5:7)))\n",
    ")\n"
   ],
   "metadata": {
    "collapsed": false
   }
  },
  {
   "cell_type": "markdown",
   "source": [
    "## Meta Analysis"
   ],
   "metadata": {
    "collapsed": false
   }
  },
  {
   "cell_type": "code",
   "execution_count": 57,
   "outputs": [
    {
     "name": "stderr",
     "output_type": "stream",
     "text": [
      "Warning message:\n",
      "\"Zero values in seTE replaced by NAs.\"\n",
      "Warning message:\n",
      "\"Zero values in seTE replaced by NAs.\"\n",
      "Warning message:\n",
      "\"Zero values in seTE replaced by NAs.\"\n",
      "Warning message:\n",
      "\"Zero values in seTE replaced by NAs.\"\n",
      "Warning message:\n",
      "\"Zero values in seTE replaced by NAs.\"\n",
      "Warning message:\n",
      "\"Zero values in seTE replaced by NAs.\"\n",
      "Warning message:\n",
      "\"Zero values in seTE replaced by NAs.\"\n",
      "Warning message:\n",
      "\"Zero values in seTE replaced by NAs.\"\n"
     ]
    }
   ],
   "source": [
    "allCombinedData <- lapply(plots.enrichment.data, function(data) data$res)\n",
    "allCombinedData <- as.data.frame(do.call(rbind, allCombinedData))\n",
    "allCombinedData$disease <- \"NA\"\n",
    "\n",
    "for (cat in names(groups)){\n",
    "  allCombinedData$disease[allCombinedData$dataset %in% groups[[cat]]]  <- cat\n",
    "}\n",
    "\n",
    "#Performing meta analysis on groups of datasets with the same disease\n",
    "metaESRes <- allCombinedData %>% group_by(disease, pathway) %>% group_split() %>% lapply(function(data){\n",
    "  data <- drop_na(data)\n",
    "\n",
    "  res <- meta::metagen(data = data, studlab = pathway, TE = NES , seTE =NES.sd, sm = \"SMD\",\n",
    "                       n.e = NULL,\n",
    "                       #n.e = sample.size,\n",
    "                       method.tau = \"REML\",\n",
    "                       hakn = TRUE)\n",
    "\n",
    "\n",
    "  NES.combined <- res$TE.fixed\n",
    "  NES.combined.sd <- res$seTE.fixed\n",
    "\n",
    "  pval <- pnorm((ifelse(NES.combined > 0, 1, -1) - NES.combined)/NES.combined.sd)\n",
    "  if (NES.combined < 0) pval <- 1 - pval\n",
    "\n",
    "  data.frame(\n",
    "    disease = data$disease[1],\n",
    "    pathway = data$pathway[1],\n",
    "    NES.combined = NES.combined,\n",
    "    NES.combined.sd = NES.combined.sd,\n",
    "    pval.combined = pval,\n",
    "    count = nrow(data),\n",
    "    stringsAsFactors = F\n",
    "  )\n",
    "}) %>% do.call(what = rbind) %>% as.data.frame()\n",
    "\n",
    "#Computing adjusted meta p-values\n",
    "metaESRes <- metaESRes %>% group_by(disease) %>% group_split() %>% lapply(function(r){\n",
    "  r$p.fdr <- p.adjust(r$pval.combined, method = \"fdr\")\n",
    "  r\n",
    "}) %>% do.call(what = rbind)\n"
   ],
   "metadata": {
    "collapsed": false
   }
  },
  {
   "cell_type": "markdown",
   "source": [
    "## Plot meta analysis\n"
   ],
   "metadata": {
    "collapsed": false
   }
  },
  {
   "cell_type": "code",
   "execution_count": 58,
   "outputs": [
    {
     "data": {
      "text/plain": "plot without title",
      "image/png": "[encoded data removed]"
     },
     "metadata": {
      "image/png": {
       "width": 420,
       "height": 420
      }
     },
     "output_type": "display_data"
    }
   ],
   "source": [
    "plts <- metaESRes %>% group_by(disease) %>% group_split() %>% lapply(function(plotDat){\n",
    "  plotDat <- data.frame(plotDat)\n",
    "  rownames(plotDat) <- plotDat$pathway\n",
    "  plotDat <- plotDat[picked.pathways.names, ]\n",
    "  plotDat$pathway <- factor(plotDat$pathway, levels = picked.pathways.names[length(picked.pathways.names):1])\n",
    "\n",
    "  sd <- plotDat$NES.combined.sd\n",
    "  sd[sd > 0.5] <- 0.5\n",
    "\n",
    "  plotDat$min <- plotDat$NES.combined - sd*2\n",
    "  plotDat$max <- plotDat$NES.combined + sd*2\n",
    "\n",
    "  plotDat$min[plotDat$min < -2.5] <- -2.5\n",
    "  plotDat$max[plotDat$max > 2.5] <- 2.5\n",
    "\n",
    "  ggplot(plotDat, aes(y = pathway, x = NES.combined, xmin=min, xmax = max)) +  theme_minimal() +\n",
    "    geom_vline(xintercept = c(-1,1), colour=\"#FA8072\", linetype = \"longdash\") +\n",
    "    geom_vline(xintercept = c(0), colour=\"black\", linetype = \"longdash\") +\n",
    "    geom_errorbarh(height=.1) + theme_bw() +\n",
    "    geom_point(size = 1, color = \"red\") +\n",
    "    theme(axis.title.y=element_blank(),\n",
    "          axis.text.y=element_blank(),\n",
    "          axis.ticks.y=element_blank(),\n",
    "          plot.margin = unit(c(5,5,5,5), \"pt\"),\n",
    "          panel.grid.major = element_blank(),\n",
    "          panel.grid.minor = element_blank(),\n",
    "          plot.title = element_text(hjust = 0.5, face = \"bold\", size = 12),\n",
    "          axis.text.x = element_text(face = \"bold\", size = 12),\n",
    "          axis.title.x = element_text(face = \"bold\", size = 12)) +\n",
    "    labs(x = \"NES\", title = paste0(plotDat$disease[1], \" (\",plotDat$count[1],\")\")) +\n",
    "    xlim(-2.5, 2.5)\n",
    "})\n",
    "\n",
    "gridExtra::grid.arrange(grobs = c(\n",
    "  list(\n",
    "    ggplot(plts[[1]]$data, aes(y = pathway, x = \"\")) +  labs(y = \"Pathway\", title = \"\", x = \"\") + theme_minimal() +\n",
    "      theme(panel.grid.major.x = element_blank(), plot.margin = unit(c(2,0,2,5), \"pt\"), axis.text = element_text(face = \"bold\", size = 12), axis.title.y = element_text(face = \"bold\", size = 12))\n",
    "  ),\n",
    "  plts\n",
    "), nrow = 1, widths = c(0.6, rep(1, length(plts))))\n"
   ],
   "metadata": {
    "collapsed": false
   }
  }
 ],
 "metadata": {
  "celltoolbar": "Tags",
  "environment": {
   "kernel": "ir",
   "name": "r-cpu.4-1.m93",
   "type": "gcloud",
   "uri": "gcr.io/deeplearning-platform-release/r-cpu.4-1:m93"
  },
  "kernelspec": {
   "display_name": "R",
   "language": "R",
   "name": "ir"
  },
  "language_info": {
   "codemirror_mode": "r",
   "file_extension": ".r",
   "mimetype": "text/x-r-source",
   "name": "R",
   "pygments_lexer": "r",
   "version": "4.2.2"
  },
  "toc-showcode": true,
  "widgets": {
   "application/vnd.jupyter.widget-state+json": {
    "state": {},
    "version_major": 2,
    "version_minor": 0
   }
  }
 },
 "nbformat": 4,
 "nbformat_minor": 5
}
